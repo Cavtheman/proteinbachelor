{
 "cells": [
  {
   "cell_type": "code",
   "execution_count": null,
   "metadata": {},
   "outputs": [],
   "source": [
    "import torch\n",
    "import torch.nn as nn\n",
    "import torch.nn.functional as F\n",
    "import torch.optim as optim\n",
    "\n",
    "torch.manual_seed(1)\n",
    "\n",
    "import numpy as np\n",
    "import matplotlib.pyplot as plt\n",
    "import sys\n",
    "\n",
    "from Bio import SeqIO\n",
    "from datetime import datetime\n",
    "\n",
    "from torch.utils import data\n",
    "#from data_generator import data_generator\n",
    "from data_generator import Dataset\n",
    "from lstm import LSTM_model\n",
    "from lstm import LSTMCell\n",
    "from time import sleep\n",
    "\n",
    "import gc"
   ]
  },
  {
   "cell_type": "code",
   "execution_count": null,
   "metadata": {},
   "outputs": [],
   "source": [
    "\n",
    "acids = \"ACDEFGHIKLMNOPQRSTUVWY-\"\n",
    "large_file = \"uniref50.fasta\"\n",
    "small_file = \"100k_rows.fasta\"\n",
    "test_file = \"test.fasta\"\n",
    "\n",
    "max_seq_len = 2000\n",
    "\n",
    "batch_size = 32\n",
    "\n",
    "# Use Cuda if available\n",
    "use_cuda = torch.cuda.is_available() and True\n",
    "print(\"Using GPU:\", use_cuda)\n",
    "processor = torch.device(\"cuda:0\" if use_cuda else \"cpu\")\n",
    "torch.backends.cudnn.benchmark = True\n",
    "\n"
   ]
  },
  {
   "cell_type": "code",
   "execution_count": null,
   "metadata": {},
   "outputs": [],
   "source": [
    "class AE(nn.Module):\n",
    "    def __init__(self,input_size, output_size, latent_dim):\n",
    "        super(AE, self).__init__()\n",
    "        ### Encoder layers\n",
    "        self.fc_enc1 = nn.Linear(input_size, 256)\n",
    "        self.fc_enc2 = nn.Linear(256, 128)\n",
    "        self.fc_enc3 = nn.Linear(128, 64)\n",
    "        self.fc_enc4 = nn.Linear(64, 32)\n",
    "        self.fc_enc5 = nn.Linear(32, latent_dim) # Note we return 2*latent_dim\n",
    "        \n",
    "        ### Decoder layers\n",
    "        self.fc_dec1 = nn.Linear(latent_dim, 32)\n",
    "        self.fc_dec2 = nn.Linear(32,64)\n",
    "        self.fc_dec3 = nn.Linear(64,128)\n",
    "        self.fc_dec4 = nn.Linear(128,256)\n",
    "        self.fc_dec5 = nn.Linear(256,output_size)\n",
    "\n",
    "    def encode(self, x):\n",
    "        ### Using F.relu() to call the\n",
    "        ### rectified linear unit activation function\n",
    "\n",
    "        z1 = F.relu(self.fc_enc1(x))\n",
    "        z2 = F.relu(self.fc_enc2(z1))\n",
    "        z3 = F.relu(self.fc_enc3(z2))\n",
    "        z4 = F.relu(self.fc_enc4(z3))\n",
    "        z5 = self.fc_enc5(z4)\n",
    "        \n",
    "        return z5\n",
    "    \n",
    "    def decode(self, z):\n",
    "        xHat1 = F.relu(self.fc_dec1(z))\n",
    "        xHat2 = F.relu(self.fc_dec2(xHat1))\n",
    "        xHat3 = F.relu(self.fc_dec3(xHat2))\n",
    "        xHat4 = F.relu(self.fc_dec4(xHat3))\n",
    "        xHat5 = self.fc_dec5(xHat4)\n",
    "        \n",
    "        return torch.sigmoid(xHat5)\n",
    "\n",
    "    def forward(self, x):\n",
    "        ### Autoencoder returns the reconstruction \n",
    "        ### and latent representation\n",
    "        z = self.encode(x)\n",
    "        xHat = self.decode(z)\n",
    "        return xHat,z "
   ]
  },
  {
   "cell_type": "code",
   "execution_count": null,
   "metadata": {},
   "outputs": [],
   "source": [
    "dataset = Dataset(small_file, max_seq_len, acids=acids, int_version=True)\n",
    "base_generator = data.DataLoader(dataset, batch_size=batch_size, shuffle=True, num_workers=16)"
   ]
  },
  {
   "cell_type": "code",
   "execution_count": null,
   "metadata": {},
   "outputs": [],
   "source": [
    "print(\"starting\")\n",
    "\n",
    "lr = 0.001\n",
    "epochs = 10\n",
    "\n",
    "AE_loss_list = []\n",
    "AE_model = AE(2000,2000, 2).to(processor)\n",
    "optimizer = optim.Adam(AE_model.parameters(), lr=lr)\n",
    "loss_function = nn.BCELoss().to(processor)\n",
    "\n",
    "for epoch in range(1, epochs + 1):\n",
    "    AE_model.train()\n",
    "    train_loss = 0\n",
    "    for batch_idx, (batch, labels, valid_elems) in enumerate(base_generator):\n",
    "        batch = batch.to(processor)\n",
    "        labels = labels.to(processor)\n",
    "        optimizer.zero_grad()\n",
    "        \n",
    "        xHat, z = AE_model(batch)\n",
    "        loss = loss_function(xHat, batch)\n",
    "        loss.backward()\n",
    "        train_loss += loss.item()\n",
    "        optimizer.step()\n",
    "        if batch_idx % 5 == 0:\n",
    "            print('Train Epoch: {} [{}/{} ({:.0f}%)]\\tLoss: {:.6f}'.format(\n",
    "                epoch, batch_idx * len(batch), len(base_generator.dataset),\n",
    "                100. * batch_idx / len(base_generator),\n",
    "                loss.item() / len(batch)))\n",
    "\n",
    "    print('====> Epoch: {} Average loss: {:.4f}'.format(\n",
    "          epoch, train_loss / len(base_generator.dataset)))\n",
    "    AE_loss_list.append(train_loss / len(base_generator.dataset))\n",
    " \n",
    "        "
   ]
  },
  {
   "cell_type": "code",
   "execution_count": null,
   "metadata": {},
   "outputs": [],
   "source": [
    "v plt.plot(list(range(len(AE_loss_list))),AE_loss_list)\n",
    "plt.title(\"Loss of AE model\")\n",
    "plt.show()"
   ]
  },
  {
   "cell_type": "markdown",
   "metadata": {},
   "source": [
    "# "
   ]
  }
 ],
 "metadata": {
  "kernelspec": {
   "display_name": "Python 3",
   "language": "python",
   "name": "python3"
  },
  "language_info": {
   "codemirror_mode": {
    "name": "ipython",
    "version": 3
   },
   "file_extension": ".py",
   "mimetype": "text/x-python",
   "name": "python",
   "nbconvert_exporter": "python",
   "pygments_lexer": "ipython3",
   "version": "3.7.4"
  }
 },
 "nbformat": 4,
 "nbformat_minor": 2
}
