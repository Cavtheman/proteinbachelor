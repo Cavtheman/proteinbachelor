{
 "cells": [
  {
   "cell_type": "code",
   "execution_count": null,
   "metadata": {
    "collapsed": false
   },
   "outputs": [],
   "source": [
    "import torch\n",
    "import torch.nn as nn\n",
    "import torch.nn.functional as F\n",
    "import torch.optim as optim\n",
    "\n",
    "torch.manual_seed(1)\n",
    "\n",
    "import numpy as np\n",
    "import matplotlib.pyplot as plt"
   ]
  },
  {
   "cell_type": "markdown",
   "metadata": {
    "collapsed": false
   },
   "source": [
    "### Code to generate data is taken from:\n",
    "https://github.com/pytorch/examples/tree/master/time_sequence_prediction"
   ]
  },
  {
   "cell_type": "code",
   "execution_count": null,
   "metadata": {
    "collapsed": false
   },
   "outputs": [],
   "source": [
    "np.random.seed(2)\n",
    "\n",
    "T = 20\n",
    "L = 1000\n",
    "N = 100\n",
    "\n",
    "x = np.empty((N, L, 1), 'int64')\n",
    "x[:,:,0] = np.array(range(L)) + np.random.randint(-4 * T, 4 * T, N).reshape(N, 1)\n",
    "data = torch.tensor(np.sin(x / 1.0 / T).astype('float64')).type('torch.FloatTensor')#, device='cuda')\n",
    "torch.save(data, open('traindata.pt', 'wb'))\n",
    "\n",
    "print(data.shape)\n",
    "#print(batches.shape)\n",
    "\n",
    "#print(data[0,0])\n",
    "#plt.plot(data[0])\n",
    "#plt.plot(data[1])\n",
    "plt.show()\n",
    "\n",
    "def to_batches(sequence, batch_size):\n",
    "    #print(sequence.size()[0])\n",
    "    #print(sequence.size()[1])\n",
    "    batches = sequence.view(sequence.size()[0], sequence.size()[1]//batch_size, batch_size, sequence.size()[2])\n",
    "    return batches\n",
    "    \n",
    "batches = to_batches(data,1)\n",
    "test = torch.tensor([[[1],[2],[3]],[[4],[5],[6]]])\n",
    "print(test)\n",
    "print(test.size())\n",
    "test_batches = to_batches(test,3)\n",
    "print(test_batches.size())\n",
    "print(batches.size())"
   ]
  },
  {
   "cell_type": "code",
   "execution_count": null,
   "metadata": {
    "collapsed": false,
    "scrolled": true
   },
   "outputs": [],
   "source": [
    "simple = nn.LSTM(1, 1, 1)\n",
    "#print(type(data[0]))\n",
    "#print(len(data[0]))\n",
    "temp = data[0]\n",
    "#print(type(temp[0]))\n",
    "\n",
    "\n",
    "test = [torch.Tensor([elem]) for elem in temp]\n",
    "\n",
    "def convert_data (data):\n",
    "    ret_val = []\n",
    "    for i in data:\n",
    "        temp = [torch.Tensor([elem]) for elem in i]\n",
    "        ret_val.append(torch.cat(temp).view(len(temp),1,-1))\n",
    "        \n",
    "    return ret_val\n",
    "\n",
    "#print(temp.size())\n",
    "#simple.train(data)\n",
    "h0 = torch.randn((1, 25, 1))#, device='cuda')\n",
    "c0 = torch.randn((1, 25, 1))#, device='cuda')\n",
    "epochs = 50\n",
    "for j in range(epochs):\n",
    "    for i in range(batches.size()[0]):\n",
    "        output, (h0 , c0) = simple(batches[i], (h0, c0))\n",
    "\n",
    "    \n",
    "#output,_ = simple(batches[0], (h0,c0))\n",
    "'''\n",
    "converted_data = convert_data(data)\n",
    "print(converted_data.size)\n",
    "for elem in converted_data:\n",
    "    output, (h0 , c0) = simple(elem, (h0, c0))\n",
    "'''\n",
    "print(\"output shape:\", output.size())\n",
    "\n",
    "#print(\"test\",output[0].float())\n",
    "\n",
    "#plt.scatter(range(1000),data[0])\n",
    "#plt.scatter(range(1000), output[:].detach().numpy())\n",
    "plt.plot(output.view(output.size()[0]*output.size()[1]).detach().numpy())\n",
    "plt.show()\n",
    "#plt.plot(output)\n",
    "#simple.forward(torch.Tensor(test))\n"
   ]
  },
  {
   "cell_type": "code",
   "execution_count": null,
   "metadata": {
    "collapsed": false
   },
   "outputs": [],
   "source": [
    "lstm = nn.LSTM(1, 1)  # Input dim is 3, output dim is 3\n",
    "inputs = [torch.randn(1, 1) for _ in range(5)]  # make a sequence of length 5\n",
    "print(inputs)\n",
    "\n",
    "# initialize the hidden state.\n",
    "hidden = (torch.randn(1, 1, 1),\n",
    "          torch.randn(1, 1, 1))\n",
    "for i in inputs:\n",
    "    # Step through the sequence one element at a time.\n",
    "    # after each step, hidden contains the hidden state.\n",
    "    out, hidden = lstm(i.view(1, 1, -1), hidden)\n",
    "\n",
    "# alternatively, we can do the entire sequence all at once.\n",
    "# the first value returned by LSTM is all of the hidden states throughout\n",
    "# the sequence. the second is just the most recent hidden state\n",
    "# (compare the last slice of \"out\" with \"hidden\" below, they are the same)\n",
    "# The reason for this is that:\n",
    "# \"out\" will give you access to all hidden states in the sequence\n",
    "# \"hidden\" will allow you to continue the sequence and backpropagate,\n",
    "# by passing it as an argument  to the lstm at a later time\n",
    "# Add the extra 2nd dimension\n",
    "print(type(inputs))\n",
    "inputs = torch.cat(inputs).view(len(inputs), 1, -1)\n",
    "print(inputs.size())\n",
    "hidden = (torch.randn(1, 1, 1), torch.randn(1, 1, 1))  # clean out hidden state\n",
    "out, hidden = lstm(inputs, hidden)\n",
    "\n",
    "print(out)\n",
    "print(hidden)"
   ]
  },
  {
   "cell_type": "code",
   "execution_count": null,
   "metadata": {
    "collapsed": false
   },
   "outputs": [],
   "source": [
    "def prepare_sequence(seq, to_ix):\n",
    "    idxs = [to_ix[w] for w in seq]\n",
    "    return torch.tensor(idxs, dtype=torch.long)\n",
    "\n",
    "\n",
    "training_data = [\n",
    "    (\"The dog ate the apple\".split(), [\"DET\", \"NN\", \"V\", \"DET\", \"NN\"]),\n",
    "    (\"Everybody read that book\".split(), [\"NN\", \"V\", \"DET\", \"NN\"])\n",
    "    ]\n",
    "\n",
    "\n",
    "word_to_ix = {}\n",
    "for sent, tags in training_data:\n",
    "    for word in sent:\n",
    "        if word not in word_to_ix:\n",
    "            word_to_ix[word] = len(word_to_ix)\n",
    "print(word_to_ix)\n",
    "tag_to_ix = {\"DET\": 0, \"NN\": 1, \"V\": 2}\n",
    "\n",
    "# These will usually be more like 32 or 64 dimensional.\n",
    "# We will keep them small, so we can see how the weights change as we train.\n",
    "EMBEDDING_DIM = 6\n",
    "HIDDEN_DIM = 6"
   ]
  },
  {
   "cell_type": "code",
   "execution_count": null,
   "metadata": {
    "collapsed": false
   },
   "outputs": [],
   "source": [
    "class LSTMTagger(nn.Module):\n",
    "\n",
    "    def __init__(self, embedding_dim, hidden_dim, vocab_size, tagset_size):\n",
    "        super(LSTMTagger, self).__init__()\n",
    "        self.hidden_dim = hidden_dim\n",
    "\n",
    "        self.word_embeddings = nn.Embedding(vocab_size, embedding_dim)\n",
    "\n",
    "        # The LSTM takes word embeddings as inputs, and outputs hidden states\n",
    "        # with dimensionality hidden_dim.\n",
    "        self.lstm = nn.LSTM(embedding_dim, hidden_dim)\n",
    "\n",
    "        # The linear layer that maps from hidden state space to tag space\n",
    "        self.hidden2tag = nn.Linear(hidden_dim, tagset_size)\n",
    "\n",
    "    def forward(self, sentence):\n",
    "        embeds = self.word_embeddings(sentence)\n",
    "        lstm_out, _ = self.lstm(embeds.view(len(sentence), 1, -1))\n",
    "        tag_space = self.hidden2tag(lstm_out.view(len(sentence), -1))\n",
    "        tag_scores = F.log_softmax(tag_space, dim=1)\n",
    "        return tag_scores"
   ]
  },
  {
   "cell_type": "code",
   "execution_count": null,
   "metadata": {
    "collapsed": false
   },
   "outputs": [],
   "source": [
    "model = LSTMTagger(EMBEDDING_DIM, HIDDEN_DIM, len(word_to_ix), len(tag_to_ix))\n",
    "loss_function = nn.NLLLoss()\n",
    "optimizer = optim.SGD(model.parameters(), lr=0.1)\n",
    "\n",
    "print(type(model.parameters()))\n",
    "# See what the scores are before training\n",
    "# Note that element i,j of the output is the score for tag j for word i.\n",
    "# Here we don't need to train, so the code is wrapped in torch.no_grad()\n",
    "with torch.no_grad():\n",
    "    inputs = prepare_sequence(training_data[0][0], word_to_ix)\n",
    "    tag_scores = model(inputs)\n",
    "    print(tag_scores)\n",
    "\n",
    "for epoch in range(300):  # again, normally you would NOT do 300 epochs, it is toy data\n",
    "    for sentence, tags in training_data:\n",
    "        # Step 1. Remember that Pytorch accumulates gradients.\n",
    "        # We need to clear them out before each instance\n",
    "        model.zero_grad()\n",
    "\n",
    "        # Step 2. Get our inputs ready for the network, that is, turn them into\n",
    "        # Tensors of word indices.\n",
    "        sentence_in = prepare_sequence(sentence, word_to_ix)\n",
    "        targets = prepare_sequence(tags, tag_to_ix)\n",
    "\n",
    "        # Step 3. Run our forward pass.\n",
    "        tag_scores = model(sentence_in)\n",
    "\n",
    "        # Step 4. Compute the loss, gradients, and update the parameters by\n",
    "        #  calling optimizer.step()\n",
    "        loss = loss_function(tag_scores, targets)\n",
    "        loss.backward()\n",
    "        optimizer.step()\n",
    "\n",
    "# See what the scores are after training\n",
    "with torch.no_grad():\n",
    "    inputs = prepare_sequence(training_data[0][0], word_to_ix)\n",
    "    tag_scores = model(inputs)\n",
    "\n",
    "    # The sentence is \"the dog ate the apple\".  i,j corresponds to score for tag j\n",
    "    # for word i. The predicted tag is the maximum scoring tag.\n",
    "    # Here, we can see the predicted sequence below is 0 1 2 0 1\n",
    "    # since 0 is index of the maximum value of row 1,\n",
    "    # 1 is the index of maximum value of row 2, etc.\n",
    "    # Which is DET NOUN VERB DET NOUN, the correct sequence!\n",
    "    print(tag_scores)"
   ]
  },
  {
   "cell_type": "code",
   "execution_count": null,
   "metadata": {
    "collapsed": false
   },
   "outputs": [],
   "source": []
  }
 ],
 "metadata": {
  "kernelspec": {
   "argv": [
    "/usr/bin/python3",
    "-m",
    "ipykernel_launcher",
    "-f",
    "{connection_file}"
   ],
   "display_name": "Python 3",
   "env": null,
   "interrupt_mode": "signal",
   "language": "python",
   "metadata": null,
   "name": "python3"
  },
  "language_info": {
   "codemirror_mode": {
    "name": "ipython",
    "version": 3
   },
   "file_extension": ".py",
   "mimetype": "text/x-python",
   "name": "python",
   "nbconvert_exporter": "python",
   "pygments_lexer": "ipython3",
   "version": "3.6.9"
  },
  "name": "Simple lstm Pytorch.ipynb"
 },
 "nbformat": 4,
 "nbformat_minor": 2
}
