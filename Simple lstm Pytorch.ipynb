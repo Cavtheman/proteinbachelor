{
 "cells": [
  {
   "cell_type": "code",
   "execution_count": null,
   "metadata": {},
   "outputs": [],
   "source": [
    "import torch\n",
    "import torch.autograd as autograd\n",
    "import torch.nn as nn\n",
    "import torch.nn.functional as F\n",
    "import torch.optim as optim\n",
    "from torch.autograd import Variable\n",
    "import numpy as np\n",
    "import matplotlib.pyplot as plt"
   ]
  },
  {
   "cell_type": "markdown",
   "metadata": {},
   "source": [
    "### Code to generate data is taken from:\n",
    "https://github.com/pytorch/examples/tree/master/time_sequence_prediction"
   ]
  },
  {
   "cell_type": "code",
   "execution_count": null,
   "metadata": {},
   "outputs": [],
   "source": [
    "np.random.seed(2)\n",
    "\n",
    "T = 20\n",
    "L = 1000\n",
    "N = 100\n",
    "\n",
    "x = np.empty((N, L), 'int64')\n",
    "x[:] = np.array(range(L)) + np.random.randint(-4 * T, 4 * T, N).reshape(N, 1)\n",
    "data = np.sin(x / 1.0 / T).astype('float64')\n",
    "torch.save(data, open('traindata.pt', 'wb'))\n",
    "print(data.shape)\n",
    "#print(data[0,0])\n",
    "plt.plot(data[0])\n",
    "#plt.plot(data[1])\n",
    "plt.show()\n",
    "\n",
    "def to_batches(data, batch_size):\n",
    "    print(data.shape)\n",
    "    batches = data.T.reshape((data.shape[1],data.shape[0]//batch_size,batch_size))\n",
    "    plt.plot(batches[:,0,0])\n",
    "    print(batches.shape)\n",
    "    \n",
    "to_batches(data, 25)"
   ]
  },
  {
   "cell_type": "code",
   "execution_count": null,
   "metadata": {},
   "outputs": [],
   "source": [
    "simple = nn.LSTM(1, 10, 1)\n",
    "\n",
    "#simple.train(data)\n",
    "h0 = Variable(torch.randn(1, 1, 20))\n",
    "c0 = Variable(torch.randn(1, 1, 20))\n",
    "print(h0)\n",
    "\n",
    "\n",
    "output, (hidden , cell) = simple(test, (h0, c0))\n",
    "#simple.forward(torch.Tensor(test))"
   ]
  },
  {
   "cell_type": "code",
   "execution_count": null,
   "metadata": {},
   "outputs": [],
   "source": [
    "import torch, ipdb\n",
    "import torch.autograd as autograd\n",
    "import torch.nn as nn\n",
    "import torch.nn.functional as F\n",
    "import torch.optim as optim\n",
    "from torch.autograd import Variable\n",
    "\n",
    "rnn = nn.LSTM(input_size=10, hidden_size=20, num_layers=2)\n",
    "input = Variable(torch.randn(5, 3, 10))\n",
    "h0 = Variable(torch.randn(2, 3, 20))\n",
    "c0 = Variable(torch.randn(2, 3, 20))\n",
    "output, hn = rnn(input, (h0, c0))"
   ]
  },
  {
   "cell_type": "code",
   "execution_count": null,
   "metadata": {},
   "outputs": [],
   "source": []
  }
 ],
 "metadata": {
  "kernelspec": {
   "display_name": "Python 3",
   "language": "python",
   "name": "python3"
  },
  "language_info": {
   "codemirror_mode": {
    "name": "ipython",
    "version": 3
   },
   "file_extension": ".py",
   "mimetype": "text/x-python",
   "name": "python",
   "nbconvert_exporter": "python",
   "pygments_lexer": "ipython3",
   "version": "3.6.9"
  }
 },
 "nbformat": 4,
 "nbformat_minor": 2
}
