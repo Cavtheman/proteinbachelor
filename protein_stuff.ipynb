{
 "cells": [
  {
   "cell_type": "code",
   "execution_count": 1,
   "metadata": {
    "colab": null,
    "colab_type": "code",
    "collapsed": false,
    "id": "pUVIpevFD2hz"
   },
   "outputs": [],
   "source": [
    "import torch\n",
    "import torch.nn as nn\n",
    "import torch.nn.utils.rnn as rnn\n",
    "import torch.nn.functional as F\n",
    "import torch.optim as optim\n",
    "\n",
    "import numpy as np\n",
    "import matplotlib.pyplot as plt\n",
    "import sys\n",
    "\n",
    "from Bio import SeqIO\n",
    "from datetime import datetime\n",
    "\n",
    "from torch.utils import data\n",
    "#from data_generator import data_generator\n",
    "from data_generator import Dataset\n",
    "from lstm import LSTM_model\n",
    "from lstm import LSTMCell\n",
    "from alpha_set import alpha_set\n",
    "from print_seq import print_seq"
   ]
  },
  {
   "cell_type": "code",
   "execution_count": 2,
   "metadata": {
    "collapsed": false
   },
   "outputs": [
    {
     "name": "stdout",
     "output_type": "stream",
     "text": [
      "Using GPU: True\n"
     ]
    }
   ],
   "source": [
    "#acids = \"abcdefghijklmnopqrstuvwxyz-\"\n",
    "acids = \"ACDEFGHIKLMNOPQRSTUVWY-\"\n",
    "large_file = \"uniref50.fasta\"\n",
    "small_file = \"100k_rows.fasta\"\n",
    "test_file = \"test.fasta\"\n",
    "\n",
    "#max_seq_len = 50\n",
    "#max_seq_len = 2000\n",
    "max_seq_len = 500\n",
    "\n",
    "# Good sizes: 16/700 or 32/400 on laptop\n",
    "# 32/1500 on desktop\n",
    "batch_size = 32\n",
    "hidden_dim = 400\n",
    "\n",
    "hidden_layers = 1\n",
    "\n",
    "# Use Cuda if available\n",
    "use_cuda = torch.cuda.is_available() and True\n",
    "print(\"Using GPU:\", use_cuda)\n",
    "processor = torch.device(\"cuda:0\" if use_cuda else \"cpu\")\n",
    "torch.backends.cudnn.benchmark = True\n",
    "\n",
    "\n",
    "# Initialising data generator\n",
    "dataset = Dataset(small_file, max_seq_len, acids=acids)\n",
    "#dataset = alpha_set(acids, max_seq_len, 3200)\n",
    "base_generator = data.DataLoader(dataset, batch_size=batch_size, shuffle=True)\n",
    "\n",
    "# Initialising for training\n",
    "model = LSTM_model(len(acids), hidden_dim, hidden_layers, max_seq_len, batch_size, processor).to(processor)\n",
    "loss_function = nn.CrossEntropyLoss(reduction=\"mean\").to(processor)\n",
    "optimiser = optim.SGD(model.parameters(), lr=5e-2, momentum=0.9, nesterov=True)\n",
    "\n",
    "# Best lr so far is 2e-2\n",
    "#optimiser = optim.Adam(model.parameters(), lr=5e-4, weight_decay=0.001)"
   ]
  },
  {
   "cell_type": "code",
   "execution_count": 3,
   "metadata": {
    "collapsed": false
   },
   "outputs": [
    {
     "name": "stdout",
     "output_type": "stream",
     "text": [
      "\r",
      "Batch: 1. Min loss: inf. Estimated time left: 0. Batches since improvement: 0.\n",
      "Input:\t torch.Size([500, 32, 23])\n",
      "Labels:\t torch.Size([32, 500])\n",
      "Valid:\t tensor([285, 219, 206, 471, 480,  89, 194,  13, 430, 148, 397, 402, 392, 104,\n",
      "        411, 303, 332, 100, 102, 233, 473,  94, 160, 288, 267, 181, 256, 409,\n",
      "        367, 290, 404, 440], device='cuda:0')\n",
      "Output:\t torch.Size([8940, 23])\n",
      "Hidden:\t torch.Size([8940, 400])\n"
     ]
    },
    {
     "name": "stdout",
     "output_type": "stream",
     "text": [
      "\r",
      "Batch: 2. Min loss: 3.13203. Estimated time left: 0:03:59.415345. Batches since improvement: 0."
     ]
    },
    {
     "name": "stdout",
     "output_type": "stream",
     "text": [
      "\r",
      "Batch: 3. Min loss: 3.13084. Estimated time left: 0:03:45.905284. Batches since improvement: 0."
     ]
    },
    {
     "name": "stdout",
     "output_type": "stream",
     "text": [
      "\r",
      "Batch: 4. Min loss: 3.12750. Estimated time left: 0:03:55.797479. Batches since improvement: 0."
     ]
    },
    {
     "name": "stdout",
     "output_type": "stream",
     "text": [
      "\r",
      "Batch: 5. Min loss: 3.12444. Estimated time left: 0:03:55.998216. Batches since improvement: 0."
     ]
    },
    {
     "name": "stdout",
     "output_type": "stream",
     "text": [
      "\r",
      "Batch: 6. Min loss: 3.11814. Estimated time left: 0:03:40.985520. Batches since improvement: 0."
     ]
    },
    {
     "name": "stdout",
     "output_type": "stream",
     "text": [
      "\r",
      "Batch: 7. Min loss: 3.11264. Estimated time left: 0:03:59.095766. Batches since improvement: 0."
     ]
    },
    {
     "name": "stdout",
     "output_type": "stream",
     "text": [
      "\r",
      "Batch: 8. Min loss: 3.10793. Estimated time left: 0:03:28.571706. Batches since improvement: 0."
     ]
    },
    {
     "name": "stdout",
     "output_type": "stream",
     "text": [
      "\r",
      "Batch: 9. Min loss: 3.10109. Estimated time left: 0:04:06.035840. Batches since improvement: 0."
     ]
    },
    {
     "name": "stdout",
     "output_type": "stream",
     "text": [
      "\r",
      "Batch: 10. Min loss: 3.09331. Estimated time left: 0:03:48.514690. Batches since improvement: 0."
     ]
    },
    {
     "name": "stdout",
     "output_type": "stream",
     "text": [
      "\r",
      "Batch: 11. Min loss: 3.08956. Estimated time left: 0:03:57.726720. Batches since improvement: 0."
     ]
    },
    {
     "name": "stdout",
     "output_type": "stream",
     "text": [
      "\r",
      "Batch: 12. Min loss: 3.07910. Estimated time left: 0:03:49.651734. Batches since improvement: 0."
     ]
    },
    {
     "name": "stdout",
     "output_type": "stream",
     "text": [
      "\r",
      "Batch: 13. Min loss: 3.07339. Estimated time left: 0:04:00.546384. Batches since improvement: 0."
     ]
    },
    {
     "name": "stdout",
     "output_type": "stream",
     "text": [
      "\r",
      "Batch: 14. Min loss: 3.06606. Estimated time left: 0:03:47.123505. Batches since improvement: 0."
     ]
    },
    {
     "name": "stdout",
     "output_type": "stream",
     "text": [
      "\r",
      "Batch: 15. Min loss: 3.06040. Estimated time left: 0:03:55.707244. Batches since improvement: 0."
     ]
    },
    {
     "name": "stdout",
     "output_type": "stream",
     "text": [
      "\r",
      "Batch: 16. Min loss: 3.05312. Estimated time left: 0:03:49.272540. Batches since improvement: 0."
     ]
    },
    {
     "name": "stdout",
     "output_type": "stream",
     "text": [
      "\r",
      "Batch: 17. Min loss: 3.04662. Estimated time left: 0:03:42.463704. Batches since improvement: 0."
     ]
    },
    {
     "name": "stdout",
     "output_type": "stream",
     "text": [
      "\r",
      "Batch: 18. Min loss: 3.03750. Estimated time left: 0:03:45.609313. Batches since improvement: 0."
     ]
    },
    {
     "name": "stdout",
     "output_type": "stream",
     "text": [
      "\r",
      "Batch: 19. Min loss: 3.03024. Estimated time left: 0:03:57.433852. Batches since improvement: 0."
     ]
    },
    {
     "name": "stdout",
     "output_type": "stream",
     "text": [
      "\r",
      "Batch: 20. Min loss: 3.02623. Estimated time left: 0:03:24.424704. Batches since improvement: 0."
     ]
    },
    {
     "name": "stdout",
     "output_type": "stream",
     "text": [
      "\r",
      "Batch: 21. Min loss: 3.01768. Estimated time left: 0:03:47.073840. Batches since improvement: 0."
     ]
    },
    {
     "name": "stdout",
     "output_type": "stream",
     "text": [
      "\r",
      "Batch: 22. Min loss: 3.01029. Estimated time left: 0:03:47.579319. Batches since improvement: 0."
     ]
    },
    {
     "name": "stdout",
     "output_type": "stream",
     "text": [
      "\r",
      "Batch: 23. Min loss: 3.00135. Estimated time left: 0:03:48.244662. Batches since improvement: 0."
     ]
    },
    {
     "name": "stdout",
     "output_type": "stream",
     "text": [
      "\r",
      "Batch: 24. Min loss: 2.99563. Estimated time left: 0:04:02.506055. Batches since improvement: 0."
     ]
    },
    {
     "name": "stdout",
     "output_type": "stream",
     "text": [
      "\r",
      "Batch: 25. Min loss: 2.99364. Estimated time left: 0:03:50.851328. Batches since improvement: 0."
     ]
    },
    {
     "name": "stdout",
     "output_type": "stream",
     "text": [
      "\r",
      "Batch: 26. Min loss: 2.98894. Estimated time left: 0:03:57.210675. Batches since improvement: 0."
     ]
    },
    {
     "name": "stdout",
     "output_type": "stream",
     "text": [
      "\r",
      "Batch: 27. Min loss: 2.97919. Estimated time left: 0:03:33.601122. Batches since improvement: 0."
     ]
    },
    {
     "name": "stdout",
     "output_type": "stream",
     "text": [
      "\r",
      "Batch: 28. Min loss: 2.97919. Estimated time left: 0:03:50.745004. Batches since improvement: 1."
     ]
    },
    {
     "name": "stdout",
     "output_type": "stream",
     "text": [
      "\r",
      "Batch: 29. Min loss: 2.96155. Estimated time left: 0:03:37.589976. Batches since improvement: 0."
     ]
    },
    {
     "name": "stdout",
     "output_type": "stream",
     "text": [
      "\r",
      "Batch: 30. Min loss: 2.95330. Estimated time left: 0:03:44.660270. Batches since improvement: 0."
     ]
    },
    {
     "name": "stdout",
     "output_type": "stream",
     "text": [
      "\r",
      "Batch: 31. Min loss: 2.95330. Estimated time left: 0:03:30.879940. Batches since improvement: 1."
     ]
    },
    {
     "name": "stdout",
     "output_type": "stream",
     "text": [
      "\r",
      "Batch: 32. Min loss: 2.95330. Estimated time left: 0:03:47.015382. Batches since improvement: 2."
     ]
    },
    {
     "name": "stdout",
     "output_type": "stream",
     "text": [
      "\r",
      "Batch: 33. Min loss: 2.94676. Estimated time left: 0:03:41.663288. Batches since improvement: 0."
     ]
    },
    {
     "name": "stdout",
     "output_type": "stream",
     "text": [
      "\r",
      "Batch: 34. Min loss: 2.93018. Estimated time left: 0:03:56.154938. Batches since improvement: 0."
     ]
    },
    {
     "name": "stdout",
     "output_type": "stream",
     "text": [
      "\r",
      "Batch: 35. Min loss: 2.93018. Estimated time left: 0:03:35.390952. Batches since improvement: 1."
     ]
    },
    {
     "name": "stdout",
     "output_type": "stream",
     "text": [
      "\r",
      "Batch: 36. Min loss: 2.92227. Estimated time left: 0:03:53.109260. Batches since improvement: 0."
     ]
    },
    {
     "name": "stdout",
     "output_type": "stream",
     "text": [
      "\r",
      "Batch: 37. Min loss: 2.92096. Estimated time left: 0:03:43.703912. Batches since improvement: 0."
     ]
    },
    {
     "name": "stdout",
     "output_type": "stream",
     "text": [
      "\r",
      "Batch: 38. Min loss: 2.92096. Estimated time left: 0:03:25.466643. Batches since improvement: 1."
     ]
    },
    {
     "name": "stdout",
     "output_type": "stream",
     "text": [
      "\r",
      "Batch: 39. Min loss: 2.91211. Estimated time left: 0:03:40.847302. Batches since improvement: 0."
     ]
    },
    {
     "name": "stdout",
     "output_type": "stream",
     "text": [
      "\r",
      "Batch: 40. Min loss: 2.91211. Estimated time left: 0:03:24.945743. Batches since improvement: 1."
     ]
    },
    {
     "name": "stdout",
     "output_type": "stream",
     "text": [
      "\r",
      "Batch: 41. Min loss: 2.91211. Estimated time left: 0:03:57.522240. Batches since improvement: 2."
     ]
    },
    {
     "name": "stdout",
     "output_type": "stream",
     "text": [
      "\r",
      "Batch: 42. Min loss: 2.89586. Estimated time left: 0:03:38.632820. Batches since improvement: 0."
     ]
    },
    {
     "name": "stdout",
     "output_type": "stream",
     "text": [
      "\r",
      "Batch: 43. Min loss: 2.89586. Estimated time left: 0:03:56.035872. Batches since improvement: 1."
     ]
    },
    {
     "name": "stdout",
     "output_type": "stream",
     "text": [
      "\r",
      "Batch: 44. Min loss: 2.89586. Estimated time left: 0:03:45.567771. Batches since improvement: 2."
     ]
    },
    {
     "name": "stdout",
     "output_type": "stream",
     "text": [
      "\r",
      "Batch: 45. Min loss: 2.89586. Estimated time left: 0:03:27.574368. Batches since improvement: 3."
     ]
    },
    {
     "name": "stdout",
     "output_type": "stream",
     "text": [
      "\r",
      "Batch: 46. Min loss: 2.88932. Estimated time left: 0:03:33.003200. Batches since improvement: 0."
     ]
    },
    {
     "name": "stdout",
     "output_type": "stream",
     "text": [
      "\r",
      "Batch: 47. Min loss: 2.86812. Estimated time left: 0:03:43.985844. Batches since improvement: 0."
     ]
    },
    {
     "name": "stdout",
     "output_type": "stream",
     "text": [
      "\r",
      "Batch: 48. Min loss: 2.86812. Estimated time left: 0:03:43.539492. Batches since improvement: 1."
     ]
    },
    {
     "name": "stdout",
     "output_type": "stream",
     "text": [
      "\r",
      "Batch: 49. Min loss: 2.86812. Estimated time left: 0:03:41.384744. Batches since improvement: 2."
     ]
    },
    {
     "name": "stdout",
     "output_type": "stream",
     "text": [
      "\r",
      "Batch: 50. Min loss: 2.86812. Estimated time left: 0:03:43.289094. Batches since improvement: 3."
     ]
    },
    {
     "name": "stdout",
     "output_type": "stream",
     "text": [
      "\r",
      "Batch: 51. Min loss: 2.86812. Estimated time left: 0:03:31.179300. Batches since improvement: 4."
     ]
    },
    {
     "name": "stdout",
     "output_type": "stream",
     "text": [
      "\r",
      "Batch: 52. Min loss: 2.86812. Estimated time left: 0:03:38.982699. Batches since improvement: 5."
     ]
    },
    {
     "name": "stdout",
     "output_type": "stream",
     "text": [
      "\r",
      "Batch: 53. Min loss: 2.86812. Estimated time left: 0:03:27.814872. Batches since improvement: 6."
     ]
    },
    {
     "name": "stdout",
     "output_type": "stream",
     "text": [
      "\r",
      "Batch: 54. Min loss: 2.86812. Estimated time left: 0:03:40.277882. Batches since improvement: 7."
     ]
    },
    {
     "name": "stdout",
     "output_type": "stream",
     "text": [
      "\r",
      "Batch: 55. Min loss: 2.85906. Estimated time left: 0:03:50.329242. Batches since improvement: 0."
     ]
    },
    {
     "name": "stdout",
     "output_type": "stream",
     "text": [
      "\r",
      "Batch: 56. Min loss: 2.85906. Estimated time left: 0:03:12.869775. Batches since improvement: 1."
     ]
    },
    {
     "name": "stdout",
     "output_type": "stream",
     "text": [
      "\r",
      "Batch: 57. Min loss: 2.85906. Estimated time left: 0:03:40.011472. Batches since improvement: 2."
     ]
    },
    {
     "name": "stdout",
     "output_type": "stream",
     "text": [
      "\r",
      "Batch: 58. Min loss: 2.85906. Estimated time left: 0:03:39.214495. Batches since improvement: 3."
     ]
    },
    {
     "name": "stdout",
     "output_type": "stream",
     "text": [
      "\r",
      "Batch: 59. Min loss: 2.85066. Estimated time left: 0:03:53.715852. Batches since improvement: 0."
     ]
    },
    {
     "name": "stdout",
     "output_type": "stream",
     "text": [
      "\r",
      "Batch: 60. Min loss: 2.84715. Estimated time left: 0:03:27.978879. Batches since improvement: 0."
     ]
    },
    {
     "name": "stdout",
     "output_type": "stream",
     "text": [
      "\r",
      "Batch: 61. Min loss: 2.84715. Estimated time left: 0:03:32.111940. Batches since improvement: 1."
     ]
    },
    {
     "name": "stdout",
     "output_type": "stream",
     "text": [
      "\r",
      "Batch: 62. Min loss: 2.84715. Estimated time left: 0:03:44.623824. Batches since improvement: 2."
     ]
    },
    {
     "name": "stdout",
     "output_type": "stream",
     "text": [
      "\r",
      "Batch: 63. Min loss: 2.84715. Estimated time left: 0:03:47.073854. Batches since improvement: 3."
     ]
    },
    {
     "name": "stdout",
     "output_type": "stream",
     "text": [
      "\r",
      "Batch: 64. Min loss: 2.83833. Estimated time left: 0:03:40.090056. Batches since improvement: 0."
     ]
    },
    {
     "name": "stdout",
     "output_type": "stream",
     "text": [
      "\r",
      "Batch: 65. Min loss: 2.83833. Estimated time left: 0:03:20.503368. Batches since improvement: 1."
     ]
    },
    {
     "name": "stdout",
     "output_type": "stream",
     "text": [
      "\r",
      "Batch: 66. Min loss: 2.83024. Estimated time left: 0:03:27.114655. Batches since improvement: 0."
     ]
    },
    {
     "name": "stdout",
     "output_type": "stream",
     "text": [
      "\r",
      "Batch: 67. Min loss: 2.83024. Estimated time left: 0:03:39.419016. Batches since improvement: 1."
     ]
    },
    {
     "name": "stdout",
     "output_type": "stream",
     "text": [
      "\r",
      "Batch: 68. Min loss: 2.83024. Estimated time left: 0:03:28.291317. Batches since improvement: 2."
     ]
    },
    {
     "name": "stdout",
     "output_type": "stream",
     "text": [
      "\r",
      "Batch: 69. Min loss: 2.83024. Estimated time left: 0:03:26.309384. Batches since improvement: 3."
     ]
    },
    {
     "name": "stdout",
     "output_type": "stream",
     "text": [
      "\r",
      "Batch: 70. Min loss: 2.82810. Estimated time left: 0:03:44.627956. Batches since improvement: 0."
     ]
    },
    {
     "name": "stdout",
     "output_type": "stream",
     "text": [
      "\r",
      "Batch: 71. Min loss: 2.82810. Estimated time left: 0:03:39.676230. Batches since improvement: 1."
     ]
    },
    {
     "name": "stdout",
     "output_type": "stream",
     "text": [
      "\r",
      "Batch: 72. Min loss: 2.82810. Estimated time left: 0:03:27.559038. Batches since improvement: 2."
     ]
    },
    {
     "name": "stdout",
     "output_type": "stream",
     "text": [
      "\r",
      "Batch: 73. Min loss: 2.82810. Estimated time left: 0:03:16.826016. Batches since improvement: 3."
     ]
    },
    {
     "name": "stdout",
     "output_type": "stream",
     "text": [
      "\r",
      "Batch: 74. Min loss: 2.82716. Estimated time left: 0:03:20.136519. Batches since improvement: 0."
     ]
    },
    {
     "name": "stdout",
     "output_type": "stream",
     "text": [
      "\r",
      "Batch: 75. Min loss: 2.82542. Estimated time left: 0:03:40.413928. Batches since improvement: 0."
     ]
    },
    {
     "name": "stdout",
     "output_type": "stream",
     "text": [
      "\r",
      "Batch: 76. Min loss: 2.81447. Estimated time left: 0:03:40.062125. Batches since improvement: 0."
     ]
    },
    {
     "name": "stdout",
     "output_type": "stream",
     "text": [
      "\r",
      "Batch: 77. Min loss: 2.81170. Estimated time left: 0:03:34.045524. Batches since improvement: 0."
     ]
    },
    {
     "name": "stdout",
     "output_type": "stream",
     "text": [
      "\r",
      "Batch: 78. Min loss: 2.80977. Estimated time left: 0:03:12.472267. Batches since improvement: 0."
     ]
    },
    {
     "name": "stdout",
     "output_type": "stream",
     "text": [
      "\r",
      "Batch: 79. Min loss: 2.80847. Estimated time left: 0:03:43.324074. Batches since improvement: 0."
     ]
    },
    {
     "name": "stdout",
     "output_type": "stream",
     "text": [
      "\r",
      "Batch: 80. Min loss: 2.79594. Estimated time left: 0:03:41.341167. Batches since improvement: 0."
     ]
    },
    {
     "name": "stdout",
     "output_type": "stream",
     "text": [
      "\r",
      "Batch: 81. Min loss: 2.79594. Estimated time left: 0:03:27.971520. Batches since improvement: 1."
     ]
    },
    {
     "name": "stdout",
     "output_type": "stream",
     "text": [
      "\r",
      "Batch: 82. Min loss: 2.79594. Estimated time left: 0:03:39.615268. Batches since improvement: 2."
     ]
    },
    {
     "name": "stdout",
     "output_type": "stream",
     "text": [
      "\r",
      "Batch: 83. Min loss: 2.79078. Estimated time left: 0:03:44.513424. Batches since improvement: 0."
     ]
    },
    {
     "name": "stdout",
     "output_type": "stream",
     "text": [
      "\r",
      "Batch: 84. Min loss: 2.79078. Estimated time left: 0:03:49.026252. Batches since improvement: 1."
     ]
    },
    {
     "name": "stdout",
     "output_type": "stream",
     "text": [
      "\r",
      "Batch: 85. Min loss: 2.79078. Estimated time left: 0:03:20.272408. Batches since improvement: 2."
     ]
    },
    {
     "name": "stdout",
     "output_type": "stream",
     "text": [
      "\r",
      "Batch: 86. Min loss: 2.79078. Estimated time left: 0:03:37.170675. Batches since improvement: 3."
     ]
    },
    {
     "name": "stdout",
     "output_type": "stream",
     "text": [
      "\r",
      "Batch: 87. Min loss: 2.76515. Estimated time left: 0:03:32.668606. Batches since improvement: 0."
     ]
    },
    {
     "name": "stdout",
     "output_type": "stream",
     "text": [
      "\r",
      "Batch: 88. Min loss: 2.76515. Estimated time left: 0:03:32.740869. Batches since improvement: 1."
     ]
    },
    {
     "name": "stdout",
     "output_type": "stream",
     "text": [
      "\r",
      "Batch: 89. Min loss: 2.76515. Estimated time left: 0:03:35.156304. Batches since improvement: 2."
     ]
    },
    {
     "name": "stdout",
     "output_type": "stream",
     "text": [
      "\r",
      "Batch: 90. Min loss: 2.76515. Estimated time left: 0:03:35.580862. Batches since improvement: 3."
     ]
    },
    {
     "name": "stdout",
     "output_type": "stream",
     "text": [
      "\r",
      "Batch: 91. Min loss: 2.76515. Estimated time left: 0:03:30.189980. Batches since improvement: 4."
     ]
    },
    {
     "name": "stdout",
     "output_type": "stream",
     "text": [
      "\r",
      "Batch: 92. Min loss: 2.76515. Estimated time left: 0:03:37.425528. Batches since improvement: 5."
     ]
    },
    {
     "name": "stdout",
     "output_type": "stream",
     "text": [
      "\r",
      "Batch: 93. Min loss: 2.76515. Estimated time left: 0:03:29.352112. Batches since improvement: 6."
     ]
    },
    {
     "name": "stdout",
     "output_type": "stream",
     "text": [
      "\r",
      "Batch: 94. Min loss: 2.76515. Estimated time left: 0:03:24.726226. Batches since improvement: 7."
     ]
    },
    {
     "name": "stdout",
     "output_type": "stream",
     "text": [
      "\r",
      "Batch: 95. Min loss: 2.76515. Estimated time left: 0:03:29.372070. Batches since improvement: 8."
     ]
    },
    {
     "name": "stdout",
     "output_type": "stream",
     "text": [
      "\r",
      "Batch: 96. Min loss: 2.76515. Estimated time left: 0:03:11.217450. Batches since improvement: 9."
     ]
    },
    {
     "name": "stdout",
     "output_type": "stream",
     "text": [
      "\r",
      "Batch: 97. Min loss: 2.76515. Estimated time left: 0:03:22.066600. Batches since improvement: 10."
     ]
    },
    {
     "name": "stdout",
     "output_type": "stream",
     "text": [
      "\r",
      "Batch: 98. Min loss: 2.76515. Estimated time left: 0:03:25.382835. Batches since improvement: 11."
     ]
    },
    {
     "name": "stdout",
     "output_type": "stream",
     "text": [
      "\r",
      "Batch: 99. Min loss: 2.75505. Estimated time left: 0:03:20.061796. Batches since improvement: 0."
     ]
    },
    {
     "name": "stdout",
     "output_type": "stream",
     "text": [
      "\r",
      "Batch: 100. Min loss: 2.75505. Estimated time left: 0:03:15.992728. Batches since improvement: 1."
     ]
    },
    {
     "name": "stdout",
     "output_type": "stream",
     "text": [
      "\r",
      "Batch: 101. Min loss: 2.75344. Estimated time left: 0:03:08.747100. Batches since improvement: 0."
     ]
    },
    {
     "name": "stdout",
     "output_type": "stream",
     "text": [
      "\r",
      "Batch: 102. Min loss: 2.74766. Estimated time left: 0:03:29.927288. Batches since improvement: 0."
     ]
    },
    {
     "name": "stdout",
     "output_type": "stream",
     "text": [
      "\r",
      "Batch: 103. Min loss: 2.74766. Estimated time left: 0:03:18.917776. Batches since improvement: 1."
     ]
    },
    {
     "name": "stdout",
     "output_type": "stream",
     "text": [
      "\r",
      "Batch: 104. Min loss: 2.74766. Estimated time left: 0:03:18.123081. Batches since improvement: 2."
     ]
    },
    {
     "name": "stdout",
     "output_type": "stream",
     "text": [
      "\r",
      "Batch: 105. Min loss: 2.74759. Estimated time left: 0:03:29.670272. Batches since improvement: 0."
     ]
    },
    {
     "name": "stdout",
     "output_type": "stream",
     "text": [
      "\r",
      "Batch: 106. Min loss: 2.74720. Estimated time left: 0:03:48.044210. Batches since improvement: 0."
     ]
    },
    {
     "name": "stdout",
     "output_type": "stream",
     "text": [
      "\r",
      "Batch: 107. Min loss: 2.73266. Estimated time left: 0:03:34.214022. Batches since improvement: 0."
     ]
    },
    {
     "name": "stdout",
     "output_type": "stream",
     "text": [
      "\r",
      "Batch: 108. Min loss: 2.73266. Estimated time left: 0:03:07.177265. Batches since improvement: 1."
     ]
    },
    {
     "name": "stdout",
     "output_type": "stream",
     "text": [
      "\r",
      "Batch: 109. Min loss: 2.73266. Estimated time left: 0:03:11.448176. Batches since improvement: 2."
     ]
    },
    {
     "name": "stdout",
     "output_type": "stream",
     "text": [
      "\r",
      "Batch: 110. Min loss: 2.73266. Estimated time left: 0:03:22.995639. Batches since improvement: 3."
     ]
    },
    {
     "name": "stdout",
     "output_type": "stream",
     "text": [
      "\r",
      "Batch: 111. Min loss: 2.72442. Estimated time left: 0:03:34.895840. Batches since improvement: 0."
     ]
    },
    {
     "name": "stdout",
     "output_type": "stream",
     "text": [
      "\r",
      "Batch: 112. Min loss: 2.72442. Estimated time left: 0:03:22.860021. Batches since improvement: 1."
     ]
    },
    {
     "name": "stdout",
     "output_type": "stream",
     "text": [
      "\r",
      "Batch: 113. Min loss: 2.71197. Estimated time left: 0:03:21.799776. Batches since improvement: 0."
     ]
    },
    {
     "name": "stdout",
     "output_type": "stream",
     "text": [
      "\r",
      "Batch: 114. Min loss: 2.71197. Estimated time left: 0:03:38.494710. Batches since improvement: 1."
     ]
    },
    {
     "name": "stdout",
     "output_type": "stream",
     "text": [
      "\r",
      "Batch: 115. Min loss: 2.71019. Estimated time left: 0:03:33.845846. Batches since improvement: 0."
     ]
    },
    {
     "name": "stdout",
     "output_type": "stream",
     "text": [
      "\r",
      "Batch: 116. Min loss: 2.71019. Estimated time left: 0:03:21.426000. Batches since improvement: 1."
     ]
    },
    {
     "name": "stdout",
     "output_type": "stream",
     "text": [
      "\r",
      "Batch: 117. Min loss: 2.70156. Estimated time left: 0:03:34.687356. Batches since improvement: 0."
     ]
    },
    {
     "name": "stdout",
     "output_type": "stream",
     "text": [
      "\r",
      "Batch: 118. Min loss: 2.70156. Estimated time left: 0:03:19.529744. Batches since improvement: 1."
     ]
    },
    {
     "name": "stdout",
     "output_type": "stream",
     "text": [
      "\r",
      "Batch: 119. Min loss: 2.69832. Estimated time left: 0:03:31.874040. Batches since improvement: 0."
     ]
    },
    {
     "name": "stdout",
     "output_type": "stream",
     "text": [
      "\r",
      "Batch: 120. Min loss: 2.69832. Estimated time left: 0:03:23.182387. Batches since improvement: 1."
     ]
    },
    {
     "name": "stdout",
     "output_type": "stream",
     "text": [
      "\r",
      "Batch: 121. Min loss: 2.69782. Estimated time left: 0:03:34.210480. Batches since improvement: 0."
     ]
    },
    {
     "name": "stdout",
     "output_type": "stream",
     "text": [
      "\r",
      "Batch: 122. Min loss: 2.69607. Estimated time left: 0:03:29.246829. Batches since improvement: 0."
     ]
    },
    {
     "name": "stdout",
     "output_type": "stream",
     "text": [
      "\r",
      "Batch: 123. Min loss: 2.69607. Estimated time left: 0:03:19.770462. Batches since improvement: 1."
     ]
    },
    {
     "name": "stdout",
     "output_type": "stream",
     "text": [
      "\r",
      "Batch: 124. Min loss: 2.68829. Estimated time left: 0:03:14.507199. Batches since improvement: 0."
     ]
    },
    {
     "name": "stdout",
     "output_type": "stream",
     "text": [
      "\r",
      "Batch: 125. Min loss: 2.68441. Estimated time left: 0:03:15.549480. Batches since improvement: 0."
     ]
    },
    {
     "name": "stdout",
     "output_type": "stream",
     "text": [
      "\r",
      "Batch: 126. Min loss: 2.68441. Estimated time left: 0:03:26.026625. Batches since improvement: 1."
     ]
    },
    {
     "name": "stdout",
     "output_type": "stream",
     "text": [
      "\r",
      "Batch: 127. Min loss: 2.67375. Estimated time left: 0:03:30.011712. Batches since improvement: 0."
     ]
    },
    {
     "name": "stdout",
     "output_type": "stream",
     "text": [
      "\r",
      "Batch: 128. Min loss: 2.67375. Estimated time left: 0:03:08.702442. Batches since improvement: 1."
     ]
    },
    {
     "name": "stdout",
     "output_type": "stream",
     "text": [
      "\r",
      "Batch: 129. Min loss: 2.67375. Estimated time left: 0:03:16.759824. Batches since improvement: 2."
     ]
    },
    {
     "name": "stdout",
     "output_type": "stream",
     "text": [
      "\r",
      "Batch: 130. Min loss: 2.67375. Estimated time left: 0:03:18.109821. Batches since improvement: 3."
     ]
    },
    {
     "name": "stdout",
     "output_type": "stream",
     "text": [
      "\r",
      "Batch: 131. Min loss: 2.65896. Estimated time left: 0:03:31.809330. Batches since improvement: 0."
     ]
    },
    {
     "name": "stdout",
     "output_type": "stream",
     "text": [
      "\r",
      "Batch: 132. Min loss: 2.64403. Estimated time left: 0:03:11.823060. Batches since improvement: 0."
     ]
    },
    {
     "name": "stdout",
     "output_type": "stream",
     "text": [
      "\r",
      "Batch: 133. Min loss: 2.64403. Estimated time left: 0:03:24.798524. Batches since improvement: 1."
     ]
    },
    {
     "name": "stdout",
     "output_type": "stream",
     "text": [
      "\r",
      "Batch: 134. Min loss: 2.64403. Estimated time left: 0:03:22.512126. Batches since improvement: 2."
     ]
    },
    {
     "name": "stdout",
     "output_type": "stream",
     "text": [
      "\r",
      "Batch: 135. Min loss: 2.64403. Estimated time left: 0:03:18.473344. Batches since improvement: 3."
     ]
    },
    {
     "name": "stdout",
     "output_type": "stream",
     "text": [
      "\r",
      "Batch: 136. Min loss: 2.64143. Estimated time left: 0:03:24.024090. Batches since improvement: 0."
     ]
    },
    {
     "name": "stdout",
     "output_type": "stream",
     "text": [
      "\r",
      "Batch: 137. Min loss: 2.63969. Estimated time left: 0:03:16.325856. Batches since improvement: 0."
     ]
    },
    {
     "name": "stdout",
     "output_type": "stream",
     "text": [
      "\r",
      "Batch: 138. Min loss: 2.62358. Estimated time left: 0:03:17.016859. Batches since improvement: 0."
     ]
    },
    {
     "name": "stdout",
     "output_type": "stream",
     "text": [
      "\r",
      "Batch: 139. Min loss: 2.62070. Estimated time left: 0:03:20.308974. Batches since improvement: 0."
     ]
    },
    {
     "name": "stdout",
     "output_type": "stream",
     "text": [
      "\r",
      "Batch: 140. Min loss: 2.62070. Estimated time left: 0:03:21.199341. Batches since improvement: 1."
     ]
    },
    {
     "name": "stdout",
     "output_type": "stream",
     "text": [
      "\r",
      "Batch: 141. Min loss: 2.62070. Estimated time left: 0:03:21.334600. Batches since improvement: 2."
     ]
    },
    {
     "name": "stdout",
     "output_type": "stream",
     "text": [
      "\r",
      "Batch: 142. Min loss: 2.61431. Estimated time left: 0:03:15.189711. Batches since improvement: 0."
     ]
    },
    {
     "name": "stdout",
     "output_type": "stream",
     "text": [
      "\r",
      "Batch: 143. Min loss: 2.60979. Estimated time left: 0:03:18.778866. Batches since improvement: 0."
     ]
    },
    {
     "name": "stdout",
     "output_type": "stream",
     "text": [
      "\r",
      "Batch: 144. Min loss: 2.60495. Estimated time left: 0:03:11.173561. Batches since improvement: 0."
     ]
    },
    {
     "name": "stdout",
     "output_type": "stream",
     "text": [
      "\r",
      "Batch: 145. Min loss: 2.60495. Estimated time left: 0:03:18.621960. Batches since improvement: 1."
     ]
    },
    {
     "name": "stdout",
     "output_type": "stream",
     "text": [
      "\r",
      "Batch: 146. Min loss: 2.58065. Estimated time left: 0:03:21.826170. Batches since improvement: 0."
     ]
    },
    {
     "name": "stdout",
     "output_type": "stream",
     "text": [
      "\r",
      "Batch: 147. Min loss: 2.58065. Estimated time left: 0:03:22.863430. Batches since improvement: 1."
     ]
    },
    {
     "name": "stdout",
     "output_type": "stream",
     "text": [
      "\r",
      "Batch: 148. Min loss: 2.57269. Estimated time left: 0:03:22.241182. Batches since improvement: 0."
     ]
    },
    {
     "name": "stdout",
     "output_type": "stream",
     "text": [
      "\r",
      "Batch: 149. Min loss: 2.57269. Estimated time left: 0:02:58.932780. Batches since improvement: 1."
     ]
    },
    {
     "name": "stdout",
     "output_type": "stream",
     "text": [
      "\r",
      "Batch: 150. Min loss: 2.57256. Estimated time left: 0:03:29.583429. Batches since improvement: 0."
     ]
    },
    {
     "name": "stdout",
     "output_type": "stream",
     "text": [
      "\r",
      "Batch: 151. Min loss: 2.57256. Estimated time left: 0:03:16.074600. Batches since improvement: 1."
     ]
    },
    {
     "name": "stdout",
     "output_type": "stream",
     "text": [
      "\r",
      "Batch: 152. Min loss: 2.56543. Estimated time left: 0:03:20.233254. Batches since improvement: 0."
     ]
    },
    {
     "name": "stdout",
     "output_type": "stream",
     "text": [
      "\r",
      "Batch: 153. Min loss: 2.56543. Estimated time left: 0:03:13.051440. Batches since improvement: 1."
     ]
    },
    {
     "name": "stdout",
     "output_type": "stream",
     "text": [
      "\r",
      "Batch: 154. Min loss: 2.53966. Estimated time left: 0:03:04.788296. Batches since improvement: 0."
     ]
    },
    {
     "name": "stdout",
     "output_type": "stream",
     "text": [
      "\r",
      "Batch: 155. Min loss: 2.53966. Estimated time left: 0:03:18.262638. Batches since improvement: 1."
     ]
    },
    {
     "name": "stdout",
     "output_type": "stream",
     "text": [
      "\r",
      "Batch: 156. Min loss: 2.53966. Estimated time left: 0:03:21.256185. Batches since improvement: 2."
     ]
    },
    {
     "name": "stdout",
     "output_type": "stream",
     "text": [
      "\r",
      "Batch: 157. Min loss: 2.52856. Estimated time left: 0:03:17.353364. Batches since improvement: 0."
     ]
    },
    {
     "name": "stdout",
     "output_type": "stream",
     "text": [
      "\r",
      "Batch: 158. Min loss: 2.51101. Estimated time left: 0:03:25.675140. Batches since improvement: 0."
     ]
    },
    {
     "name": "stdout",
     "output_type": "stream",
     "text": [
      "\r",
      "Batch: 159. Min loss: 2.51101. Estimated time left: 0:03:20.230126. Batches since improvement: 1."
     ]
    },
    {
     "name": "stdout",
     "output_type": "stream",
     "text": [
      "\r",
      "Batch: 160. Min loss: 2.51101. Estimated time left: 0:03:15.377756. Batches since improvement: 2."
     ]
    },
    {
     "name": "stdout",
     "output_type": "stream",
     "text": [
      "\r",
      "Batch: 161. Min loss: 2.51101. Estimated time left: 0:03:12.355800. Batches since improvement: 3."
     ]
    },
    {
     "name": "stdout",
     "output_type": "stream",
     "text": [
      "\r",
      "Batch: 162. Min loss: 2.50370. Estimated time left: 0:03:22.667162. Batches since improvement: 0."
     ]
    },
    {
     "name": "stdout",
     "output_type": "stream",
     "text": [
      "\r",
      "Batch: 163. Min loss: 2.50370. Estimated time left: 0:02:53.466000. Batches since improvement: 1."
     ]
    },
    {
     "name": "stdout",
     "output_type": "stream",
     "text": [
      "\r",
      "Batch: 164. Min loss: 2.48953. Estimated time left: 0:03:11.390931. Batches since improvement: 0."
     ]
    },
    {
     "name": "stdout",
     "output_type": "stream",
     "text": [
      "\r",
      "Batch: 165. Min loss: 2.46875. Estimated time left: 0:03:12.981404. Batches since improvement: 0."
     ]
    },
    {
     "name": "stdout",
     "output_type": "stream",
     "text": [
      "\r",
      "Batch: 166. Min loss: 2.45448. Estimated time left: 0:02:59.140900. Batches since improvement: 0."
     ]
    },
    {
     "name": "stdout",
     "output_type": "stream",
     "text": [
      "\r",
      "Batch: 167. Min loss: 2.45448. Estimated time left: 0:03:09.805056. Batches since improvement: 1."
     ]
    },
    {
     "name": "stdout",
     "output_type": "stream",
     "text": [
      "\r",
      "Batch: 168. Min loss: 2.45448. Estimated time left: 0:03:12.740373. Batches since improvement: 2."
     ]
    },
    {
     "name": "stdout",
     "output_type": "stream",
     "text": [
      "\r",
      "Batch: 169. Min loss: 2.44872. Estimated time left: 0:03:13.132992. Batches since improvement: 0."
     ]
    },
    {
     "name": "stdout",
     "output_type": "stream",
     "text": [
      "\r",
      "Batch: 170. Min loss: 2.42715. Estimated time left: 0:03:12.916650. Batches since improvement: 0."
     ]
    },
    {
     "name": "stdout",
     "output_type": "stream",
     "text": [
      "\r",
      "Batch: 171. Min loss: 2.41940. Estimated time left: 0:02:47.498150. Batches since improvement: 0."
     ]
    },
    {
     "name": "stdout",
     "output_type": "stream",
     "text": [
      "\r",
      "Batch: 172. Min loss: 2.41940. Estimated time left: 0:03:10.068975. Batches since improvement: 1."
     ]
    },
    {
     "name": "stdout",
     "output_type": "stream",
     "text": [
      "\r",
      "Batch: 173. Min loss: 2.41940. Estimated time left: 0:03:20.453832. Batches since improvement: 2."
     ]
    },
    {
     "name": "stdout",
     "output_type": "stream",
     "text": [
      "\r",
      "Batch: 174. Min loss: 2.41167. Estimated time left: 0:03:20.263012. Batches since improvement: 0."
     ]
    },
    {
     "name": "stdout",
     "output_type": "stream",
     "text": [
      "\r",
      "Batch: 175. Min loss: 2.38915. Estimated time left: 0:03:07.936476. Batches since improvement: 0."
     ]
    },
    {
     "name": "stdout",
     "output_type": "stream",
     "text": [
      "\r",
      "Batch: 176. Min loss: 2.38915. Estimated time left: 0:02:51.442425. Batches since improvement: 1."
     ]
    },
    {
     "name": "stdout",
     "output_type": "stream",
     "text": [
      "\r",
      "Batch: 177. Min loss: 2.38915. Estimated time left: 0:03:20.393504. Batches since improvement: 2."
     ]
    },
    {
     "name": "stdout",
     "output_type": "stream",
     "text": [
      "\r",
      "Batch: 178. Min loss: 2.38915. Estimated time left: 0:03:09.536077. Batches since improvement: 3."
     ]
    },
    {
     "name": "stdout",
     "output_type": "stream",
     "text": [
      "\r",
      "Batch: 179. Min loss: 2.35914. Estimated time left: 0:03:24.903228. Batches since improvement: 0."
     ]
    },
    {
     "name": "stdout",
     "output_type": "stream",
     "text": [
      "\r",
      "Batch: 180. Min loss: 2.35914. Estimated time left: 0:03:12.643545. Batches since improvement: 1."
     ]
    },
    {
     "name": "stdout",
     "output_type": "stream",
     "text": [
      "\r",
      "Batch: 181. Min loss: 2.35914. Estimated time left: 0:03:11.627440. Batches since improvement: 2."
     ]
    },
    {
     "name": "stdout",
     "output_type": "stream",
     "text": [
      "\r",
      "Batch: 182. Min loss: 2.35085. Estimated time left: 0:02:48.066171. Batches since improvement: 0."
     ]
    },
    {
     "name": "stdout",
     "output_type": "stream",
     "text": [
      "\r",
      "Batch: 183. Min loss: 2.34243. Estimated time left: 0:03:22.448456. Batches since improvement: 0."
     ]
    },
    {
     "name": "stdout",
     "output_type": "stream",
     "text": [
      "\r",
      "Batch: 184. Min loss: 2.32704. Estimated time left: 0:03:16.351244. Batches since improvement: 0."
     ]
    },
    {
     "name": "stdout",
     "output_type": "stream",
     "text": [
      "\r",
      "Batch: 185. Min loss: 2.32445. Estimated time left: 0:03:07.125936. Batches since improvement: 0."
     ]
    },
    {
     "name": "stdout",
     "output_type": "stream",
     "text": [
      "\r",
      "Batch: 186. Min loss: 2.30641. Estimated time left: 0:03:00.436110. Batches since improvement: 0."
     ]
    },
    {
     "name": "stdout",
     "output_type": "stream",
     "text": [
      "\r",
      "Batch: 187. Min loss: 2.29950. Estimated time left: 0:03:04.662412. Batches since improvement: 0."
     ]
    },
    {
     "name": "stdout",
     "output_type": "stream",
     "text": [
      "\r",
      "Batch: 188. Min loss: 2.28342. Estimated time left: 0:03:08.740389. Batches since improvement: 0."
     ]
    },
    {
     "name": "stdout",
     "output_type": "stream",
     "text": [
      "\r",
      "Batch: 189. Min loss: 2.28342. Estimated time left: 0:03:12.980732. Batches since improvement: 1."
     ]
    },
    {
     "name": "stdout",
     "output_type": "stream",
     "text": [
      "\r",
      "Batch: 190. Min loss: 2.27753. Estimated time left: 0:03:20.452437. Batches since improvement: 0."
     ]
    },
    {
     "name": "stdout",
     "output_type": "stream",
     "text": [
      "\r",
      "Batch: 191. Min loss: 2.26708. Estimated time left: 0:03:02.757870. Batches since improvement: 0."
     ]
    },
    {
     "name": "stdout",
     "output_type": "stream",
     "text": [
      "\r",
      "Batch: 192. Min loss: 2.26708. Estimated time left: 0:03:13.545160. Batches since improvement: 1."
     ]
    },
    {
     "name": "stdout",
     "output_type": "stream",
     "text": [
      "\r",
      "Batch: 193. Min loss: 2.23156. Estimated time left: 0:03:12.170680. Batches since improvement: 0."
     ]
    },
    {
     "name": "stdout",
     "output_type": "stream",
     "text": [
      "\r",
      "Batch: 194. Min loss: 2.20667. Estimated time left: 0:02:56.720088. Batches since improvement: 0."
     ]
    },
    {
     "name": "stdout",
     "output_type": "stream",
     "text": [
      "\r",
      "Batch: 195. Min loss: 2.20667. Estimated time left: 0:03:00.325574. Batches since improvement: 1."
     ]
    },
    {
     "name": "stdout",
     "output_type": "stream",
     "text": [
      "\r",
      "Batch: 196. Min loss: 2.20667. Estimated time left: 0:03:05.713500. Batches since improvement: 2."
     ]
    },
    {
     "name": "stdout",
     "output_type": "stream",
     "text": [
      "\r",
      "Batch: 197. Min loss: 2.18417. Estimated time left: 0:03:04.640208. Batches since improvement: 0."
     ]
    },
    {
     "name": "stdout",
     "output_type": "stream",
     "text": [
      "\r",
      "Batch: 198. Min loss: 2.17023. Estimated time left: 0:02:54.431675. Batches since improvement: 0."
     ]
    },
    {
     "name": "stdout",
     "output_type": "stream",
     "text": [
      "\r",
      "Batch: 199. Min loss: 2.17023. Estimated time left: 0:03:00.993756. Batches since improvement: 1."
     ]
    },
    {
     "name": "stdout",
     "output_type": "stream",
     "text": [
      "\r",
      "Batch: 200. Min loss: 2.15193. Estimated time left: 0:03:09.726462. Batches since improvement: 0."
     ]
    },
    {
     "name": "stdout",
     "output_type": "stream",
     "text": [
      "\r",
      "Batch: 201. Min loss: 2.15193. Estimated time left: 0:03:07.539200. Batches since improvement: 1."
     ]
    },
    {
     "name": "stdout",
     "output_type": "stream",
     "text": [
      "\r",
      "Batch: 202. Min loss: 2.12292. Estimated time left: 0:03:04.518663. Batches since improvement: 0."
     ]
    },
    {
     "name": "stdout",
     "output_type": "stream",
     "text": [
      "\r",
      "Batch: 203. Min loss: 2.12199. Estimated time left: 0:03:07.374390. Batches since improvement: 0."
     ]
    },
    {
     "name": "stdout",
     "output_type": "stream",
     "text": [
      "\r",
      "Batch: 204. Min loss: 2.11033. Estimated time left: 0:02:44.291986. Batches since improvement: 0."
     ]
    },
    {
     "name": "stdout",
     "output_type": "stream",
     "text": [
      "\r",
      "Batch: 205. Min loss: 2.10984. Estimated time left: 0:03:02.718616. Batches since improvement: 0."
     ]
    },
    {
     "name": "stdout",
     "output_type": "stream",
     "text": [
      "\r",
      "Batch: 206. Min loss: 2.08827. Estimated time left: 0:02:51.831300. Batches since improvement: 0."
     ]
    },
    {
     "name": "stdout",
     "output_type": "stream",
     "text": [
      "\r",
      "Batch: 207. Min loss: 2.08827. Estimated time left: 0:03:13.054748. Batches since improvement: 1."
     ]
    },
    {
     "name": "stdout",
     "output_type": "stream",
     "text": [
      "\r",
      "Batch: 208. Min loss: 2.06947. Estimated time left: 0:03:10.622926. Batches since improvement: 0."
     ]
    },
    {
     "name": "stdout",
     "output_type": "stream",
     "text": [
      "\r",
      "Batch: 209. Min loss: 2.02899. Estimated time left: 0:02:52.168128. Batches since improvement: 0."
     ]
    },
    {
     "name": "stdout",
     "output_type": "stream",
     "text": [
      "\r",
      "Batch: 210. Min loss: 2.00170. Estimated time left: 0:03:04.337013. Batches since improvement: 0."
     ]
    },
    {
     "name": "stdout",
     "output_type": "stream",
     "text": [
      "\r",
      "Batch: 211. Min loss: 2.00170. Estimated time left: 0:02:44.037180. Batches since improvement: 1."
     ]
    },
    {
     "name": "stdout",
     "output_type": "stream",
     "text": [
      "\r",
      "Batch: 212. Min loss: 2.00170. Estimated time left: 0:03:16.288998. Batches since improvement: 2."
     ]
    },
    {
     "name": "stdout",
     "output_type": "stream",
     "text": [
      "\r",
      "Batch: 213. Min loss: 2.00170. Estimated time left: 0:03:02.111528. Batches since improvement: 3."
     ]
    },
    {
     "name": "stdout",
     "output_type": "stream",
     "text": [
      "\r",
      "Batch: 214. Min loss: 1.99897. Estimated time left: 0:03:08.710795. Batches since improvement: 0."
     ]
    },
    {
     "name": "stdout",
     "output_type": "stream",
     "text": [
      "\r",
      "Batch: 215. Min loss: 1.99897. Estimated time left: 0:02:59.047656. Batches since improvement: 1."
     ]
    },
    {
     "name": "stdout",
     "output_type": "stream",
     "text": [
      "\r",
      "Batch: 216. Min loss: 1.95896. Estimated time left: 0:03:05.963360. Batches since improvement: 0."
     ]
    },
    {
     "name": "stdout",
     "output_type": "stream",
     "text": [
      "\r",
      "Batch: 217. Min loss: 1.95222. Estimated time left: 0:02:59.225536. Batches since improvement: 0."
     ]
    },
    {
     "name": "stdout",
     "output_type": "stream",
     "text": [
      "\r",
      "Batch: 218. Min loss: 1.95114. Estimated time left: 0:02:54.399939. Batches since improvement: 0."
     ]
    },
    {
     "name": "stdout",
     "output_type": "stream",
     "text": [
      "\r",
      "Batch: 219. Min loss: 1.89561. Estimated time left: 0:02:47.412124. Batches since improvement: 0."
     ]
    },
    {
     "name": "stdout",
     "output_type": "stream",
     "text": [
      "\r",
      "Batch: 220. Min loss: 1.88139. Estimated time left: 0:02:58.164063. Batches since improvement: 0."
     ]
    },
    {
     "name": "stdout",
     "output_type": "stream",
     "text": [
      "\r",
      "Batch: 221. Min loss: 1.86664. Estimated time left: 0:02:55.287060. Batches since improvement: 0."
     ]
    },
    {
     "name": "stdout",
     "output_type": "stream",
     "text": [
      "\r",
      "Batch: 222. Min loss: 1.86664. Estimated time left: 0:03:09.977846. Batches since improvement: 1."
     ]
    },
    {
     "name": "stdout",
     "output_type": "stream",
     "text": [
      "\r",
      "Batch: 223. Min loss: 1.82932. Estimated time left: 0:03:14.089216. Batches since improvement: 0."
     ]
    },
    {
     "name": "stdout",
     "output_type": "stream",
     "text": [
      "\r",
      "Batch: 224. Min loss: 1.82932. Estimated time left: 0:02:59.579463. Batches since improvement: 1."
     ]
    },
    {
     "name": "stdout",
     "output_type": "stream",
     "text": [
      "\r",
      "Batch: 225. Min loss: 1.80418. Estimated time left: 0:03:04.144024. Batches since improvement: 0."
     ]
    },
    {
     "name": "stdout",
     "output_type": "stream",
     "text": [
      "\r",
      "Batch: 226. Min loss: 1.80418. Estimated time left: 0:02:51.017700. Batches since improvement: 1."
     ]
    },
    {
     "name": "stdout",
     "output_type": "stream",
     "text": [
      "\r",
      "Batch: 227. Min loss: 1.79302. Estimated time left: 0:03:06.938802. Batches since improvement: 0."
     ]
    },
    {
     "name": "stdout",
     "output_type": "stream",
     "text": [
      "\r",
      "Batch: 228. Min loss: 1.78133. Estimated time left: 0:02:52.654188. Batches since improvement: 0."
     ]
    },
    {
     "name": "stdout",
     "output_type": "stream",
     "text": [
      "\r",
      "Batch: 229. Min loss: 1.72433. Estimated time left: 0:03:12.019560. Batches since improvement: 0."
     ]
    },
    {
     "name": "stdout",
     "output_type": "stream",
     "text": [
      "\r",
      "Batch: 230. Min loss: 1.72433. Estimated time left: 0:02:52.286118. Batches since improvement: 1."
     ]
    },
    {
     "name": "stdout",
     "output_type": "stream",
     "text": [
      "\r",
      "Batch: 231. Min loss: 1.72433. Estimated time left: 0:02:52.267480. Batches since improvement: 2."
     ]
    },
    {
     "name": "stdout",
     "output_type": "stream",
     "text": [
      "\r",
      "Batch: 232. Min loss: 1.66911. Estimated time left: 0:02:50.500373. Batches since improvement: 0."
     ]
    },
    {
     "name": "stdout",
     "output_type": "stream",
     "text": [
      "\r",
      "Batch: 233. Min loss: 1.66635. Estimated time left: 0:02:40.805376. Batches since improvement: 0."
     ]
    },
    {
     "name": "stdout",
     "output_type": "stream",
     "text": [
      "\r",
      "Batch: 234. Min loss: 1.66635. Estimated time left: 0:02:58.178702. Batches since improvement: 1."
     ]
    },
    {
     "name": "stdout",
     "output_type": "stream",
     "text": [
      "\r",
      "Batch: 235. Min loss: 1.64177. Estimated time left: 0:03:03.046424. Batches since improvement: 0."
     ]
    },
    {
     "name": "stdout",
     "output_type": "stream",
     "text": [
      "\r",
      "Batch: 236. Min loss: 1.59668. Estimated time left: 0:02:56.965155. Batches since improvement: 0."
     ]
    },
    {
     "name": "stdout",
     "output_type": "stream",
     "text": [
      "\r",
      "Batch: 237. Min loss: 1.58089. Estimated time left: 0:02:54.821536. Batches since improvement: 0."
     ]
    },
    {
     "name": "stdout",
     "output_type": "stream",
     "text": [
      "\r",
      "Batch: 238. Min loss: 1.51935. Estimated time left: 0:02:39.601288. Batches since improvement: 0."
     ]
    },
    {
     "name": "stdout",
     "output_type": "stream",
     "text": [
      "\r",
      "Batch: 239. Min loss: 1.51935. Estimated time left: 0:02:53.073822. Batches since improvement: 1."
     ]
    },
    {
     "name": "stdout",
     "output_type": "stream",
     "text": [
      "\r",
      "Batch: 240. Min loss: 1.45455. Estimated time left: 0:03:02.985494. Batches since improvement: 0."
     ]
    },
    {
     "name": "stdout",
     "output_type": "stream",
     "text": [
      "\r",
      "Batch: 241. Min loss: 1.45455. Estimated time left: 0:02:52.838440. Batches since improvement: 1."
     ]
    },
    {
     "name": "stdout",
     "output_type": "stream",
     "text": [
      "\r",
      "Batch: 242. Min loss: 1.45227. Estimated time left: 0:02:57.237885. Batches since improvement: 0."
     ]
    },
    {
     "name": "stdout",
     "output_type": "stream",
     "text": [
      "\r",
      "Batch: 243. Min loss: 1.42595. Estimated time left: 0:03:02.517304. Batches since improvement: 0."
     ]
    },
    {
     "name": "stdout",
     "output_type": "stream",
     "text": [
      "\r",
      "Batch: 244. Min loss: 1.36729. Estimated time left: 0:02:51.438547. Batches since improvement: 0."
     ]
    },
    {
     "name": "stdout",
     "output_type": "stream",
     "text": [
      "\r",
      "Batch: 245. Min loss: 1.36729. Estimated time left: 0:02:49.026480. Batches since improvement: 1."
     ]
    },
    {
     "name": "stdout",
     "output_type": "stream",
     "text": [
      "\r",
      "Batch: 246. Min loss: 1.36729. Estimated time left: 0:02:50.147555. Batches since improvement: 2."
     ]
    },
    {
     "name": "stdout",
     "output_type": "stream",
     "text": [
      "\r",
      "Batch: 247. Min loss: 1.30013. Estimated time left: 0:03:04.916992. Batches since improvement: 0."
     ]
    },
    {
     "name": "stdout",
     "output_type": "stream",
     "text": [
      "\r",
      "Batch: 248. Min loss: 1.25230. Estimated time left: 0:02:46.042524. Batches since improvement: 0."
     ]
    },
    {
     "name": "stdout",
     "output_type": "stream",
     "text": [
      "\r",
      "Batch: 249. Min loss: 1.24222. Estimated time left: 0:02:53.548064. Batches since improvement: 0."
     ]
    },
    {
     "name": "stdout",
     "output_type": "stream",
     "text": [
      "\r",
      "Batch: 250. Min loss: 1.23135. Estimated time left: 0:02:57.267542. Batches since improvement: 0."
     ]
    },
    {
     "name": "stdout",
     "output_type": "stream",
     "text": [
      "\r",
      "Batch: 251. Min loss: 1.21801. Estimated time left: 0:03:02.243250. Batches since improvement: 0."
     ]
    },
    {
     "name": "stdout",
     "output_type": "stream",
     "text": [
      "\r",
      "Batch: 252. Min loss: 1.15106. Estimated time left: 0:03:01.804021. Batches since improvement: 0."
     ]
    },
    {
     "name": "stdout",
     "output_type": "stream",
     "text": [
      "\r",
      "Batch: 253. Min loss: 1.15106. Estimated time left: 0:02:51.845520. Batches since improvement: 1."
     ]
    },
    {
     "name": "stdout",
     "output_type": "stream",
     "text": [
      "\r",
      "Batch: 254. Min loss: 1.15106. Estimated time left: 0:02:44.116647. Batches since improvement: 2."
     ]
    },
    {
     "name": "stdout",
     "output_type": "stream",
     "text": [
      "\r",
      "Batch: 255. Min loss: 1.13070. Estimated time left: 0:02:51.682948. Batches since improvement: 0."
     ]
    },
    {
     "name": "stdout",
     "output_type": "stream",
     "text": [
      "\r",
      "Batch: 256. Min loss: 1.07838. Estimated time left: 0:03:01.411225. Batches since improvement: 0."
     ]
    },
    {
     "name": "stdout",
     "output_type": "stream",
     "text": [
      "\r",
      "Batch: 257. Min loss: 1.03717. Estimated time left: 0:02:51.917568. Batches since improvement: 0."
     ]
    },
    {
     "name": "stdout",
     "output_type": "stream",
     "text": [
      "\r",
      "Batch: 258. Min loss: 1.00511. Estimated time left: 0:02:39.461917. Batches since improvement: 0."
     ]
    },
    {
     "name": "stdout",
     "output_type": "stream",
     "text": [
      "\r",
      "Batch: 259. Min loss: 0.97000. Estimated time left: 0:02:49.176742. Batches since improvement: 0."
     ]
    },
    {
     "name": "stdout",
     "output_type": "stream",
     "text": [
      "\r",
      "Batch: 260. Min loss: 0.93524. Estimated time left: 0:02:45.306726. Batches since improvement: 0."
     ]
    },
    {
     "name": "stdout",
     "output_type": "stream",
     "text": [
      "\r",
      "Batch: 261. Min loss: 0.93524. Estimated time left: 0:02:53.714260. Batches since improvement: 1."
     ]
    },
    {
     "name": "stdout",
     "output_type": "stream",
     "text": [
      "\r",
      "Batch: 262. Min loss: 0.93524. Estimated time left: 0:02:56.574443. Batches since improvement: 2."
     ]
    },
    {
     "name": "stdout",
     "output_type": "stream",
     "text": [
      "\r",
      "Batch: 263. Min loss: 0.93524. Estimated time left: 0:02:58.816662. Batches since improvement: 3."
     ]
    },
    {
     "name": "stdout",
     "output_type": "stream",
     "text": [
      "\r",
      "Batch: 264. Min loss: 0.91311. Estimated time left: 0:02:49.397976. Batches since improvement: 0."
     ]
    },
    {
     "name": "stdout",
     "output_type": "stream",
     "text": [
      "\r",
      "Batch: 265. Min loss: 0.80342. Estimated time left: 0:02:56.495744. Batches since improvement: 0."
     ]
    },
    {
     "name": "stdout",
     "output_type": "stream",
     "text": [
      "\r",
      "Batch: 266. Min loss: 0.80342. Estimated time left: 0:02:40.895175. Batches since improvement: 1."
     ]
    },
    {
     "name": "stdout",
     "output_type": "stream",
     "text": [
      "\r",
      "Batch: 267. Min loss: 0.76518. Estimated time left: 0:02:54.125352. Batches since improvement: 0."
     ]
    },
    {
     "name": "stdout",
     "output_type": "stream",
     "text": [
      "\r",
      "Batch: 268. Min loss: 0.76518. Estimated time left: 0:03:16.237294. Batches since improvement: 1."
     ]
    },
    {
     "name": "stdout",
     "output_type": "stream",
     "text": [
      "\r",
      "Batch: 269. Min loss: 0.74300. Estimated time left: 0:02:47.867364. Batches since improvement: 0."
     ]
    },
    {
     "name": "stdout",
     "output_type": "stream",
     "text": [
      "\r",
      "Batch: 270. Min loss: 0.74300. Estimated time left: 0:03:34.922772. Batches since improvement: 1."
     ]
    },
    {
     "name": "stdout",
     "output_type": "stream",
     "text": [
      "\r",
      "Batch: 271. Min loss: 0.73361. Estimated time left: 0:02:45.126730. Batches since improvement: 0."
     ]
    },
    {
     "name": "stdout",
     "output_type": "stream",
     "text": [
      "\r",
      "Batch: 272. Min loss: 0.69676. Estimated time left: 0:02:50.597664. Batches since improvement: 0."
     ]
    },
    {
     "name": "stdout",
     "output_type": "stream",
     "text": [
      "\r",
      "Batch: 273. Min loss: 0.69335. Estimated time left: 0:03:00.220040. Batches since improvement: 0."
     ]
    },
    {
     "name": "stdout",
     "output_type": "stream",
     "text": [
      "\r",
      "Batch: 274. Min loss: 0.62137. Estimated time left: 0:03:26.481813. Batches since improvement: 0."
     ]
    },
    {
     "name": "stdout",
     "output_type": "stream",
     "text": [
      "\r",
      "Batch: 275. Min loss: 0.62137. Estimated time left: 0:02:39.240840. Batches since improvement: 1."
     ]
    },
    {
     "name": "stdout",
     "output_type": "stream",
     "text": [
      "\r",
      "Batch: 276. Min loss: 0.61159. Estimated time left: 0:02:47.380750. Batches since improvement: 0."
     ]
    },
    {
     "name": "stdout",
     "output_type": "stream",
     "text": [
      "\r",
      "Batch: 277. Min loss: 0.59322. Estimated time left: 0:02:51.292608. Batches since improvement: 0."
     ]
    },
    {
     "name": "stdout",
     "output_type": "stream",
     "text": [
      "\r",
      "Batch: 278. Min loss: 0.58758. Estimated time left: 0:02:58.739337. Batches since improvement: 0."
     ]
    },
    {
     "name": "stdout",
     "output_type": "stream",
     "text": [
      "\r",
      "Batch: 279. Min loss: 0.57147. Estimated time left: 0:02:57.513086. Batches since improvement: 0."
     ]
    },
    {
     "name": "stdout",
     "output_type": "stream",
     "text": [
      "\r",
      "Batch: 280. Min loss: 0.56623. Estimated time left: 0:02:49.962051. Batches since improvement: 0."
     ]
    },
    {
     "name": "stdout",
     "output_type": "stream",
     "text": [
      "\r",
      "Batch: 281. Min loss: 0.56623. Estimated time left: 0:02:42.677520. Batches since improvement: 1."
     ]
    },
    {
     "name": "stdout",
     "output_type": "stream",
     "text": [
      "\r",
      "Batch: 282. Min loss: 0.52617. Estimated time left: 0:02:48.878001. Batches since improvement: 0."
     ]
    },
    {
     "name": "stdout",
     "output_type": "stream",
     "text": [
      "\r",
      "Batch: 283. Min loss: 0.51113. Estimated time left: 0:02:51.235820. Batches since improvement: 0."
     ]
    },
    {
     "name": "stdout",
     "output_type": "stream",
     "text": [
      "\r",
      "Batch: 284. Min loss: 0.51113. Estimated time left: 0:02:49.830054. Batches since improvement: 1."
     ]
    },
    {
     "name": "stdout",
     "output_type": "stream",
     "text": [
      "\r",
      "Batch: 285. Min loss: 0.49686. Estimated time left: 0:02:59.105252. Batches since improvement: 0."
     ]
    },
    {
     "name": "stdout",
     "output_type": "stream",
     "text": [
      "\r",
      "Batch: 286. Min loss: 0.49686. Estimated time left: 0:02:36.638625. Batches since improvement: 1."
     ]
    },
    {
     "name": "stdout",
     "output_type": "stream",
     "text": [
      "\r",
      "Batch: 287. Min loss: 0.49686. Estimated time left: 0:02:41.906640. Batches since improvement: 2."
     ]
    },
    {
     "name": "stdout",
     "output_type": "stream",
     "text": [
      "\r",
      "Batch: 288. Min loss: 0.46790. Estimated time left: 0:02:47.003138. Batches since improvement: 0."
     ]
    },
    {
     "name": "stdout",
     "output_type": "stream",
     "text": [
      "\r",
      "Batch: 289. Min loss: 0.46116. Estimated time left: 0:02:57.045920. Batches since improvement: 0."
     ]
    },
    {
     "name": "stdout",
     "output_type": "stream",
     "text": [
      "\r",
      "Batch: 290. Min loss: 0.43635. Estimated time left: 0:02:47.819463. Batches since improvement: 0."
     ]
    },
    {
     "name": "stdout",
     "output_type": "stream",
     "text": [
      "\r",
      "Batch: 291. Min loss: 0.40134. Estimated time left: 0:03:12.750800. Batches since improvement: 0."
     ]
    },
    {
     "name": "stdout",
     "output_type": "stream",
     "text": [
      "\r",
      "Batch: 292. Min loss: 0.40134. Estimated time left: 0:03:46.214958. Batches since improvement: 1."
     ]
    },
    {
     "name": "stdout",
     "output_type": "stream",
     "text": [
      "\r",
      "Batch: 293. Min loss: 0.40134. Estimated time left: 0:03:30.632832. Batches since improvement: 2."
     ]
    },
    {
     "name": "stdout",
     "output_type": "stream",
     "text": [
      "\r",
      "Batch: 294. Min loss: 0.40134. Estimated time left: 0:02:47.813520. Batches since improvement: 3."
     ]
    },
    {
     "name": "stdout",
     "output_type": "stream",
     "text": [
      "\r",
      "Batch: 295. Min loss: 0.40134. Estimated time left: 0:03:24.682814. Batches since improvement: 4."
     ]
    },
    {
     "name": "stdout",
     "output_type": "stream",
     "text": [
      "\r",
      "Batch: 296. Min loss: 0.38266. Estimated time left: 0:03:00.139485. Batches since improvement: 0."
     ]
    },
    {
     "name": "stdout",
     "output_type": "stream",
     "text": [
      "\r",
      "Batch: 297. Min loss: 0.38266. Estimated time left: 0:02:47.475264. Batches since improvement: 1."
     ]
    },
    {
     "name": "stdout",
     "output_type": "stream",
     "text": [
      "\r",
      "Batch: 298. Min loss: 0.36893. Estimated time left: 0:02:54.999196. Batches since improvement: 0."
     ]
    },
    {
     "name": "stdout",
     "output_type": "stream",
     "text": [
      "\r",
      "Batch: 299. Min loss: 0.35553. Estimated time left: 0:02:52.663920. Batches since improvement: 0."
     ]
    },
    {
     "name": "stdout",
     "output_type": "stream",
     "text": [
      "\r",
      "Batch: 300. Min loss: 0.35553. Estimated time left: 0:02:38.913896. Batches since improvement: 1."
     ]
    },
    {
     "name": "stdout",
     "output_type": "stream",
     "text": [
      "\r",
      "Batch: 301. Min loss: 0.34326. Estimated time left: 0:02:43.891700. Batches since improvement: 0."
     ]
    },
    {
     "name": "stdout",
     "output_type": "stream",
     "text": [
      "\r",
      "Batch: 302. Min loss: 0.34326. Estimated time left: 0:02:44.050407. Batches since improvement: 1."
     ]
    },
    {
     "name": "stdout",
     "output_type": "stream",
     "text": [
      "\r",
      "Batch: 303. Min loss: 0.34326. Estimated time left: 0:02:44.526976. Batches since improvement: 2."
     ]
    },
    {
     "name": "stdout",
     "output_type": "stream",
     "text": [
      "\r",
      "Batch: 304. Min loss: 0.33420. Estimated time left: 0:02:39.392748. Batches since improvement: 0."
     ]
    },
    {
     "name": "stdout",
     "output_type": "stream",
     "text": [
      "\r",
      "Batch: 305. Min loss: 0.33420. Estimated time left: 0:02:39.206520. Batches since improvement: 1."
     ]
    },
    {
     "name": "stdout",
     "output_type": "stream",
     "text": [
      "\r",
      "Batch: 306. Min loss: 0.32516. Estimated time left: 0:02:52.569195. Batches since improvement: 0."
     ]
    },
    {
     "name": "stdout",
     "output_type": "stream",
     "text": [
      "\r",
      "Batch: 307. Min loss: 0.30425. Estimated time left: 0:02:25.622020. Batches since improvement: 0."
     ]
    },
    {
     "name": "stdout",
     "output_type": "stream",
     "text": [
      "\r",
      "Batch: 308. Min loss: 0.30218. Estimated time left: 0:02:40.692840. Batches since improvement: 0."
     ]
    },
    {
     "name": "stdout",
     "output_type": "stream",
     "text": [
      "\r",
      "Batch: 309. Min loss: 0.28727. Estimated time left: 0:03:19.320220. Batches since improvement: 0."
     ]
    },
    {
     "name": "stdout",
     "output_type": "stream",
     "text": [
      "\r",
      "Batch: 310. Min loss: 0.28727. Estimated time left: 0:02:33.120072. Batches since improvement: 1."
     ]
    },
    {
     "name": "stdout",
     "output_type": "stream",
     "text": [
      "\r",
      "Batch: 311. Min loss: 0.28727. Estimated time left: 0:02:43.942620. Batches since improvement: 2."
     ]
    },
    {
     "name": "stdout",
     "output_type": "stream",
     "text": [
      "\r",
      "Batch: 312. Min loss: 0.28395. Estimated time left: 0:02:29.220175. Batches since improvement: 0."
     ]
    },
    {
     "name": "stdout",
     "output_type": "stream",
     "text": [
      "\r",
      "Batch: 313. Min loss: 0.28395. Estimated time left: 0:02:29.771408. Batches since improvement: 1."
     ]
    },
    {
     "name": "stdout",
     "output_type": "stream",
     "text": [
      "\r",
      "Batch: 314. Min loss: 0.28395. Estimated time left: 0:02:40.560831. Batches since improvement: 2."
     ]
    },
    {
     "name": "stdout",
     "output_type": "stream",
     "text": [
      "\r",
      "Batch: 315. Min loss: 0.27756. Estimated time left: 0:02:39.251470. Batches since improvement: 0."
     ]
    },
    {
     "name": "stdout",
     "output_type": "stream",
     "text": [
      "\r",
      "Batch: 316. Min loss: 0.25483. Estimated time left: 0:02:42.960815. Batches since improvement: 0."
     ]
    },
    {
     "name": "stdout",
     "output_type": "stream",
     "text": [
      "\r",
      "Batch: 317. Min loss: 0.25483. Estimated time left: 0:02:38.502636. Batches since improvement: 1."
     ]
    },
    {
     "name": "stdout",
     "output_type": "stream",
     "text": [
      "\r",
      "Batch: 318. Min loss: 0.25483. Estimated time left: 0:02:35.153012. Batches since improvement: 2."
     ]
    },
    {
     "name": "stdout",
     "output_type": "stream",
     "text": [
      "\r",
      "Batch: 319. Min loss: 0.24430. Estimated time left: 0:02:42.968674. Batches since improvement: 0."
     ]
    },
    {
     "name": "stdout",
     "output_type": "stream",
     "text": [
      "\r",
      "Batch: 320. Min loss: 0.23464. Estimated time left: 0:02:31.259634. Batches since improvement: 0."
     ]
    },
    {
     "name": "stdout",
     "output_type": "stream",
     "text": [
      "\r",
      "Batch: 321. Min loss: 0.23464. Estimated time left: 0:02:43.100720. Batches since improvement: 1."
     ]
    },
    {
     "name": "stdout",
     "output_type": "stream",
     "text": [
      "\r",
      "Batch: 322. Min loss: 0.23464. Estimated time left: 0:02:17.460834. Batches since improvement: 2."
     ]
    },
    {
     "name": "stdout",
     "output_type": "stream",
     "text": [
      "\r",
      "Batch: 323. Min loss: 0.23464. Estimated time left: 0:02:38.752344. Batches since improvement: 3."
     ]
    },
    {
     "name": "stdout",
     "output_type": "stream",
     "text": [
      "\r",
      "Batch: 324. Min loss: 0.23464. Estimated time left: 0:02:35.658548. Batches since improvement: 4."
     ]
    },
    {
     "name": "stdout",
     "output_type": "stream",
     "text": [
      "\r",
      "Batch: 325. Min loss: 0.23464. Estimated time left: 0:02:41.352412. Batches since improvement: 5."
     ]
    },
    {
     "name": "stdout",
     "output_type": "stream",
     "text": [
      "\r",
      "Batch: 326. Min loss: 0.22823. Estimated time left: 0:02:39.094800. Batches since improvement: 0."
     ]
    },
    {
     "name": "stdout",
     "output_type": "stream",
     "text": [
      "\r",
      "Batch: 327. Min loss: 0.21932. Estimated time left: 0:02:29.160244. Batches since improvement: 0."
     ]
    },
    {
     "name": "stdout",
     "output_type": "stream",
     "text": [
      "\r",
      "Batch: 328. Min loss: 0.21504. Estimated time left: 0:02:35.831131. Batches since improvement: 0."
     ]
    },
    {
     "name": "stdout",
     "output_type": "stream",
     "text": [
      "\r",
      "Batch: 329. Min loss: 0.21504. Estimated time left: 0:02:37.948896. Batches since improvement: 1."
     ]
    },
    {
     "name": "stdout",
     "output_type": "stream",
     "text": [
      "\r",
      "Batch: 330. Min loss: 0.21492. Estimated time left: 0:02:25.508363. Batches since improvement: 0."
     ]
    },
    {
     "name": "stdout",
     "output_type": "stream",
     "text": [
      "\r",
      "Batch: 331. Min loss: 0.21475. Estimated time left: 0:02:36.581010. Batches since improvement: 0."
     ]
    },
    {
     "name": "stdout",
     "output_type": "stream",
     "text": [
      "\r",
      "Batch: 332. Min loss: 0.21475. Estimated time left: 0:02:33.726834. Batches since improvement: 1."
     ]
    },
    {
     "name": "stdout",
     "output_type": "stream",
     "text": [
      "\r",
      "Batch: 333. Min loss: 0.21307. Estimated time left: 0:02:41.702092. Batches since improvement: 0."
     ]
    },
    {
     "name": "stdout",
     "output_type": "stream",
     "text": [
      "\r",
      "Batch: 334. Min loss: 0.20076. Estimated time left: 0:02:33.078501. Batches since improvement: 0."
     ]
    },
    {
     "name": "stdout",
     "output_type": "stream",
     "text": [
      "\r",
      "Batch: 335. Min loss: 0.20076. Estimated time left: 0:02:19.876650. Batches since improvement: 1."
     ]
    },
    {
     "name": "stdout",
     "output_type": "stream",
     "text": [
      "\r",
      "Batch: 336. Min loss: 0.20076. Estimated time left: 0:02:28.376795. Batches since improvement: 2."
     ]
    },
    {
     "name": "stdout",
     "output_type": "stream",
     "text": [
      "\r",
      "Batch: 337. Min loss: 0.20076. Estimated time left: 0:02:31.204088. Batches since improvement: 3."
     ]
    },
    {
     "name": "stdout",
     "output_type": "stream",
     "text": [
      "\r",
      "Batch: 338. Min loss: 0.18938. Estimated time left: 0:02:44.571186. Batches since improvement: 0."
     ]
    },
    {
     "name": "stdout",
     "output_type": "stream",
     "text": [
      "\r",
      "Batch: 339. Min loss: 0.18938. Estimated time left: 0:02:30.847292. Batches since improvement: 1."
     ]
    },
    {
     "name": "stdout",
     "output_type": "stream",
     "text": [
      "\r",
      "Batch: 340. Min loss: 0.17940. Estimated time left: 0:02:29.306019. Batches since improvement: 0."
     ]
    },
    {
     "name": "stdout",
     "output_type": "stream",
     "text": [
      "\r",
      "Batch: 341. Min loss: 0.17810. Estimated time left: 0:02:34.296120. Batches since improvement: 0."
     ]
    },
    {
     "name": "stdout",
     "output_type": "stream",
     "text": [
      "\r",
      "Batch: 342. Min loss: 0.17810. Estimated time left: 0:02:36.078878. Batches since improvement: 1."
     ]
    },
    {
     "name": "stdout",
     "output_type": "stream",
     "text": [
      "\r",
      "Batch: 343. Min loss: 0.17810. Estimated time left: 0:02:31.788098. Batches since improvement: 2."
     ]
    },
    {
     "name": "stdout",
     "output_type": "stream",
     "text": [
      "\r",
      "Batch: 344. Min loss: 0.17810. Estimated time left: 0:02:33.733401. Batches since improvement: 3."
     ]
    },
    {
     "name": "stdout",
     "output_type": "stream",
     "text": [
      "\r",
      "Batch: 345. Min loss: 0.17810. Estimated time left: 0:02:26.767536. Batches since improvement: 4."
     ]
    },
    {
     "name": "stdout",
     "output_type": "stream",
     "text": [
      "\r",
      "Batch: 346. Min loss: 0.16554. Estimated time left: 0:02:44.849090. Batches since improvement: 0."
     ]
    },
    {
     "name": "stdout",
     "output_type": "stream",
     "text": [
      "\r",
      "Batch: 347. Min loss: 0.16554. Estimated time left: 0:02:26.365200. Batches since improvement: 1."
     ]
    },
    {
     "name": "stdout",
     "output_type": "stream",
     "text": [
      "\r",
      "Batch: 348. Min loss: 0.16554. Estimated time left: 0:02:27.969800. Batches since improvement: 2."
     ]
    },
    {
     "name": "stdout",
     "output_type": "stream",
     "text": [
      "\r",
      "Batch: 349. Min loss: 0.16554. Estimated time left: 0:02:26.793236. Batches since improvement: 3."
     ]
    },
    {
     "name": "stdout",
     "output_type": "stream",
     "text": [
      "\r",
      "Batch: 350. Min loss: 0.16089. Estimated time left: 0:02:42.043014. Batches since improvement: 0."
     ]
    },
    {
     "name": "stdout",
     "output_type": "stream",
     "text": [
      "\r",
      "Batch: 351. Min loss: 0.16089. Estimated time left: 0:02:25.467400. Batches since improvement: 1."
     ]
    },
    {
     "name": "stdout",
     "output_type": "stream",
     "text": [
      "\r",
      "Batch: 352. Min loss: 0.16089. Estimated time left: 0:02:25.185194. Batches since improvement: 2."
     ]
    },
    {
     "name": "stdout",
     "output_type": "stream",
     "text": [
      "\r",
      "Batch: 353. Min loss: 0.15209. Estimated time left: 0:02:33.067968. Batches since improvement: 0."
     ]
    },
    {
     "name": "stdout",
     "output_type": "stream",
     "text": [
      "\r",
      "Batch: 354. Min loss: 0.15209. Estimated time left: 0:02:17.776062. Batches since improvement: 1."
     ]
    },
    {
     "name": "stdout",
     "output_type": "stream",
     "text": [
      "\r",
      "Batch: 355. Min loss: 0.15209. Estimated time left: 0:02:30.859088. Batches since improvement: 2."
     ]
    },
    {
     "name": "stdout",
     "output_type": "stream",
     "text": [
      "\r",
      "Batch: 356. Min loss: 0.15209. Estimated time left: 0:02:21.752940. Batches since improvement: 3."
     ]
    },
    {
     "name": "stdout",
     "output_type": "stream",
     "text": [
      "\r",
      "Batch: 357. Min loss: 0.14899. Estimated time left: 0:02:29.192260. Batches since improvement: 0."
     ]
    },
    {
     "name": "stdout",
     "output_type": "stream",
     "text": [
      "\r",
      "Batch: 358. Min loss: 0.13030. Estimated time left: 0:02:29.418411. Batches since improvement: 0."
     ]
    },
    {
     "name": "stdout",
     "output_type": "stream",
     "text": [
      "\r",
      "Batch: 359. Min loss: 0.13030. Estimated time left: 0:02:30.698586. Batches since improvement: 1."
     ]
    },
    {
     "name": "stdout",
     "output_type": "stream",
     "text": [
      "\r",
      "Batch: 360. Min loss: 0.13030. Estimated time left: 0:02:29.851698. Batches since improvement: 2."
     ]
    },
    {
     "name": "stdout",
     "output_type": "stream",
     "text": [
      "\r",
      "Batch: 361. Min loss: 0.13030. Estimated time left: 0:02:31.083520. Batches since improvement: 3."
     ]
    },
    {
     "name": "stdout",
     "output_type": "stream",
     "text": [
      "\r",
      "Batch: 362. Min loss: 0.13030. Estimated time left: 0:02:22.360893. Batches since improvement: 4."
     ]
    },
    {
     "name": "stdout",
     "output_type": "stream",
     "text": [
      "\r",
      "Batch: 363. Min loss: 0.13030. Estimated time left: 0:02:19.653734. Batches since improvement: 5."
     ]
    },
    {
     "name": "stdout",
     "output_type": "stream",
     "text": [
      "\r",
      "Batch: 364. Min loss: 0.12956. Estimated time left: 0:02:35.319073. Batches since improvement: 0."
     ]
    },
    {
     "name": "stdout",
     "output_type": "stream",
     "text": [
      "\r",
      "Batch: 365. Min loss: 0.12956. Estimated time left: 0:02:30.087732. Batches since improvement: 1."
     ]
    },
    {
     "name": "stdout",
     "output_type": "stream",
     "text": [
      "\r",
      "Batch: 366. Min loss: 0.12727. Estimated time left: 0:02:31.646255. Batches since improvement: 0."
     ]
    },
    {
     "name": "stdout",
     "output_type": "stream",
     "text": [
      "\r",
      "Batch: 367. Min loss: 0.12650. Estimated time left: 0:02:24.133560. Batches since improvement: 0."
     ]
    },
    {
     "name": "stdout",
     "output_type": "stream",
     "text": [
      "\r",
      "Batch: 368. Min loss: 0.12650. Estimated time left: 0:02:18.897924. Batches since improvement: 1."
     ]
    },
    {
     "name": "stdout",
     "output_type": "stream",
     "text": [
      "\r",
      "Batch: 369. Min loss: 0.12541. Estimated time left: 0:02:21.088312. Batches since improvement: 0."
     ]
    },
    {
     "name": "stdout",
     "output_type": "stream",
     "text": [
      "\r",
      "Batch: 370. Min loss: 0.12151. Estimated time left: 0:02:25.653099. Batches since improvement: 0."
     ]
    },
    {
     "name": "stdout",
     "output_type": "stream",
     "text": [
      "\r",
      "Batch: 371. Min loss: 0.12151. Estimated time left: 0:02:18.656070. Batches since improvement: 1."
     ]
    },
    {
     "name": "stdout",
     "output_type": "stream",
     "text": [
      "\r",
      "Batch: 372. Min loss: 0.11709. Estimated time left: 0:02:19.765058. Batches since improvement: 0."
     ]
    },
    {
     "name": "stdout",
     "output_type": "stream",
     "text": [
      "\r",
      "Batch: 373. Min loss: 0.11709. Estimated time left: 0:02:17.344228. Batches since improvement: 1."
     ]
    },
    {
     "name": "stdout",
     "output_type": "stream",
     "text": [
      "\r",
      "Batch: 374. Min loss: 0.11709. Estimated time left: 0:02:28.017771. Batches since improvement: 2."
     ]
    },
    {
     "name": "stdout",
     "output_type": "stream",
     "text": [
      "\r",
      "Batch: 375. Min loss: 0.11709. Estimated time left: 0:02:20.342314. Batches since improvement: 3."
     ]
    },
    {
     "name": "stdout",
     "output_type": "stream",
     "text": [
      "\r",
      "Batch: 376. Min loss: 0.11657. Estimated time left: 0:02:24.378125. Batches since improvement: 0."
     ]
    },
    {
     "name": "stdout",
     "output_type": "stream",
     "text": [
      "\r",
      "Batch: 377. Min loss: 0.11657. Estimated time left: 0:02:24.922128. Batches since improvement: 1."
     ]
    },
    {
     "name": "stdout",
     "output_type": "stream",
     "text": [
      "\r",
      "Batch: 378. Min loss: 0.11657. Estimated time left: 0:02:21.741845. Batches since improvement: 2."
     ]
    },
    {
     "name": "stdout",
     "output_type": "stream",
     "text": [
      "\r",
      "Batch: 379. Min loss: 0.11657. Estimated time left: 0:02:15.044286. Batches since improvement: 3."
     ]
    },
    {
     "name": "stdout",
     "output_type": "stream",
     "text": [
      "\r",
      "Batch: 380. Min loss: 0.11657. Estimated time left: 0:02:22.232598. Batches since improvement: 4."
     ]
    },
    {
     "name": "stdout",
     "output_type": "stream",
     "text": [
      "\r",
      "Batch: 381. Min loss: 0.11657. Estimated time left: 0:02:26.518400. Batches since improvement: 5."
     ]
    },
    {
     "name": "stdout",
     "output_type": "stream",
     "text": [
      "\r",
      "Batch: 382. Min loss: 0.10993. Estimated time left: 0:02:26.069144. Batches since improvement: 0."
     ]
    },
    {
     "name": "stdout",
     "output_type": "stream",
     "text": [
      "\r",
      "Batch: 383. Min loss: 0.10993. Estimated time left: 0:02:24.594078. Batches since improvement: 1."
     ]
    },
    {
     "name": "stdout",
     "output_type": "stream",
     "text": [
      "\r",
      "Batch: 384. Min loss: 0.10364. Estimated time left: 0:02:18.154938. Batches since improvement: 0."
     ]
    },
    {
     "name": "stdout",
     "output_type": "stream",
     "text": [
      "\r",
      "Batch: 385. Min loss: 0.10364. Estimated time left: 0:02:12.266288. Batches since improvement: 1."
     ]
    },
    {
     "name": "stdout",
     "output_type": "stream",
     "text": [
      "\r",
      "Batch: 386. Min loss: 0.10364. Estimated time left: 0:02:11.316645. Batches since improvement: 2."
     ]
    },
    {
     "name": "stdout",
     "output_type": "stream",
     "text": [
      "\r",
      "Batch: 387. Min loss: 0.10364. Estimated time left: 0:02:21.237192. Batches since improvement: 3."
     ]
    },
    {
     "name": "stdout",
     "output_type": "stream",
     "text": [
      "\r",
      "Batch: 388. Min loss: 0.10364. Estimated time left: 0:02:17.207177. Batches since improvement: 4."
     ]
    },
    {
     "name": "stdout",
     "output_type": "stream",
     "text": [
      "\r",
      "Batch: 389. Min loss: 0.10364. Estimated time left: 0:02:23.184744. Batches since improvement: 5."
     ]
    },
    {
     "name": "stdout",
     "output_type": "stream",
     "text": [
      "\r",
      "Batch: 390. Min loss: 0.10364. Estimated time left: 0:02:14.222647. Batches since improvement: 6."
     ]
    },
    {
     "name": "stdout",
     "output_type": "stream",
     "text": [
      "\r",
      "Batch: 391. Min loss: 0.09490. Estimated time left: 0:02:18.384600. Batches since improvement: 0."
     ]
    },
    {
     "name": "stdout",
     "output_type": "stream",
     "text": [
      "\r",
      "Batch: 392. Min loss: 0.09490. Estimated time left: 0:02:20.099841. Batches since improvement: 1."
     ]
    },
    {
     "name": "stdout",
     "output_type": "stream",
     "text": [
      "\r",
      "Batch: 393. Min loss: 0.09490. Estimated time left: 0:02:22.260448. Batches since improvement: 2."
     ]
    },
    {
     "name": "stdout",
     "output_type": "stream",
     "text": [
      "\r",
      "Batch: 394. Min loss: 0.09271. Estimated time left: 0:02:23.366116. Batches since improvement: 0."
     ]
    },
    {
     "name": "stdout",
     "output_type": "stream",
     "text": [
      "\r",
      "Batch: 395. Min loss: 0.09220. Estimated time left: 0:02:14.009022. Batches since improvement: 0."
     ]
    },
    {
     "name": "stdout",
     "output_type": "stream",
     "text": [
      "\r",
      "Batch: 396. Min loss: 0.09220. Estimated time left: 0:02:18.428235. Batches since improvement: 1."
     ]
    },
    {
     "name": "stdout",
     "output_type": "stream",
     "text": [
      "\r",
      "Batch: 397. Min loss: 0.09220. Estimated time left: 0:02:13.913444. Batches since improvement: 2."
     ]
    },
    {
     "name": "stdout",
     "output_type": "stream",
     "text": [
      "\r",
      "Batch: 398. Min loss: 0.09220. Estimated time left: 0:02:18.309507. Batches since improvement: 3."
     ]
    },
    {
     "name": "stdout",
     "output_type": "stream",
     "text": [
      "\r",
      "Batch: 399. Min loss: 0.08443. Estimated time left: 0:02:32.941712. Batches since improvement: 0."
     ]
    },
    {
     "name": "stdout",
     "output_type": "stream",
     "text": [
      "\r",
      "Batch: 400. Min loss: 0.08443. Estimated time left: 0:02:23.158801. Batches since improvement: 1."
     ]
    },
    {
     "name": "stdout",
     "output_type": "stream",
     "text": [
      "\r",
      "Batch: 401. Min loss: 0.08443. Estimated time left: 0:02:16.998000. Batches since improvement: 2."
     ]
    },
    {
     "name": "stdout",
     "output_type": "stream",
     "text": [
      "\r",
      "Batch: 402. Min loss: 0.08443. Estimated time left: 0:02:17.340517. Batches since improvement: 3."
     ]
    },
    {
     "name": "stdout",
     "output_type": "stream",
     "text": [
      "\r",
      "Batch: 403. Min loss: 0.08443. Estimated time left: 0:02:16.082674. Batches since improvement: 4."
     ]
    },
    {
     "name": "stdout",
     "output_type": "stream",
     "text": [
      "\r",
      "Batch: 404. Min loss: 0.08443. Estimated time left: 0:02:17.886105. Batches since improvement: 5."
     ]
    },
    {
     "name": "stdout",
     "output_type": "stream",
     "text": [
      "\r",
      "Batch: 405. Min loss: 0.08091. Estimated time left: 0:02:15.164456. Batches since improvement: 0."
     ]
    },
    {
     "name": "stdout",
     "output_type": "stream",
     "text": [
      "\r",
      "Batch: 406. Min loss: 0.08091. Estimated time left: 0:02:16.384710. Batches since improvement: 1."
     ]
    },
    {
     "name": "stdout",
     "output_type": "stream",
     "text": [
      "\r",
      "Batch: 407. Min loss: 0.08091. Estimated time left: 0:02:14.840376. Batches since improvement: 2."
     ]
    },
    {
     "name": "stdout",
     "output_type": "stream",
     "text": [
      "\r",
      "Batch: 408. Min loss: 0.08091. Estimated time left: 0:02:20.768119. Batches since improvement: 3."
     ]
    },
    {
     "name": "stdout",
     "output_type": "stream",
     "text": [
      "\r",
      "Batch: 409. Min loss: 0.08091. Estimated time left: 0:02:10.385040. Batches since improvement: 4."
     ]
    },
    {
     "name": "stdout",
     "output_type": "stream",
     "text": [
      "\r",
      "Batch: 410. Min loss: 0.08091. Estimated time left: 0:02:21.808086. Batches since improvement: 5."
     ]
    },
    {
     "name": "stdout",
     "output_type": "stream",
     "text": [
      "\r",
      "Batch: 411. Min loss: 0.08091. Estimated time left: 0:02:29.436970. Batches since improvement: 6."
     ]
    },
    {
     "name": "stdout",
     "output_type": "stream",
     "text": [
      "\r",
      "Batch: 412. Min loss: 0.07605. Estimated time left: 0:02:53.614229. Batches since improvement: 0."
     ]
    },
    {
     "name": "stdout",
     "output_type": "stream",
     "text": [
      "\r",
      "Batch: 413. Min loss: 0.07605. Estimated time left: 0:02:32.573064. Batches since improvement: 1."
     ]
    },
    {
     "name": "stdout",
     "output_type": "stream",
     "text": [
      "\r",
      "Batch: 414. Min loss: 0.07285. Estimated time left: 0:02:20.193210. Batches since improvement: 0."
     ]
    },
    {
     "name": "stdout",
     "output_type": "stream",
     "text": [
      "\r",
      "Batch: 415. Min loss: 0.07285. Estimated time left: 0:02:20.227456. Batches since improvement: 1."
     ]
    },
    {
     "name": "stdout",
     "output_type": "stream",
     "text": [
      "\r",
      "Batch: 416. Min loss: 0.07285. Estimated time left: 0:02:12.646410. Batches since improvement: 2."
     ]
    },
    {
     "name": "stdout",
     "output_type": "stream",
     "text": [
      "\r",
      "Batch: 417. Min loss: 0.07285. Estimated time left: 0:02:15.155704. Batches since improvement: 3."
     ]
    },
    {
     "name": "stdout",
     "output_type": "stream",
     "text": [
      "\r",
      "Batch: 418. Min loss: 0.07285. Estimated time left: 0:02:19.313680. Batches since improvement: 4."
     ]
    },
    {
     "name": "stdout",
     "output_type": "stream",
     "text": [
      "\r",
      "Batch: 419. Min loss: 0.07079. Estimated time left: 0:02:17.865324. Batches since improvement: 0."
     ]
    },
    {
     "name": "stdout",
     "output_type": "stream",
     "text": [
      "\r",
      "Batch: 420. Min loss: 0.07079. Estimated time left: 0:02:03.339328. Batches since improvement: 1."
     ]
    },
    {
     "name": "stdout",
     "output_type": "stream",
     "text": [
      "\r",
      "Batch: 421. Min loss: 0.07079. Estimated time left: 0:02:11.655940. Batches since improvement: 2."
     ]
    },
    {
     "name": "stdout",
     "output_type": "stream",
     "text": [
      "\r",
      "Batch: 422. Min loss: 0.07079. Estimated time left: 0:02:09.833223. Batches since improvement: 3."
     ]
    },
    {
     "name": "stdout",
     "output_type": "stream",
     "text": [
      "\r",
      "Batch: 423. Min loss: 0.07079. Estimated time left: 0:02:15.488980. Batches since improvement: 4."
     ]
    },
    {
     "name": "stdout",
     "output_type": "stream",
     "text": [
      "\r",
      "Batch: 424. Min loss: 0.06889. Estimated time left: 0:02:14.413881. Batches since improvement: 0."
     ]
    },
    {
     "name": "stdout",
     "output_type": "stream",
     "text": [
      "\r",
      "Batch: 425. Min loss: 0.06582. Estimated time left: 0:02:11.162688. Batches since improvement: 0."
     ]
    },
    {
     "name": "stdout",
     "output_type": "stream",
     "text": [
      "\r",
      "Batch: 426. Min loss: 0.06582. Estimated time left: 0:02:05.508700. Batches since improvement: 1."
     ]
    },
    {
     "name": "stdout",
     "output_type": "stream",
     "text": [
      "\r",
      "Batch: 427. Min loss: 0.06582. Estimated time left: 0:03:03.017030. Batches since improvement: 2."
     ]
    },
    {
     "name": "stdout",
     "output_type": "stream",
     "text": [
      "\r",
      "Batch: 428. Min loss: 0.06582. Estimated time left: 0:02:09.756996. Batches since improvement: 3."
     ]
    },
    {
     "name": "stdout",
     "output_type": "stream",
     "text": [
      "\r",
      "Batch: 429. Min loss: 0.06149. Estimated time left: 0:02:25.906332. Batches since improvement: 0."
     ]
    },
    {
     "name": "stdout",
     "output_type": "stream",
     "text": [
      "\r",
      "Batch: 430. Min loss: 0.06149. Estimated time left: 0:02:21.928902. Batches since improvement: 1."
     ]
    },
    {
     "name": "stdout",
     "output_type": "stream",
     "text": [
      "\r",
      "Batch: 431. Min loss: 0.06149. Estimated time left: 0:02:09.431610. Batches since improvement: 2."
     ]
    },
    {
     "name": "stdout",
     "output_type": "stream",
     "text": [
      "\r",
      "Batch: 432. Min loss: 0.06149. Estimated time left: 0:02:05.892957. Batches since improvement: 3."
     ]
    },
    {
     "name": "stdout",
     "output_type": "stream",
     "text": [
      "\r",
      "Batch: 433. Min loss: 0.06149. Estimated time left: 0:02:06.477696. Batches since improvement: 4."
     ]
    },
    {
     "name": "stdout",
     "output_type": "stream",
     "text": [
      "\r",
      "Batch: 434. Min loss: 0.05954. Estimated time left: 0:02:20.695380. Batches since improvement: 0."
     ]
    },
    {
     "name": "stdout",
     "output_type": "stream",
     "text": [
      "\r",
      "Batch: 435. Min loss: 0.05954. Estimated time left: 0:02:05.932736. Batches since improvement: 1."
     ]
    },
    {
     "name": "stdout",
     "output_type": "stream",
     "text": [
      "\r",
      "Batch: 436. Min loss: 0.05954. Estimated time left: 0:02:11.866480. Batches since improvement: 2."
     ]
    },
    {
     "name": "stdout",
     "output_type": "stream",
     "text": [
      "\r",
      "Batch: 437. Min loss: 0.05954. Estimated time left: 0:02:12.407460. Batches since improvement: 3."
     ]
    },
    {
     "name": "stdout",
     "output_type": "stream",
     "text": [
      "\r",
      "Batch: 438. Min loss: 0.05915. Estimated time left: 0:02:20.090164. Batches since improvement: 0."
     ]
    },
    {
     "name": "stdout",
     "output_type": "stream",
     "text": [
      "\r",
      "Batch: 439. Min loss: 0.05915. Estimated time left: 0:02:15.016004. Batches since improvement: 1."
     ]
    },
    {
     "name": "stdout",
     "output_type": "stream",
     "text": [
      "\r",
      "Batch: 440. Min loss: 0.05915. Estimated time left: 0:02:10.199685. Batches since improvement: 2."
     ]
    },
    {
     "name": "stdout",
     "output_type": "stream",
     "text": [
      "\r",
      "Batch: 441. Min loss: 0.05915. Estimated time left: 0:02:09.026800. Batches since improvement: 3."
     ]
    },
    {
     "name": "stdout",
     "output_type": "stream",
     "text": [
      "\r",
      "Batch: 442. Min loss: 0.05823. Estimated time left: 0:02:04.192471. Batches since improvement: 0."
     ]
    },
    {
     "name": "stdout",
     "output_type": "stream",
     "text": [
      "\r",
      "Batch: 443. Min loss: 0.05823. Estimated time left: 0:01:59.605626. Batches since improvement: 1."
     ]
    },
    {
     "name": "stdout",
     "output_type": "stream",
     "text": [
      "\r",
      "Batch: 444. Min loss: 0.05757. Estimated time left: 0:02:08.433060. Batches since improvement: 0."
     ]
    },
    {
     "name": "stdout",
     "output_type": "stream",
     "text": [
      "\r",
      "Batch: 445. Min loss: 0.05703. Estimated time left: 0:02:12.403616. Batches since improvement: 0."
     ]
    },
    {
     "name": "stdout",
     "output_type": "stream",
     "text": [
      "\r",
      "Batch: 446. Min loss: 0.05703. Estimated time left: 0:02:12.169365. Batches since improvement: 1."
     ]
    },
    {
     "name": "stdout",
     "output_type": "stream",
     "text": [
      "\r",
      "Batch: 447. Min loss: 0.05478. Estimated time left: 0:02:19.954804. Batches since improvement: 0."
     ]
    },
    {
     "name": "stdout",
     "output_type": "stream",
     "text": [
      "\r",
      "Batch: 448. Min loss: 0.05478. Estimated time left: 0:02:10.375833. Batches since improvement: 1."
     ]
    },
    {
     "name": "stdout",
     "output_type": "stream",
     "text": [
      "\r",
      "Batch: 449. Min loss: 0.05478. Estimated time left: 0:02:05.060016. Batches since improvement: 2."
     ]
    },
    {
     "name": "stdout",
     "output_type": "stream",
     "text": [
      "\r",
      "Batch: 450. Min loss: 0.05478. Estimated time left: 0:02:11.320932. Batches since improvement: 3."
     ]
    },
    {
     "name": "stdout",
     "output_type": "stream",
     "text": [
      "\r",
      "Batch: 451. Min loss: 0.05140. Estimated time left: 0:02:07.380550. Batches since improvement: 0."
     ]
    },
    {
     "name": "stdout",
     "output_type": "stream",
     "text": [
      "\r",
      "Batch: 452. Min loss: 0.05140. Estimated time left: 0:01:57.634779. Batches since improvement: 1."
     ]
    },
    {
     "name": "stdout",
     "output_type": "stream",
     "text": [
      "\r",
      "Batch: 453. Min loss: 0.05140. Estimated time left: 0:02:10.584564. Batches since improvement: 2."
     ]
    },
    {
     "name": "stdout",
     "output_type": "stream",
     "text": [
      "\r",
      "Batch: 454. Min loss: 0.05140. Estimated time left: 0:02:02.379216. Batches since improvement: 3."
     ]
    },
    {
     "name": "stdout",
     "output_type": "stream",
     "text": [
      "\r",
      "Batch: 455. Min loss: 0.05140. Estimated time left: 0:02:13.115892. Batches since improvement: 4."
     ]
    },
    {
     "name": "stdout",
     "output_type": "stream",
     "text": [
      "\r",
      "Batch: 456. Min loss: 0.05121. Estimated time left: 0:02:03.245210. Batches since improvement: 0."
     ]
    },
    {
     "name": "stdout",
     "output_type": "stream",
     "text": [
      "\r",
      "Batch: 457. Min loss: 0.05100. Estimated time left: 0:02:17.813696. Batches since improvement: 0."
     ]
    },
    {
     "name": "stdout",
     "output_type": "stream",
     "text": [
      "\r",
      "Batch: 458. Min loss: 0.05020. Estimated time left: 0:02:13.384692. Batches since improvement: 0."
     ]
    },
    {
     "name": "stdout",
     "output_type": "stream",
     "text": [
      "\r",
      "Batch: 459. Min loss: 0.05020. Estimated time left: 0:02:08.751016. Batches since improvement: 1."
     ]
    },
    {
     "name": "stdout",
     "output_type": "stream",
     "text": [
      "\r",
      "Batch: 460. Min loss: 0.05020. Estimated time left: 0:02:04.697254. Batches since improvement: 2."
     ]
    },
    {
     "name": "stdout",
     "output_type": "stream",
     "text": [
      "\r",
      "Batch: 461. Min loss: 0.04678. Estimated time left: 0:02:10.218840. Batches since improvement: 0."
     ]
    },
    {
     "name": "stdout",
     "output_type": "stream",
     "text": [
      "\r",
      "Batch: 462. Min loss: 0.04678. Estimated time left: 0:02:08.151562. Batches since improvement: 1."
     ]
    },
    {
     "name": "stdout",
     "output_type": "stream",
     "text": [
      "\r",
      "Batch: 463. Min loss: 0.04678. Estimated time left: 0:01:51.818996. Batches since improvement: 2."
     ]
    },
    {
     "name": "stdout",
     "output_type": "stream",
     "text": [
      "\r",
      "Batch: 464. Min loss: 0.04648. Estimated time left: 0:02:02.837676. Batches since improvement: 0."
     ]
    },
    {
     "name": "stdout",
     "output_type": "stream",
     "text": [
      "\r",
      "Batch: 465. Min loss: 0.04648. Estimated time left: 0:02:06.768824. Batches since improvement: 1."
     ]
    },
    {
     "name": "stdout",
     "output_type": "stream",
     "text": [
      "\r",
      "Batch: 466. Min loss: 0.04648. Estimated time left: 0:02:04.529810. Batches since improvement: 2."
     ]
    },
    {
     "name": "stdout",
     "output_type": "stream",
     "text": [
      "\r",
      "Batch: 467. Min loss: 0.04648. Estimated time left: 0:02:00.139854. Batches since improvement: 3."
     ]
    },
    {
     "name": "stdout",
     "output_type": "stream",
     "text": [
      "\r",
      "Batch: 468. Min loss: 0.04648. Estimated time left: 0:01:53.976720. Batches since improvement: 4."
     ]
    },
    {
     "name": "stdout",
     "output_type": "stream",
     "text": [
      "\r",
      "Batch: 469. Min loss: 0.04648. Estimated time left: 0:02:03.338348. Batches since improvement: 5."
     ]
    },
    {
     "name": "stdout",
     "output_type": "stream",
     "text": [
      "\r",
      "Batch: 470. Min loss: 0.04648. Estimated time left: 0:01:58.529820. Batches since improvement: 6."
     ]
    },
    {
     "name": "stdout",
     "output_type": "stream",
     "text": [
      "\r",
      "Batch: 471. Min loss: 0.04648. Estimated time left: 0:01:58.741200. Batches since improvement: 7."
     ]
    },
    {
     "name": "stdout",
     "output_type": "stream",
     "text": [
      "\r",
      "Batch: 472. Min loss: 0.04506. Estimated time left: 0:02:04.919647. Batches since improvement: 0."
     ]
    },
    {
     "name": "stdout",
     "output_type": "stream",
     "text": [
      "\r",
      "Batch: 473. Min loss: 0.04506. Estimated time left: 0:01:59.416704. Batches since improvement: 1."
     ]
    },
    {
     "name": "stdout",
     "output_type": "stream",
     "text": [
      "\r",
      "Batch: 474. Min loss: 0.04506. Estimated time left: 0:01:56.625100. Batches since improvement: 2."
     ]
    },
    {
     "name": "stdout",
     "output_type": "stream",
     "text": [
      "\r",
      "Batch: 475. Min loss: 0.04169. Estimated time left: 0:02:01.754798. Batches since improvement: 0."
     ]
    },
    {
     "name": "stdout",
     "output_type": "stream",
     "text": [
      "\r",
      "Batch: 476. Min loss: 0.04169. Estimated time left: 0:02:03.114075. Batches since improvement: 1."
     ]
    },
    {
     "name": "stdout",
     "output_type": "stream",
     "text": [
      "\r",
      "Batch: 477. Min loss: 0.04169. Estimated time left: 0:01:55.812384. Batches since improvement: 2."
     ]
    },
    {
     "name": "stdout",
     "output_type": "stream",
     "text": [
      "\r",
      "Batch: 478. Min loss: 0.04169. Estimated time left: 0:01:57.325113. Batches since improvement: 3."
     ]
    },
    {
     "name": "stdout",
     "output_type": "stream",
     "text": [
      "\r",
      "Batch: 479. Min loss: 0.04169. Estimated time left: 0:01:52.163184. Batches since improvement: 4."
     ]
    },
    {
     "name": "stdout",
     "output_type": "stream",
     "text": [
      "\r",
      "Batch: 480. Min loss: 0.04169. Estimated time left: 0:01:57.716824. Batches since improvement: 5."
     ]
    },
    {
     "name": "stdout",
     "output_type": "stream",
     "text": [
      "\r",
      "Batch: 481. Min loss: 0.04169. Estimated time left: 0:02:06.420840. Batches since improvement: 6."
     ]
    },
    {
     "name": "stdout",
     "output_type": "stream",
     "text": [
      "\r",
      "Batch: 482. Min loss: 0.04152. Estimated time left: 0:02:07.259838. Batches since improvement: 0."
     ]
    },
    {
     "name": "stdout",
     "output_type": "stream",
     "text": [
      "\r",
      "Batch: 483. Min loss: 0.04152. Estimated time left: 0:02:02.626140. Batches since improvement: 1."
     ]
    },
    {
     "name": "stdout",
     "output_type": "stream",
     "text": [
      "\r",
      "Batch: 484. Min loss: 0.04152. Estimated time left: 0:02:02.678930. Batches since improvement: 2."
     ]
    },
    {
     "name": "stdout",
     "output_type": "stream",
     "text": [
      "\r",
      "Batch: 485. Min loss: 0.04152. Estimated time left: 0:01:58.065444. Batches since improvement: 3."
     ]
    },
    {
     "name": "stdout",
     "output_type": "stream",
     "text": [
      "\r",
      "Batch: 486. Min loss: 0.04152. Estimated time left: 0:02:05.082170. Batches since improvement: 4."
     ]
    },
    {
     "name": "stdout",
     "output_type": "stream",
     "text": [
      "\r",
      "Batch: 487. Min loss: 0.04000. Estimated time left: 0:02:03.777368. Batches since improvement: 0."
     ]
    },
    {
     "name": "stdout",
     "output_type": "stream",
     "text": [
      "\r",
      "Batch: 488. Min loss: 0.04000. Estimated time left: 0:01:54.880194. Batches since improvement: 1."
     ]
    },
    {
     "name": "stdout",
     "output_type": "stream",
     "text": [
      "\r",
      "Batch: 489. Min loss: 0.03855. Estimated time left: 0:02:01.992704. Batches since improvement: 0."
     ]
    },
    {
     "name": "stdout",
     "output_type": "stream",
     "text": [
      "\r",
      "Batch: 490. Min loss: 0.03855. Estimated time left: 0:01:57.840688. Batches since improvement: 1."
     ]
    },
    {
     "name": "stdout",
     "output_type": "stream",
     "text": [
      "\r",
      "Batch: 491. Min loss: 0.03853. Estimated time left: 0:02:03.070650. Batches since improvement: 0."
     ]
    },
    {
     "name": "stdout",
     "output_type": "stream",
     "text": [
      "\r",
      "Batch: 492. Min loss: 0.03853. Estimated time left: 0:01:55.965470. Batches since improvement: 1."
     ]
    },
    {
     "name": "stdout",
     "output_type": "stream",
     "text": [
      "\r",
      "Batch: 493. Min loss: 0.03604. Estimated time left: 0:02:05.414532. Batches since improvement: 0."
     ]
    },
    {
     "name": "stdout",
     "output_type": "stream",
     "text": [
      "\r",
      "Batch: 494. Min loss: 0.03604. Estimated time left: 0:01:55.198512. Batches since improvement: 1."
     ]
    },
    {
     "name": "stdout",
     "output_type": "stream",
     "text": [
      "\r",
      "Batch: 495. Min loss: 0.03604. Estimated time left: 0:01:53.840892. Batches since improvement: 2."
     ]
    },
    {
     "name": "stdout",
     "output_type": "stream",
     "text": [
      "\r",
      "Batch: 496. Min loss: 0.03604. Estimated time left: 0:01:58.620460. Batches since improvement: 3."
     ]
    },
    {
     "name": "stdout",
     "output_type": "stream",
     "text": [
      "\r",
      "Batch: 497. Min loss: 0.03604. Estimated time left: 0:01:51.236832. Batches since improvement: 4."
     ]
    },
    {
     "name": "stdout",
     "output_type": "stream",
     "text": [
      "\r",
      "Batch: 498. Min loss: 0.03604. Estimated time left: 0:01:59.788444. Batches since improvement: 5."
     ]
    },
    {
     "name": "stdout",
     "output_type": "stream",
     "text": [
      "\r",
      "Batch: 499. Min loss: 0.03604. Estimated time left: 0:01:51.458056. Batches since improvement: 6."
     ]
    },
    {
     "name": "stdout",
     "output_type": "stream",
     "text": [
      "\r",
      "Batch: 500. Min loss: 0.03604. Estimated time left: 0:01:47.973516. Batches since improvement: 7."
     ]
    },
    {
     "name": "stdout",
     "output_type": "stream",
     "text": [
      "\r",
      "Batch: 501. Min loss: 0.03458. Estimated time left: 0:02:00.893000. Batches since improvement: 0."
     ]
    },
    {
     "name": "stdout",
     "output_type": "stream",
     "text": [
      "\r",
      "Batch: 502. Min loss: 0.03458. Estimated time left: 0:01:56.117300. Batches since improvement: 1."
     ]
    },
    {
     "name": "stdout",
     "output_type": "stream",
     "text": [
      "\r",
      "Batch: 503. Min loss: 0.03329. Estimated time left: 0:02:02.006514. Batches since improvement: 0."
     ]
    },
    {
     "name": "stdout",
     "output_type": "stream",
     "text": [
      "\r",
      "Batch: 504. Min loss: 0.03329. Estimated time left: 0:01:59.082194. Batches since improvement: 1."
     ]
    },
    {
     "name": "stdout",
     "output_type": "stream",
     "text": [
      "\r",
      "Batch: 505. Min loss: 0.03329. Estimated time left: 0:02:01.146016. Batches since improvement: 2."
     ]
    },
    {
     "name": "stdout",
     "output_type": "stream",
     "text": [
      "\r",
      "Batch: 506. Min loss: 0.03329. Estimated time left: 0:01:49.976625. Batches since improvement: 3."
     ]
    },
    {
     "name": "stdout",
     "output_type": "stream",
     "text": [
      "\r",
      "Batch: 507. Min loss: 0.03291. Estimated time left: 0:02:16.034756. Batches since improvement: 0."
     ]
    },
    {
     "name": "stdout",
     "output_type": "stream",
     "text": [
      "\r",
      "Batch: 508. Min loss: 0.03291. Estimated time left: 0:01:52.357658. Batches since improvement: 1."
     ]
    },
    {
     "name": "stdout",
     "output_type": "stream",
     "text": [
      "\r",
      "Batch: 509. Min loss: 0.03291. Estimated time left: 0:01:53.717928. Batches since improvement: 2."
     ]
    },
    {
     "name": "stdout",
     "output_type": "stream",
     "text": [
      "\r",
      "Batch: 510. Min loss: 0.03291. Estimated time left: 0:01:55.046210. Batches since improvement: 3."
     ]
    },
    {
     "name": "stdout",
     "output_type": "stream",
     "text": [
      "\r",
      "Batch: 511. Min loss: 0.03217. Estimated time left: 0:01:58.536880. Batches since improvement: 0."
     ]
    },
    {
     "name": "stdout",
     "output_type": "stream",
     "text": [
      "\r",
      "Batch: 512. Min loss: 0.03217. Estimated time left: 0:01:59.092038. Batches since improvement: 1."
     ]
    },
    {
     "name": "stdout",
     "output_type": "stream",
     "text": [
      "\r",
      "Batch: 513. Min loss: 0.03217. Estimated time left: 0:01:49.011392. Batches since improvement: 2."
     ]
    },
    {
     "name": "stdout",
     "output_type": "stream",
     "text": [
      "\r",
      "Batch: 514. Min loss: 0.03217. Estimated time left: 0:01:49.231178. Batches since improvement: 3."
     ]
    },
    {
     "name": "stdout",
     "output_type": "stream",
     "text": [
      "\r",
      "Batch: 515. Min loss: 0.03217. Estimated time left: 0:01:45.734646. Batches since improvement: 4."
     ]
    },
    {
     "name": "stdout",
     "output_type": "stream",
     "text": [
      "\r",
      "Batch: 516. Min loss: 0.03217. Estimated time left: 0:01:41.773370. Batches since improvement: 5."
     ]
    },
    {
     "name": "stdout",
     "output_type": "stream",
     "text": [
      "\r",
      "Batch: 517. Min loss: 0.03217. Estimated time left: 0:01:50.223256. Batches since improvement: 6."
     ]
    },
    {
     "name": "stdout",
     "output_type": "stream",
     "text": [
      "\r",
      "Batch: 518. Min loss: 0.03217. Estimated time left: 0:01:56.571567. Batches since improvement: 7."
     ]
    },
    {
     "name": "stdout",
     "output_type": "stream",
     "text": [
      "\r",
      "Batch: 519. Min loss: 0.03217. Estimated time left: 0:01:52.182126. Batches since improvement: 8."
     ]
    },
    {
     "name": "stdout",
     "output_type": "stream",
     "text": [
      "\r",
      "Batch: 520. Min loss: 0.03217. Estimated time left: 0:01:57.987376. Batches since improvement: 9."
     ]
    },
    {
     "name": "stdout",
     "output_type": "stream",
     "text": [
      "\r",
      "Batch: 521. Min loss: 0.03217. Estimated time left: 0:01:53.172000. Batches since improvement: 10."
     ]
    },
    {
     "name": "stdout",
     "output_type": "stream",
     "text": [
      "\r",
      "Batch: 522. Min loss: 0.03075. Estimated time left: 0:01:55.274703. Batches since improvement: 0."
     ]
    },
    {
     "name": "stdout",
     "output_type": "stream",
     "text": [
      "\r",
      "Batch: 523. Min loss: 0.03075. Estimated time left: 0:01:49.362576. Batches since improvement: 1."
     ]
    },
    {
     "name": "stdout",
     "output_type": "stream",
     "text": [
      "\r",
      "Batch: 524. Min loss: 0.03075. Estimated time left: 0:01:55.434954. Batches since improvement: 2."
     ]
    },
    {
     "name": "stdout",
     "output_type": "stream",
     "text": [
      "\r",
      "Batch: 525. Min loss: 0.03075. Estimated time left: 0:01:47.355612. Batches since improvement: 3."
     ]
    },
    {
     "name": "stdout",
     "output_type": "stream",
     "text": [
      "\r",
      "Batch: 526. Min loss: 0.03075. Estimated time left: 0:01:46.349175. Batches since improvement: 4."
     ]
    },
    {
     "name": "stdout",
     "output_type": "stream",
     "text": [
      "\r",
      "Batch: 527. Min loss: 0.03075. Estimated time left: 0:01:47.719818. Batches since improvement: 5."
     ]
    },
    {
     "name": "stdout",
     "output_type": "stream",
     "text": [
      "\r",
      "Batch: 528. Min loss: 0.02908. Estimated time left: 0:01:57.066554. Batches since improvement: 0."
     ]
    },
    {
     "name": "stdout",
     "output_type": "stream",
     "text": [
      "\r",
      "Batch: 529. Min loss: 0.02908. Estimated time left: 0:01:42.157320. Batches since improvement: 1."
     ]
    },
    {
     "name": "stdout",
     "output_type": "stream",
     "text": [
      "\r",
      "Batch: 530. Min loss: 0.02908. Estimated time left: 0:01:47.785053. Batches since improvement: 2."
     ]
    },
    {
     "name": "stdout",
     "output_type": "stream",
     "text": [
      "\r",
      "Batch: 531. Min loss: 0.02908. Estimated time left: 0:01:45.479280. Batches since improvement: 3."
     ]
    },
    {
     "name": "stdout",
     "output_type": "stream",
     "text": [
      "\r",
      "Batch: 532. Min loss: 0.02908. Estimated time left: 0:01:45.418068. Batches since improvement: 4."
     ]
    },
    {
     "name": "stdout",
     "output_type": "stream",
     "text": [
      "\r",
      "Batch: 533. Min loss: 0.02908. Estimated time left: 0:01:44.349024. Batches since improvement: 5."
     ]
    },
    {
     "name": "stdout",
     "output_type": "stream",
     "text": [
      "\r",
      "Batch: 534. Min loss: 0.02853. Estimated time left: 0:01:52.586228. Batches since improvement: 0."
     ]
    },
    {
     "name": "stdout",
     "output_type": "stream",
     "text": [
      "\r",
      "Batch: 535. Min loss: 0.02853. Estimated time left: 0:01:57.814586. Batches since improvement: 1."
     ]
    },
    {
     "name": "stdout",
     "output_type": "stream",
     "text": [
      "\r",
      "Batch: 536. Min loss: 0.02853. Estimated time left: 0:01:42.237690. Batches since improvement: 2."
     ]
    },
    {
     "name": "stdout",
     "output_type": "stream",
     "text": [
      "\r",
      "Batch: 537. Min loss: 0.02853. Estimated time left: 0:01:47.087024. Batches since improvement: 3."
     ]
    },
    {
     "name": "stdout",
     "output_type": "stream",
     "text": [
      "\r",
      "Batch: 538. Min loss: 0.02847. Estimated time left: 0:01:50.919058. Batches since improvement: 0."
     ]
    },
    {
     "name": "stdout",
     "output_type": "stream",
     "text": [
      "\r",
      "Batch: 539. Min loss: 0.02715. Estimated time left: 0:01:50.654082. Batches since improvement: 0."
     ]
    },
    {
     "name": "stdout",
     "output_type": "stream",
     "text": [
      "\r",
      "Batch: 540. Min loss: 0.02681. Estimated time left: 0:01:48.472378. Batches since improvement: 0."
     ]
    },
    {
     "name": "stdout",
     "output_type": "stream",
     "text": [
      "\r",
      "Batch: 541. Min loss: 0.02681. Estimated time left: 0:01:35.401240. Batches since improvement: 1."
     ]
    },
    {
     "name": "stdout",
     "output_type": "stream",
     "text": [
      "\r",
      "Batch: 542. Min loss: 0.02681. Estimated time left: 0:01:38.912664. Batches since improvement: 2."
     ]
    },
    {
     "name": "stdout",
     "output_type": "stream",
     "text": [
      "\r",
      "Batch: 543. Min loss: 0.02681. Estimated time left: 0:01:41.447000. Batches since improvement: 3."
     ]
    },
    {
     "name": "stdout",
     "output_type": "stream",
     "text": [
      "\r",
      "Batch: 544. Min loss: 0.02681. Estimated time left: 0:02:10.707027. Batches since improvement: 4."
     ]
    },
    {
     "name": "stdout",
     "output_type": "stream",
     "text": [
      "\r",
      "Batch: 545. Min loss: 0.02681. Estimated time left: 0:01:53.135424. Batches since improvement: 5."
     ]
    },
    {
     "name": "stdout",
     "output_type": "stream",
     "text": [
      "\r",
      "Batch: 546. Min loss: 0.02681. Estimated time left: 0:01:51.116005. Batches since improvement: 6."
     ]
    },
    {
     "name": "stdout",
     "output_type": "stream",
     "text": [
      "\r",
      "Batch: 547. Min loss: 0.02681. Estimated time left: 0:01:46.516118. Batches since improvement: 7."
     ]
    },
    {
     "name": "stdout",
     "output_type": "stream",
     "text": [
      "\r",
      "Batch: 548. Min loss: 0.02681. Estimated time left: 0:01:49.026228. Batches since improvement: 8."
     ]
    },
    {
     "name": "stdout",
     "output_type": "stream",
     "text": [
      "\r",
      "Batch: 549. Min loss: 0.02681. Estimated time left: 0:02:07.327496. Batches since improvement: 9."
     ]
    },
    {
     "name": "stdout",
     "output_type": "stream",
     "text": [
      "\r",
      "Batch: 550. Min loss: 0.02681. Estimated time left: 0:01:47.576128. Batches since improvement: 10."
     ]
    },
    {
     "name": "stdout",
     "output_type": "stream",
     "text": [
      "\r",
      "Batch: 551. Min loss: 0.02666. Estimated time left: 0:01:46.094700. Batches since improvement: 0."
     ]
    },
    {
     "name": "stdout",
     "output_type": "stream",
     "text": [
      "\r",
      "Batch: 552. Min loss: 0.02605. Estimated time left: 0:01:53.983589. Batches since improvement: 0."
     ]
    },
    {
     "name": "stdout",
     "output_type": "stream",
     "text": [
      "\r",
      "Batch: 553. Min loss: 0.02605. Estimated time left: 0:02:00.037568. Batches since improvement: 1."
     ]
    },
    {
     "name": "stdout",
     "output_type": "stream",
     "text": [
      "\r",
      "Batch: 554. Min loss: 0.02605. Estimated time left: 0:01:43.668687. Batches since improvement: 2."
     ]
    },
    {
     "name": "stdout",
     "output_type": "stream",
     "text": [
      "\r",
      "Batch: 555. Min loss: 0.02529. Estimated time left: 0:01:43.743168. Batches since improvement: 0."
     ]
    },
    {
     "name": "stdout",
     "output_type": "stream",
     "text": [
      "\r",
      "Batch: 556. Min loss: 0.02480. Estimated time left: 0:01:43.488755. Batches since improvement: 0."
     ]
    },
    {
     "name": "stdout",
     "output_type": "stream",
     "text": [
      "\r",
      "Batch: 557. Min loss: 0.02435. Estimated time left: 0:01:45.093024. Batches since improvement: 0."
     ]
    },
    {
     "name": "stdout",
     "output_type": "stream",
     "text": [
      "\r",
      "Batch: 558. Min loss: 0.02435. Estimated time left: 0:01:41.754442. Batches since improvement: 1."
     ]
    },
    {
     "name": "stdout",
     "output_type": "stream",
     "text": [
      "\r",
      "Batch: 559. Min loss: 0.02435. Estimated time left: 0:01:51.477704. Batches since improvement: 2."
     ]
    },
    {
     "name": "stdout",
     "output_type": "stream",
     "text": [
      "\r",
      "Batch: 560. Min loss: 0.02435. Estimated time left: 0:01:42.840759. Batches since improvement: 3."
     ]
    },
    {
     "name": "stdout",
     "output_type": "stream",
     "text": [
      "\r",
      "Batch: 561. Min loss: 0.02435. Estimated time left: 0:01:44.766640. Batches since improvement: 4."
     ]
    },
    {
     "name": "stdout",
     "output_type": "stream",
     "text": [
      "\r",
      "Batch: 562. Min loss: 0.02410. Estimated time left: 0:01:48.199013. Batches since improvement: 0."
     ]
    },
    {
     "name": "stdout",
     "output_type": "stream",
     "text": [
      "\r",
      "Batch: 563. Min loss: 0.02410. Estimated time left: 0:01:45.751596. Batches since improvement: 1."
     ]
    },
    {
     "name": "stdout",
     "output_type": "stream",
     "text": [
      "\r",
      "Batch: 564. Min loss: 0.02410. Estimated time left: 0:01:29.679829. Batches since improvement: 2."
     ]
    },
    {
     "name": "stdout",
     "output_type": "stream",
     "text": [
      "\r",
      "Batch: 565. Min loss: 0.02410. Estimated time left: 0:01:38.550824. Batches since improvement: 3."
     ]
    },
    {
     "name": "stdout",
     "output_type": "stream",
     "text": [
      "\r",
      "Batch: 566. Min loss: 0.02353. Estimated time left: 0:01:44.086365. Batches since improvement: 0."
     ]
    },
    {
     "name": "stdout",
     "output_type": "stream",
     "text": [
      "\r",
      "Batch: 567. Min loss: 0.02319. Estimated time left: 0:01:37.414772. Batches since improvement: 0."
     ]
    },
    {
     "name": "stdout",
     "output_type": "stream",
     "text": [
      "\r",
      "Batch: 568. Min loss: 0.02319. Estimated time left: 0:01:42.413160. Batches since improvement: 1."
     ]
    },
    {
     "name": "stdout",
     "output_type": "stream",
     "text": [
      "\r",
      "Batch: 569. Min loss: 0.02245. Estimated time left: 0:01:43.874400. Batches since improvement: 0."
     ]
    },
    {
     "name": "stdout",
     "output_type": "stream",
     "text": [
      "\r",
      "Batch: 570. Min loss: 0.02245. Estimated time left: 0:01:31.168999. Batches since improvement: 1."
     ]
    },
    {
     "name": "stdout",
     "output_type": "stream",
     "text": [
      "\r",
      "Batch: 571. Min loss: 0.02245. Estimated time left: 0:01:42.348600. Batches since improvement: 2."
     ]
    },
    {
     "name": "stdout",
     "output_type": "stream",
     "text": [
      "\r",
      "Batch: 572. Min loss: 0.02245. Estimated time left: 0:01:39.973302. Batches since improvement: 3."
     ]
    },
    {
     "name": "stdout",
     "output_type": "stream",
     "text": [
      "\r",
      "Batch: 573. Min loss: 0.02245. Estimated time left: 0:01:43.128312. Batches since improvement: 4."
     ]
    },
    {
     "name": "stdout",
     "output_type": "stream",
     "text": [
      "\r",
      "Batch: 574. Min loss: 0.02231. Estimated time left: 0:01:41.641799. Batches since improvement: 0."
     ]
    },
    {
     "name": "stdout",
     "output_type": "stream",
     "text": [
      "\r",
      "Batch: 575. Min loss: 0.02231. Estimated time left: 0:01:41.167332. Batches since improvement: 1."
     ]
    },
    {
     "name": "stdout",
     "output_type": "stream",
     "text": [
      "\r",
      "Batch: 576. Min loss: 0.02231. Estimated time left: 0:01:33.704000. Batches since improvement: 2."
     ]
    },
    {
     "name": "stdout",
     "output_type": "stream",
     "text": [
      "\r",
      "Batch: 577. Min loss: 0.02231. Estimated time left: 0:01:34.936568. Batches since improvement: 3."
     ]
    },
    {
     "name": "stdout",
     "output_type": "stream",
     "text": [
      "\r",
      "Batch: 578. Min loss: 0.02231. Estimated time left: 0:01:37.323417. Batches since improvement: 4."
     ]
    },
    {
     "name": "stdout",
     "output_type": "stream",
     "text": [
      "\r",
      "Batch: 579. Min loss: 0.02142. Estimated time left: 0:01:38.668664. Batches since improvement: 0."
     ]
    },
    {
     "name": "stdout",
     "output_type": "stream",
     "text": [
      "\r",
      "Batch: 580. Min loss: 0.02142. Estimated time left: 0:01:38.665981. Batches since improvement: 1."
     ]
    },
    {
     "name": "stdout",
     "output_type": "stream",
     "text": [
      "\r",
      "Batch: 581. Min loss: 0.02142. Estimated time left: 0:01:44.246940. Batches since improvement: 2."
     ]
    },
    {
     "name": "stdout",
     "output_type": "stream",
     "text": [
      "\r",
      "Batch: 582. Min loss: 0.02142. Estimated time left: 0:01:33.708093. Batches since improvement: 3."
     ]
    },
    {
     "name": "stdout",
     "output_type": "stream",
     "text": [
      "\r",
      "Batch: 583. Min loss: 0.02142. Estimated time left: 0:01:35.908010. Batches since improvement: 4."
     ]
    },
    {
     "name": "stdout",
     "output_type": "stream",
     "text": [
      "\r",
      "Batch: 584. Min loss: 0.02043. Estimated time left: 0:01:50.342370. Batches since improvement: 0."
     ]
    },
    {
     "name": "stdout",
     "output_type": "stream",
     "text": [
      "\r",
      "Batch: 585. Min loss: 0.02043. Estimated time left: 0:01:35.727424. Batches since improvement: 1."
     ]
    },
    {
     "name": "stdout",
     "output_type": "stream",
     "text": [
      "\r",
      "Batch: 586. Min loss: 0.02041. Estimated time left: 0:01:45.065550. Batches since improvement: 0."
     ]
    },
    {
     "name": "stdout",
     "output_type": "stream",
     "text": [
      "\r",
      "Batch: 587. Min loss: 0.02041. Estimated time left: 0:01:34.642470. Batches since improvement: 1."
     ]
    },
    {
     "name": "stdout",
     "output_type": "stream",
     "text": [
      "\r",
      "Batch: 588. Min loss: 0.02041. Estimated time left: 0:01:38.796208. Batches since improvement: 2."
     ]
    },
    {
     "name": "stdout",
     "output_type": "stream",
     "text": [
      "\r",
      "Batch: 589. Min loss: 0.02041. Estimated time left: 0:01:34.840752. Batches since improvement: 3."
     ]
    },
    {
     "name": "stdout",
     "output_type": "stream",
     "text": [
      "\r",
      "Batch: 590. Min loss: 0.02041. Estimated time left: 0:01:54.821892. Batches since improvement: 4."
     ]
    },
    {
     "name": "stdout",
     "output_type": "stream",
     "text": [
      "\r",
      "Batch: 591. Min loss: 0.02041. Estimated time left: 0:01:34.188070. Batches since improvement: 5."
     ]
    },
    {
     "name": "stdout",
     "output_type": "stream",
     "text": [
      "\r",
      "Batch: 592. Min loss: 0.02005. Estimated time left: 0:01:37.008665. Batches since improvement: 0."
     ]
    },
    {
     "name": "stdout",
     "output_type": "stream",
     "text": [
      "\r",
      "Batch: 593. Min loss: 0.02005. Estimated time left: 0:01:40.678896. Batches since improvement: 1."
     ]
    },
    {
     "name": "stdout",
     "output_type": "stream",
     "text": [
      "\r",
      "Batch: 594. Min loss: 0.02005. Estimated time left: 0:01:32.818792. Batches since improvement: 2."
     ]
    },
    {
     "name": "stdout",
     "output_type": "stream",
     "text": [
      "\r",
      "Batch: 595. Min loss: 0.02005. Estimated time left: 0:01:34.235848. Batches since improvement: 3."
     ]
    },
    {
     "name": "stdout",
     "output_type": "stream",
     "text": [
      "\r",
      "Batch: 596. Min loss: 0.02005. Estimated time left: 0:01:31.491120. Batches since improvement: 4."
     ]
    },
    {
     "name": "stdout",
     "output_type": "stream",
     "text": [
      "\r",
      "Batch: 597. Min loss: 0.02005. Estimated time left: 0:01:30.938784. Batches since improvement: 5."
     ]
    },
    {
     "name": "stdout",
     "output_type": "stream",
     "text": [
      "\r",
      "Batch: 598. Min loss: 0.02005. Estimated time left: 0:01:34.817840. Batches since improvement: 6."
     ]
    },
    {
     "name": "stdout",
     "output_type": "stream",
     "text": [
      "\r",
      "Batch: 599. Min loss: 0.01960. Estimated time left: 0:01:34.162068. Batches since improvement: 0."
     ]
    },
    {
     "name": "stdout",
     "output_type": "stream",
     "text": [
      "\r",
      "Batch: 600. Min loss: 0.01960. Estimated time left: 0:01:33.586182. Batches since improvement: 1."
     ]
    },
    {
     "name": "stdout",
     "output_type": "stream",
     "text": [
      "\r",
      "Batch: 601. Min loss: 0.01960. Estimated time left: 0:01:30.700000. Batches since improvement: 2."
     ]
    },
    {
     "name": "stdout",
     "output_type": "stream",
     "text": [
      "\r",
      "Batch: 602. Min loss: 0.01960. Estimated time left: 0:01:35.960697. Batches since improvement: 3."
     ]
    },
    {
     "name": "stdout",
     "output_type": "stream",
     "text": [
      "\r",
      "Batch: 603. Min loss: 0.01960. Estimated time left: 0:01:32.594700. Batches since improvement: 4."
     ]
    },
    {
     "name": "stdout",
     "output_type": "stream",
     "text": [
      "\r",
      "Batch: 604. Min loss: 0.01867. Estimated time left: 0:01:49.795511. Batches since improvement: 0."
     ]
    },
    {
     "name": "stdout",
     "output_type": "stream",
     "text": [
      "\r",
      "Batch: 605. Min loss: 0.01867. Estimated time left: 0:01:49.126908. Batches since improvement: 1."
     ]
    },
    {
     "name": "stdout",
     "output_type": "stream",
     "text": [
      "\r",
      "Batch: 606. Min loss: 0.01867. Estimated time left: 0:01:38.765405. Batches since improvement: 2."
     ]
    },
    {
     "name": "stdout",
     "output_type": "stream",
     "text": [
      "\r",
      "Batch: 607. Min loss: 0.01867. Estimated time left: 0:01:43.311528. Batches since improvement: 3."
     ]
    },
    {
     "name": "stdout",
     "output_type": "stream",
     "text": [
      "\r",
      "Batch: 608. Min loss: 0.01843. Estimated time left: 0:01:37.263963. Batches since improvement: 0."
     ]
    },
    {
     "name": "stdout",
     "output_type": "stream",
     "text": [
      "\r",
      "Batch: 609. Min loss: 0.01843. Estimated time left: 0:01:34.827152. Batches since improvement: 1."
     ]
    },
    {
     "name": "stdout",
     "output_type": "stream",
     "text": [
      "\r",
      "Batch: 610. Min loss: 0.01843. Estimated time left: 0:01:31.194103. Batches since improvement: 2."
     ]
    },
    {
     "name": "stdout",
     "output_type": "stream",
     "text": [
      "\r",
      "Batch: 611. Min loss: 0.01843. Estimated time left: 0:01:30.852840. Batches since improvement: 3."
     ]
    },
    {
     "name": "stdout",
     "output_type": "stream",
     "text": [
      "\r",
      "Batch: 612. Min loss: 0.01843. Estimated time left: 0:01:29.103951. Batches since improvement: 4."
     ]
    },
    {
     "name": "stdout",
     "output_type": "stream",
     "text": [
      "\r",
      "Batch: 613. Min loss: 0.01843. Estimated time left: 0:01:23.012600. Batches since improvement: 5."
     ]
    },
    {
     "name": "stdout",
     "output_type": "stream",
     "text": [
      "\r",
      "Batch: 614. Min loss: 0.01843. Estimated time left: 0:01:27.724386. Batches since improvement: 6."
     ]
    },
    {
     "name": "stdout",
     "output_type": "stream",
     "text": [
      "\r",
      "Batch: 615. Min loss: 0.01843. Estimated time left: 0:01:35.832220. Batches since improvement: 7."
     ]
    },
    {
     "name": "stdout",
     "output_type": "stream",
     "text": [
      "\r",
      "Batch: 616. Min loss: 0.01843. Estimated time left: 0:01:26.762830. Batches since improvement: 8."
     ]
    },
    {
     "name": "stdout",
     "output_type": "stream",
     "text": [
      "\r",
      "Batch: 617. Min loss: 0.01843. Estimated time left: 0:01:26.306688. Batches since improvement: 9."
     ]
    },
    {
     "name": "stdout",
     "output_type": "stream",
     "text": [
      "\r",
      "Batch: 618. Min loss: 0.01843. Estimated time left: 0:01:20.822192. Batches since improvement: 10."
     ]
    },
    {
     "name": "stdout",
     "output_type": "stream",
     "text": [
      "\r",
      "Batch: 619. Min loss: 0.01833. Estimated time left: 0:01:35.194782. Batches since improvement: 0."
     ]
    },
    {
     "name": "stdout",
     "output_type": "stream",
     "text": [
      "\r",
      "Batch: 620. Min loss: 0.01833. Estimated time left: 0:01:27.769065. Batches since improvement: 1."
     ]
    },
    {
     "name": "stdout",
     "output_type": "stream",
     "text": [
      "\r",
      "Batch: 621. Min loss: 0.01833. Estimated time left: 0:01:28.403200. Batches since improvement: 2."
     ]
    },
    {
     "name": "stdout",
     "output_type": "stream",
     "text": [
      "\r",
      "Batch: 622. Min loss: 0.01833. Estimated time left: 0:01:27.992809. Batches since improvement: 3."
     ]
    },
    {
     "name": "stdout",
     "output_type": "stream",
     "text": [
      "\r",
      "Batch: 623. Min loss: 0.01756. Estimated time left: 0:01:37.448400. Batches since improvement: 0."
     ]
    },
    {
     "name": "stdout",
     "output_type": "stream",
     "text": [
      "\r",
      "Batch: 624. Min loss: 0.01756. Estimated time left: 0:01:31.971412. Batches since improvement: 1."
     ]
    },
    {
     "name": "stdout",
     "output_type": "stream",
     "text": [
      "\r",
      "Batch: 625. Min loss: 0.01756. Estimated time left: 0:01:33.413816. Batches since improvement: 2."
     ]
    },
    {
     "name": "stdout",
     "output_type": "stream",
     "text": [
      "\r",
      "Batch: 626. Min loss: 0.01756. Estimated time left: 0:01:24.294375. Batches since improvement: 3."
     ]
    },
    {
     "name": "stdout",
     "output_type": "stream",
     "text": [
      "\r",
      "Batch: 627. Min loss: 0.01756. Estimated time left: 0:01:27.454290. Batches since improvement: 4."
     ]
    },
    {
     "name": "stdout",
     "output_type": "stream",
     "text": [
      "\r",
      "Batch: 628. Min loss: 0.01756. Estimated time left: 0:01:17.528796. Batches since improvement: 5."
     ]
    },
    {
     "name": "stdout",
     "output_type": "stream",
     "text": [
      "\r",
      "Batch: 629. Min loss: 0.01756. Estimated time left: 0:01:26.357196. Batches since improvement: 6."
     ]
    },
    {
     "name": "stdout",
     "output_type": "stream",
     "text": [
      "\r",
      "Batch: 630. Min loss: 0.01756. Estimated time left: 0:01:43.004069. Batches since improvement: 7."
     ]
    },
    {
     "name": "stdout",
     "output_type": "stream",
     "text": [
      "\r",
      "Batch: 631. Min loss: 0.01756. Estimated time left: 0:01:25.930280. Batches since improvement: 8."
     ]
    },
    {
     "name": "stdout",
     "output_type": "stream",
     "text": [
      "\r",
      "Batch: 632. Min loss: 0.01748. Estimated time left: 0:01:27.652260. Batches since improvement: 0."
     ]
    },
    {
     "name": "stdout",
     "output_type": "stream",
     "text": [
      "\r",
      "Batch: 633. Min loss: 0.01748. Estimated time left: 0:01:24.651040. Batches since improvement: 1."
     ]
    },
    {
     "name": "stdout",
     "output_type": "stream",
     "text": [
      "\r",
      "Batch: 634. Min loss: 0.01613. Estimated time left: 0:01:24.677910. Batches since improvement: 0."
     ]
    },
    {
     "name": "stdout",
     "output_type": "stream",
     "text": [
      "\r",
      "Batch: 635. Min loss: 0.01613. Estimated time left: 0:01:22.972200. Batches since improvement: 1."
     ]
    },
    {
     "name": "stdout",
     "output_type": "stream",
     "text": [
      "\r",
      "Batch: 636. Min loss: 0.01613. Estimated time left: 0:01:24.716135. Batches since improvement: 2."
     ]
    },
    {
     "name": "stdout",
     "output_type": "stream",
     "text": [
      "\r",
      "Batch: 637. Min loss: 0.01613. Estimated time left: 0:01:12.423988. Batches since improvement: 3."
     ]
    },
    {
     "name": "stdout",
     "output_type": "stream",
     "text": [
      "\r",
      "Batch: 638. Min loss: 0.01613. Estimated time left: 0:01:25.430235. Batches since improvement: 4."
     ]
    },
    {
     "name": "stdout",
     "output_type": "stream",
     "text": [
      "\r",
      "Batch: 639. Min loss: 0.01613. Estimated time left: 0:01:22.846958. Batches since improvement: 5."
     ]
    },
    {
     "name": "stdout",
     "output_type": "stream",
     "text": [
      "\r",
      "Batch: 640. Min loss: 0.01613. Estimated time left: 0:01:24.863158. Batches since improvement: 6."
     ]
    },
    {
     "name": "stdout",
     "output_type": "stream",
     "text": [
      "\r",
      "Batch: 641. Min loss: 0.01613. Estimated time left: 0:01:28.143120. Batches since improvement: 7."
     ]
    },
    {
     "name": "stdout",
     "output_type": "stream",
     "text": [
      "\r",
      "Batch: 642. Min loss: 0.01613. Estimated time left: 0:01:34.698456. Batches since improvement: 8."
     ]
    },
    {
     "name": "stdout",
     "output_type": "stream",
     "text": [
      "\r",
      "Batch: 643. Min loss: 0.01613. Estimated time left: 0:01:26.080742. Batches since improvement: 9."
     ]
    },
    {
     "name": "stdout",
     "output_type": "stream",
     "text": [
      "\r",
      "Batch: 644. Min loss: 0.01613. Estimated time left: 0:01:17.741034. Batches since improvement: 10."
     ]
    },
    {
     "name": "stdout",
     "output_type": "stream",
     "text": [
      "\r",
      "Batch: 645. Min loss: 0.01613. Estimated time left: 0:01:20.486616. Batches since improvement: 11."
     ]
    },
    {
     "name": "stdout",
     "output_type": "stream",
     "text": [
      "\r",
      "Batch: 646. Min loss: 0.01613. Estimated time left: 0:01:17.990305. Batches since improvement: 12."
     ]
    },
    {
     "name": "stdout",
     "output_type": "stream",
     "text": [
      "\r",
      "Batch: 647. Min loss: 0.01613. Estimated time left: 0:01:29.060028. Batches since improvement: 13."
     ]
    },
    {
     "name": "stdout",
     "output_type": "stream",
     "text": [
      "\r",
      "Batch: 648. Min loss: 0.01613. Estimated time left: 0:01:23.561807. Batches since improvement: 14."
     ]
    },
    {
     "name": "stdout",
     "output_type": "stream",
     "text": [
      "\r",
      "Batch: 649. Min loss: 0.01613. Estimated time left: 0:01:23.188864. Batches since improvement: 15."
     ]
    },
    {
     "name": "stdout",
     "output_type": "stream",
     "text": [
      "\r",
      "Batch: 650. Min loss: 0.01613. Estimated time left: 0:01:19.997814. Batches since improvement: 16."
     ]
    },
    {
     "name": "stdout",
     "output_type": "stream",
     "text": [
      "\r",
      "Batch: 651. Min loss: 0.01561. Estimated time left: 0:01:24.968800. Batches since improvement: 0."
     ]
    },
    {
     "name": "stdout",
     "output_type": "stream",
     "text": [
      "\r",
      "Batch: 652. Min loss: 0.01561. Estimated time left: 0:01:22.034195. Batches since improvement: 1."
     ]
    },
    {
     "name": "stdout",
     "output_type": "stream",
     "text": [
      "\r",
      "Batch: 653. Min loss: 0.01561. Estimated time left: 0:01:18.395700. Batches since improvement: 2."
     ]
    },
    {
     "name": "stdout",
     "output_type": "stream",
     "text": [
      "\r",
      "Batch: 654. Min loss: 0.01561. Estimated time left: 0:01:22.539502. Batches since improvement: 3."
     ]
    },
    {
     "name": "stdout",
     "output_type": "stream",
     "text": [
      "\r",
      "Batch: 655. Min loss: 0.01534. Estimated time left: 0:01:23.487724. Batches since improvement: 0."
     ]
    },
    {
     "name": "stdout",
     "output_type": "stream",
     "text": [
      "\r",
      "Batch: 656. Min loss: 0.01494. Estimated time left: 0:01:20.833155. Batches since improvement: 0."
     ]
    },
    {
     "name": "stdout",
     "output_type": "stream",
     "text": [
      "\r",
      "Batch: 657. Min loss: 0.01494. Estimated time left: 0:01:17.709256. Batches since improvement: 1."
     ]
    },
    {
     "name": "stdout",
     "output_type": "stream",
     "text": [
      "\r",
      "Batch: 658. Min loss: 0.01494. Estimated time left: 0:01:18.845753. Batches since improvement: 2."
     ]
    },
    {
     "name": "stdout",
     "output_type": "stream",
     "text": [
      "\r",
      "Batch: 659. Min loss: 0.01494. Estimated time left: 0:01:17.460948. Batches since improvement: 3."
     ]
    },
    {
     "name": "stdout",
     "output_type": "stream",
     "text": [
      "\r",
      "Batch: 660. Min loss: 0.01494. Estimated time left: 0:01:15.484442. Batches since improvement: 4."
     ]
    },
    {
     "name": "stdout",
     "output_type": "stream",
     "text": [
      "\r",
      "Batch: 661. Min loss: 0.01494. Estimated time left: 0:01:15.939340. Batches since improvement: 5."
     ]
    },
    {
     "name": "stdout",
     "output_type": "stream",
     "text": [
      "\r",
      "Batch: 662. Min loss: 0.01494. Estimated time left: 0:01:19.878231. Batches since improvement: 6."
     ]
    },
    {
     "name": "stdout",
     "output_type": "stream",
     "text": [
      "\r",
      "Batch: 663. Min loss: 0.01494. Estimated time left: 0:01:38.427628. Batches since improvement: 7."
     ]
    },
    {
     "name": "stdout",
     "output_type": "stream",
     "text": [
      "\r",
      "Batch: 664. Min loss: 0.01494. Estimated time left: 0:01:18.142212. Batches since improvement: 8."
     ]
    },
    {
     "name": "stdout",
     "output_type": "stream",
     "text": [
      "\r",
      "Batch: 665. Min loss: 0.01494. Estimated time left: 0:01:19.690464. Batches since improvement: 9."
     ]
    },
    {
     "name": "stdout",
     "output_type": "stream",
     "text": [
      "\r",
      "Batch: 666. Min loss: 0.01494. Estimated time left: 0:01:18.166220. Batches since improvement: 10."
     ]
    },
    {
     "name": "stdout",
     "output_type": "stream",
     "text": [
      "\r",
      "Batch: 667. Min loss: 0.01474. Estimated time left: 0:01:18.410508. Batches since improvement: 0."
     ]
    },
    {
     "name": "stdout",
     "output_type": "stream",
     "text": [
      "\r",
      "Batch: 668. Min loss: 0.01467. Estimated time left: 0:01:15.858066. Batches since improvement: 0."
     ]
    },
    {
     "name": "stdout",
     "output_type": "stream",
     "text": [
      "\r",
      "Batch: 669. Min loss: 0.01467. Estimated time left: 0:01:17.138540. Batches since improvement: 1."
     ]
    },
    {
     "name": "stdout",
     "output_type": "stream",
     "text": [
      "\r",
      "Batch: 670. Min loss: 0.01467. Estimated time left: 0:01:32.900777. Batches since improvement: 2."
     ]
    },
    {
     "name": "stdout",
     "output_type": "stream",
     "text": [
      "\r",
      "Batch: 671. Min loss: 0.01467. Estimated time left: 0:01:15.408960. Batches since improvement: 3."
     ]
    },
    {
     "name": "stdout",
     "output_type": "stream",
     "text": [
      "\r",
      "Batch: 672. Min loss: 0.01416. Estimated time left: 0:01:18.187508. Batches since improvement: 0."
     ]
    },
    {
     "name": "stdout",
     "output_type": "stream",
     "text": [
      "\r",
      "Batch: 673. Min loss: 0.01416. Estimated time left: 0:01:10.571824. Batches since improvement: 1."
     ]
    },
    {
     "name": "stdout",
     "output_type": "stream",
     "text": [
      "\r",
      "Batch: 674. Min loss: 0.01416. Estimated time left: 0:01:27.906102. Batches since improvement: 2."
     ]
    },
    {
     "name": "stdout",
     "output_type": "stream",
     "text": [
      "\r",
      "Batch: 675. Min loss: 0.01416. Estimated time left: 0:01:19.235604. Batches since improvement: 3."
     ]
    },
    {
     "name": "stdout",
     "output_type": "stream",
     "text": [
      "\r",
      "Batch: 676. Min loss: 0.01416. Estimated time left: 0:01:12.043075. Batches since improvement: 4."
     ]
    },
    {
     "name": "stdout",
     "output_type": "stream",
     "text": [
      "\r",
      "Batch: 677. Min loss: 0.01416. Estimated time left: 0:01:13.700928. Batches since improvement: 5."
     ]
    },
    {
     "name": "stdout",
     "output_type": "stream",
     "text": [
      "\r",
      "Batch: 678. Min loss: 0.01416. Estimated time left: 0:01:14.418231. Batches since improvement: 6."
     ]
    },
    {
     "name": "stdout",
     "output_type": "stream",
     "text": [
      "\r",
      "Batch: 679. Min loss: 0.01416. Estimated time left: 0:01:20.111346. Batches since improvement: 7."
     ]
    },
    {
     "name": "stdout",
     "output_type": "stream",
     "text": [
      "\r",
      "Batch: 680. Min loss: 0.01416. Estimated time left: 0:01:26.367939. Batches since improvement: 8."
     ]
    },
    {
     "name": "stdout",
     "output_type": "stream",
     "text": [
      "\r",
      "Batch: 681. Min loss: 0.01416. Estimated time left: 0:01:17.803840. Batches since improvement: 9."
     ]
    },
    {
     "name": "stdout",
     "output_type": "stream",
     "text": [
      "\r",
      "Batch: 682. Min loss: 0.01416. Estimated time left: 0:01:08.328205. Batches since improvement: 10."
     ]
    },
    {
     "name": "stdout",
     "output_type": "stream",
     "text": [
      "\r",
      "Batch: 683. Min loss: 0.01403. Estimated time left: 0:01:15.801342. Batches since improvement: 0."
     ]
    },
    {
     "name": "stdout",
     "output_type": "stream",
     "text": [
      "\r",
      "Batch: 684. Min loss: 0.01403. Estimated time left: 0:01:14.611656. Batches since improvement: 1."
     ]
    },
    {
     "name": "stdout",
     "output_type": "stream",
     "text": [
      "\r",
      "Batch: 685. Min loss: 0.01330. Estimated time left: 0:01:18.670728. Batches since improvement: 0."
     ]
    },
    {
     "name": "stdout",
     "output_type": "stream",
     "text": [
      "\r",
      "Batch: 686. Min loss: 0.01330. Estimated time left: 0:01:10.689780. Batches since improvement: 1."
     ]
    },
    {
     "name": "stdout",
     "output_type": "stream",
     "text": [
      "\r",
      "Batch: 687. Min loss: 0.01330. Estimated time left: 0:01:15.461108. Batches since improvement: 2."
     ]
    },
    {
     "name": "stdout",
     "output_type": "stream",
     "text": [
      "\r",
      "Batch: 688. Min loss: 0.01330. Estimated time left: 0:01:13.492713. Batches since improvement: 3."
     ]
    },
    {
     "name": "stdout",
     "output_type": "stream",
     "text": [
      "\r",
      "Batch: 689. Min loss: 0.01330. Estimated time left: 0:01:11.981208. Batches since improvement: 4."
     ]
    },
    {
     "name": "stdout",
     "output_type": "stream",
     "text": [
      "\r",
      "Batch: 690. Min loss: 0.01330. Estimated time left: 0:01:09.646273. Batches since improvement: 5."
     ]
    },
    {
     "name": "stdout",
     "output_type": "stream",
     "text": [
      "\r",
      "Batch: 691. Min loss: 0.01330. Estimated time left: 0:01:11.415320. Batches since improvement: 6."
     ]
    },
    {
     "name": "stdout",
     "output_type": "stream",
     "text": [
      "\r",
      "Batch: 692. Min loss: 0.01330. Estimated time left: 0:01:11.806347. Batches since improvement: 7."
     ]
    },
    {
     "name": "stdout",
     "output_type": "stream",
     "text": [
      "\r",
      "Batch: 693. Min loss: 0.01330. Estimated time left: 0:01:12.748368. Batches since improvement: 8."
     ]
    },
    {
     "name": "stdout",
     "output_type": "stream",
     "text": [
      "\r",
      "Batch: 694. Min loss: 0.01330. Estimated time left: 0:01:11.614197. Batches since improvement: 9."
     ]
    },
    {
     "name": "stdout",
     "output_type": "stream",
     "text": [
      "\r",
      "Batch: 695. Min loss: 0.01273. Estimated time left: 0:01:07.807458. Batches since improvement: 0."
     ]
    },
    {
     "name": "stdout",
     "output_type": "stream",
     "text": [
      "\r",
      "Batch: 696. Min loss: 0.01273. Estimated time left: 0:01:10.686800. Batches since improvement: 1."
     ]
    },
    {
     "name": "stdout",
     "output_type": "stream",
     "text": [
      "\r",
      "Batch: 697. Min loss: 0.01273. Estimated time left: 0:01:10.801904. Batches since improvement: 2."
     ]
    },
    {
     "name": "stdout",
     "output_type": "stream",
     "text": [
      "\r",
      "Batch: 698. Min loss: 0.01271. Estimated time left: 0:01:15.226719. Batches since improvement: 0."
     ]
    },
    {
     "name": "stdout",
     "output_type": "stream",
     "text": [
      "\r",
      "Batch: 699. Min loss: 0.01271. Estimated time left: 0:01:16.249866. Batches since improvement: 1."
     ]
    },
    {
     "name": "stdout",
     "output_type": "stream",
     "text": [
      "\r",
      "Batch: 700. Min loss: 0.01271. Estimated time left: 0:01:06.073112. Batches since improvement: 2."
     ]
    },
    {
     "name": "stdout",
     "output_type": "stream",
     "text": [
      "\r",
      "Batch: 701. Min loss: 0.01271. Estimated time left: 0:01:26.408700. Batches since improvement: 3."
     ]
    },
    {
     "name": "stdout",
     "output_type": "stream",
     "text": [
      "\r",
      "Batch: 702. Min loss: 0.01240. Estimated time left: 0:01:09.558762. Batches since improvement: 0."
     ]
    },
    {
     "name": "stdout",
     "output_type": "stream",
     "text": [
      "\r",
      "Batch: 703. Min loss: 0.01240. Estimated time left: 0:01:11.688668. Batches since improvement: 1."
     ]
    },
    {
     "name": "stdout",
     "output_type": "stream",
     "text": [
      "\r",
      "Batch: 704. Min loss: 0.01240. Estimated time left: 0:01:06.674421. Batches since improvement: 2."
     ]
    },
    {
     "name": "stdout",
     "output_type": "stream",
     "text": [
      "\r",
      "Batch: 705. Min loss: 0.01240. Estimated time left: 0:01:11.050064. Batches since improvement: 3."
     ]
    },
    {
     "name": "stdout",
     "output_type": "stream",
     "text": [
      "\r",
      "Batch: 706. Min loss: 0.01240. Estimated time left: 0:01:12.171455. Batches since improvement: 4."
     ]
    },
    {
     "name": "stdout",
     "output_type": "stream",
     "text": [
      "\r",
      "Batch: 707. Min loss: 0.01240. Estimated time left: 0:01:12.071454. Batches since improvement: 5."
     ]
    },
    {
     "name": "stdout",
     "output_type": "stream",
     "text": [
      "\r",
      "Batch: 708. Min loss: 0.01240. Estimated time left: 0:01:10.484959. Batches since improvement: 6."
     ]
    },
    {
     "name": "stdout",
     "output_type": "stream",
     "text": [
      "\r",
      "Batch: 709. Min loss: 0.01240. Estimated time left: 0:01:04.938756. Batches since improvement: 7."
     ]
    },
    {
     "name": "stdout",
     "output_type": "stream",
     "text": [
      "\r",
      "Batch: 710. Min loss: 0.01240. Estimated time left: 0:01:07.863819. Batches since improvement: 8."
     ]
    },
    {
     "name": "stdout",
     "output_type": "stream",
     "text": [
      "\r",
      "Batch: 711. Min loss: 0.01205. Estimated time left: 0:01:04.941730. Batches since improvement: 0."
     ]
    },
    {
     "name": "stdout",
     "output_type": "stream",
     "text": [
      "\r",
      "Batch: 712. Min loss: 0.01205. Estimated time left: 0:01:05.444050. Batches since improvement: 1."
     ]
    },
    {
     "name": "stdout",
     "output_type": "stream",
     "text": [
      "\r",
      "Batch: 713. Min loss: 0.01205. Estimated time left: 0:01:04.387584. Batches since improvement: 2."
     ]
    },
    {
     "ename": "KeyboardInterrupt",
     "evalue": "",
     "output_type": "error",
     "traceback": [
      "\u001b[0;31m\u001b[0m",
      "\u001b[0;31mKeyboardInterrupt\u001b[0mTraceback (most recent call last)",
      "\u001b[0;32m<ipython-input-3-57b156d57fbf>\u001b[0m in \u001b[0;36m<module>\u001b[0;34m()\u001b[0m\n\u001b[1;32m     36\u001b[0m         \u001b[0mlabels\u001b[0m \u001b[0;34m=\u001b[0m \u001b[0mrnn\u001b[0m\u001b[0;34m.\u001b[0m\u001b[0mpack_padded_sequence\u001b[0m\u001b[0;34m(\u001b[0m\u001b[0mlabels\u001b[0m\u001b[0;34m,\u001b[0m \u001b[0mvalid_elems\u001b[0m\u001b[0;34m,\u001b[0m \u001b[0menforce_sorted\u001b[0m\u001b[0;34m=\u001b[0m\u001b[0;32mFalse\u001b[0m\u001b[0;34m,\u001b[0m \u001b[0mbatch_first\u001b[0m\u001b[0;34m=\u001b[0m\u001b[0;32mTrue\u001b[0m\u001b[0;34m)\u001b[0m\u001b[0;34m\u001b[0m\u001b[0;34m\u001b[0m\u001b[0m\n\u001b[1;32m     37\u001b[0m \u001b[0;34m\u001b[0m\u001b[0m\n\u001b[0;32m---> 38\u001b[0;31m         \u001b[0mout\u001b[0m\u001b[0;34m,\u001b[0m \u001b[0mhidden\u001b[0m \u001b[0;34m=\u001b[0m \u001b[0mmodel\u001b[0m\u001b[0;34m(\u001b[0m\u001b[0mbatch\u001b[0m\u001b[0;34m)\u001b[0m\u001b[0;34m\u001b[0m\u001b[0;34m\u001b[0m\u001b[0m\n\u001b[0m\u001b[1;32m     39\u001b[0m \u001b[0;34m\u001b[0m\u001b[0m\n\u001b[1;32m     40\u001b[0m         \u001b[0mout\u001b[0m \u001b[0;34m=\u001b[0m \u001b[0mrnn\u001b[0m\u001b[0;34m.\u001b[0m\u001b[0mpack_padded_sequence\u001b[0m\u001b[0;34m(\u001b[0m\u001b[0mout\u001b[0m\u001b[0;34m,\u001b[0m \u001b[0mvalid_elems\u001b[0m\u001b[0;34m,\u001b[0m \u001b[0menforce_sorted\u001b[0m\u001b[0;34m=\u001b[0m\u001b[0;32mFalse\u001b[0m\u001b[0;34m)\u001b[0m\u001b[0;34m\u001b[0m\u001b[0;34m\u001b[0m\u001b[0m\n",
      "\u001b[0;32m/home/cavtheman/.local/lib/python3.6/site-packages/torch/nn/modules/module.py\u001b[0m in \u001b[0;36m__call__\u001b[0;34m(self, *input, **kwargs)\u001b[0m\n\u001b[1;32m    530\u001b[0m             \u001b[0mresult\u001b[0m \u001b[0;34m=\u001b[0m \u001b[0mself\u001b[0m\u001b[0;34m.\u001b[0m\u001b[0m_slow_forward\u001b[0m\u001b[0;34m(\u001b[0m\u001b[0;34m*\u001b[0m\u001b[0minput\u001b[0m\u001b[0;34m,\u001b[0m \u001b[0;34m**\u001b[0m\u001b[0mkwargs\u001b[0m\u001b[0;34m)\u001b[0m\u001b[0;34m\u001b[0m\u001b[0;34m\u001b[0m\u001b[0m\n\u001b[1;32m    531\u001b[0m         \u001b[0;32melse\u001b[0m\u001b[0;34m:\u001b[0m\u001b[0;34m\u001b[0m\u001b[0;34m\u001b[0m\u001b[0m\n\u001b[0;32m--> 532\u001b[0;31m             \u001b[0mresult\u001b[0m \u001b[0;34m=\u001b[0m \u001b[0mself\u001b[0m\u001b[0;34m.\u001b[0m\u001b[0mforward\u001b[0m\u001b[0;34m(\u001b[0m\u001b[0;34m*\u001b[0m\u001b[0minput\u001b[0m\u001b[0;34m,\u001b[0m \u001b[0;34m**\u001b[0m\u001b[0mkwargs\u001b[0m\u001b[0;34m)\u001b[0m\u001b[0;34m\u001b[0m\u001b[0;34m\u001b[0m\u001b[0m\n\u001b[0m\u001b[1;32m    533\u001b[0m         \u001b[0;32mfor\u001b[0m \u001b[0mhook\u001b[0m \u001b[0;32min\u001b[0m \u001b[0mself\u001b[0m\u001b[0;34m.\u001b[0m\u001b[0m_forward_hooks\u001b[0m\u001b[0;34m.\u001b[0m\u001b[0mvalues\u001b[0m\u001b[0;34m(\u001b[0m\u001b[0;34m)\u001b[0m\u001b[0;34m:\u001b[0m\u001b[0;34m\u001b[0m\u001b[0;34m\u001b[0m\u001b[0m\n\u001b[1;32m    534\u001b[0m             \u001b[0mhook_result\u001b[0m \u001b[0;34m=\u001b[0m \u001b[0mhook\u001b[0m\u001b[0;34m(\u001b[0m\u001b[0mself\u001b[0m\u001b[0;34m,\u001b[0m \u001b[0minput\u001b[0m\u001b[0;34m,\u001b[0m \u001b[0mresult\u001b[0m\u001b[0;34m)\u001b[0m\u001b[0;34m\u001b[0m\u001b[0;34m\u001b[0m\u001b[0m\n",
      "\u001b[0;32m/home/cavtheman/skolearbejde/proteinbachelor/lstm.py\u001b[0m in \u001b[0;36mforward\u001b[0;34m(self, input_data)\u001b[0m\n\u001b[1;32m     66\u001b[0m         \u001b[0mlstm_out\u001b[0m\u001b[0;34m,\u001b[0m \u001b[0;34m(\u001b[0m\u001b[0mhn\u001b[0m\u001b[0;34m,\u001b[0m \u001b[0mcn\u001b[0m\u001b[0;34m)\u001b[0m \u001b[0;34m=\u001b[0m \u001b[0mself\u001b[0m\u001b[0;34m.\u001b[0m\u001b[0mmodel\u001b[0m\u001b[0;34m(\u001b[0m\u001b[0minput_data\u001b[0m\u001b[0;34m,\u001b[0m \u001b[0mself\u001b[0m\u001b[0;34m.\u001b[0m\u001b[0minit_hidden\u001b[0m\u001b[0;34m)\u001b[0m\u001b[0;34m\u001b[0m\u001b[0;34m\u001b[0m\u001b[0m\n\u001b[1;32m     67\u001b[0m \u001b[0;34m\u001b[0m\u001b[0m\n\u001b[0;32m---> 68\u001b[0;31m         \u001b[0mlin_in\u001b[0m\u001b[0;34m,\u001b[0m \u001b[0m_\u001b[0m \u001b[0;34m=\u001b[0m \u001b[0mrnn\u001b[0m\u001b[0;34m.\u001b[0m\u001b[0mpad_packed_sequence\u001b[0m\u001b[0;34m(\u001b[0m\u001b[0mlstm_out\u001b[0m\u001b[0;34m,\u001b[0m \u001b[0mtotal_length\u001b[0m\u001b[0;34m=\u001b[0m\u001b[0mself\u001b[0m\u001b[0;34m.\u001b[0m\u001b[0mmax_seq_len\u001b[0m\u001b[0;34m)\u001b[0m\u001b[0;34m\u001b[0m\u001b[0;34m\u001b[0m\u001b[0m\n\u001b[0m\u001b[1;32m     69\u001b[0m \u001b[0;34m\u001b[0m\u001b[0m\n\u001b[1;32m     70\u001b[0m         \u001b[0mtag_space\u001b[0m \u001b[0;34m=\u001b[0m \u001b[0mself\u001b[0m\u001b[0;34m.\u001b[0m\u001b[0mlinear\u001b[0m\u001b[0;34m(\u001b[0m\u001b[0mlin_in\u001b[0m\u001b[0;34m.\u001b[0m\u001b[0mview\u001b[0m\u001b[0;34m(\u001b[0m\u001b[0;34m-\u001b[0m\u001b[0;36m1\u001b[0m\u001b[0;34m,\u001b[0m\u001b[0mlin_in\u001b[0m\u001b[0;34m.\u001b[0m\u001b[0msize\u001b[0m\u001b[0;34m(\u001b[0m\u001b[0;34m)\u001b[0m\u001b[0;34m[\u001b[0m\u001b[0;36m2\u001b[0m\u001b[0;34m]\u001b[0m\u001b[0;34m)\u001b[0m\u001b[0;34m)\u001b[0m\u001b[0;34m\u001b[0m\u001b[0;34m\u001b[0m\u001b[0m\n",
      "\u001b[0;32m/home/cavtheman/.local/lib/python3.6/site-packages/torch/nn/utils/rnn.py\u001b[0m in \u001b[0;36mpad_packed_sequence\u001b[0;34m(sequence, batch_first, padding_value, total_length)\u001b[0m\n\u001b[1;32m    282\u001b[0m     \u001b[0;32mif\u001b[0m \u001b[0munsorted_indices\u001b[0m \u001b[0;32mis\u001b[0m \u001b[0;32mnot\u001b[0m \u001b[0;32mNone\u001b[0m\u001b[0;34m:\u001b[0m\u001b[0;34m\u001b[0m\u001b[0;34m\u001b[0m\u001b[0m\n\u001b[1;32m    283\u001b[0m         \u001b[0mbatch_dim\u001b[0m \u001b[0;34m=\u001b[0m \u001b[0;36m0\u001b[0m \u001b[0;32mif\u001b[0m \u001b[0mbatch_first\u001b[0m \u001b[0;32melse\u001b[0m \u001b[0;36m1\u001b[0m\u001b[0;34m\u001b[0m\u001b[0;34m\u001b[0m\u001b[0m\n\u001b[0;32m--> 284\u001b[0;31m         \u001b[0;32mreturn\u001b[0m \u001b[0mpadded_output\u001b[0m\u001b[0;34m.\u001b[0m\u001b[0mindex_select\u001b[0m\u001b[0;34m(\u001b[0m\u001b[0mbatch_dim\u001b[0m\u001b[0;34m,\u001b[0m \u001b[0munsorted_indices\u001b[0m\u001b[0;34m)\u001b[0m\u001b[0;34m,\u001b[0m \u001b[0mlengths\u001b[0m\u001b[0;34m[\u001b[0m\u001b[0munsorted_indices\u001b[0m\u001b[0;34m]\u001b[0m\u001b[0;34m\u001b[0m\u001b[0;34m\u001b[0m\u001b[0m\n\u001b[0m\u001b[1;32m    285\u001b[0m     \u001b[0;32mreturn\u001b[0m \u001b[0mpadded_output\u001b[0m\u001b[0;34m,\u001b[0m \u001b[0mlengths\u001b[0m\u001b[0;34m\u001b[0m\u001b[0;34m\u001b[0m\u001b[0m\n\u001b[1;32m    286\u001b[0m \u001b[0;34m\u001b[0m\u001b[0m\n",
      "\u001b[0;31mKeyboardInterrupt\u001b[0m: "
     ]
    }
   ],
   "source": [
    "# Initialising some variables for use in training\n",
    "batches = 1000\n",
    "time_diff = 0\n",
    "no_improv = 0\n",
    "min_loss = float(\"inf\")\n",
    "loss_list = []\n",
    "epochs = 1\n",
    "print_stuff = True\n",
    "\n",
    "# Main training loop\n",
    "for epoch in range(epochs):\n",
    "    for i, (batch, labels, valid_elems) in enumerate(base_generator):\n",
    "\n",
    "        # Keeping track of stuff\n",
    "        start_time = datetime.now()\n",
    "        sys.stdout.write(\"\\rBatch: {0}. Min loss: {1:.5f}. Estimated time left: {2}. Batches since improvement: {3}.\".format(i+1, min_loss, time_diff*(batches - i), no_improv))\n",
    "\n",
    "        # Putting data on gpu\n",
    "        batch = batch.to(processor)\n",
    "        labels = labels.to(processor)\n",
    "        valid_elems = valid_elems.to(processor)\n",
    "\n",
    "        # Transposing from (batch x seq x feature_size) to (seq x batch x feature_size)\n",
    "        batch = batch.transpose(0, 1)\n",
    "\n",
    "        # Resetting gradients\n",
    "        model.train()\n",
    "        model.zero_grad()\n",
    "    \n",
    "        if i == 0 and print_stuff:\n",
    "            print(\"\\nInput:\\t\", batch.size())\n",
    "            print(\"Labels:\\t\", labels.size())\n",
    "            print(\"Valid:\\t\", valid_elems)\n",
    "\n",
    "        batch = rnn.pack_padded_sequence(batch, valid_elems, enforce_sorted=False)\n",
    "        labels = rnn.pack_padded_sequence(labels, valid_elems, enforce_sorted=False, batch_first=True)\n",
    "\n",
    "        out, hidden = model(batch)\n",
    "        \n",
    "        out = rnn.pack_padded_sequence(out, valid_elems, enforce_sorted=False)\n",
    "        if i == 0 and print_stuff:\n",
    "            print(\"Output:\\t\", out.data.size())\n",
    "            print(\"Hidden:\\t\", hidden.data.size())\n",
    "\n",
    "\n",
    "        #print(out.data.size())\n",
    "        #print(labels.data.size())\n",
    "        loss = loss_function(out.data, labels.data)\n",
    "    \n",
    "        '''\n",
    "        # This bit is replaced by packing labels and the line above\n",
    "        # Backpropping only through the non-padded parts\n",
    "        loss = 0\n",
    "        for j in range(out.size()[1]):\n",
    "        #print(out.size())\n",
    "        #print(torch.narrow(out, 1, j, 1).squeeze(1).size())\n",
    "        \n",
    "        narrowed_out = torch.narrow(torch.narrow(out, 1, j, 1).squeeze(1), 0, 0, valid_elems[j])\n",
    "        narrowed_labels = torch.narrow(labels[j], 0, 0, valid_elems[j])\n",
    "\n",
    "        #print_seq(narrowed_out[0].view(1,2000,23))\n",
    "        \n",
    "        print(narrowed_out.size())\n",
    "        print(narrowed_labels.size())\n",
    "        loss += loss_function(narrowed_out, narrowed_labels)\n",
    "        '''\n",
    "        #loss /= out.size()[1]\n",
    "\n",
    "        loss_list.append(loss.item())\n",
    "        loss.backward()\n",
    "        optimiser.step()\n",
    "\n",
    "        if loss.item() < min_loss:\n",
    "            torch.save(model.state_dict(), \"model.pth\")\n",
    "            min_loss = loss.item()\n",
    "            no_improv = 0\n",
    "        else:\n",
    "            no_improv += 1\n",
    "        \n",
    "    \n",
    "    \n",
    "        # For tracking progress\n",
    "        end_time = datetime.now()\n",
    "        time_diff = end_time - start_time\n",
    "    \n",
    "        # Breaking when it's run through the given number of batches\n",
    "        if i+1 >= batches:\n",
    "            break"
   ]
  },
  {
   "cell_type": "code",
   "execution_count": 4,
   "metadata": {
    "collapsed": false
   },
   "outputs": [
    {
     "data": {
      "image/png": "[encoded data removed]",
      "text/plain": [
       "<Figure size 432x288 with 1 Axes>"
      ]
     },
     "metadata": {},
     "output_type": "display_data"
    }
   ],
   "source": [
    "# Plotting the loss through the epochs\n",
    "plt.plot(loss_list)\n",
    "#plt.scatter(range(len(loss_list)), loss_list)\n",
    "plt.title(\"Loss plotted through each batch\")\n",
    "plt.ylabel(\"Loss\")\n",
    "plt.xlabel(\"Batch number\")\n",
    "#plt.yscale(\"log\")\n",
    "#plt.xscale(\"log\")\n",
    "plt.savefig(\"loss_log.png\")"
   ]
  },
  {
   "cell_type": "code",
   "execution_count": 5,
   "metadata": {
    "collapsed": false
   },
   "outputs": [
    {
     "name": "stdout",
     "output_type": "stream",
     "text": [
      "torch.Size([32, 500, 23])\n",
      "torch.Size([32])\n"
     ]
    },
    {
     "name": "stdout",
     "output_type": "stream",
     "text": [
      "Test Accuracy: 99.969%\n",
      "torch.Size([32, 500])\n",
      "\n",
      "Predictions\n",
      "Sequence 0\n",
      "MKKLLLTLAMVPAVLFSPTAWGDATDDLLGRLQTLESMKGGFEQVVLDQSGTHMQEALGKFQVARGNRFYWLTETPYEQMAASDGTTVWVYDKDLEQVVVRPLSQDLGQTPALLFGGKPADVAKAFTISERDNRGAEVTYRLTPKGQDPLFDQLDVTFKGGQPASMRLQDALGQQTVIDFIGLTLNDGIDSSLFHFDPPEGTDVIQQQQ\n",
      "\n",
      "Input\n",
      "Sequence 0\n",
      "MKKLLLTLAMVPAVLFSPTAWGDATDDLLGRLQTLESMKGGFEQVVLDQSGTHMQEALGKFQVARGNRFYWLTETPYEQMAASDGTTVWVYDKDLEQVVVRPLSQDLGQTPALLFGGKPADVAKAFTISERDNRGAEVTYRLTPKGQDPLFDQLDVTFKGGQPASMRLQDALGQQTVIDFIGLTLNDGIDSSLFHFDPPEGTDVIQQQQ\n",
      "\n",
      "Labels\n",
      "MKKLLLTLAMVPAVLFSPTAWGDATDDLLGRLQTLESMKGGFEQVVLDQSGTHMQEALGKFQVARGNRFYWLTETPYEQMAASDGTTVWVYDKDLEQVVVRPLSQDLGQTPALLFGGKPADVAKAFTISERDNRGAEVTYRLTPKGQDPLFDQLDVTFKGGQPASMRLQDALGQQTVIDFIGLTLNDGIDSSLFHFDPPEGTDVIQQQQ\n"
     ]
    }
   ],
   "source": [
    "# Predicting\n",
    "accuracies = []\n",
    "with torch.no_grad():\n",
    "    # Loading saved model from file\n",
    "    model.load_state_dict(torch.load(\"model.pth\"))\n",
    "    #model.eval()\n",
    "\n",
    "    # Initalising data generator\n",
    "    #dataset = Dataset(small_file, max_seq_len, acids=acids)\n",
    "    #base_generator = data.DataLoader(dataset, batch_size=32, shuffle=True, num_workers=8)\n",
    "\n",
    "    correct = 0\n",
    "    \n",
    "    # For loops is easiest way to get an element from\n",
    "    # the generator even though we only loop once\n",
    "    for i, (batch, labels, valid_elems) in enumerate(base_generator):\n",
    "        test = batch\n",
    "        batch = batch.to(processor)\n",
    "        labels = labels.to(processor)\n",
    "\n",
    "        # Transposing from (batch x seq x feature_size) to (seq x batch x feature_size)\n",
    "        batch = batch.transpose(0,1)\n",
    "        #labels = torch.transpose(labels, 0, 1)\n",
    "\n",
    "        batch = rnn.pack_padded_sequence(batch, valid_elems, enforce_sorted=False)\n",
    "\n",
    "        out, hidden = model(batch)\n",
    "\n",
    "        out = out.transpose(0,1)\n",
    "\n",
    "        print(out.size())\n",
    "        print(valid_elems.size())\n",
    "        for j in range(batch_size):\n",
    "            preds = torch.argmax(out[j], dim=1)[:valid_elems[j]]\n",
    "            actual = labels[j][:valid_elems[j]]\n",
    "            truths = [1 if pred == truth else 0 for pred, truth in zip(preds, actual)]\n",
    "            correct += sum(truths)\n",
    "        accuracy = correct/(torch.sum(valid_elems).item())\n",
    "        break\n",
    "    \n",
    "print(\"Test Accuracy: {0:.3f}%\".format(accuracy*100))\n",
    "print(labels.size())\n",
    "\n",
    "#print(torch.argmax(out[0], dim=1))\n",
    "#print(torch.max(out[0,:10], dim=1))\n",
    "#print(torch.argmax(out[0,:10], dim=1))\n",
    "#print(out[0,:10])\n",
    "\n",
    "print(\"\\nPredictions\")\n",
    "print_seq(out[0].view(1,out.size()[1], out.size()[2]), valid_elems, acids)\n",
    "print(\"\\nInput\")\n",
    "print_seq(test[0].view(1,test.size()[1], test.size()[2]), valid_elems, acids)\n",
    "\n",
    "print_labels = \"\"\n",
    "for elem in labels[0][:valid_elems[0]]:\n",
    "    print_labels += acids[elem]\n",
    "\n",
    "print(\"\\nLabels\")\n",
    "print(print_labels)\n",
    "\n",
    "#print_seq(out, valid_elems)\n"
   ]
  },
  {
   "cell_type": "code",
   "execution_count": 5,
   "metadata": {
    "collapsed": false
   },
   "outputs": [],
   "source": []
  },
  {
   "cell_type": "code",
   "execution_count": 5,
   "metadata": {
    "collapsed": false
   },
   "outputs": [],
   "source": []
  }
 ],
 "metadata": {
  "colab": {
   "collapsed_sections": null,
   "machine_shape": "hm",
   "name": "Copy of protein_stuff.ipynb",
   "provenance": null
  },
  "kernelspec": {
   "argv": [
    "/usr/bin/python3",
    "-m",
    "ipykernel_launcher",
    "-f",
    "{connection_file}"
   ],
   "display_name": "Python 3",
   "env": null,
   "interrupt_mode": "signal",
   "language": "python",
   "metadata": null,
   "name": "python3"
  },
  "language_info": {
   "codemirror_mode": {
    "name": "ipython",
    "version": 3
   },
   "file_extension": ".py",
   "mimetype": "text/x-python",
   "name": "python",
   "nbconvert_exporter": "python",
   "pygments_lexer": "ipython3",
   "version": "3.7.4"
  },
  "name": "protein_stuff.ipynb"
 },
 "nbformat": 4,
 "nbformat_minor": 1
}
