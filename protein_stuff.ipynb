{
 "cells": [
  {
   "cell_type": "code",
   "execution_count": 1,
   "metadata": {
    "colab": null,
    "colab_type": "code",
    "id": "pUVIpevFD2hz"
   },
   "outputs": [],
   "source": [
    "import torch\n",
    "import torch.nn as nn\n",
    "import torch.nn.functional as F\n",
    "import torch.optim as optim\n",
    "\n",
    "torch.manual_seed(1)\n",
    "\n",
    "import numpy as np\n",
    "import matplotlib.pyplot as plt\n",
    "import sys\n",
    "\n",
    "from Bio import SeqIO\n",
    "from datetime import datetime\n",
    "\n",
    "from torch.utils import data\n",
    "from data_generator import data_generator\n",
    "from data_generator import Dataset\n",
    "from lstm import LSTM_model\n",
    "\n",
    "#from google.colab import drive"
   ]
  },
  {
   "cell_type": "code",
   "execution_count": 2,
   "metadata": {},
   "outputs": [
    {
     "name": "stdout",
     "output_type": "stream",
     "text": [
      "torch.Size([2000, 21])\n",
      "torch.Size([21])\n"
     ]
    }
   ],
   "source": [
    "filename = \"100k_rows.fasta\"\n",
    "dataset = Dataset(filename, 2000)\n",
    "batch_size = 32\n",
    "base_generator = data.DataLoader(dataset, batch_size=batch_size, shuffle=True, num_workers=8)\n",
    "\n",
    "print(dataset.__getitem__(0)[0].size())\n",
    "print(dataset.__getitem__(0)[1].size())"
   ]
  },
  {
   "cell_type": "code",
   "execution_count": 3,
   "metadata": {},
   "outputs": [
    {
     "name": "stdout",
     "output_type": "stream",
     "text": [
      "Using GPU: True\n",
      "98341\n"
     ]
    }
   ],
   "source": [
    "acids = \"ACDEFGHIKLMNOPQRSTUVWY-\"\n",
    "loss_list = []\n",
    "large_file = \"uniref50.fasta\"\n",
    "small_file = \"100k_rows.fasta\"\n",
    "\n",
    "max_seq_len = 2000\n",
    "\n",
    "# Good sizes: 16/700 or 32/400 on laptop\n",
    "# 32/1500 on desktop\n",
    "batch_size = 32\n",
    "hidden_dim = 1500\n",
    "\n",
    "hidden_layers = 1\n",
    "\n",
    "# Use Cuda if available\n",
    "use_cuda = torch.cuda.is_available() and True\n",
    "print(\"Using GPU:\", use_cuda)\n",
    "processor = torch.device(\"cuda:0\" if use_cuda else \"cpu\")\n",
    "torch.backends.cudnn.benchmark = True\n",
    "\n",
    "model = LSTM_model(len(acids), hidden_dim, hidden_layers, max_seq_len).to(processor)\n",
    "#model = test_LSTM(len(acids), hidden_dim, hidden_layers).to(processor)\n",
    "loss_function = nn.CrossEntropyLoss().to(processor)\n",
    "#loss_function = nn.NLLLoss().to(processor)\n",
    "optimiser = optim.SGD(model.parameters(), lr=0.1, momentum=0.9, nesterov=True)\n",
    "\n",
    "dataset = Dataset(small_file, max_seq_len, acids=acids)\n",
    "base_generator = data.DataLoader(dataset, batch_size=batch_size, shuffle=True, num_workers=16)\n",
    "print(dataset.__len__())"
   ]
  },
  {
   "cell_type": "code",
   "execution_count": 4,
   "metadata": {},
   "outputs": [
    {
     "name": "stdout",
     "output_type": "stream",
     "text": [
      "Epoch: 150. Min loss: 0.02729. Estimated time left: 0:00:00.901001. batches since improvement: 0."
     ]
    }
   ],
   "source": [
    "#batches = dataset.__len__()\n",
    "batches = 150\n",
    "time_diff = 0\n",
    "no_improv = 0\n",
    "min_loss = float(\"inf\")\n",
    "\n",
    "for i, (batch, labels) in enumerate(base_generator):\n",
    "    start_time = datetime.now()\n",
    "\n",
    "    sys.stdout.write(\"\\rEpoch: {0}. Min loss: {1:.5f}. Estimated time left: {2}. batches since improvement: {3}.\".format(i+1, min_loss, time_diff*(batches - i), no_improv))\n",
    "    \n",
    "    model.zero_grad()\n",
    "\n",
    "    batch = batch.to(processor)\n",
    "    labels = labels.to(processor)\n",
    "\n",
    "    output, (hn, cn) = model(batch)\n",
    "    #print(\"Output size:\", output.size())\n",
    "    #print(\"labels size:\", labels.size())\n",
    "    loss = loss_function(output, labels)\n",
    "    loss_list.append(loss)\n",
    "    loss.backward()\n",
    "    optimiser.step()\n",
    "\n",
    "    if (loss.item() < min_loss):\n",
    "        no_improv= 0\n",
    "        min_loss = loss.item()\n",
    "        checkpoint = {'model': model,\n",
    "                      'state_dict': model.state_dict(),\n",
    "                      'optimiser' : optimiser,\n",
    "                      'optim_state' : optimiser.state_dict()}\n",
    "    else:\n",
    "        no_improv += 1\n",
    "        #torch.save(checkpoint, 'checkpoint.pth')\n",
    "\n",
    "    end_time = datetime.now()\n",
    "    time_diff = end_time - start_time\n",
    "\n",
    "    if i+1 >= batches:\n",
    "        break"
   ]
  },
  {
   "cell_type": "code",
   "execution_count": 5,
   "metadata": {},
   "outputs": [
    {
     "data": {
      "image/png": "[encoded data removed]",
      "text/plain": [
       "<Figure size 432x288 with 1 Axes>"
      ]
     },
     "metadata": {
      "needs_background": "light"
     },
     "output_type": "display_data"
    }
   ],
   "source": [
    "# Plotting the loss through the epochs\n",
    "plt.plot(loss_list)\n",
    "#plt.scatter(range(len(loss_list)), loss_list)\n",
    "plt.title(\"Loss plotted through each batch\")\n",
    "plt.ylabel(\"Loss\")\n",
    "plt.xlabel(\"Batch number\")\n",
    "#plt.yscale(\"log\")\n",
    "#plt.xscale(\"log\")\n",
    "plt.savefig(\"loss_log.png\")"
   ]
  },
  {
   "cell_type": "code",
   "execution_count": null,
   "metadata": {},
   "outputs": [],
   "source": []
  },
  {
   "cell_type": "code",
   "execution_count": 6,
   "metadata": {
    "colab": {
     "base_uri": "https://localhost:8080/",
     "height": 392
    },
    "colab_type": "code",
    "id": "t-iqHWc70ov2",
    "outputId": "1b587ddf-d41b-4909-ad96-d14b5bd43df3"
   },
   "outputs": [
    {
     "ename": "NameError",
     "evalue": "name 'data_gen' is not defined",
     "output_type": "error",
     "traceback": [
      "\u001b[1;31m---------------------------------------------------------------------------\u001b[0m",
      "\u001b[1;31mNameError\u001b[0m                                 Traceback (most recent call last)",
      "\u001b[1;32m<ipython-input-6-a3e5f9e181f7>\u001b[0m in \u001b[0;36m<module>\u001b[1;34m\u001b[0m\n\u001b[0;32m      1\u001b[0m \u001b[1;31m# Haven't touched this yet. None of it will work\u001b[0m\u001b[1;33m\u001b[0m\u001b[1;33m\u001b[0m\u001b[1;33m\u001b[0m\u001b[0m\n\u001b[1;32m----> 2\u001b[1;33m \u001b[0mprint\u001b[0m\u001b[1;33m(\u001b[0m\u001b[0mdata_gen\u001b[0m\u001b[1;33m.\u001b[0m\u001b[0mdata\u001b[0m\u001b[1;33m.\u001b[0m\u001b[0mshape\u001b[0m\u001b[1;33m)\u001b[0m\u001b[1;33m\u001b[0m\u001b[1;33m\u001b[0m\u001b[0m\n\u001b[0m\u001b[0;32m      3\u001b[0m \u001b[0mseqs\u001b[0m \u001b[1;33m=\u001b[0m \u001b[0mdata_gen\u001b[0m\u001b[1;33m.\u001b[0m\u001b[0mdata\u001b[0m\u001b[1;33m.\u001b[0m\u001b[0mview\u001b[0m\u001b[1;33m(\u001b[0m\u001b[0mmax_seq_len\u001b[0m\u001b[1;33m,\u001b[0m\u001b[0mbatch_size\u001b[0m\u001b[1;33m,\u001b[0m\u001b[1;36m21\u001b[0m\u001b[1;33m)\u001b[0m\u001b[1;33m\u001b[0m\u001b[1;33m\u001b[0m\u001b[0m\n\u001b[0;32m      4\u001b[0m \u001b[0mseqs\u001b[0m \u001b[1;33m=\u001b[0m \u001b[0mseqs\u001b[0m\u001b[1;33m.\u001b[0m\u001b[0mtype\u001b[0m\u001b[1;33m(\u001b[0m\u001b[0mtorch\u001b[0m\u001b[1;33m.\u001b[0m\u001b[0mfloat\u001b[0m\u001b[1;33m)\u001b[0m\u001b[1;33m\u001b[0m\u001b[1;33m\u001b[0m\u001b[0m\n\u001b[0;32m      5\u001b[0m \u001b[0mprint\u001b[0m\u001b[1;33m(\u001b[0m\u001b[0mtype\u001b[0m\u001b[1;33m(\u001b[0m\u001b[0mseqs\u001b[0m\u001b[1;33m)\u001b[0m\u001b[1;33m)\u001b[0m\u001b[1;33m\u001b[0m\u001b[1;33m\u001b[0m\u001b[0m\n",
      "\u001b[1;31mNameError\u001b[0m: name 'data_gen' is not defined"
     ]
    }
   ],
   "source": [
    "\n",
    "# Haven't touched this yet. None of it will work\n",
    "print(data_gen.data.shape)\n",
    "seqs = data_gen.data.view(max_seq_len,batch_size,21)\n",
    "seqs = seqs.type(torch.float)\n",
    "print(type(seqs))\n",
    "seqs = seqs.to(device='cuda')\n",
    "test = LSTM_model(21,500,1)\n",
    "model.zero_grad()\n",
    "\n",
    "\n",
    "test_data = test.forward(seqs)\n",
    "\n",
    "\n",
    "#output = test.forward(char_seqs)\n",
    "#output = output.detach().numpy()\n",
    "#argmax = np.argmax(output[0])\n",
    "#print(argmax)\n",
    "#print(output[0][argmax])"
   ]
  },
  {
   "cell_type": "code",
   "execution_count": null,
   "metadata": {},
   "outputs": [],
   "source": []
  }
 ],
 "metadata": {
  "colab": {
   "collapsed_sections": null,
   "machine_shape": "hm",
   "name": "Copy of protein_stuff.ipynb",
   "provenance": null
  },
  "kernelspec": {
   "display_name": "Python 3",
   "language": "python",
   "name": "python3"
  },
  "language_info": {
   "codemirror_mode": {
    "name": "ipython",
    "version": 3
   },
   "file_extension": ".py",
   "mimetype": "text/x-python",
   "name": "python",
   "nbconvert_exporter": "python",
   "pygments_lexer": "ipython3",
   "version": "3.7.6"
  },
  "name": "protein_stuff.ipynb"
 },
 "nbformat": 4,
 "nbformat_minor": 1
}
