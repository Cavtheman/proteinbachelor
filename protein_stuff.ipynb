{
 "cells": [
  {
   "cell_type": "code",
   "execution_count": null,
   "metadata": {
    "colab": null,
    "colab_type": "code",
    "collapsed": false,
    "id": "pUVIpevFD2hz"
   },
   "outputs": [],
   "source": [
    "import torch\n",
    "import torch.nn as nn\n",
    "import torch.nn.functional as F\n",
    "import torch.optim as optim\n",
    "\n",
    "torch.manual_seed(1)\n",
    "\n",
    "import numpy as np\n",
    "import matplotlib.pyplot as plt\n",
    "import sys\n",
    "from Bio import SeqIO\n",
    "from data_generator import data_generator\n",
    "\n",
    "#from google.colab import drive"
   ]
  },
  {
   "cell_type": "code",
   "execution_count": null,
   "metadata": {
    "colab": null,
    "colab_type": "code",
    "collapsed": false,
    "id": "0fW6iTAJ0ovz"
   },
   "outputs": [],
   "source": [
    "class LSTM_model(nn.Module):\n",
    "    def __init__(self, input_size, hidden_layer_size, nr_hidden_layers):\n",
    "        super(LSTM_model, self).__init__()\n",
    "        self.input_size = input_size\n",
    "        self.hidden_layer_size = hidden_layer_size\n",
    "        self.nr_hidden_layers = nr_hidden_layers\n",
    "        \n",
    "        self.model = nn.LSTM(input_size, hidden_layer_size, nr_hidden_layers)\n",
    "        \n",
    "        self.linear = nn.Linear(hidden_layer_size, input_size)\n",
    "        \n",
    "    def forward(self, input_data):\n",
    "        lstm_out, _ = self.model(input_data)\n",
    "        tag_space = self.linear(lstm_out)\n",
    "        tag_scores = F.log_softmax(tag_space, dim=1)\n",
    "        return tag_scores"
   ]
  },
  {
   "cell_type": "code",
   "execution_count": null,
   "metadata": {
    "collapsed": false
   },
   "outputs": [],
   "source": [
    "acids = \"ACDEFGHIKLMNPQRSTUVWY-\"\n",
    "\n",
    "hidden_dim = 500\n",
    "hidden_layers = 1\n",
    "\n",
    "model = LSTM_model(len(acids), hidden_dim, hidden_layers)#.cuda()\n",
    "loss_function = nn.CrossEntropyLoss()\n",
    "#loss_function = nn.NLLLoss()\n",
    "optimiser = optim.SGD(model.parameters(), lr=0.1)\n",
    "\n",
    "large_file = \"uniref50.fasta\"\n",
    "small_file = \"100k_rows.fasta\"\n",
    "\n",
    "batch_size = 32\n",
    "max_seq_len = 2000\n",
    "data_gen = data_generator(large_file, max_seq_len, acids)"
   ]
  },
  {
   "cell_type": "code",
   "execution_count": null,
   "metadata": {
    "collapsed": false
   },
   "outputs": [],
   "source": [
    "for i in range(1000):\n",
    "    data_gen.gen_data(batch_size)"
   ]
  },
  {
   "cell_type": "code",
   "execution_count": null,
   "metadata": {
    "collapsed": false
   },
   "outputs": [],
   "source": [
    "batches = 1\n",
    "\n",
    "# For some reason this keeps hogging memory in each iteration, don't know why\n",
    "for i in range(batches):\n",
    "    model.zero_grad()\n",
    "\n",
    "    data_gen.gen_data(batch_size)\n",
    "    sequence_batch = data_gen.data#.cuda()\n",
    "    print(sequence_batch.size())\n",
    "    output = model(sequence_batch)\n",
    "\n",
    "    # This line will complain about wrong dimensions, don't know why though\n",
    "    loss = loss_function(output, data_gen.targets)\n",
    "    loss.backward()\n",
    "    optimiser.step()"
   ]
  },
  {
   "cell_type": "code",
   "execution_count": null,
   "metadata": {
    "colab": {
     "base_uri": "https://localhost:8080/",
     "height": 392
    },
    "colab_type": "code",
    "collapsed": false,
    "id": "t-iqHWc70ov2",
    "outputId": "1b587ddf-d41b-4909-ad96-d14b5bd43df3"
   },
   "outputs": [],
   "source": [
    "print(data_gen.data.shape)\n",
    "seqs = data_gen.data.view(max_seq_len,batch_size,21)\n",
    "seqs = seqs.type(torch.float)\n",
    "print(type(seqs))\n",
    "seqs = seqs.to(device='cuda')\n",
    "test = LSTM_model(21,500,1)\n",
    "model.zero_grad()\n",
    "\n",
    "\n",
    "test_data = test.forward(seqs)\n",
    "\n",
    "\n",
    "#output = test.forward(char_seqs)\n",
    "#output = output.detach().numpy()\n",
    "#argmax = np.argmax(output[0])\n",
    "#print(argmax)\n",
    "#print(output[0][argmax])"
   ]
  },
  {
   "cell_type": "code",
   "execution_count": null,
   "metadata": {
    "collapsed": false
   },
   "outputs": [],
   "source": []
  }
 ],
 "metadata": {
  "colab": {
   "collapsed_sections": null,
   "machine_shape": "hm",
   "name": "Copy of protein_stuff.ipynb",
   "provenance": null
  },
  "kernelspec": {
   "argv": [
    "/usr/bin/python3",
    "-m",
    "ipykernel_launcher",
    "-f",
    "{connection_file}"
   ],
   "display_name": "Python 3",
   "env": null,
   "interrupt_mode": "signal",
   "language": "python",
   "metadata": null,
   "name": "python3"
  },
  "language_info": {
   "codemirror_mode": {
    "name": "ipython",
    "version": 3
   },
   "file_extension": ".py",
   "mimetype": "text/x-python",
   "name": "python",
   "nbconvert_exporter": "python",
   "pygments_lexer": "ipython3",
   "version": "3.7.4"
  },
  "name": "protein_stuff.ipynb"
 },
 "nbformat": 4,
 "nbformat_minor": 1
}
