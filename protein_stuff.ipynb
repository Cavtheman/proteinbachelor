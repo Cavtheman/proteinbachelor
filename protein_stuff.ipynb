{
 "cells": [
  {
   "cell_type": "code",
   "execution_count": 1,
   "metadata": {
    "colab": null,
    "colab_type": "code",
    "collapsed": false,
    "id": "pUVIpevFD2hz"
   },
   "outputs": [],
   "source": [
    "import torch\n",
    "import torch.nn as nn\n",
    "import torch.nn.utils.rnn as rnn\n",
    "import torch.nn.functional as F\n",
    "import torch.optim as optim\n",
    "\n",
    "import numpy as np\n",
    "import matplotlib.pyplot as plt\n",
    "import sys\n",
    "\n",
    "from Bio import SeqIO\n",
    "from datetime import datetime\n",
    "\n",
    "from torch.utils import data\n",
    "#from data_generator import data_generator\n",
    "from data_generator import Dataset\n",
    "from lstm import LSTM_model\n",
    "from lstm import LSTMCell\n",
    "from alpha_set import alpha_set\n",
    "from print_seq import print_seq"
   ]
  },
  {
   "cell_type": "code",
   "execution_count": 2,
   "metadata": {
    "collapsed": false
   },
   "outputs": [
    {
     "name": "stdout",
     "output_type": "stream",
     "text": [
      "Using GPU: True\n"
     ]
    }
   ],
   "source": [
    "#acids = \"abcdefghijklmnopqrstuvwxyz-\"\n",
    "acids = \"ACDEFGHIKLMNOPQRSTUVWY-\"\n",
    "large_file = \"uniref50.fasta\"\n",
    "small_file = \"100k_rows.fasta\"\n",
    "test_file = \"test.fasta\"\n",
    "\n",
    "#max_seq_len = 50\n",
    "#max_seq_len = 2000\n",
    "max_seq_len = 500\n",
    "\n",
    "# Good sizes: 16/700 or 32/400 on laptop\n",
    "# 32/1500 on desktop\n",
    "batch_size = 32\n",
    "hidden_dim = 200\n",
    "\n",
    "hidden_layers = 2\n",
    "\n",
    "# Use Cuda if available\n",
    "use_cuda = torch.cuda.is_available() and True\n",
    "print(\"Using GPU:\", use_cuda)\n",
    "processor = torch.device(\"cuda:0\" if use_cuda else \"cpu\")\n",
    "torch.backends.cudnn.benchmark = True\n",
    "\n",
    "\n",
    "# Initialising data generator\n",
    "dataset = Dataset(small_file, max_seq_len, acids=acids)\n",
    "#dataset = alpha_set(acids, max_seq_len, 3200)\n",
    "base_generator = data.DataLoader(dataset, batch_size=batch_size, shuffle=True)\n",
    "\n",
    "# Initialising for training\n",
    "model = LSTM_model(len(acids), hidden_dim, hidden_layers, max_seq_len, batch_size, processor).to(processor)\n",
    "loss_function = nn.CrossEntropyLoss(reduction=\"mean\").to(processor)\n",
    "optimiser = optim.SGD(model.parameters(), lr=5e-2, momentum=0.9, nesterov=True)\n",
    "\n",
    "# Best lr so far is 2e-2\n",
    "#optimiser = optim.Adam(model.parameters(), lr=5e-4, weight_decay=0.001)"
   ]
  },
  {
   "cell_type": "code",
   "execution_count": null,
   "metadata": {
    "collapsed": false
   },
   "outputs": [],
   "source": [
    "# Initialising some variables for use in training\n",
    "batches = 1000\n",
    "time_diff = 0\n",
    "no_improv = 0\n",
    "min_loss = float(\"inf\")\n",
    "loss_list = []\n",
    "epochs = 1\n",
    "print_stuff = True\n",
    "\n",
    "# Main training loop\n",
    "for epoch in range(epochs):\n",
    "    for i, (batch, labels, valid_elems) in enumerate(base_generator):\n",
    "\n",
    "        # Keeping track of stuff\n",
    "        start_time = datetime.now()\n",
    "        sys.stdout.write(\"\\rBatch: {0}. Min loss: {1:.5f}. Estimated time left: {2}. Batches since improvement: {3}.\".format(i+1, min_loss, time_diff*(batches - i), no_improv))\n",
    "\n",
    "        # Putting data on gpu\n",
    "        batch = batch.to(processor)\n",
    "        labels = labels.to(processor)\n",
    "        valid_elems = valid_elems.to(processor)\n",
    "\n",
    "        # Transposing from (batch x seq x feature_size) to (seq x batch x feature_size)\n",
    "        batch = batch.transpose(0, 1)\n",
    "\n",
    "        # Resetting gradients\n",
    "        model.train()\n",
    "        model.zero_grad()\n",
    "    \n",
    "        if i == 0 and print_stuff:\n",
    "            print(\"Input:\\t\", batch.size())\n",
    "            print(\"Labels:\\t\", labels.size())\n",
    "            print(\"Valid:\\t\", valid_elems)\n",
    "\n",
    "        batch = rnn.pack_padded_sequence(batch, valid_elems, enforce_sorted=False)\n",
    "        labels = rnn.pack_padded_sequence(labels, valid_elems, enforce_sorted=False, batch_first=True)\n",
    "\n",
    "        out, hidden = model(batch)\n",
    "        \n",
    "        out = rnn.pack_padded_sequence(out, valid_elems, enforce_sorted=False)\n",
    "        if i == 0 and print_stuff:\n",
    "            print(\"Output:\\t\", out.data.size())\n",
    "            print(\"Hidden:\\t\", hidden.data.size())\n",
    "\n",
    "\n",
    "        #print(out.data.size())\n",
    "        #print(labels.data.size())\n",
    "        loss = loss_function(out.data, labels.data)\n",
    "    \n",
    "        '''\n",
    "        # This bit is replaced by packing labels and the line above\n",
    "        # Backpropping only through the non-padded parts\n",
    "        loss = 0\n",
    "        for j in range(out.size()[1]):\n",
    "        #print(out.size())\n",
    "        #print(torch.narrow(out, 1, j, 1).squeeze(1).size())\n",
    "        \n",
    "        narrowed_out = torch.narrow(torch.narrow(out, 1, j, 1).squeeze(1), 0, 0, valid_elems[j])\n",
    "        narrowed_labels = torch.narrow(labels[j], 0, 0, valid_elems[j])\n",
    "\n",
    "        #print_seq(narrowed_out[0].view(1,2000,23))\n",
    "        \n",
    "        print(narrowed_out.size())\n",
    "        print(narrowed_labels.size())\n",
    "        loss += loss_function(narrowed_out, narrowed_labels)\n",
    "        '''\n",
    "        #loss /= out.size()[1]\n",
    "\n",
    "        loss_list.append(loss.item())\n",
    "        loss.backward()\n",
    "        optimiser.step()\n",
    "\n",
    "        if loss.item() < min_loss:\n",
    "            torch.save(model.state_dict(), \"model.pth\")\n",
    "            min_loss = loss.item()\n",
    "            no_improv = 0\n",
    "        else:\n",
    "            no_improv += 1\n",
    "        \n",
    "    \n",
    "    \n",
    "        # For tracking progress\n",
    "        end_time = datetime.now()\n",
    "        time_diff = end_time - start_time\n",
    "    \n",
    "        # Breaking when it's run through the given number of batches\n",
    "        if i+1 >= batches:\n",
    "            break"
   ]
  },
  {
   "cell_type": "code",
   "execution_count": 4,
   "metadata": {
    "collapsed": false
   },
   "outputs": [
    {
     "data": {
      "image/png": "[encoded data removed]",
      "text/plain": [
       "<Figure size 432x288 with 1 Axes>"
      ]
     },
     "metadata": {},
     "output_type": "display_data"
    }
   ],
   "source": [
    "# Plotting the loss through the epochs\n",
    "plt.plot(loss_list)\n",
    "#plt.scatter(range(len(loss_list)), loss_list)\n",
    "plt.title(\"Loss plotted through each batch\")\n",
    "plt.ylabel(\"Loss\")\n",
    "plt.xlabel(\"Batch number\")\n",
    "#plt.yscale(\"log\")\n",
    "#plt.xscale(\"log\")\n",
    "plt.savefig(\"loss_log.png\")"
   ]
  },
  {
   "cell_type": "code",
   "execution_count": 5,
   "metadata": {
    "collapsed": false
   },
   "outputs": [
    {
     "name": "stdout",
     "output_type": "stream",
     "text": [
      "torch.Size([32, 500, 23])\n",
      "torch.Size([32])\n"
     ]
    },
    {
     "name": "stdout",
     "output_type": "stream",
     "text": [
      "Test Accuracy: 9.798%\n",
      "torch.Size([32, 500])\n",
      "\n",
      "Predictions\n",
      "Sequence 0\n",
      "LLLLLLLLLLLLLLLLLLLLLLLLLLLLLLLLLLLLLLLLLLLLLLLLLLLLLLLLLLLLLLLLLLLLLLLLLLLLLLLLLLLLLLLLLLLLLLLLLLLLLLLLLLLLLLLLLLLLLLLLLLLLLLLLLLLLLLLLLLLLLLLLLLLLLLLLLLLLLLLLLLLLLLLLLLLLLLLLLLLLLLLLLLLLLLLLLLLLLLLLLLLLLLLLLLLLLLLLLLLLLLLLLLLLLLLLLLLLLLLLLLLLLLLLLLLLLLLLLLLLLLLLLLLLLLLLLLLLLLLLLLLLLLLLLLLLLLLLLLLLLLLLLLLLLLLLLLLLLLLLLLLLLLLL\n",
      "\n",
      "Input\n",
      "Sequence 0\n",
      "MSATTTEAKQTFLCKERLPRRYHPPSKVLSRLPTSFLPYGELLRLHKPLGYILVCYPFLVAGAFSASIAPEVLEADFWPRITLLCLWSIFLRSGGCIWDDIADQHVDAKVARTRLRPLPRGAVSNSQATIFAAGTFLCGFAFVAELPGVCMVDALIMLFFAVLYPYGKRHSNYPQLILGTIGWAIPMTMHGLNLRPLDHPIPMAAMFAFIALVTIMNDIIYARQDIEEDIKAGVGSMAVRFQHCLDALTFALVFASSAALVIAGKLGNMGAPFFTISVGGHFGFFLFLAMANQRDPKSGVEWAAKRCCTSATFLLIVGMVVDLVWRS-\n",
      "\n",
      "Labels SATTTEAKQTFLCKERLPRRYHPPSKVLSRLPTSFLPYGELLRLHKPLGYILVCYPFLVAGAFSASIAPEVLEADFWPRITLLCLWSIFLRSGGCIWDDIADQHVDAKVARTRLRPLPRGAVSNSQATIFAAGTFLCGFAFVAELPGVCMVDALIMLFFAVLYPYGKRHSNYPQLILGTIGWAIPMTMHGLNLRPLDHPIPMAAMFAFIALVTIMNDIIYARQDIEEDIKAGVGSMAVRFQHCLDALTFALVFASSAALVIAGKLGNMGAPFFTISVGGHFGFFLFLAMANQRDPKSGVEWAAKRCCTSATFLLIVGMVVDLVWRS--\n"
     ]
    }
   ],
   "source": [
    "# Predicting\n",
    "accuracies = []\n",
    "with torch.no_grad():\n",
    "    # Loading saved model from file\n",
    "    model.load_state_dict(torch.load(\"model.pth\"))\n",
    "    #model.eval()\n",
    "\n",
    "    # Initalising data generator\n",
    "    #dataset = Dataset(small_file, max_seq_len, acids=acids)\n",
    "    #base_generator = data.DataLoader(dataset, batch_size=32, shuffle=True, num_workers=8)\n",
    "\n",
    "    correct = 0\n",
    "    \n",
    "    # For loops is easiest way to get an element from\n",
    "    # the generator even though we only loop once\n",
    "    for i, (batch, labels, valid_elems) in enumerate(base_generator):\n",
    "        test = batch\n",
    "        batch = batch.to(processor)\n",
    "        labels = labels.to(processor)\n",
    "\n",
    "        # Transposing from (batch x seq x feature_size) to (seq x batch x feature_size)\n",
    "        batch = batch.transpose(0,1)\n",
    "        #labels = torch.transpose(labels, 0, 1)\n",
    "\n",
    "        batch = rnn.pack_padded_sequence(batch, valid_elems, enforce_sorted=False)\n",
    "\n",
    "        out, hidden = model(batch)\n",
    "\n",
    "        out = out.transpose(0,1)\n",
    "\n",
    "        print(out.size())\n",
    "        print(valid_elems.size())\n",
    "        for j in range(batch_size):\n",
    "            preds = torch.argmax(out[j], dim=1)[:valid_elems[j]]\n",
    "            actual = labels[j][:valid_elems[j]]\n",
    "            truths = [1 if pred == truth else 0 for pred, truth in zip(preds, actual)]\n",
    "            correct += sum(truths)\n",
    "        accuracy = correct/(torch.sum(valid_elems).item())\n",
    "        break\n",
    "    \n",
    "print(\"Test Accuracy: {0:.3f}%\".format(accuracy*100))\n",
    "print(labels.size())\n",
    "\n",
    "#print(torch.argmax(out[0], dim=1))\n",
    "#print(torch.max(out[0,:10], dim=1))\n",
    "#print(torch.argmax(out[0,:10], dim=1))\n",
    "#print(out[0,:10])\n",
    "\n",
    "print(\"\\nPredictions\")\n",
    "print_seq(out[0].view(1,out.size()[1], out.size()[2]), valid_elems, acids)\n",
    "print(\"\\nInput\")\n",
    "print_seq(test[0].view(1,test.size()[1], test.size()[2]), valid_elems, acids)\n",
    "\n",
    "print_labels = \"\"\n",
    "for elem in labels[0][:valid_elems[0]]:\n",
    "    print_labels += acids[elem]\n",
    "\n",
    "print(\"\\nLabels\", print_labels)\n",
    "\n",
    "#print_seq(out, valid_elems)\n"
   ]
  },
  {
   "cell_type": "code",
   "execution_count": 5,
   "metadata": {
    "collapsed": false
   },
   "outputs": [],
   "source": []
  },
  {
   "cell_type": "code",
   "execution_count": 5,
   "metadata": {
    "collapsed": false
   },
   "outputs": [],
   "source": []
  }
 ],
 "metadata": {
  "colab": {
   "collapsed_sections": null,
   "machine_shape": "hm",
   "name": "Copy of protein_stuff.ipynb",
   "provenance": null
  },
  "kernelspec": {
   "argv": [
    "/usr/bin/python3",
    "-m",
    "ipykernel_launcher",
    "-f",
    "{connection_file}"
   ],
   "display_name": "Python 3",
   "env": null,
   "interrupt_mode": "signal",
   "language": "python",
   "metadata": null,
   "name": "python3"
  },
  "language_info": {
   "codemirror_mode": {
    "name": "ipython",
    "version": 3
   },
   "file_extension": ".py",
   "mimetype": "text/x-python",
   "name": "python",
   "nbconvert_exporter": "python",
   "pygments_lexer": "ipython3",
   "version": "3.7.4"
  },
  "name": "protein_stuff.ipynb"
 },
 "nbformat": 4,
 "nbformat_minor": 1
}
