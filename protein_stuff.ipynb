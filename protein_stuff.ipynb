{
 "cells": [
  {
   "cell_type": "code",
   "execution_count": 1,
   "metadata": {
    "colab": null,
    "colab_type": "code",
    "collapsed": false,
    "id": "pUVIpevFD2hz"
   },
   "outputs": [],
   "source": [
    "import torch\n",
    "import torch.nn as nn\n",
    "import torch.nn.utils.rnn as rnn\n",
    "import torch.nn.functional as F\n",
    "import torch.optim as optim\n",
    "\n",
    "import numpy as np\n",
    "import matplotlib.pyplot as plt\n",
    "import sys\n",
    "\n",
    "from Bio import SeqIO\n",
    "from datetime import datetime\n",
    "\n",
    "from torch.utils import data\n",
    "#from data_generator import data_generator\n",
    "from data_generator import Dataset\n",
    "from lstm import LSTM_model\n",
    "from lstm import LSTMCell\n",
    "from alpha_set import alpha_set\n",
    "from print_seq import print_seq"
   ]
  },
  {
   "cell_type": "code",
   "execution_count": null,
   "metadata": {
    "collapsed": false
   },
   "outputs": [
    {
     "name": "stdout",
     "output_type": "stream",
     "text": [
      "Using GPU: True\n"
     ]
    }
   ],
   "source": [
    "#acids = \"abcdefghijklmnopqrstuvwxyz-\"\n",
    "acids = \"ACDEFGHIKLMNOPQRSTUVWY-\"\n",
    "large_file = \"uniref50.fasta\"\n",
    "small_file = \"100k_rows.fasta\"\n",
    "test_file = \"test.fasta\"\n",
    "\n",
    "#max_seq_len = 50\n",
    "#max_seq_len = 2000\n",
    "max_seq_len = 500\n",
    "\n",
    "loss_list = []\n",
    "\n",
    "# Good sizes: 16/700 or 32/400 on laptop\n",
    "# 32/1500 on desktop\n",
    "batch_size = 64\n",
    "hidden_dim = 128\n",
    "\n",
    "embed_size = 30\n",
    "hidden_layers = 1\n",
    "\n",
    "# Use Cuda if available\n",
    "use_cuda = torch.cuda.is_available() and True\n",
    "print(\"Using GPU:\", use_cuda)\n",
    "processor = torch.device(\"cuda:0\" if use_cuda else \"cpu\")\n",
    "torch.backends.cudnn.benchmark = True\n",
    "\n",
    "\n",
    "# Initialising data generator\n",
    "dataset = Dataset(small_file, max_seq_len, output_type=\"embed\", acids=acids)\n",
    "#dataset = alpha_set(acids, max_seq_len, 3200)\n",
    "base_generator = data.DataLoader(dataset, batch_size=batch_size, shuffle=True, num_workers=8)\n",
    "\n",
    "# Initialising for training\n",
    "model = LSTM_model(len(acids), embed_size, hidden_dim, hidden_layers, max_seq_len, batch_size, processor, dropout=0).to(processor)\n",
    "loss_function = nn.CrossEntropyLoss(reduction=\"mean\").to(processor)\n",
    "#optimiser = optim.SGD(model.parameters(), lr=1e-2, momentum=0.9, nesterov=True)\n",
    "\n",
    "# Best lr so far is 2e-2\n",
    "optimiser = optim.Adam(model.parameters(), lr=8e-4)#, weight_decay=0.001)"
   ]
  },
  {
   "cell_type": "code",
   "execution_count": null,
   "metadata": {
    "collapsed": false
   },
   "outputs": [
    {
     "name": "stdout",
     "output_type": "stream",
     "text": [
      "\r",
      "Epoch: 1. Batch: 1. Min loss: inf. Estimated time left: 0. Best: 0 batches ago.\n",
      "Input:\t torch.Size([500, 64])\n",
      "Labels:\t torch.Size([64, 500])\n",
      "Valid:\t tensor([191, 425, 137, 368, 361, 431, 406, 116, 269, 112, 303, 215, 468, 219,\n",
      "        381, 174,  54, 367, 171, 331, 245, 433, 478, 353, 195, 206, 500, 157,\n",
      "        365, 396, 476, 294, 255, 401, 162, 470, 142, 227, 458, 370, 425, 451,\n",
      "        287, 412, 477, 267, 114, 307, 430, 415, 124, 111,  13, 341, 189, 445,\n",
      "        350,  72, 120, 190, 420, 265, 441, 284], device='cuda:0')\n",
      "Output:\t torch.Size([19032, 23])\n",
      "Hidden:\t torch.Size([19032, 128])\n"
     ]
    },
    {
     "name": "stdout",
     "output_type": "stream",
     "text": [
      "\r",
      "Epoch: 1. Batch: 2. Min loss: 3.12832. Estimated time left: 1:28:38. Best: 0 batches ago.\r",
      "Epoch: 1. Batch: 3. Min loss: 3.12203. Estimated time left: 1:02:04. Best: 0 batches ago."
     ]
    },
    {
     "name": "stdout",
     "output_type": "stream",
     "text": [
      "\r",
      "Epoch: 1. Batch: 4. Min loss: 3.11818. Estimated time left: 1:03:12. Best: 0 batches ago.\r",
      "Epoch: 1. Batch: 5. Min loss: 3.11307. Estimated time left: 0:59:19. Best: 0 batches ago."
     ]
    },
    {
     "name": "stdout",
     "output_type": "stream",
     "text": [
      "\r",
      "Epoch: 1. Batch: 6. Min loss: 3.10653. Estimated time left: 1:01:20. Best: 0 batches ago.\r",
      "Epoch: 1. Batch: 7. Min loss: 3.09920. Estimated time left: 1:01:01. Best: 0 batches ago."
     ]
    },
    {
     "name": "stdout",
     "output_type": "stream",
     "text": [
      "\r",
      "Epoch: 1. Batch: 8. Min loss: 3.09248. Estimated time left: 0:54:32. Best: 0 batches ago.\r",
      "Epoch: 1. Batch: 9. Min loss: 3.08781. Estimated time left: 0:56:26. Best: 0 batches ago."
     ]
    },
    {
     "name": "stdout",
     "output_type": "stream",
     "text": [
      "\r",
      "Epoch: 1. Batch: 10. Min loss: 3.08134. Estimated time left: 0:59:38. Best: 0 batches ago.\r",
      "Epoch: 1. Batch: 11. Min loss: 3.07431. Estimated time left: 0:54:46. Best: 0 batches ago."
     ]
    },
    {
     "name": "stdout",
     "output_type": "stream",
     "text": [
      "\r",
      "Epoch: 1. Batch: 12. Min loss: 3.06203. Estimated time left: 1:02:29. Best: 0 batches ago.\r",
      "Epoch: 1. Batch: 13. Min loss: 3.05187. Estimated time left: 1:00:50. Best: 0 batches ago."
     ]
    },
    {
     "name": "stdout",
     "output_type": "stream",
     "text": [
      "\r",
      "Epoch: 1. Batch: 14. Min loss: 3.03342. Estimated time left: 1:01:35. Best: 0 batches ago.\r",
      "Epoch: 1. Batch: 15. Min loss: 3.02405. Estimated time left: 0:54:32. Best: 0 batches ago."
     ]
    },
    {
     "name": "stdout",
     "output_type": "stream",
     "text": [
      "\r",
      "Epoch: 1. Batch: 16. Min loss: 3.00436. Estimated time left: 0:58:56. Best: 0 batches ago.\r",
      "Epoch: 1. Batch: 17. Min loss: 2.98023. Estimated time left: 0:59:02. Best: 0 batches ago."
     ]
    },
    {
     "name": "stdout",
     "output_type": "stream",
     "text": [
      "\r",
      "Epoch: 1. Batch: 18. Min loss: 2.97064. Estimated time left: 0:57:48. Best: 0 batches ago.\r",
      "Epoch: 1. Batch: 19. Min loss: 2.96003. Estimated time left: 0:57:54. Best: 0 batches ago."
     ]
    },
    {
     "name": "stdout",
     "output_type": "stream",
     "text": [
      "\r",
      "Epoch: 1. Batch: 20. Min loss: 2.96003. Estimated time left: 0:59:12. Best: 1 batches ago.\r",
      "Epoch: 1. Batch: 21. Min loss: 2.96003. Estimated time left: 1:00:43. Best: 2 batches ago."
     ]
    },
    {
     "name": "stdout",
     "output_type": "stream",
     "text": [
      "\r",
      "Epoch: 1. Batch: 22. Min loss: 2.94511. Estimated time left: 0:59:17. Best: 0 batches ago."
     ]
    },
    {
     "name": "stdout",
     "output_type": "stream",
     "text": [
      "\r",
      "Epoch: 1. Batch: 23. Min loss: 2.94287. Estimated time left: 1:21:59. Best: 0 batches ago.\r",
      "Epoch: 1. Batch: 24. Min loss: 2.92019. Estimated time left: 0:58:55. Best: 0 batches ago."
     ]
    },
    {
     "name": "stdout",
     "output_type": "stream",
     "text": [
      "\r",
      "Epoch: 1. Batch: 25. Min loss: 2.92019. Estimated time left: 0:58:28. Best: 1 batches ago.\r",
      "Epoch: 1. Batch: 26. Min loss: 2.92019. Estimated time left: 0:56:53. Best: 2 batches ago."
     ]
    },
    {
     "name": "stdout",
     "output_type": "stream",
     "text": [
      "\r",
      "Epoch: 1. Batch: 27. Min loss: 2.92019. Estimated time left: 0:57:09. Best: 3 batches ago.\r",
      "Epoch: 1. Batch: 28. Min loss: 2.92019. Estimated time left: 0:57:34. Best: 4 batches ago."
     ]
    },
    {
     "name": "stdout",
     "output_type": "stream",
     "text": [
      "\r",
      "Epoch: 1. Batch: 29. Min loss: 2.92019. Estimated time left: 1:00:54. Best: 5 batches ago.\r",
      "Epoch: 1. Batch: 30. Min loss: 2.92019. Estimated time left: 0:57:44. Best: 6 batches ago."
     ]
    },
    {
     "name": "stdout",
     "output_type": "stream",
     "text": [
      "\r",
      "Epoch: 1. Batch: 31. Min loss: 2.92019. Estimated time left: 0:57:44. Best: 7 batches ago.\r",
      "Epoch: 1. Batch: 32. Min loss: 2.92019. Estimated time left: 0:58:22. Best: 8 batches ago."
     ]
    },
    {
     "name": "stdout",
     "output_type": "stream",
     "text": [
      "\r",
      "Epoch: 1. Batch: 33. Min loss: 2.91651. Estimated time left: 1:01:10. Best: 0 batches ago.\r",
      "Epoch: 1. Batch: 34. Min loss: 2.91651. Estimated time left: 0:56:53. Best: 1 batches ago."
     ]
    },
    {
     "name": "stdout",
     "output_type": "stream",
     "text": [
      "\r",
      "Epoch: 1. Batch: 35. Min loss: 2.91651. Estimated time left: 1:04:26. Best: 2 batches ago.\r",
      "Epoch: 1. Batch: 36. Min loss: 2.91613. Estimated time left: 0:59:42. Best: 0 batches ago."
     ]
    },
    {
     "name": "stdout",
     "output_type": "stream",
     "text": [
      "\r",
      "Epoch: 1. Batch: 37. Min loss: 2.90887. Estimated time left: 1:03:15. Best: 0 batches ago.\r",
      "Epoch: 1. Batch: 38. Min loss: 2.90887. Estimated time left: 0:59:23. Best: 1 batches ago."
     ]
    },
    {
     "name": "stdout",
     "output_type": "stream",
     "text": [
      "\r",
      "Epoch: 1. Batch: 39. Min loss: 2.90264. Estimated time left: 1:01:16. Best: 0 batches ago.\r",
      "Epoch: 1. Batch: 40. Min loss: 2.90141. Estimated time left: 1:01:25. Best: 0 batches ago."
     ]
    },
    {
     "name": "stdout",
     "output_type": "stream",
     "text": [
      "\r",
      "Epoch: 1. Batch: 41. Min loss: 2.90141. Estimated time left: 1:01:08. Best: 1 batches ago.\r",
      "Epoch: 1. Batch: 42. Min loss: 2.90141. Estimated time left: 1:00:20. Best: 2 batches ago."
     ]
    },
    {
     "name": "stdout",
     "output_type": "stream",
     "text": [
      "\r",
      "Epoch: 1. Batch: 43. Min loss: 2.90141. Estimated time left: 0:59:11. Best: 3 batches ago.\r",
      "Epoch: 1. Batch: 44. Min loss: 2.90141. Estimated time left: 0:57:46. Best: 4 batches ago."
     ]
    },
    {
     "name": "stdout",
     "output_type": "stream",
     "text": [
      "\r",
      "Epoch: 1. Batch: 45. Min loss: 2.90141. Estimated time left: 1:02:04. Best: 5 batches ago.\r",
      "Epoch: 1. Batch: 46. Min loss: 2.90141. Estimated time left: 1:01:07. Best: 6 batches ago."
     ]
    },
    {
     "name": "stdout",
     "output_type": "stream",
     "text": [
      "\r",
      "Epoch: 1. Batch: 47. Min loss: 2.90090. Estimated time left: 1:03:27. Best: 0 batches ago.\r",
      "Epoch: 1. Batch: 48. Min loss: 2.89567. Estimated time left: 1:01:13. Best: 0 batches ago."
     ]
    },
    {
     "name": "stdout",
     "output_type": "stream",
     "text": [
      "\r",
      "Epoch: 1. Batch: 49. Min loss: 2.89567. Estimated time left: 1:03:21. Best: 1 batches ago.\r",
      "Epoch: 1. Batch: 50. Min loss: 2.88986. Estimated time left: 0:58:44. Best: 0 batches ago."
     ]
    },
    {
     "name": "stdout",
     "output_type": "stream",
     "text": [
      "\r",
      "Epoch: 1. Batch: 51. Min loss: 2.88986. Estimated time left: 1:02:09. Best: 1 batches ago.\r",
      "Epoch: 1. Batch: 52. Min loss: 2.88986. Estimated time left: 0:57:41. Best: 2 batches ago."
     ]
    },
    {
     "name": "stdout",
     "output_type": "stream",
     "text": [
      "\r",
      "Epoch: 1. Batch: 53. Min loss: 2.88986. Estimated time left: 1:00:17. Best: 3 batches ago.\r",
      "Epoch: 1. Batch: 54. Min loss: 2.88986. Estimated time left: 0:56:51. Best: 4 batches ago."
     ]
    },
    {
     "name": "stdout",
     "output_type": "stream",
     "text": [
      "\r",
      "Epoch: 1. Batch: 55. Min loss: 2.88986. Estimated time left: 0:57:19. Best: 5 batches ago.\r",
      "Epoch: 1. Batch: 56. Min loss: 2.88986. Estimated time left: 0:59:54. Best: 6 batches ago."
     ]
    },
    {
     "name": "stdout",
     "output_type": "stream",
     "text": [
      "\r",
      "Epoch: 1. Batch: 57. Min loss: 2.88986. Estimated time left: 1:01:05. Best: 7 batches ago.\r",
      "Epoch: 1. Batch: 58. Min loss: 2.88986. Estimated time left: 0:58:03. Best: 8 batches ago."
     ]
    },
    {
     "name": "stdout",
     "output_type": "stream",
     "text": [
      "\r",
      "Epoch: 1. Batch: 59. Min loss: 2.88986. Estimated time left: 0:59:21. Best: 9 batches ago.\r",
      "Epoch: 1. Batch: 60. Min loss: 2.88986. Estimated time left: 0:57:34. Best: 10 batches ago."
     ]
    },
    {
     "name": "stdout",
     "output_type": "stream",
     "text": [
      "\r",
      "Epoch: 1. Batch: 61. Min loss: 2.88986. Estimated time left: 1:03:04. Best: 11 batches ago.\r",
      "Epoch: 1. Batch: 62. Min loss: 2.88986. Estimated time left: 1:02:00. Best: 12 batches ago."
     ]
    },
    {
     "name": "stdout",
     "output_type": "stream",
     "text": [
      "\r",
      "Epoch: 1. Batch: 63. Min loss: 2.88986. Estimated time left: 0:57:25. Best: 13 batches ago.\r",
      "Epoch: 1. Batch: 64. Min loss: 2.88986. Estimated time left: 0:54:14. Best: 14 batches ago."
     ]
    },
    {
     "name": "stdout",
     "output_type": "stream",
     "text": [
      "\r",
      "Epoch: 1. Batch: 65. Min loss: 2.88986. Estimated time left: 1:00:00. Best: 15 batches ago.\r",
      "Epoch: 1. Batch: 66. Min loss: 2.88986. Estimated time left: 0:58:48. Best: 16 batches ago."
     ]
    },
    {
     "name": "stdout",
     "output_type": "stream",
     "text": [
      "\r",
      "Epoch: 1. Batch: 67. Min loss: 2.88986. Estimated time left: 0:58:06. Best: 17 batches ago.\r",
      "Epoch: 1. Batch: 68. Min loss: 2.88986. Estimated time left: 0:55:50. Best: 18 batches ago."
     ]
    },
    {
     "name": "stdout",
     "output_type": "stream",
     "text": [
      "\r",
      "Epoch: 1. Batch: 69. Min loss: 2.88986. Estimated time left: 0:58:59. Best: 19 batches ago.\r",
      "Epoch: 1. Batch: 70. Min loss: 2.88986. Estimated time left: 0:57:28. Best: 20 batches ago."
     ]
    },
    {
     "name": "stdout",
     "output_type": "stream",
     "text": [
      "\r",
      "Epoch: 1. Batch: 71. Min loss: 2.88986. Estimated time left: 0:59:49. Best: 21 batches ago.\r",
      "Epoch: 1. Batch: 72. Min loss: 2.88090. Estimated time left: 1:08:50. Best: 0 batches ago."
     ]
    },
    {
     "name": "stdout",
     "output_type": "stream",
     "text": [
      "\r",
      "Epoch: 1. Batch: 73. Min loss: 2.88090. Estimated time left: 0:57:46. Best: 1 batches ago.\r",
      "Epoch: 1. Batch: 74. Min loss: 2.88090. Estimated time left: 0:56:33. Best: 2 batches ago."
     ]
    },
    {
     "name": "stdout",
     "output_type": "stream",
     "text": [
      "\r",
      "Epoch: 1. Batch: 75. Min loss: 2.88090. Estimated time left: 1:04:34. Best: 3 batches ago.\r",
      "Epoch: 1. Batch: 76. Min loss: 2.88090. Estimated time left: 0:58:44. Best: 4 batches ago."
     ]
    },
    {
     "name": "stdout",
     "output_type": "stream",
     "text": [
      "\r",
      "Epoch: 1. Batch: 77. Min loss: 2.88090. Estimated time left: 0:56:59. Best: 5 batches ago.\r",
      "Epoch: 1. Batch: 78. Min loss: 2.88090. Estimated time left: 0:59:41. Best: 6 batches ago."
     ]
    },
    {
     "name": "stdout",
     "output_type": "stream",
     "text": [
      "\r",
      "Epoch: 1. Batch: 79. Min loss: 2.88090. Estimated time left: 1:01:48. Best: 7 batches ago.\r",
      "Epoch: 1. Batch: 80. Min loss: 2.88090. Estimated time left: 0:58:59. Best: 8 batches ago."
     ]
    },
    {
     "name": "stdout",
     "output_type": "stream",
     "text": [
      "\r",
      "Epoch: 1. Batch: 81. Min loss: 2.88090. Estimated time left: 1:01:43. Best: 9 batches ago.\r",
      "Epoch: 1. Batch: 82. Min loss: 2.88090. Estimated time left: 0:57:08. Best: 10 batches ago."
     ]
    },
    {
     "name": "stdout",
     "output_type": "stream",
     "text": [
      "\r",
      "Epoch: 1. Batch: 83. Min loss: 2.88090. Estimated time left: 1:00:06. Best: 11 batches ago.\r",
      "Epoch: 1. Batch: 84. Min loss: 2.88090. Estimated time left: 0:58:37. Best: 12 batches ago."
     ]
    },
    {
     "name": "stdout",
     "output_type": "stream",
     "text": [
      "\r",
      "Epoch: 1. Batch: 85. Min loss: 2.88090. Estimated time left: 0:59:12. Best: 13 batches ago.\r",
      "Epoch: 1. Batch: 86. Min loss: 2.88090. Estimated time left: 1:00:21. Best: 14 batches ago."
     ]
    },
    {
     "name": "stdout",
     "output_type": "stream",
     "text": [
      "\r",
      "Epoch: 1. Batch: 87. Min loss: 2.88090. Estimated time left: 0:59:49. Best: 15 batches ago.\r",
      "Epoch: 1. Batch: 88. Min loss: 2.88090. Estimated time left: 1:00:10. Best: 16 batches ago."
     ]
    },
    {
     "name": "stdout",
     "output_type": "stream",
     "text": [
      "\r",
      "Epoch: 1. Batch: 89. Min loss: 2.88090. Estimated time left: 0:58:12. Best: 17 batches ago.\r",
      "Epoch: 1. Batch: 90. Min loss: 2.88090. Estimated time left: 0:58:56. Best: 18 batches ago."
     ]
    },
    {
     "name": "stdout",
     "output_type": "stream",
     "text": [
      "\r",
      "Epoch: 1. Batch: 91. Min loss: 2.88090. Estimated time left: 0:57:24. Best: 19 batches ago.\r",
      "Epoch: 1. Batch: 92. Min loss: 2.88090. Estimated time left: 0:58:52. Best: 20 batches ago."
     ]
    },
    {
     "name": "stdout",
     "output_type": "stream",
     "text": [
      "\r",
      "Epoch: 1. Batch: 93. Min loss: 2.88090. Estimated time left: 0:57:20. Best: 21 batches ago.\r",
      "Epoch: 1. Batch: 94. Min loss: 2.88090. Estimated time left: 0:59:07. Best: 22 batches ago."
     ]
    },
    {
     "name": "stdout",
     "output_type": "stream",
     "text": [
      "\r",
      "Epoch: 1. Batch: 95. Min loss: 2.88090. Estimated time left: 0:58:22. Best: 23 batches ago.\r",
      "Epoch: 1. Batch: 96. Min loss: 2.88090. Estimated time left: 0:58:45. Best: 24 batches ago."
     ]
    },
    {
     "name": "stdout",
     "output_type": "stream",
     "text": [
      "\r",
      "Epoch: 1. Batch: 97. Min loss: 2.88090. Estimated time left: 0:59:56. Best: 25 batches ago.\r",
      "Epoch: 1. Batch: 98. Min loss: 2.88090. Estimated time left: 0:57:51. Best: 26 batches ago."
     ]
    },
    {
     "name": "stdout",
     "output_type": "stream",
     "text": [
      "\r",
      "Epoch: 1. Batch: 99. Min loss: 2.88090. Estimated time left: 0:58:17. Best: 27 batches ago.\r",
      "Epoch: 1. Batch: 100. Min loss: 2.88090. Estimated time left: 1:01:27. Best: 28 batches ago."
     ]
    },
    {
     "name": "stdout",
     "output_type": "stream",
     "text": [
      "\r",
      "Epoch: 1. Batch: 101. Min loss: 2.88090. Estimated time left: 1:01:10. Best: 29 batches ago.\r",
      "Epoch: 1. Batch: 102. Min loss: 2.88090. Estimated time left: 1:01:47. Best: 30 batches ago."
     ]
    },
    {
     "name": "stdout",
     "output_type": "stream",
     "text": [
      "\r",
      "Epoch: 1. Batch: 103. Min loss: 2.88090. Estimated time left: 1:00:26. Best: 31 batches ago.\r",
      "Epoch: 1. Batch: 104. Min loss: 2.88090. Estimated time left: 0:59:01. Best: 32 batches ago."
     ]
    },
    {
     "name": "stdout",
     "output_type": "stream",
     "text": [
      "\r",
      "Epoch: 1. Batch: 105. Min loss: 2.88090. Estimated time left: 1:02:24. Best: 33 batches ago.\r",
      "Epoch: 1. Batch: 106. Min loss: 2.88090. Estimated time left: 1:00:22. Best: 34 batches ago."
     ]
    },
    {
     "name": "stdout",
     "output_type": "stream",
     "text": [
      "\r",
      "Epoch: 1. Batch: 107. Min loss: 2.88090. Estimated time left: 1:01:49. Best: 35 batches ago.\r",
      "Epoch: 1. Batch: 108. Min loss: 2.88090. Estimated time left: 1:00:36. Best: 36 batches ago."
     ]
    },
    {
     "name": "stdout",
     "output_type": "stream",
     "text": [
      "\r",
      "Epoch: 1. Batch: 109. Min loss: 2.88090. Estimated time left: 0:59:50. Best: 37 batches ago.\r",
      "Epoch: 1. Batch: 110. Min loss: 2.87923. Estimated time left: 0:59:44. Best: 0 batches ago."
     ]
    },
    {
     "name": "stdout",
     "output_type": "stream",
     "text": [
      "\r",
      "Epoch: 1. Batch: 111. Min loss: 2.87923. Estimated time left: 1:19:43. Best: 1 batches ago.\r",
      "Epoch: 1. Batch: 112. Min loss: 2.87923. Estimated time left: 0:54:59. Best: 2 batches ago."
     ]
    },
    {
     "name": "stdout",
     "output_type": "stream",
     "text": [
      "\r",
      "Epoch: 1. Batch: 113. Min loss: 2.87923. Estimated time left: 0:59:20. Best: 3 batches ago.\r",
      "Epoch: 1. Batch: 114. Min loss: 2.87923. Estimated time left: 0:57:48. Best: 4 batches ago."
     ]
    },
    {
     "name": "stdout",
     "output_type": "stream",
     "text": [
      "\r",
      "Epoch: 1. Batch: 115. Min loss: 2.87923. Estimated time left: 0:58:45. Best: 5 batches ago.\r",
      "Epoch: 1. Batch: 116. Min loss: 2.87923. Estimated time left: 0:56:52. Best: 6 batches ago."
     ]
    },
    {
     "name": "stdout",
     "output_type": "stream",
     "text": [
      "\r",
      "Epoch: 1. Batch: 117. Min loss: 2.87923. Estimated time left: 1:04:05. Best: 7 batches ago.\r",
      "Epoch: 1. Batch: 118. Min loss: 2.87923. Estimated time left: 1:11:53. Best: 8 batches ago."
     ]
    },
    {
     "name": "stdout",
     "output_type": "stream",
     "text": [
      "\r",
      "Epoch: 1. Batch: 119. Min loss: 2.87923. Estimated time left: 1:01:06. Best: 9 batches ago."
     ]
    },
    {
     "name": "stdout",
     "output_type": "stream",
     "text": [
      "\r",
      "Epoch: 1. Batch: 120. Min loss: 2.87923. Estimated time left: 1:40:08. Best: 10 batches ago."
     ]
    },
    {
     "name": "stdout",
     "output_type": "stream",
     "text": [
      "\r",
      "Epoch: 1. Batch: 121. Min loss: 2.87923. Estimated time left: 1:17:00. Best: 11 batches ago.\r",
      "Epoch: 1. Batch: 122. Min loss: 2.87923. Estimated time left: 1:08:35. Best: 12 batches ago."
     ]
    },
    {
     "name": "stdout",
     "output_type": "stream",
     "text": [
      "\r",
      "Epoch: 1. Batch: 123. Min loss: 2.87923. Estimated time left: 1:22:33. Best: 13 batches ago."
     ]
    },
    {
     "name": "stdout",
     "output_type": "stream",
     "text": [
      "\r",
      "Epoch: 1. Batch: 124. Min loss: 2.87923. Estimated time left: 1:24:23. Best: 14 batches ago."
     ]
    },
    {
     "name": "stdout",
     "output_type": "stream",
     "text": [
      "\r",
      "Epoch: 1. Batch: 125. Min loss: 2.87923. Estimated time left: 1:24:05. Best: 15 batches ago."
     ]
    },
    {
     "name": "stdout",
     "output_type": "stream",
     "text": [
      "\r",
      "Epoch: 1. Batch: 126. Min loss: 2.87346. Estimated time left: 1:27:30. Best: 0 batches ago."
     ]
    },
    {
     "name": "stdout",
     "output_type": "stream",
     "text": [
      "\r",
      "Epoch: 1. Batch: 127. Min loss: 2.87346. Estimated time left: 1:17:50. Best: 1 batches ago.\r",
      "Epoch: 1. Batch: 128. Min loss: 2.87346. Estimated time left: 1:00:15. Best: 2 batches ago."
     ]
    },
    {
     "name": "stdout",
     "output_type": "stream",
     "text": [
      "\r",
      "Epoch: 1. Batch: 129. Min loss: 2.87346. Estimated time left: 1:13:40. Best: 3 batches ago.\r",
      "Epoch: 1. Batch: 130. Min loss: 2.87346. Estimated time left: 1:12:01. Best: 4 batches ago."
     ]
    },
    {
     "name": "stdout",
     "output_type": "stream",
     "text": [
      "\r",
      "Epoch: 1. Batch: 131. Min loss: 2.87346. Estimated time left: 1:05:07. Best: 5 batches ago.\r",
      "Epoch: 1. Batch: 132. Min loss: 2.87346. Estimated time left: 1:13:14. Best: 6 batches ago."
     ]
    },
    {
     "name": "stdout",
     "output_type": "stream",
     "text": [
      "\r",
      "Epoch: 1. Batch: 133. Min loss: 2.87346. Estimated time left: 1:03:31. Best: 7 batches ago.\r",
      "Epoch: 1. Batch: 134. Min loss: 2.87346. Estimated time left: 1:13:27. Best: 8 batches ago."
     ]
    },
    {
     "name": "stdout",
     "output_type": "stream",
     "text": [
      "\r",
      "Epoch: 1. Batch: 135. Min loss: 2.87346. Estimated time left: 1:12:36. Best: 9 batches ago."
     ]
    },
    {
     "name": "stdout",
     "output_type": "stream",
     "text": [
      "\r",
      "Epoch: 1. Batch: 136. Min loss: 2.87346. Estimated time left: 1:15:45. Best: 10 batches ago.\r",
      "Epoch: 1. Batch: 137. Min loss: 2.87346. Estimated time left: 1:03:27. Best: 11 batches ago."
     ]
    },
    {
     "name": "stdout",
     "output_type": "stream",
     "text": [
      "\r",
      "Epoch: 1. Batch: 138. Min loss: 2.87346. Estimated time left: 1:05:54. Best: 12 batches ago.\r",
      "Epoch: 1. Batch: 139. Min loss: 2.87346. Estimated time left: 1:02:52. Best: 13 batches ago."
     ]
    },
    {
     "name": "stdout",
     "output_type": "stream",
     "text": [
      "\r",
      "Epoch: 1. Batch: 140. Min loss: 2.87346. Estimated time left: 1:00:28. Best: 14 batches ago.\r",
      "Epoch: 1. Batch: 141. Min loss: 2.87346. Estimated time left: 0:57:47. Best: 15 batches ago."
     ]
    },
    {
     "name": "stdout",
     "output_type": "stream",
     "text": [
      "\r",
      "Epoch: 1. Batch: 142. Min loss: 2.87346. Estimated time left: 0:59:43. Best: 16 batches ago.\r",
      "Epoch: 1. Batch: 143. Min loss: 2.87346. Estimated time left: 0:55:59. Best: 17 batches ago."
     ]
    },
    {
     "name": "stdout",
     "output_type": "stream",
     "text": [
      "\r",
      "Epoch: 1. Batch: 144. Min loss: 2.87043. Estimated time left: 0:58:57. Best: 0 batches ago.\r",
      "Epoch: 1. Batch: 145. Min loss: 2.87043. Estimated time left: 0:59:20. Best: 1 batches ago."
     ]
    },
    {
     "name": "stdout",
     "output_type": "stream",
     "text": [
      "\r",
      "Epoch: 1. Batch: 146. Min loss: 2.87043. Estimated time left: 1:00:49. Best: 2 batches ago.\r",
      "Epoch: 1. Batch: 147. Min loss: 2.87043. Estimated time left: 1:03:08. Best: 3 batches ago."
     ]
    },
    {
     "name": "stdout",
     "output_type": "stream",
     "text": [
      "\r",
      "Epoch: 1. Batch: 148. Min loss: 2.87043. Estimated time left: 1:01:11. Best: 4 batches ago.\r",
      "Epoch: 1. Batch: 149. Min loss: 2.87043. Estimated time left: 1:00:42. Best: 5 batches ago."
     ]
    },
    {
     "name": "stdout",
     "output_type": "stream",
     "text": [
      "\r",
      "Epoch: 1. Batch: 150. Min loss: 2.86223. Estimated time left: 1:02:34. Best: 0 batches ago.\r",
      "Epoch: 1. Batch: 151. Min loss: 2.86223. Estimated time left: 0:57:08. Best: 1 batches ago."
     ]
    },
    {
     "name": "stdout",
     "output_type": "stream",
     "text": [
      "\r",
      "Epoch: 1. Batch: 152. Min loss: 2.86223. Estimated time left: 1:03:34. Best: 2 batches ago.\r",
      "Epoch: 1. Batch: 153. Min loss: 2.86223. Estimated time left: 1:02:12. Best: 3 batches ago."
     ]
    },
    {
     "name": "stdout",
     "output_type": "stream",
     "text": [
      "\r",
      "Epoch: 1. Batch: 154. Min loss: 2.86223. Estimated time left: 0:57:08. Best: 4 batches ago.\r",
      "Epoch: 1. Batch: 155. Min loss: 2.86223. Estimated time left: 0:55:06. Best: 5 batches ago."
     ]
    },
    {
     "name": "stdout",
     "output_type": "stream",
     "text": [
      "\r",
      "Epoch: 1. Batch: 156. Min loss: 2.86223. Estimated time left: 1:00:05. Best: 6 batches ago.\r",
      "Epoch: 1. Batch: 157. Min loss: 2.86223. Estimated time left: 1:00:56. Best: 7 batches ago."
     ]
    },
    {
     "name": "stdout",
     "output_type": "stream",
     "text": [
      "\r",
      "Epoch: 1. Batch: 158. Min loss: 2.86223. Estimated time left: 1:01:35. Best: 8 batches ago.\r",
      "Epoch: 1. Batch: 159. Min loss: 2.86223. Estimated time left: 1:03:15. Best: 9 batches ago."
     ]
    },
    {
     "name": "stdout",
     "output_type": "stream",
     "text": [
      "\r",
      "Epoch: 1. Batch: 160. Min loss: 2.86223. Estimated time left: 1:03:26. Best: 10 batches ago.\r",
      "Epoch: 1. Batch: 161. Min loss: 2.86223. Estimated time left: 1:04:53. Best: 11 batches ago."
     ]
    },
    {
     "name": "stdout",
     "output_type": "stream",
     "text": [
      "\r",
      "Epoch: 1. Batch: 162. Min loss: 2.86223. Estimated time left: 1:03:14. Best: 12 batches ago.\r",
      "Epoch: 1. Batch: 163. Min loss: 2.86223. Estimated time left: 0:58:18. Best: 13 batches ago."
     ]
    },
    {
     "name": "stdout",
     "output_type": "stream",
     "text": [
      "\r",
      "Epoch: 1. Batch: 164. Min loss: 2.86223. Estimated time left: 0:57:10. Best: 14 batches ago.\r",
      "Epoch: 1. Batch: 165. Min loss: 2.86223. Estimated time left: 1:00:21. Best: 15 batches ago."
     ]
    },
    {
     "name": "stdout",
     "output_type": "stream",
     "text": [
      "\r",
      "Epoch: 1. Batch: 166. Min loss: 2.86223. Estimated time left: 0:59:44. Best: 16 batches ago.\r",
      "Epoch: 1. Batch: 167. Min loss: 2.86223. Estimated time left: 1:01:09. Best: 17 batches ago."
     ]
    },
    {
     "name": "stdout",
     "output_type": "stream",
     "text": [
      "\r",
      "Epoch: 1. Batch: 168. Min loss: 2.86223. Estimated time left: 1:01:14. Best: 18 batches ago.\r",
      "Epoch: 1. Batch: 169. Min loss: 2.86223. Estimated time left: 0:57:30. Best: 19 batches ago."
     ]
    },
    {
     "name": "stdout",
     "output_type": "stream",
     "text": [
      "\r",
      "Epoch: 1. Batch: 170. Min loss: 2.86223. Estimated time left: 0:59:35. Best: 20 batches ago.\r",
      "Epoch: 1. Batch: 171. Min loss: 2.86223. Estimated time left: 0:58:35. Best: 21 batches ago."
     ]
    },
    {
     "name": "stdout",
     "output_type": "stream",
     "text": [
      "\r",
      "Epoch: 1. Batch: 172. Min loss: 2.86223. Estimated time left: 0:59:03. Best: 22 batches ago.\r",
      "Epoch: 1. Batch: 173. Min loss: 2.86223. Estimated time left: 0:57:51. Best: 23 batches ago."
     ]
    },
    {
     "name": "stdout",
     "output_type": "stream",
     "text": [
      "\r",
      "Epoch: 1. Batch: 174. Min loss: 2.86223. Estimated time left: 0:59:24. Best: 24 batches ago.\r",
      "Epoch: 1. Batch: 175. Min loss: 2.86223. Estimated time left: 0:57:46. Best: 25 batches ago."
     ]
    },
    {
     "name": "stdout",
     "output_type": "stream",
     "text": [
      "\r",
      "Epoch: 1. Batch: 176. Min loss: 2.86204. Estimated time left: 0:59:31. Best: 0 batches ago.\r",
      "Epoch: 1. Batch: 177. Min loss: 2.86204. Estimated time left: 0:57:02. Best: 1 batches ago."
     ]
    },
    {
     "name": "stdout",
     "output_type": "stream",
     "text": [
      "\r",
      "Epoch: 1. Batch: 178. Min loss: 2.86204. Estimated time left: 0:58:29. Best: 2 batches ago.\r",
      "Epoch: 1. Batch: 179. Min loss: 2.86204. Estimated time left: 1:00:24. Best: 3 batches ago."
     ]
    },
    {
     "name": "stdout",
     "output_type": "stream",
     "text": [
      "\r",
      "Epoch: 1. Batch: 180. Min loss: 2.86204. Estimated time left: 1:01:00. Best: 4 batches ago.\r",
      "Epoch: 1. Batch: 181. Min loss: 2.86204. Estimated time left: 0:55:58. Best: 5 batches ago."
     ]
    },
    {
     "name": "stdout",
     "output_type": "stream",
     "text": [
      "\r",
      "Epoch: 1. Batch: 182. Min loss: 2.86204. Estimated time left: 0:59:16. Best: 6 batches ago.\r",
      "Epoch: 1. Batch: 183. Min loss: 2.86204. Estimated time left: 1:00:06. Best: 7 batches ago."
     ]
    },
    {
     "name": "stdout",
     "output_type": "stream",
     "text": [
      "\r",
      "Epoch: 1. Batch: 184. Min loss: 2.86204. Estimated time left: 0:56:50. Best: 8 batches ago.\r",
      "Epoch: 1. Batch: 185. Min loss: 2.86204. Estimated time left: 0:59:35. Best: 9 batches ago."
     ]
    },
    {
     "name": "stdout",
     "output_type": "stream",
     "text": [
      "\r",
      "Epoch: 1. Batch: 186. Min loss: 2.86204. Estimated time left: 0:57:38. Best: 10 batches ago.\r",
      "Epoch: 1. Batch: 187. Min loss: 2.86204. Estimated time left: 1:09:09. Best: 11 batches ago."
     ]
    },
    {
     "name": "stdout",
     "output_type": "stream",
     "text": [
      "\r",
      "Epoch: 1. Batch: 188. Min loss: 2.86204. Estimated time left: 1:10:30. Best: 12 batches ago.\r",
      "Epoch: 1. Batch: 189. Min loss: 2.86204. Estimated time left: 1:08:51. Best: 13 batches ago."
     ]
    },
    {
     "name": "stdout",
     "output_type": "stream",
     "text": [
      "\r",
      "Epoch: 1. Batch: 190. Min loss: 2.86204. Estimated time left: 1:06:34. Best: 14 batches ago.\r",
      "Epoch: 1. Batch: 191. Min loss: 2.86204. Estimated time left: 1:11:28. Best: 15 batches ago."
     ]
    },
    {
     "name": "stdout",
     "output_type": "stream",
     "text": [
      "\r",
      "Epoch: 1. Batch: 192. Min loss: 2.86204. Estimated time left: 1:19:33. Best: 16 batches ago.\r",
      "Epoch: 1. Batch: 193. Min loss: 2.86204. Estimated time left: 1:05:28. Best: 17 batches ago."
     ]
    },
    {
     "name": "stdout",
     "output_type": "stream",
     "text": [
      "\r",
      "Epoch: 1. Batch: 194. Min loss: 2.86204. Estimated time left: 1:12:26. Best: 18 batches ago.\r",
      "Epoch: 1. Batch: 195. Min loss: 2.86204. Estimated time left: 1:07:04. Best: 19 batches ago."
     ]
    },
    {
     "name": "stdout",
     "output_type": "stream",
     "text": [
      "\r",
      "Epoch: 1. Batch: 196. Min loss: 2.86204. Estimated time left: 1:11:54. Best: 20 batches ago."
     ]
    },
    {
     "name": "stdout",
     "output_type": "stream",
     "text": [
      "\r",
      "Epoch: 1. Batch: 197. Min loss: 2.86204. Estimated time left: 1:19:46. Best: 21 batches ago.\r",
      "Epoch: 1. Batch: 198. Min loss: 2.86204. Estimated time left: 1:12:53. Best: 22 batches ago."
     ]
    },
    {
     "name": "stdout",
     "output_type": "stream",
     "text": [
      "\r",
      "Epoch: 1. Batch: 199. Min loss: 2.86204. Estimated time left: 1:08:56. Best: 23 batches ago.\r",
      "Epoch: 1. Batch: 200. Min loss: 2.86204. Estimated time left: 1:00:02. Best: 24 batches ago."
     ]
    },
    {
     "name": "stdout",
     "output_type": "stream",
     "text": [
      "\r",
      "Epoch: 1. Batch: 201. Min loss: 2.86204. Estimated time left: 1:02:50. Best: 25 batches ago.\r",
      "Epoch: 1. Batch: 202. Min loss: 2.86204. Estimated time left: 1:00:23. Best: 26 batches ago."
     ]
    },
    {
     "name": "stdout",
     "output_type": "stream",
     "text": [
      "\r",
      "Epoch: 1. Batch: 203. Min loss: 2.86204. Estimated time left: 0:56:29. Best: 27 batches ago.\r",
      "Epoch: 1. Batch: 204. Min loss: 2.86204. Estimated time left: 0:56:02. Best: 28 batches ago."
     ]
    },
    {
     "name": "stdout",
     "output_type": "stream",
     "text": [
      "\r",
      "Epoch: 1. Batch: 205. Min loss: 2.86204. Estimated time left: 0:59:33. Best: 29 batches ago.\r",
      "Epoch: 1. Batch: 206. Min loss: 2.86204. Estimated time left: 0:58:11. Best: 30 batches ago."
     ]
    },
    {
     "name": "stdout",
     "output_type": "stream",
     "text": [
      "\r",
      "Epoch: 1. Batch: 207. Min loss: 2.86204. Estimated time left: 1:00:59. Best: 31 batches ago.\r",
      "Epoch: 1. Batch: 208. Min loss: 2.86204. Estimated time left: 0:55:01. Best: 32 batches ago."
     ]
    },
    {
     "name": "stdout",
     "output_type": "stream",
     "text": [
      "\r",
      "Epoch: 1. Batch: 209. Min loss: 2.86204. Estimated time left: 1:01:39. Best: 33 batches ago.\r",
      "Epoch: 1. Batch: 210. Min loss: 2.86204. Estimated time left: 0:57:51. Best: 34 batches ago."
     ]
    },
    {
     "name": "stdout",
     "output_type": "stream",
     "text": [
      "\r",
      "Epoch: 1. Batch: 211. Min loss: 2.86204. Estimated time left: 1:00:48. Best: 35 batches ago.\r",
      "Epoch: 1. Batch: 212. Min loss: 2.86204. Estimated time left: 0:59:04. Best: 36 batches ago."
     ]
    },
    {
     "name": "stdout",
     "output_type": "stream",
     "text": [
      "\r",
      "Epoch: 1. Batch: 213. Min loss: 2.86204. Estimated time left: 0:58:53. Best: 37 batches ago.\r",
      "Epoch: 1. Batch: 214. Min loss: 2.86204. Estimated time left: 0:58:16. Best: 38 batches ago."
     ]
    },
    {
     "name": "stdout",
     "output_type": "stream",
     "text": [
      "\r",
      "Epoch: 1. Batch: 215. Min loss: 2.86204. Estimated time left: 0:55:19. Best: 39 batches ago.\r",
      "Epoch: 1. Batch: 216. Min loss: 2.86204. Estimated time left: 0:58:16. Best: 40 batches ago."
     ]
    },
    {
     "name": "stdout",
     "output_type": "stream",
     "text": [
      "\r",
      "Epoch: 1. Batch: 217. Min loss: 2.86204. Estimated time left: 1:00:51. Best: 41 batches ago.\r",
      "Epoch: 1. Batch: 218. Min loss: 2.86204. Estimated time left: 1:00:01. Best: 42 batches ago."
     ]
    },
    {
     "name": "stdout",
     "output_type": "stream",
     "text": [
      "\r",
      "Epoch: 1. Batch: 219. Min loss: 2.86204. Estimated time left: 0:57:48. Best: 43 batches ago.\r",
      "Epoch: 1. Batch: 220. Min loss: 2.86204. Estimated time left: 1:02:50. Best: 44 batches ago."
     ]
    },
    {
     "name": "stdout",
     "output_type": "stream",
     "text": [
      "\r",
      "Epoch: 1. Batch: 221. Min loss: 2.86204. Estimated time left: 1:00:47. Best: 45 batches ago.\r",
      "Epoch: 1. Batch: 222. Min loss: 2.85819. Estimated time left: 0:57:05. Best: 0 batches ago."
     ]
    },
    {
     "name": "stdout",
     "output_type": "stream",
     "text": [
      "\r",
      "Epoch: 1. Batch: 223. Min loss: 2.85819. Estimated time left: 0:59:48. Best: 1 batches ago.\r",
      "Epoch: 1. Batch: 224. Min loss: 2.85819. Estimated time left: 0:58:36. Best: 2 batches ago."
     ]
    },
    {
     "name": "stdout",
     "output_type": "stream",
     "text": [
      "\r",
      "Epoch: 1. Batch: 225. Min loss: 2.85819. Estimated time left: 1:11:54. Best: 3 batches ago.\r",
      "Epoch: 1. Batch: 226. Min loss: 2.85819. Estimated time left: 0:59:24. Best: 4 batches ago."
     ]
    },
    {
     "name": "stdout",
     "output_type": "stream",
     "text": [
      "\r",
      "Epoch: 1. Batch: 227. Min loss: 2.85819. Estimated time left: 0:55:03. Best: 5 batches ago.\r",
      "Epoch: 1. Batch: 228. Min loss: 2.85819. Estimated time left: 1:04:12. Best: 6 batches ago."
     ]
    },
    {
     "name": "stdout",
     "output_type": "stream",
     "text": [
      "\r",
      "Epoch: 1. Batch: 229. Min loss: 2.85819. Estimated time left: 1:03:10. Best: 7 batches ago.\r",
      "Epoch: 1. Batch: 230. Min loss: 2.85819. Estimated time left: 1:00:34. Best: 8 batches ago."
     ]
    },
    {
     "name": "stdout",
     "output_type": "stream",
     "text": [
      "\r",
      "Epoch: 1. Batch: 231. Min loss: 2.85819. Estimated time left: 0:57:20. Best: 9 batches ago.\r",
      "Epoch: 1. Batch: 232. Min loss: 2.85819. Estimated time left: 0:58:52. Best: 10 batches ago."
     ]
    },
    {
     "name": "stdout",
     "output_type": "stream",
     "text": [
      "\r",
      "Epoch: 1. Batch: 233. Min loss: 2.84915. Estimated time left: 1:05:31. Best: 0 batches ago.\r",
      "Epoch: 1. Batch: 234. Min loss: 2.84915. Estimated time left: 1:02:48. Best: 1 batches ago."
     ]
    },
    {
     "name": "stdout",
     "output_type": "stream",
     "text": [
      "\r",
      "Epoch: 1. Batch: 235. Min loss: 2.84915. Estimated time left: 1:24:40. Best: 2 batches ago."
     ]
    },
    {
     "name": "stdout",
     "output_type": "stream",
     "text": [
      "\r",
      "Epoch: 1. Batch: 236. Min loss: 2.84915. Estimated time left: 1:25:38. Best: 3 batches ago."
     ]
    },
    {
     "name": "stdout",
     "output_type": "stream",
     "text": [
      "\r",
      "Epoch: 1. Batch: 237. Min loss: 2.84915. Estimated time left: 1:23:40. Best: 4 batches ago.\r",
      "Epoch: 1. Batch: 238. Min loss: 2.84915. Estimated time left: 1:04:23. Best: 5 batches ago."
     ]
    },
    {
     "name": "stdout",
     "output_type": "stream",
     "text": [
      "\r",
      "Epoch: 1. Batch: 239. Min loss: 2.84915. Estimated time left: 0:59:46. Best: 6 batches ago.\r",
      "Epoch: 1. Batch: 240. Min loss: 2.84915. Estimated time left: 0:57:18. Best: 7 batches ago."
     ]
    },
    {
     "name": "stdout",
     "output_type": "stream",
     "text": [
      "\r",
      "Epoch: 1. Batch: 241. Min loss: 2.84915. Estimated time left: 0:56:43. Best: 8 batches ago.\r",
      "Epoch: 1. Batch: 242. Min loss: 2.84915. Estimated time left: 1:02:33. Best: 9 batches ago."
     ]
    },
    {
     "name": "stdout",
     "output_type": "stream",
     "text": [
      "\r",
      "Epoch: 1. Batch: 243. Min loss: 2.84915. Estimated time left: 0:55:05. Best: 10 batches ago.\r",
      "Epoch: 1. Batch: 244. Min loss: 2.84915. Estimated time left: 0:58:43. Best: 11 batches ago."
     ]
    },
    {
     "name": "stdout",
     "output_type": "stream",
     "text": [
      "\r",
      "Epoch: 1. Batch: 245. Min loss: 2.84915. Estimated time left: 0:57:12. Best: 12 batches ago.\r",
      "Epoch: 1. Batch: 246. Min loss: 2.84915. Estimated time left: 0:57:23. Best: 13 batches ago."
     ]
    },
    {
     "name": "stdout",
     "output_type": "stream",
     "text": [
      "\r",
      "Epoch: 1. Batch: 247. Min loss: 2.84915. Estimated time left: 0:58:55. Best: 14 batches ago.\r",
      "Epoch: 1. Batch: 248. Min loss: 2.84915. Estimated time left: 0:58:02. Best: 15 batches ago."
     ]
    },
    {
     "name": "stdout",
     "output_type": "stream",
     "text": [
      "\r",
      "Epoch: 1. Batch: 249. Min loss: 2.84915. Estimated time left: 1:01:11. Best: 16 batches ago.\r",
      "Epoch: 1. Batch: 250. Min loss: 2.84915. Estimated time left: 0:59:56. Best: 17 batches ago."
     ]
    },
    {
     "name": "stdout",
     "output_type": "stream",
     "text": [
      "\r",
      "Epoch: 1. Batch: 251. Min loss: 2.84915. Estimated time left: 1:00:18. Best: 18 batches ago.\r",
      "Epoch: 1. Batch: 252. Min loss: 2.84915. Estimated time left: 0:57:39. Best: 19 batches ago."
     ]
    },
    {
     "name": "stdout",
     "output_type": "stream",
     "text": [
      "\r",
      "Epoch: 1. Batch: 253. Min loss: 2.84915. Estimated time left: 0:58:43. Best: 20 batches ago.\r",
      "Epoch: 1. Batch: 254. Min loss: 2.84915. Estimated time left: 0:56:39. Best: 21 batches ago."
     ]
    },
    {
     "name": "stdout",
     "output_type": "stream",
     "text": [
      "\r",
      "Epoch: 1. Batch: 255. Min loss: 2.84915. Estimated time left: 0:56:56. Best: 22 batches ago.\r",
      "Epoch: 1. Batch: 256. Min loss: 2.84915. Estimated time left: 1:01:22. Best: 23 batches ago."
     ]
    },
    {
     "name": "stdout",
     "output_type": "stream",
     "text": [
      "\r",
      "Epoch: 1. Batch: 257. Min loss: 2.84915. Estimated time left: 0:57:31. Best: 24 batches ago.\r",
      "Epoch: 1. Batch: 258. Min loss: 2.84915. Estimated time left: 0:59:29. Best: 25 batches ago."
     ]
    },
    {
     "name": "stdout",
     "output_type": "stream",
     "text": [
      "\r",
      "Epoch: 1. Batch: 259. Min loss: 2.84915. Estimated time left: 0:58:51. Best: 26 batches ago.\r",
      "Epoch: 1. Batch: 260. Min loss: 2.84915. Estimated time left: 0:58:13. Best: 27 batches ago."
     ]
    },
    {
     "name": "stdout",
     "output_type": "stream",
     "text": [
      "\r",
      "Epoch: 1. Batch: 261. Min loss: 2.84915. Estimated time left: 0:58:43. Best: 28 batches ago.\r",
      "Epoch: 1. Batch: 262. Min loss: 2.84915. Estimated time left: 0:59:13. Best: 29 batches ago."
     ]
    },
    {
     "name": "stdout",
     "output_type": "stream",
     "text": [
      "\r",
      "Epoch: 1. Batch: 263. Min loss: 2.84915. Estimated time left: 0:57:27. Best: 30 batches ago.\r",
      "Epoch: 1. Batch: 264. Min loss: 2.84915. Estimated time left: 0:58:48. Best: 31 batches ago."
     ]
    },
    {
     "name": "stdout",
     "output_type": "stream",
     "text": [
      "\r",
      "Epoch: 1. Batch: 265. Min loss: 2.84915. Estimated time left: 0:58:19. Best: 32 batches ago.\r",
      "Epoch: 1. Batch: 266. Min loss: 2.84915. Estimated time left: 0:55:42. Best: 33 batches ago."
     ]
    },
    {
     "name": "stdout",
     "output_type": "stream",
     "text": [
      "\r",
      "Epoch: 1. Batch: 267. Min loss: 2.84915. Estimated time left: 0:57:23. Best: 34 batches ago.\r",
      "Epoch: 1. Batch: 268. Min loss: 2.84915. Estimated time left: 1:00:40. Best: 35 batches ago."
     ]
    },
    {
     "name": "stdout",
     "output_type": "stream",
     "text": [
      "\r",
      "Epoch: 1. Batch: 269. Min loss: 2.84915. Estimated time left: 0:58:40. Best: 36 batches ago.\r",
      "Epoch: 1. Batch: 270. Min loss: 2.84915. Estimated time left: 1:00:37. Best: 37 batches ago."
     ]
    },
    {
     "name": "stdout",
     "output_type": "stream",
     "text": [
      "\r",
      "Epoch: 1. Batch: 271. Min loss: 2.84915. Estimated time left: 0:56:35. Best: 38 batches ago.\r",
      "Epoch: 1. Batch: 272. Min loss: 2.84915. Estimated time left: 0:58:09. Best: 39 batches ago."
     ]
    },
    {
     "name": "stdout",
     "output_type": "stream",
     "text": [
      "\r",
      "Epoch: 1. Batch: 273. Min loss: 2.84915. Estimated time left: 1:02:13. Best: 40 batches ago.\r",
      "Epoch: 1. Batch: 274. Min loss: 2.84915. Estimated time left: 1:00:00. Best: 41 batches ago."
     ]
    },
    {
     "name": "stdout",
     "output_type": "stream",
     "text": [
      "\r",
      "Epoch: 1. Batch: 275. Min loss: 2.84915. Estimated time left: 1:02:03. Best: 42 batches ago.\r",
      "Epoch: 1. Batch: 276. Min loss: 2.84915. Estimated time left: 0:58:24. Best: 43 batches ago."
     ]
    },
    {
     "name": "stdout",
     "output_type": "stream",
     "text": [
      "\r",
      "Epoch: 1. Batch: 277. Min loss: 2.84915. Estimated time left: 0:55:53. Best: 44 batches ago.\r",
      "Epoch: 1. Batch: 278. Min loss: 2.84915. Estimated time left: 0:58:24. Best: 45 batches ago."
     ]
    },
    {
     "name": "stdout",
     "output_type": "stream",
     "text": [
      "\r",
      "Epoch: 1. Batch: 279. Min loss: 2.84915. Estimated time left: 0:58:41. Best: 46 batches ago.\r",
      "Epoch: 1. Batch: 280. Min loss: 2.84915. Estimated time left: 0:59:20. Best: 47 batches ago."
     ]
    },
    {
     "name": "stdout",
     "output_type": "stream",
     "text": [
      "\r",
      "Epoch: 1. Batch: 281. Min loss: 2.84915. Estimated time left: 0:58:47. Best: 48 batches ago.\r",
      "Epoch: 1. Batch: 282. Min loss: 2.84915. Estimated time left: 0:57:56. Best: 49 batches ago."
     ]
    },
    {
     "name": "stdout",
     "output_type": "stream",
     "text": [
      "\r",
      "Epoch: 1. Batch: 283. Min loss: 2.84915. Estimated time left: 0:56:54. Best: 50 batches ago.\r",
      "Epoch: 1. Batch: 284. Min loss: 2.84915. Estimated time left: 1:01:41. Best: 51 batches ago."
     ]
    },
    {
     "name": "stdout",
     "output_type": "stream",
     "text": [
      "\r",
      "Epoch: 1. Batch: 285. Min loss: 2.84915. Estimated time left: 0:56:47. Best: 52 batches ago.\r",
      "Epoch: 1. Batch: 286. Min loss: 2.84915. Estimated time left: 0:55:14. Best: 53 batches ago."
     ]
    },
    {
     "name": "stdout",
     "output_type": "stream",
     "text": [
      "\r",
      "Epoch: 1. Batch: 287. Min loss: 2.84915. Estimated time left: 0:59:03. Best: 54 batches ago.\r",
      "Epoch: 1. Batch: 288. Min loss: 2.84915. Estimated time left: 1:00:27. Best: 55 batches ago."
     ]
    },
    {
     "name": "stdout",
     "output_type": "stream",
     "text": [
      "\r",
      "Epoch: 1. Batch: 289. Min loss: 2.84915. Estimated time left: 0:57:34. Best: 56 batches ago.\r",
      "Epoch: 1. Batch: 290. Min loss: 2.84915. Estimated time left: 0:55:56. Best: 57 batches ago."
     ]
    },
    {
     "name": "stdout",
     "output_type": "stream",
     "text": [
      "\r",
      "Epoch: 1. Batch: 291. Min loss: 2.84915. Estimated time left: 0:58:48. Best: 58 batches ago.\r",
      "Epoch: 1. Batch: 292. Min loss: 2.84915. Estimated time left: 0:59:04. Best: 59 batches ago."
     ]
    },
    {
     "name": "stdout",
     "output_type": "stream",
     "text": [
      "\r",
      "Epoch: 1. Batch: 293. Min loss: 2.84915. Estimated time left: 0:56:30. Best: 60 batches ago.\r",
      "Epoch: 1. Batch: 294. Min loss: 2.84915. Estimated time left: 1:01:21. Best: 61 batches ago."
     ]
    },
    {
     "name": "stdout",
     "output_type": "stream",
     "text": [
      "\r",
      "Epoch: 1. Batch: 295. Min loss: 2.84915. Estimated time left: 1:09:02. Best: 62 batches ago.\r",
      "Epoch: 1. Batch: 296. Min loss: 2.84915. Estimated time left: 0:59:54. Best: 63 batches ago."
     ]
    },
    {
     "name": "stdout",
     "output_type": "stream",
     "text": [
      "\r",
      "Epoch: 1. Batch: 297. Min loss: 2.84915. Estimated time left: 1:09:13. Best: 64 batches ago.\r",
      "Epoch: 1. Batch: 298. Min loss: 2.84915. Estimated time left: 1:08:35. Best: 65 batches ago."
     ]
    },
    {
     "name": "stdout",
     "output_type": "stream",
     "text": [
      "\r",
      "Epoch: 1. Batch: 299. Min loss: 2.84915. Estimated time left: 0:56:55. Best: 66 batches ago.\r",
      "Epoch: 1. Batch: 300. Min loss: 2.84915. Estimated time left: 1:01:10. Best: 67 batches ago."
     ]
    },
    {
     "name": "stdout",
     "output_type": "stream",
     "text": [
      "\r",
      "Epoch: 1. Batch: 301. Min loss: 2.84915. Estimated time left: 0:59:30. Best: 68 batches ago.\r",
      "Epoch: 1. Batch: 302. Min loss: 2.84915. Estimated time left: 0:58:29. Best: 69 batches ago."
     ]
    },
    {
     "name": "stdout",
     "output_type": "stream",
     "text": [
      "\r",
      "Epoch: 1. Batch: 303. Min loss: 2.84915. Estimated time left: 0:59:03. Best: 70 batches ago.\r",
      "Epoch: 1. Batch: 304. Min loss: 2.84915. Estimated time left: 0:56:20. Best: 71 batches ago."
     ]
    },
    {
     "name": "stdout",
     "output_type": "stream",
     "text": [
      "\r",
      "Epoch: 1. Batch: 305. Min loss: 2.84915. Estimated time left: 1:00:33. Best: 72 batches ago.\r",
      "Epoch: 1. Batch: 306. Min loss: 2.84915. Estimated time left: 1:01:02. Best: 73 batches ago."
     ]
    },
    {
     "name": "stdout",
     "output_type": "stream",
     "text": [
      "\r",
      "Epoch: 1. Batch: 307. Min loss: 2.84915. Estimated time left: 1:01:14. Best: 74 batches ago.\r",
      "Epoch: 1. Batch: 308. Min loss: 2.84915. Estimated time left: 0:58:44. Best: 75 batches ago."
     ]
    },
    {
     "name": "stdout",
     "output_type": "stream",
     "text": [
      "\r",
      "Epoch: 1. Batch: 309. Min loss: 2.84915. Estimated time left: 0:59:21. Best: 76 batches ago.\r",
      "Epoch: 1. Batch: 310. Min loss: 2.84915. Estimated time left: 0:55:59. Best: 77 batches ago."
     ]
    },
    {
     "name": "stdout",
     "output_type": "stream",
     "text": [
      "\r",
      "Epoch: 1. Batch: 311. Min loss: 2.84915. Estimated time left: 1:18:22. Best: 78 batches ago.\r",
      "Epoch: 1. Batch: 312. Min loss: 2.84915. Estimated time left: 1:13:58. Best: 79 batches ago."
     ]
    },
    {
     "name": "stdout",
     "output_type": "stream",
     "text": [
      "\r",
      "Epoch: 1. Batch: 313. Min loss: 2.84915. Estimated time left: 1:19:09. Best: 80 batches ago.\r",
      "Epoch: 1. Batch: 314. Min loss: 2.84915. Estimated time left: 0:59:34. Best: 81 batches ago."
     ]
    },
    {
     "name": "stdout",
     "output_type": "stream",
     "text": [
      "\r",
      "Epoch: 1. Batch: 315. Min loss: 2.84915. Estimated time left: 0:54:24. Best: 82 batches ago.\r",
      "Epoch: 1. Batch: 316. Min loss: 2.84915. Estimated time left: 1:01:45. Best: 83 batches ago."
     ]
    },
    {
     "name": "stdout",
     "output_type": "stream",
     "text": [
      "\r",
      "Epoch: 1. Batch: 317. Min loss: 2.84915. Estimated time left: 1:10:52. Best: 84 batches ago.\r",
      "Epoch: 1. Batch: 318. Min loss: 2.84915. Estimated time left: 1:09:31. Best: 85 batches ago."
     ]
    },
    {
     "name": "stdout",
     "output_type": "stream",
     "text": [
      "\r",
      "Epoch: 1. Batch: 319. Min loss: 2.84915. Estimated time left: 0:59:09. Best: 86 batches ago.\r",
      "Epoch: 1. Batch: 320. Min loss: 2.84915. Estimated time left: 0:53:56. Best: 87 batches ago."
     ]
    },
    {
     "name": "stdout",
     "output_type": "stream",
     "text": [
      "\r",
      "Epoch: 1. Batch: 321. Min loss: 2.84517. Estimated time left: 1:04:11. Best: 0 batches ago.\r",
      "Epoch: 1. Batch: 322. Min loss: 2.84517. Estimated time left: 1:03:11. Best: 1 batches ago."
     ]
    },
    {
     "name": "stdout",
     "output_type": "stream",
     "text": [
      "\r",
      "Epoch: 1. Batch: 323. Min loss: 2.84517. Estimated time left: 1:02:20. Best: 2 batches ago.\r",
      "Epoch: 1. Batch: 324. Min loss: 2.84517. Estimated time left: 0:57:15. Best: 3 batches ago."
     ]
    },
    {
     "name": "stdout",
     "output_type": "stream",
     "text": [
      "\r",
      "Epoch: 1. Batch: 325. Min loss: 2.84517. Estimated time left: 1:04:56. Best: 4 batches ago."
     ]
    },
    {
     "name": "stdout",
     "output_type": "stream",
     "text": [
      "\r",
      "Epoch: 1. Batch: 326. Min loss: 2.84380. Estimated time left: 1:17:38. Best: 0 batches ago.\r",
      "Epoch: 1. Batch: 327. Min loss: 2.84380. Estimated time left: 1:08:23. Best: 1 batches ago."
     ]
    },
    {
     "name": "stdout",
     "output_type": "stream",
     "text": [
      "\r",
      "Epoch: 1. Batch: 328. Min loss: 2.84380. Estimated time left: 0:57:25. Best: 2 batches ago.\r",
      "Epoch: 1. Batch: 329. Min loss: 2.84380. Estimated time left: 0:59:28. Best: 3 batches ago."
     ]
    },
    {
     "name": "stdout",
     "output_type": "stream",
     "text": [
      "\r",
      "Epoch: 1. Batch: 330. Min loss: 2.84380. Estimated time left: 1:18:08. Best: 4 batches ago."
     ]
    },
    {
     "name": "stdout",
     "output_type": "stream",
     "text": [
      "\r",
      "Epoch: 1. Batch: 331. Min loss: 2.84380. Estimated time left: 1:16:42. Best: 5 batches ago.\r",
      "Epoch: 1. Batch: 332. Min loss: 2.84380. Estimated time left: 0:59:28. Best: 6 batches ago."
     ]
    },
    {
     "name": "stdout",
     "output_type": "stream",
     "text": [
      "\r",
      "Epoch: 1. Batch: 333. Min loss: 2.84380. Estimated time left: 0:58:02. Best: 7 batches ago.\r",
      "Epoch: 1. Batch: 334. Min loss: 2.84380. Estimated time left: 0:59:00. Best: 8 batches ago."
     ]
    },
    {
     "name": "stdout",
     "output_type": "stream",
     "text": [
      "\r",
      "Epoch: 1. Batch: 335. Min loss: 2.84380. Estimated time left: 0:57:54. Best: 9 batches ago.\r",
      "Epoch: 1. Batch: 336. Min loss: 2.84380. Estimated time left: 1:00:56. Best: 10 batches ago."
     ]
    },
    {
     "name": "stdout",
     "output_type": "stream",
     "text": [
      "\r",
      "Epoch: 1. Batch: 337. Min loss: 2.84380. Estimated time left: 0:58:26. Best: 11 batches ago.\r",
      "Epoch: 1. Batch: 338. Min loss: 2.84380. Estimated time left: 1:01:56. Best: 12 batches ago."
     ]
    },
    {
     "name": "stdout",
     "output_type": "stream",
     "text": [
      "\r",
      "Epoch: 1. Batch: 339. Min loss: 2.84380. Estimated time left: 1:01:52. Best: 13 batches ago.\r",
      "Epoch: 1. Batch: 340. Min loss: 2.84380. Estimated time left: 0:59:47. Best: 14 batches ago."
     ]
    },
    {
     "name": "stdout",
     "output_type": "stream",
     "text": [
      "\r",
      "Epoch: 1. Batch: 341. Min loss: 2.84380. Estimated time left: 1:00:14. Best: 15 batches ago.\r",
      "Epoch: 1. Batch: 342. Min loss: 2.84380. Estimated time left: 1:01:39. Best: 16 batches ago."
     ]
    },
    {
     "name": "stdout",
     "output_type": "stream",
     "text": [
      "\r",
      "Epoch: 1. Batch: 343. Min loss: 2.84380. Estimated time left: 1:20:36. Best: 17 batches ago."
     ]
    },
    {
     "name": "stdout",
     "output_type": "stream",
     "text": [
      "\r",
      "Epoch: 1. Batch: 344. Min loss: 2.84380. Estimated time left: 1:23:43. Best: 18 batches ago.\r",
      "Epoch: 1. Batch: 345. Min loss: 2.84380. Estimated time left: 1:07:32. Best: 19 batches ago."
     ]
    },
    {
     "name": "stdout",
     "output_type": "stream",
     "text": [
      "\r",
      "Epoch: 1. Batch: 346. Min loss: 2.84380. Estimated time left: 0:55:03. Best: 20 batches ago.\r",
      "Epoch: 1. Batch: 347. Min loss: 2.84380. Estimated time left: 0:55:10. Best: 21 batches ago."
     ]
    },
    {
     "name": "stdout",
     "output_type": "stream",
     "text": [
      "\r",
      "Epoch: 1. Batch: 348. Min loss: 2.84380. Estimated time left: 1:01:50. Best: 22 batches ago.\r",
      "Epoch: 1. Batch: 349. Min loss: 2.84380. Estimated time left: 1:00:08. Best: 23 batches ago."
     ]
    },
    {
     "name": "stdout",
     "output_type": "stream",
     "text": [
      "\r",
      "Epoch: 1. Batch: 350. Min loss: 2.84380. Estimated time left: 0:57:43. Best: 24 batches ago.\r",
      "Epoch: 1. Batch: 351. Min loss: 2.84380. Estimated time left: 0:52:52. Best: 25 batches ago."
     ]
    },
    {
     "name": "stdout",
     "output_type": "stream",
     "text": [
      "\r",
      "Epoch: 1. Batch: 352. Min loss: 2.84380. Estimated time left: 1:01:55. Best: 26 batches ago.\r",
      "Epoch: 1. Batch: 353. Min loss: 2.84380. Estimated time left: 0:55:48. Best: 27 batches ago."
     ]
    },
    {
     "name": "stdout",
     "output_type": "stream",
     "text": [
      "\r",
      "Epoch: 1. Batch: 354. Min loss: 2.84380. Estimated time left: 1:00:36. Best: 28 batches ago.\r",
      "Epoch: 1. Batch: 355. Min loss: 2.84380. Estimated time left: 0:57:12. Best: 29 batches ago."
     ]
    },
    {
     "name": "stdout",
     "output_type": "stream",
     "text": [
      "\r",
      "Epoch: 1. Batch: 356. Min loss: 2.84380. Estimated time left: 0:59:45. Best: 30 batches ago.\r",
      "Epoch: 1. Batch: 357. Min loss: 2.84380. Estimated time left: 0:58:30. Best: 31 batches ago."
     ]
    },
    {
     "name": "stdout",
     "output_type": "stream",
     "text": [
      "\r",
      "Epoch: 1. Batch: 358. Min loss: 2.84380. Estimated time left: 0:56:22. Best: 32 batches ago.\r",
      "Epoch: 1. Batch: 359. Min loss: 2.84380. Estimated time left: 0:51:58. Best: 33 batches ago."
     ]
    },
    {
     "name": "stdout",
     "output_type": "stream",
     "text": [
      "\r",
      "Epoch: 1. Batch: 360. Min loss: 2.84380. Estimated time left: 0:55:43. Best: 34 batches ago.\r",
      "Epoch: 1. Batch: 361. Min loss: 2.84380. Estimated time left: 0:57:51. Best: 35 batches ago."
     ]
    },
    {
     "name": "stdout",
     "output_type": "stream",
     "text": [
      "\r",
      "Epoch: 1. Batch: 362. Min loss: 2.84380. Estimated time left: 1:01:00. Best: 36 batches ago.\r",
      "Epoch: 1. Batch: 363. Min loss: 2.84380. Estimated time left: 0:58:52. Best: 37 batches ago."
     ]
    },
    {
     "name": "stdout",
     "output_type": "stream",
     "text": [
      "\r",
      "Epoch: 1. Batch: 364. Min loss: 2.84380. Estimated time left: 0:54:56. Best: 38 batches ago.\r",
      "Epoch: 1. Batch: 365. Min loss: 2.84380. Estimated time left: 0:55:31. Best: 39 batches ago."
     ]
    },
    {
     "name": "stdout",
     "output_type": "stream",
     "text": [
      "\r",
      "Epoch: 1. Batch: 366. Min loss: 2.84380. Estimated time left: 1:01:02. Best: 40 batches ago.\r",
      "Epoch: 1. Batch: 367. Min loss: 2.84380. Estimated time left: 0:59:33. Best: 41 batches ago."
     ]
    },
    {
     "name": "stdout",
     "output_type": "stream",
     "text": [
      "\r",
      "Epoch: 1. Batch: 368. Min loss: 2.84380. Estimated time left: 0:57:39. Best: 42 batches ago.\r",
      "Epoch: 1. Batch: 369. Min loss: 2.84380. Estimated time left: 0:57:51. Best: 43 batches ago."
     ]
    },
    {
     "name": "stdout",
     "output_type": "stream",
     "text": [
      "\r",
      "Epoch: 1. Batch: 370. Min loss: 2.84380. Estimated time left: 0:56:44. Best: 44 batches ago.\r",
      "Epoch: 1. Batch: 371. Min loss: 2.83603. Estimated time left: 0:58:14. Best: 0 batches ago."
     ]
    },
    {
     "name": "stdout",
     "output_type": "stream",
     "text": [
      "\r",
      "Epoch: 1. Batch: 372. Min loss: 2.83603. Estimated time left: 0:55:31. Best: 1 batches ago.\r",
      "Epoch: 1. Batch: 373. Min loss: 2.83603. Estimated time left: 0:57:33. Best: 2 batches ago."
     ]
    },
    {
     "name": "stdout",
     "output_type": "stream",
     "text": [
      "\r",
      "Epoch: 1. Batch: 374. Min loss: 2.83603. Estimated time left: 0:58:43. Best: 3 batches ago.\r",
      "Epoch: 1. Batch: 375. Min loss: 2.83603. Estimated time left: 1:00:52. Best: 4 batches ago."
     ]
    },
    {
     "name": "stdout",
     "output_type": "stream",
     "text": [
      "\r",
      "Epoch: 1. Batch: 376. Min loss: 2.83603. Estimated time left: 0:59:19. Best: 5 batches ago.\r",
      "Epoch: 1. Batch: 377. Min loss: 2.83603. Estimated time left: 0:58:26. Best: 6 batches ago."
     ]
    },
    {
     "name": "stdout",
     "output_type": "stream",
     "text": [
      "\r",
      "Epoch: 1. Batch: 378. Min loss: 2.83603. Estimated time left: 1:01:40. Best: 7 batches ago.\r",
      "Epoch: 1. Batch: 379. Min loss: 2.83603. Estimated time left: 0:59:30. Best: 8 batches ago."
     ]
    },
    {
     "name": "stdout",
     "output_type": "stream",
     "text": [
      "\r",
      "Epoch: 1. Batch: 380. Min loss: 2.83603. Estimated time left: 0:53:38. Best: 9 batches ago.\r",
      "Epoch: 1. Batch: 381. Min loss: 2.83603. Estimated time left: 0:55:23. Best: 10 batches ago."
     ]
    },
    {
     "name": "stdout",
     "output_type": "stream",
     "text": [
      "\r",
      "Epoch: 1. Batch: 382. Min loss: 2.83603. Estimated time left: 1:00:50. Best: 11 batches ago.\r",
      "Epoch: 1. Batch: 383. Min loss: 2.83603. Estimated time left: 0:57:35. Best: 12 batches ago."
     ]
    },
    {
     "name": "stdout",
     "output_type": "stream",
     "text": [
      "\r",
      "Epoch: 1. Batch: 384. Min loss: 2.83603. Estimated time left: 0:54:14. Best: 13 batches ago.\r",
      "Epoch: 1. Batch: 385. Min loss: 2.83603. Estimated time left: 0:56:46. Best: 14 batches ago."
     ]
    },
    {
     "name": "stdout",
     "output_type": "stream",
     "text": [
      "\r",
      "Epoch: 1. Batch: 386. Min loss: 2.83603. Estimated time left: 0:57:53. Best: 15 batches ago.\r",
      "Epoch: 1. Batch: 387. Min loss: 2.83603. Estimated time left: 0:59:08. Best: 16 batches ago."
     ]
    },
    {
     "name": "stdout",
     "output_type": "stream",
     "text": [
      "\r",
      "Epoch: 1. Batch: 388. Min loss: 2.83603. Estimated time left: 0:56:42. Best: 17 batches ago.\r",
      "Epoch: 1. Batch: 389. Min loss: 2.83603. Estimated time left: 0:59:18. Best: 18 batches ago."
     ]
    },
    {
     "name": "stdout",
     "output_type": "stream",
     "text": [
      "\r",
      "Epoch: 1. Batch: 390. Min loss: 2.83603. Estimated time left: 0:58:25. Best: 19 batches ago.\r",
      "Epoch: 1. Batch: 391. Min loss: 2.83603. Estimated time left: 0:54:23. Best: 20 batches ago."
     ]
    },
    {
     "name": "stdout",
     "output_type": "stream",
     "text": [
      "\r",
      "Epoch: 1. Batch: 392. Min loss: 2.83603. Estimated time left: 0:56:50. Best: 21 batches ago.\r",
      "Epoch: 1. Batch: 393. Min loss: 2.83603. Estimated time left: 0:58:52. Best: 22 batches ago."
     ]
    },
    {
     "name": "stdout",
     "output_type": "stream",
     "text": [
      "\r",
      "Epoch: 1. Batch: 394. Min loss: 2.83603. Estimated time left: 0:56:59. Best: 23 batches ago.\r",
      "Epoch: 1. Batch: 395. Min loss: 2.83603. Estimated time left: 0:59:10. Best: 24 batches ago."
     ]
    },
    {
     "name": "stdout",
     "output_type": "stream",
     "text": [
      "\r",
      "Epoch: 1. Batch: 396. Min loss: 2.83603. Estimated time left: 0:57:36. Best: 25 batches ago.\r",
      "Epoch: 1. Batch: 397. Min loss: 2.83603. Estimated time left: 0:54:49. Best: 26 batches ago."
     ]
    },
    {
     "name": "stdout",
     "output_type": "stream",
     "text": [
      "\r",
      "Epoch: 1. Batch: 398. Min loss: 2.83603. Estimated time left: 1:01:21. Best: 27 batches ago.\r",
      "Epoch: 1. Batch: 399. Min loss: 2.83603. Estimated time left: 0:55:16. Best: 28 batches ago."
     ]
    },
    {
     "name": "stdout",
     "output_type": "stream",
     "text": [
      "\r",
      "Epoch: 1. Batch: 400. Min loss: 2.83603. Estimated time left: 0:58:24. Best: 29 batches ago.\r",
      "Epoch: 1. Batch: 401. Min loss: 2.83603. Estimated time left: 0:58:51. Best: 30 batches ago."
     ]
    },
    {
     "name": "stdout",
     "output_type": "stream",
     "text": [
      "\r",
      "Epoch: 1. Batch: 402. Min loss: 2.83603. Estimated time left: 0:56:47. Best: 31 batches ago.\r",
      "Epoch: 1. Batch: 403. Min loss: 2.83603. Estimated time left: 0:57:45. Best: 32 batches ago."
     ]
    },
    {
     "name": "stdout",
     "output_type": "stream",
     "text": [
      "\r",
      "Epoch: 1. Batch: 404. Min loss: 2.83603. Estimated time left: 0:56:26. Best: 33 batches ago.\r",
      "Epoch: 1. Batch: 405. Min loss: 2.83603. Estimated time left: 0:57:53. Best: 34 batches ago."
     ]
    },
    {
     "name": "stdout",
     "output_type": "stream",
     "text": [
      "\r",
      "Epoch: 1. Batch: 406. Min loss: 2.83603. Estimated time left: 0:57:54. Best: 35 batches ago.\r",
      "Epoch: 1. Batch: 407. Min loss: 2.83603. Estimated time left: 0:55:34. Best: 36 batches ago."
     ]
    },
    {
     "name": "stdout",
     "output_type": "stream",
     "text": [
      "\r",
      "Epoch: 1. Batch: 408. Min loss: 2.83603. Estimated time left: 0:55:40. Best: 37 batches ago.\r",
      "Epoch: 1. Batch: 409. Min loss: 2.83603. Estimated time left: 0:57:17. Best: 38 batches ago."
     ]
    },
    {
     "name": "stdout",
     "output_type": "stream",
     "text": [
      "\r",
      "Epoch: 1. Batch: 410. Min loss: 2.83603. Estimated time left: 0:58:31. Best: 39 batches ago.\r",
      "Epoch: 1. Batch: 411. Min loss: 2.83603. Estimated time left: 1:01:31. Best: 40 batches ago."
     ]
    },
    {
     "name": "stdout",
     "output_type": "stream",
     "text": [
      "\r",
      "Epoch: 1. Batch: 412. Min loss: 2.83603. Estimated time left: 0:57:33. Best: 41 batches ago.\r",
      "Epoch: 1. Batch: 413. Min loss: 2.83603. Estimated time left: 0:59:12. Best: 42 batches ago."
     ]
    },
    {
     "name": "stdout",
     "output_type": "stream",
     "text": [
      "\r",
      "Epoch: 1. Batch: 414. Min loss: 2.83603. Estimated time left: 0:53:35. Best: 43 batches ago.\r",
      "Epoch: 1. Batch: 415. Min loss: 2.83603. Estimated time left: 0:56:17. Best: 44 batches ago."
     ]
    },
    {
     "name": "stdout",
     "output_type": "stream",
     "text": [
      "\r",
      "Epoch: 1. Batch: 416. Min loss: 2.83603. Estimated time left: 1:00:34. Best: 45 batches ago.\r",
      "Epoch: 1. Batch: 417. Min loss: 2.83603. Estimated time left: 0:58:16. Best: 46 batches ago."
     ]
    },
    {
     "name": "stdout",
     "output_type": "stream",
     "text": [
      "\r",
      "Epoch: 1. Batch: 418. Min loss: 2.83603. Estimated time left: 1:00:40. Best: 47 batches ago.\r",
      "Epoch: 1. Batch: 419. Min loss: 2.83603. Estimated time left: 0:56:05. Best: 48 batches ago."
     ]
    },
    {
     "name": "stdout",
     "output_type": "stream",
     "text": [
      "\r",
      "Epoch: 1. Batch: 420. Min loss: 2.83603. Estimated time left: 0:57:39. Best: 49 batches ago.\r",
      "Epoch: 1. Batch: 421. Min loss: 2.83603. Estimated time left: 0:54:31. Best: 50 batches ago."
     ]
    },
    {
     "name": "stdout",
     "output_type": "stream",
     "text": [
      "\r",
      "Epoch: 1. Batch: 422. Min loss: 2.83603. Estimated time left: 0:59:42. Best: 51 batches ago.\r",
      "Epoch: 1. Batch: 423. Min loss: 2.83603. Estimated time left: 0:56:40. Best: 52 batches ago."
     ]
    },
    {
     "name": "stdout",
     "output_type": "stream",
     "text": [
      "\r",
      "Epoch: 1. Batch: 424. Min loss: 2.83603. Estimated time left: 0:56:43. Best: 53 batches ago.\r",
      "Epoch: 1. Batch: 425. Min loss: 2.83603. Estimated time left: 0:56:33. Best: 54 batches ago."
     ]
    },
    {
     "name": "stdout",
     "output_type": "stream",
     "text": [
      "\r",
      "Epoch: 1. Batch: 426. Min loss: 2.83603. Estimated time left: 0:57:50. Best: 55 batches ago.\r",
      "Epoch: 1. Batch: 427. Min loss: 2.83603. Estimated time left: 1:00:18. Best: 56 batches ago."
     ]
    },
    {
     "name": "stdout",
     "output_type": "stream",
     "text": [
      "\r",
      "Epoch: 1. Batch: 428. Min loss: 2.83603. Estimated time left: 0:56:43. Best: 57 batches ago.\r",
      "Epoch: 1. Batch: 429. Min loss: 2.83603. Estimated time left: 0:53:55. Best: 58 batches ago."
     ]
    },
    {
     "name": "stdout",
     "output_type": "stream",
     "text": [
      "\r",
      "Epoch: 1. Batch: 430. Min loss: 2.83603. Estimated time left: 0:57:18. Best: 59 batches ago.\r",
      "Epoch: 1. Batch: 431. Min loss: 2.83603. Estimated time left: 0:55:36. Best: 60 batches ago."
     ]
    },
    {
     "name": "stdout",
     "output_type": "stream",
     "text": [
      "\r",
      "Epoch: 1. Batch: 432. Min loss: 2.83603. Estimated time left: 1:01:47. Best: 61 batches ago.\r",
      "Epoch: 1. Batch: 433. Min loss: 2.83603. Estimated time left: 0:58:43. Best: 62 batches ago."
     ]
    },
    {
     "name": "stdout",
     "output_type": "stream",
     "text": [
      "\r",
      "Epoch: 1. Batch: 434. Min loss: 2.83603. Estimated time left: 1:01:32. Best: 63 batches ago.\r",
      "Epoch: 1. Batch: 435. Min loss: 2.83603. Estimated time left: 1:01:02. Best: 64 batches ago."
     ]
    },
    {
     "name": "stdout",
     "output_type": "stream",
     "text": [
      "\r",
      "Epoch: 1. Batch: 436. Min loss: 2.83603. Estimated time left: 0:58:38. Best: 65 batches ago.\r",
      "Epoch: 1. Batch: 437. Min loss: 2.83603. Estimated time left: 1:00:00. Best: 66 batches ago."
     ]
    },
    {
     "name": "stdout",
     "output_type": "stream",
     "text": [
      "\r",
      "Epoch: 1. Batch: 438. Min loss: 2.83603. Estimated time left: 0:56:11. Best: 67 batches ago.\r",
      "Epoch: 1. Batch: 439. Min loss: 2.83603. Estimated time left: 0:58:27. Best: 68 batches ago."
     ]
    },
    {
     "name": "stdout",
     "output_type": "stream",
     "text": [
      "\r",
      "Epoch: 1. Batch: 440. Min loss: 2.83603. Estimated time left: 1:00:05. Best: 69 batches ago.\r",
      "Epoch: 1. Batch: 441. Min loss: 2.83603. Estimated time left: 0:57:13. Best: 70 batches ago."
     ]
    },
    {
     "name": "stdout",
     "output_type": "stream",
     "text": [
      "\r",
      "Epoch: 1. Batch: 442. Min loss: 2.83603. Estimated time left: 0:59:04. Best: 71 batches ago.\r",
      "Epoch: 1. Batch: 443. Min loss: 2.83603. Estimated time left: 0:57:31. Best: 72 batches ago."
     ]
    },
    {
     "name": "stdout",
     "output_type": "stream",
     "text": [
      "\r",
      "Epoch: 1. Batch: 444. Min loss: 2.83603. Estimated time left: 0:58:10. Best: 73 batches ago.\r",
      "Epoch: 1. Batch: 445. Min loss: 2.83603. Estimated time left: 0:58:04. Best: 74 batches ago."
     ]
    },
    {
     "name": "stdout",
     "output_type": "stream",
     "text": [
      "\r",
      "Epoch: 1. Batch: 446. Min loss: 2.83603. Estimated time left: 1:00:05. Best: 75 batches ago.\r",
      "Epoch: 1. Batch: 447. Min loss: 2.83603. Estimated time left: 0:57:43. Best: 76 batches ago."
     ]
    },
    {
     "name": "stdout",
     "output_type": "stream",
     "text": [
      "\r",
      "Epoch: 1. Batch: 448. Min loss: 2.83603. Estimated time left: 0:56:59. Best: 77 batches ago.\r",
      "Epoch: 1. Batch: 449. Min loss: 2.83603. Estimated time left: 0:53:22. Best: 78 batches ago."
     ]
    },
    {
     "name": "stdout",
     "output_type": "stream",
     "text": [
      "\r",
      "Epoch: 1. Batch: 450. Min loss: 2.83603. Estimated time left: 0:57:39. Best: 79 batches ago.\r",
      "Epoch: 1. Batch: 451. Min loss: 2.83603. Estimated time left: 1:00:28. Best: 80 batches ago."
     ]
    },
    {
     "name": "stdout",
     "output_type": "stream",
     "text": [
      "\r",
      "Epoch: 1. Batch: 452. Min loss: 2.83603. Estimated time left: 1:02:12. Best: 81 batches ago.\r",
      "Epoch: 1. Batch: 453. Min loss: 2.83603. Estimated time left: 0:57:32. Best: 82 batches ago."
     ]
    },
    {
     "name": "stdout",
     "output_type": "stream",
     "text": [
      "\r",
      "Epoch: 1. Batch: 454. Min loss: 2.83603. Estimated time left: 0:57:19. Best: 83 batches ago.\r",
      "Epoch: 1. Batch: 455. Min loss: 2.83603. Estimated time left: 0:57:18. Best: 84 batches ago."
     ]
    },
    {
     "name": "stdout",
     "output_type": "stream",
     "text": [
      "\r",
      "Epoch: 1. Batch: 456. Min loss: 2.83603. Estimated time left: 0:58:48. Best: 85 batches ago.\r",
      "Epoch: 1. Batch: 457. Min loss: 2.83603. Estimated time left: 0:55:59. Best: 86 batches ago."
     ]
    },
    {
     "name": "stdout",
     "output_type": "stream",
     "text": [
      "\r",
      "Epoch: 1. Batch: 458. Min loss: 2.83603. Estimated time left: 1:01:12. Best: 87 batches ago.\r",
      "Epoch: 1. Batch: 459. Min loss: 2.83603. Estimated time left: 0:56:59. Best: 88 batches ago."
     ]
    },
    {
     "name": "stdout",
     "output_type": "stream",
     "text": [
      "\r",
      "Epoch: 1. Batch: 460. Min loss: 2.83603. Estimated time left: 0:59:15. Best: 89 batches ago.\r",
      "Epoch: 1. Batch: 461. Min loss: 2.83603. Estimated time left: 0:55:19. Best: 90 batches ago."
     ]
    },
    {
     "name": "stdout",
     "output_type": "stream",
     "text": [
      "\r",
      "Epoch: 1. Batch: 462. Min loss: 2.83603. Estimated time left: 0:59:59. Best: 91 batches ago.\r",
      "Epoch: 1. Batch: 463. Min loss: 2.83603. Estimated time left: 0:57:34. Best: 92 batches ago."
     ]
    },
    {
     "name": "stdout",
     "output_type": "stream",
     "text": [
      "\r",
      "Epoch: 1. Batch: 464. Min loss: 2.83603. Estimated time left: 0:55:21. Best: 93 batches ago.\r",
      "Epoch: 1. Batch: 465. Min loss: 2.83603. Estimated time left: 0:57:29. Best: 94 batches ago."
     ]
    },
    {
     "name": "stdout",
     "output_type": "stream",
     "text": [
      "\r",
      "Epoch: 1. Batch: 466. Min loss: 2.83603. Estimated time left: 0:58:26. Best: 95 batches ago.\r",
      "Epoch: 1. Batch: 467. Min loss: 2.83603. Estimated time left: 0:57:25. Best: 96 batches ago."
     ]
    },
    {
     "name": "stdout",
     "output_type": "stream",
     "text": [
      "\r",
      "Epoch: 1. Batch: 468. Min loss: 2.83603. Estimated time left: 0:57:47. Best: 97 batches ago.\r",
      "Epoch: 1. Batch: 469. Min loss: 2.83603. Estimated time left: 0:54:09. Best: 98 batches ago."
     ]
    },
    {
     "name": "stdout",
     "output_type": "stream",
     "text": [
      "\r",
      "Epoch: 1. Batch: 470. Min loss: 2.83603. Estimated time left: 0:55:11. Best: 99 batches ago.\r",
      "Epoch: 1. Batch: 471. Min loss: 2.83603. Estimated time left: 0:59:18. Best: 100 batches ago."
     ]
    },
    {
     "name": "stdout",
     "output_type": "stream",
     "text": [
      "\r",
      "Epoch: 1. Batch: 472. Min loss: 2.83603. Estimated time left: 0:58:40. Best: 101 batches ago.\r",
      "Epoch: 1. Batch: 473. Min loss: 2.83603. Estimated time left: 0:56:50. Best: 102 batches ago."
     ]
    },
    {
     "name": "stdout",
     "output_type": "stream",
     "text": [
      "\r",
      "Epoch: 1. Batch: 474. Min loss: 2.83603. Estimated time left: 0:56:05. Best: 103 batches ago.\r",
      "Epoch: 1. Batch: 475. Min loss: 2.83603. Estimated time left: 0:59:11. Best: 104 batches ago."
     ]
    },
    {
     "name": "stdout",
     "output_type": "stream",
     "text": [
      "\r",
      "Epoch: 1. Batch: 476. Min loss: 2.83603. Estimated time left: 0:59:55. Best: 105 batches ago.\r",
      "Epoch: 1. Batch: 477. Min loss: 2.83255. Estimated time left: 0:56:29. Best: 0 batches ago."
     ]
    },
    {
     "name": "stdout",
     "output_type": "stream",
     "text": [
      "\r",
      "Epoch: 1. Batch: 478. Min loss: 2.83255. Estimated time left: 0:56:11. Best: 1 batches ago.\r",
      "Epoch: 1. Batch: 479. Min loss: 2.83255. Estimated time left: 0:59:01. Best: 2 batches ago."
     ]
    },
    {
     "name": "stdout",
     "output_type": "stream",
     "text": [
      "\r",
      "Epoch: 1. Batch: 480. Min loss: 2.83255. Estimated time left: 0:55:40. Best: 3 batches ago.\r",
      "Epoch: 1. Batch: 481. Min loss: 2.83255. Estimated time left: 0:58:21. Best: 4 batches ago."
     ]
    },
    {
     "name": "stdout",
     "output_type": "stream",
     "text": [
      "\r",
      "Epoch: 1. Batch: 482. Min loss: 2.83255. Estimated time left: 0:55:14. Best: 5 batches ago.\r",
      "Epoch: 1. Batch: 483. Min loss: 2.83255. Estimated time left: 0:55:33. Best: 6 batches ago."
     ]
    },
    {
     "name": "stdout",
     "output_type": "stream",
     "text": [
      "\r",
      "Epoch: 1. Batch: 484. Min loss: 2.83255. Estimated time left: 0:57:21. Best: 7 batches ago.\r",
      "Epoch: 1. Batch: 485. Min loss: 2.83255. Estimated time left: 0:56:24. Best: 8 batches ago."
     ]
    },
    {
     "name": "stdout",
     "output_type": "stream",
     "text": [
      "\r",
      "Epoch: 1. Batch: 486. Min loss: 2.83255. Estimated time left: 0:57:17. Best: 9 batches ago.\r",
      "Epoch: 1. Batch: 487. Min loss: 2.83255. Estimated time left: 0:58:38. Best: 10 batches ago."
     ]
    },
    {
     "name": "stdout",
     "output_type": "stream",
     "text": [
      "\r",
      "Epoch: 1. Batch: 488. Min loss: 2.83098. Estimated time left: 1:00:17. Best: 0 batches ago.\r",
      "Epoch: 1. Batch: 489. Min loss: 2.83098. Estimated time left: 0:58:31. Best: 1 batches ago."
     ]
    },
    {
     "name": "stdout",
     "output_type": "stream",
     "text": [
      "\r",
      "Epoch: 1. Batch: 490. Min loss: 2.83098. Estimated time left: 0:57:20. Best: 2 batches ago.\r",
      "Epoch: 1. Batch: 491. Min loss: 2.83098. Estimated time left: 0:58:13. Best: 3 batches ago."
     ]
    },
    {
     "name": "stdout",
     "output_type": "stream",
     "text": [
      "\r",
      "Epoch: 1. Batch: 492. Min loss: 2.83098. Estimated time left: 0:56:46. Best: 4 batches ago.\r",
      "Epoch: 1. Batch: 493. Min loss: 2.83098. Estimated time left: 0:57:52. Best: 5 batches ago."
     ]
    },
    {
     "name": "stdout",
     "output_type": "stream",
     "text": [
      "\r",
      "Epoch: 1. Batch: 494. Min loss: 2.83098. Estimated time left: 1:00:54. Best: 6 batches ago.\r",
      "Epoch: 1. Batch: 495. Min loss: 2.83098. Estimated time left: 0:59:39. Best: 7 batches ago."
     ]
    },
    {
     "name": "stdout",
     "output_type": "stream",
     "text": [
      "\r",
      "Epoch: 1. Batch: 496. Min loss: 2.83098. Estimated time left: 1:00:29. Best: 8 batches ago.\r",
      "Epoch: 1. Batch: 497. Min loss: 2.83098. Estimated time left: 0:55:04. Best: 9 batches ago."
     ]
    },
    {
     "name": "stdout",
     "output_type": "stream",
     "text": [
      "\r",
      "Epoch: 1. Batch: 498. Min loss: 2.83098. Estimated time left: 0:59:45. Best: 10 batches ago.\r",
      "Epoch: 1. Batch: 499. Min loss: 2.83098. Estimated time left: 0:58:51. Best: 11 batches ago."
     ]
    },
    {
     "name": "stdout",
     "output_type": "stream",
     "text": [
      "\r",
      "Epoch: 1. Batch: 500. Min loss: 2.83098. Estimated time left: 0:58:31. Best: 12 batches ago.\r",
      "Epoch: 1. Batch: 501. Min loss: 2.83098. Estimated time left: 0:57:28. Best: 13 batches ago."
     ]
    },
    {
     "name": "stdout",
     "output_type": "stream",
     "text": [
      "\r",
      "Epoch: 1. Batch: 502. Min loss: 2.83098. Estimated time left: 0:56:05. Best: 14 batches ago.\r",
      "Epoch: 1. Batch: 503. Min loss: 2.83098. Estimated time left: 0:56:45. Best: 15 batches ago."
     ]
    },
    {
     "name": "stdout",
     "output_type": "stream",
     "text": [
      "\r",
      "Epoch: 1. Batch: 504. Min loss: 2.83098. Estimated time left: 0:58:24. Best: 16 batches ago.\r",
      "Epoch: 1. Batch: 505. Min loss: 2.83098. Estimated time left: 0:54:51. Best: 17 batches ago."
     ]
    },
    {
     "name": "stdout",
     "output_type": "stream",
     "text": [
      "\r",
      "Epoch: 1. Batch: 506. Min loss: 2.83098. Estimated time left: 0:55:35. Best: 18 batches ago.\r",
      "Epoch: 1. Batch: 507. Min loss: 2.83098. Estimated time left: 0:56:45. Best: 19 batches ago."
     ]
    },
    {
     "name": "stdout",
     "output_type": "stream",
     "text": [
      "\r",
      "Epoch: 1. Batch: 508. Min loss: 2.83098. Estimated time left: 0:55:22. Best: 20 batches ago.\r",
      "Epoch: 1. Batch: 509. Min loss: 2.83098. Estimated time left: 0:53:41. Best: 21 batches ago."
     ]
    },
    {
     "name": "stdout",
     "output_type": "stream",
     "text": [
      "\r",
      "Epoch: 1. Batch: 510. Min loss: 2.83098. Estimated time left: 1:01:32. Best: 22 batches ago.\r",
      "Epoch: 1. Batch: 511. Min loss: 2.83098. Estimated time left: 0:58:47. Best: 23 batches ago."
     ]
    },
    {
     "name": "stdout",
     "output_type": "stream",
     "text": [
      "\r",
      "Epoch: 1. Batch: 512. Min loss: 2.83098. Estimated time left: 0:58:11. Best: 24 batches ago.\r",
      "Epoch: 1. Batch: 513. Min loss: 2.83098. Estimated time left: 0:58:38. Best: 25 batches ago."
     ]
    },
    {
     "name": "stdout",
     "output_type": "stream",
     "text": [
      "\r",
      "Epoch: 1. Batch: 514. Min loss: 2.83098. Estimated time left: 0:57:58. Best: 26 batches ago.\r",
      "Epoch: 1. Batch: 515. Min loss: 2.83098. Estimated time left: 0:56:13. Best: 27 batches ago."
     ]
    },
    {
     "name": "stdout",
     "output_type": "stream",
     "text": [
      "\r",
      "Epoch: 1. Batch: 516. Min loss: 2.83098. Estimated time left: 1:00:55. Best: 28 batches ago.\r",
      "Epoch: 1. Batch: 517. Min loss: 2.83098. Estimated time left: 0:57:11. Best: 29 batches ago."
     ]
    },
    {
     "name": "stdout",
     "output_type": "stream",
     "text": [
      "\r",
      "Epoch: 1. Batch: 518. Min loss: 2.83098. Estimated time left: 0:56:47. Best: 30 batches ago.\r",
      "Epoch: 1. Batch: 519. Min loss: 2.83098. Estimated time left: 0:57:37. Best: 31 batches ago."
     ]
    },
    {
     "name": "stdout",
     "output_type": "stream",
     "text": [
      "\r",
      "Epoch: 1. Batch: 520. Min loss: 2.83098. Estimated time left: 0:59:37. Best: 32 batches ago.\r",
      "Epoch: 1. Batch: 521. Min loss: 2.83098. Estimated time left: 0:56:38. Best: 33 batches ago."
     ]
    },
    {
     "name": "stdout",
     "output_type": "stream",
     "text": [
      "\r",
      "Epoch: 1. Batch: 522. Min loss: 2.83098. Estimated time left: 0:54:34. Best: 34 batches ago.\r",
      "Epoch: 1. Batch: 523. Min loss: 2.83098. Estimated time left: 0:57:12. Best: 35 batches ago."
     ]
    },
    {
     "name": "stdout",
     "output_type": "stream",
     "text": [
      "\r",
      "Epoch: 1. Batch: 524. Min loss: 2.83098. Estimated time left: 0:58:22. Best: 36 batches ago.\r",
      "Epoch: 1. Batch: 525. Min loss: 2.83098. Estimated time left: 0:58:34. Best: 37 batches ago."
     ]
    },
    {
     "name": "stdout",
     "output_type": "stream",
     "text": [
      "\r",
      "Epoch: 1. Batch: 526. Min loss: 2.83098. Estimated time left: 0:55:12. Best: 38 batches ago.\r",
      "Epoch: 1. Batch: 527. Min loss: 2.83098. Estimated time left: 0:56:30. Best: 39 batches ago."
     ]
    },
    {
     "name": "stdout",
     "output_type": "stream",
     "text": [
      "\r",
      "Epoch: 1. Batch: 528. Min loss: 2.83098. Estimated time left: 0:58:11. Best: 40 batches ago.\r",
      "Epoch: 1. Batch: 529. Min loss: 2.83098. Estimated time left: 0:52:04. Best: 41 batches ago."
     ]
    },
    {
     "name": "stdout",
     "output_type": "stream",
     "text": [
      "\r",
      "Epoch: 1. Batch: 530. Min loss: 2.83098. Estimated time left: 0:54:16. Best: 42 batches ago.\r",
      "Epoch: 1. Batch: 531. Min loss: 2.83098. Estimated time left: 0:59:48. Best: 43 batches ago."
     ]
    },
    {
     "name": "stdout",
     "output_type": "stream",
     "text": [
      "\r",
      "Epoch: 1. Batch: 532. Min loss: 2.83098. Estimated time left: 0:57:58. Best: 44 batches ago.\r",
      "Epoch: 1. Batch: 533. Min loss: 2.83098. Estimated time left: 0:59:28. Best: 45 batches ago."
     ]
    },
    {
     "name": "stdout",
     "output_type": "stream",
     "text": [
      "\r",
      "Epoch: 1. Batch: 534. Min loss: 2.83098. Estimated time left: 0:57:26. Best: 46 batches ago.\r",
      "Epoch: 1. Batch: 535. Min loss: 2.83098. Estimated time left: 0:58:05. Best: 47 batches ago."
     ]
    },
    {
     "name": "stdout",
     "output_type": "stream",
     "text": [
      "\r",
      "Epoch: 1. Batch: 536. Min loss: 2.82867. Estimated time left: 0:57:07. Best: 0 batches ago.\r",
      "Epoch: 1. Batch: 537. Min loss: 2.82867. Estimated time left: 0:53:32. Best: 1 batches ago."
     ]
    },
    {
     "name": "stdout",
     "output_type": "stream",
     "text": [
      "\r",
      "Epoch: 1. Batch: 538. Min loss: 2.82867. Estimated time left: 0:56:59. Best: 2 batches ago.\r",
      "Epoch: 1. Batch: 539. Min loss: 2.82867. Estimated time left: 0:57:23. Best: 3 batches ago."
     ]
    },
    {
     "name": "stdout",
     "output_type": "stream",
     "text": [
      "\r",
      "Epoch: 1. Batch: 540. Min loss: 2.82867. Estimated time left: 1:00:00. Best: 4 batches ago.\r",
      "Epoch: 1. Batch: 541. Min loss: 2.82867. Estimated time left: 0:58:19. Best: 5 batches ago."
     ]
    },
    {
     "name": "stdout",
     "output_type": "stream",
     "text": [
      "\r",
      "Epoch: 1. Batch: 542. Min loss: 2.82867. Estimated time left: 0:58:19. Best: 6 batches ago.\r",
      "Epoch: 1. Batch: 543. Min loss: 2.82867. Estimated time left: 0:57:47. Best: 7 batches ago."
     ]
    },
    {
     "name": "stdout",
     "output_type": "stream",
     "text": [
      "\r",
      "Epoch: 1. Batch: 544. Min loss: 2.82867. Estimated time left: 0:59:16. Best: 8 batches ago.\r",
      "Epoch: 1. Batch: 545. Min loss: 2.82867. Estimated time left: 0:56:53. Best: 9 batches ago."
     ]
    },
    {
     "name": "stdout",
     "output_type": "stream",
     "text": [
      "\r",
      "Epoch: 1. Batch: 546. Min loss: 2.82867. Estimated time left: 1:04:56. Best: 10 batches ago.\r",
      "Epoch: 1. Batch: 547. Min loss: 2.82867. Estimated time left: 1:01:04. Best: 11 batches ago."
     ]
    },
    {
     "name": "stdout",
     "output_type": "stream",
     "text": [
      "\r",
      "Epoch: 1. Batch: 548. Min loss: 2.82867. Estimated time left: 1:01:23. Best: 12 batches ago.\r",
      "Epoch: 1. Batch: 549. Min loss: 2.82867. Estimated time left: 1:05:54. Best: 13 batches ago."
     ]
    },
    {
     "name": "stdout",
     "output_type": "stream",
     "text": [
      "\r",
      "Epoch: 1. Batch: 550. Min loss: 2.82867. Estimated time left: 1:04:45. Best: 14 batches ago.\r",
      "Epoch: 1. Batch: 551. Min loss: 2.82867. Estimated time left: 0:57:01. Best: 15 batches ago."
     ]
    },
    {
     "name": "stdout",
     "output_type": "stream",
     "text": [
      "\r",
      "Epoch: 1. Batch: 552. Min loss: 2.82867. Estimated time left: 1:15:20. Best: 16 batches ago."
     ]
    },
    {
     "name": "stdout",
     "output_type": "stream",
     "text": [
      "\r",
      "Epoch: 1. Batch: 553. Min loss: 2.82867. Estimated time left: 1:16:18. Best: 17 batches ago.\r",
      "Epoch: 1. Batch: 554. Min loss: 2.82867. Estimated time left: 1:04:03. Best: 18 batches ago."
     ]
    },
    {
     "name": "stdout",
     "output_type": "stream",
     "text": [
      "\r",
      "Epoch: 1. Batch: 555. Min loss: 2.82867. Estimated time left: 0:58:39. Best: 19 batches ago.\r",
      "Epoch: 1. Batch: 556. Min loss: 2.82867. Estimated time left: 1:01:41. Best: 20 batches ago."
     ]
    },
    {
     "name": "stdout",
     "output_type": "stream",
     "text": [
      "\r",
      "Epoch: 1. Batch: 557. Min loss: 2.82867. Estimated time left: 1:00:12. Best: 21 batches ago.\r",
      "Epoch: 1. Batch: 558. Min loss: 2.82867. Estimated time left: 1:02:08. Best: 22 batches ago."
     ]
    },
    {
     "name": "stdout",
     "output_type": "stream",
     "text": [
      "\r",
      "Epoch: 1. Batch: 559. Min loss: 2.82867. Estimated time left: 1:01:16. Best: 23 batches ago.\r",
      "Epoch: 1. Batch: 560. Min loss: 2.82867. Estimated time left: 1:01:27. Best: 24 batches ago."
     ]
    },
    {
     "name": "stdout",
     "output_type": "stream",
     "text": [
      "\r",
      "Epoch: 1. Batch: 561. Min loss: 2.82867. Estimated time left: 1:02:48. Best: 25 batches ago.\r",
      "Epoch: 1. Batch: 562. Min loss: 2.82867. Estimated time left: 1:03:30. Best: 26 batches ago."
     ]
    },
    {
     "name": "stdout",
     "output_type": "stream",
     "text": [
      "\r",
      "Epoch: 1. Batch: 563. Min loss: 2.82867. Estimated time left: 1:06:36. Best: 27 batches ago.\r",
      "Epoch: 1. Batch: 564. Min loss: 2.82867. Estimated time left: 0:58:37. Best: 28 batches ago."
     ]
    },
    {
     "name": "stdout",
     "output_type": "stream",
     "text": [
      "\r",
      "Epoch: 1. Batch: 565. Min loss: 2.82867. Estimated time left: 0:59:16. Best: 29 batches ago.\r",
      "Epoch: 1. Batch: 566. Min loss: 2.82867. Estimated time left: 1:02:45. Best: 30 batches ago."
     ]
    },
    {
     "name": "stdout",
     "output_type": "stream",
     "text": [
      "\r",
      "Epoch: 1. Batch: 567. Min loss: 2.82867. Estimated time left: 0:56:31. Best: 31 batches ago.\r",
      "Epoch: 1. Batch: 568. Min loss: 2.82867. Estimated time left: 1:01:16. Best: 32 batches ago."
     ]
    },
    {
     "name": "stdout",
     "output_type": "stream",
     "text": [
      "\r",
      "Epoch: 1. Batch: 569. Min loss: 2.82867. Estimated time left: 0:59:26. Best: 33 batches ago.\r",
      "Epoch: 1. Batch: 570. Min loss: 2.82867. Estimated time left: 0:56:00. Best: 34 batches ago."
     ]
    },
    {
     "name": "stdout",
     "output_type": "stream",
     "text": [
      "\r",
      "Epoch: 1. Batch: 571. Min loss: 2.82867. Estimated time left: 1:00:31. Best: 35 batches ago.\r",
      "Epoch: 1. Batch: 572. Min loss: 2.82867. Estimated time left: 0:54:43. Best: 36 batches ago."
     ]
    },
    {
     "name": "stdout",
     "output_type": "stream",
     "text": [
      "\r",
      "Epoch: 1. Batch: 573. Min loss: 2.82867. Estimated time left: 0:59:20. Best: 37 batches ago.\r",
      "Epoch: 1. Batch: 574. Min loss: 2.82867. Estimated time left: 0:55:42. Best: 38 batches ago."
     ]
    },
    {
     "name": "stdout",
     "output_type": "stream",
     "text": [
      "\r",
      "Epoch: 1. Batch: 575. Min loss: 2.82867. Estimated time left: 0:55:22. Best: 39 batches ago.\r",
      "Epoch: 1. Batch: 576. Min loss: 2.82867. Estimated time left: 1:01:51. Best: 40 batches ago."
     ]
    },
    {
     "name": "stdout",
     "output_type": "stream",
     "text": [
      "\r",
      "Epoch: 1. Batch: 577. Min loss: 2.82867. Estimated time left: 0:57:44. Best: 41 batches ago.\r",
      "Epoch: 1. Batch: 578. Min loss: 2.82867. Estimated time left: 0:57:26. Best: 42 batches ago."
     ]
    },
    {
     "name": "stdout",
     "output_type": "stream",
     "text": [
      "\r",
      "Epoch: 1. Batch: 579. Min loss: 2.82867. Estimated time left: 1:01:56. Best: 43 batches ago.\r",
      "Epoch: 1. Batch: 580. Min loss: 2.82867. Estimated time left: 0:55:03. Best: 44 batches ago."
     ]
    },
    {
     "name": "stdout",
     "output_type": "stream",
     "text": [
      "\r",
      "Epoch: 1. Batch: 581. Min loss: 2.82867. Estimated time left: 0:57:45. Best: 45 batches ago.\r",
      "Epoch: 1. Batch: 582. Min loss: 2.82867. Estimated time left: 0:56:26. Best: 46 batches ago."
     ]
    },
    {
     "name": "stdout",
     "output_type": "stream",
     "text": [
      "\r",
      "Epoch: 1. Batch: 583. Min loss: 2.82867. Estimated time left: 0:54:57. Best: 47 batches ago.\r",
      "Epoch: 1. Batch: 584. Min loss: 2.82867. Estimated time left: 0:54:45. Best: 48 batches ago."
     ]
    },
    {
     "name": "stdout",
     "output_type": "stream",
     "text": [
      "\r",
      "Epoch: 1. Batch: 585. Min loss: 2.82867. Estimated time left: 0:56:26. Best: 49 batches ago.\r",
      "Epoch: 1. Batch: 586. Min loss: 2.82867. Estimated time left: 0:58:17. Best: 50 batches ago."
     ]
    },
    {
     "name": "stdout",
     "output_type": "stream",
     "text": [
      "\r",
      "Epoch: 1. Batch: 587. Min loss: 2.82867. Estimated time left: 0:56:34. Best: 51 batches ago.\r",
      "Epoch: 1. Batch: 588. Min loss: 2.82867. Estimated time left: 0:57:54. Best: 52 batches ago."
     ]
    },
    {
     "name": "stdout",
     "output_type": "stream",
     "text": [
      "\r",
      "Epoch: 1. Batch: 589. Min loss: 2.82867. Estimated time left: 1:13:45. Best: 53 batches ago.\r",
      "Epoch: 1. Batch: 590. Min loss: 2.82867. Estimated time left: 1:12:27. Best: 54 batches ago."
     ]
    },
    {
     "name": "stdout",
     "output_type": "stream",
     "text": [
      "\r",
      "Epoch: 1. Batch: 591. Min loss: 2.82867. Estimated time left: 1:13:46. Best: 55 batches ago."
     ]
    },
    {
     "name": "stdout",
     "output_type": "stream",
     "text": [
      "\r",
      "Epoch: 1. Batch: 592. Min loss: 2.82867. Estimated time left: 1:16:10. Best: 56 batches ago.\r",
      "Epoch: 1. Batch: 593. Min loss: 2.82867. Estimated time left: 1:08:35. Best: 57 batches ago."
     ]
    },
    {
     "name": "stdout",
     "output_type": "stream",
     "text": [
      "\r",
      "Epoch: 1. Batch: 594. Min loss: 2.82867. Estimated time left: 1:13:37. Best: 58 batches ago.\r",
      "Epoch: 1. Batch: 595. Min loss: 2.82867. Estimated time left: 1:08:39. Best: 59 batches ago."
     ]
    },
    {
     "name": "stdout",
     "output_type": "stream",
     "text": [
      "\r",
      "Epoch: 1. Batch: 596. Min loss: 2.82867. Estimated time left: 1:02:09. Best: 60 batches ago.\r",
      "Epoch: 1. Batch: 597. Min loss: 2.82867. Estimated time left: 1:01:11. Best: 61 batches ago."
     ]
    },
    {
     "name": "stdout",
     "output_type": "stream",
     "text": [
      "\r",
      "Epoch: 1. Batch: 598. Min loss: 2.82867. Estimated time left: 1:00:47. Best: 62 batches ago.\r",
      "Epoch: 1. Batch: 599. Min loss: 2.82867. Estimated time left: 0:55:57. Best: 63 batches ago."
     ]
    },
    {
     "name": "stdout",
     "output_type": "stream",
     "text": [
      "\r",
      "Epoch: 1. Batch: 600. Min loss: 2.82867. Estimated time left: 0:56:29. Best: 64 batches ago.\r",
      "Epoch: 1. Batch: 601. Min loss: 2.82867. Estimated time left: 1:00:13. Best: 65 batches ago."
     ]
    },
    {
     "name": "stdout",
     "output_type": "stream",
     "text": [
      "\r",
      "Epoch: 1. Batch: 602. Min loss: 2.82867. Estimated time left: 0:59:10. Best: 66 batches ago.\r",
      "Epoch: 1. Batch: 603. Min loss: 2.82867. Estimated time left: 1:01:18. Best: 67 batches ago."
     ]
    },
    {
     "name": "stdout",
     "output_type": "stream",
     "text": [
      "\r",
      "Epoch: 1. Batch: 604. Min loss: 2.82867. Estimated time left: 0:56:35. Best: 68 batches ago.\r",
      "Epoch: 1. Batch: 605. Min loss: 2.82867. Estimated time left: 1:00:13. Best: 69 batches ago."
     ]
    },
    {
     "name": "stdout",
     "output_type": "stream",
     "text": [
      "\r",
      "Epoch: 1. Batch: 606. Min loss: 2.82867. Estimated time left: 0:58:12. Best: 70 batches ago.\r",
      "Epoch: 1. Batch: 607. Min loss: 2.82867. Estimated time left: 1:01:08. Best: 71 batches ago."
     ]
    },
    {
     "name": "stdout",
     "output_type": "stream",
     "text": [
      "\r",
      "Epoch: 1. Batch: 608. Min loss: 2.82867. Estimated time left: 0:59:15. Best: 72 batches ago.\r",
      "Epoch: 1. Batch: 609. Min loss: 2.82867. Estimated time left: 0:59:09. Best: 73 batches ago."
     ]
    },
    {
     "name": "stdout",
     "output_type": "stream",
     "text": [
      "\r",
      "Epoch: 1. Batch: 610. Min loss: 2.82867. Estimated time left: 0:55:07. Best: 74 batches ago.\r",
      "Epoch: 1. Batch: 611. Min loss: 2.82867. Estimated time left: 1:00:16. Best: 75 batches ago."
     ]
    },
    {
     "name": "stdout",
     "output_type": "stream",
     "text": [
      "\r",
      "Epoch: 1. Batch: 612. Min loss: 2.82867. Estimated time left: 0:56:15. Best: 76 batches ago.\r",
      "Epoch: 1. Batch: 613. Min loss: 2.82867. Estimated time left: 0:57:23. Best: 77 batches ago."
     ]
    },
    {
     "name": "stdout",
     "output_type": "stream",
     "text": [
      "\r",
      "Epoch: 1. Batch: 614. Min loss: 2.82867. Estimated time left: 0:56:04. Best: 78 batches ago.\r",
      "Epoch: 1. Batch: 615. Min loss: 2.82867. Estimated time left: 0:53:30. Best: 79 batches ago."
     ]
    },
    {
     "name": "stdout",
     "output_type": "stream",
     "text": [
      "\r",
      "Epoch: 1. Batch: 616. Min loss: 2.82867. Estimated time left: 0:58:01. Best: 80 batches ago.\r",
      "Epoch: 1. Batch: 617. Min loss: 2.82867. Estimated time left: 1:00:13. Best: 81 batches ago."
     ]
    },
    {
     "name": "stdout",
     "output_type": "stream",
     "text": [
      "\r",
      "Epoch: 1. Batch: 618. Min loss: 2.82867. Estimated time left: 0:57:59. Best: 82 batches ago.\r",
      "Epoch: 1. Batch: 619. Min loss: 2.82867. Estimated time left: 0:56:29. Best: 83 batches ago."
     ]
    },
    {
     "name": "stdout",
     "output_type": "stream",
     "text": [
      "\r",
      "Epoch: 1. Batch: 620. Min loss: 2.82867. Estimated time left: 1:00:54. Best: 84 batches ago.\r",
      "Epoch: 1. Batch: 621. Min loss: 2.82867. Estimated time left: 0:54:39. Best: 85 batches ago."
     ]
    },
    {
     "name": "stdout",
     "output_type": "stream",
     "text": [
      "\r",
      "Epoch: 1. Batch: 622. Min loss: 2.82867. Estimated time left: 1:00:47. Best: 86 batches ago.\r",
      "Epoch: 1. Batch: 623. Min loss: 2.82867. Estimated time left: 0:57:37. Best: 87 batches ago."
     ]
    },
    {
     "name": "stdout",
     "output_type": "stream",
     "text": [
      "\r",
      "Epoch: 1. Batch: 624. Min loss: 2.82867. Estimated time left: 0:55:16. Best: 88 batches ago.\r",
      "Epoch: 1. Batch: 625. Min loss: 2.82867. Estimated time left: 1:00:47. Best: 89 batches ago."
     ]
    },
    {
     "name": "stdout",
     "output_type": "stream",
     "text": [
      "\r",
      "Epoch: 1. Batch: 626. Min loss: 2.82867. Estimated time left: 0:56:22. Best: 90 batches ago.\r",
      "Epoch: 1. Batch: 627. Min loss: 2.82867. Estimated time left: 0:56:18. Best: 91 batches ago."
     ]
    },
    {
     "name": "stdout",
     "output_type": "stream",
     "text": [
      "\r",
      "Epoch: 1. Batch: 628. Min loss: 2.82867. Estimated time left: 0:57:53. Best: 92 batches ago.\r",
      "Epoch: 1. Batch: 629. Min loss: 2.82867. Estimated time left: 0:52:36. Best: 93 batches ago."
     ]
    },
    {
     "name": "stdout",
     "output_type": "stream",
     "text": [
      "\r",
      "Epoch: 1. Batch: 630. Min loss: 2.82867. Estimated time left: 0:55:58. Best: 94 batches ago.\r",
      "Epoch: 1. Batch: 631. Min loss: 2.82867. Estimated time left: 0:55:53. Best: 95 batches ago."
     ]
    },
    {
     "name": "stdout",
     "output_type": "stream",
     "text": [
      "\r",
      "Epoch: 1. Batch: 632. Min loss: 2.82867. Estimated time left: 0:57:35. Best: 96 batches ago.\r",
      "Epoch: 1. Batch: 633. Min loss: 2.82867. Estimated time left: 1:03:44. Best: 97 batches ago."
     ]
    },
    {
     "name": "stdout",
     "output_type": "stream",
     "text": [
      "\r",
      "Epoch: 1. Batch: 634. Min loss: 2.82867. Estimated time left: 1:01:36. Best: 98 batches ago.\r",
      "Epoch: 1. Batch: 635. Min loss: 2.82867. Estimated time left: 0:59:57. Best: 99 batches ago."
     ]
    },
    {
     "name": "stdout",
     "output_type": "stream",
     "text": [
      "\r",
      "Epoch: 1. Batch: 636. Min loss: 2.82867. Estimated time left: 1:01:10. Best: 100 batches ago.\r",
      "Epoch: 1. Batch: 637. Min loss: 2.82867. Estimated time left: 0:57:21. Best: 101 batches ago."
     ]
    },
    {
     "name": "stdout",
     "output_type": "stream",
     "text": [
      "\r",
      "Epoch: 1. Batch: 638. Min loss: 2.82867. Estimated time left: 0:57:02. Best: 102 batches ago.\r",
      "Epoch: 1. Batch: 639. Min loss: 2.82867. Estimated time left: 0:56:36. Best: 103 batches ago."
     ]
    },
    {
     "name": "stdout",
     "output_type": "stream",
     "text": [
      "\r",
      "Epoch: 1. Batch: 640. Min loss: 2.82867. Estimated time left: 0:56:28. Best: 104 batches ago.\r",
      "Epoch: 1. Batch: 641. Min loss: 2.82867. Estimated time left: 0:55:23. Best: 105 batches ago."
     ]
    },
    {
     "name": "stdout",
     "output_type": "stream",
     "text": [
      "\r",
      "Epoch: 1. Batch: 642. Min loss: 2.82867. Estimated time left: 0:58:20. Best: 106 batches ago.\r",
      "Epoch: 1. Batch: 643. Min loss: 2.82867. Estimated time left: 0:57:30. Best: 107 batches ago."
     ]
    },
    {
     "name": "stdout",
     "output_type": "stream",
     "text": [
      "\r",
      "Epoch: 1. Batch: 644. Min loss: 2.82867. Estimated time left: 0:56:41. Best: 108 batches ago.\r",
      "Epoch: 1. Batch: 645. Min loss: 2.82867. Estimated time left: 0:54:44. Best: 109 batches ago."
     ]
    },
    {
     "name": "stdout",
     "output_type": "stream",
     "text": [
      "\r",
      "Epoch: 1. Batch: 646. Min loss: 2.82867. Estimated time left: 0:56:46. Best: 110 batches ago.\r",
      "Epoch: 1. Batch: 647. Min loss: 2.82867. Estimated time left: 1:01:18. Best: 111 batches ago."
     ]
    },
    {
     "name": "stdout",
     "output_type": "stream",
     "text": [
      "\r",
      "Epoch: 1. Batch: 648. Min loss: 2.82867. Estimated time left: 0:53:55. Best: 112 batches ago.\r",
      "Epoch: 1. Batch: 649. Min loss: 2.82867. Estimated time left: 0:55:49. Best: 113 batches ago."
     ]
    },
    {
     "name": "stdout",
     "output_type": "stream",
     "text": [
      "\r",
      "Epoch: 1. Batch: 650. Min loss: 2.82867. Estimated time left: 0:56:38. Best: 114 batches ago.\r",
      "Epoch: 1. Batch: 651. Min loss: 2.82867. Estimated time left: 0:56:59. Best: 115 batches ago."
     ]
    },
    {
     "name": "stdout",
     "output_type": "stream",
     "text": [
      "\r",
      "Epoch: 1. Batch: 652. Min loss: 2.82867. Estimated time left: 0:59:35. Best: 116 batches ago.\r",
      "Epoch: 1. Batch: 653. Min loss: 2.82867. Estimated time left: 0:56:44. Best: 117 batches ago."
     ]
    },
    {
     "name": "stdout",
     "output_type": "stream",
     "text": [
      "\r",
      "Epoch: 1. Batch: 654. Min loss: 2.82867. Estimated time left: 1:01:58. Best: 118 batches ago.\r",
      "Epoch: 1. Batch: 655. Min loss: 2.82867. Estimated time left: 0:58:29. Best: 119 batches ago."
     ]
    },
    {
     "name": "stdout",
     "output_type": "stream",
     "text": [
      "\r",
      "Epoch: 1. Batch: 656. Min loss: 2.82867. Estimated time left: 0:58:05. Best: 120 batches ago.\r",
      "Epoch: 1. Batch: 657. Min loss: 2.82867. Estimated time left: 0:53:44. Best: 121 batches ago."
     ]
    },
    {
     "name": "stdout",
     "output_type": "stream",
     "text": [
      "\r",
      "Epoch: 1. Batch: 658. Min loss: 2.82867. Estimated time left: 0:56:46. Best: 122 batches ago.\r",
      "Epoch: 1. Batch: 659. Min loss: 2.82867. Estimated time left: 1:03:18. Best: 123 batches ago."
     ]
    },
    {
     "name": "stdout",
     "output_type": "stream",
     "text": [
      "\r",
      "Epoch: 1. Batch: 660. Min loss: 2.82867. Estimated time left: 1:02:52. Best: 124 batches ago.\r",
      "Epoch: 1. Batch: 661. Min loss: 2.82867. Estimated time left: 1:06:04. Best: 125 batches ago."
     ]
    },
    {
     "name": "stdout",
     "output_type": "stream",
     "text": [
      "\r",
      "Epoch: 1. Batch: 662. Min loss: 2.82867. Estimated time left: 1:03:11. Best: 126 batches ago.\r",
      "Epoch: 1. Batch: 663. Min loss: 2.82025. Estimated time left: 1:05:01. Best: 0 batches ago."
     ]
    },
    {
     "name": "stdout",
     "output_type": "stream",
     "text": [
      "\r",
      "Epoch: 1. Batch: 664. Min loss: 2.82025. Estimated time left: 1:05:21. Best: 1 batches ago.\r",
      "Epoch: 1. Batch: 665. Min loss: 2.82025. Estimated time left: 1:05:40. Best: 2 batches ago."
     ]
    },
    {
     "name": "stdout",
     "output_type": "stream",
     "text": [
      "\r",
      "Epoch: 1. Batch: 666. Min loss: 2.82025. Estimated time left: 1:12:57. Best: 3 batches ago."
     ]
    },
    {
     "name": "stdout",
     "output_type": "stream",
     "text": [
      "\r",
      "Epoch: 1. Batch: 667. Min loss: 2.82025. Estimated time left: 1:18:22. Best: 4 batches ago."
     ]
    },
    {
     "name": "stdout",
     "output_type": "stream",
     "text": [
      "\r",
      "Epoch: 1. Batch: 668. Min loss: 2.82025. Estimated time left: 1:22:38. Best: 5 batches ago."
     ]
    },
    {
     "name": "stdout",
     "output_type": "stream",
     "text": [
      "\r",
      "Epoch: 1. Batch: 669. Min loss: 2.82025. Estimated time left: 1:16:03. Best: 6 batches ago.\r",
      "Epoch: 1. Batch: 670. Min loss: 2.82025. Estimated time left: 1:04:46. Best: 7 batches ago."
     ]
    },
    {
     "name": "stdout",
     "output_type": "stream",
     "text": [
      "\r",
      "Epoch: 1. Batch: 671. Min loss: 2.82025. Estimated time left: 1:16:29. Best: 8 batches ago.\r",
      "Epoch: 1. Batch: 672. Min loss: 2.82025. Estimated time left: 0:58:11. Best: 9 batches ago."
     ]
    },
    {
     "name": "stdout",
     "output_type": "stream",
     "text": [
      "\r",
      "Epoch: 1. Batch: 673. Min loss: 2.82025. Estimated time left: 0:57:09. Best: 10 batches ago.\r",
      "Epoch: 1. Batch: 674. Min loss: 2.82025. Estimated time left: 1:00:47. Best: 11 batches ago."
     ]
    },
    {
     "name": "stdout",
     "output_type": "stream",
     "text": [
      "\r",
      "Epoch: 1. Batch: 675. Min loss: 2.82025. Estimated time left: 0:57:47. Best: 12 batches ago.\r",
      "Epoch: 1. Batch: 676. Min loss: 2.82025. Estimated time left: 0:58:30. Best: 13 batches ago."
     ]
    },
    {
     "name": "stdout",
     "output_type": "stream",
     "text": [
      "\r",
      "Epoch: 1. Batch: 677. Min loss: 2.82025. Estimated time left: 0:57:43. Best: 14 batches ago.\r",
      "Epoch: 1. Batch: 678. Min loss: 2.82025. Estimated time left: 0:58:56. Best: 15 batches ago."
     ]
    },
    {
     "name": "stdout",
     "output_type": "stream",
     "text": [
      "\r",
      "Epoch: 1. Batch: 679. Min loss: 2.82025. Estimated time left: 1:02:17. Best: 16 batches ago.\r",
      "Epoch: 1. Batch: 680. Min loss: 2.82025. Estimated time left: 0:58:48. Best: 17 batches ago."
     ]
    },
    {
     "name": "stdout",
     "output_type": "stream",
     "text": [
      "\r",
      "Epoch: 1. Batch: 681. Min loss: 2.82025. Estimated time left: 0:56:15. Best: 18 batches ago.\r",
      "Epoch: 1. Batch: 682. Min loss: 2.82025. Estimated time left: 0:56:18. Best: 19 batches ago."
     ]
    },
    {
     "name": "stdout",
     "output_type": "stream",
     "text": [
      "\r",
      "Epoch: 1. Batch: 683. Min loss: 2.82025. Estimated time left: 1:02:39. Best: 20 batches ago.\r",
      "Epoch: 1. Batch: 684. Min loss: 2.82025. Estimated time left: 0:53:32. Best: 21 batches ago."
     ]
    },
    {
     "name": "stdout",
     "output_type": "stream",
     "text": [
      "\r",
      "Epoch: 1. Batch: 685. Min loss: 2.82025. Estimated time left: 0:58:51. Best: 22 batches ago.\r",
      "Epoch: 1. Batch: 686. Min loss: 2.82025. Estimated time left: 1:00:22. Best: 23 batches ago."
     ]
    },
    {
     "name": "stdout",
     "output_type": "stream",
     "text": [
      "\r",
      "Epoch: 1. Batch: 687. Min loss: 2.82025. Estimated time left: 0:57:13. Best: 24 batches ago.\r",
      "Epoch: 1. Batch: 688. Min loss: 2.82025. Estimated time left: 0:59:19. Best: 25 batches ago."
     ]
    },
    {
     "name": "stdout",
     "output_type": "stream",
     "text": [
      "\r",
      "Epoch: 1. Batch: 689. Min loss: 2.82025. Estimated time left: 1:01:09. Best: 26 batches ago.\r",
      "Epoch: 1. Batch: 690. Min loss: 2.82025. Estimated time left: 0:58:47. Best: 27 batches ago."
     ]
    },
    {
     "name": "stdout",
     "output_type": "stream",
     "text": [
      "\r",
      "Epoch: 1. Batch: 691. Min loss: 2.82025. Estimated time left: 1:11:56. Best: 28 batches ago.\r",
      "Epoch: 1. Batch: 692. Min loss: 2.82025. Estimated time left: 1:06:23. Best: 29 batches ago."
     ]
    },
    {
     "name": "stdout",
     "output_type": "stream",
     "text": [
      "\r",
      "Epoch: 1. Batch: 693. Min loss: 2.82025. Estimated time left: 0:52:34. Best: 30 batches ago.\r",
      "Epoch: 1. Batch: 694. Min loss: 2.82025. Estimated time left: 0:59:21. Best: 31 batches ago."
     ]
    },
    {
     "name": "stdout",
     "output_type": "stream",
     "text": [
      "\r",
      "Epoch: 1. Batch: 695. Min loss: 2.82025. Estimated time left: 0:55:23. Best: 32 batches ago."
     ]
    },
    {
     "name": "stdout",
     "output_type": "stream",
     "text": [
      "\r",
      "Epoch: 1. Batch: 696. Min loss: 2.82025. Estimated time left: 1:17:44. Best: 33 batches ago.\r",
      "Epoch: 1. Batch: 697. Min loss: 2.82025. Estimated time left: 0:59:11. Best: 34 batches ago."
     ]
    },
    {
     "name": "stdout",
     "output_type": "stream",
     "text": [
      "\r",
      "Epoch: 1. Batch: 698. Min loss: 2.82025. Estimated time left: 1:03:47. Best: 35 batches ago.\r",
      "Epoch: 1. Batch: 699. Min loss: 2.82025. Estimated time left: 0:56:31. Best: 36 batches ago."
     ]
    },
    {
     "name": "stdout",
     "output_type": "stream",
     "text": [
      "\r",
      "Epoch: 1. Batch: 700. Min loss: 2.82025. Estimated time left: 1:00:30. Best: 37 batches ago.\r",
      "Epoch: 1. Batch: 701. Min loss: 2.82025. Estimated time left: 0:57:31. Best: 38 batches ago."
     ]
    },
    {
     "name": "stdout",
     "output_type": "stream",
     "text": [
      "\r",
      "Epoch: 1. Batch: 702. Min loss: 2.82025. Estimated time left: 0:57:31. Best: 39 batches ago.\r",
      "Epoch: 1. Batch: 703. Min loss: 2.82025. Estimated time left: 0:59:25. Best: 40 batches ago."
     ]
    },
    {
     "name": "stdout",
     "output_type": "stream",
     "text": [
      "\r",
      "Epoch: 1. Batch: 704. Min loss: 2.82025. Estimated time left: 0:58:11. Best: 41 batches ago.\r",
      "Epoch: 1. Batch: 705. Min loss: 2.82025. Estimated time left: 0:56:01. Best: 42 batches ago."
     ]
    },
    {
     "name": "stdout",
     "output_type": "stream",
     "text": [
      "\r",
      "Epoch: 1. Batch: 706. Min loss: 2.82025. Estimated time left: 1:19:40. Best: 43 batches ago.\r",
      "Epoch: 1. Batch: 707. Min loss: 2.82025. Estimated time left: 1:10:58. Best: 44 batches ago."
     ]
    },
    {
     "name": "stdout",
     "output_type": "stream",
     "text": [
      "\r",
      "Epoch: 1. Batch: 708. Min loss: 2.82025. Estimated time left: 0:57:07. Best: 45 batches ago.\r",
      "Epoch: 1. Batch: 709. Min loss: 2.82025. Estimated time left: 1:01:15. Best: 46 batches ago."
     ]
    },
    {
     "name": "stdout",
     "output_type": "stream",
     "text": [
      "\r",
      "Epoch: 1. Batch: 710. Min loss: 2.82025. Estimated time left: 1:02:22. Best: 47 batches ago.\r",
      "Epoch: 1. Batch: 711. Min loss: 2.82025. Estimated time left: 0:57:48. Best: 48 batches ago."
     ]
    },
    {
     "name": "stdout",
     "output_type": "stream",
     "text": [
      "\r",
      "Epoch: 1. Batch: 712. Min loss: 2.82025. Estimated time left: 0:59:20. Best: 49 batches ago.\r",
      "Epoch: 1. Batch: 713. Min loss: 2.82025. Estimated time left: 0:59:08. Best: 50 batches ago."
     ]
    },
    {
     "name": "stdout",
     "output_type": "stream",
     "text": [
      "\r",
      "Epoch: 1. Batch: 714. Min loss: 2.82025. Estimated time left: 0:59:58. Best: 51 batches ago.\r",
      "Epoch: 1. Batch: 715. Min loss: 2.82025. Estimated time left: 0:53:22. Best: 52 batches ago."
     ]
    },
    {
     "name": "stdout",
     "output_type": "stream",
     "text": [
      "\r",
      "Epoch: 1. Batch: 716. Min loss: 2.82025. Estimated time left: 0:56:24. Best: 53 batches ago.\r",
      "Epoch: 1. Batch: 717. Min loss: 2.82025. Estimated time left: 0:58:09. Best: 54 batches ago."
     ]
    },
    {
     "name": "stdout",
     "output_type": "stream",
     "text": [
      "\r",
      "Epoch: 1. Batch: 718. Min loss: 2.82025. Estimated time left: 0:55:13. Best: 55 batches ago.\r",
      "Epoch: 1. Batch: 719. Min loss: 2.82025. Estimated time left: 0:57:31. Best: 56 batches ago."
     ]
    },
    {
     "name": "stdout",
     "output_type": "stream",
     "text": [
      "\r",
      "Epoch: 1. Batch: 720. Min loss: 2.82025. Estimated time left: 1:00:21. Best: 57 batches ago.\r",
      "Epoch: 1. Batch: 721. Min loss: 2.82025. Estimated time left: 0:54:57. Best: 58 batches ago."
     ]
    },
    {
     "name": "stdout",
     "output_type": "stream",
     "text": [
      "\r",
      "Epoch: 1. Batch: 722. Min loss: 2.82025. Estimated time left: 0:57:07. Best: 59 batches ago.\r",
      "Epoch: 1. Batch: 723. Min loss: 2.82025. Estimated time left: 0:54:34. Best: 60 batches ago."
     ]
    },
    {
     "name": "stdout",
     "output_type": "stream",
     "text": [
      "\r",
      "Epoch: 1. Batch: 724. Min loss: 2.82025. Estimated time left: 0:59:53. Best: 61 batches ago.\r",
      "Epoch: 1. Batch: 725. Min loss: 2.82025. Estimated time left: 0:58:48. Best: 62 batches ago."
     ]
    },
    {
     "name": "stdout",
     "output_type": "stream",
     "text": [
      "\r",
      "Epoch: 1. Batch: 726. Min loss: 2.82025. Estimated time left: 0:56:31. Best: 63 batches ago.\r",
      "Epoch: 1. Batch: 727. Min loss: 2.82025. Estimated time left: 0:58:50. Best: 64 batches ago."
     ]
    },
    {
     "name": "stdout",
     "output_type": "stream",
     "text": [
      "\r",
      "Epoch: 1. Batch: 728. Min loss: 2.82025. Estimated time left: 0:58:23. Best: 65 batches ago.\r",
      "Epoch: 1. Batch: 729. Min loss: 2.82025. Estimated time left: 0:56:05. Best: 66 batches ago."
     ]
    },
    {
     "name": "stdout",
     "output_type": "stream",
     "text": [
      "\r",
      "Epoch: 1. Batch: 730. Min loss: 2.82025. Estimated time left: 0:54:44. Best: 67 batches ago.\r",
      "Epoch: 1. Batch: 731. Min loss: 2.82025. Estimated time left: 0:57:48. Best: 68 batches ago."
     ]
    },
    {
     "name": "stdout",
     "output_type": "stream",
     "text": [
      "\r",
      "Epoch: 1. Batch: 732. Min loss: 2.82025. Estimated time left: 0:57:39. Best: 69 batches ago.\r",
      "Epoch: 1. Batch: 733. Min loss: 2.82025. Estimated time left: 0:59:01. Best: 70 batches ago."
     ]
    },
    {
     "name": "stdout",
     "output_type": "stream",
     "text": [
      "\r",
      "Epoch: 1. Batch: 734. Min loss: 2.82025. Estimated time left: 0:57:27. Best: 71 batches ago.\r",
      "Epoch: 1. Batch: 735. Min loss: 2.82025. Estimated time left: 0:56:19. Best: 72 batches ago."
     ]
    },
    {
     "name": "stdout",
     "output_type": "stream",
     "text": [
      "\r",
      "Epoch: 1. Batch: 736. Min loss: 2.82025. Estimated time left: 0:55:44. Best: 73 batches ago.\r",
      "Epoch: 1. Batch: 737. Min loss: 2.82025. Estimated time left: 0:52:44. Best: 74 batches ago."
     ]
    },
    {
     "name": "stdout",
     "output_type": "stream",
     "text": [
      "\r",
      "Epoch: 1. Batch: 738. Min loss: 2.82025. Estimated time left: 0:58:53. Best: 75 batches ago.\r",
      "Epoch: 1. Batch: 739. Min loss: 2.82025. Estimated time left: 0:56:45. Best: 76 batches ago."
     ]
    },
    {
     "name": "stdout",
     "output_type": "stream",
     "text": [
      "\r",
      "Epoch: 1. Batch: 740. Min loss: 2.82025. Estimated time left: 1:01:27. Best: 77 batches ago.\r",
      "Epoch: 1. Batch: 741. Min loss: 2.82025. Estimated time left: 0:57:14. Best: 78 batches ago."
     ]
    },
    {
     "name": "stdout",
     "output_type": "stream",
     "text": [
      "\r",
      "Epoch: 1. Batch: 742. Min loss: 2.82025. Estimated time left: 0:55:32. Best: 79 batches ago.\r",
      "Epoch: 1. Batch: 743. Min loss: 2.82025. Estimated time left: 0:59:47. Best: 80 batches ago."
     ]
    },
    {
     "name": "stdout",
     "output_type": "stream",
     "text": [
      "\r",
      "Epoch: 1. Batch: 744. Min loss: 2.82025. Estimated time left: 0:57:54. Best: 81 batches ago.\r",
      "Epoch: 1. Batch: 745. Min loss: 2.82025. Estimated time left: 0:57:59. Best: 82 batches ago."
     ]
    },
    {
     "name": "stdout",
     "output_type": "stream",
     "text": [
      "\r",
      "Epoch: 1. Batch: 746. Min loss: 2.82025. Estimated time left: 0:58:33. Best: 83 batches ago.\r",
      "Epoch: 1. Batch: 747. Min loss: 2.82025. Estimated time left: 0:57:54. Best: 84 batches ago."
     ]
    },
    {
     "name": "stdout",
     "output_type": "stream",
     "text": [
      "\r",
      "Epoch: 1. Batch: 748. Min loss: 2.82025. Estimated time left: 0:59:53. Best: 85 batches ago.\r",
      "Epoch: 1. Batch: 749. Min loss: 2.82025. Estimated time left: 0:54:28. Best: 86 batches ago."
     ]
    },
    {
     "name": "stdout",
     "output_type": "stream",
     "text": [
      "\r",
      "Epoch: 1. Batch: 750. Min loss: 2.82025. Estimated time left: 0:54:24. Best: 87 batches ago.\r",
      "Epoch: 1. Batch: 751. Min loss: 2.82025. Estimated time left: 1:01:54. Best: 88 batches ago."
     ]
    },
    {
     "name": "stdout",
     "output_type": "stream",
     "text": [
      "\r",
      "Epoch: 1. Batch: 752. Min loss: 2.82025. Estimated time left: 1:10:53. Best: 89 batches ago.\r",
      "Epoch: 1. Batch: 753. Min loss: 2.82025. Estimated time left: 1:10:21. Best: 90 batches ago."
     ]
    },
    {
     "name": "stdout",
     "output_type": "stream",
     "text": [
      "\r",
      "Epoch: 1. Batch: 754. Min loss: 2.82025. Estimated time left: 0:55:56. Best: 91 batches ago.\r",
      "Epoch: 1. Batch: 755. Min loss: 2.82025. Estimated time left: 0:59:34. Best: 92 batches ago."
     ]
    },
    {
     "name": "stdout",
     "output_type": "stream",
     "text": [
      "\r",
      "Epoch: 1. Batch: 756. Min loss: 2.82025. Estimated time left: 1:00:04. Best: 93 batches ago.\r",
      "Epoch: 1. Batch: 757. Min loss: 2.82025. Estimated time left: 0:57:57. Best: 94 batches ago."
     ]
    },
    {
     "name": "stdout",
     "output_type": "stream",
     "text": [
      "\r",
      "Epoch: 1. Batch: 758. Min loss: 2.82025. Estimated time left: 1:00:06. Best: 95 batches ago.\r",
      "Epoch: 1. Batch: 759. Min loss: 2.82025. Estimated time left: 0:57:38. Best: 96 batches ago."
     ]
    },
    {
     "name": "stdout",
     "output_type": "stream",
     "text": [
      "\r",
      "Epoch: 1. Batch: 760. Min loss: 2.82025. Estimated time left: 0:58:01. Best: 97 batches ago.\r",
      "Epoch: 1. Batch: 761. Min loss: 2.82025. Estimated time left: 0:58:05. Best: 98 batches ago."
     ]
    },
    {
     "name": "stdout",
     "output_type": "stream",
     "text": [
      "\r",
      "Epoch: 1. Batch: 762. Min loss: 2.82025. Estimated time left: 0:59:24. Best: 99 batches ago.\r",
      "Epoch: 1. Batch: 763. Min loss: 2.82025. Estimated time left: 0:59:22. Best: 100 batches ago."
     ]
    },
    {
     "name": "stdout",
     "output_type": "stream",
     "text": [
      "\r",
      "Epoch: 1. Batch: 764. Min loss: 2.82025. Estimated time left: 0:58:39. Best: 101 batches ago.\r",
      "Epoch: 1. Batch: 765. Min loss: 2.82025. Estimated time left: 0:55:03. Best: 102 batches ago."
     ]
    },
    {
     "name": "stdout",
     "output_type": "stream",
     "text": [
      "\r",
      "Epoch: 1. Batch: 766. Min loss: 2.82025. Estimated time left: 0:59:41. Best: 103 batches ago.\r",
      "Epoch: 1. Batch: 767. Min loss: 2.82025. Estimated time left: 0:57:45. Best: 104 batches ago."
     ]
    },
    {
     "name": "stdout",
     "output_type": "stream",
     "text": [
      "\r",
      "Epoch: 1. Batch: 768. Min loss: 2.82025. Estimated time left: 0:58:35. Best: 105 batches ago.\r",
      "Epoch: 1. Batch: 769. Min loss: 2.82025. Estimated time left: 0:55:37. Best: 106 batches ago."
     ]
    },
    {
     "name": "stdout",
     "output_type": "stream",
     "text": [
      "\r",
      "Epoch: 1. Batch: 770. Min loss: 2.82025. Estimated time left: 0:55:29. Best: 107 batches ago.\r",
      "Epoch: 1. Batch: 771. Min loss: 2.82025. Estimated time left: 1:00:17. Best: 108 batches ago."
     ]
    },
    {
     "name": "stdout",
     "output_type": "stream",
     "text": [
      "\r",
      "Epoch: 1. Batch: 772. Min loss: 2.82025. Estimated time left: 0:53:32. Best: 109 batches ago.\r",
      "Epoch: 1. Batch: 773. Min loss: 2.82025. Estimated time left: 0:56:38. Best: 110 batches ago."
     ]
    },
    {
     "name": "stdout",
     "output_type": "stream",
     "text": [
      "\r",
      "Epoch: 1. Batch: 774. Min loss: 2.82025. Estimated time left: 0:56:32. Best: 111 batches ago.\r",
      "Epoch: 1. Batch: 775. Min loss: 2.82025. Estimated time left: 0:58:45. Best: 112 batches ago."
     ]
    },
    {
     "name": "stdout",
     "output_type": "stream",
     "text": [
      "\r",
      "Epoch: 1. Batch: 776. Min loss: 2.82025. Estimated time left: 0:58:42. Best: 113 batches ago.\r",
      "Epoch: 1. Batch: 777. Min loss: 2.82025. Estimated time left: 1:00:30. Best: 114 batches ago."
     ]
    },
    {
     "name": "stdout",
     "output_type": "stream",
     "text": [
      "\r",
      "Epoch: 1. Batch: 778. Min loss: 2.82025. Estimated time left: 0:56:30. Best: 115 batches ago.\r",
      "Epoch: 1. Batch: 779. Min loss: 2.82025. Estimated time left: 0:56:33. Best: 116 batches ago."
     ]
    },
    {
     "name": "stdout",
     "output_type": "stream",
     "text": [
      "\r",
      "Epoch: 1. Batch: 780. Min loss: 2.82025. Estimated time left: 1:01:16. Best: 117 batches ago.\r",
      "Epoch: 1. Batch: 781. Min loss: 2.82025. Estimated time left: 0:56:53. Best: 118 batches ago."
     ]
    },
    {
     "name": "stdout",
     "output_type": "stream",
     "text": [
      "\r",
      "Epoch: 1. Batch: 782. Min loss: 2.82025. Estimated time left: 0:57:48. Best: 119 batches ago.\r",
      "Epoch: 1. Batch: 783. Min loss: 2.82025. Estimated time left: 1:00:39. Best: 120 batches ago."
     ]
    },
    {
     "name": "stdout",
     "output_type": "stream",
     "text": [
      "\r",
      "Epoch: 1. Batch: 784. Min loss: 2.82025. Estimated time left: 0:57:49. Best: 121 batches ago.\r",
      "Epoch: 1. Batch: 785. Min loss: 2.82025. Estimated time left: 0:54:34. Best: 122 batches ago."
     ]
    },
    {
     "name": "stdout",
     "output_type": "stream",
     "text": [
      "\r",
      "Epoch: 1. Batch: 786. Min loss: 2.82025. Estimated time left: 0:57:41. Best: 123 batches ago.\r",
      "Epoch: 1. Batch: 787. Min loss: 2.82025. Estimated time left: 0:54:29. Best: 124 batches ago."
     ]
    },
    {
     "name": "stdout",
     "output_type": "stream",
     "text": [
      "\r",
      "Epoch: 1. Batch: 788. Min loss: 2.82025. Estimated time left: 0:54:40. Best: 125 batches ago.\r",
      "Epoch: 1. Batch: 789. Min loss: 2.82025. Estimated time left: 0:57:39. Best: 126 batches ago."
     ]
    },
    {
     "name": "stdout",
     "output_type": "stream",
     "text": [
      "\r",
      "Epoch: 1. Batch: 790. Min loss: 2.82025. Estimated time left: 0:55:34. Best: 127 batches ago.\r",
      "Epoch: 1. Batch: 791. Min loss: 2.82025. Estimated time left: 0:54:13. Best: 128 batches ago."
     ]
    },
    {
     "name": "stdout",
     "output_type": "stream",
     "text": [
      "\r",
      "Epoch: 1. Batch: 792. Min loss: 2.82025. Estimated time left: 0:56:20. Best: 129 batches ago.\r",
      "Epoch: 1. Batch: 793. Min loss: 2.82025. Estimated time left: 0:55:24. Best: 130 batches ago."
     ]
    },
    {
     "name": "stdout",
     "output_type": "stream",
     "text": [
      "\r",
      "Epoch: 1. Batch: 794. Min loss: 2.82025. Estimated time left: 0:54:42. Best: 131 batches ago.\r",
      "Epoch: 1. Batch: 795. Min loss: 2.82025. Estimated time left: 0:59:50. Best: 132 batches ago."
     ]
    },
    {
     "name": "stdout",
     "output_type": "stream",
     "text": [
      "\r",
      "Epoch: 1. Batch: 796. Min loss: 2.82025. Estimated time left: 0:58:04. Best: 133 batches ago.\r",
      "Epoch: 1. Batch: 797. Min loss: 2.82025. Estimated time left: 0:55:37. Best: 134 batches ago."
     ]
    },
    {
     "name": "stdout",
     "output_type": "stream",
     "text": [
      "\r",
      "Epoch: 1. Batch: 798. Min loss: 2.82025. Estimated time left: 0:56:57. Best: 135 batches ago.\r",
      "Epoch: 1. Batch: 799. Min loss: 2.82025. Estimated time left: 0:59:08. Best: 136 batches ago."
     ]
    },
    {
     "name": "stdout",
     "output_type": "stream",
     "text": [
      "\r",
      "Epoch: 1. Batch: 800. Min loss: 2.82025. Estimated time left: 0:56:35. Best: 137 batches ago.\r",
      "Epoch: 1. Batch: 801. Min loss: 2.82025. Estimated time left: 0:56:39. Best: 138 batches ago."
     ]
    },
    {
     "name": "stdout",
     "output_type": "stream",
     "text": [
      "\r",
      "Epoch: 1. Batch: 802. Min loss: 2.82025. Estimated time left: 0:57:31. Best: 139 batches ago.\r",
      "Epoch: 1. Batch: 803. Min loss: 2.82025. Estimated time left: 0:58:32. Best: 140 batches ago."
     ]
    },
    {
     "name": "stdout",
     "output_type": "stream",
     "text": [
      "\r",
      "Epoch: 1. Batch: 804. Min loss: 2.82025. Estimated time left: 0:58:09. Best: 141 batches ago.\r",
      "Epoch: 1. Batch: 805. Min loss: 2.82025. Estimated time left: 0:55:01. Best: 142 batches ago."
     ]
    },
    {
     "name": "stdout",
     "output_type": "stream",
     "text": [
      "\r",
      "Epoch: 1. Batch: 806. Min loss: 2.82025. Estimated time left: 1:00:18. Best: 143 batches ago.\r",
      "Epoch: 1. Batch: 807. Min loss: 2.82025. Estimated time left: 0:57:56. Best: 144 batches ago."
     ]
    },
    {
     "name": "stdout",
     "output_type": "stream",
     "text": [
      "\r",
      "Epoch: 1. Batch: 808. Min loss: 2.82025. Estimated time left: 1:02:03. Best: 145 batches ago.\r",
      "Epoch: 1. Batch: 809. Min loss: 2.82025. Estimated time left: 0:56:46. Best: 146 batches ago."
     ]
    },
    {
     "name": "stdout",
     "output_type": "stream",
     "text": [
      "\r",
      "Epoch: 1. Batch: 810. Min loss: 2.82025. Estimated time left: 0:55:48. Best: 147 batches ago.\r",
      "Epoch: 1. Batch: 811. Min loss: 2.82025. Estimated time left: 1:02:34. Best: 148 batches ago."
     ]
    },
    {
     "name": "stdout",
     "output_type": "stream",
     "text": [
      "\r",
      "Epoch: 1. Batch: 812. Min loss: 2.82025. Estimated time left: 0:58:45. Best: 149 batches ago.\r",
      "Epoch: 1. Batch: 813. Min loss: 2.82025. Estimated time left: 0:54:23. Best: 150 batches ago."
     ]
    },
    {
     "name": "stdout",
     "output_type": "stream",
     "text": [
      "\r",
      "Epoch: 1. Batch: 814. Min loss: 2.82025. Estimated time left: 0:59:19. Best: 151 batches ago.\r",
      "Epoch: 1. Batch: 815. Min loss: 2.82025. Estimated time left: 0:55:27. Best: 152 batches ago."
     ]
    },
    {
     "name": "stdout",
     "output_type": "stream",
     "text": [
      "\r",
      "Epoch: 1. Batch: 816. Min loss: 2.82025. Estimated time left: 0:55:14. Best: 153 batches ago.\r",
      "Epoch: 1. Batch: 817. Min loss: 2.82025. Estimated time left: 0:56:49. Best: 154 batches ago."
     ]
    },
    {
     "name": "stdout",
     "output_type": "stream",
     "text": [
      "\r",
      "Epoch: 1. Batch: 818. Min loss: 2.82025. Estimated time left: 0:56:46. Best: 155 batches ago.\r",
      "Epoch: 1. Batch: 819. Min loss: 2.82025. Estimated time left: 0:54:40. Best: 156 batches ago."
     ]
    },
    {
     "name": "stdout",
     "output_type": "stream",
     "text": [
      "\r",
      "Epoch: 1. Batch: 820. Min loss: 2.82025. Estimated time left: 0:55:37. Best: 157 batches ago.\r",
      "Epoch: 1. Batch: 821. Min loss: 2.82025. Estimated time left: 0:58:34. Best: 158 batches ago."
     ]
    },
    {
     "name": "stdout",
     "output_type": "stream",
     "text": [
      "\r",
      "Epoch: 1. Batch: 822. Min loss: 2.82025. Estimated time left: 1:00:40. Best: 159 batches ago.\r",
      "Epoch: 1. Batch: 823. Min loss: 2.82025. Estimated time left: 0:59:14. Best: 160 batches ago."
     ]
    },
    {
     "name": "stdout",
     "output_type": "stream",
     "text": [
      "\r",
      "Epoch: 1. Batch: 824. Min loss: 2.82025. Estimated time left: 0:54:17. Best: 161 batches ago.\r",
      "Epoch: 1. Batch: 825. Min loss: 2.82025. Estimated time left: 0:58:16. Best: 162 batches ago."
     ]
    },
    {
     "name": "stdout",
     "output_type": "stream",
     "text": [
      "\r",
      "Epoch: 1. Batch: 826. Min loss: 2.82025. Estimated time left: 0:57:58. Best: 163 batches ago.\r",
      "Epoch: 1. Batch: 827. Min loss: 2.82025. Estimated time left: 0:57:20. Best: 164 batches ago."
     ]
    },
    {
     "name": "stdout",
     "output_type": "stream",
     "text": [
      "\r",
      "Epoch: 1. Batch: 828. Min loss: 2.82025. Estimated time left: 0:57:49. Best: 165 batches ago.\r",
      "Epoch: 1. Batch: 829. Min loss: 2.82025. Estimated time left: 0:56:24. Best: 166 batches ago."
     ]
    },
    {
     "name": "stdout",
     "output_type": "stream",
     "text": [
      "\r",
      "Epoch: 1. Batch: 830. Min loss: 2.82025. Estimated time left: 0:55:50. Best: 167 batches ago.\r",
      "Epoch: 1. Batch: 831. Min loss: 2.82025. Estimated time left: 0:58:41. Best: 168 batches ago."
     ]
    },
    {
     "name": "stdout",
     "output_type": "stream",
     "text": [
      "\r",
      "Epoch: 1. Batch: 832. Min loss: 2.82025. Estimated time left: 0:56:48. Best: 169 batches ago.\r",
      "Epoch: 1. Batch: 833. Min loss: 2.82025. Estimated time left: 0:59:41. Best: 170 batches ago."
     ]
    },
    {
     "name": "stdout",
     "output_type": "stream",
     "text": [
      "\r",
      "Epoch: 1. Batch: 834. Min loss: 2.82025. Estimated time left: 0:57:52. Best: 171 batches ago.\r",
      "Epoch: 1. Batch: 835. Min loss: 2.82025. Estimated time left: 0:58:38. Best: 172 batches ago."
     ]
    },
    {
     "name": "stdout",
     "output_type": "stream",
     "text": [
      "\r",
      "Epoch: 1. Batch: 836. Min loss: 2.82025. Estimated time left: 0:59:10. Best: 173 batches ago.\r",
      "Epoch: 1. Batch: 837. Min loss: 2.82025. Estimated time left: 0:56:53. Best: 174 batches ago."
     ]
    },
    {
     "name": "stdout",
     "output_type": "stream",
     "text": [
      "\r",
      "Epoch: 1. Batch: 838. Min loss: 2.82025. Estimated time left: 0:58:51. Best: 175 batches ago.\r",
      "Epoch: 1. Batch: 839. Min loss: 2.82025. Estimated time left: 0:58:11. Best: 176 batches ago."
     ]
    },
    {
     "name": "stdout",
     "output_type": "stream",
     "text": [
      "\r",
      "Epoch: 1. Batch: 840. Min loss: 2.82025. Estimated time left: 0:56:41. Best: 177 batches ago.\r",
      "Epoch: 1. Batch: 841. Min loss: 2.82025. Estimated time left: 0:59:28. Best: 178 batches ago."
     ]
    },
    {
     "name": "stdout",
     "output_type": "stream",
     "text": [
      "\r",
      "Epoch: 1. Batch: 842. Min loss: 2.82025. Estimated time left: 0:58:44. Best: 179 batches ago.\r",
      "Epoch: 1. Batch: 843. Min loss: 2.82025. Estimated time left: 0:56:29. Best: 180 batches ago."
     ]
    },
    {
     "name": "stdout",
     "output_type": "stream",
     "text": [
      "\r",
      "Epoch: 1. Batch: 844. Min loss: 2.82025. Estimated time left: 0:56:05. Best: 181 batches ago.\r",
      "Epoch: 1. Batch: 845. Min loss: 2.82025. Estimated time left: 0:54:59. Best: 182 batches ago."
     ]
    },
    {
     "name": "stdout",
     "output_type": "stream",
     "text": [
      "\r",
      "Epoch: 1. Batch: 846. Min loss: 2.82025. Estimated time left: 0:54:53. Best: 183 batches ago.\r",
      "Epoch: 1. Batch: 847. Min loss: 2.82025. Estimated time left: 0:58:43. Best: 184 batches ago."
     ]
    },
    {
     "name": "stdout",
     "output_type": "stream",
     "text": [
      "\r",
      "Epoch: 1. Batch: 848. Min loss: 2.82025. Estimated time left: 0:55:47. Best: 185 batches ago.\r",
      "Epoch: 1. Batch: 849. Min loss: 2.82025. Estimated time left: 0:55:11. Best: 186 batches ago."
     ]
    },
    {
     "name": "stdout",
     "output_type": "stream",
     "text": [
      "\r",
      "Epoch: 1. Batch: 850. Min loss: 2.82025. Estimated time left: 0:55:36. Best: 187 batches ago.\r",
      "Epoch: 1. Batch: 851. Min loss: 2.82025. Estimated time left: 0:55:45. Best: 188 batches ago."
     ]
    },
    {
     "name": "stdout",
     "output_type": "stream",
     "text": [
      "\r",
      "Epoch: 1. Batch: 852. Min loss: 2.82025. Estimated time left: 0:56:41. Best: 189 batches ago.\r",
      "Epoch: 1. Batch: 853. Min loss: 2.82025. Estimated time left: 0:54:48. Best: 190 batches ago."
     ]
    },
    {
     "name": "stdout",
     "output_type": "stream",
     "text": [
      "\r",
      "Epoch: 1. Batch: 854. Min loss: 2.82025. Estimated time left: 0:57:13. Best: 191 batches ago.\r",
      "Epoch: 1. Batch: 855. Min loss: 2.82025. Estimated time left: 0:55:59. Best: 192 batches ago."
     ]
    },
    {
     "name": "stdout",
     "output_type": "stream",
     "text": [
      "\r",
      "Epoch: 1. Batch: 856. Min loss: 2.82025. Estimated time left: 1:00:06. Best: 193 batches ago.\r",
      "Epoch: 1. Batch: 857. Min loss: 2.82025. Estimated time left: 0:54:40. Best: 194 batches ago."
     ]
    },
    {
     "name": "stdout",
     "output_type": "stream",
     "text": [
      "\r",
      "Epoch: 1. Batch: 858. Min loss: 2.82025. Estimated time left: 0:55:55. Best: 195 batches ago.\r",
      "Epoch: 1. Batch: 859. Min loss: 2.82025. Estimated time left: 0:56:59. Best: 196 batches ago."
     ]
    },
    {
     "name": "stdout",
     "output_type": "stream",
     "text": [
      "\r",
      "Epoch: 1. Batch: 860. Min loss: 2.82025. Estimated time left: 0:57:06. Best: 197 batches ago.\r",
      "Epoch: 1. Batch: 861. Min loss: 2.82025. Estimated time left: 0:54:35. Best: 198 batches ago."
     ]
    },
    {
     "name": "stdout",
     "output_type": "stream",
     "text": [
      "\r",
      "Epoch: 1. Batch: 862. Min loss: 2.82025. Estimated time left: 0:59:22. Best: 199 batches ago.\r",
      "Epoch: 1. Batch: 863. Min loss: 2.82025. Estimated time left: 0:56:56. Best: 200 batches ago."
     ]
    },
    {
     "name": "stdout",
     "output_type": "stream",
     "text": [
      "\r",
      "Epoch: 1. Batch: 864. Min loss: 2.82025. Estimated time left: 0:57:59. Best: 201 batches ago.\r",
      "Epoch: 1. Batch: 865. Min loss: 2.82025. Estimated time left: 0:55:54. Best: 202 batches ago."
     ]
    },
    {
     "name": "stdout",
     "output_type": "stream",
     "text": [
      "\r",
      "Epoch: 1. Batch: 866. Min loss: 2.82025. Estimated time left: 0:56:41. Best: 203 batches ago.\r",
      "Epoch: 1. Batch: 867. Min loss: 2.82025. Estimated time left: 0:56:22. Best: 204 batches ago."
     ]
    },
    {
     "name": "stdout",
     "output_type": "stream",
     "text": [
      "\r",
      "Epoch: 1. Batch: 868. Min loss: 2.82025. Estimated time left: 0:58:58. Best: 205 batches ago.\r",
      "Epoch: 1. Batch: 869. Min loss: 2.82025. Estimated time left: 0:57:44. Best: 206 batches ago."
     ]
    },
    {
     "name": "stdout",
     "output_type": "stream",
     "text": [
      "\r",
      "Epoch: 1. Batch: 870. Min loss: 2.82025. Estimated time left: 0:57:35. Best: 207 batches ago.\r",
      "Epoch: 1. Batch: 871. Min loss: 2.82025. Estimated time left: 0:58:42. Best: 208 batches ago."
     ]
    },
    {
     "name": "stdout",
     "output_type": "stream",
     "text": [
      "\r",
      "Epoch: 1. Batch: 872. Min loss: 2.82025. Estimated time left: 1:00:24. Best: 209 batches ago.\r",
      "Epoch: 1. Batch: 873. Min loss: 2.82025. Estimated time left: 0:56:43. Best: 210 batches ago."
     ]
    },
    {
     "name": "stdout",
     "output_type": "stream",
     "text": [
      "\r",
      "Epoch: 1. Batch: 874. Min loss: 2.82025. Estimated time left: 0:57:26. Best: 211 batches ago.\r",
      "Epoch: 1. Batch: 875. Min loss: 2.82025. Estimated time left: 0:53:54. Best: 212 batches ago."
     ]
    },
    {
     "name": "stdout",
     "output_type": "stream",
     "text": [
      "\r",
      "Epoch: 1. Batch: 876. Min loss: 2.82025. Estimated time left: 1:04:52. Best: 213 batches ago.\r",
      "Epoch: 1. Batch: 877. Min loss: 2.82025. Estimated time left: 0:56:47. Best: 214 batches ago."
     ]
    },
    {
     "name": "stdout",
     "output_type": "stream",
     "text": [
      "\r",
      "Epoch: 1. Batch: 878. Min loss: 2.82025. Estimated time left: 0:53:52. Best: 215 batches ago.\r",
      "Epoch: 1. Batch: 879. Min loss: 2.82025. Estimated time left: 0:55:05. Best: 216 batches ago."
     ]
    },
    {
     "name": "stdout",
     "output_type": "stream",
     "text": [
      "\r",
      "Epoch: 1. Batch: 880. Min loss: 2.82025. Estimated time left: 0:57:11. Best: 217 batches ago.\r",
      "Epoch: 1. Batch: 881. Min loss: 2.82025. Estimated time left: 0:57:12. Best: 218 batches ago."
     ]
    },
    {
     "name": "stdout",
     "output_type": "stream",
     "text": [
      "\r",
      "Epoch: 1. Batch: 882. Min loss: 2.82025. Estimated time left: 0:58:48. Best: 219 batches ago.\r",
      "Epoch: 1. Batch: 883. Min loss: 2.82025. Estimated time left: 0:58:18. Best: 220 batches ago."
     ]
    },
    {
     "name": "stdout",
     "output_type": "stream",
     "text": [
      "\r",
      "Epoch: 1. Batch: 884. Min loss: 2.82025. Estimated time left: 0:57:45. Best: 221 batches ago.\r",
      "Epoch: 1. Batch: 885. Min loss: 2.82025. Estimated time left: 0:56:46. Best: 222 batches ago."
     ]
    },
    {
     "name": "stdout",
     "output_type": "stream",
     "text": [
      "\r",
      "Epoch: 1. Batch: 886. Min loss: 2.82025. Estimated time left: 0:57:11. Best: 223 batches ago.\r",
      "Epoch: 1. Batch: 887. Min loss: 2.82025. Estimated time left: 0:57:36. Best: 224 batches ago."
     ]
    },
    {
     "name": "stdout",
     "output_type": "stream",
     "text": [
      "\r",
      "Epoch: 1. Batch: 888. Min loss: 2.82025. Estimated time left: 0:59:26. Best: 225 batches ago.\r",
      "Epoch: 1. Batch: 889. Min loss: 2.82025. Estimated time left: 0:59:43. Best: 226 batches ago."
     ]
    },
    {
     "name": "stdout",
     "output_type": "stream",
     "text": [
      "\r",
      "Epoch: 1. Batch: 890. Min loss: 2.82025. Estimated time left: 0:58:16. Best: 227 batches ago.\r",
      "Epoch: 1. Batch: 891. Min loss: 2.82025. Estimated time left: 0:57:24. Best: 228 batches ago."
     ]
    },
    {
     "name": "stdout",
     "output_type": "stream",
     "text": [
      "\r",
      "Epoch: 1. Batch: 892. Min loss: 2.82025. Estimated time left: 0:57:42. Best: 229 batches ago.\r",
      "Epoch: 1. Batch: 893. Min loss: 2.82025. Estimated time left: 0:53:11. Best: 230 batches ago."
     ]
    },
    {
     "name": "stdout",
     "output_type": "stream",
     "text": [
      "\r",
      "Epoch: 1. Batch: 894. Min loss: 2.82025. Estimated time left: 0:54:43. Best: 231 batches ago.\r",
      "Epoch: 1. Batch: 895. Min loss: 2.82025. Estimated time left: 0:54:55. Best: 232 batches ago."
     ]
    },
    {
     "name": "stdout",
     "output_type": "stream",
     "text": [
      "\r",
      "Epoch: 1. Batch: 896. Min loss: 2.82025. Estimated time left: 0:54:12. Best: 233 batches ago.\r",
      "Epoch: 1. Batch: 897. Min loss: 2.82025. Estimated time left: 0:56:17. Best: 234 batches ago."
     ]
    },
    {
     "name": "stdout",
     "output_type": "stream",
     "text": [
      "\r",
      "Epoch: 1. Batch: 898. Min loss: 2.82025. Estimated time left: 0:56:32. Best: 235 batches ago.\r",
      "Epoch: 1. Batch: 899. Min loss: 2.82025. Estimated time left: 1:02:32. Best: 236 batches ago."
     ]
    },
    {
     "name": "stdout",
     "output_type": "stream",
     "text": [
      "\r",
      "Epoch: 1. Batch: 900. Min loss: 2.82025. Estimated time left: 0:56:48. Best: 237 batches ago.\r",
      "Epoch: 1. Batch: 901. Min loss: 2.82025. Estimated time left: 0:55:17. Best: 238 batches ago."
     ]
    },
    {
     "name": "stdout",
     "output_type": "stream",
     "text": [
      "\r",
      "Epoch: 1. Batch: 902. Min loss: 2.82025. Estimated time left: 0:54:19. Best: 239 batches ago.\r",
      "Epoch: 1. Batch: 903. Min loss: 2.82025. Estimated time left: 0:55:56. Best: 240 batches ago."
     ]
    },
    {
     "name": "stdout",
     "output_type": "stream",
     "text": [
      "\r",
      "Epoch: 1. Batch: 904. Min loss: 2.82025. Estimated time left: 0:55:22. Best: 241 batches ago.\r",
      "Epoch: 1. Batch: 905. Min loss: 2.82025. Estimated time left: 0:58:04. Best: 242 batches ago."
     ]
    },
    {
     "name": "stdout",
     "output_type": "stream",
     "text": [
      "\r",
      "Epoch: 1. Batch: 906. Min loss: 2.82025. Estimated time left: 0:56:26. Best: 243 batches ago.\r",
      "Epoch: 1. Batch: 907. Min loss: 2.82025. Estimated time left: 0:57:43. Best: 244 batches ago."
     ]
    },
    {
     "name": "stdout",
     "output_type": "stream",
     "text": [
      "\r",
      "Epoch: 1. Batch: 908. Min loss: 2.82025. Estimated time left: 0:55:49. Best: 245 batches ago.\r",
      "Epoch: 1. Batch: 909. Min loss: 2.82025. Estimated time left: 0:58:05. Best: 246 batches ago."
     ]
    },
    {
     "name": "stdout",
     "output_type": "stream",
     "text": [
      "\r",
      "Epoch: 1. Batch: 910. Min loss: 2.82025. Estimated time left: 0:55:10. Best: 247 batches ago.\r",
      "Epoch: 1. Batch: 911. Min loss: 2.82025. Estimated time left: 0:55:53. Best: 248 batches ago."
     ]
    },
    {
     "name": "stdout",
     "output_type": "stream",
     "text": [
      "\r",
      "Epoch: 1. Batch: 912. Min loss: 2.82025. Estimated time left: 0:58:28. Best: 249 batches ago.\r",
      "Epoch: 1. Batch: 913. Min loss: 2.82025. Estimated time left: 0:56:43. Best: 250 batches ago."
     ]
    },
    {
     "name": "stdout",
     "output_type": "stream",
     "text": [
      "\r",
      "Epoch: 1. Batch: 914. Min loss: 2.82025. Estimated time left: 1:07:18. Best: 251 batches ago.\r",
      "Epoch: 1. Batch: 915. Min loss: 2.82025. Estimated time left: 1:10:04. Best: 252 batches ago."
     ]
    },
    {
     "name": "stdout",
     "output_type": "stream",
     "text": [
      "\r",
      "Epoch: 1. Batch: 916. Min loss: 2.82025. Estimated time left: 1:08:30. Best: 253 batches ago.\r",
      "Epoch: 1. Batch: 917. Min loss: 2.82025. Estimated time left: 0:58:14. Best: 254 batches ago."
     ]
    },
    {
     "name": "stdout",
     "output_type": "stream",
     "text": [
      "\r",
      "Epoch: 1. Batch: 918. Min loss: 2.82025. Estimated time left: 0:57:25. Best: 255 batches ago.\r",
      "Epoch: 1. Batch: 919. Min loss: 2.82025. Estimated time left: 0:57:43. Best: 256 batches ago."
     ]
    },
    {
     "name": "stdout",
     "output_type": "stream",
     "text": [
      "\r",
      "Epoch: 1. Batch: 920. Min loss: 2.82025. Estimated time left: 0:55:36. Best: 257 batches ago.\r",
      "Epoch: 1. Batch: 921. Min loss: 2.82025. Estimated time left: 0:57:06. Best: 258 batches ago."
     ]
    },
    {
     "name": "stdout",
     "output_type": "stream",
     "text": [
      "\r",
      "Epoch: 1. Batch: 922. Min loss: 2.82025. Estimated time left: 0:55:52. Best: 259 batches ago."
     ]
    },
    {
     "name": "stdout",
     "output_type": "stream",
     "text": [
      "\r",
      "Epoch: 1. Batch: 923. Min loss: 2.82025. Estimated time left: 1:13:41. Best: 260 batches ago.\r",
      "Epoch: 1. Batch: 924. Min loss: 2.82025. Estimated time left: 1:10:54. Best: 261 batches ago."
     ]
    },
    {
     "name": "stdout",
     "output_type": "stream",
     "text": [
      "\r",
      "Epoch: 1. Batch: 925. Min loss: 2.82025. Estimated time left: 1:01:14. Best: 262 batches ago.\r",
      "Epoch: 1. Batch: 926. Min loss: 2.82025. Estimated time left: 0:58:14. Best: 263 batches ago."
     ]
    },
    {
     "name": "stdout",
     "output_type": "stream",
     "text": [
      "\r",
      "Epoch: 1. Batch: 927. Min loss: 2.82025. Estimated time left: 0:59:16. Best: 264 batches ago.\r",
      "Epoch: 1. Batch: 928. Min loss: 2.82025. Estimated time left: 0:59:19. Best: 265 batches ago."
     ]
    },
    {
     "name": "stdout",
     "output_type": "stream",
     "text": [
      "\r",
      "Epoch: 1. Batch: 929. Min loss: 2.82025. Estimated time left: 0:56:32. Best: 266 batches ago.\r",
      "Epoch: 1. Batch: 930. Min loss: 2.82025. Estimated time left: 0:58:11. Best: 267 batches ago."
     ]
    },
    {
     "name": "stdout",
     "output_type": "stream",
     "text": [
      "\r",
      "Epoch: 1. Batch: 931. Min loss: 2.82025. Estimated time left: 0:53:03. Best: 268 batches ago.\r",
      "Epoch: 1. Batch: 932. Min loss: 2.82025. Estimated time left: 0:59:15. Best: 269 batches ago."
     ]
    },
    {
     "name": "stdout",
     "output_type": "stream",
     "text": [
      "\r",
      "Epoch: 1. Batch: 933. Min loss: 2.82025. Estimated time left: 1:01:02. Best: 270 batches ago.\r",
      "Epoch: 1. Batch: 934. Min loss: 2.82025. Estimated time left: 0:56:55. Best: 271 batches ago."
     ]
    },
    {
     "name": "stdout",
     "output_type": "stream",
     "text": [
      "\r",
      "Epoch: 1. Batch: 935. Min loss: 2.82025. Estimated time left: 0:58:21. Best: 272 batches ago.\r",
      "Epoch: 1. Batch: 936. Min loss: 2.82025. Estimated time left: 1:00:30. Best: 273 batches ago."
     ]
    },
    {
     "name": "stdout",
     "output_type": "stream",
     "text": [
      "\r",
      "Epoch: 1. Batch: 937. Min loss: 2.82025. Estimated time left: 0:57:46. Best: 274 batches ago.\r",
      "Epoch: 1. Batch: 938. Min loss: 2.82025. Estimated time left: 1:02:18. Best: 275 batches ago."
     ]
    },
    {
     "name": "stdout",
     "output_type": "stream",
     "text": [
      "\r",
      "Epoch: 1. Batch: 939. Min loss: 2.82025. Estimated time left: 0:59:46. Best: 276 batches ago.\r",
      "Epoch: 1. Batch: 940. Min loss: 2.82025. Estimated time left: 0:56:20. Best: 277 batches ago."
     ]
    },
    {
     "name": "stdout",
     "output_type": "stream",
     "text": [
      "\r",
      "Epoch: 1. Batch: 941. Min loss: 2.82025. Estimated time left: 1:00:19. Best: 278 batches ago.\r",
      "Epoch: 1. Batch: 942. Min loss: 2.82025. Estimated time left: 1:00:29. Best: 279 batches ago."
     ]
    },
    {
     "name": "stdout",
     "output_type": "stream",
     "text": [
      "\r",
      "Epoch: 1. Batch: 943. Min loss: 2.82025. Estimated time left: 0:58:07. Best: 280 batches ago.\r",
      "Epoch: 1. Batch: 944. Min loss: 2.82025. Estimated time left: 0:56:52. Best: 281 batches ago."
     ]
    },
    {
     "name": "stdout",
     "output_type": "stream",
     "text": [
      "\r",
      "Epoch: 1. Batch: 945. Min loss: 2.82025. Estimated time left: 0:58:12. Best: 282 batches ago.\r",
      "Epoch: 1. Batch: 946. Min loss: 2.82025. Estimated time left: 1:02:54. Best: 283 batches ago."
     ]
    },
    {
     "name": "stdout",
     "output_type": "stream",
     "text": [
      "\r",
      "Epoch: 1. Batch: 947. Min loss: 2.82025. Estimated time left: 0:56:18. Best: 284 batches ago.\r",
      "Epoch: 1. Batch: 948. Min loss: 2.82025. Estimated time left: 0:58:43. Best: 285 batches ago."
     ]
    },
    {
     "name": "stdout",
     "output_type": "stream",
     "text": [
      "\r",
      "Epoch: 1. Batch: 949. Min loss: 2.82025. Estimated time left: 0:58:58. Best: 286 batches ago.\r",
      "Epoch: 1. Batch: 950. Min loss: 2.82025. Estimated time left: 1:00:32. Best: 287 batches ago."
     ]
    },
    {
     "name": "stdout",
     "output_type": "stream",
     "text": [
      "\r",
      "Epoch: 1. Batch: 951. Min loss: 2.82025. Estimated time left: 0:55:36. Best: 288 batches ago.\r",
      "Epoch: 1. Batch: 952. Min loss: 2.82025. Estimated time left: 0:58:15. Best: 289 batches ago."
     ]
    },
    {
     "name": "stdout",
     "output_type": "stream",
     "text": [
      "\r",
      "Epoch: 1. Batch: 953. Min loss: 2.82025. Estimated time left: 1:00:24. Best: 290 batches ago.\r",
      "Epoch: 1. Batch: 954. Min loss: 2.82025. Estimated time left: 0:55:21. Best: 291 batches ago."
     ]
    },
    {
     "name": "stdout",
     "output_type": "stream",
     "text": [
      "\r",
      "Epoch: 1. Batch: 955. Min loss: 2.82025. Estimated time left: 0:55:29. Best: 292 batches ago.\r",
      "Epoch: 1. Batch: 956. Min loss: 2.82025. Estimated time left: 0:57:38. Best: 293 batches ago."
     ]
    },
    {
     "name": "stdout",
     "output_type": "stream",
     "text": [
      "\r",
      "Epoch: 1. Batch: 957. Min loss: 2.82025. Estimated time left: 1:00:26. Best: 294 batches ago.\r",
      "Epoch: 1. Batch: 958. Min loss: 2.82025. Estimated time left: 0:56:53. Best: 295 batches ago."
     ]
    },
    {
     "name": "stdout",
     "output_type": "stream",
     "text": [
      "\r",
      "Epoch: 1. Batch: 959. Min loss: 2.82025. Estimated time left: 0:55:39. Best: 296 batches ago.\r",
      "Epoch: 1. Batch: 960. Min loss: 2.82025. Estimated time left: 0:55:38. Best: 297 batches ago."
     ]
    },
    {
     "name": "stdout",
     "output_type": "stream",
     "text": [
      "\r",
      "Epoch: 1. Batch: 961. Min loss: 2.82025. Estimated time left: 0:58:03. Best: 298 batches ago.\r",
      "Epoch: 1. Batch: 962. Min loss: 2.82025. Estimated time left: 1:01:12. Best: 299 batches ago."
     ]
    },
    {
     "name": "stdout",
     "output_type": "stream",
     "text": [
      "\r",
      "Epoch: 1. Batch: 963. Min loss: 2.82025. Estimated time left: 0:57:20. Best: 300 batches ago.\r",
      "Epoch: 1. Batch: 964. Min loss: 2.82025. Estimated time left: 1:00:49. Best: 301 batches ago."
     ]
    },
    {
     "name": "stdout",
     "output_type": "stream",
     "text": [
      "\r",
      "Epoch: 1. Batch: 965. Min loss: 2.82025. Estimated time left: 0:58:29. Best: 302 batches ago.\r",
      "Epoch: 1. Batch: 966. Min loss: 2.82025. Estimated time left: 0:55:58. Best: 303 batches ago."
     ]
    },
    {
     "name": "stdout",
     "output_type": "stream",
     "text": [
      "\r",
      "Epoch: 1. Batch: 967. Min loss: 2.82025. Estimated time left: 0:58:01. Best: 304 batches ago.\r",
      "Epoch: 1. Batch: 968. Min loss: 2.82025. Estimated time left: 0:59:17. Best: 305 batches ago."
     ]
    },
    {
     "name": "stdout",
     "output_type": "stream",
     "text": [
      "\r",
      "Epoch: 1. Batch: 969. Min loss: 2.82025. Estimated time left: 0:55:12. Best: 306 batches ago.\r",
      "Epoch: 1. Batch: 970. Min loss: 2.82025. Estimated time left: 0:59:38. Best: 307 batches ago."
     ]
    },
    {
     "name": "stdout",
     "output_type": "stream",
     "text": [
      "\r",
      "Epoch: 1. Batch: 971. Min loss: 2.82025. Estimated time left: 0:55:59. Best: 308 batches ago.\r",
      "Epoch: 1. Batch: 972. Min loss: 2.82025. Estimated time left: 0:58:35. Best: 309 batches ago."
     ]
    },
    {
     "name": "stdout",
     "output_type": "stream",
     "text": [
      "\r",
      "Epoch: 1. Batch: 973. Min loss: 2.82025. Estimated time left: 0:56:31. Best: 310 batches ago.\r",
      "Epoch: 1. Batch: 974. Min loss: 2.82025. Estimated time left: 0:56:10. Best: 311 batches ago."
     ]
    },
    {
     "name": "stdout",
     "output_type": "stream",
     "text": [
      "\r",
      "Epoch: 1. Batch: 975. Min loss: 2.82025. Estimated time left: 1:00:53. Best: 312 batches ago.\r",
      "Epoch: 1. Batch: 976. Min loss: 2.82025. Estimated time left: 0:57:40. Best: 313 batches ago."
     ]
    },
    {
     "name": "stdout",
     "output_type": "stream",
     "text": [
      "\r",
      "Epoch: 1. Batch: 977. Min loss: 2.82025. Estimated time left: 0:55:34. Best: 314 batches ago.\r",
      "Epoch: 1. Batch: 978. Min loss: 2.82025. Estimated time left: 0:59:28. Best: 315 batches ago."
     ]
    },
    {
     "name": "stdout",
     "output_type": "stream",
     "text": [
      "\r",
      "Epoch: 1. Batch: 979. Min loss: 2.82025. Estimated time left: 0:59:50. Best: 316 batches ago.\r",
      "Epoch: 1. Batch: 980. Min loss: 2.82025. Estimated time left: 1:01:28. Best: 317 batches ago."
     ]
    },
    {
     "name": "stdout",
     "output_type": "stream",
     "text": [
      "\r",
      "Epoch: 1. Batch: 981. Min loss: 2.82025. Estimated time left: 0:58:08. Best: 318 batches ago.\r",
      "Epoch: 1. Batch: 982. Min loss: 2.82025. Estimated time left: 0:59:33. Best: 319 batches ago."
     ]
    },
    {
     "name": "stdout",
     "output_type": "stream",
     "text": [
      "\r",
      "Epoch: 1. Batch: 983. Min loss: 2.82025. Estimated time left: 0:56:43. Best: 320 batches ago.\r",
      "Epoch: 1. Batch: 984. Min loss: 2.82025. Estimated time left: 0:54:27. Best: 321 batches ago."
     ]
    },
    {
     "name": "stdout",
     "output_type": "stream",
     "text": [
      "\r",
      "Epoch: 1. Batch: 985. Min loss: 2.82025. Estimated time left: 0:57:19. Best: 322 batches ago.\r",
      "Epoch: 1. Batch: 986. Min loss: 2.82025. Estimated time left: 1:00:06. Best: 323 batches ago."
     ]
    },
    {
     "name": "stdout",
     "output_type": "stream",
     "text": [
      "\r",
      "Epoch: 1. Batch: 987. Min loss: 2.82025. Estimated time left: 0:59:06. Best: 324 batches ago.\r",
      "Epoch: 1. Batch: 988. Min loss: 2.82025. Estimated time left: 0:54:14. Best: 325 batches ago."
     ]
    },
    {
     "name": "stdout",
     "output_type": "stream",
     "text": [
      "\r",
      "Epoch: 1. Batch: 989. Min loss: 2.82025. Estimated time left: 0:55:19. Best: 326 batches ago.\r",
      "Epoch: 1. Batch: 990. Min loss: 2.82025. Estimated time left: 0:57:00. Best: 327 batches ago."
     ]
    },
    {
     "name": "stdout",
     "output_type": "stream",
     "text": [
      "\r",
      "Epoch: 1. Batch: 991. Min loss: 2.82025. Estimated time left: 0:55:57. Best: 328 batches ago.\r",
      "Epoch: 1. Batch: 992. Min loss: 2.82025. Estimated time left: 0:58:15. Best: 329 batches ago."
     ]
    },
    {
     "name": "stdout",
     "output_type": "stream",
     "text": [
      "\r",
      "Epoch: 1. Batch: 993. Min loss: 2.82025. Estimated time left: 1:00:29. Best: 330 batches ago.\r",
      "Epoch: 1. Batch: 994. Min loss: 2.82025. Estimated time left: 0:59:50. Best: 331 batches ago."
     ]
    },
    {
     "name": "stdout",
     "output_type": "stream",
     "text": [
      "\r",
      "Epoch: 1. Batch: 995. Min loss: 2.82025. Estimated time left: 0:52:46. Best: 332 batches ago.\r",
      "Epoch: 1. Batch: 996. Min loss: 2.82025. Estimated time left: 0:59:15. Best: 333 batches ago."
     ]
    },
    {
     "name": "stdout",
     "output_type": "stream",
     "text": [
      "\r",
      "Epoch: 1. Batch: 997. Min loss: 2.82025. Estimated time left: 0:57:07. Best: 334 batches ago.\r",
      "Epoch: 1. Batch: 998. Min loss: 2.82025. Estimated time left: 0:55:54. Best: 335 batches ago."
     ]
    },
    {
     "name": "stdout",
     "output_type": "stream",
     "text": [
      "\r",
      "Epoch: 1. Batch: 999. Min loss: 2.82025. Estimated time left: 1:02:52. Best: 336 batches ago.\r",
      "Epoch: 1. Batch: 1000. Min loss: 2.82025. Estimated time left: 0:58:07. Best: 337 batches ago."
     ]
    },
    {
     "name": "stdout",
     "output_type": "stream",
     "text": [
      "\r",
      "Epoch: 1. Batch: 1001. Min loss: 2.82025. Estimated time left: 0:54:22. Best: 338 batches ago.\r",
      "Epoch: 1. Batch: 1002. Min loss: 2.82025. Estimated time left: 0:54:35. Best: 339 batches ago."
     ]
    },
    {
     "name": "stdout",
     "output_type": "stream",
     "text": [
      "\r",
      "Epoch: 1. Batch: 1003. Min loss: 2.82025. Estimated time left: 0:57:22. Best: 340 batches ago.\r",
      "Epoch: 1. Batch: 1004. Min loss: 2.82025. Estimated time left: 1:02:11. Best: 341 batches ago."
     ]
    },
    {
     "name": "stdout",
     "output_type": "stream",
     "text": [
      "\r",
      "Epoch: 1. Batch: 1005. Min loss: 2.82025. Estimated time left: 0:55:50. Best: 342 batches ago.\r",
      "Epoch: 1. Batch: 1006. Min loss: 2.82025. Estimated time left: 1:00:16. Best: 343 batches ago."
     ]
    },
    {
     "name": "stdout",
     "output_type": "stream",
     "text": [
      "\r",
      "Epoch: 1. Batch: 1007. Min loss: 2.82025. Estimated time left: 1:06:57. Best: 344 batches ago."
     ]
    },
    {
     "name": "stdout",
     "output_type": "stream",
     "text": [
      "\r",
      "Epoch: 1. Batch: 1008. Min loss: 2.82025. Estimated time left: 1:15:03. Best: 345 batches ago.\r",
      "Epoch: 1. Batch: 1009. Min loss: 2.82025. Estimated time left: 1:04:14. Best: 346 batches ago."
     ]
    },
    {
     "name": "stdout",
     "output_type": "stream",
     "text": [
      "\r",
      "Epoch: 1. Batch: 1010. Min loss: 2.82025. Estimated time left: 0:58:22. Best: 347 batches ago.\r",
      "Epoch: 1. Batch: 1011. Min loss: 2.82025. Estimated time left: 1:01:58. Best: 348 batches ago."
     ]
    },
    {
     "name": "stdout",
     "output_type": "stream",
     "text": [
      "\r",
      "Epoch: 1. Batch: 1012. Min loss: 2.82025. Estimated time left: 0:55:48. Best: 349 batches ago.\r",
      "Epoch: 1. Batch: 1013. Min loss: 2.82025. Estimated time left: 0:55:26. Best: 350 batches ago."
     ]
    },
    {
     "name": "stdout",
     "output_type": "stream",
     "text": [
      "\r",
      "Epoch: 1. Batch: 1014. Min loss: 2.82025. Estimated time left: 0:59:21. Best: 351 batches ago.\r",
      "Epoch: 1. Batch: 1015. Min loss: 2.82025. Estimated time left: 0:58:47. Best: 352 batches ago."
     ]
    },
    {
     "name": "stdout",
     "output_type": "stream",
     "text": [
      "\r",
      "Epoch: 1. Batch: 1016. Min loss: 2.82025. Estimated time left: 0:55:29. Best: 353 batches ago.\r",
      "Epoch: 1. Batch: 1017. Min loss: 2.82025. Estimated time left: 0:54:40. Best: 354 batches ago."
     ]
    },
    {
     "name": "stdout",
     "output_type": "stream",
     "text": [
      "\r",
      "Epoch: 1. Batch: 1018. Min loss: 2.82025. Estimated time left: 0:55:50. Best: 355 batches ago.\r",
      "Epoch: 1. Batch: 1019. Min loss: 2.82025. Estimated time left: 0:54:57. Best: 356 batches ago."
     ]
    },
    {
     "name": "stdout",
     "output_type": "stream",
     "text": [
      "\r",
      "Epoch: 1. Batch: 1020. Min loss: 2.82025. Estimated time left: 0:57:56. Best: 357 batches ago.\r",
      "Epoch: 1. Batch: 1021. Min loss: 2.82025. Estimated time left: 0:54:04. Best: 358 batches ago."
     ]
    },
    {
     "name": "stdout",
     "output_type": "stream",
     "text": [
      "\r",
      "Epoch: 1. Batch: 1022. Min loss: 2.82025. Estimated time left: 0:55:09. Best: 359 batches ago.\r",
      "Epoch: 1. Batch: 1023. Min loss: 2.82025. Estimated time left: 0:58:10. Best: 360 batches ago."
     ]
    },
    {
     "name": "stdout",
     "output_type": "stream",
     "text": [
      "\r",
      "Epoch: 1. Batch: 1024. Min loss: 2.82025. Estimated time left: 0:57:10. Best: 361 batches ago.\r",
      "Epoch: 1. Batch: 1025. Min loss: 2.82025. Estimated time left: 0:53:54. Best: 362 batches ago."
     ]
    },
    {
     "name": "stdout",
     "output_type": "stream",
     "text": [
      "\r",
      "Epoch: 1. Batch: 1026. Min loss: 2.82025. Estimated time left: 0:56:48. Best: 363 batches ago.\r",
      "Epoch: 1. Batch: 1027. Min loss: 2.82025. Estimated time left: 0:58:38. Best: 364 batches ago."
     ]
    },
    {
     "name": "stdout",
     "output_type": "stream",
     "text": [
      "\r",
      "Epoch: 1. Batch: 1028. Min loss: 2.82025. Estimated time left: 0:56:15. Best: 365 batches ago.\r",
      "Epoch: 1. Batch: 1029. Min loss: 2.82025. Estimated time left: 0:56:59. Best: 366 batches ago."
     ]
    },
    {
     "name": "stdout",
     "output_type": "stream",
     "text": [
      "\r",
      "Epoch: 1. Batch: 1030. Min loss: 2.82025. Estimated time left: 0:57:13. Best: 367 batches ago.\r",
      "Epoch: 1. Batch: 1031. Min loss: 2.82025. Estimated time left: 0:55:29. Best: 368 batches ago."
     ]
    },
    {
     "name": "stdout",
     "output_type": "stream",
     "text": [
      "\r",
      "Epoch: 1. Batch: 1032. Min loss: 2.82025. Estimated time left: 0:58:20. Best: 369 batches ago.\r",
      "Epoch: 1. Batch: 1033. Min loss: 2.82025. Estimated time left: 0:58:36. Best: 370 batches ago."
     ]
    },
    {
     "name": "stdout",
     "output_type": "stream",
     "text": [
      "\r",
      "Epoch: 1. Batch: 1034. Min loss: 2.82025. Estimated time left: 0:55:25. Best: 371 batches ago.\r",
      "Epoch: 1. Batch: 1035. Min loss: 2.82025. Estimated time left: 0:57:57. Best: 372 batches ago."
     ]
    },
    {
     "name": "stdout",
     "output_type": "stream",
     "text": [
      "\r",
      "Epoch: 1. Batch: 1036. Min loss: 2.82025. Estimated time left: 0:57:19. Best: 373 batches ago.\r",
      "Epoch: 1. Batch: 1037. Min loss: 2.82025. Estimated time left: 0:51:23. Best: 374 batches ago."
     ]
    },
    {
     "name": "stdout",
     "output_type": "stream",
     "text": [
      "\r",
      "Epoch: 1. Batch: 1038. Min loss: 2.82025. Estimated time left: 0:56:51. Best: 375 batches ago.\r",
      "Epoch: 1. Batch: 1039. Min loss: 2.82025. Estimated time left: 0:57:54. Best: 376 batches ago."
     ]
    },
    {
     "name": "stdout",
     "output_type": "stream",
     "text": [
      "\r",
      "Epoch: 1. Batch: 1040. Min loss: 2.82025. Estimated time left: 0:56:20. Best: 377 batches ago.\r",
      "Epoch: 1. Batch: 1041. Min loss: 2.82025. Estimated time left: 0:59:51. Best: 378 batches ago."
     ]
    },
    {
     "name": "stdout",
     "output_type": "stream",
     "text": [
      "\r",
      "Epoch: 1. Batch: 1042. Min loss: 2.82025. Estimated time left: 0:57:34. Best: 379 batches ago.\r",
      "Epoch: 1. Batch: 1043. Min loss: 2.82025. Estimated time left: 1:00:02. Best: 380 batches ago."
     ]
    },
    {
     "name": "stdout",
     "output_type": "stream",
     "text": [
      "\r",
      "Epoch: 1. Batch: 1044. Min loss: 2.82025. Estimated time left: 0:55:50. Best: 381 batches ago.\r",
      "Epoch: 1. Batch: 1045. Min loss: 2.82025. Estimated time left: 0:53:05. Best: 382 batches ago."
     ]
    },
    {
     "name": "stdout",
     "output_type": "stream",
     "text": [
      "\r",
      "Epoch: 1. Batch: 1046. Min loss: 2.82025. Estimated time left: 1:01:17. Best: 383 batches ago.\r",
      "Epoch: 1. Batch: 1047. Min loss: 2.82025. Estimated time left: 0:58:21. Best: 384 batches ago."
     ]
    },
    {
     "name": "stdout",
     "output_type": "stream",
     "text": [
      "\r",
      "Epoch: 1. Batch: 1048. Min loss: 2.82025. Estimated time left: 0:54:26. Best: 385 batches ago.\r",
      "Epoch: 1. Batch: 1049. Min loss: 2.82025. Estimated time left: 0:52:47. Best: 386 batches ago."
     ]
    },
    {
     "name": "stdout",
     "output_type": "stream",
     "text": [
      "\r",
      "Epoch: 1. Batch: 1050. Min loss: 2.82025. Estimated time left: 0:58:34. Best: 387 batches ago.\r",
      "Epoch: 1. Batch: 1051. Min loss: 2.82025. Estimated time left: 0:54:44. Best: 388 batches ago."
     ]
    },
    {
     "name": "stdout",
     "output_type": "stream",
     "text": [
      "\r",
      "Epoch: 1. Batch: 1052. Min loss: 2.82025. Estimated time left: 0:55:50. Best: 389 batches ago.\r",
      "Epoch: 1. Batch: 1053. Min loss: 2.82025. Estimated time left: 0:58:55. Best: 390 batches ago."
     ]
    },
    {
     "name": "stdout",
     "output_type": "stream",
     "text": [
      "\r",
      "Epoch: 1. Batch: 1054. Min loss: 2.82025. Estimated time left: 0:54:19. Best: 391 batches ago.\r",
      "Epoch: 1. Batch: 1055. Min loss: 2.82025. Estimated time left: 0:59:30. Best: 392 batches ago."
     ]
    },
    {
     "name": "stdout",
     "output_type": "stream",
     "text": [
      "\r",
      "Epoch: 1. Batch: 1056. Min loss: 2.82025. Estimated time left: 0:59:59. Best: 393 batches ago.\r",
      "Epoch: 1. Batch: 1057. Min loss: 2.82025. Estimated time left: 0:56:38. Best: 394 batches ago."
     ]
    },
    {
     "name": "stdout",
     "output_type": "stream",
     "text": [
      "\r",
      "Epoch: 1. Batch: 1058. Min loss: 2.82025. Estimated time left: 0:57:11. Best: 395 batches ago.\r",
      "Epoch: 1. Batch: 1059. Min loss: 2.82025. Estimated time left: 0:53:59. Best: 396 batches ago."
     ]
    },
    {
     "name": "stdout",
     "output_type": "stream",
     "text": [
      "\r",
      "Epoch: 1. Batch: 1060. Min loss: 2.82025. Estimated time left: 0:54:33. Best: 397 batches ago.\r",
      "Epoch: 1. Batch: 1061. Min loss: 2.82025. Estimated time left: 0:56:08. Best: 398 batches ago."
     ]
    },
    {
     "name": "stdout",
     "output_type": "stream",
     "text": [
      "\r",
      "Epoch: 1. Batch: 1062. Min loss: 2.82025. Estimated time left: 0:58:04. Best: 399 batches ago.\r",
      "Epoch: 1. Batch: 1063. Min loss: 2.82025. Estimated time left: 0:59:57. Best: 400 batches ago."
     ]
    },
    {
     "name": "stdout",
     "output_type": "stream",
     "text": [
      "\r",
      "Epoch: 1. Batch: 1064. Min loss: 2.82025. Estimated time left: 0:55:21. Best: 401 batches ago.\r",
      "Epoch: 1. Batch: 1065. Min loss: 2.82025. Estimated time left: 0:58:08. Best: 402 batches ago."
     ]
    },
    {
     "name": "stdout",
     "output_type": "stream",
     "text": [
      "\r",
      "Epoch: 1. Batch: 1066. Min loss: 2.81378. Estimated time left: 0:52:44. Best: 0 batches ago.\r",
      "Epoch: 1. Batch: 1067. Min loss: 2.81378. Estimated time left: 0:52:25. Best: 1 batches ago."
     ]
    },
    {
     "name": "stdout",
     "output_type": "stream",
     "text": [
      "\r",
      "Epoch: 1. Batch: 1068. Min loss: 2.81378. Estimated time left: 0:56:03. Best: 2 batches ago.\r",
      "Epoch: 1. Batch: 1069. Min loss: 2.81378. Estimated time left: 0:54:16. Best: 3 batches ago."
     ]
    },
    {
     "name": "stdout",
     "output_type": "stream",
     "text": [
      "\r",
      "Epoch: 1. Batch: 1070. Min loss: 2.81378. Estimated time left: 0:52:41. Best: 4 batches ago.\r",
      "Epoch: 1. Batch: 1071. Min loss: 2.81378. Estimated time left: 0:53:16. Best: 5 batches ago."
     ]
    },
    {
     "name": "stdout",
     "output_type": "stream",
     "text": [
      "\r",
      "Epoch: 1. Batch: 1072. Min loss: 2.81378. Estimated time left: 0:52:55. Best: 6 batches ago.\r",
      "Epoch: 1. Batch: 1073. Min loss: 2.81378. Estimated time left: 0:57:01. Best: 7 batches ago."
     ]
    },
    {
     "name": "stdout",
     "output_type": "stream",
     "text": [
      "\r",
      "Epoch: 1. Batch: 1074. Min loss: 2.81378. Estimated time left: 0:55:39. Best: 8 batches ago.\r",
      "Epoch: 1. Batch: 1075. Min loss: 2.81378. Estimated time left: 0:52:13. Best: 9 batches ago."
     ]
    },
    {
     "name": "stdout",
     "output_type": "stream",
     "text": [
      "\r",
      "Epoch: 1. Batch: 1076. Min loss: 2.81378. Estimated time left: 0:57:45. Best: 10 batches ago.\r",
      "Epoch: 1. Batch: 1077. Min loss: 2.81378. Estimated time left: 0:54:47. Best: 11 batches ago."
     ]
    },
    {
     "name": "stdout",
     "output_type": "stream",
     "text": [
      "\r",
      "Epoch: 1. Batch: 1078. Min loss: 2.81378. Estimated time left: 0:57:12. Best: 12 batches ago.\r",
      "Epoch: 1. Batch: 1079. Min loss: 2.81378. Estimated time left: 0:57:39. Best: 13 batches ago."
     ]
    },
    {
     "name": "stdout",
     "output_type": "stream",
     "text": [
      "\r",
      "Epoch: 1. Batch: 1080. Min loss: 2.81378. Estimated time left: 0:55:59. Best: 14 batches ago.\r",
      "Epoch: 1. Batch: 1081. Min loss: 2.81378. Estimated time left: 0:54:37. Best: 15 batches ago."
     ]
    },
    {
     "name": "stdout",
     "output_type": "stream",
     "text": [
      "\r",
      "Epoch: 1. Batch: 1082. Min loss: 2.81378. Estimated time left: 0:58:07. Best: 16 batches ago.\r",
      "Epoch: 1. Batch: 1083. Min loss: 2.81378. Estimated time left: 0:56:49. Best: 17 batches ago."
     ]
    },
    {
     "name": "stdout",
     "output_type": "stream",
     "text": [
      "\r",
      "Epoch: 1. Batch: 1084. Min loss: 2.81378. Estimated time left: 0:58:05. Best: 18 batches ago.\r",
      "Epoch: 1. Batch: 1085. Min loss: 2.81378. Estimated time left: 0:52:43. Best: 19 batches ago."
     ]
    },
    {
     "name": "stdout",
     "output_type": "stream",
     "text": [
      "\r",
      "Epoch: 1. Batch: 1086. Min loss: 2.81378. Estimated time left: 0:57:30. Best: 20 batches ago.\r",
      "Epoch: 1. Batch: 1087. Min loss: 2.81378. Estimated time left: 0:58:49. Best: 21 batches ago."
     ]
    },
    {
     "name": "stdout",
     "output_type": "stream",
     "text": [
      "\r",
      "Epoch: 1. Batch: 1088. Min loss: 2.81378. Estimated time left: 1:05:16. Best: 22 batches ago.\r",
      "Epoch: 1. Batch: 1089. Min loss: 2.81378. Estimated time left: 1:00:30. Best: 23 batches ago."
     ]
    },
    {
     "name": "stdout",
     "output_type": "stream",
     "text": [
      "\r",
      "Epoch: 1. Batch: 1090. Min loss: 2.81378. Estimated time left: 0:54:14. Best: 24 batches ago.\r",
      "Epoch: 1. Batch: 1091. Min loss: 2.81378. Estimated time left: 0:52:36. Best: 25 batches ago."
     ]
    },
    {
     "name": "stdout",
     "output_type": "stream",
     "text": [
      "\r",
      "Epoch: 1. Batch: 1092. Min loss: 2.81378. Estimated time left: 0:56:00. Best: 26 batches ago.\r",
      "Epoch: 1. Batch: 1093. Min loss: 2.81378. Estimated time left: 0:55:34. Best: 27 batches ago."
     ]
    },
    {
     "name": "stdout",
     "output_type": "stream",
     "text": [
      "\r",
      "Epoch: 1. Batch: 1094. Min loss: 2.81378. Estimated time left: 0:54:14. Best: 28 batches ago.\r",
      "Epoch: 1. Batch: 1095. Min loss: 2.81378. Estimated time left: 0:56:19. Best: 29 batches ago."
     ]
    },
    {
     "name": "stdout",
     "output_type": "stream",
     "text": [
      "\r",
      "Epoch: 1. Batch: 1096. Min loss: 2.81378. Estimated time left: 0:58:00. Best: 30 batches ago.\r",
      "Epoch: 1. Batch: 1097. Min loss: 2.81378. Estimated time left: 0:54:36. Best: 31 batches ago."
     ]
    },
    {
     "name": "stdout",
     "output_type": "stream",
     "text": [
      "\r",
      "Epoch: 1. Batch: 1098. Min loss: 2.81378. Estimated time left: 0:53:42. Best: 32 batches ago.\r",
      "Epoch: 1. Batch: 1099. Min loss: 2.81378. Estimated time left: 0:55:07. Best: 33 batches ago."
     ]
    },
    {
     "name": "stdout",
     "output_type": "stream",
     "text": [
      "\r",
      "Epoch: 1. Batch: 1100. Min loss: 2.81378. Estimated time left: 0:56:38. Best: 34 batches ago.\r",
      "Epoch: 1. Batch: 1101. Min loss: 2.81378. Estimated time left: 0:57:45. Best: 35 batches ago."
     ]
    },
    {
     "name": "stdout",
     "output_type": "stream",
     "text": [
      "\r",
      "Epoch: 1. Batch: 1102. Min loss: 2.81378. Estimated time left: 0:59:02. Best: 36 batches ago.\r",
      "Epoch: 1. Batch: 1103. Min loss: 2.81378. Estimated time left: 0:55:46. Best: 37 batches ago."
     ]
    },
    {
     "name": "stdout",
     "output_type": "stream",
     "text": [
      "\r",
      "Epoch: 1. Batch: 1104. Min loss: 2.81378. Estimated time left: 0:56:46. Best: 38 batches ago.\r",
      "Epoch: 1. Batch: 1105. Min loss: 2.81378. Estimated time left: 0:58:52. Best: 39 batches ago."
     ]
    },
    {
     "name": "stdout",
     "output_type": "stream",
     "text": [
      "\r",
      "Epoch: 1. Batch: 1106. Min loss: 2.81378. Estimated time left: 0:57:29. Best: 40 batches ago.\r",
      "Epoch: 1. Batch: 1107. Min loss: 2.81378. Estimated time left: 0:54:07. Best: 41 batches ago."
     ]
    },
    {
     "name": "stdout",
     "output_type": "stream",
     "text": [
      "\r",
      "Epoch: 1. Batch: 1108. Min loss: 2.81378. Estimated time left: 0:56:28. Best: 42 batches ago.\r",
      "Epoch: 1. Batch: 1109. Min loss: 2.81378. Estimated time left: 0:53:54. Best: 43 batches ago."
     ]
    },
    {
     "name": "stdout",
     "output_type": "stream",
     "text": [
      "\r",
      "Epoch: 1. Batch: 1110. Min loss: 2.81378. Estimated time left: 1:01:04. Best: 44 batches ago.\r",
      "Epoch: 1. Batch: 1111. Min loss: 2.81378. Estimated time left: 0:58:14. Best: 45 batches ago."
     ]
    },
    {
     "name": "stdout",
     "output_type": "stream",
     "text": [
      "\r",
      "Epoch: 1. Batch: 1112. Min loss: 2.81378. Estimated time left: 0:52:33. Best: 46 batches ago.\r",
      "Epoch: 1. Batch: 1113. Min loss: 2.81378. Estimated time left: 0:55:28. Best: 47 batches ago."
     ]
    },
    {
     "name": "stdout",
     "output_type": "stream",
     "text": [
      "\r",
      "Epoch: 1. Batch: 1114. Min loss: 2.81378. Estimated time left: 0:57:55. Best: 48 batches ago.\r",
      "Epoch: 1. Batch: 1115. Min loss: 2.81378. Estimated time left: 0:57:30. Best: 49 batches ago."
     ]
    },
    {
     "name": "stdout",
     "output_type": "stream",
     "text": [
      "\r",
      "Epoch: 1. Batch: 1116. Min loss: 2.81378. Estimated time left: 0:58:35. Best: 50 batches ago.\r",
      "Epoch: 1. Batch: 1117. Min loss: 2.81378. Estimated time left: 0:57:29. Best: 51 batches ago."
     ]
    },
    {
     "name": "stdout",
     "output_type": "stream",
     "text": [
      "\r",
      "Epoch: 1. Batch: 1118. Min loss: 2.81378. Estimated time left: 0:54:08. Best: 52 batches ago.\r",
      "Epoch: 1. Batch: 1119. Min loss: 2.81378. Estimated time left: 0:57:24. Best: 53 batches ago."
     ]
    },
    {
     "name": "stdout",
     "output_type": "stream",
     "text": [
      "\r",
      "Epoch: 1. Batch: 1120. Min loss: 2.81378. Estimated time left: 0:54:39. Best: 54 batches ago.\r",
      "Epoch: 1. Batch: 1121. Min loss: 2.81378. Estimated time left: 0:56:32. Best: 55 batches ago."
     ]
    },
    {
     "name": "stdout",
     "output_type": "stream",
     "text": [
      "\r",
      "Epoch: 1. Batch: 1122. Min loss: 2.81378. Estimated time left: 0:54:08. Best: 56 batches ago.\r",
      "Epoch: 1. Batch: 1123. Min loss: 2.81378. Estimated time left: 0:57:45. Best: 57 batches ago."
     ]
    },
    {
     "name": "stdout",
     "output_type": "stream",
     "text": [
      "\r",
      "Epoch: 1. Batch: 1124. Min loss: 2.81378. Estimated time left: 0:54:56. Best: 58 batches ago.\r",
      "Epoch: 1. Batch: 1125. Min loss: 2.81378. Estimated time left: 0:57:46. Best: 59 batches ago."
     ]
    },
    {
     "name": "stdout",
     "output_type": "stream",
     "text": [
      "\r",
      "Epoch: 1. Batch: 1126. Min loss: 2.81378. Estimated time left: 0:52:42. Best: 60 batches ago.\r",
      "Epoch: 1. Batch: 1127. Min loss: 2.81378. Estimated time left: 0:56:09. Best: 61 batches ago."
     ]
    },
    {
     "name": "stdout",
     "output_type": "stream",
     "text": [
      "\r",
      "Epoch: 1. Batch: 1128. Min loss: 2.81378. Estimated time left: 1:00:41. Best: 62 batches ago."
     ]
    },
    {
     "name": "stdout",
     "output_type": "stream",
     "text": [
      "\r",
      "Epoch: 1. Batch: 1129. Min loss: 2.81378. Estimated time left: 1:20:19. Best: 63 batches ago.\r",
      "Epoch: 1. Batch: 1130. Min loss: 2.81378. Estimated time left: 0:56:44. Best: 64 batches ago."
     ]
    },
    {
     "name": "stdout",
     "output_type": "stream",
     "text": [
      "\r",
      "Epoch: 1. Batch: 1131. Min loss: 2.81378. Estimated time left: 0:56:56. Best: 65 batches ago.\r",
      "Epoch: 1. Batch: 1132. Min loss: 2.81378. Estimated time left: 1:01:12. Best: 66 batches ago."
     ]
    },
    {
     "name": "stdout",
     "output_type": "stream",
     "text": [
      "\r",
      "Epoch: 1. Batch: 1133. Min loss: 2.81378. Estimated time left: 0:59:06. Best: 67 batches ago.\r",
      "Epoch: 1. Batch: 1134. Min loss: 2.81378. Estimated time left: 0:57:58. Best: 68 batches ago."
     ]
    },
    {
     "name": "stdout",
     "output_type": "stream",
     "text": [
      "\r",
      "Epoch: 1. Batch: 1135. Min loss: 2.81378. Estimated time left: 0:57:23. Best: 69 batches ago.\r",
      "Epoch: 1. Batch: 1136. Min loss: 2.81378. Estimated time left: 0:55:13. Best: 70 batches ago."
     ]
    },
    {
     "name": "stdout",
     "output_type": "stream",
     "text": [
      "\r",
      "Epoch: 1. Batch: 1137. Min loss: 2.81378. Estimated time left: 1:12:28. Best: 71 batches ago.\r",
      "Epoch: 1. Batch: 1138. Min loss: 2.81378. Estimated time left: 0:57:39. Best: 72 batches ago."
     ]
    },
    {
     "name": "stdout",
     "output_type": "stream",
     "text": [
      "\r",
      "Epoch: 1. Batch: 1139. Min loss: 2.81378. Estimated time left: 1:00:13. Best: 73 batches ago.\r",
      "Epoch: 1. Batch: 1140. Min loss: 2.81378. Estimated time left: 0:54:01. Best: 74 batches ago."
     ]
    },
    {
     "name": "stdout",
     "output_type": "stream",
     "text": [
      "\r",
      "Epoch: 1. Batch: 1141. Min loss: 2.81378. Estimated time left: 0:56:07. Best: 75 batches ago.\r",
      "Epoch: 1. Batch: 1142. Min loss: 2.81378. Estimated time left: 0:56:04. Best: 76 batches ago."
     ]
    },
    {
     "name": "stdout",
     "output_type": "stream",
     "text": [
      "\r",
      "Epoch: 1. Batch: 1143. Min loss: 2.81378. Estimated time left: 0:52:31. Best: 77 batches ago.\r",
      "Epoch: 1. Batch: 1144. Min loss: 2.81378. Estimated time left: 0:57:13. Best: 78 batches ago."
     ]
    },
    {
     "name": "stdout",
     "output_type": "stream",
     "text": [
      "\r",
      "Epoch: 1. Batch: 1145. Min loss: 2.81378. Estimated time left: 0:56:20. Best: 79 batches ago.\r",
      "Epoch: 1. Batch: 1146. Min loss: 2.81378. Estimated time left: 0:57:19. Best: 80 batches ago."
     ]
    },
    {
     "name": "stdout",
     "output_type": "stream",
     "text": [
      "\r",
      "Epoch: 1. Batch: 1147. Min loss: 2.81378. Estimated time left: 1:01:55. Best: 81 batches ago.\r",
      "Epoch: 1. Batch: 1148. Min loss: 2.81378. Estimated time left: 0:58:54. Best: 82 batches ago."
     ]
    },
    {
     "name": "stdout",
     "output_type": "stream",
     "text": [
      "\r",
      "Epoch: 1. Batch: 1149. Min loss: 2.81378. Estimated time left: 0:57:39. Best: 83 batches ago.\r",
      "Epoch: 1. Batch: 1150. Min loss: 2.81378. Estimated time left: 0:55:55. Best: 84 batches ago."
     ]
    },
    {
     "name": "stdout",
     "output_type": "stream",
     "text": [
      "\r",
      "Epoch: 1. Batch: 1151. Min loss: 2.81378. Estimated time left: 0:58:51. Best: 85 batches ago.\r",
      "Epoch: 1. Batch: 1152. Min loss: 2.81378. Estimated time left: 0:57:49. Best: 86 batches ago."
     ]
    },
    {
     "name": "stdout",
     "output_type": "stream",
     "text": [
      "\r",
      "Epoch: 1. Batch: 1153. Min loss: 2.81378. Estimated time left: 0:58:35. Best: 87 batches ago.\r",
      "Epoch: 1. Batch: 1154. Min loss: 2.81378. Estimated time left: 0:55:31. Best: 88 batches ago."
     ]
    },
    {
     "name": "stdout",
     "output_type": "stream",
     "text": [
      "\r",
      "Epoch: 2. Batch: 1. Min loss: 2.81378. Estimated time left: 0:47:57. Best: 89 batches ago.\n",
      "Input:\t torch.Size([500, 64])\n",
      "Labels:\t torch.Size([64, 500])\n",
      "Valid:\t tensor([395, 468, 154, 380, 395, 195, 343, 362, 301, 198, 304, 304, 140, 209,\n",
      "        210, 108, 246, 298, 147, 247, 182, 280, 456, 125, 130, 358, 362, 193,\n",
      "        266, 429, 330, 333, 118, 349, 132, 201, 220, 139, 285, 199, 210, 376,\n",
      "        352,  72, 418, 313, 193,  77,  88, 311, 485, 285, 305, 155, 304,  48,\n",
      "        486, 301, 120, 360, 470, 237, 371, 288], device='cuda:0')\n",
      "Output:\t torch.Size([17116, 23])\n",
      "Hidden:\t torch.Size([17116, 128])\n",
      "\r",
      "Epoch: 2. Batch: 2. Min loss: 2.81378. Estimated time left: 1:06:31. Best: 90 batches ago."
     ]
    },
    {
     "name": "stdout",
     "output_type": "stream",
     "text": [
      "\r",
      "Epoch: 2. Batch: 3. Min loss: 2.81378. Estimated time left: 0:58:03. Best: 91 batches ago.\r",
      "Epoch: 2. Batch: 4. Min loss: 2.81378. Estimated time left: 0:57:27. Best: 92 batches ago."
     ]
    },
    {
     "name": "stdout",
     "output_type": "stream",
     "text": [
      "\r",
      "Epoch: 2. Batch: 5. Min loss: 2.81378. Estimated time left: 0:57:17. Best: 93 batches ago.\r",
      "Epoch: 2. Batch: 6. Min loss: 2.81378. Estimated time left: 0:58:24. Best: 94 batches ago."
     ]
    },
    {
     "name": "stdout",
     "output_type": "stream",
     "text": [
      "\r",
      "Epoch: 2. Batch: 7. Min loss: 2.81378. Estimated time left: 0:59:16. Best: 95 batches ago.\r",
      "Epoch: 2. Batch: 8. Min loss: 2.81378. Estimated time left: 0:55:56. Best: 96 batches ago."
     ]
    },
    {
     "name": "stdout",
     "output_type": "stream",
     "text": [
      "\r",
      "Epoch: 2. Batch: 9. Min loss: 2.81378. Estimated time left: 0:59:40. Best: 97 batches ago.\r",
      "Epoch: 2. Batch: 10. Min loss: 2.81378. Estimated time left: 1:00:09. Best: 98 batches ago."
     ]
    },
    {
     "name": "stdout",
     "output_type": "stream",
     "text": [
      "\r",
      "Epoch: 2. Batch: 11. Min loss: 2.81378. Estimated time left: 0:57:20. Best: 99 batches ago.\r",
      "Epoch: 2. Batch: 12. Min loss: 2.81378. Estimated time left: 0:54:16. Best: 100 batches ago."
     ]
    },
    {
     "name": "stdout",
     "output_type": "stream",
     "text": [
      "\r",
      "Epoch: 2. Batch: 13. Min loss: 2.81378. Estimated time left: 0:55:55. Best: 101 batches ago.\r",
      "Epoch: 2. Batch: 14. Min loss: 2.81378. Estimated time left: 0:55:41. Best: 102 batches ago."
     ]
    },
    {
     "name": "stdout",
     "output_type": "stream",
     "text": [
      "\r",
      "Epoch: 2. Batch: 15. Min loss: 2.81378. Estimated time left: 0:57:06. Best: 103 batches ago.\r",
      "Epoch: 2. Batch: 16. Min loss: 2.81378. Estimated time left: 0:57:58. Best: 104 batches ago."
     ]
    },
    {
     "name": "stdout",
     "output_type": "stream",
     "text": [
      "\r",
      "Epoch: 2. Batch: 17. Min loss: 2.81378. Estimated time left: 0:54:48. Best: 105 batches ago.\r",
      "Epoch: 2. Batch: 18. Min loss: 2.81378. Estimated time left: 0:57:14. Best: 106 batches ago."
     ]
    },
    {
     "name": "stdout",
     "output_type": "stream",
     "text": [
      "\r",
      "Epoch: 2. Batch: 19. Min loss: 2.81378. Estimated time left: 1:00:21. Best: 107 batches ago.\r",
      "Epoch: 2. Batch: 20. Min loss: 2.81378. Estimated time left: 0:56:00. Best: 108 batches ago."
     ]
    },
    {
     "name": "stdout",
     "output_type": "stream",
     "text": [
      "\r",
      "Epoch: 2. Batch: 21. Min loss: 2.81378. Estimated time left: 1:01:06. Best: 109 batches ago.\r",
      "Epoch: 2. Batch: 22. Min loss: 2.81378. Estimated time left: 0:55:58. Best: 110 batches ago."
     ]
    },
    {
     "name": "stdout",
     "output_type": "stream",
     "text": [
      "\r",
      "Epoch: 2. Batch: 23. Min loss: 2.81378. Estimated time left: 0:55:44. Best: 111 batches ago.\r",
      "Epoch: 2. Batch: 24. Min loss: 2.81378. Estimated time left: 0:53:58. Best: 112 batches ago."
     ]
    },
    {
     "name": "stdout",
     "output_type": "stream",
     "text": [
      "\r",
      "Epoch: 2. Batch: 25. Min loss: 2.81378. Estimated time left: 0:56:23. Best: 113 batches ago.\r",
      "Epoch: 2. Batch: 26. Min loss: 2.81378. Estimated time left: 0:55:18. Best: 114 batches ago."
     ]
    },
    {
     "name": "stdout",
     "output_type": "stream",
     "text": [
      "\r",
      "Epoch: 2. Batch: 27. Min loss: 2.81378. Estimated time left: 0:57:03. Best: 115 batches ago.\r",
      "Epoch: 2. Batch: 28. Min loss: 2.81378. Estimated time left: 0:57:50. Best: 116 batches ago."
     ]
    },
    {
     "name": "stdout",
     "output_type": "stream",
     "text": [
      "\r",
      "Epoch: 2. Batch: 29. Min loss: 2.81378. Estimated time left: 0:54:43. Best: 117 batches ago.\r",
      "Epoch: 2. Batch: 30. Min loss: 2.81378. Estimated time left: 0:53:45. Best: 118 batches ago."
     ]
    },
    {
     "name": "stdout",
     "output_type": "stream",
     "text": [
      "\r",
      "Epoch: 2. Batch: 31. Min loss: 2.81378. Estimated time left: 0:56:57. Best: 119 batches ago.\r",
      "Epoch: 2. Batch: 32. Min loss: 2.81378. Estimated time left: 0:57:00. Best: 120 batches ago."
     ]
    },
    {
     "name": "stdout",
     "output_type": "stream",
     "text": [
      "\r",
      "Epoch: 2. Batch: 33. Min loss: 2.81378. Estimated time left: 0:57:59. Best: 121 batches ago.\r",
      "Epoch: 2. Batch: 34. Min loss: 2.81378. Estimated time left: 0:59:26. Best: 122 batches ago."
     ]
    },
    {
     "name": "stdout",
     "output_type": "stream",
     "text": [
      "\r",
      "Epoch: 2. Batch: 35. Min loss: 2.81378. Estimated time left: 0:59:20. Best: 123 batches ago.\r",
      "Epoch: 2. Batch: 36. Min loss: 2.81378. Estimated time left: 0:55:01. Best: 124 batches ago."
     ]
    },
    {
     "name": "stdout",
     "output_type": "stream",
     "text": [
      "\r",
      "Epoch: 2. Batch: 37. Min loss: 2.81378. Estimated time left: 0:58:42. Best: 125 batches ago.\r",
      "Epoch: 2. Batch: 38. Min loss: 2.81378. Estimated time left: 0:57:17. Best: 126 batches ago."
     ]
    },
    {
     "name": "stdout",
     "output_type": "stream",
     "text": [
      "\r",
      "Epoch: 2. Batch: 39. Min loss: 2.81378. Estimated time left: 0:57:18. Best: 127 batches ago.\r",
      "Epoch: 2. Batch: 40. Min loss: 2.81378. Estimated time left: 0:58:04. Best: 128 batches ago."
     ]
    },
    {
     "name": "stdout",
     "output_type": "stream",
     "text": [
      "\r",
      "Epoch: 2. Batch: 41. Min loss: 2.81378. Estimated time left: 0:58:17. Best: 129 batches ago.\r",
      "Epoch: 2. Batch: 42. Min loss: 2.81378. Estimated time left: 0:55:10. Best: 130 batches ago."
     ]
    },
    {
     "name": "stdout",
     "output_type": "stream",
     "text": [
      "\r",
      "Epoch: 2. Batch: 43. Min loss: 2.81378. Estimated time left: 0:54:49. Best: 131 batches ago.\r",
      "Epoch: 2. Batch: 44. Min loss: 2.81378. Estimated time left: 0:58:01. Best: 132 batches ago."
     ]
    },
    {
     "name": "stdout",
     "output_type": "stream",
     "text": [
      "\r",
      "Epoch: 2. Batch: 45. Min loss: 2.81378. Estimated time left: 0:59:44. Best: 133 batches ago.\r",
      "Epoch: 2. Batch: 46. Min loss: 2.81378. Estimated time left: 0:58:26. Best: 134 batches ago."
     ]
    },
    {
     "name": "stdout",
     "output_type": "stream",
     "text": [
      "\r",
      "Epoch: 2. Batch: 47. Min loss: 2.81378. Estimated time left: 0:55:23. Best: 135 batches ago.\r",
      "Epoch: 2. Batch: 48. Min loss: 2.81378. Estimated time left: 0:57:01. Best: 136 batches ago."
     ]
    },
    {
     "name": "stdout",
     "output_type": "stream",
     "text": [
      "\r",
      "Epoch: 2. Batch: 49. Min loss: 2.81378. Estimated time left: 0:57:50. Best: 137 batches ago.\r",
      "Epoch: 2. Batch: 50. Min loss: 2.81378. Estimated time left: 0:57:31. Best: 138 batches ago."
     ]
    },
    {
     "name": "stdout",
     "output_type": "stream",
     "text": [
      "\r",
      "Epoch: 2. Batch: 51. Min loss: 2.81378. Estimated time left: 0:54:39. Best: 139 batches ago.\r",
      "Epoch: 2. Batch: 52. Min loss: 2.81378. Estimated time left: 0:57:11. Best: 140 batches ago."
     ]
    },
    {
     "name": "stdout",
     "output_type": "stream",
     "text": [
      "\r",
      "Epoch: 2. Batch: 53. Min loss: 2.81378. Estimated time left: 0:56:30. Best: 141 batches ago.\r",
      "Epoch: 2. Batch: 54. Min loss: 2.81378. Estimated time left: 0:54:41. Best: 142 batches ago."
     ]
    },
    {
     "name": "stdout",
     "output_type": "stream",
     "text": [
      "\r",
      "Epoch: 2. Batch: 55. Min loss: 2.81378. Estimated time left: 0:56:42. Best: 143 batches ago.\r",
      "Epoch: 2. Batch: 56. Min loss: 2.81378. Estimated time left: 0:55:25. Best: 144 batches ago."
     ]
    },
    {
     "name": "stdout",
     "output_type": "stream",
     "text": [
      "\r",
      "Epoch: 2. Batch: 57. Min loss: 2.81378. Estimated time left: 0:54:14. Best: 145 batches ago.\r",
      "Epoch: 2. Batch: 58. Min loss: 2.81378. Estimated time left: 0:52:31. Best: 146 batches ago."
     ]
    },
    {
     "name": "stdout",
     "output_type": "stream",
     "text": [
      "\r",
      "Epoch: 2. Batch: 59. Min loss: 2.81378. Estimated time left: 0:55:47. Best: 147 batches ago.\r",
      "Epoch: 2. Batch: 60. Min loss: 2.81378. Estimated time left: 0:56:54. Best: 148 batches ago."
     ]
    },
    {
     "name": "stdout",
     "output_type": "stream",
     "text": [
      "\r",
      "Epoch: 2. Batch: 61. Min loss: 2.81220. Estimated time left: 0:57:03. Best: 0 batches ago.\r",
      "Epoch: 2. Batch: 62. Min loss: 2.81220. Estimated time left: 0:50:58. Best: 1 batches ago."
     ]
    },
    {
     "name": "stdout",
     "output_type": "stream",
     "text": [
      "\r",
      "Epoch: 2. Batch: 63. Min loss: 2.81220. Estimated time left: 1:00:11. Best: 2 batches ago.\r",
      "Epoch: 2. Batch: 64. Min loss: 2.81220. Estimated time left: 0:52:58. Best: 3 batches ago."
     ]
    },
    {
     "name": "stdout",
     "output_type": "stream",
     "text": [
      "\r",
      "Epoch: 2. Batch: 65. Min loss: 2.81220. Estimated time left: 0:55:30. Best: 4 batches ago.\r",
      "Epoch: 2. Batch: 66. Min loss: 2.81220. Estimated time left: 0:58:18. Best: 5 batches ago."
     ]
    },
    {
     "name": "stdout",
     "output_type": "stream",
     "text": [
      "\r",
      "Epoch: 2. Batch: 67. Min loss: 2.81220. Estimated time left: 0:59:19. Best: 6 batches ago.\r",
      "Epoch: 2. Batch: 68. Min loss: 2.81220. Estimated time left: 0:50:56. Best: 7 batches ago."
     ]
    },
    {
     "name": "stdout",
     "output_type": "stream",
     "text": [
      "\r",
      "Epoch: 2. Batch: 69. Min loss: 2.81220. Estimated time left: 0:54:43. Best: 8 batches ago.\r",
      "Epoch: 2. Batch: 70. Min loss: 2.81220. Estimated time left: 0:58:09. Best: 9 batches ago."
     ]
    },
    {
     "name": "stdout",
     "output_type": "stream",
     "text": [
      "\r",
      "Epoch: 2. Batch: 71. Min loss: 2.81220. Estimated time left: 0:59:55. Best: 10 batches ago.\r",
      "Epoch: 2. Batch: 72. Min loss: 2.81220. Estimated time left: 1:00:16. Best: 11 batches ago."
     ]
    },
    {
     "name": "stdout",
     "output_type": "stream",
     "text": [
      "\r",
      "Epoch: 2. Batch: 73. Min loss: 2.81220. Estimated time left: 1:00:16. Best: 12 batches ago.\r",
      "Epoch: 2. Batch: 74. Min loss: 2.81220. Estimated time left: 0:52:53. Best: 13 batches ago."
     ]
    },
    {
     "name": "stdout",
     "output_type": "stream",
     "text": [
      "\r",
      "Epoch: 2. Batch: 75. Min loss: 2.81220. Estimated time left: 0:53:35. Best: 14 batches ago.\r",
      "Epoch: 2. Batch: 76. Min loss: 2.81220. Estimated time left: 0:54:19. Best: 15 batches ago."
     ]
    },
    {
     "name": "stdout",
     "output_type": "stream",
     "text": [
      "\r",
      "Epoch: 2. Batch: 77. Min loss: 2.81220. Estimated time left: 0:59:08. Best: 16 batches ago.\r",
      "Epoch: 2. Batch: 78. Min loss: 2.81220. Estimated time left: 0:55:04. Best: 17 batches ago."
     ]
    },
    {
     "name": "stdout",
     "output_type": "stream",
     "text": [
      "\r",
      "Epoch: 2. Batch: 79. Min loss: 2.81220. Estimated time left: 0:58:15. Best: 18 batches ago.\r",
      "Epoch: 2. Batch: 80. Min loss: 2.81220. Estimated time left: 0:55:23. Best: 19 batches ago."
     ]
    },
    {
     "name": "stdout",
     "output_type": "stream",
     "text": [
      "\r",
      "Epoch: 2. Batch: 81. Min loss: 2.81220. Estimated time left: 0:58:07. Best: 20 batches ago.\r",
      "Epoch: 2. Batch: 82. Min loss: 2.81220. Estimated time left: 0:57:47. Best: 21 batches ago."
     ]
    },
    {
     "name": "stdout",
     "output_type": "stream",
     "text": [
      "\r",
      "Epoch: 2. Batch: 83. Min loss: 2.81220. Estimated time left: 0:57:20. Best: 22 batches ago.\r",
      "Epoch: 2. Batch: 84. Min loss: 2.81220. Estimated time left: 0:55:30. Best: 23 batches ago."
     ]
    },
    {
     "name": "stdout",
     "output_type": "stream",
     "text": [
      "\r",
      "Epoch: 2. Batch: 85. Min loss: 2.81220. Estimated time left: 0:58:35. Best: 24 batches ago.\r",
      "Epoch: 2. Batch: 86. Min loss: 2.81220. Estimated time left: 0:56:46. Best: 25 batches ago."
     ]
    },
    {
     "name": "stdout",
     "output_type": "stream",
     "text": [
      "\r",
      "Epoch: 2. Batch: 87. Min loss: 2.81220. Estimated time left: 0:55:56. Best: 26 batches ago.\r",
      "Epoch: 2. Batch: 88. Min loss: 2.81220. Estimated time left: 0:55:06. Best: 27 batches ago."
     ]
    },
    {
     "name": "stdout",
     "output_type": "stream",
     "text": [
      "\r",
      "Epoch: 2. Batch: 89. Min loss: 2.81220. Estimated time left: 0:55:07. Best: 28 batches ago.\r",
      "Epoch: 2. Batch: 90. Min loss: 2.81220. Estimated time left: 0:56:09. Best: 29 batches ago."
     ]
    },
    {
     "name": "stdout",
     "output_type": "stream",
     "text": [
      "\r",
      "Epoch: 2. Batch: 91. Min loss: 2.81220. Estimated time left: 1:00:41. Best: 30 batches ago.\r",
      "Epoch: 2. Batch: 92. Min loss: 2.81220. Estimated time left: 0:53:50. Best: 31 batches ago."
     ]
    },
    {
     "name": "stdout",
     "output_type": "stream",
     "text": [
      "\r",
      "Epoch: 2. Batch: 93. Min loss: 2.81220. Estimated time left: 0:59:18. Best: 32 batches ago.\r",
      "Epoch: 2. Batch: 94. Min loss: 2.81220. Estimated time left: 0:56:39. Best: 33 batches ago."
     ]
    },
    {
     "name": "stdout",
     "output_type": "stream",
     "text": [
      "\r",
      "Epoch: 2. Batch: 95. Min loss: 2.81220. Estimated time left: 0:57:04. Best: 34 batches ago.\r",
      "Epoch: 2. Batch: 96. Min loss: 2.81220. Estimated time left: 0:55:10. Best: 35 batches ago."
     ]
    },
    {
     "name": "stdout",
     "output_type": "stream",
     "text": [
      "\r",
      "Epoch: 2. Batch: 97. Min loss: 2.81220. Estimated time left: 0:57:25. Best: 36 batches ago.\r",
      "Epoch: 2. Batch: 98. Min loss: 2.81220. Estimated time left: 0:53:17. Best: 37 batches ago."
     ]
    },
    {
     "name": "stdout",
     "output_type": "stream",
     "text": [
      "\r",
      "Epoch: 2. Batch: 99. Min loss: 2.81220. Estimated time left: 0:55:51. Best: 38 batches ago.\r",
      "Epoch: 2. Batch: 100. Min loss: 2.81220. Estimated time left: 0:56:10. Best: 39 batches ago."
     ]
    },
    {
     "name": "stdout",
     "output_type": "stream",
     "text": [
      "\r",
      "Epoch: 2. Batch: 101. Min loss: 2.81220. Estimated time left: 0:58:11. Best: 40 batches ago.\r",
      "Epoch: 2. Batch: 102. Min loss: 2.81220. Estimated time left: 0:57:00. Best: 41 batches ago."
     ]
    },
    {
     "name": "stdout",
     "output_type": "stream",
     "text": [
      "\r",
      "Epoch: 2. Batch: 103. Min loss: 2.81220. Estimated time left: 0:58:59. Best: 42 batches ago.\r",
      "Epoch: 2. Batch: 104. Min loss: 2.81220. Estimated time left: 0:57:09. Best: 43 batches ago."
     ]
    },
    {
     "name": "stdout",
     "output_type": "stream",
     "text": [
      "\r",
      "Epoch: 2. Batch: 105. Min loss: 2.81220. Estimated time left: 0:54:46. Best: 44 batches ago.\r",
      "Epoch: 2. Batch: 106. Min loss: 2.81220. Estimated time left: 0:53:16. Best: 45 batches ago."
     ]
    },
    {
     "name": "stdout",
     "output_type": "stream",
     "text": [
      "\r",
      "Epoch: 2. Batch: 107. Min loss: 2.81220. Estimated time left: 0:58:11. Best: 46 batches ago.\r",
      "Epoch: 2. Batch: 108. Min loss: 2.81220. Estimated time left: 0:55:19. Best: 47 batches ago."
     ]
    },
    {
     "name": "stdout",
     "output_type": "stream",
     "text": [
      "\r",
      "Epoch: 2. Batch: 109. Min loss: 2.81220. Estimated time left: 0:54:33. Best: 48 batches ago.\r",
      "Epoch: 2. Batch: 110. Min loss: 2.81220. Estimated time left: 0:59:32. Best: 49 batches ago."
     ]
    },
    {
     "name": "stdout",
     "output_type": "stream",
     "text": [
      "\r",
      "Epoch: 2. Batch: 111. Min loss: 2.81220. Estimated time left: 0:56:44. Best: 50 batches ago.\r",
      "Epoch: 2. Batch: 112. Min loss: 2.81220. Estimated time left: 0:58:09. Best: 51 batches ago."
     ]
    },
    {
     "name": "stdout",
     "output_type": "stream",
     "text": [
      "\r",
      "Epoch: 2. Batch: 113. Min loss: 2.81220. Estimated time left: 0:56:08. Best: 52 batches ago.\r",
      "Epoch: 2. Batch: 114. Min loss: 2.81220. Estimated time left: 0:54:20. Best: 53 batches ago."
     ]
    },
    {
     "name": "stdout",
     "output_type": "stream",
     "text": [
      "\r",
      "Epoch: 2. Batch: 115. Min loss: 2.81220. Estimated time left: 0:56:44. Best: 54 batches ago.\r",
      "Epoch: 2. Batch: 116. Min loss: 2.81220. Estimated time left: 0:54:35. Best: 55 batches ago."
     ]
    },
    {
     "name": "stdout",
     "output_type": "stream",
     "text": [
      "\r",
      "Epoch: 2. Batch: 117. Min loss: 2.81220. Estimated time left: 1:00:21. Best: 56 batches ago.\r",
      "Epoch: 2. Batch: 118. Min loss: 2.81220. Estimated time left: 0:53:29. Best: 57 batches ago."
     ]
    },
    {
     "name": "stdout",
     "output_type": "stream",
     "text": [
      "\r",
      "Epoch: 2. Batch: 119. Min loss: 2.81220. Estimated time left: 0:53:34. Best: 58 batches ago.\r",
      "Epoch: 2. Batch: 120. Min loss: 2.81220. Estimated time left: 0:57:25. Best: 59 batches ago."
     ]
    },
    {
     "name": "stdout",
     "output_type": "stream",
     "text": [
      "\r",
      "Epoch: 2. Batch: 121. Min loss: 2.81220. Estimated time left: 0:58:05. Best: 60 batches ago.\r",
      "Epoch: 2. Batch: 122. Min loss: 2.81220. Estimated time left: 0:58:18. Best: 61 batches ago."
     ]
    },
    {
     "name": "stdout",
     "output_type": "stream",
     "text": [
      "\r",
      "Epoch: 2. Batch: 123. Min loss: 2.81220. Estimated time left: 0:55:26. Best: 62 batches ago.\r",
      "Epoch: 2. Batch: 124. Min loss: 2.81220. Estimated time left: 0:55:19. Best: 63 batches ago."
     ]
    },
    {
     "name": "stdout",
     "output_type": "stream",
     "text": [
      "\r",
      "Epoch: 2. Batch: 125. Min loss: 2.81220. Estimated time left: 0:54:06. Best: 64 batches ago.\r",
      "Epoch: 2. Batch: 126. Min loss: 2.81220. Estimated time left: 0:53:44. Best: 65 batches ago."
     ]
    },
    {
     "name": "stdout",
     "output_type": "stream",
     "text": [
      "\r",
      "Epoch: 2. Batch: 127. Min loss: 2.81220. Estimated time left: 0:57:42. Best: 66 batches ago.\r",
      "Epoch: 2. Batch: 128. Min loss: 2.81220. Estimated time left: 0:56:31. Best: 67 batches ago."
     ]
    },
    {
     "name": "stdout",
     "output_type": "stream",
     "text": [
      "\r",
      "Epoch: 2. Batch: 129. Min loss: 2.81220. Estimated time left: 0:54:15. Best: 68 batches ago.\r",
      "Epoch: 2. Batch: 130. Min loss: 2.81220. Estimated time left: 0:57:18. Best: 69 batches ago."
     ]
    },
    {
     "name": "stdout",
     "output_type": "stream",
     "text": [
      "\r",
      "Epoch: 2. Batch: 131. Min loss: 2.81220. Estimated time left: 0:57:10. Best: 70 batches ago.\r",
      "Epoch: 2. Batch: 132. Min loss: 2.81220. Estimated time left: 0:59:15. Best: 71 batches ago."
     ]
    },
    {
     "name": "stdout",
     "output_type": "stream",
     "text": [
      "\r",
      "Epoch: 2. Batch: 133. Min loss: 2.81220. Estimated time left: 0:59:42. Best: 72 batches ago.\r",
      "Epoch: 2. Batch: 134. Min loss: 2.81220. Estimated time left: 0:58:24. Best: 73 batches ago."
     ]
    },
    {
     "name": "stdout",
     "output_type": "stream",
     "text": [
      "\r",
      "Epoch: 2. Batch: 135. Min loss: 2.81220. Estimated time left: 0:58:00. Best: 74 batches ago.\r",
      "Epoch: 2. Batch: 136. Min loss: 2.81220. Estimated time left: 0:56:28. Best: 75 batches ago."
     ]
    },
    {
     "name": "stdout",
     "output_type": "stream",
     "text": [
      "\r",
      "Epoch: 2. Batch: 137. Min loss: 2.81220. Estimated time left: 0:57:39. Best: 76 batches ago.\r",
      "Epoch: 2. Batch: 138. Min loss: 2.81220. Estimated time left: 1:01:01. Best: 77 batches ago."
     ]
    },
    {
     "name": "stdout",
     "output_type": "stream",
     "text": [
      "\r",
      "Epoch: 2. Batch: 139. Min loss: 2.81220. Estimated time left: 0:58:19. Best: 78 batches ago.\r",
      "Epoch: 2. Batch: 140. Min loss: 2.81220. Estimated time left: 0:57:27. Best: 79 batches ago."
     ]
    },
    {
     "name": "stdout",
     "output_type": "stream",
     "text": [
      "\r",
      "Epoch: 2. Batch: 141. Min loss: 2.81220. Estimated time left: 0:55:56. Best: 80 batches ago.\r",
      "Epoch: 2. Batch: 142. Min loss: 2.81220. Estimated time left: 0:53:54. Best: 81 batches ago."
     ]
    },
    {
     "name": "stdout",
     "output_type": "stream",
     "text": [
      "\r",
      "Epoch: 2. Batch: 143. Min loss: 2.81220. Estimated time left: 0:58:48. Best: 82 batches ago.\r",
      "Epoch: 2. Batch: 144. Min loss: 2.81220. Estimated time left: 0:58:13. Best: 83 batches ago."
     ]
    },
    {
     "name": "stdout",
     "output_type": "stream",
     "text": [
      "\r",
      "Epoch: 2. Batch: 145. Min loss: 2.81220. Estimated time left: 0:59:25. Best: 84 batches ago.\r",
      "Epoch: 2. Batch: 146. Min loss: 2.81220. Estimated time left: 0:50:50. Best: 85 batches ago."
     ]
    },
    {
     "name": "stdout",
     "output_type": "stream",
     "text": [
      "\r",
      "Epoch: 2. Batch: 147. Min loss: 2.81220. Estimated time left: 0:54:56. Best: 86 batches ago.\r",
      "Epoch: 2. Batch: 148. Min loss: 2.81220. Estimated time left: 0:54:01. Best: 87 batches ago."
     ]
    },
    {
     "name": "stdout",
     "output_type": "stream",
     "text": [
      "\r",
      "Epoch: 2. Batch: 149. Min loss: 2.81220. Estimated time left: 0:57:23. Best: 88 batches ago.\r",
      "Epoch: 2. Batch: 150. Min loss: 2.81220. Estimated time left: 0:54:29. Best: 89 batches ago."
     ]
    },
    {
     "name": "stdout",
     "output_type": "stream",
     "text": [
      "\r",
      "Epoch: 2. Batch: 151. Min loss: 2.81220. Estimated time left: 0:57:04. Best: 90 batches ago.\r",
      "Epoch: 2. Batch: 152. Min loss: 2.81220. Estimated time left: 0:53:57. Best: 91 batches ago."
     ]
    },
    {
     "name": "stdout",
     "output_type": "stream",
     "text": [
      "\r",
      "Epoch: 2. Batch: 153. Min loss: 2.81220. Estimated time left: 0:59:17. Best: 92 batches ago.\r",
      "Epoch: 2. Batch: 154. Min loss: 2.81220. Estimated time left: 0:52:18. Best: 93 batches ago."
     ]
    },
    {
     "name": "stdout",
     "output_type": "stream",
     "text": [
      "\r",
      "Epoch: 2. Batch: 155. Min loss: 2.81220. Estimated time left: 0:59:14. Best: 94 batches ago.\r",
      "Epoch: 2. Batch: 156. Min loss: 2.81220. Estimated time left: 0:57:30. Best: 95 batches ago."
     ]
    },
    {
     "name": "stdout",
     "output_type": "stream",
     "text": [
      "\r",
      "Epoch: 2. Batch: 157. Min loss: 2.81220. Estimated time left: 0:54:50. Best: 96 batches ago.\r",
      "Epoch: 2. Batch: 158. Min loss: 2.81220. Estimated time left: 0:56:00. Best: 97 batches ago."
     ]
    },
    {
     "name": "stdout",
     "output_type": "stream",
     "text": [
      "\r",
      "Epoch: 2. Batch: 159. Min loss: 2.81220. Estimated time left: 0:59:16. Best: 98 batches ago.\r",
      "Epoch: 2. Batch: 160. Min loss: 2.81220. Estimated time left: 0:57:47. Best: 99 batches ago."
     ]
    },
    {
     "name": "stdout",
     "output_type": "stream",
     "text": [
      "\r",
      "Epoch: 2. Batch: 161. Min loss: 2.81220. Estimated time left: 0:57:13. Best: 100 batches ago.\r",
      "Epoch: 2. Batch: 162. Min loss: 2.81220. Estimated time left: 0:52:36. Best: 101 batches ago."
     ]
    },
    {
     "name": "stdout",
     "output_type": "stream",
     "text": [
      "\r",
      "Epoch: 2. Batch: 163. Min loss: 2.81220. Estimated time left: 0:55:48. Best: 102 batches ago.\r",
      "Epoch: 2. Batch: 164. Min loss: 2.81220. Estimated time left: 0:50:50. Best: 103 batches ago."
     ]
    },
    {
     "name": "stdout",
     "output_type": "stream",
     "text": [
      "\r",
      "Epoch: 2. Batch: 165. Min loss: 2.81220. Estimated time left: 0:58:28. Best: 104 batches ago.\r",
      "Epoch: 2. Batch: 166. Min loss: 2.81220. Estimated time left: 0:54:22. Best: 105 batches ago."
     ]
    },
    {
     "name": "stdout",
     "output_type": "stream",
     "text": [
      "\r",
      "Epoch: 2. Batch: 167. Min loss: 2.81220. Estimated time left: 0:58:42. Best: 106 batches ago.\r",
      "Epoch: 2. Batch: 168. Min loss: 2.81220. Estimated time left: 0:55:00. Best: 107 batches ago."
     ]
    },
    {
     "name": "stdout",
     "output_type": "stream",
     "text": [
      "\r",
      "Epoch: 2. Batch: 169. Min loss: 2.81220. Estimated time left: 0:58:56. Best: 108 batches ago.\r",
      "Epoch: 2. Batch: 170. Min loss: 2.81220. Estimated time left: 0:53:10. Best: 109 batches ago."
     ]
    },
    {
     "name": "stdout",
     "output_type": "stream",
     "text": [
      "\r",
      "Epoch: 2. Batch: 171. Min loss: 2.81220. Estimated time left: 0:51:22. Best: 110 batches ago.\r",
      "Epoch: 2. Batch: 172. Min loss: 2.81220. Estimated time left: 0:53:22. Best: 111 batches ago."
     ]
    },
    {
     "name": "stdout",
     "output_type": "stream",
     "text": [
      "\r",
      "Epoch: 2. Batch: 173. Min loss: 2.81220. Estimated time left: 0:56:10. Best: 112 batches ago.\r",
      "Epoch: 2. Batch: 174. Min loss: 2.81220. Estimated time left: 0:56:43. Best: 113 batches ago."
     ]
    },
    {
     "name": "stdout",
     "output_type": "stream",
     "text": [
      "\r",
      "Epoch: 2. Batch: 175. Min loss: 2.81220. Estimated time left: 1:00:01. Best: 114 batches ago.\r",
      "Epoch: 2. Batch: 176. Min loss: 2.81220. Estimated time left: 0:53:42. Best: 115 batches ago."
     ]
    },
    {
     "name": "stdout",
     "output_type": "stream",
     "text": [
      "\r",
      "Epoch: 2. Batch: 177. Min loss: 2.81220. Estimated time left: 0:55:37. Best: 116 batches ago.\r",
      "Epoch: 2. Batch: 178. Min loss: 2.81220. Estimated time left: 0:55:27. Best: 117 batches ago."
     ]
    },
    {
     "name": "stdout",
     "output_type": "stream",
     "text": [
      "\r",
      "Epoch: 2. Batch: 179. Min loss: 2.81220. Estimated time left: 1:00:32. Best: 118 batches ago.\r",
      "Epoch: 2. Batch: 180. Min loss: 2.81220. Estimated time left: 0:55:23. Best: 119 batches ago."
     ]
    },
    {
     "name": "stdout",
     "output_type": "stream",
     "text": [
      "\r",
      "Epoch: 2. Batch: 181. Min loss: 2.81220. Estimated time left: 0:54:50. Best: 120 batches ago.\r",
      "Epoch: 2. Batch: 182. Min loss: 2.81220. Estimated time left: 0:57:17. Best: 121 batches ago."
     ]
    },
    {
     "name": "stdout",
     "output_type": "stream",
     "text": [
      "\r",
      "Epoch: 2. Batch: 183. Min loss: 2.81220. Estimated time left: 0:59:25. Best: 122 batches ago.\r",
      "Epoch: 2. Batch: 184. Min loss: 2.81220. Estimated time left: 0:52:58. Best: 123 batches ago."
     ]
    },
    {
     "name": "stdout",
     "output_type": "stream",
     "text": [
      "\r",
      "Epoch: 2. Batch: 185. Min loss: 2.81220. Estimated time left: 0:57:31. Best: 124 batches ago.\r",
      "Epoch: 2. Batch: 186. Min loss: 2.81220. Estimated time left: 0:56:15. Best: 125 batches ago."
     ]
    },
    {
     "name": "stdout",
     "output_type": "stream",
     "text": [
      "\r",
      "Epoch: 2. Batch: 187. Min loss: 2.81220. Estimated time left: 0:55:25. Best: 126 batches ago.\r",
      "Epoch: 2. Batch: 188. Min loss: 2.81220. Estimated time left: 0:55:12. Best: 127 batches ago."
     ]
    },
    {
     "name": "stdout",
     "output_type": "stream",
     "text": [
      "\r",
      "Epoch: 2. Batch: 189. Min loss: 2.81220. Estimated time left: 0:55:50. Best: 128 batches ago.\r",
      "Epoch: 2. Batch: 190. Min loss: 2.81220. Estimated time left: 0:54:06. Best: 129 batches ago."
     ]
    },
    {
     "name": "stdout",
     "output_type": "stream",
     "text": [
      "\r",
      "Epoch: 2. Batch: 191. Min loss: 2.81220. Estimated time left: 0:57:32. Best: 130 batches ago.\r",
      "Epoch: 2. Batch: 192. Min loss: 2.81220. Estimated time left: 0:54:35. Best: 131 batches ago."
     ]
    },
    {
     "name": "stdout",
     "output_type": "stream",
     "text": [
      "\r",
      "Epoch: 2. Batch: 193. Min loss: 2.81220. Estimated time left: 0:58:38. Best: 132 batches ago.\r",
      "Epoch: 2. Batch: 194. Min loss: 2.81220. Estimated time left: 0:57:11. Best: 133 batches ago."
     ]
    },
    {
     "name": "stdout",
     "output_type": "stream",
     "text": [
      "\r",
      "Epoch: 2. Batch: 195. Min loss: 2.81220. Estimated time left: 0:57:29. Best: 134 batches ago.\r",
      "Epoch: 2. Batch: 196. Min loss: 2.81220. Estimated time left: 0:55:11. Best: 135 batches ago."
     ]
    },
    {
     "name": "stdout",
     "output_type": "stream",
     "text": [
      "\r",
      "Epoch: 2. Batch: 197. Min loss: 2.81220. Estimated time left: 0:53:46. Best: 136 batches ago.\r",
      "Epoch: 2. Batch: 198. Min loss: 2.81220. Estimated time left: 0:57:12. Best: 137 batches ago."
     ]
    },
    {
     "name": "stdout",
     "output_type": "stream",
     "text": [
      "\r",
      "Epoch: 2. Batch: 199. Min loss: 2.81220. Estimated time left: 0:55:15. Best: 138 batches ago.\r",
      "Epoch: 2. Batch: 200. Min loss: 2.81220. Estimated time left: 0:54:30. Best: 139 batches ago."
     ]
    },
    {
     "name": "stdout",
     "output_type": "stream",
     "text": [
      "\r",
      "Epoch: 2. Batch: 201. Min loss: 2.81220. Estimated time left: 0:56:04. Best: 140 batches ago.\r",
      "Epoch: 2. Batch: 202. Min loss: 2.81220. Estimated time left: 0:57:14. Best: 141 batches ago."
     ]
    },
    {
     "name": "stdout",
     "output_type": "stream",
     "text": [
      "\r",
      "Epoch: 2. Batch: 203. Min loss: 2.81220. Estimated time left: 0:59:10. Best: 142 batches ago.\r",
      "Epoch: 2. Batch: 204. Min loss: 2.81220. Estimated time left: 0:57:31. Best: 143 batches ago."
     ]
    },
    {
     "name": "stdout",
     "output_type": "stream",
     "text": [
      "\r",
      "Epoch: 2. Batch: 205. Min loss: 2.81220. Estimated time left: 0:55:22. Best: 144 batches ago.\r",
      "Epoch: 2. Batch: 206. Min loss: 2.81220. Estimated time left: 0:54:35. Best: 145 batches ago."
     ]
    },
    {
     "name": "stdout",
     "output_type": "stream",
     "text": [
      "\r",
      "Epoch: 2. Batch: 207. Min loss: 2.81220. Estimated time left: 0:54:41. Best: 146 batches ago.\r",
      "Epoch: 2. Batch: 208. Min loss: 2.81220. Estimated time left: 0:57:31. Best: 147 batches ago."
     ]
    },
    {
     "name": "stdout",
     "output_type": "stream",
     "text": [
      "\r",
      "Epoch: 2. Batch: 209. Min loss: 2.81220. Estimated time left: 0:55:33. Best: 148 batches ago.\r",
      "Epoch: 2. Batch: 210. Min loss: 2.81220. Estimated time left: 0:56:00. Best: 149 batches ago."
     ]
    },
    {
     "name": "stdout",
     "output_type": "stream",
     "text": [
      "\r",
      "Epoch: 2. Batch: 211. Min loss: 2.81220. Estimated time left: 0:55:02. Best: 150 batches ago.\r",
      "Epoch: 2. Batch: 212. Min loss: 2.81220. Estimated time left: 0:54:04. Best: 151 batches ago."
     ]
    },
    {
     "name": "stdout",
     "output_type": "stream",
     "text": [
      "\r",
      "Epoch: 2. Batch: 213. Min loss: 2.81220. Estimated time left: 0:54:57. Best: 152 batches ago.\r",
      "Epoch: 2. Batch: 214. Min loss: 2.81220. Estimated time left: 0:57:13. Best: 153 batches ago."
     ]
    },
    {
     "name": "stdout",
     "output_type": "stream",
     "text": [
      "\r",
      "Epoch: 2. Batch: 215. Min loss: 2.81220. Estimated time left: 0:54:40. Best: 154 batches ago.\r",
      "Epoch: 2. Batch: 216. Min loss: 2.81220. Estimated time left: 0:54:40. Best: 155 batches ago."
     ]
    },
    {
     "name": "stdout",
     "output_type": "stream",
     "text": [
      "\r",
      "Epoch: 2. Batch: 217. Min loss: 2.81220. Estimated time left: 0:55:32. Best: 156 batches ago.\r",
      "Epoch: 2. Batch: 218. Min loss: 2.81220. Estimated time left: 0:54:12. Best: 157 batches ago."
     ]
    },
    {
     "name": "stdout",
     "output_type": "stream",
     "text": [
      "\r",
      "Epoch: 2. Batch: 219. Min loss: 2.81220. Estimated time left: 0:56:24. Best: 158 batches ago.\r",
      "Epoch: 2. Batch: 220. Min loss: 2.81220. Estimated time left: 0:55:01. Best: 159 batches ago."
     ]
    },
    {
     "name": "stdout",
     "output_type": "stream",
     "text": [
      "\r",
      "Epoch: 2. Batch: 221. Min loss: 2.81220. Estimated time left: 0:56:25. Best: 160 batches ago.\r",
      "Epoch: 2. Batch: 222. Min loss: 2.81220. Estimated time left: 0:54:29. Best: 161 batches ago."
     ]
    },
    {
     "name": "stdout",
     "output_type": "stream",
     "text": [
      "\r",
      "Epoch: 2. Batch: 223. Min loss: 2.81220. Estimated time left: 0:57:58. Best: 162 batches ago.\r",
      "Epoch: 2. Batch: 224. Min loss: 2.81220. Estimated time left: 0:53:39. Best: 163 batches ago."
     ]
    },
    {
     "name": "stdout",
     "output_type": "stream",
     "text": [
      "\r",
      "Epoch: 2. Batch: 225. Min loss: 2.81220. Estimated time left: 0:57:17. Best: 164 batches ago.\r",
      "Epoch: 2. Batch: 226. Min loss: 2.81220. Estimated time left: 0:56:44. Best: 165 batches ago."
     ]
    },
    {
     "name": "stdout",
     "output_type": "stream",
     "text": [
      "\r",
      "Epoch: 2. Batch: 227. Min loss: 2.81220. Estimated time left: 0:57:57. Best: 166 batches ago.\r",
      "Epoch: 2. Batch: 228. Min loss: 2.81220. Estimated time left: 0:56:24. Best: 167 batches ago."
     ]
    },
    {
     "name": "stdout",
     "output_type": "stream",
     "text": [
      "\r",
      "Epoch: 2. Batch: 229. Min loss: 2.81220. Estimated time left: 0:58:52. Best: 168 batches ago.\r",
      "Epoch: 2. Batch: 230. Min loss: 2.81220. Estimated time left: 0:52:26. Best: 169 batches ago."
     ]
    },
    {
     "name": "stdout",
     "output_type": "stream",
     "text": [
      "\r",
      "Epoch: 2. Batch: 231. Min loss: 2.81220. Estimated time left: 0:55:16. Best: 170 batches ago.\r",
      "Epoch: 2. Batch: 232. Min loss: 2.81220. Estimated time left: 0:53:04. Best: 171 batches ago."
     ]
    },
    {
     "name": "stdout",
     "output_type": "stream",
     "text": [
      "\r",
      "Epoch: 2. Batch: 233. Min loss: 2.81220. Estimated time left: 0:55:34. Best: 172 batches ago.\r",
      "Epoch: 2. Batch: 234. Min loss: 2.81220. Estimated time left: 0:55:34. Best: 173 batches ago."
     ]
    },
    {
     "name": "stdout",
     "output_type": "stream",
     "text": [
      "\r",
      "Epoch: 2. Batch: 235. Min loss: 2.81220. Estimated time left: 0:54:19. Best: 174 batches ago.\r",
      "Epoch: 2. Batch: 236. Min loss: 2.81220. Estimated time left: 0:58:46. Best: 175 batches ago."
     ]
    },
    {
     "name": "stdout",
     "output_type": "stream",
     "text": [
      "\r",
      "Epoch: 2. Batch: 237. Min loss: 2.81220. Estimated time left: 0:57:11. Best: 176 batches ago.\r",
      "Epoch: 2. Batch: 238. Min loss: 2.81220. Estimated time left: 0:58:06. Best: 177 batches ago."
     ]
    },
    {
     "name": "stdout",
     "output_type": "stream",
     "text": [
      "\r",
      "Epoch: 2. Batch: 239. Min loss: 2.81220. Estimated time left: 0:59:20. Best: 178 batches ago.\r",
      "Epoch: 2. Batch: 240. Min loss: 2.81220. Estimated time left: 0:57:05. Best: 179 batches ago."
     ]
    },
    {
     "name": "stdout",
     "output_type": "stream",
     "text": [
      "\r",
      "Epoch: 2. Batch: 241. Min loss: 2.81220. Estimated time left: 0:57:26. Best: 180 batches ago.\r",
      "Epoch: 2. Batch: 242. Min loss: 2.81220. Estimated time left: 0:52:36. Best: 181 batches ago."
     ]
    },
    {
     "name": "stdout",
     "output_type": "stream",
     "text": [
      "\r",
      "Epoch: 2. Batch: 243. Min loss: 2.81220. Estimated time left: 0:56:56. Best: 182 batches ago.\r",
      "Epoch: 2. Batch: 244. Min loss: 2.81220. Estimated time left: 0:52:41. Best: 183 batches ago."
     ]
    },
    {
     "name": "stdout",
     "output_type": "stream",
     "text": [
      "\r",
      "Epoch: 2. Batch: 245. Min loss: 2.81220. Estimated time left: 0:57:33. Best: 184 batches ago.\r",
      "Epoch: 2. Batch: 246. Min loss: 2.81220. Estimated time left: 0:54:14. Best: 185 batches ago."
     ]
    },
    {
     "name": "stdout",
     "output_type": "stream",
     "text": [
      "\r",
      "Epoch: 2. Batch: 247. Min loss: 2.81220. Estimated time left: 0:58:49. Best: 186 batches ago.\r",
      "Epoch: 2. Batch: 248. Min loss: 2.81220. Estimated time left: 0:57:02. Best: 187 batches ago."
     ]
    },
    {
     "name": "stdout",
     "output_type": "stream",
     "text": [
      "\r",
      "Epoch: 2. Batch: 249. Min loss: 2.81220. Estimated time left: 0:57:36. Best: 188 batches ago.\r",
      "Epoch: 2. Batch: 250. Min loss: 2.81220. Estimated time left: 0:55:42. Best: 189 batches ago."
     ]
    },
    {
     "name": "stdout",
     "output_type": "stream",
     "text": [
      "\r",
      "Epoch: 2. Batch: 251. Min loss: 2.81220. Estimated time left: 0:55:24. Best: 190 batches ago.\r",
      "Epoch: 2. Batch: 252. Min loss: 2.81220. Estimated time left: 0:53:27. Best: 191 batches ago."
     ]
    },
    {
     "name": "stdout",
     "output_type": "stream",
     "text": [
      "\r",
      "Epoch: 2. Batch: 253. Min loss: 2.81220. Estimated time left: 0:55:24. Best: 192 batches ago.\r",
      "Epoch: 2. Batch: 254. Min loss: 2.81220. Estimated time left: 0:55:52. Best: 193 batches ago."
     ]
    },
    {
     "name": "stdout",
     "output_type": "stream",
     "text": [
      "\r",
      "Epoch: 2. Batch: 255. Min loss: 2.81220. Estimated time left: 0:54:29. Best: 194 batches ago.\r",
      "Epoch: 2. Batch: 256. Min loss: 2.81220. Estimated time left: 0:56:20. Best: 195 batches ago."
     ]
    },
    {
     "name": "stdout",
     "output_type": "stream",
     "text": [
      "\r",
      "Epoch: 2. Batch: 257. Min loss: 2.81220. Estimated time left: 0:56:52. Best: 196 batches ago.\r",
      "Epoch: 2. Batch: 258. Min loss: 2.81220. Estimated time left: 0:54:10. Best: 197 batches ago."
     ]
    },
    {
     "name": "stdout",
     "output_type": "stream",
     "text": [
      "\r",
      "Epoch: 2. Batch: 259. Min loss: 2.81220. Estimated time left: 0:57:19. Best: 198 batches ago.\r",
      "Epoch: 2. Batch: 260. Min loss: 2.81220. Estimated time left: 0:53:12. Best: 199 batches ago."
     ]
    },
    {
     "name": "stdout",
     "output_type": "stream",
     "text": [
      "\r",
      "Epoch: 2. Batch: 261. Min loss: 2.81220. Estimated time left: 0:57:23. Best: 200 batches ago.\r",
      "Epoch: 2. Batch: 262. Min loss: 2.81220. Estimated time left: 0:53:03. Best: 201 batches ago."
     ]
    },
    {
     "name": "stdout",
     "output_type": "stream",
     "text": [
      "\r",
      "Epoch: 2. Batch: 263. Min loss: 2.81220. Estimated time left: 0:57:04. Best: 202 batches ago.\r",
      "Epoch: 2. Batch: 264. Min loss: 2.81220. Estimated time left: 0:53:25. Best: 203 batches ago."
     ]
    },
    {
     "name": "stdout",
     "output_type": "stream",
     "text": [
      "\r",
      "Epoch: 2. Batch: 265. Min loss: 2.81220. Estimated time left: 0:56:45. Best: 204 batches ago.\r",
      "Epoch: 2. Batch: 266. Min loss: 2.81220. Estimated time left: 0:52:56. Best: 205 batches ago."
     ]
    },
    {
     "name": "stdout",
     "output_type": "stream",
     "text": [
      "\r",
      "Epoch: 2. Batch: 267. Min loss: 2.81220. Estimated time left: 0:57:49. Best: 206 batches ago.\r",
      "Epoch: 2. Batch: 268. Min loss: 2.81220. Estimated time left: 0:58:04. Best: 207 batches ago."
     ]
    },
    {
     "name": "stdout",
     "output_type": "stream",
     "text": [
      "\r",
      "Epoch: 2. Batch: 269. Min loss: 2.81220. Estimated time left: 0:58:17. Best: 208 batches ago.\r",
      "Epoch: 2. Batch: 270. Min loss: 2.81220. Estimated time left: 0:58:18. Best: 209 batches ago."
     ]
    },
    {
     "name": "stdout",
     "output_type": "stream",
     "text": [
      "\r",
      "Epoch: 2. Batch: 271. Min loss: 2.81220. Estimated time left: 0:54:14. Best: 210 batches ago.\r",
      "Epoch: 2. Batch: 272. Min loss: 2.81220. Estimated time left: 0:54:01. Best: 211 batches ago."
     ]
    },
    {
     "name": "stdout",
     "output_type": "stream",
     "text": [
      "\r",
      "Epoch: 2. Batch: 273. Min loss: 2.81220. Estimated time left: 0:55:31. Best: 212 batches ago.\r",
      "Epoch: 2. Batch: 274. Min loss: 2.81220. Estimated time left: 0:54:04. Best: 213 batches ago."
     ]
    },
    {
     "name": "stdout",
     "output_type": "stream",
     "text": [
      "\r",
      "Epoch: 2. Batch: 275. Min loss: 2.81220. Estimated time left: 0:51:36. Best: 214 batches ago.\r",
      "Epoch: 2. Batch: 276. Min loss: 2.81220. Estimated time left: 0:51:42. Best: 215 batches ago."
     ]
    },
    {
     "name": "stdout",
     "output_type": "stream",
     "text": [
      "\r",
      "Epoch: 2. Batch: 277. Min loss: 2.81220. Estimated time left: 0:57:20. Best: 216 batches ago.\r",
      "Epoch: 2. Batch: 278. Min loss: 2.81220. Estimated time left: 0:55:09. Best: 217 batches ago."
     ]
    },
    {
     "name": "stdout",
     "output_type": "stream",
     "text": [
      "\r",
      "Epoch: 2. Batch: 279. Min loss: 2.81220. Estimated time left: 0:55:37. Best: 218 batches ago.\r",
      "Epoch: 2. Batch: 280. Min loss: 2.81220. Estimated time left: 0:57:06. Best: 219 batches ago."
     ]
    },
    {
     "name": "stdout",
     "output_type": "stream",
     "text": [
      "\r",
      "Epoch: 2. Batch: 281. Min loss: 2.81220. Estimated time left: 0:56:10. Best: 220 batches ago.\r",
      "Epoch: 2. Batch: 282. Min loss: 2.81220. Estimated time left: 0:56:00. Best: 221 batches ago."
     ]
    },
    {
     "name": "stdout",
     "output_type": "stream",
     "text": [
      "\r",
      "Epoch: 2. Batch: 283. Min loss: 2.81220. Estimated time left: 0:57:12. Best: 222 batches ago.\r",
      "Epoch: 2. Batch: 284. Min loss: 2.81220. Estimated time left: 0:56:57. Best: 223 batches ago."
     ]
    },
    {
     "name": "stdout",
     "output_type": "stream",
     "text": [
      "\r",
      "Epoch: 2. Batch: 285. Min loss: 2.81220. Estimated time left: 1:00:09. Best: 224 batches ago.\r",
      "Epoch: 2. Batch: 286. Min loss: 2.81220. Estimated time left: 0:56:26. Best: 225 batches ago."
     ]
    },
    {
     "name": "stdout",
     "output_type": "stream",
     "text": [
      "\r",
      "Epoch: 2. Batch: 287. Min loss: 2.81220. Estimated time left: 0:54:35. Best: 226 batches ago.\r",
      "Epoch: 2. Batch: 288. Min loss: 2.81220. Estimated time left: 0:54:10. Best: 227 batches ago."
     ]
    },
    {
     "name": "stdout",
     "output_type": "stream",
     "text": [
      "\r",
      "Epoch: 2. Batch: 289. Min loss: 2.81220. Estimated time left: 0:51:58. Best: 228 batches ago.\r",
      "Epoch: 2. Batch: 290. Min loss: 2.81220. Estimated time left: 0:52:39. Best: 229 batches ago."
     ]
    },
    {
     "name": "stdout",
     "output_type": "stream",
     "text": [
      "\r",
      "Epoch: 2. Batch: 291. Min loss: 2.81220. Estimated time left: 0:57:58. Best: 230 batches ago.\r",
      "Epoch: 2. Batch: 292. Min loss: 2.81220. Estimated time left: 0:53:48. Best: 231 batches ago."
     ]
    },
    {
     "name": "stdout",
     "output_type": "stream",
     "text": [
      "\r",
      "Epoch: 2. Batch: 293. Min loss: 2.81220. Estimated time left: 0:55:33. Best: 232 batches ago.\r",
      "Epoch: 2. Batch: 294. Min loss: 2.81220. Estimated time left: 0:54:36. Best: 233 batches ago."
     ]
    },
    {
     "name": "stdout",
     "output_type": "stream",
     "text": [
      "\r",
      "Epoch: 2. Batch: 295. Min loss: 2.81220. Estimated time left: 0:56:24. Best: 234 batches ago.\r",
      "Epoch: 2. Batch: 296. Min loss: 2.81220. Estimated time left: 0:57:55. Best: 235 batches ago."
     ]
    },
    {
     "name": "stdout",
     "output_type": "stream",
     "text": [
      "\r",
      "Epoch: 2. Batch: 297. Min loss: 2.81220. Estimated time left: 0:56:01. Best: 236 batches ago.\r",
      "Epoch: 2. Batch: 298. Min loss: 2.81220. Estimated time left: 0:56:46. Best: 237 batches ago."
     ]
    },
    {
     "name": "stdout",
     "output_type": "stream",
     "text": [
      "\r",
      "Epoch: 2. Batch: 299. Min loss: 2.81220. Estimated time left: 1:01:22. Best: 238 batches ago.\r",
      "Epoch: 2. Batch: 300. Min loss: 2.81220. Estimated time left: 0:53:24. Best: 239 batches ago."
     ]
    },
    {
     "name": "stdout",
     "output_type": "stream",
     "text": [
      "\r",
      "Epoch: 2. Batch: 301. Min loss: 2.81220. Estimated time left: 0:55:02. Best: 240 batches ago.\r",
      "Epoch: 2. Batch: 302. Min loss: 2.81220. Estimated time left: 0:56:50. Best: 241 batches ago."
     ]
    },
    {
     "name": "stdout",
     "output_type": "stream",
     "text": [
      "\r",
      "Epoch: 2. Batch: 303. Min loss: 2.81220. Estimated time left: 0:54:51. Best: 242 batches ago.\r",
      "Epoch: 2. Batch: 304. Min loss: 2.81220. Estimated time left: 0:57:43. Best: 243 batches ago."
     ]
    },
    {
     "name": "stdout",
     "output_type": "stream",
     "text": [
      "\r",
      "Epoch: 2. Batch: 305. Min loss: 2.81220. Estimated time left: 0:54:18. Best: 244 batches ago.\r",
      "Epoch: 2. Batch: 306. Min loss: 2.81220. Estimated time left: 0:53:52. Best: 245 batches ago."
     ]
    },
    {
     "name": "stdout",
     "output_type": "stream",
     "text": [
      "\r",
      "Epoch: 2. Batch: 307. Min loss: 2.81220. Estimated time left: 0:55:43. Best: 246 batches ago.\r",
      "Epoch: 2. Batch: 308. Min loss: 2.81220. Estimated time left: 0:55:10. Best: 247 batches ago."
     ]
    },
    {
     "name": "stdout",
     "output_type": "stream",
     "text": [
      "\r",
      "Epoch: 2. Batch: 309. Min loss: 2.81220. Estimated time left: 0:59:44. Best: 248 batches ago.\r",
      "Epoch: 2. Batch: 310. Min loss: 2.81220. Estimated time left: 0:56:29. Best: 249 batches ago."
     ]
    },
    {
     "name": "stdout",
     "output_type": "stream",
     "text": [
      "\r",
      "Epoch: 2. Batch: 311. Min loss: 2.81220. Estimated time left: 0:55:06. Best: 250 batches ago.\r",
      "Epoch: 2. Batch: 312. Min loss: 2.81220. Estimated time left: 0:53:05. Best: 251 batches ago."
     ]
    },
    {
     "name": "stdout",
     "output_type": "stream",
     "text": [
      "\r",
      "Epoch: 2. Batch: 313. Min loss: 2.81220. Estimated time left: 0:55:13. Best: 252 batches ago.\r",
      "Epoch: 2. Batch: 314. Min loss: 2.81220. Estimated time left: 0:54:09. Best: 253 batches ago."
     ]
    },
    {
     "name": "stdout",
     "output_type": "stream",
     "text": [
      "\r",
      "Epoch: 2. Batch: 315. Min loss: 2.81220. Estimated time left: 0:57:56. Best: 254 batches ago.\r",
      "Epoch: 2. Batch: 316. Min loss: 2.81220. Estimated time left: 0:54:22. Best: 255 batches ago."
     ]
    },
    {
     "name": "stdout",
     "output_type": "stream",
     "text": [
      "\r",
      "Epoch: 2. Batch: 317. Min loss: 2.81220. Estimated time left: 0:55:11. Best: 256 batches ago.\r",
      "Epoch: 2. Batch: 318. Min loss: 2.81220. Estimated time left: 0:50:40. Best: 257 batches ago."
     ]
    },
    {
     "name": "stdout",
     "output_type": "stream",
     "text": [
      "\r",
      "Epoch: 2. Batch: 319. Min loss: 2.81220. Estimated time left: 0:56:27. Best: 258 batches ago.\r",
      "Epoch: 2. Batch: 320. Min loss: 2.81220. Estimated time left: 0:56:58. Best: 259 batches ago."
     ]
    },
    {
     "name": "stdout",
     "output_type": "stream",
     "text": [
      "\r",
      "Epoch: 2. Batch: 321. Min loss: 2.81220. Estimated time left: 0:56:04. Best: 260 batches ago.\r",
      "Epoch: 2. Batch: 322. Min loss: 2.81220. Estimated time left: 0:55:32. Best: 261 batches ago."
     ]
    },
    {
     "name": "stdout",
     "output_type": "stream",
     "text": [
      "\r",
      "Epoch: 2. Batch: 323. Min loss: 2.81220. Estimated time left: 0:53:09. Best: 262 batches ago.\r",
      "Epoch: 2. Batch: 324. Min loss: 2.81220. Estimated time left: 0:53:57. Best: 263 batches ago."
     ]
    },
    {
     "name": "stdout",
     "output_type": "stream",
     "text": [
      "\r",
      "Epoch: 2. Batch: 325. Min loss: 2.81220. Estimated time left: 0:55:28. Best: 264 batches ago.\r",
      "Epoch: 2. Batch: 326. Min loss: 2.81220. Estimated time left: 0:56:36. Best: 265 batches ago."
     ]
    },
    {
     "name": "stdout",
     "output_type": "stream",
     "text": [
      "\r",
      "Epoch: 2. Batch: 327. Min loss: 2.81220. Estimated time left: 0:56:49. Best: 266 batches ago.\r",
      "Epoch: 2. Batch: 328. Min loss: 2.81220. Estimated time left: 0:56:20. Best: 267 batches ago."
     ]
    },
    {
     "name": "stdout",
     "output_type": "stream",
     "text": [
      "\r",
      "Epoch: 2. Batch: 329. Min loss: 2.81220. Estimated time left: 0:53:44. Best: 268 batches ago.\r",
      "Epoch: 2. Batch: 330. Min loss: 2.81220. Estimated time left: 0:57:19. Best: 269 batches ago."
     ]
    },
    {
     "name": "stdout",
     "output_type": "stream",
     "text": [
      "\r",
      "Epoch: 2. Batch: 331. Min loss: 2.81220. Estimated time left: 0:53:56. Best: 270 batches ago.\r",
      "Epoch: 2. Batch: 332. Min loss: 2.81220. Estimated time left: 0:53:56. Best: 271 batches ago."
     ]
    },
    {
     "name": "stdout",
     "output_type": "stream",
     "text": [
      "\r",
      "Epoch: 2. Batch: 333. Min loss: 2.81220. Estimated time left: 0:56:12. Best: 272 batches ago.\r",
      "Epoch: 2. Batch: 334. Min loss: 2.81220. Estimated time left: 0:57:19. Best: 273 batches ago."
     ]
    },
    {
     "name": "stdout",
     "output_type": "stream",
     "text": [
      "\r",
      "Epoch: 2. Batch: 335. Min loss: 2.81220. Estimated time left: 0:58:03. Best: 274 batches ago.\r",
      "Epoch: 2. Batch: 336. Min loss: 2.81220. Estimated time left: 0:55:26. Best: 275 batches ago."
     ]
    },
    {
     "name": "stdout",
     "output_type": "stream",
     "text": [
      "\r",
      "Epoch: 2. Batch: 337. Min loss: 2.81220. Estimated time left: 0:56:40. Best: 276 batches ago.\r",
      "Epoch: 2. Batch: 338. Min loss: 2.81220. Estimated time left: 0:54:37. Best: 277 batches ago."
     ]
    },
    {
     "name": "stdout",
     "output_type": "stream",
     "text": [
      "\r",
      "Epoch: 2. Batch: 339. Min loss: 2.81220. Estimated time left: 0:57:11. Best: 278 batches ago.\r",
      "Epoch: 2. Batch: 340. Min loss: 2.81220. Estimated time left: 0:57:02. Best: 279 batches ago."
     ]
    },
    {
     "name": "stdout",
     "output_type": "stream",
     "text": [
      "\r",
      "Epoch: 2. Batch: 341. Min loss: 2.81220. Estimated time left: 0:56:39. Best: 280 batches ago.\r",
      "Epoch: 2. Batch: 342. Min loss: 2.81220. Estimated time left: 0:55:33. Best: 281 batches ago."
     ]
    },
    {
     "name": "stdout",
     "output_type": "stream",
     "text": [
      "\r",
      "Epoch: 2. Batch: 343. Min loss: 2.81220. Estimated time left: 0:57:37. Best: 282 batches ago.\r",
      "Epoch: 2. Batch: 344. Min loss: 2.81220. Estimated time left: 0:53:53. Best: 283 batches ago."
     ]
    },
    {
     "name": "stdout",
     "output_type": "stream",
     "text": [
      "\r",
      "Epoch: 2. Batch: 345. Min loss: 2.81220. Estimated time left: 0:57:32. Best: 284 batches ago.\r",
      "Epoch: 2. Batch: 346. Min loss: 2.81220. Estimated time left: 0:57:15. Best: 285 batches ago."
     ]
    },
    {
     "name": "stdout",
     "output_type": "stream",
     "text": [
      "\r",
      "Epoch: 2. Batch: 347. Min loss: 2.81220. Estimated time left: 1:00:11. Best: 286 batches ago.\r",
      "Epoch: 2. Batch: 348. Min loss: 2.81220. Estimated time left: 0:52:58. Best: 287 batches ago."
     ]
    },
    {
     "name": "stdout",
     "output_type": "stream",
     "text": [
      "\r",
      "Epoch: 2. Batch: 349. Min loss: 2.81220. Estimated time left: 0:54:27. Best: 288 batches ago.\r",
      "Epoch: 2. Batch: 350. Min loss: 2.81220. Estimated time left: 0:55:07. Best: 289 batches ago."
     ]
    },
    {
     "name": "stdout",
     "output_type": "stream",
     "text": [
      "\r",
      "Epoch: 2. Batch: 351. Min loss: 2.81220. Estimated time left: 0:58:32. Best: 290 batches ago.\r",
      "Epoch: 2. Batch: 352. Min loss: 2.81220. Estimated time left: 0:56:00. Best: 291 batches ago."
     ]
    },
    {
     "name": "stdout",
     "output_type": "stream",
     "text": [
      "\r",
      "Epoch: 2. Batch: 353. Min loss: 2.81220. Estimated time left: 0:54:31. Best: 292 batches ago.\r",
      "Epoch: 2. Batch: 354. Min loss: 2.81220. Estimated time left: 0:58:15. Best: 293 batches ago."
     ]
    },
    {
     "name": "stdout",
     "output_type": "stream",
     "text": [
      "\r",
      "Epoch: 2. Batch: 355. Min loss: 2.81220. Estimated time left: 0:58:29. Best: 294 batches ago.\r",
      "Epoch: 2. Batch: 356. Min loss: 2.81220. Estimated time left: 0:53:23. Best: 295 batches ago."
     ]
    },
    {
     "name": "stdout",
     "output_type": "stream",
     "text": [
      "\r",
      "Epoch: 2. Batch: 357. Min loss: 2.81220. Estimated time left: 0:57:09. Best: 296 batches ago.\r",
      "Epoch: 2. Batch: 358. Min loss: 2.81220. Estimated time left: 0:58:24. Best: 297 batches ago."
     ]
    },
    {
     "name": "stdout",
     "output_type": "stream",
     "text": [
      "\r",
      "Epoch: 2. Batch: 359. Min loss: 2.81220. Estimated time left: 0:56:28. Best: 298 batches ago.\r",
      "Epoch: 2. Batch: 360. Min loss: 2.81220. Estimated time left: 0:56:19. Best: 299 batches ago."
     ]
    },
    {
     "name": "stdout",
     "output_type": "stream",
     "text": [
      "\r",
      "Epoch: 2. Batch: 361. Min loss: 2.81220. Estimated time left: 0:54:15. Best: 300 batches ago.\r",
      "Epoch: 2. Batch: 362. Min loss: 2.81220. Estimated time left: 0:55:23. Best: 301 batches ago."
     ]
    },
    {
     "name": "stdout",
     "output_type": "stream",
     "text": [
      "\r",
      "Epoch: 2. Batch: 363. Min loss: 2.81220. Estimated time left: 0:53:47. Best: 302 batches ago.\r",
      "Epoch: 2. Batch: 364. Min loss: 2.81220. Estimated time left: 0:57:45. Best: 303 batches ago."
     ]
    },
    {
     "name": "stdout",
     "output_type": "stream",
     "text": [
      "\r",
      "Epoch: 2. Batch: 365. Min loss: 2.81220. Estimated time left: 0:56:20. Best: 304 batches ago.\r",
      "Epoch: 2. Batch: 366. Min loss: 2.81220. Estimated time left: 0:55:15. Best: 305 batches ago."
     ]
    },
    {
     "name": "stdout",
     "output_type": "stream",
     "text": [
      "\r",
      "Epoch: 2. Batch: 367. Min loss: 2.81220. Estimated time left: 0:53:17. Best: 306 batches ago.\r",
      "Epoch: 2. Batch: 368. Min loss: 2.81220. Estimated time left: 0:50:50. Best: 307 batches ago."
     ]
    },
    {
     "name": "stdout",
     "output_type": "stream",
     "text": [
      "\r",
      "Epoch: 2. Batch: 369. Min loss: 2.81220. Estimated time left: 0:55:53. Best: 308 batches ago.\r",
      "Epoch: 2. Batch: 370. Min loss: 2.81220. Estimated time left: 0:57:03. Best: 309 batches ago."
     ]
    },
    {
     "name": "stdout",
     "output_type": "stream",
     "text": [
      "\r",
      "Epoch: 2. Batch: 371. Min loss: 2.81220. Estimated time left: 0:58:59. Best: 310 batches ago.\r",
      "Epoch: 2. Batch: 372. Min loss: 2.81220. Estimated time left: 0:54:44. Best: 311 batches ago."
     ]
    },
    {
     "name": "stdout",
     "output_type": "stream",
     "text": [
      "\r",
      "Epoch: 2. Batch: 373. Min loss: 2.81220. Estimated time left: 0:56:19. Best: 312 batches ago.\r",
      "Epoch: 2. Batch: 374. Min loss: 2.81220. Estimated time left: 0:57:48. Best: 313 batches ago."
     ]
    },
    {
     "name": "stdout",
     "output_type": "stream",
     "text": [
      "\r",
      "Epoch: 2. Batch: 375. Min loss: 2.81220. Estimated time left: 0:58:22. Best: 314 batches ago.\r",
      "Epoch: 2. Batch: 376. Min loss: 2.81220. Estimated time left: 0:55:04. Best: 315 batches ago."
     ]
    },
    {
     "name": "stdout",
     "output_type": "stream",
     "text": [
      "\r",
      "Epoch: 2. Batch: 377. Min loss: 2.81220. Estimated time left: 0:59:12. Best: 316 batches ago.\r",
      "Epoch: 2. Batch: 378. Min loss: 2.81220. Estimated time left: 0:55:12. Best: 317 batches ago."
     ]
    },
    {
     "name": "stdout",
     "output_type": "stream",
     "text": [
      "\r",
      "Epoch: 2. Batch: 379. Min loss: 2.81220. Estimated time left: 0:58:29. Best: 318 batches ago.\r",
      "Epoch: 2. Batch: 380. Min loss: 2.81220. Estimated time left: 0:54:17. Best: 319 batches ago."
     ]
    },
    {
     "name": "stdout",
     "output_type": "stream",
     "text": [
      "\r",
      "Epoch: 2. Batch: 381. Min loss: 2.81220. Estimated time left: 0:55:02. Best: 320 batches ago.\r",
      "Epoch: 2. Batch: 382. Min loss: 2.81220. Estimated time left: 0:54:49. Best: 321 batches ago."
     ]
    },
    {
     "name": "stdout",
     "output_type": "stream",
     "text": [
      "\r",
      "Epoch: 2. Batch: 383. Min loss: 2.81220. Estimated time left: 0:57:04. Best: 322 batches ago.\r",
      "Epoch: 2. Batch: 384. Min loss: 2.81220. Estimated time left: 0:56:08. Best: 323 batches ago."
     ]
    },
    {
     "name": "stdout",
     "output_type": "stream",
     "text": [
      "\r",
      "Epoch: 2. Batch: 385. Min loss: 2.81220. Estimated time left: 0:58:41. Best: 324 batches ago.\r",
      "Epoch: 2. Batch: 386. Min loss: 2.81220. Estimated time left: 0:57:28. Best: 325 batches ago."
     ]
    },
    {
     "name": "stdout",
     "output_type": "stream",
     "text": [
      "\r",
      "Epoch: 2. Batch: 387. Min loss: 2.81220. Estimated time left: 0:54:54. Best: 326 batches ago.\r",
      "Epoch: 2. Batch: 388. Min loss: 2.81220. Estimated time left: 0:55:15. Best: 327 batches ago."
     ]
    },
    {
     "name": "stdout",
     "output_type": "stream",
     "text": [
      "\r",
      "Epoch: 2. Batch: 389. Min loss: 2.81220. Estimated time left: 0:55:15. Best: 328 batches ago.\r",
      "Epoch: 2. Batch: 390. Min loss: 2.81220. Estimated time left: 0:53:30. Best: 329 batches ago."
     ]
    },
    {
     "name": "stdout",
     "output_type": "stream",
     "text": [
      "\r",
      "Epoch: 2. Batch: 391. Min loss: 2.81220. Estimated time left: 0:54:27. Best: 330 batches ago.\r",
      "Epoch: 2. Batch: 392. Min loss: 2.81220. Estimated time left: 0:55:43. Best: 331 batches ago."
     ]
    },
    {
     "name": "stdout",
     "output_type": "stream",
     "text": [
      "\r",
      "Epoch: 2. Batch: 393. Min loss: 2.81220. Estimated time left: 0:55:06. Best: 332 batches ago.\r",
      "Epoch: 2. Batch: 394. Min loss: 2.81220. Estimated time left: 0:55:55. Best: 333 batches ago."
     ]
    },
    {
     "name": "stdout",
     "output_type": "stream",
     "text": [
      "\r",
      "Epoch: 2. Batch: 395. Min loss: 2.81220. Estimated time left: 0:58:26. Best: 334 batches ago.\r",
      "Epoch: 2. Batch: 396. Min loss: 2.81220. Estimated time left: 0:56:48. Best: 335 batches ago."
     ]
    },
    {
     "name": "stdout",
     "output_type": "stream",
     "text": [
      "\r",
      "Epoch: 2. Batch: 397. Min loss: 2.81220. Estimated time left: 0:56:22. Best: 336 batches ago.\r",
      "Epoch: 2. Batch: 398. Min loss: 2.81220. Estimated time left: 0:56:26. Best: 337 batches ago."
     ]
    },
    {
     "name": "stdout",
     "output_type": "stream",
     "text": [
      "\r",
      "Epoch: 2. Batch: 399. Min loss: 2.81220. Estimated time left: 0:56:50. Best: 338 batches ago.\r",
      "Epoch: 2. Batch: 400. Min loss: 2.81220. Estimated time left: 0:57:17. Best: 339 batches ago."
     ]
    },
    {
     "name": "stdout",
     "output_type": "stream",
     "text": [
      "\r",
      "Epoch: 2. Batch: 401. Min loss: 2.81220. Estimated time left: 0:53:19. Best: 340 batches ago.\r",
      "Epoch: 2. Batch: 402. Min loss: 2.81220. Estimated time left: 0:51:47. Best: 341 batches ago."
     ]
    },
    {
     "name": "stdout",
     "output_type": "stream",
     "text": [
      "\r",
      "Epoch: 2. Batch: 403. Min loss: 2.81220. Estimated time left: 0:56:30. Best: 342 batches ago.\r",
      "Epoch: 2. Batch: 404. Min loss: 2.81220. Estimated time left: 0:58:12. Best: 343 batches ago."
     ]
    },
    {
     "name": "stdout",
     "output_type": "stream",
     "text": [
      "\r",
      "Epoch: 2. Batch: 405. Min loss: 2.81220. Estimated time left: 0:57:54. Best: 344 batches ago.\r",
      "Epoch: 2. Batch: 406. Min loss: 2.81220. Estimated time left: 0:52:16. Best: 345 batches ago."
     ]
    },
    {
     "name": "stdout",
     "output_type": "stream",
     "text": [
      "\r",
      "Epoch: 2. Batch: 407. Min loss: 2.81220. Estimated time left: 0:54:19. Best: 346 batches ago.\r",
      "Epoch: 2. Batch: 408. Min loss: 2.81220. Estimated time left: 0:54:41. Best: 347 batches ago."
     ]
    },
    {
     "name": "stdout",
     "output_type": "stream",
     "text": [
      "\r",
      "Epoch: 2. Batch: 409. Min loss: 2.81220. Estimated time left: 0:54:40. Best: 348 batches ago.\r",
      "Epoch: 2. Batch: 410. Min loss: 2.81220. Estimated time left: 0:53:01. Best: 349 batches ago."
     ]
    },
    {
     "name": "stdout",
     "output_type": "stream",
     "text": [
      "\r",
      "Epoch: 2. Batch: 411. Min loss: 2.81220. Estimated time left: 0:56:38. Best: 350 batches ago.\r",
      "Epoch: 2. Batch: 412. Min loss: 2.81220. Estimated time left: 0:56:41. Best: 351 batches ago."
     ]
    },
    {
     "name": "stdout",
     "output_type": "stream",
     "text": [
      "\r",
      "Epoch: 2. Batch: 413. Min loss: 2.81220. Estimated time left: 0:57:30. Best: 352 batches ago.\r",
      "Epoch: 2. Batch: 414. Min loss: 2.81220. Estimated time left: 0:54:19. Best: 353 batches ago."
     ]
    },
    {
     "name": "stdout",
     "output_type": "stream",
     "text": [
      "\r",
      "Epoch: 2. Batch: 415. Min loss: 2.81220. Estimated time left: 0:57:12. Best: 354 batches ago.\r",
      "Epoch: 2. Batch: 416. Min loss: 2.81220. Estimated time left: 0:55:59. Best: 355 batches ago."
     ]
    },
    {
     "name": "stdout",
     "output_type": "stream",
     "text": [
      "\r",
      "Epoch: 2. Batch: 417. Min loss: 2.81220. Estimated time left: 0:55:21. Best: 356 batches ago.\r",
      "Epoch: 2. Batch: 418. Min loss: 2.81220. Estimated time left: 0:56:38. Best: 357 batches ago."
     ]
    },
    {
     "name": "stdout",
     "output_type": "stream",
     "text": [
      "\r",
      "Epoch: 2. Batch: 419. Min loss: 2.81220. Estimated time left: 0:54:28. Best: 358 batches ago.\r",
      "Epoch: 2. Batch: 420. Min loss: 2.81220. Estimated time left: 0:54:59. Best: 359 batches ago."
     ]
    },
    {
     "name": "stdout",
     "output_type": "stream",
     "text": [
      "\r",
      "Epoch: 2. Batch: 421. Min loss: 2.81220. Estimated time left: 0:57:37. Best: 360 batches ago.\r",
      "Epoch: 2. Batch: 422. Min loss: 2.81220. Estimated time left: 0:56:51. Best: 361 batches ago."
     ]
    },
    {
     "name": "stdout",
     "output_type": "stream",
     "text": [
      "\r",
      "Epoch: 2. Batch: 423. Min loss: 2.81220. Estimated time left: 0:55:34. Best: 362 batches ago.\r",
      "Epoch: 2. Batch: 424. Min loss: 2.81220. Estimated time left: 0:55:49. Best: 363 batches ago."
     ]
    },
    {
     "name": "stdout",
     "output_type": "stream",
     "text": [
      "\r",
      "Epoch: 2. Batch: 425. Min loss: 2.81220. Estimated time left: 0:58:31. Best: 364 batches ago.\r",
      "Epoch: 2. Batch: 426. Min loss: 2.81220. Estimated time left: 0:51:29. Best: 365 batches ago."
     ]
    },
    {
     "name": "stdout",
     "output_type": "stream",
     "text": [
      "\r",
      "Epoch: 2. Batch: 427. Min loss: 2.81220. Estimated time left: 0:56:36. Best: 366 batches ago.\r",
      "Epoch: 2. Batch: 428. Min loss: 2.81220. Estimated time left: 0:53:37. Best: 367 batches ago."
     ]
    },
    {
     "name": "stdout",
     "output_type": "stream",
     "text": [
      "\r",
      "Epoch: 2. Batch: 429. Min loss: 2.81220. Estimated time left: 0:54:41. Best: 368 batches ago.\r",
      "Epoch: 2. Batch: 430. Min loss: 2.81220. Estimated time left: 0:56:50. Best: 369 batches ago."
     ]
    },
    {
     "name": "stdout",
     "output_type": "stream",
     "text": [
      "\r",
      "Epoch: 2. Batch: 431. Min loss: 2.81220. Estimated time left: 0:55:16. Best: 370 batches ago.\r",
      "Epoch: 2. Batch: 432. Min loss: 2.81220. Estimated time left: 0:52:35. Best: 371 batches ago."
     ]
    },
    {
     "name": "stdout",
     "output_type": "stream",
     "text": [
      "\r",
      "Epoch: 2. Batch: 433. Min loss: 2.81220. Estimated time left: 0:54:08. Best: 372 batches ago.\r",
      "Epoch: 2. Batch: 434. Min loss: 2.81220. Estimated time left: 0:52:29. Best: 373 batches ago."
     ]
    },
    {
     "name": "stdout",
     "output_type": "stream",
     "text": [
      "\r",
      "Epoch: 2. Batch: 435. Min loss: 2.81220. Estimated time left: 0:56:22. Best: 374 batches ago.\r",
      "Epoch: 2. Batch: 436. Min loss: 2.81220. Estimated time left: 1:00:23. Best: 375 batches ago."
     ]
    },
    {
     "name": "stdout",
     "output_type": "stream",
     "text": [
      "\r",
      "Epoch: 2. Batch: 437. Min loss: 2.81220. Estimated time left: 0:56:58. Best: 376 batches ago.\r",
      "Epoch: 2. Batch: 438. Min loss: 2.81220. Estimated time left: 0:56:52. Best: 377 batches ago."
     ]
    },
    {
     "name": "stdout",
     "output_type": "stream",
     "text": [
      "\r",
      "Epoch: 2. Batch: 439. Min loss: 2.81220. Estimated time left: 0:57:34. Best: 378 batches ago.\r",
      "Epoch: 2. Batch: 440. Min loss: 2.81220. Estimated time left: 0:53:46. Best: 379 batches ago."
     ]
    },
    {
     "name": "stdout",
     "output_type": "stream",
     "text": [
      "\r",
      "Epoch: 2. Batch: 441. Min loss: 2.81220. Estimated time left: 0:55:40. Best: 380 batches ago.\r",
      "Epoch: 2. Batch: 442. Min loss: 2.81220. Estimated time left: 0:53:07. Best: 381 batches ago."
     ]
    },
    {
     "name": "stdout",
     "output_type": "stream",
     "text": [
      "\r",
      "Epoch: 2. Batch: 443. Min loss: 2.81220. Estimated time left: 0:55:43. Best: 382 batches ago.\r",
      "Epoch: 2. Batch: 444. Min loss: 2.81220. Estimated time left: 0:52:56. Best: 383 batches ago."
     ]
    },
    {
     "name": "stdout",
     "output_type": "stream",
     "text": [
      "\r",
      "Epoch: 2. Batch: 445. Min loss: 2.81220. Estimated time left: 0:55:37. Best: 384 batches ago.\r",
      "Epoch: 2. Batch: 446. Min loss: 2.81220. Estimated time left: 0:55:06. Best: 385 batches ago."
     ]
    },
    {
     "name": "stdout",
     "output_type": "stream",
     "text": [
      "\r",
      "Epoch: 2. Batch: 447. Min loss: 2.81220. Estimated time left: 0:54:02. Best: 386 batches ago.\r",
      "Epoch: 2. Batch: 448. Min loss: 2.81220. Estimated time left: 0:54:51. Best: 387 batches ago."
     ]
    },
    {
     "name": "stdout",
     "output_type": "stream",
     "text": [
      "\r",
      "Epoch: 2. Batch: 449. Min loss: 2.81220. Estimated time left: 0:57:20. Best: 388 batches ago.\r",
      "Epoch: 2. Batch: 450. Min loss: 2.81220. Estimated time left: 0:53:59. Best: 389 batches ago."
     ]
    },
    {
     "name": "stdout",
     "output_type": "stream",
     "text": [
      "\r",
      "Epoch: 2. Batch: 451. Min loss: 2.81220. Estimated time left: 0:55:58. Best: 390 batches ago.\r",
      "Epoch: 2. Batch: 452. Min loss: 2.81220. Estimated time left: 0:54:56. Best: 391 batches ago."
     ]
    },
    {
     "name": "stdout",
     "output_type": "stream",
     "text": [
      "\r",
      "Epoch: 2. Batch: 453. Min loss: 2.81220. Estimated time left: 0:53:20. Best: 392 batches ago.\r",
      "Epoch: 2. Batch: 454. Min loss: 2.81220. Estimated time left: 0:56:00. Best: 393 batches ago."
     ]
    },
    {
     "name": "stdout",
     "output_type": "stream",
     "text": [
      "\r",
      "Epoch: 2. Batch: 455. Min loss: 2.81220. Estimated time left: 0:52:49. Best: 394 batches ago.\r",
      "Epoch: 2. Batch: 456. Min loss: 2.81220. Estimated time left: 0:57:16. Best: 395 batches ago."
     ]
    },
    {
     "name": "stdout",
     "output_type": "stream",
     "text": [
      "\r",
      "Epoch: 2. Batch: 457. Min loss: 2.81220. Estimated time left: 0:53:43. Best: 396 batches ago.\r",
      "Epoch: 2. Batch: 458. Min loss: 2.81220. Estimated time left: 0:56:58. Best: 397 batches ago."
     ]
    },
    {
     "name": "stdout",
     "output_type": "stream",
     "text": [
      "\r",
      "Epoch: 2. Batch: 459. Min loss: 2.81220. Estimated time left: 0:57:11. Best: 398 batches ago.\r",
      "Epoch: 2. Batch: 460. Min loss: 2.81220. Estimated time left: 0:55:56. Best: 399 batches ago."
     ]
    },
    {
     "name": "stdout",
     "output_type": "stream",
     "text": [
      "\r",
      "Epoch: 2. Batch: 461. Min loss: 2.81220. Estimated time left: 0:59:02. Best: 400 batches ago.\r",
      "Epoch: 2. Batch: 462. Min loss: 2.81220. Estimated time left: 0:55:39. Best: 401 batches ago."
     ]
    },
    {
     "name": "stdout",
     "output_type": "stream",
     "text": [
      "\r",
      "Epoch: 2. Batch: 463. Min loss: 2.81220. Estimated time left: 0:56:47. Best: 402 batches ago.\r",
      "Epoch: 2. Batch: 464. Min loss: 2.81220. Estimated time left: 0:55:11. Best: 403 batches ago."
     ]
    },
    {
     "name": "stdout",
     "output_type": "stream",
     "text": [
      "\r",
      "Epoch: 2. Batch: 465. Min loss: 2.81220. Estimated time left: 0:56:19. Best: 404 batches ago.\r",
      "Epoch: 2. Batch: 466. Min loss: 2.81220. Estimated time left: 0:57:03. Best: 405 batches ago."
     ]
    },
    {
     "name": "stdout",
     "output_type": "stream",
     "text": [
      "\r",
      "Epoch: 2. Batch: 467. Min loss: 2.81220. Estimated time left: 0:56:36. Best: 406 batches ago.\r",
      "Epoch: 2. Batch: 468. Min loss: 2.81220. Estimated time left: 0:59:01. Best: 407 batches ago."
     ]
    },
    {
     "name": "stdout",
     "output_type": "stream",
     "text": [
      "\r",
      "Epoch: 2. Batch: 469. Min loss: 2.81220. Estimated time left: 0:54:23. Best: 408 batches ago.\r",
      "Epoch: 2. Batch: 470. Min loss: 2.81220. Estimated time left: 0:54:23. Best: 409 batches ago."
     ]
    },
    {
     "name": "stdout",
     "output_type": "stream",
     "text": [
      "\r",
      "Epoch: 2. Batch: 471. Min loss: 2.81220. Estimated time left: 0:54:08. Best: 410 batches ago.\r",
      "Epoch: 2. Batch: 472. Min loss: 2.81220. Estimated time left: 0:55:40. Best: 411 batches ago."
     ]
    },
    {
     "name": "stdout",
     "output_type": "stream",
     "text": [
      "\r",
      "Epoch: 2. Batch: 473. Min loss: 2.81220. Estimated time left: 0:56:59. Best: 412 batches ago.\r",
      "Epoch: 2. Batch: 474. Min loss: 2.81220. Estimated time left: 0:53:59. Best: 413 batches ago."
     ]
    },
    {
     "name": "stdout",
     "output_type": "stream",
     "text": [
      "\r",
      "Epoch: 2. Batch: 475. Min loss: 2.81220. Estimated time left: 0:54:40. Best: 414 batches ago.\r",
      "Epoch: 2. Batch: 476. Min loss: 2.81220. Estimated time left: 0:55:03. Best: 415 batches ago."
     ]
    },
    {
     "name": "stdout",
     "output_type": "stream",
     "text": [
      "\r",
      "Epoch: 2. Batch: 477. Min loss: 2.81220. Estimated time left: 0:57:28. Best: 416 batches ago."
     ]
    },
    {
     "name": "stdout",
     "output_type": "stream",
     "text": [
      "\r",
      "Epoch: 2. Batch: 478. Min loss: 2.81220. Estimated time left: 1:15:11. Best: 417 batches ago.\r",
      "Epoch: 2. Batch: 479. Min loss: 2.81220. Estimated time left: 0:59:20. Best: 418 batches ago."
     ]
    },
    {
     "name": "stdout",
     "output_type": "stream",
     "text": [
      "\r",
      "Epoch: 2. Batch: 480. Min loss: 2.81220. Estimated time left: 0:54:08. Best: 419 batches ago.\r",
      "Epoch: 2. Batch: 481. Min loss: 2.81220. Estimated time left: 1:00:04. Best: 420 batches ago."
     ]
    },
    {
     "name": "stdout",
     "output_type": "stream",
     "text": [
      "\r",
      "Epoch: 2. Batch: 482. Min loss: 2.81220. Estimated time left: 1:02:40. Best: 421 batches ago.\r",
      "Epoch: 2. Batch: 483. Min loss: 2.81220. Estimated time left: 0:55:57. Best: 422 batches ago."
     ]
    },
    {
     "name": "stdout",
     "output_type": "stream",
     "text": [
      "\r",
      "Epoch: 2. Batch: 484. Min loss: 2.81220. Estimated time left: 0:56:16. Best: 423 batches ago.\r",
      "Epoch: 2. Batch: 485. Min loss: 2.81220. Estimated time left: 0:58:05. Best: 424 batches ago."
     ]
    },
    {
     "name": "stdout",
     "output_type": "stream",
     "text": [
      "\r",
      "Epoch: 2. Batch: 486. Min loss: 2.81220. Estimated time left: 0:56:42. Best: 425 batches ago.\r",
      "Epoch: 2. Batch: 487. Min loss: 2.81220. Estimated time left: 0:58:43. Best: 426 batches ago."
     ]
    },
    {
     "name": "stdout",
     "output_type": "stream",
     "text": [
      "\r",
      "Epoch: 2. Batch: 488. Min loss: 2.81220. Estimated time left: 1:11:40. Best: 427 batches ago.\r",
      "Epoch: 2. Batch: 489. Min loss: 2.81220. Estimated time left: 0:57:53. Best: 428 batches ago."
     ]
    },
    {
     "name": "stdout",
     "output_type": "stream",
     "text": [
      "\r",
      "Epoch: 2. Batch: 490. Min loss: 2.81220. Estimated time left: 0:55:43. Best: 429 batches ago.\r",
      "Epoch: 2. Batch: 491. Min loss: 2.81220. Estimated time left: 0:59:27. Best: 430 batches ago."
     ]
    },
    {
     "name": "stdout",
     "output_type": "stream",
     "text": [
      "\r",
      "Epoch: 2. Batch: 492. Min loss: 2.81220. Estimated time left: 0:55:08. Best: 431 batches ago.\r",
      "Epoch: 2. Batch: 493. Min loss: 2.81220. Estimated time left: 0:56:55. Best: 432 batches ago."
     ]
    },
    {
     "name": "stdout",
     "output_type": "stream",
     "text": [
      "\r",
      "Epoch: 2. Batch: 494. Min loss: 2.81220. Estimated time left: 0:55:37. Best: 433 batches ago.\r",
      "Epoch: 2. Batch: 495. Min loss: 2.81220. Estimated time left: 0:57:56. Best: 434 batches ago."
     ]
    },
    {
     "name": "stdout",
     "output_type": "stream",
     "text": [
      "\r",
      "Epoch: 2. Batch: 496. Min loss: 2.81220. Estimated time left: 0:57:21. Best: 435 batches ago.\r",
      "Epoch: 2. Batch: 497. Min loss: 2.81220. Estimated time left: 0:53:35. Best: 436 batches ago."
     ]
    },
    {
     "name": "stdout",
     "output_type": "stream",
     "text": [
      "\r",
      "Epoch: 2. Batch: 498. Min loss: 2.81220. Estimated time left: 0:55:22. Best: 437 batches ago.\r",
      "Epoch: 2. Batch: 499. Min loss: 2.81220. Estimated time left: 0:58:08. Best: 438 batches ago."
     ]
    },
    {
     "name": "stdout",
     "output_type": "stream",
     "text": [
      "\r",
      "Epoch: 2. Batch: 500. Min loss: 2.81220. Estimated time left: 0:56:36. Best: 439 batches ago.\r",
      "Epoch: 2. Batch: 501. Min loss: 2.81220. Estimated time left: 0:54:03. Best: 440 batches ago."
     ]
    },
    {
     "name": "stdout",
     "output_type": "stream",
     "text": [
      "\r",
      "Epoch: 2. Batch: 502. Min loss: 2.81220. Estimated time left: 1:04:18. Best: 441 batches ago."
     ]
    },
    {
     "name": "stdout",
     "output_type": "stream",
     "text": [
      "\r",
      "Epoch: 2. Batch: 503. Min loss: 2.81220. Estimated time left: 1:15:08. Best: 442 batches ago.\r",
      "Epoch: 2. Batch: 504. Min loss: 2.81220. Estimated time left: 1:04:48. Best: 443 batches ago."
     ]
    },
    {
     "name": "stdout",
     "output_type": "stream",
     "text": [
      "\r",
      "Epoch: 2. Batch: 505. Min loss: 2.81220. Estimated time left: 1:00:20. Best: 444 batches ago.\r",
      "Epoch: 2. Batch: 506. Min loss: 2.81220. Estimated time left: 0:56:46. Best: 445 batches ago."
     ]
    },
    {
     "name": "stdout",
     "output_type": "stream",
     "text": [
      "\r",
      "Epoch: 2. Batch: 507. Min loss: 2.81220. Estimated time left: 0:59:04. Best: 446 batches ago.\r",
      "Epoch: 2. Batch: 508. Min loss: 2.81220. Estimated time left: 0:58:52. Best: 447 batches ago."
     ]
    },
    {
     "name": "stdout",
     "output_type": "stream",
     "text": [
      "\r",
      "Epoch: 2. Batch: 509. Min loss: 2.81220. Estimated time left: 0:57:56. Best: 448 batches ago.\r",
      "Epoch: 2. Batch: 510. Min loss: 2.81220. Estimated time left: 1:01:26. Best: 449 batches ago."
     ]
    },
    {
     "name": "stdout",
     "output_type": "stream",
     "text": [
      "\r",
      "Epoch: 2. Batch: 511. Min loss: 2.81220. Estimated time left: 0:57:18. Best: 450 batches ago.\r",
      "Epoch: 2. Batch: 512. Min loss: 2.81220. Estimated time left: 0:54:43. Best: 451 batches ago."
     ]
    },
    {
     "name": "stdout",
     "output_type": "stream",
     "text": [
      "\r",
      "Epoch: 2. Batch: 513. Min loss: 2.81220. Estimated time left: 0:57:55. Best: 452 batches ago.\r",
      "Epoch: 2. Batch: 514. Min loss: 2.81220. Estimated time left: 0:56:59. Best: 453 batches ago."
     ]
    },
    {
     "name": "stdout",
     "output_type": "stream",
     "text": [
      "\r",
      "Epoch: 2. Batch: 515. Min loss: 2.81220. Estimated time left: 0:57:55. Best: 454 batches ago.\r",
      "Epoch: 2. Batch: 516. Min loss: 2.81220. Estimated time left: 1:01:31. Best: 455 batches ago."
     ]
    },
    {
     "name": "stdout",
     "output_type": "stream",
     "text": [
      "\r",
      "Epoch: 2. Batch: 517. Min loss: 2.81220. Estimated time left: 0:59:47. Best: 456 batches ago.\r",
      "Epoch: 2. Batch: 518. Min loss: 2.81220. Estimated time left: 0:55:29. Best: 457 batches ago."
     ]
    },
    {
     "name": "stdout",
     "output_type": "stream",
     "text": [
      "\r",
      "Epoch: 2. Batch: 519. Min loss: 2.81220. Estimated time left: 0:59:48. Best: 458 batches ago.\r",
      "Epoch: 2. Batch: 520. Min loss: 2.81220. Estimated time left: 0:54:43. Best: 459 batches ago."
     ]
    },
    {
     "name": "stdout",
     "output_type": "stream",
     "text": [
      "\r",
      "Epoch: 2. Batch: 521. Min loss: 2.81220. Estimated time left: 0:54:52. Best: 460 batches ago.\r",
      "Epoch: 2. Batch: 522. Min loss: 2.81220. Estimated time left: 0:58:26. Best: 461 batches ago."
     ]
    },
    {
     "name": "stdout",
     "output_type": "stream",
     "text": [
      "\r",
      "Epoch: 2. Batch: 523. Min loss: 2.81220. Estimated time left: 0:54:59. Best: 462 batches ago.\r",
      "Epoch: 2. Batch: 524. Min loss: 2.81220. Estimated time left: 0:56:41. Best: 463 batches ago."
     ]
    },
    {
     "name": "stdout",
     "output_type": "stream",
     "text": [
      "\r",
      "Epoch: 2. Batch: 525. Min loss: 2.81220. Estimated time left: 0:52:27. Best: 464 batches ago.\r",
      "Epoch: 2. Batch: 526. Min loss: 2.81220. Estimated time left: 0:54:12. Best: 465 batches ago."
     ]
    },
    {
     "name": "stdout",
     "output_type": "stream",
     "text": [
      "\r",
      "Epoch: 2. Batch: 527. Min loss: 2.81220. Estimated time left: 0:56:05. Best: 466 batches ago.\r",
      "Epoch: 2. Batch: 528. Min loss: 2.81220. Estimated time left: 0:59:08. Best: 467 batches ago."
     ]
    },
    {
     "name": "stdout",
     "output_type": "stream",
     "text": [
      "\r",
      "Epoch: 2. Batch: 529. Min loss: 2.81220. Estimated time left: 0:56:24. Best: 468 batches ago.\r",
      "Epoch: 2. Batch: 530. Min loss: 2.81220. Estimated time left: 0:55:05. Best: 469 batches ago."
     ]
    },
    {
     "name": "stdout",
     "output_type": "stream",
     "text": [
      "\r",
      "Epoch: 2. Batch: 531. Min loss: 2.81220. Estimated time left: 0:56:38. Best: 470 batches ago.\r",
      "Epoch: 2. Batch: 532. Min loss: 2.81220. Estimated time left: 0:53:22. Best: 471 batches ago."
     ]
    },
    {
     "name": "stdout",
     "output_type": "stream",
     "text": [
      "\r",
      "Epoch: 2. Batch: 533. Min loss: 2.81220. Estimated time left: 0:56:59. Best: 472 batches ago.\r",
      "Epoch: 2. Batch: 534. Min loss: 2.81220. Estimated time left: 0:58:37. Best: 473 batches ago."
     ]
    },
    {
     "name": "stdout",
     "output_type": "stream",
     "text": [
      "\r",
      "Epoch: 2. Batch: 535. Min loss: 2.81220. Estimated time left: 0:58:08. Best: 474 batches ago.\r",
      "Epoch: 2. Batch: 536. Min loss: 2.81220. Estimated time left: 0:54:59. Best: 475 batches ago."
     ]
    },
    {
     "name": "stdout",
     "output_type": "stream",
     "text": [
      "\r",
      "Epoch: 2. Batch: 537. Min loss: 2.81220. Estimated time left: 0:53:51. Best: 476 batches ago.\r",
      "Epoch: 2. Batch: 538. Min loss: 2.81220. Estimated time left: 0:55:12. Best: 477 batches ago."
     ]
    },
    {
     "name": "stdout",
     "output_type": "stream",
     "text": [
      "\r",
      "Epoch: 2. Batch: 539. Min loss: 2.81220. Estimated time left: 0:54:49. Best: 478 batches ago.\r",
      "Epoch: 2. Batch: 540. Min loss: 2.81220. Estimated time left: 0:56:38. Best: 479 batches ago."
     ]
    },
    {
     "name": "stdout",
     "output_type": "stream",
     "text": [
      "\r",
      "Epoch: 2. Batch: 541. Min loss: 2.81220. Estimated time left: 0:55:17. Best: 480 batches ago.\r",
      "Epoch: 2. Batch: 542. Min loss: 2.81220. Estimated time left: 0:57:38. Best: 481 batches ago."
     ]
    },
    {
     "name": "stdout",
     "output_type": "stream",
     "text": [
      "\r",
      "Epoch: 2. Batch: 543. Min loss: 2.81220. Estimated time left: 0:53:00. Best: 482 batches ago.\r",
      "Epoch: 2. Batch: 544. Min loss: 2.81220. Estimated time left: 0:54:59. Best: 483 batches ago."
     ]
    },
    {
     "name": "stdout",
     "output_type": "stream",
     "text": [
      "\r",
      "Epoch: 2. Batch: 545. Min loss: 2.81220. Estimated time left: 0:58:11. Best: 484 batches ago.\r",
      "Epoch: 2. Batch: 546. Min loss: 2.81220. Estimated time left: 0:53:43. Best: 485 batches ago."
     ]
    },
    {
     "name": "stdout",
     "output_type": "stream",
     "text": [
      "\r",
      "Epoch: 2. Batch: 547. Min loss: 2.81220. Estimated time left: 0:59:19. Best: 486 batches ago.\r",
      "Epoch: 2. Batch: 548. Min loss: 2.81220. Estimated time left: 0:57:27. Best: 487 batches ago."
     ]
    },
    {
     "name": "stdout",
     "output_type": "stream",
     "text": [
      "\r",
      "Epoch: 2. Batch: 549. Min loss: 2.81220. Estimated time left: 0:55:51. Best: 488 batches ago.\r",
      "Epoch: 2. Batch: 550. Min loss: 2.81220. Estimated time left: 1:02:00. Best: 489 batches ago."
     ]
    },
    {
     "name": "stdout",
     "output_type": "stream",
     "text": [
      "\r",
      "Epoch: 2. Batch: 551. Min loss: 2.81220. Estimated time left: 0:52:33. Best: 490 batches ago.\r",
      "Epoch: 2. Batch: 552. Min loss: 2.81080. Estimated time left: 0:55:21. Best: 0 batches ago."
     ]
    },
    {
     "name": "stdout",
     "output_type": "stream",
     "text": [
      "\r",
      "Epoch: 2. Batch: 553. Min loss: 2.81080. Estimated time left: 0:56:08. Best: 1 batches ago.\r",
      "Epoch: 2. Batch: 554. Min loss: 2.81080. Estimated time left: 0:56:33. Best: 2 batches ago."
     ]
    },
    {
     "name": "stdout",
     "output_type": "stream",
     "text": [
      "\r",
      "Epoch: 2. Batch: 555. Min loss: 2.81080. Estimated time left: 0:56:58. Best: 3 batches ago.\r",
      "Epoch: 2. Batch: 556. Min loss: 2.81080. Estimated time left: 0:58:39. Best: 4 batches ago."
     ]
    },
    {
     "name": "stdout",
     "output_type": "stream",
     "text": [
      "\r",
      "Epoch: 2. Batch: 557. Min loss: 2.81080. Estimated time left: 0:56:14. Best: 5 batches ago.\r",
      "Epoch: 2. Batch: 558. Min loss: 2.81080. Estimated time left: 0:54:59. Best: 6 batches ago."
     ]
    },
    {
     "name": "stdout",
     "output_type": "stream",
     "text": [
      "\r",
      "Epoch: 2. Batch: 559. Min loss: 2.81080. Estimated time left: 0:58:54. Best: 7 batches ago.\r",
      "Epoch: 2. Batch: 560. Min loss: 2.81080. Estimated time left: 0:55:40. Best: 8 batches ago."
     ]
    },
    {
     "name": "stdout",
     "output_type": "stream",
     "text": [
      "\r",
      "Epoch: 2. Batch: 561. Min loss: 2.81080. Estimated time left: 0:59:28. Best: 9 batches ago.\r",
      "Epoch: 2. Batch: 562. Min loss: 2.81080. Estimated time left: 0:59:08. Best: 10 batches ago."
     ]
    },
    {
     "name": "stdout",
     "output_type": "stream",
     "text": [
      "\r",
      "Epoch: 2. Batch: 563. Min loss: 2.81080. Estimated time left: 0:59:34. Best: 11 batches ago.\r",
      "Epoch: 2. Batch: 564. Min loss: 2.81080. Estimated time left: 0:58:43. Best: 12 batches ago."
     ]
    },
    {
     "name": "stdout",
     "output_type": "stream",
     "text": [
      "\r",
      "Epoch: 2. Batch: 565. Min loss: 2.81080. Estimated time left: 0:54:55. Best: 13 batches ago.\r",
      "Epoch: 2. Batch: 566. Min loss: 2.81080. Estimated time left: 0:53:29. Best: 14 batches ago."
     ]
    },
    {
     "name": "stdout",
     "output_type": "stream",
     "text": [
      "\r",
      "Epoch: 2. Batch: 567. Min loss: 2.81080. Estimated time left: 0:59:25. Best: 15 batches ago.\r",
      "Epoch: 2. Batch: 568. Min loss: 2.81080. Estimated time left: 0:51:16. Best: 16 batches ago."
     ]
    },
    {
     "name": "stdout",
     "output_type": "stream",
     "text": [
      "\r",
      "Epoch: 2. Batch: 569. Min loss: 2.81080. Estimated time left: 0:59:25. Best: 17 batches ago.\r",
      "Epoch: 2. Batch: 570. Min loss: 2.81080. Estimated time left: 0:54:17. Best: 18 batches ago."
     ]
    },
    {
     "name": "stdout",
     "output_type": "stream",
     "text": [
      "\r",
      "Epoch: 2. Batch: 571. Min loss: 2.81080. Estimated time left: 0:56:27. Best: 19 batches ago.\r",
      "Epoch: 2. Batch: 572. Min loss: 2.81080. Estimated time left: 0:56:35. Best: 20 batches ago."
     ]
    },
    {
     "name": "stdout",
     "output_type": "stream",
     "text": [
      "\r",
      "Epoch: 2. Batch: 573. Min loss: 2.81080. Estimated time left: 0:58:01. Best: 21 batches ago.\r",
      "Epoch: 2. Batch: 574. Min loss: 2.81080. Estimated time left: 0:58:53. Best: 22 batches ago."
     ]
    },
    {
     "name": "stdout",
     "output_type": "stream",
     "text": [
      "\r",
      "Epoch: 2. Batch: 575. Min loss: 2.81080. Estimated time left: 0:56:15. Best: 23 batches ago.\r",
      "Epoch: 2. Batch: 576. Min loss: 2.81080. Estimated time left: 0:58:28. Best: 24 batches ago."
     ]
    },
    {
     "name": "stdout",
     "output_type": "stream",
     "text": [
      "\r",
      "Epoch: 2. Batch: 577. Min loss: 2.81080. Estimated time left: 0:53:24. Best: 25 batches ago.\r",
      "Epoch: 2. Batch: 578. Min loss: 2.81080. Estimated time left: 0:56:28. Best: 26 batches ago."
     ]
    },
    {
     "name": "stdout",
     "output_type": "stream",
     "text": [
      "\r",
      "Epoch: 2. Batch: 579. Min loss: 2.81080. Estimated time left: 0:58:39. Best: 27 batches ago.\r",
      "Epoch: 2. Batch: 580. Min loss: 2.81080. Estimated time left: 0:56:26. Best: 28 batches ago."
     ]
    },
    {
     "name": "stdout",
     "output_type": "stream",
     "text": [
      "\r",
      "Epoch: 2. Batch: 581. Min loss: 2.81080. Estimated time left: 1:01:51. Best: 29 batches ago.\r",
      "Epoch: 2. Batch: 582. Min loss: 2.81080. Estimated time left: 0:54:03. Best: 30 batches ago."
     ]
    },
    {
     "name": "stdout",
     "output_type": "stream",
     "text": [
      "\r",
      "Epoch: 2. Batch: 583. Min loss: 2.81080. Estimated time left: 0:56:03. Best: 31 batches ago.\r",
      "Epoch: 2. Batch: 584. Min loss: 2.81080. Estimated time left: 0:59:27. Best: 32 batches ago."
     ]
    },
    {
     "name": "stdout",
     "output_type": "stream",
     "text": [
      "\r",
      "Epoch: 2. Batch: 585. Min loss: 2.81080. Estimated time left: 0:54:45. Best: 33 batches ago.\r",
      "Epoch: 2. Batch: 586. Min loss: 2.81080. Estimated time left: 0:51:29. Best: 34 batches ago."
     ]
    },
    {
     "name": "stdout",
     "output_type": "stream",
     "text": [
      "\r",
      "Epoch: 2. Batch: 587. Min loss: 2.81080. Estimated time left: 0:57:29. Best: 35 batches ago.\r",
      "Epoch: 2. Batch: 588. Min loss: 2.81080. Estimated time left: 0:56:23. Best: 36 batches ago."
     ]
    },
    {
     "name": "stdout",
     "output_type": "stream",
     "text": [
      "\r",
      "Epoch: 2. Batch: 589. Min loss: 2.81080. Estimated time left: 1:02:50. Best: 37 batches ago.\r",
      "Epoch: 2. Batch: 590. Min loss: 2.81080. Estimated time left: 0:52:07. Best: 38 batches ago."
     ]
    },
    {
     "name": "stdout",
     "output_type": "stream",
     "text": [
      "\r",
      "Epoch: 2. Batch: 591. Min loss: 2.81080. Estimated time left: 1:00:02. Best: 39 batches ago.\r",
      "Epoch: 2. Batch: 592. Min loss: 2.80824. Estimated time left: 0:56:02. Best: 0 batches ago."
     ]
    },
    {
     "name": "stdout",
     "output_type": "stream",
     "text": [
      "\r",
      "Epoch: 2. Batch: 593. Min loss: 2.80824. Estimated time left: 0:58:27. Best: 1 batches ago.\r",
      "Epoch: 2. Batch: 594. Min loss: 2.80824. Estimated time left: 0:54:06. Best: 2 batches ago."
     ]
    },
    {
     "name": "stdout",
     "output_type": "stream",
     "text": [
      "\r",
      "Epoch: 2. Batch: 595. Min loss: 2.80824. Estimated time left: 1:00:48. Best: 3 batches ago.\r",
      "Epoch: 2. Batch: 596. Min loss: 2.80824. Estimated time left: 0:56:46. Best: 4 batches ago."
     ]
    },
    {
     "name": "stdout",
     "output_type": "stream",
     "text": [
      "\r",
      "Epoch: 2. Batch: 597. Min loss: 2.80824. Estimated time left: 0:58:15. Best: 5 batches ago.\r",
      "Epoch: 2. Batch: 598. Min loss: 2.80824. Estimated time left: 0:55:36. Best: 6 batches ago."
     ]
    },
    {
     "name": "stdout",
     "output_type": "stream",
     "text": [
      "\r",
      "Epoch: 2. Batch: 599. Min loss: 2.80824. Estimated time left: 0:57:41. Best: 7 batches ago.\r",
      "Epoch: 2. Batch: 600. Min loss: 2.80824. Estimated time left: 0:57:06. Best: 8 batches ago."
     ]
    },
    {
     "name": "stdout",
     "output_type": "stream",
     "text": [
      "\r",
      "Epoch: 2. Batch: 601. Min loss: 2.80824. Estimated time left: 1:00:42. Best: 9 batches ago.\r",
      "Epoch: 2. Batch: 602. Min loss: 2.80824. Estimated time left: 0:59:33. Best: 10 batches ago."
     ]
    },
    {
     "name": "stdout",
     "output_type": "stream",
     "text": [
      "\r",
      "Epoch: 2. Batch: 603. Min loss: 2.80824. Estimated time left: 0:56:06. Best: 11 batches ago.\r",
      "Epoch: 2. Batch: 604. Min loss: 2.80824. Estimated time left: 0:54:32. Best: 12 batches ago."
     ]
    },
    {
     "name": "stdout",
     "output_type": "stream",
     "text": [
      "\r",
      "Epoch: 2. Batch: 605. Min loss: 2.80824. Estimated time left: 0:56:54. Best: 13 batches ago.\r",
      "Epoch: 2. Batch: 606. Min loss: 2.80824. Estimated time left: 0:59:32. Best: 14 batches ago."
     ]
    },
    {
     "name": "stdout",
     "output_type": "stream",
     "text": [
      "\r",
      "Epoch: 2. Batch: 607. Min loss: 2.80824. Estimated time left: 0:56:42. Best: 15 batches ago.\r",
      "Epoch: 2. Batch: 608. Min loss: 2.80824. Estimated time left: 0:56:17. Best: 16 batches ago."
     ]
    },
    {
     "name": "stdout",
     "output_type": "stream",
     "text": [
      "\r",
      "Epoch: 2. Batch: 609. Min loss: 2.80824. Estimated time left: 0:55:31. Best: 17 batches ago.\r",
      "Epoch: 2. Batch: 610. Min loss: 2.80824. Estimated time left: 0:57:44. Best: 18 batches ago."
     ]
    },
    {
     "name": "stdout",
     "output_type": "stream",
     "text": [
      "\r",
      "Epoch: 2. Batch: 611. Min loss: 2.80824. Estimated time left: 0:57:49. Best: 19 batches ago.\r",
      "Epoch: 2. Batch: 612. Min loss: 2.80824. Estimated time left: 0:58:44. Best: 20 batches ago."
     ]
    },
    {
     "name": "stdout",
     "output_type": "stream",
     "text": [
      "\r",
      "Epoch: 2. Batch: 613. Min loss: 2.80824. Estimated time left: 0:59:17. Best: 21 batches ago.\r",
      "Epoch: 2. Batch: 614. Min loss: 2.80824. Estimated time left: 0:55:12. Best: 22 batches ago."
     ]
    },
    {
     "name": "stdout",
     "output_type": "stream",
     "text": [
      "\r",
      "Epoch: 2. Batch: 615. Min loss: 2.80824. Estimated time left: 0:57:07. Best: 23 batches ago.\r",
      "Epoch: 2. Batch: 616. Min loss: 2.80824. Estimated time left: 0:53:03. Best: 24 batches ago."
     ]
    },
    {
     "name": "stdout",
     "output_type": "stream",
     "text": [
      "\r",
      "Epoch: 2. Batch: 617. Min loss: 2.80824. Estimated time left: 0:56:18. Best: 25 batches ago.\r",
      "Epoch: 2. Batch: 618. Min loss: 2.80824. Estimated time left: 0:57:39. Best: 26 batches ago."
     ]
    },
    {
     "name": "stdout",
     "output_type": "stream",
     "text": [
      "\r",
      "Epoch: 2. Batch: 619. Min loss: 2.80824. Estimated time left: 0:56:38. Best: 27 batches ago.\r",
      "Epoch: 2. Batch: 620. Min loss: 2.80824. Estimated time left: 0:55:01. Best: 28 batches ago."
     ]
    },
    {
     "name": "stdout",
     "output_type": "stream",
     "text": [
      "\r",
      "Epoch: 2. Batch: 621. Min loss: 2.80824. Estimated time left: 0:55:17. Best: 29 batches ago.\r",
      "Epoch: 2. Batch: 622. Min loss: 2.80824. Estimated time left: 0:58:33. Best: 30 batches ago."
     ]
    },
    {
     "name": "stdout",
     "output_type": "stream",
     "text": [
      "\r",
      "Epoch: 2. Batch: 623. Min loss: 2.80824. Estimated time left: 0:57:09. Best: 31 batches ago.\r",
      "Epoch: 2. Batch: 624. Min loss: 2.80824. Estimated time left: 0:54:00. Best: 32 batches ago."
     ]
    },
    {
     "name": "stdout",
     "output_type": "stream",
     "text": [
      "\r",
      "Epoch: 2. Batch: 625. Min loss: 2.80824. Estimated time left: 0:54:41. Best: 33 batches ago.\r",
      "Epoch: 2. Batch: 626. Min loss: 2.80824. Estimated time left: 0:57:46. Best: 34 batches ago."
     ]
    },
    {
     "name": "stdout",
     "output_type": "stream",
     "text": [
      "\r",
      "Epoch: 2. Batch: 627. Min loss: 2.80824. Estimated time left: 0:57:09. Best: 35 batches ago.\r",
      "Epoch: 2. Batch: 628. Min loss: 2.80824. Estimated time left: 0:55:38. Best: 36 batches ago."
     ]
    },
    {
     "name": "stdout",
     "output_type": "stream",
     "text": [
      "\r",
      "Epoch: 2. Batch: 629. Min loss: 2.80824. Estimated time left: 0:53:08. Best: 37 batches ago.\r",
      "Epoch: 2. Batch: 630. Min loss: 2.80824. Estimated time left: 0:56:46. Best: 38 batches ago."
     ]
    },
    {
     "name": "stdout",
     "output_type": "stream",
     "text": [
      "\r",
      "Epoch: 2. Batch: 631. Min loss: 2.80824. Estimated time left: 0:56:25. Best: 39 batches ago.\r",
      "Epoch: 2. Batch: 632. Min loss: 2.80824. Estimated time left: 0:54:37. Best: 40 batches ago."
     ]
    },
    {
     "name": "stdout",
     "output_type": "stream",
     "text": [
      "\r",
      "Epoch: 2. Batch: 633. Min loss: 2.80155. Estimated time left: 0:54:43. Best: 0 batches ago.\r",
      "Epoch: 2. Batch: 634. Min loss: 2.80155. Estimated time left: 0:54:58. Best: 1 batches ago."
     ]
    },
    {
     "name": "stdout",
     "output_type": "stream",
     "text": [
      "\r",
      "Epoch: 2. Batch: 635. Min loss: 2.80155. Estimated time left: 0:54:55. Best: 2 batches ago.\r",
      "Epoch: 2. Batch: 636. Min loss: 2.80155. Estimated time left: 0:57:36. Best: 3 batches ago."
     ]
    },
    {
     "name": "stdout",
     "output_type": "stream",
     "text": [
      "\r",
      "Epoch: 2. Batch: 637. Min loss: 2.80155. Estimated time left: 0:55:22. Best: 4 batches ago.\r",
      "Epoch: 2. Batch: 638. Min loss: 2.80155. Estimated time left: 0:53:53. Best: 5 batches ago."
     ]
    },
    {
     "name": "stdout",
     "output_type": "stream",
     "text": [
      "\r",
      "Epoch: 2. Batch: 639. Min loss: 2.80155. Estimated time left: 0:55:14. Best: 6 batches ago.\r",
      "Epoch: 2. Batch: 640. Min loss: 2.80155. Estimated time left: 0:53:56. Best: 7 batches ago."
     ]
    },
    {
     "name": "stdout",
     "output_type": "stream",
     "text": [
      "\r",
      "Epoch: 2. Batch: 641. Min loss: 2.80155. Estimated time left: 0:51:50. Best: 8 batches ago.\r",
      "Epoch: 2. Batch: 642. Min loss: 2.80155. Estimated time left: 0:58:36. Best: 9 batches ago."
     ]
    },
    {
     "name": "stdout",
     "output_type": "stream",
     "text": [
      "\r",
      "Epoch: 2. Batch: 643. Min loss: 2.80155. Estimated time left: 0:56:15. Best: 10 batches ago.\r",
      "Epoch: 2. Batch: 644. Min loss: 2.80155. Estimated time left: 0:51:12. Best: 11 batches ago."
     ]
    },
    {
     "name": "stdout",
     "output_type": "stream",
     "text": [
      "\r",
      "Epoch: 2. Batch: 645. Min loss: 2.80155. Estimated time left: 0:54:31. Best: 12 batches ago.\r",
      "Epoch: 2. Batch: 646. Min loss: 2.80155. Estimated time left: 0:56:16. Best: 13 batches ago."
     ]
    },
    {
     "name": "stdout",
     "output_type": "stream",
     "text": [
      "\r",
      "Epoch: 2. Batch: 647. Min loss: 2.80155. Estimated time left: 0:56:07. Best: 14 batches ago.\r",
      "Epoch: 2. Batch: 648. Min loss: 2.80155. Estimated time left: 0:53:04. Best: 15 batches ago."
     ]
    },
    {
     "name": "stdout",
     "output_type": "stream",
     "text": [
      "\r",
      "Epoch: 2. Batch: 649. Min loss: 2.80155. Estimated time left: 0:54:50. Best: 16 batches ago.\r",
      "Epoch: 2. Batch: 650. Min loss: 2.80155. Estimated time left: 0:53:47. Best: 17 batches ago."
     ]
    },
    {
     "name": "stdout",
     "output_type": "stream",
     "text": [
      "\r",
      "Epoch: 2. Batch: 651. Min loss: 2.80155. Estimated time left: 0:54:54. Best: 18 batches ago.\r",
      "Epoch: 2. Batch: 652. Min loss: 2.80155. Estimated time left: 0:53:03. Best: 19 batches ago."
     ]
    },
    {
     "name": "stdout",
     "output_type": "stream",
     "text": [
      "\r",
      "Epoch: 2. Batch: 653. Min loss: 2.80155. Estimated time left: 0:56:16. Best: 20 batches ago.\r",
      "Epoch: 2. Batch: 654. Min loss: 2.80155. Estimated time left: 0:58:59. Best: 21 batches ago."
     ]
    },
    {
     "name": "stdout",
     "output_type": "stream",
     "text": [
      "\r",
      "Epoch: 2. Batch: 655. Min loss: 2.80155. Estimated time left: 0:56:36. Best: 22 batches ago.\r",
      "Epoch: 2. Batch: 656. Min loss: 2.80155. Estimated time left: 0:55:59. Best: 23 batches ago."
     ]
    },
    {
     "name": "stdout",
     "output_type": "stream",
     "text": [
      "\r",
      "Epoch: 2. Batch: 657. Min loss: 2.80155. Estimated time left: 0:54:27. Best: 24 batches ago.\r",
      "Epoch: 2. Batch: 658. Min loss: 2.80155. Estimated time left: 0:53:17. Best: 25 batches ago."
     ]
    },
    {
     "name": "stdout",
     "output_type": "stream",
     "text": [
      "\r",
      "Epoch: 2. Batch: 659. Min loss: 2.80155. Estimated time left: 0:54:57. Best: 26 batches ago.\r",
      "Epoch: 2. Batch: 660. Min loss: 2.80155. Estimated time left: 0:52:50. Best: 27 batches ago."
     ]
    },
    {
     "name": "stdout",
     "output_type": "stream",
     "text": [
      "\r",
      "Epoch: 2. Batch: 661. Min loss: 2.80155. Estimated time left: 0:52:27. Best: 28 batches ago.\r",
      "Epoch: 2. Batch: 662. Min loss: 2.80155. Estimated time left: 0:53:39. Best: 29 batches ago."
     ]
    },
    {
     "name": "stdout",
     "output_type": "stream",
     "text": [
      "\r",
      "Epoch: 2. Batch: 663. Min loss: 2.80155. Estimated time left: 0:53:38. Best: 30 batches ago.\r",
      "Epoch: 2. Batch: 664. Min loss: 2.80155. Estimated time left: 0:57:23. Best: 31 batches ago."
     ]
    },
    {
     "name": "stdout",
     "output_type": "stream",
     "text": [
      "\r",
      "Epoch: 2. Batch: 665. Min loss: 2.80155. Estimated time left: 0:53:49. Best: 32 batches ago.\r",
      "Epoch: 2. Batch: 666. Min loss: 2.80155. Estimated time left: 0:58:50. Best: 33 batches ago."
     ]
    },
    {
     "name": "stdout",
     "output_type": "stream",
     "text": [
      "\r",
      "Epoch: 2. Batch: 667. Min loss: 2.80155. Estimated time left: 0:54:45. Best: 34 batches ago.\r",
      "Epoch: 2. Batch: 668. Min loss: 2.80155. Estimated time left: 0:55:27. Best: 35 batches ago."
     ]
    },
    {
     "name": "stdout",
     "output_type": "stream",
     "text": [
      "\r",
      "Epoch: 2. Batch: 669. Min loss: 2.80155. Estimated time left: 0:51:28. Best: 36 batches ago.\r",
      "Epoch: 2. Batch: 670. Min loss: 2.80155. Estimated time left: 0:53:26. Best: 37 batches ago."
     ]
    },
    {
     "name": "stdout",
     "output_type": "stream",
     "text": [
      "\r",
      "Epoch: 2. Batch: 671. Min loss: 2.80155. Estimated time left: 0:55:48. Best: 38 batches ago.\r",
      "Epoch: 2. Batch: 672. Min loss: 2.80155. Estimated time left: 0:56:09. Best: 39 batches ago."
     ]
    },
    {
     "name": "stdout",
     "output_type": "stream",
     "text": [
      "\r",
      "Epoch: 2. Batch: 673. Min loss: 2.80155. Estimated time left: 0:56:03. Best: 40 batches ago.\r",
      "Epoch: 2. Batch: 674. Min loss: 2.80155. Estimated time left: 0:56:55. Best: 41 batches ago."
     ]
    },
    {
     "name": "stdout",
     "output_type": "stream",
     "text": [
      "\r",
      "Epoch: 2. Batch: 675. Min loss: 2.80155. Estimated time left: 0:46:44. Best: 42 batches ago.\r",
      "Epoch: 2. Batch: 676. Min loss: 2.80155. Estimated time left: 0:55:40. Best: 43 batches ago."
     ]
    },
    {
     "name": "stdout",
     "output_type": "stream",
     "text": [
      "\r",
      "Epoch: 2. Batch: 677. Min loss: 2.80155. Estimated time left: 0:53:28. Best: 44 batches ago.\r",
      "Epoch: 2. Batch: 678. Min loss: 2.80155. Estimated time left: 0:58:08. Best: 45 batches ago."
     ]
    },
    {
     "name": "stdout",
     "output_type": "stream",
     "text": [
      "\r",
      "Epoch: 2. Batch: 679. Min loss: 2.80155. Estimated time left: 0:56:50. Best: 46 batches ago.\r",
      "Epoch: 2. Batch: 680. Min loss: 2.80155. Estimated time left: 0:58:22. Best: 47 batches ago."
     ]
    },
    {
     "name": "stdout",
     "output_type": "stream",
     "text": [
      "\r",
      "Epoch: 2. Batch: 681. Min loss: 2.80155. Estimated time left: 0:50:00. Best: 48 batches ago.\r",
      "Epoch: 2. Batch: 682. Min loss: 2.80155. Estimated time left: 0:52:39. Best: 49 batches ago."
     ]
    },
    {
     "name": "stdout",
     "output_type": "stream",
     "text": [
      "\r",
      "Epoch: 2. Batch: 683. Min loss: 2.80155. Estimated time left: 0:55:42. Best: 50 batches ago.\r",
      "Epoch: 2. Batch: 684. Min loss: 2.80155. Estimated time left: 0:54:35. Best: 51 batches ago."
     ]
    },
    {
     "name": "stdout",
     "output_type": "stream",
     "text": [
      "\r",
      "Epoch: 2. Batch: 685. Min loss: 2.80155. Estimated time left: 0:54:00. Best: 52 batches ago.\r",
      "Epoch: 2. Batch: 686. Min loss: 2.80155. Estimated time left: 0:58:20. Best: 53 batches ago."
     ]
    },
    {
     "name": "stdout",
     "output_type": "stream",
     "text": [
      "\r",
      "Epoch: 2. Batch: 687. Min loss: 2.80155. Estimated time left: 0:54:23. Best: 54 batches ago.\r",
      "Epoch: 2. Batch: 688. Min loss: 2.80155. Estimated time left: 0:53:26. Best: 55 batches ago."
     ]
    },
    {
     "name": "stdout",
     "output_type": "stream",
     "text": [
      "\r",
      "Epoch: 2. Batch: 689. Min loss: 2.80155. Estimated time left: 0:53:51. Best: 56 batches ago.\r",
      "Epoch: 2. Batch: 690. Min loss: 2.80155. Estimated time left: 0:57:22. Best: 57 batches ago."
     ]
    },
    {
     "name": "stdout",
     "output_type": "stream",
     "text": [
      "\r",
      "Epoch: 2. Batch: 691. Min loss: 2.80155. Estimated time left: 1:00:26. Best: 58 batches ago.\r",
      "Epoch: 2. Batch: 692. Min loss: 2.80155. Estimated time left: 0:59:42. Best: 59 batches ago."
     ]
    },
    {
     "name": "stdout",
     "output_type": "stream",
     "text": [
      "\r",
      "Epoch: 2. Batch: 693. Min loss: 2.80155. Estimated time left: 0:55:26. Best: 60 batches ago.\r",
      "Epoch: 2. Batch: 694. Min loss: 2.80155. Estimated time left: 0:56:12. Best: 61 batches ago."
     ]
    },
    {
     "name": "stdout",
     "output_type": "stream",
     "text": [
      "\r",
      "Epoch: 2. Batch: 695. Min loss: 2.80155. Estimated time left: 0:56:25. Best: 62 batches ago.\r",
      "Epoch: 2. Batch: 696. Min loss: 2.80155. Estimated time left: 0:55:39. Best: 63 batches ago."
     ]
    },
    {
     "name": "stdout",
     "output_type": "stream",
     "text": [
      "\r",
      "Epoch: 2. Batch: 697. Min loss: 2.80155. Estimated time left: 0:57:54. Best: 64 batches ago.\r",
      "Epoch: 2. Batch: 698. Min loss: 2.80155. Estimated time left: 0:51:29. Best: 65 batches ago."
     ]
    },
    {
     "name": "stdout",
     "output_type": "stream",
     "text": [
      "\r",
      "Epoch: 2. Batch: 699. Min loss: 2.80155. Estimated time left: 0:55:23. Best: 66 batches ago.\r",
      "Epoch: 2. Batch: 700. Min loss: 2.80155. Estimated time left: 0:56:18. Best: 67 batches ago."
     ]
    },
    {
     "name": "stdout",
     "output_type": "stream",
     "text": [
      "\r",
      "Epoch: 2. Batch: 701. Min loss: 2.80155. Estimated time left: 1:04:56. Best: 68 batches ago."
     ]
    },
    {
     "name": "stdout",
     "output_type": "stream",
     "text": [
      "\r",
      "Epoch: 2. Batch: 702. Min loss: 2.80155. Estimated time left: 1:14:24. Best: 69 batches ago."
     ]
    },
    {
     "name": "stdout",
     "output_type": "stream",
     "text": [
      "\r",
      "Epoch: 2. Batch: 703. Min loss: 2.80155. Estimated time left: 1:15:13. Best: 70 batches ago."
     ]
    },
    {
     "name": "stdout",
     "output_type": "stream",
     "text": [
      "\r",
      "Epoch: 2. Batch: 704. Min loss: 2.80155. Estimated time left: 1:12:30. Best: 71 batches ago.\r",
      "Epoch: 2. Batch: 705. Min loss: 2.80155. Estimated time left: 1:05:44. Best: 72 batches ago."
     ]
    },
    {
     "name": "stdout",
     "output_type": "stream",
     "text": [
      "\r",
      "Epoch: 2. Batch: 706. Min loss: 2.80155. Estimated time left: 0:56:33. Best: 73 batches ago.\r",
      "Epoch: 2. Batch: 707. Min loss: 2.80155. Estimated time left: 0:53:34. Best: 74 batches ago."
     ]
    },
    {
     "name": "stdout",
     "output_type": "stream",
     "text": [
      "\r",
      "Epoch: 2. Batch: 708. Min loss: 2.80155. Estimated time left: 0:57:07. Best: 75 batches ago.\r",
      "Epoch: 2. Batch: 709. Min loss: 2.80155. Estimated time left: 1:05:47. Best: 76 batches ago."
     ]
    },
    {
     "name": "stdout",
     "output_type": "stream",
     "text": [
      "\r",
      "Epoch: 2. Batch: 710. Min loss: 2.80155. Estimated time left: 1:08:17. Best: 77 batches ago.\r",
      "Epoch: 2. Batch: 711. Min loss: 2.80155. Estimated time left: 1:09:39. Best: 78 batches ago."
     ]
    },
    {
     "name": "stdout",
     "output_type": "stream",
     "text": [
      "\r",
      "Epoch: 2. Batch: 712. Min loss: 2.80155. Estimated time left: 1:13:00. Best: 79 batches ago.\r",
      "Epoch: 2. Batch: 713. Min loss: 2.80155. Estimated time left: 1:05:42. Best: 80 batches ago."
     ]
    },
    {
     "name": "stdout",
     "output_type": "stream",
     "text": [
      "\r",
      "Epoch: 2. Batch: 714. Min loss: 2.80155. Estimated time left: 0:56:19. Best: 81 batches ago.\r",
      "Epoch: 2. Batch: 715. Min loss: 2.80155. Estimated time left: 0:53:22. Best: 82 batches ago."
     ]
    },
    {
     "name": "stdout",
     "output_type": "stream",
     "text": [
      "\r",
      "Epoch: 2. Batch: 716. Min loss: 2.80155. Estimated time left: 0:56:17. Best: 83 batches ago.\r",
      "Epoch: 2. Batch: 717. Min loss: 2.80155. Estimated time left: 0:55:24. Best: 84 batches ago."
     ]
    },
    {
     "name": "stdout",
     "output_type": "stream",
     "text": [
      "\r",
      "Epoch: 2. Batch: 718. Min loss: 2.80155. Estimated time left: 1:12:30. Best: 85 batches ago."
     ]
    },
    {
     "name": "stdout",
     "output_type": "stream",
     "text": [
      "\r",
      "Epoch: 2. Batch: 719. Min loss: 2.80155. Estimated time left: 1:10:02. Best: 86 batches ago."
     ]
    },
    {
     "name": "stdout",
     "output_type": "stream",
     "text": [
      "\r",
      "Epoch: 2. Batch: 720. Min loss: 2.80155. Estimated time left: 1:11:34. Best: 87 batches ago."
     ]
    },
    {
     "name": "stdout",
     "output_type": "stream",
     "text": [
      "\r",
      "Epoch: 2. Batch: 721. Min loss: 2.80155. Estimated time left: 1:13:04. Best: 88 batches ago.\r",
      "Epoch: 2. Batch: 722. Min loss: 2.80155. Estimated time left: 0:56:11. Best: 89 batches ago."
     ]
    },
    {
     "name": "stdout",
     "output_type": "stream",
     "text": [
      "\r",
      "Epoch: 2. Batch: 723. Min loss: 2.80155. Estimated time left: 1:01:34. Best: 90 batches ago.\r",
      "Epoch: 2. Batch: 724. Min loss: 2.80155. Estimated time left: 0:57:29. Best: 91 batches ago."
     ]
    },
    {
     "name": "stdout",
     "output_type": "stream",
     "text": [
      "\r",
      "Epoch: 2. Batch: 725. Min loss: 2.80155. Estimated time left: 1:06:38. Best: 92 batches ago."
     ]
    },
    {
     "name": "stdout",
     "output_type": "stream",
     "text": [
      "\r",
      "Epoch: 2. Batch: 726. Min loss: 2.80155. Estimated time left: 1:13:23. Best: 93 batches ago.\r",
      "Epoch: 2. Batch: 727. Min loss: 2.80155. Estimated time left: 1:05:23. Best: 94 batches ago."
     ]
    },
    {
     "name": "stdout",
     "output_type": "stream",
     "text": [
      "\r",
      "Epoch: 2. Batch: 728. Min loss: 2.80155. Estimated time left: 1:12:12. Best: 95 batches ago.\r",
      "Epoch: 2. Batch: 729. Min loss: 2.80155. Estimated time left: 1:07:34. Best: 96 batches ago."
     ]
    },
    {
     "name": "stdout",
     "output_type": "stream",
     "text": [
      "\r",
      "Epoch: 2. Batch: 730. Min loss: 2.80155. Estimated time left: 1:00:56. Best: 97 batches ago.\r",
      "Epoch: 2. Batch: 731. Min loss: 2.80155. Estimated time left: 0:53:28. Best: 98 batches ago."
     ]
    },
    {
     "name": "stdout",
     "output_type": "stream",
     "text": [
      "\r",
      "Epoch: 2. Batch: 732. Min loss: 2.80155. Estimated time left: 1:02:34. Best: 99 batches ago.\r",
      "Epoch: 2. Batch: 733. Min loss: 2.80155. Estimated time left: 0:53:03. Best: 100 batches ago."
     ]
    },
    {
     "name": "stdout",
     "output_type": "stream",
     "text": [
      "\r",
      "Epoch: 2. Batch: 734. Min loss: 2.80155. Estimated time left: 1:11:11. Best: 101 batches ago."
     ]
    },
    {
     "name": "stdout",
     "output_type": "stream",
     "text": [
      "\r",
      "Epoch: 2. Batch: 735. Min loss: 2.80155. Estimated time left: 1:11:25. Best: 102 batches ago."
     ]
    },
    {
     "name": "stdout",
     "output_type": "stream",
     "text": [
      "\r",
      "Epoch: 2. Batch: 736. Min loss: 2.80155. Estimated time left: 1:15:31. Best: 103 batches ago."
     ]
    },
    {
     "name": "stdout",
     "output_type": "stream",
     "text": [
      "\r",
      "Epoch: 2. Batch: 737. Min loss: 2.80155. Estimated time left: 1:12:05. Best: 104 batches ago.\r",
      "Epoch: 2. Batch: 738. Min loss: 2.80155. Estimated time left: 0:58:28. Best: 105 batches ago."
     ]
    },
    {
     "name": "stdout",
     "output_type": "stream",
     "text": [
      "\r",
      "Epoch: 2. Batch: 739. Min loss: 2.80155. Estimated time left: 0:57:36. Best: 106 batches ago.\r",
      "Epoch: 2. Batch: 740. Min loss: 2.80155. Estimated time left: 0:55:29. Best: 107 batches ago."
     ]
    },
    {
     "name": "stdout",
     "output_type": "stream",
     "text": [
      "\r",
      "Epoch: 2. Batch: 741. Min loss: 2.80155. Estimated time left: 0:58:16. Best: 108 batches ago."
     ]
    },
    {
     "name": "stdout",
     "output_type": "stream",
     "text": [
      "\r",
      "Epoch: 2. Batch: 742. Min loss: 2.80155. Estimated time left: 1:16:54. Best: 109 batches ago."
     ]
    },
    {
     "name": "stdout",
     "output_type": "stream",
     "text": [
      "\r",
      "Epoch: 2. Batch: 743. Min loss: 2.80155. Estimated time left: 1:12:40. Best: 110 batches ago."
     ]
    },
    {
     "name": "stdout",
     "output_type": "stream",
     "text": [
      "\r",
      "Epoch: 2. Batch: 744. Min loss: 2.80155. Estimated time left: 1:11:45. Best: 111 batches ago."
     ]
    },
    {
     "name": "stdout",
     "output_type": "stream",
     "text": [
      "\r",
      "Epoch: 2. Batch: 745. Min loss: 2.80155. Estimated time left: 1:14:07. Best: 112 batches ago.\r",
      "Epoch: 2. Batch: 746. Min loss: 2.80155. Estimated time left: 0:57:52. Best: 113 batches ago."
     ]
    },
    {
     "name": "stdout",
     "output_type": "stream",
     "text": [
      "\r",
      "Epoch: 2. Batch: 747. Min loss: 2.80155. Estimated time left: 0:57:10. Best: 114 batches ago.\r",
      "Epoch: 2. Batch: 748. Min loss: 2.80155. Estimated time left: 0:55:42. Best: 115 batches ago."
     ]
    },
    {
     "name": "stdout",
     "output_type": "stream",
     "text": [
      "\r",
      "Epoch: 2. Batch: 749. Min loss: 2.80155. Estimated time left: 0:55:18. Best: 116 batches ago."
     ]
    },
    {
     "name": "stdout",
     "output_type": "stream",
     "text": [
      "\r",
      "Epoch: 2. Batch: 750. Min loss: 2.80155. Estimated time left: 1:09:57. Best: 117 batches ago.\r",
      "Epoch: 2. Batch: 751. Min loss: 2.80155. Estimated time left: 1:08:16. Best: 118 batches ago."
     ]
    },
    {
     "name": "stdout",
     "output_type": "stream",
     "text": [
      "\r",
      "Epoch: 2. Batch: 752. Min loss: 2.80155. Estimated time left: 1:19:36. Best: 119 batches ago.\r",
      "Epoch: 2. Batch: 753. Min loss: 2.80155. Estimated time left: 1:08:24. Best: 120 batches ago."
     ]
    },
    {
     "name": "stdout",
     "output_type": "stream",
     "text": [
      "\r",
      "Epoch: 2. Batch: 754. Min loss: 2.80155. Estimated time left: 0:58:22. Best: 121 batches ago.\r",
      "Epoch: 2. Batch: 755. Min loss: 2.80155. Estimated time left: 0:54:24. Best: 122 batches ago."
     ]
    },
    {
     "name": "stdout",
     "output_type": "stream",
     "text": [
      "\r",
      "Epoch: 2. Batch: 756. Min loss: 2.80155. Estimated time left: 0:55:27. Best: 123 batches ago.\r",
      "Epoch: 2. Batch: 757. Min loss: 2.80155. Estimated time left: 0:52:16. Best: 124 batches ago."
     ]
    },
    {
     "name": "stdout",
     "output_type": "stream",
     "text": [
      "\r",
      "Epoch: 2. Batch: 758. Min loss: 2.80155. Estimated time left: 1:03:38. Best: 125 batches ago.\r",
      "Epoch: 2. Batch: 759. Min loss: 2.80155. Estimated time left: 1:07:40. Best: 126 batches ago."
     ]
    },
    {
     "name": "stdout",
     "output_type": "stream",
     "text": [
      "\r",
      "Epoch: 2. Batch: 760. Min loss: 2.80155. Estimated time left: 1:09:12. Best: 127 batches ago.\r",
      "Epoch: 2. Batch: 761. Min loss: 2.80155. Estimated time left: 1:08:48. Best: 128 batches ago."
     ]
    },
    {
     "name": "stdout",
     "output_type": "stream",
     "text": [
      "\r",
      "Epoch: 2. Batch: 762. Min loss: 2.80155. Estimated time left: 1:07:43. Best: 129 batches ago.\r",
      "Epoch: 2. Batch: 763. Min loss: 2.80155. Estimated time left: 0:57:01. Best: 130 batches ago."
     ]
    },
    {
     "name": "stdout",
     "output_type": "stream",
     "text": [
      "\r",
      "Epoch: 2. Batch: 764. Min loss: 2.80155. Estimated time left: 0:55:39. Best: 131 batches ago.\r",
      "Epoch: 2. Batch: 765. Min loss: 2.80155. Estimated time left: 0:55:53. Best: 132 batches ago."
     ]
    },
    {
     "name": "stdout",
     "output_type": "stream",
     "text": [
      "\r",
      "Epoch: 2. Batch: 766. Min loss: 2.80155. Estimated time left: 0:58:03. Best: 133 batches ago.\r",
      "Epoch: 2. Batch: 767. Min loss: 2.80155. Estimated time left: 1:08:13. Best: 134 batches ago."
     ]
    },
    {
     "name": "stdout",
     "output_type": "stream",
     "text": [
      "\r",
      "Epoch: 2. Batch: 768. Min loss: 2.80155. Estimated time left: 1:06:02. Best: 135 batches ago.\r",
      "Epoch: 2. Batch: 769. Min loss: 2.80155. Estimated time left: 1:08:04. Best: 136 batches ago."
     ]
    },
    {
     "name": "stdout",
     "output_type": "stream",
     "text": [
      "\r",
      "Epoch: 2. Batch: 770. Min loss: 2.80155. Estimated time left: 1:10:38. Best: 137 batches ago.\r",
      "Epoch: 2. Batch: 771. Min loss: 2.80155. Estimated time left: 1:00:52. Best: 138 batches ago."
     ]
    },
    {
     "name": "stdout",
     "output_type": "stream",
     "text": [
      "\r",
      "Epoch: 2. Batch: 772. Min loss: 2.80155. Estimated time left: 1:01:40. Best: 139 batches ago.\r",
      "Epoch: 2. Batch: 773. Min loss: 2.80155. Estimated time left: 0:54:23. Best: 140 batches ago."
     ]
    },
    {
     "name": "stdout",
     "output_type": "stream",
     "text": [
      "\r",
      "Epoch: 2. Batch: 774. Min loss: 2.80155. Estimated time left: 0:56:27. Best: 141 batches ago.\r",
      "Epoch: 2. Batch: 775. Min loss: 2.80155. Estimated time left: 1:07:25. Best: 142 batches ago."
     ]
    },
    {
     "name": "stdout",
     "output_type": "stream",
     "text": [
      "\r",
      "Epoch: 2. Batch: 776. Min loss: 2.80155. Estimated time left: 1:13:24. Best: 143 batches ago."
     ]
    },
    {
     "name": "stdout",
     "output_type": "stream",
     "text": [
      "\r",
      "Epoch: 2. Batch: 777. Min loss: 2.80155. Estimated time left: 1:16:40. Best: 144 batches ago."
     ]
    },
    {
     "name": "stdout",
     "output_type": "stream",
     "text": [
      "\r",
      "Epoch: 2. Batch: 778. Min loss: 2.80155. Estimated time left: 1:15:29. Best: 145 batches ago.\r",
      "Epoch: 2. Batch: 779. Min loss: 2.80155. Estimated time left: 0:58:04. Best: 146 batches ago."
     ]
    },
    {
     "name": "stdout",
     "output_type": "stream",
     "text": [
      "\r",
      "Epoch: 2. Batch: 780. Min loss: 2.80155. Estimated time left: 0:52:13. Best: 147 batches ago.\r",
      "Epoch: 2. Batch: 781. Min loss: 2.80155. Estimated time left: 1:00:43. Best: 148 batches ago."
     ]
    },
    {
     "name": "stdout",
     "output_type": "stream",
     "text": [
      "\r",
      "Epoch: 2. Batch: 782. Min loss: 2.80155. Estimated time left: 0:53:13. Best: 149 batches ago.\r",
      "Epoch: 2. Batch: 783. Min loss: 2.80155. Estimated time left: 1:08:19. Best: 150 batches ago."
     ]
    },
    {
     "name": "stdout",
     "output_type": "stream",
     "text": [
      "\r",
      "Epoch: 2. Batch: 784. Min loss: 2.80155. Estimated time left: 1:10:33. Best: 151 batches ago.\r",
      "Epoch: 2. Batch: 785. Min loss: 2.80155. Estimated time left: 1:07:07. Best: 152 batches ago."
     ]
    },
    {
     "name": "stdout",
     "output_type": "stream",
     "text": [
      "\r",
      "Epoch: 2. Batch: 786. Min loss: 2.80155. Estimated time left: 1:11:51. Best: 153 batches ago.\r",
      "Epoch: 2. Batch: 787. Min loss: 2.80155. Estimated time left: 1:03:37. Best: 154 batches ago."
     ]
    },
    {
     "name": "stdout",
     "output_type": "stream",
     "text": [
      "\r",
      "Epoch: 2. Batch: 788. Min loss: 2.80155. Estimated time left: 0:53:28. Best: 155 batches ago.\r",
      "Epoch: 2. Batch: 789. Min loss: 2.80155. Estimated time left: 0:56:03. Best: 156 batches ago."
     ]
    },
    {
     "name": "stdout",
     "output_type": "stream",
     "text": [
      "\r",
      "Epoch: 2. Batch: 790. Min loss: 2.80155. Estimated time left: 0:52:45. Best: 157 batches ago.\r",
      "Epoch: 2. Batch: 791. Min loss: 2.80155. Estimated time left: 1:07:29. Best: 158 batches ago."
     ]
    },
    {
     "name": "stdout",
     "output_type": "stream",
     "text": [
      "\r",
      "Epoch: 2. Batch: 792. Min loss: 2.80155. Estimated time left: 1:04:11. Best: 159 batches ago.\r",
      "Epoch: 2. Batch: 793. Min loss: 2.80155. Estimated time left: 1:09:30. Best: 160 batches ago."
     ]
    },
    {
     "name": "stdout",
     "output_type": "stream",
     "text": [
      "\r",
      "Epoch: 2. Batch: 794. Min loss: 2.80155. Estimated time left: 1:09:08. Best: 161 batches ago.\r",
      "Epoch: 2. Batch: 795. Min loss: 2.80155. Estimated time left: 1:06:53. Best: 162 batches ago."
     ]
    },
    {
     "name": "stdout",
     "output_type": "stream",
     "text": [
      "\r",
      "Epoch: 2. Batch: 796. Min loss: 2.80155. Estimated time left: 0:57:42. Best: 163 batches ago.\r",
      "Epoch: 2. Batch: 797. Min loss: 2.80155. Estimated time left: 0:54:23. Best: 164 batches ago."
     ]
    },
    {
     "name": "stdout",
     "output_type": "stream",
     "text": [
      "\r",
      "Epoch: 2. Batch: 798. Min loss: 2.80155. Estimated time left: 0:53:25. Best: 165 batches ago.\r",
      "Epoch: 2. Batch: 799. Min loss: 2.80155. Estimated time left: 0:54:07. Best: 166 batches ago."
     ]
    },
    {
     "name": "stdout",
     "output_type": "stream",
     "text": [
      "\r",
      "Epoch: 2. Batch: 800. Min loss: 2.80155. Estimated time left: 1:11:07. Best: 167 batches ago."
     ]
    },
    {
     "name": "stdout",
     "output_type": "stream",
     "text": [
      "\r",
      "Epoch: 2. Batch: 801. Min loss: 2.80155. Estimated time left: 1:11:13. Best: 168 batches ago."
     ]
    },
    {
     "name": "stdout",
     "output_type": "stream",
     "text": [
      "\r",
      "Epoch: 2. Batch: 802. Min loss: 2.80155. Estimated time left: 1:11:49. Best: 169 batches ago.\r",
      "Epoch: 2. Batch: 803. Min loss: 2.80155. Estimated time left: 1:09:43. Best: 170 batches ago."
     ]
    },
    {
     "name": "stdout",
     "output_type": "stream",
     "text": [
      "\r",
      "Epoch: 2. Batch: 804. Min loss: 2.80155. Estimated time left: 0:57:39. Best: 171 batches ago.\r",
      "Epoch: 2. Batch: 805. Min loss: 2.80155. Estimated time left: 0:51:30. Best: 172 batches ago."
     ]
    },
    {
     "name": "stdout",
     "output_type": "stream",
     "text": [
      "\r",
      "Epoch: 2. Batch: 806. Min loss: 2.80155. Estimated time left: 0:57:32. Best: 173 batches ago.\r",
      "Epoch: 2. Batch: 807. Min loss: 2.80155. Estimated time left: 0:54:05. Best: 174 batches ago."
     ]
    },
    {
     "name": "stdout",
     "output_type": "stream",
     "text": [
      "\r",
      "Epoch: 2. Batch: 808. Min loss: 2.80155. Estimated time left: 1:10:44. Best: 175 batches ago."
     ]
    },
    {
     "name": "stdout",
     "output_type": "stream",
     "text": [
      "\r",
      "Epoch: 2. Batch: 809. Min loss: 2.80155. Estimated time left: 1:14:46. Best: 176 batches ago.\r",
      "Epoch: 2. Batch: 810. Min loss: 2.80155. Estimated time left: 1:08:01. Best: 177 batches ago."
     ]
    },
    {
     "name": "stdout",
     "output_type": "stream",
     "text": [
      "\r",
      "Epoch: 2. Batch: 811. Min loss: 2.80155. Estimated time left: 1:08:05. Best: 178 batches ago.\r",
      "Epoch: 2. Batch: 812. Min loss: 2.80155. Estimated time left: 1:00:15. Best: 179 batches ago."
     ]
    },
    {
     "name": "stdout",
     "output_type": "stream",
     "text": [
      "\r",
      "Epoch: 2. Batch: 813. Min loss: 2.80155. Estimated time left: 0:54:55. Best: 180 batches ago.\r",
      "Epoch: 2. Batch: 814. Min loss: 2.80155. Estimated time left: 0:57:10. Best: 181 batches ago."
     ]
    },
    {
     "name": "stdout",
     "output_type": "stream",
     "text": [
      "\r",
      "Epoch: 2. Batch: 815. Min loss: 2.80155. Estimated time left: 0:54:34. Best: 182 batches ago.\r",
      "Epoch: 2. Batch: 816. Min loss: 2.80155. Estimated time left: 1:04:16. Best: 183 batches ago."
     ]
    },
    {
     "name": "stdout",
     "output_type": "stream",
     "text": [
      "\r",
      "Epoch: 2. Batch: 817. Min loss: 2.80155. Estimated time left: 1:08:29. Best: 184 batches ago."
     ]
    },
    {
     "name": "stdout",
     "output_type": "stream",
     "text": [
      "\r",
      "Epoch: 2. Batch: 818. Min loss: 2.80155. Estimated time left: 1:11:41. Best: 185 batches ago."
     ]
    },
    {
     "name": "stdout",
     "output_type": "stream",
     "text": [
      "\r",
      "Epoch: 2. Batch: 819. Min loss: 2.80155. Estimated time left: 1:10:02. Best: 186 batches ago.\r",
      "Epoch: 2. Batch: 820. Min loss: 2.80155. Estimated time left: 1:08:18. Best: 187 batches ago."
     ]
    },
    {
     "name": "stdout",
     "output_type": "stream",
     "text": [
      "\r",
      "Epoch: 2. Batch: 821. Min loss: 2.80155. Estimated time left: 0:58:45. Best: 188 batches ago.\r",
      "Epoch: 2. Batch: 822. Min loss: 2.80155. Estimated time left: 0:55:08. Best: 189 batches ago."
     ]
    },
    {
     "name": "stdout",
     "output_type": "stream",
     "text": [
      "\r",
      "Epoch: 2. Batch: 823. Min loss: 2.80155. Estimated time left: 0:56:30. Best: 190 batches ago.\r",
      "Epoch: 2. Batch: 824. Min loss: 2.80155. Estimated time left: 0:57:56. Best: 191 batches ago."
     ]
    },
    {
     "name": "stdout",
     "output_type": "stream",
     "text": [
      "\r",
      "Epoch: 2. Batch: 825. Min loss: 2.80155. Estimated time left: 1:14:44. Best: 192 batches ago.\r",
      "Epoch: 2. Batch: 826. Min loss: 2.80155. Estimated time left: 1:08:25. Best: 193 batches ago."
     ]
    },
    {
     "name": "stdout",
     "output_type": "stream",
     "text": [
      "\r",
      "Epoch: 2. Batch: 827. Min loss: 2.80155. Estimated time left: 1:12:47. Best: 194 batches ago.\r",
      "Epoch: 2. Batch: 828. Min loss: 2.80155. Estimated time left: 1:09:39. Best: 195 batches ago."
     ]
    },
    {
     "name": "stdout",
     "output_type": "stream",
     "text": [
      "\r",
      "Epoch: 2. Batch: 829. Min loss: 2.80155. Estimated time left: 0:54:51. Best: 196 batches ago.\r",
      "Epoch: 2. Batch: 830. Min loss: 2.80155. Estimated time left: 1:09:10. Best: 197 batches ago."
     ]
    },
    {
     "name": "stdout",
     "output_type": "stream",
     "text": [
      "\r",
      "Epoch: 2. Batch: 831. Min loss: 2.80155. Estimated time left: 1:13:28. Best: 198 batches ago.\r",
      "Epoch: 2. Batch: 832. Min loss: 2.80155. Estimated time left: 1:00:56. Best: 199 batches ago."
     ]
    },
    {
     "name": "stdout",
     "output_type": "stream",
     "text": [
      "\r",
      "Epoch: 2. Batch: 833. Min loss: 2.80155. Estimated time left: 1:01:33. Best: 200 batches ago.\r",
      "Epoch: 2. Batch: 834. Min loss: 2.80155. Estimated time left: 1:07:53. Best: 201 batches ago."
     ]
    },
    {
     "name": "stdout",
     "output_type": "stream",
     "text": [
      "\r",
      "Epoch: 2. Batch: 835. Min loss: 2.80155. Estimated time left: 1:10:07. Best: 202 batches ago.\r",
      "Epoch: 2. Batch: 836. Min loss: 2.80155. Estimated time left: 1:01:53. Best: 203 batches ago."
     ]
    },
    {
     "name": "stdout",
     "output_type": "stream",
     "text": [
      "\r",
      "Epoch: 2. Batch: 837. Min loss: 2.80155. Estimated time left: 0:55:27. Best: 204 batches ago.\r",
      "Epoch: 2. Batch: 838. Min loss: 2.80155. Estimated time left: 0:56:29. Best: 205 batches ago."
     ]
    },
    {
     "name": "stdout",
     "output_type": "stream",
     "text": [
      "\r",
      "Epoch: 2. Batch: 839. Min loss: 2.80155. Estimated time left: 1:08:49. Best: 206 batches ago."
     ]
    },
    {
     "name": "stdout",
     "output_type": "stream",
     "text": [
      "\r",
      "Epoch: 2. Batch: 840. Min loss: 2.80155. Estimated time left: 1:13:37. Best: 207 batches ago."
     ]
    },
    {
     "name": "stdout",
     "output_type": "stream",
     "text": [
      "\r",
      "Epoch: 2. Batch: 841. Min loss: 2.80155. Estimated time left: 1:09:47. Best: 208 batches ago.\r",
      "Epoch: 2. Batch: 842. Min loss: 2.80155. Estimated time left: 1:05:16. Best: 209 batches ago."
     ]
    },
    {
     "name": "stdout",
     "output_type": "stream",
     "text": [
      "\r",
      "Epoch: 2. Batch: 843. Min loss: 2.80155. Estimated time left: 0:54:42. Best: 210 batches ago.\r",
      "Epoch: 2. Batch: 844. Min loss: 2.80155. Estimated time left: 0:55:43. Best: 211 batches ago."
     ]
    },
    {
     "name": "stdout",
     "output_type": "stream",
     "text": [
      "\r",
      "Epoch: 2. Batch: 845. Min loss: 2.80155. Estimated time left: 0:52:09. Best: 212 batches ago.\r",
      "Epoch: 2. Batch: 846. Min loss: 2.80155. Estimated time left: 1:02:29. Best: 213 batches ago."
     ]
    },
    {
     "name": "stdout",
     "output_type": "stream",
     "text": [
      "\r",
      "Epoch: 2. Batch: 847. Min loss: 2.80155. Estimated time left: 1:05:24. Best: 214 batches ago.\r",
      "Epoch: 2. Batch: 848. Min loss: 2.80155. Estimated time left: 0:51:10. Best: 215 batches ago."
     ]
    },
    {
     "name": "stdout",
     "output_type": "stream",
     "text": [
      "\r",
      "Epoch: 2. Batch: 849. Min loss: 2.80155. Estimated time left: 0:55:12. Best: 216 batches ago.\r",
      "Epoch: 2. Batch: 850. Min loss: 2.80155. Estimated time left: 0:54:01. Best: 217 batches ago."
     ]
    },
    {
     "name": "stdout",
     "output_type": "stream",
     "text": [
      "\r",
      "Epoch: 2. Batch: 851. Min loss: 2.80155. Estimated time left: 0:57:11. Best: 218 batches ago.\r",
      "Epoch: 2. Batch: 852. Min loss: 2.80155. Estimated time left: 0:54:08. Best: 219 batches ago."
     ]
    },
    {
     "name": "stdout",
     "output_type": "stream",
     "text": [
      "\r",
      "Epoch: 2. Batch: 853. Min loss: 2.80155. Estimated time left: 0:55:44. Best: 220 batches ago.\r",
      "Epoch: 2. Batch: 854. Min loss: 2.80155. Estimated time left: 0:53:38. Best: 221 batches ago."
     ]
    },
    {
     "name": "stdout",
     "output_type": "stream",
     "text": [
      "\r",
      "Epoch: 2. Batch: 855. Min loss: 2.80155. Estimated time left: 0:56:49. Best: 222 batches ago.\r",
      "Epoch: 2. Batch: 856. Min loss: 2.80155. Estimated time left: 0:58:32. Best: 223 batches ago."
     ]
    },
    {
     "name": "stdout",
     "output_type": "stream",
     "text": [
      "\r",
      "Epoch: 2. Batch: 857. Min loss: 2.80155. Estimated time left: 0:53:26. Best: 224 batches ago.\r",
      "Epoch: 2. Batch: 858. Min loss: 2.80155. Estimated time left: 0:55:23. Best: 225 batches ago."
     ]
    },
    {
     "name": "stdout",
     "output_type": "stream",
     "text": [
      "\r",
      "Epoch: 2. Batch: 859. Min loss: 2.80155. Estimated time left: 0:51:11. Best: 226 batches ago.\r",
      "Epoch: 2. Batch: 860. Min loss: 2.80155. Estimated time left: 0:54:37. Best: 227 batches ago."
     ]
    },
    {
     "name": "stdout",
     "output_type": "stream",
     "text": [
      "\r",
      "Epoch: 2. Batch: 861. Min loss: 2.80155. Estimated time left: 0:54:35. Best: 228 batches ago.\r",
      "Epoch: 2. Batch: 862. Min loss: 2.80155. Estimated time left: 0:56:23. Best: 229 batches ago."
     ]
    },
    {
     "name": "stdout",
     "output_type": "stream",
     "text": [
      "\r",
      "Epoch: 2. Batch: 863. Min loss: 2.80155. Estimated time left: 0:54:26. Best: 230 batches ago.\r",
      "Epoch: 2. Batch: 864. Min loss: 2.80155. Estimated time left: 0:51:14. Best: 231 batches ago."
     ]
    },
    {
     "name": "stdout",
     "output_type": "stream",
     "text": [
      "\r",
      "Epoch: 2. Batch: 865. Min loss: 2.80155. Estimated time left: 0:55:01. Best: 232 batches ago.\r",
      "Epoch: 2. Batch: 866. Min loss: 2.80155. Estimated time left: 0:56:10. Best: 233 batches ago."
     ]
    },
    {
     "name": "stdout",
     "output_type": "stream",
     "text": [
      "\r",
      "Epoch: 2. Batch: 867. Min loss: 2.80155. Estimated time left: 0:51:55. Best: 234 batches ago.\r",
      "Epoch: 2. Batch: 868. Min loss: 2.80155. Estimated time left: 0:56:03. Best: 235 batches ago."
     ]
    },
    {
     "name": "stdout",
     "output_type": "stream",
     "text": [
      "\r",
      "Epoch: 2. Batch: 869. Min loss: 2.80155. Estimated time left: 0:53:14. Best: 236 batches ago.\r",
      "Epoch: 2. Batch: 870. Min loss: 2.80155. Estimated time left: 0:57:00. Best: 237 batches ago."
     ]
    },
    {
     "name": "stdout",
     "output_type": "stream",
     "text": [
      "\r",
      "Epoch: 2. Batch: 871. Min loss: 2.80155. Estimated time left: 0:58:49. Best: 238 batches ago.\r",
      "Epoch: 2. Batch: 872. Min loss: 2.80155. Estimated time left: 0:55:23. Best: 239 batches ago."
     ]
    },
    {
     "name": "stdout",
     "output_type": "stream",
     "text": [
      "\r",
      "Epoch: 2. Batch: 873. Min loss: 2.80155. Estimated time left: 0:53:08. Best: 240 batches ago.\r",
      "Epoch: 2. Batch: 874. Min loss: 2.80155. Estimated time left: 0:55:45. Best: 241 batches ago."
     ]
    },
    {
     "name": "stdout",
     "output_type": "stream",
     "text": [
      "\r",
      "Epoch: 2. Batch: 875. Min loss: 2.80155. Estimated time left: 0:55:06. Best: 242 batches ago.\r",
      "Epoch: 2. Batch: 876. Min loss: 2.80155. Estimated time left: 0:54:40. Best: 243 batches ago."
     ]
    },
    {
     "name": "stdout",
     "output_type": "stream",
     "text": [
      "\r",
      "Epoch: 2. Batch: 877. Min loss: 2.80155. Estimated time left: 0:57:53. Best: 244 batches ago.\r",
      "Epoch: 2. Batch: 878. Min loss: 2.80155. Estimated time left: 0:54:05. Best: 245 batches ago."
     ]
    },
    {
     "name": "stdout",
     "output_type": "stream",
     "text": [
      "\r",
      "Epoch: 2. Batch: 879. Min loss: 2.80155. Estimated time left: 0:55:12. Best: 246 batches ago.\r",
      "Epoch: 2. Batch: 880. Min loss: 2.80155. Estimated time left: 0:53:47. Best: 247 batches ago."
     ]
    },
    {
     "name": "stdout",
     "output_type": "stream",
     "text": [
      "\r",
      "Epoch: 2. Batch: 881. Min loss: 2.80155. Estimated time left: 0:54:56. Best: 248 batches ago.\r",
      "Epoch: 2. Batch: 882. Min loss: 2.80155. Estimated time left: 0:51:16. Best: 249 batches ago."
     ]
    },
    {
     "name": "stdout",
     "output_type": "stream",
     "text": [
      "\r",
      "Epoch: 2. Batch: 883. Min loss: 2.80155. Estimated time left: 0:51:58. Best: 250 batches ago.\r",
      "Epoch: 2. Batch: 884. Min loss: 2.80155. Estimated time left: 0:57:05. Best: 251 batches ago."
     ]
    },
    {
     "name": "stdout",
     "output_type": "stream",
     "text": [
      "\r",
      "Epoch: 2. Batch: 885. Min loss: 2.80155. Estimated time left: 0:56:57. Best: 252 batches ago.\r",
      "Epoch: 2. Batch: 886. Min loss: 2.80155. Estimated time left: 0:49:27. Best: 253 batches ago."
     ]
    },
    {
     "name": "stdout",
     "output_type": "stream",
     "text": [
      "\r",
      "Epoch: 2. Batch: 887. Min loss: 2.80155. Estimated time left: 0:55:24. Best: 254 batches ago.\r",
      "Epoch: 2. Batch: 888. Min loss: 2.80155. Estimated time left: 0:51:58. Best: 255 batches ago."
     ]
    },
    {
     "name": "stdout",
     "output_type": "stream",
     "text": [
      "\r",
      "Epoch: 2. Batch: 889. Min loss: 2.80155. Estimated time left: 0:57:06. Best: 256 batches ago.\r",
      "Epoch: 2. Batch: 890. Min loss: 2.80155. Estimated time left: 0:53:45. Best: 257 batches ago."
     ]
    },
    {
     "name": "stdout",
     "output_type": "stream",
     "text": [
      "\r",
      "Epoch: 2. Batch: 891. Min loss: 2.80155. Estimated time left: 0:55:12. Best: 258 batches ago.\r",
      "Epoch: 2. Batch: 892. Min loss: 2.80155. Estimated time left: 0:53:00. Best: 259 batches ago."
     ]
    },
    {
     "name": "stdout",
     "output_type": "stream",
     "text": [
      "\r",
      "Epoch: 2. Batch: 893. Min loss: 2.80155. Estimated time left: 0:58:00. Best: 260 batches ago.\r",
      "Epoch: 2. Batch: 894. Min loss: 2.80155. Estimated time left: 0:54:40. Best: 261 batches ago."
     ]
    },
    {
     "name": "stdout",
     "output_type": "stream",
     "text": [
      "\r",
      "Epoch: 2. Batch: 895. Min loss: 2.80155. Estimated time left: 0:52:02. Best: 262 batches ago.\r",
      "Epoch: 2. Batch: 896. Min loss: 2.80155. Estimated time left: 0:51:38. Best: 263 batches ago."
     ]
    },
    {
     "name": "stdout",
     "output_type": "stream",
     "text": [
      "\r",
      "Epoch: 2. Batch: 897. Min loss: 2.80155. Estimated time left: 0:54:13. Best: 264 batches ago.\r",
      "Epoch: 2. Batch: 898. Min loss: 2.80155. Estimated time left: 0:53:39. Best: 265 batches ago."
     ]
    },
    {
     "name": "stdout",
     "output_type": "stream",
     "text": [
      "\r",
      "Epoch: 2. Batch: 899. Min loss: 2.80155. Estimated time left: 0:59:09. Best: 266 batches ago.\r",
      "Epoch: 2. Batch: 900. Min loss: 2.80155. Estimated time left: 0:54:06. Best: 267 batches ago."
     ]
    },
    {
     "name": "stdout",
     "output_type": "stream",
     "text": [
      "\r",
      "Epoch: 2. Batch: 901. Min loss: 2.80155. Estimated time left: 0:55:50. Best: 268 batches ago.\r",
      "Epoch: 2. Batch: 902. Min loss: 2.80155. Estimated time left: 0:51:54. Best: 269 batches ago."
     ]
    },
    {
     "name": "stdout",
     "output_type": "stream",
     "text": [
      "\r",
      "Epoch: 2. Batch: 903. Min loss: 2.80155. Estimated time left: 0:54:28. Best: 270 batches ago.\r",
      "Epoch: 2. Batch: 904. Min loss: 2.80155. Estimated time left: 0:59:52. Best: 271 batches ago."
     ]
    },
    {
     "name": "stdout",
     "output_type": "stream",
     "text": [
      "\r",
      "Epoch: 2. Batch: 905. Min loss: 2.80155. Estimated time left: 0:52:45. Best: 272 batches ago.\r",
      "Epoch: 2. Batch: 906. Min loss: 2.80155. Estimated time left: 0:57:31. Best: 273 batches ago."
     ]
    },
    {
     "name": "stdout",
     "output_type": "stream",
     "text": [
      "\r",
      "Epoch: 2. Batch: 907. Min loss: 2.80155. Estimated time left: 0:54:06. Best: 274 batches ago.\r",
      "Epoch: 2. Batch: 908. Min loss: 2.80155. Estimated time left: 0:54:26. Best: 275 batches ago."
     ]
    },
    {
     "name": "stdout",
     "output_type": "stream",
     "text": [
      "\r",
      "Epoch: 2. Batch: 909. Min loss: 2.80155. Estimated time left: 0:53:43. Best: 276 batches ago.\r",
      "Epoch: 2. Batch: 910. Min loss: 2.80155. Estimated time left: 0:54:26. Best: 277 batches ago."
     ]
    },
    {
     "name": "stdout",
     "output_type": "stream",
     "text": [
      "\r",
      "Epoch: 2. Batch: 911. Min loss: 2.80155. Estimated time left: 0:50:34. Best: 278 batches ago.\r",
      "Epoch: 2. Batch: 912. Min loss: 2.80155. Estimated time left: 0:55:14. Best: 279 batches ago."
     ]
    },
    {
     "name": "stdout",
     "output_type": "stream",
     "text": [
      "\r",
      "Epoch: 2. Batch: 913. Min loss: 2.80155. Estimated time left: 0:53:52. Best: 280 batches ago.\r",
      "Epoch: 2. Batch: 914. Min loss: 2.80155. Estimated time left: 0:54:28. Best: 281 batches ago."
     ]
    },
    {
     "name": "stdout",
     "output_type": "stream",
     "text": [
      "\r",
      "Epoch: 2. Batch: 915. Min loss: 2.80155. Estimated time left: 0:49:34. Best: 282 batches ago.\r",
      "Epoch: 2. Batch: 916. Min loss: 2.80155. Estimated time left: 0:54:59. Best: 283 batches ago."
     ]
    },
    {
     "name": "stdout",
     "output_type": "stream",
     "text": [
      "\r",
      "Epoch: 2. Batch: 917. Min loss: 2.80155. Estimated time left: 0:55:34. Best: 284 batches ago.\r",
      "Epoch: 2. Batch: 918. Min loss: 2.80155. Estimated time left: 0:54:17. Best: 285 batches ago."
     ]
    },
    {
     "name": "stdout",
     "output_type": "stream",
     "text": [
      "\r",
      "Epoch: 2. Batch: 919. Min loss: 2.80155. Estimated time left: 0:52:40. Best: 286 batches ago.\r",
      "Epoch: 2. Batch: 920. Min loss: 2.80155. Estimated time left: 0:55:06. Best: 287 batches ago."
     ]
    },
    {
     "name": "stdout",
     "output_type": "stream",
     "text": [
      "\r",
      "Epoch: 2. Batch: 921. Min loss: 2.80155. Estimated time left: 0:53:12. Best: 288 batches ago.\r",
      "Epoch: 2. Batch: 922. Min loss: 2.80155. Estimated time left: 0:51:33. Best: 289 batches ago."
     ]
    },
    {
     "name": "stdout",
     "output_type": "stream",
     "text": [
      "\r",
      "Epoch: 2. Batch: 923. Min loss: 2.80155. Estimated time left: 0:54:52. Best: 290 batches ago.\r",
      "Epoch: 2. Batch: 924. Min loss: 2.80155. Estimated time left: 0:57:18. Best: 291 batches ago."
     ]
    },
    {
     "name": "stdout",
     "output_type": "stream",
     "text": [
      "\r",
      "Epoch: 2. Batch: 925. Min loss: 2.80155. Estimated time left: 0:55:38. Best: 292 batches ago.\r",
      "Epoch: 2. Batch: 926. Min loss: 2.80155. Estimated time left: 0:53:04. Best: 293 batches ago."
     ]
    },
    {
     "name": "stdout",
     "output_type": "stream",
     "text": [
      "\r",
      "Epoch: 2. Batch: 927. Min loss: 2.80155. Estimated time left: 0:56:01. Best: 294 batches ago.\r",
      "Epoch: 2. Batch: 928. Min loss: 2.80155. Estimated time left: 0:53:23. Best: 295 batches ago."
     ]
    },
    {
     "name": "stdout",
     "output_type": "stream",
     "text": [
      "\r",
      "Epoch: 2. Batch: 929. Min loss: 2.80155. Estimated time left: 0:53:21. Best: 296 batches ago.\r",
      "Epoch: 2. Batch: 930. Min loss: 2.80155. Estimated time left: 0:53:57. Best: 297 batches ago."
     ]
    },
    {
     "name": "stdout",
     "output_type": "stream",
     "text": [
      "\r",
      "Epoch: 2. Batch: 931. Min loss: 2.80155. Estimated time left: 0:53:52. Best: 298 batches ago.\r",
      "Epoch: 2. Batch: 932. Min loss: 2.80155. Estimated time left: 0:52:06. Best: 299 batches ago."
     ]
    },
    {
     "name": "stdout",
     "output_type": "stream",
     "text": [
      "\r",
      "Epoch: 2. Batch: 933. Min loss: 2.80155. Estimated time left: 0:54:08. Best: 300 batches ago.\r",
      "Epoch: 2. Batch: 934. Min loss: 2.80155. Estimated time left: 0:54:52. Best: 301 batches ago."
     ]
    },
    {
     "name": "stdout",
     "output_type": "stream",
     "text": [
      "\r",
      "Epoch: 2. Batch: 935. Min loss: 2.80155. Estimated time left: 0:56:36. Best: 302 batches ago.\r",
      "Epoch: 2. Batch: 936. Min loss: 2.80155. Estimated time left: 0:51:46. Best: 303 batches ago."
     ]
    },
    {
     "name": "stdout",
     "output_type": "stream",
     "text": [
      "\r",
      "Epoch: 2. Batch: 937. Min loss: 2.80155. Estimated time left: 0:51:08. Best: 304 batches ago.\r",
      "Epoch: 2. Batch: 938. Min loss: 2.80155. Estimated time left: 0:53:43. Best: 305 batches ago."
     ]
    },
    {
     "name": "stdout",
     "output_type": "stream",
     "text": [
      "\r",
      "Epoch: 2. Batch: 939. Min loss: 2.80155. Estimated time left: 0:55:58. Best: 306 batches ago.\r",
      "Epoch: 2. Batch: 940. Min loss: 2.80155. Estimated time left: 0:49:51. Best: 307 batches ago."
     ]
    },
    {
     "name": "stdout",
     "output_type": "stream",
     "text": [
      "\r",
      "Epoch: 2. Batch: 941. Min loss: 2.80155. Estimated time left: 0:55:04. Best: 308 batches ago.\r",
      "Epoch: 2. Batch: 942. Min loss: 2.80155. Estimated time left: 0:53:59. Best: 309 batches ago."
     ]
    },
    {
     "name": "stdout",
     "output_type": "stream",
     "text": [
      "\r",
      "Epoch: 2. Batch: 943. Min loss: 2.80155. Estimated time left: 0:57:45. Best: 310 batches ago.\r",
      "Epoch: 2. Batch: 944. Min loss: 2.80155. Estimated time left: 0:55:55. Best: 311 batches ago."
     ]
    },
    {
     "name": "stdout",
     "output_type": "stream",
     "text": [
      "\r",
      "Epoch: 2. Batch: 945. Min loss: 2.80155. Estimated time left: 0:55:29. Best: 312 batches ago.\r",
      "Epoch: 2. Batch: 946. Min loss: 2.80155. Estimated time left: 0:55:21. Best: 313 batches ago."
     ]
    },
    {
     "name": "stdout",
     "output_type": "stream",
     "text": [
      "\r",
      "Epoch: 2. Batch: 947. Min loss: 2.80155. Estimated time left: 0:49:16. Best: 314 batches ago.\r",
      "Epoch: 2. Batch: 948. Min loss: 2.80155. Estimated time left: 0:53:51. Best: 315 batches ago."
     ]
    },
    {
     "name": "stdout",
     "output_type": "stream",
     "text": [
      "\r",
      "Epoch: 2. Batch: 949. Min loss: 2.80155. Estimated time left: 0:56:16. Best: 316 batches ago.\r",
      "Epoch: 2. Batch: 950. Min loss: 2.80155. Estimated time left: 0:53:25. Best: 317 batches ago."
     ]
    },
    {
     "name": "stdout",
     "output_type": "stream",
     "text": [
      "\r",
      "Epoch: 2. Batch: 951. Min loss: 2.80155. Estimated time left: 0:52:48. Best: 318 batches ago.\r",
      "Epoch: 2. Batch: 952. Min loss: 2.80155. Estimated time left: 0:52:31. Best: 319 batches ago."
     ]
    },
    {
     "name": "stdout",
     "output_type": "stream",
     "text": [
      "\r",
      "Epoch: 2. Batch: 953. Min loss: 2.80155. Estimated time left: 0:52:29. Best: 320 batches ago.\r",
      "Epoch: 2. Batch: 954. Min loss: 2.80155. Estimated time left: 0:56:04. Best: 321 batches ago."
     ]
    },
    {
     "name": "stdout",
     "output_type": "stream",
     "text": [
      "\r",
      "Epoch: 2. Batch: 955. Min loss: 2.80155. Estimated time left: 0:54:27. Best: 322 batches ago.\r",
      "Epoch: 2. Batch: 956. Min loss: 2.80155. Estimated time left: 0:52:35. Best: 323 batches ago."
     ]
    },
    {
     "name": "stdout",
     "output_type": "stream",
     "text": [
      "\r",
      "Epoch: 2. Batch: 957. Min loss: 2.80155. Estimated time left: 0:56:21. Best: 324 batches ago.\r",
      "Epoch: 2. Batch: 958. Min loss: 2.80155. Estimated time left: 0:56:08. Best: 325 batches ago."
     ]
    },
    {
     "name": "stdout",
     "output_type": "stream",
     "text": [
      "\r",
      "Epoch: 2. Batch: 959. Min loss: 2.80155. Estimated time left: 0:53:52. Best: 326 batches ago.\r",
      "Epoch: 2. Batch: 960. Min loss: 2.80155. Estimated time left: 0:53:25. Best: 327 batches ago."
     ]
    },
    {
     "name": "stdout",
     "output_type": "stream",
     "text": [
      "\r",
      "Epoch: 2. Batch: 961. Min loss: 2.80155. Estimated time left: 0:54:16. Best: 328 batches ago.\r",
      "Epoch: 2. Batch: 962. Min loss: 2.80155. Estimated time left: 0:58:57. Best: 329 batches ago."
     ]
    },
    {
     "name": "stdout",
     "output_type": "stream",
     "text": [
      "\r",
      "Epoch: 2. Batch: 963. Min loss: 2.80155. Estimated time left: 0:56:10. Best: 330 batches ago.\r",
      "Epoch: 2. Batch: 964. Min loss: 2.80155. Estimated time left: 0:53:09. Best: 331 batches ago."
     ]
    },
    {
     "name": "stdout",
     "output_type": "stream",
     "text": [
      "\r",
      "Epoch: 2. Batch: 965. Min loss: 2.80155. Estimated time left: 0:56:20. Best: 332 batches ago.\r",
      "Epoch: 2. Batch: 966. Min loss: 2.80155. Estimated time left: 0:56:19. Best: 333 batches ago."
     ]
    },
    {
     "name": "stdout",
     "output_type": "stream",
     "text": [
      "\r",
      "Epoch: 2. Batch: 967. Min loss: 2.80155. Estimated time left: 0:51:12. Best: 334 batches ago.\r",
      "Epoch: 2. Batch: 968. Min loss: 2.80155. Estimated time left: 0:56:38. Best: 335 batches ago."
     ]
    },
    {
     "name": "stdout",
     "output_type": "stream",
     "text": [
      "\r",
      "Epoch: 2. Batch: 969. Min loss: 2.80155. Estimated time left: 0:57:29. Best: 336 batches ago.\r",
      "Epoch: 2. Batch: 970. Min loss: 2.80155. Estimated time left: 0:52:19. Best: 337 batches ago."
     ]
    },
    {
     "name": "stdout",
     "output_type": "stream",
     "text": [
      "\r",
      "Epoch: 2. Batch: 971. Min loss: 2.80155. Estimated time left: 0:57:27. Best: 338 batches ago.\r",
      "Epoch: 2. Batch: 972. Min loss: 2.80155. Estimated time left: 0:53:31. Best: 339 batches ago."
     ]
    },
    {
     "name": "stdout",
     "output_type": "stream",
     "text": [
      "\r",
      "Epoch: 2. Batch: 973. Min loss: 2.80155. Estimated time left: 0:53:56. Best: 340 batches ago.\r",
      "Epoch: 2. Batch: 974. Min loss: 2.80155. Estimated time left: 0:53:54. Best: 341 batches ago."
     ]
    },
    {
     "name": "stdout",
     "output_type": "stream",
     "text": [
      "\r",
      "Epoch: 2. Batch: 975. Min loss: 2.80155. Estimated time left: 0:53:58. Best: 342 batches ago.\r",
      "Epoch: 2. Batch: 976. Min loss: 2.80155. Estimated time left: 0:55:42. Best: 343 batches ago."
     ]
    },
    {
     "name": "stdout",
     "output_type": "stream",
     "text": [
      "\r",
      "Epoch: 2. Batch: 977. Min loss: 2.80155. Estimated time left: 0:56:51. Best: 344 batches ago.\r",
      "Epoch: 2. Batch: 978. Min loss: 2.80155. Estimated time left: 0:55:45. Best: 345 batches ago."
     ]
    },
    {
     "name": "stdout",
     "output_type": "stream",
     "text": [
      "\r",
      "Epoch: 2. Batch: 979. Min loss: 2.80155. Estimated time left: 0:53:34. Best: 346 batches ago.\r",
      "Epoch: 2. Batch: 980. Min loss: 2.80155. Estimated time left: 0:55:07. Best: 347 batches ago."
     ]
    },
    {
     "name": "stdout",
     "output_type": "stream",
     "text": [
      "\r",
      "Epoch: 2. Batch: 981. Min loss: 2.80155. Estimated time left: 0:58:00. Best: 348 batches ago.\r",
      "Epoch: 2. Batch: 982. Min loss: 2.80155. Estimated time left: 0:51:33. Best: 349 batches ago."
     ]
    },
    {
     "name": "stdout",
     "output_type": "stream",
     "text": [
      "\r",
      "Epoch: 2. Batch: 983. Min loss: 2.80155. Estimated time left: 0:51:58. Best: 350 batches ago.\r",
      "Epoch: 2. Batch: 984. Min loss: 2.80155. Estimated time left: 0:58:55. Best: 351 batches ago."
     ]
    },
    {
     "name": "stdout",
     "output_type": "stream",
     "text": [
      "\r",
      "Epoch: 2. Batch: 985. Min loss: 2.80155. Estimated time left: 0:54:10. Best: 352 batches ago.\r",
      "Epoch: 2. Batch: 986. Min loss: 2.80155. Estimated time left: 0:54:59. Best: 353 batches ago."
     ]
    },
    {
     "name": "stdout",
     "output_type": "stream",
     "text": [
      "\r",
      "Epoch: 2. Batch: 987. Min loss: 2.80155. Estimated time left: 0:52:10. Best: 354 batches ago.\r",
      "Epoch: 2. Batch: 988. Min loss: 2.80155. Estimated time left: 0:56:43. Best: 355 batches ago."
     ]
    },
    {
     "name": "stdout",
     "output_type": "stream",
     "text": [
      "\r",
      "Epoch: 2. Batch: 989. Min loss: 2.80155. Estimated time left: 0:52:15. Best: 356 batches ago.\r",
      "Epoch: 2. Batch: 990. Min loss: 2.80155. Estimated time left: 0:52:28. Best: 357 batches ago."
     ]
    },
    {
     "name": "stdout",
     "output_type": "stream",
     "text": [
      "\r",
      "Epoch: 2. Batch: 991. Min loss: 2.80155. Estimated time left: 0:50:52. Best: 358 batches ago.\r",
      "Epoch: 2. Batch: 992. Min loss: 2.80155. Estimated time left: 0:57:01. Best: 359 batches ago."
     ]
    },
    {
     "name": "stdout",
     "output_type": "stream",
     "text": [
      "\r",
      "Epoch: 2. Batch: 993. Min loss: 2.80155. Estimated time left: 0:54:44. Best: 360 batches ago.\r",
      "Epoch: 2. Batch: 994. Min loss: 2.80155. Estimated time left: 0:52:15. Best: 361 batches ago."
     ]
    },
    {
     "name": "stdout",
     "output_type": "stream",
     "text": [
      "\r",
      "Epoch: 2. Batch: 995. Min loss: 2.80155. Estimated time left: 0:51:03. Best: 362 batches ago.\r",
      "Epoch: 2. Batch: 996. Min loss: 2.80155. Estimated time left: 0:55:27. Best: 363 batches ago."
     ]
    },
    {
     "name": "stdout",
     "output_type": "stream",
     "text": [
      "\r",
      "Epoch: 2. Batch: 997. Min loss: 2.80155. Estimated time left: 0:57:43. Best: 364 batches ago.\r",
      "Epoch: 2. Batch: 998. Min loss: 2.80155. Estimated time left: 0:49:57. Best: 365 batches ago."
     ]
    },
    {
     "name": "stdout",
     "output_type": "stream",
     "text": [
      "\r",
      "Epoch: 2. Batch: 999. Min loss: 2.80155. Estimated time left: 0:54:07. Best: 366 batches ago.\r",
      "Epoch: 2. Batch: 1000. Min loss: 2.80155. Estimated time left: 0:55:44. Best: 367 batches ago."
     ]
    },
    {
     "name": "stdout",
     "output_type": "stream",
     "text": [
      "\r",
      "Epoch: 2. Batch: 1001. Min loss: 2.80155. Estimated time left: 0:52:37. Best: 368 batches ago.\r",
      "Epoch: 2. Batch: 1002. Min loss: 2.80155. Estimated time left: 0:54:31. Best: 369 batches ago."
     ]
    },
    {
     "name": "stdout",
     "output_type": "stream",
     "text": [
      "\r",
      "Epoch: 2. Batch: 1003. Min loss: 2.80155. Estimated time left: 0:56:24. Best: 370 batches ago.\r",
      "Epoch: 2. Batch: 1004. Min loss: 2.80155. Estimated time left: 0:50:25. Best: 371 batches ago."
     ]
    },
    {
     "name": "stdout",
     "output_type": "stream",
     "text": [
      "\r",
      "Epoch: 2. Batch: 1005. Min loss: 2.80155. Estimated time left: 0:53:39. Best: 372 batches ago.\r",
      "Epoch: 2. Batch: 1006. Min loss: 2.80155. Estimated time left: 0:52:44. Best: 373 batches ago."
     ]
    },
    {
     "name": "stdout",
     "output_type": "stream",
     "text": [
      "\r",
      "Epoch: 2. Batch: 1007. Min loss: 2.80155. Estimated time left: 0:55:43. Best: 374 batches ago.\r",
      "Epoch: 2. Batch: 1008. Min loss: 2.80155. Estimated time left: 0:53:52. Best: 375 batches ago."
     ]
    },
    {
     "name": "stdout",
     "output_type": "stream",
     "text": [
      "\r",
      "Epoch: 2. Batch: 1009. Min loss: 2.80155. Estimated time left: 0:57:12. Best: 376 batches ago.\r",
      "Epoch: 2. Batch: 1010. Min loss: 2.80155. Estimated time left: 0:55:32. Best: 377 batches ago."
     ]
    },
    {
     "name": "stdout",
     "output_type": "stream",
     "text": [
      "\r",
      "Epoch: 2. Batch: 1011. Min loss: 2.80155. Estimated time left: 0:56:18. Best: 378 batches ago.\r",
      "Epoch: 2. Batch: 1012. Min loss: 2.80155. Estimated time left: 0:52:24. Best: 379 batches ago."
     ]
    },
    {
     "name": "stdout",
     "output_type": "stream",
     "text": [
      "\r",
      "Epoch: 2. Batch: 1013. Min loss: 2.80155. Estimated time left: 0:52:52. Best: 380 batches ago.\r",
      "Epoch: 2. Batch: 1014. Min loss: 2.80155. Estimated time left: 0:54:16. Best: 381 batches ago."
     ]
    },
    {
     "name": "stdout",
     "output_type": "stream",
     "text": [
      "\r",
      "Epoch: 2. Batch: 1015. Min loss: 2.80155. Estimated time left: 0:58:24. Best: 382 batches ago.\r",
      "Epoch: 2. Batch: 1016. Min loss: 2.80155. Estimated time left: 0:52:10. Best: 383 batches ago."
     ]
    },
    {
     "name": "stdout",
     "output_type": "stream",
     "text": [
      "\r",
      "Epoch: 2. Batch: 1017. Min loss: 2.80155. Estimated time left: 0:53:44. Best: 384 batches ago.\r",
      "Epoch: 2. Batch: 1018. Min loss: 2.80155. Estimated time left: 0:51:44. Best: 385 batches ago."
     ]
    },
    {
     "name": "stdout",
     "output_type": "stream",
     "text": [
      "\r",
      "Epoch: 2. Batch: 1019. Min loss: 2.80155. Estimated time left: 0:57:38. Best: 386 batches ago.\r",
      "Epoch: 2. Batch: 1020. Min loss: 2.80155. Estimated time left: 0:49:24. Best: 387 batches ago."
     ]
    },
    {
     "name": "stdout",
     "output_type": "stream",
     "text": [
      "\r",
      "Epoch: 2. Batch: 1021. Min loss: 2.80155. Estimated time left: 0:54:32. Best: 388 batches ago.\r",
      "Epoch: 2. Batch: 1022. Min loss: 2.80155. Estimated time left: 0:53:35. Best: 389 batches ago."
     ]
    },
    {
     "name": "stdout",
     "output_type": "stream",
     "text": [
      "\r",
      "Epoch: 2. Batch: 1023. Min loss: 2.80155. Estimated time left: 0:54:06. Best: 390 batches ago.\r",
      "Epoch: 2. Batch: 1024. Min loss: 2.80155. Estimated time left: 0:51:59. Best: 391 batches ago."
     ]
    },
    {
     "name": "stdout",
     "output_type": "stream",
     "text": [
      "\r",
      "Epoch: 2. Batch: 1025. Min loss: 2.80155. Estimated time left: 0:55:42. Best: 392 batches ago.\r",
      "Epoch: 2. Batch: 1026. Min loss: 2.80155. Estimated time left: 0:51:56. Best: 393 batches ago."
     ]
    },
    {
     "name": "stdout",
     "output_type": "stream",
     "text": [
      "\r",
      "Epoch: 2. Batch: 1027. Min loss: 2.80155. Estimated time left: 0:53:02. Best: 394 batches ago.\r",
      "Epoch: 2. Batch: 1028. Min loss: 2.80155. Estimated time left: 0:52:22. Best: 395 batches ago."
     ]
    },
    {
     "name": "stdout",
     "output_type": "stream",
     "text": [
      "\r",
      "Epoch: 2. Batch: 1029. Min loss: 2.80155. Estimated time left: 0:55:15. Best: 396 batches ago.\r",
      "Epoch: 2. Batch: 1030. Min loss: 2.80155. Estimated time left: 0:57:22. Best: 397 batches ago."
     ]
    },
    {
     "name": "stdout",
     "output_type": "stream",
     "text": [
      "\r",
      "Epoch: 2. Batch: 1031. Min loss: 2.80155. Estimated time left: 0:54:11. Best: 398 batches ago.\r",
      "Epoch: 2. Batch: 1032. Min loss: 2.80155. Estimated time left: 0:51:32. Best: 399 batches ago."
     ]
    },
    {
     "name": "stdout",
     "output_type": "stream",
     "text": [
      "\r",
      "Epoch: 2. Batch: 1033. Min loss: 2.80155. Estimated time left: 0:54:57. Best: 400 batches ago.\r",
      "Epoch: 2. Batch: 1034. Min loss: 2.80155. Estimated time left: 0:56:55. Best: 401 batches ago."
     ]
    },
    {
     "name": "stdout",
     "output_type": "stream",
     "text": [
      "\r",
      "Epoch: 2. Batch: 1035. Min loss: 2.80155. Estimated time left: 0:49:44. Best: 402 batches ago.\r",
      "Epoch: 2. Batch: 1036. Min loss: 2.80155. Estimated time left: 0:54:25. Best: 403 batches ago."
     ]
    },
    {
     "name": "stdout",
     "output_type": "stream",
     "text": [
      "\r",
      "Epoch: 2. Batch: 1037. Min loss: 2.80155. Estimated time left: 0:56:43. Best: 404 batches ago.\r",
      "Epoch: 2. Batch: 1038. Min loss: 2.80155. Estimated time left: 0:53:52. Best: 405 batches ago."
     ]
    },
    {
     "name": "stdout",
     "output_type": "stream",
     "text": [
      "\r",
      "Epoch: 2. Batch: 1039. Min loss: 2.80155. Estimated time left: 0:53:00. Best: 406 batches ago.\r",
      "Epoch: 2. Batch: 1040. Min loss: 2.80155. Estimated time left: 0:52:37. Best: 407 batches ago."
     ]
    },
    {
     "name": "stdout",
     "output_type": "stream",
     "text": [
      "\r",
      "Epoch: 2. Batch: 1041. Min loss: 2.80155. Estimated time left: 0:51:44. Best: 408 batches ago.\r",
      "Epoch: 2. Batch: 1042. Min loss: 2.80155. Estimated time left: 0:53:16. Best: 409 batches ago."
     ]
    },
    {
     "name": "stdout",
     "output_type": "stream",
     "text": [
      "\r",
      "Epoch: 2. Batch: 1043. Min loss: 2.80155. Estimated time left: 0:55:04. Best: 410 batches ago.\r",
      "Epoch: 2. Batch: 1044. Min loss: 2.80155. Estimated time left: 0:54:44. Best: 411 batches ago."
     ]
    },
    {
     "name": "stdout",
     "output_type": "stream",
     "text": [
      "\r",
      "Epoch: 2. Batch: 1045. Min loss: 2.80155. Estimated time left: 0:53:32. Best: 412 batches ago.\r",
      "Epoch: 2. Batch: 1046. Min loss: 2.80155. Estimated time left: 0:56:07. Best: 413 batches ago."
     ]
    },
    {
     "name": "stdout",
     "output_type": "stream",
     "text": [
      "\r",
      "Epoch: 2. Batch: 1047. Min loss: 2.80155. Estimated time left: 0:55:20. Best: 414 batches ago.\r",
      "Epoch: 2. Batch: 1048. Min loss: 2.80155. Estimated time left: 0:51:13. Best: 415 batches ago."
     ]
    },
    {
     "name": "stdout",
     "output_type": "stream",
     "text": [
      "\r",
      "Epoch: 2. Batch: 1049. Min loss: 2.80155. Estimated time left: 0:50:49. Best: 416 batches ago.\r",
      "Epoch: 2. Batch: 1050. Min loss: 2.80155. Estimated time left: 0:55:45. Best: 417 batches ago."
     ]
    },
    {
     "name": "stdout",
     "output_type": "stream",
     "text": [
      "\r",
      "Epoch: 2. Batch: 1051. Min loss: 2.80155. Estimated time left: 0:55:52. Best: 418 batches ago.\r",
      "Epoch: 2. Batch: 1052. Min loss: 2.80155. Estimated time left: 0:54:45. Best: 419 batches ago."
     ]
    },
    {
     "name": "stdout",
     "output_type": "stream",
     "text": [
      "\r",
      "Epoch: 2. Batch: 1053. Min loss: 2.80155. Estimated time left: 0:55:15. Best: 420 batches ago.\r",
      "Epoch: 2. Batch: 1054. Min loss: 2.80155. Estimated time left: 0:52:36. Best: 421 batches ago."
     ]
    },
    {
     "name": "stdout",
     "output_type": "stream",
     "text": [
      "\r",
      "Epoch: 2. Batch: 1055. Min loss: 2.80155. Estimated time left: 0:55:18. Best: 422 batches ago.\r",
      "Epoch: 2. Batch: 1056. Min loss: 2.80155. Estimated time left: 0:53:00. Best: 423 batches ago."
     ]
    },
    {
     "name": "stdout",
     "output_type": "stream",
     "text": [
      "\r",
      "Epoch: 2. Batch: 1057. Min loss: 2.80155. Estimated time left: 0:53:48. Best: 424 batches ago.\r",
      "Epoch: 2. Batch: 1058. Min loss: 2.80155. Estimated time left: 0:54:49. Best: 425 batches ago."
     ]
    },
    {
     "name": "stdout",
     "output_type": "stream",
     "text": [
      "\r",
      "Epoch: 2. Batch: 1059. Min loss: 2.80155. Estimated time left: 0:52:38. Best: 426 batches ago.\r",
      "Epoch: 2. Batch: 1060. Min loss: 2.80155. Estimated time left: 0:56:02. Best: 427 batches ago."
     ]
    },
    {
     "name": "stdout",
     "output_type": "stream",
     "text": [
      "\r",
      "Epoch: 2. Batch: 1061. Min loss: 2.80155. Estimated time left: 0:54:33. Best: 428 batches ago.\r",
      "Epoch: 2. Batch: 1062. Min loss: 2.80155. Estimated time left: 0:52:48. Best: 429 batches ago."
     ]
    },
    {
     "name": "stdout",
     "output_type": "stream",
     "text": [
      "\r",
      "Epoch: 2. Batch: 1063. Min loss: 2.80155. Estimated time left: 0:53:42. Best: 430 batches ago.\r",
      "Epoch: 2. Batch: 1064. Min loss: 2.80155. Estimated time left: 0:56:02. Best: 431 batches ago."
     ]
    },
    {
     "name": "stdout",
     "output_type": "stream",
     "text": [
      "\r",
      "Epoch: 2. Batch: 1065. Min loss: 2.80155. Estimated time left: 0:52:14. Best: 432 batches ago.\r",
      "Epoch: 2. Batch: 1066. Min loss: 2.80155. Estimated time left: 0:51:10. Best: 433 batches ago."
     ]
    },
    {
     "name": "stdout",
     "output_type": "stream",
     "text": [
      "\r",
      "Epoch: 2. Batch: 1067. Min loss: 2.80155. Estimated time left: 0:53:53. Best: 434 batches ago.\r",
      "Epoch: 2. Batch: 1068. Min loss: 2.80155. Estimated time left: 0:51:35. Best: 435 batches ago."
     ]
    },
    {
     "name": "stdout",
     "output_type": "stream",
     "text": [
      "\r",
      "Epoch: 2. Batch: 1069. Min loss: 2.80155. Estimated time left: 0:54:21. Best: 436 batches ago.\r",
      "Epoch: 2. Batch: 1070. Min loss: 2.80155. Estimated time left: 0:56:21. Best: 437 batches ago."
     ]
    },
    {
     "name": "stdout",
     "output_type": "stream",
     "text": [
      "\r",
      "Epoch: 2. Batch: 1071. Min loss: 2.80155. Estimated time left: 0:52:58. Best: 438 batches ago.\r",
      "Epoch: 2. Batch: 1072. Min loss: 2.80155. Estimated time left: 0:56:54. Best: 439 batches ago."
     ]
    },
    {
     "name": "stdout",
     "output_type": "stream",
     "text": [
      "\r",
      "Epoch: 2. Batch: 1073. Min loss: 2.80155. Estimated time left: 0:52:30. Best: 440 batches ago.\r",
      "Epoch: 2. Batch: 1074. Min loss: 2.80155. Estimated time left: 0:50:17. Best: 441 batches ago."
     ]
    },
    {
     "name": "stdout",
     "output_type": "stream",
     "text": [
      "\r",
      "Epoch: 2. Batch: 1075. Min loss: 2.80155. Estimated time left: 0:54:26. Best: 442 batches ago.\r",
      "Epoch: 2. Batch: 1076. Min loss: 2.80155. Estimated time left: 0:53:16. Best: 443 batches ago."
     ]
    },
    {
     "name": "stdout",
     "output_type": "stream",
     "text": [
      "\r",
      "Epoch: 2. Batch: 1077. Min loss: 2.80155. Estimated time left: 0:52:41. Best: 444 batches ago.\r",
      "Epoch: 2. Batch: 1078. Min loss: 2.80155. Estimated time left: 0:50:02. Best: 445 batches ago."
     ]
    },
    {
     "name": "stdout",
     "output_type": "stream",
     "text": [
      "\r",
      "Epoch: 2. Batch: 1079. Min loss: 2.80155. Estimated time left: 0:55:46. Best: 446 batches ago.\r",
      "Epoch: 2. Batch: 1080. Min loss: 2.80155. Estimated time left: 0:55:10. Best: 447 batches ago."
     ]
    },
    {
     "name": "stdout",
     "output_type": "stream",
     "text": [
      "\r",
      "Epoch: 2. Batch: 1081. Min loss: 2.80155. Estimated time left: 0:52:08. Best: 448 batches ago.\r",
      "Epoch: 2. Batch: 1082. Min loss: 2.80155. Estimated time left: 0:54:04. Best: 449 batches ago."
     ]
    },
    {
     "name": "stdout",
     "output_type": "stream",
     "text": [
      "\r",
      "Epoch: 2. Batch: 1083. Min loss: 2.80155. Estimated time left: 0:55:13. Best: 450 batches ago.\r",
      "Epoch: 2. Batch: 1084. Min loss: 2.80155. Estimated time left: 0:55:56. Best: 451 batches ago."
     ]
    },
    {
     "name": "stdout",
     "output_type": "stream",
     "text": [
      "\r",
      "Epoch: 2. Batch: 1085. Min loss: 2.80155. Estimated time left: 0:53:27. Best: 452 batches ago.\r",
      "Epoch: 2. Batch: 1086. Min loss: 2.80155. Estimated time left: 0:50:15. Best: 453 batches ago."
     ]
    },
    {
     "name": "stdout",
     "output_type": "stream",
     "text": [
      "\r",
      "Epoch: 2. Batch: 1087. Min loss: 2.80155. Estimated time left: 0:53:26. Best: 454 batches ago.\r",
      "Epoch: 2. Batch: 1088. Min loss: 2.80155. Estimated time left: 0:55:53. Best: 455 batches ago."
     ]
    },
    {
     "name": "stdout",
     "output_type": "stream",
     "text": [
      "\r",
      "Epoch: 2. Batch: 1089. Min loss: 2.80155. Estimated time left: 0:54:02. Best: 456 batches ago.\r",
      "Epoch: 2. Batch: 1090. Min loss: 2.80155. Estimated time left: 0:53:24. Best: 457 batches ago."
     ]
    },
    {
     "name": "stdout",
     "output_type": "stream",
     "text": [
      "\r",
      "Epoch: 2. Batch: 1091. Min loss: 2.80155. Estimated time left: 0:51:10. Best: 458 batches ago.\r",
      "Epoch: 2. Batch: 1092. Min loss: 2.80155. Estimated time left: 0:54:49. Best: 459 batches ago."
     ]
    },
    {
     "name": "stdout",
     "output_type": "stream",
     "text": [
      "\r",
      "Epoch: 2. Batch: 1093. Min loss: 2.80155. Estimated time left: 0:52:59. Best: 460 batches ago.\r",
      "Epoch: 2. Batch: 1094. Min loss: 2.80155. Estimated time left: 0:54:23. Best: 461 batches ago."
     ]
    },
    {
     "name": "stdout",
     "output_type": "stream",
     "text": [
      "\r",
      "Epoch: 2. Batch: 1095. Min loss: 2.80155. Estimated time left: 0:57:42. Best: 462 batches ago.\r",
      "Epoch: 2. Batch: 1096. Min loss: 2.80155. Estimated time left: 0:53:59. Best: 463 batches ago."
     ]
    },
    {
     "name": "stdout",
     "output_type": "stream",
     "text": [
      "\r",
      "Epoch: 2. Batch: 1097. Min loss: 2.80155. Estimated time left: 0:57:02. Best: 464 batches ago.\r",
      "Epoch: 2. Batch: 1098. Min loss: 2.80155. Estimated time left: 0:55:44. Best: 465 batches ago."
     ]
    },
    {
     "name": "stdout",
     "output_type": "stream",
     "text": [
      "\r",
      "Epoch: 2. Batch: 1099. Min loss: 2.80155. Estimated time left: 0:54:32. Best: 466 batches ago.\r",
      "Epoch: 2. Batch: 1100. Min loss: 2.80155. Estimated time left: 0:51:03. Best: 467 batches ago."
     ]
    },
    {
     "name": "stdout",
     "output_type": "stream",
     "text": [
      "\r",
      "Epoch: 2. Batch: 1101. Min loss: 2.80155. Estimated time left: 0:54:06. Best: 468 batches ago.\r",
      "Epoch: 2. Batch: 1102. Min loss: 2.80155. Estimated time left: 0:54:18. Best: 469 batches ago."
     ]
    },
    {
     "name": "stdout",
     "output_type": "stream",
     "text": [
      "\r",
      "Epoch: 2. Batch: 1103. Min loss: 2.80155. Estimated time left: 0:57:55. Best: 470 batches ago.\r",
      "Epoch: 2. Batch: 1104. Min loss: 2.80155. Estimated time left: 0:50:43. Best: 471 batches ago."
     ]
    },
    {
     "name": "stdout",
     "output_type": "stream",
     "text": [
      "\r",
      "Epoch: 2. Batch: 1105. Min loss: 2.80155. Estimated time left: 0:53:04. Best: 472 batches ago.\r",
      "Epoch: 2. Batch: 1106. Min loss: 2.80155. Estimated time left: 0:56:22. Best: 473 batches ago."
     ]
    },
    {
     "name": "stdout",
     "output_type": "stream",
     "text": [
      "\r",
      "Epoch: 2. Batch: 1107. Min loss: 2.80155. Estimated time left: 0:54:56. Best: 474 batches ago.\r",
      "Epoch: 2. Batch: 1108. Min loss: 2.80155. Estimated time left: 0:56:12. Best: 475 batches ago."
     ]
    },
    {
     "name": "stdout",
     "output_type": "stream",
     "text": [
      "\r",
      "Epoch: 2. Batch: 1109. Min loss: 2.80155. Estimated time left: 0:54:53. Best: 476 batches ago.\r",
      "Epoch: 2. Batch: 1110. Min loss: 2.80155. Estimated time left: 0:55:09. Best: 477 batches ago."
     ]
    },
    {
     "name": "stdout",
     "output_type": "stream",
     "text": [
      "\r",
      "Epoch: 2. Batch: 1111. Min loss: 2.80155. Estimated time left: 0:53:29. Best: 478 batches ago.\r",
      "Epoch: 2. Batch: 1112. Min loss: 2.80155. Estimated time left: 0:54:49. Best: 479 batches ago."
     ]
    },
    {
     "name": "stdout",
     "output_type": "stream",
     "text": [
      "\r",
      "Epoch: 2. Batch: 1113. Min loss: 2.80155. Estimated time left: 0:54:03. Best: 480 batches ago.\r",
      "Epoch: 2. Batch: 1114. Min loss: 2.80155. Estimated time left: 0:52:31. Best: 481 batches ago."
     ]
    },
    {
     "name": "stdout",
     "output_type": "stream",
     "text": [
      "\r",
      "Epoch: 2. Batch: 1115. Min loss: 2.80155. Estimated time left: 0:54:04. Best: 482 batches ago.\r",
      "Epoch: 2. Batch: 1116. Min loss: 2.80155. Estimated time left: 0:56:08. Best: 483 batches ago."
     ]
    },
    {
     "name": "stdout",
     "output_type": "stream",
     "text": [
      "\r",
      "Epoch: 2. Batch: 1117. Min loss: 2.80155. Estimated time left: 0:55:22. Best: 484 batches ago.\r",
      "Epoch: 2. Batch: 1118. Min loss: 2.80155. Estimated time left: 0:53:33. Best: 485 batches ago."
     ]
    },
    {
     "name": "stdout",
     "output_type": "stream",
     "text": [
      "\r",
      "Epoch: 2. Batch: 1119. Min loss: 2.80155. Estimated time left: 0:53:23. Best: 486 batches ago.\r",
      "Epoch: 2. Batch: 1120. Min loss: 2.80155. Estimated time left: 0:50:52. Best: 487 batches ago."
     ]
    },
    {
     "name": "stdout",
     "output_type": "stream",
     "text": [
      "\r",
      "Epoch: 2. Batch: 1121. Min loss: 2.80155. Estimated time left: 0:54:46. Best: 488 batches ago.\r",
      "Epoch: 2. Batch: 1122. Min loss: 2.80155. Estimated time left: 0:53:53. Best: 489 batches ago."
     ]
    },
    {
     "name": "stdout",
     "output_type": "stream",
     "text": [
      "\r",
      "Epoch: 2. Batch: 1123. Min loss: 2.80155. Estimated time left: 0:52:44. Best: 490 batches ago.\r",
      "Epoch: 2. Batch: 1124. Min loss: 2.80155. Estimated time left: 0:52:19. Best: 491 batches ago."
     ]
    },
    {
     "name": "stdout",
     "output_type": "stream",
     "text": [
      "\r",
      "Epoch: 2. Batch: 1125. Min loss: 2.80155. Estimated time left: 0:51:10. Best: 492 batches ago.\r",
      "Epoch: 2. Batch: 1126. Min loss: 2.80155. Estimated time left: 0:54:49. Best: 493 batches ago."
     ]
    },
    {
     "name": "stdout",
     "output_type": "stream",
     "text": [
      "\r",
      "Epoch: 2. Batch: 1127. Min loss: 2.80155. Estimated time left: 0:55:55. Best: 494 batches ago.\r",
      "Epoch: 2. Batch: 1128. Min loss: 2.80155. Estimated time left: 0:54:38. Best: 495 batches ago."
     ]
    },
    {
     "name": "stdout",
     "output_type": "stream",
     "text": [
      "\r",
      "Epoch: 2. Batch: 1129. Min loss: 2.80155. Estimated time left: 0:55:51. Best: 496 batches ago.\r",
      "Epoch: 2. Batch: 1130. Min loss: 2.80155. Estimated time left: 0:54:41. Best: 497 batches ago."
     ]
    },
    {
     "name": "stdout",
     "output_type": "stream",
     "text": [
      "\r",
      "Epoch: 2. Batch: 1131. Min loss: 2.80155. Estimated time left: 0:52:42. Best: 498 batches ago.\r",
      "Epoch: 2. Batch: 1132. Min loss: 2.80155. Estimated time left: 0:52:48. Best: 499 batches ago."
     ]
    },
    {
     "name": "stdout",
     "output_type": "stream",
     "text": [
      "\r",
      "Epoch: 2. Batch: 1133. Min loss: 2.80155. Estimated time left: 0:55:12. Best: 500 batches ago.\r",
      "Epoch: 2. Batch: 1134. Min loss: 2.80155. Estimated time left: 0:54:33. Best: 501 batches ago."
     ]
    },
    {
     "name": "stdout",
     "output_type": "stream",
     "text": [
      "\r",
      "Epoch: 2. Batch: 1135. Min loss: 2.80155. Estimated time left: 0:56:04. Best: 502 batches ago.\r",
      "Epoch: 2. Batch: 1136. Min loss: 2.80155. Estimated time left: 0:53:40. Best: 503 batches ago."
     ]
    },
    {
     "name": "stdout",
     "output_type": "stream",
     "text": [
      "\r",
      "Epoch: 2. Batch: 1137. Min loss: 2.80155. Estimated time left: 0:54:00. Best: 504 batches ago.\r",
      "Epoch: 2. Batch: 1138. Min loss: 2.80155. Estimated time left: 0:52:16. Best: 505 batches ago."
     ]
    },
    {
     "name": "stdout",
     "output_type": "stream",
     "text": [
      "\r",
      "Epoch: 2. Batch: 1139. Min loss: 2.80155. Estimated time left: 0:54:28. Best: 506 batches ago.\r",
      "Epoch: 2. Batch: 1140. Min loss: 2.80155. Estimated time left: 0:56:43. Best: 507 batches ago."
     ]
    },
    {
     "name": "stdout",
     "output_type": "stream",
     "text": [
      "\r",
      "Epoch: 2. Batch: 1141. Min loss: 2.80155. Estimated time left: 0:51:57. Best: 508 batches ago.\r",
      "Epoch: 2. Batch: 1142. Min loss: 2.80155. Estimated time left: 0:53:02. Best: 509 batches ago."
     ]
    },
    {
     "name": "stdout",
     "output_type": "stream",
     "text": [
      "\r",
      "Epoch: 2. Batch: 1143. Min loss: 2.80155. Estimated time left: 0:50:57. Best: 510 batches ago.\r",
      "Epoch: 2. Batch: 1144. Min loss: 2.80155. Estimated time left: 0:48:41. Best: 511 batches ago."
     ]
    },
    {
     "name": "stdout",
     "output_type": "stream",
     "text": [
      "\r",
      "Epoch: 2. Batch: 1145. Min loss: 2.80155. Estimated time left: 0:55:41. Best: 512 batches ago.\r",
      "Epoch: 2. Batch: 1146. Min loss: 2.80155. Estimated time left: 1:00:16. Best: 513 batches ago."
     ]
    },
    {
     "name": "stdout",
     "output_type": "stream",
     "text": [
      "\r",
      "Epoch: 2. Batch: 1147. Min loss: 2.80155. Estimated time left: 1:00:06. Best: 514 batches ago.\r",
      "Epoch: 2. Batch: 1148. Min loss: 2.78047. Estimated time left: 1:07:50. Best: 0 batches ago."
     ]
    },
    {
     "name": "stdout",
     "output_type": "stream",
     "text": [
      "\r",
      "Epoch: 2. Batch: 1149. Min loss: 2.78047. Estimated time left: 1:11:01. Best: 1 batches ago."
     ]
    },
    {
     "name": "stdout",
     "output_type": "stream",
     "text": [
      "\r",
      "Epoch: 2. Batch: 1150. Min loss: 2.78047. Estimated time left: 1:10:37. Best: 2 batches ago.\r",
      "Epoch: 2. Batch: 1151. Min loss: 2.78047. Estimated time left: 1:06:09. Best: 3 batches ago."
     ]
    },
    {
     "name": "stdout",
     "output_type": "stream",
     "text": [
      "\r",
      "Epoch: 2. Batch: 1152. Min loss: 2.78047. Estimated time left: 0:58:18. Best: 4 batches ago.\r",
      "Epoch: 2. Batch: 1153. Min loss: 2.78047. Estimated time left: 0:53:29. Best: 5 batches ago."
     ]
    },
    {
     "name": "stdout",
     "output_type": "stream",
     "text": [
      "\r",
      "Epoch: 2. Batch: 1154. Min loss: 2.78047. Estimated time left: 0:52:32. Best: 6 batches ago."
     ]
    },
    {
     "name": "stdout",
     "output_type": "stream",
     "text": [
      "\r",
      "Epoch: 3. Batch: 1. Min loss: 2.78047. Estimated time left: 0:45:52. Best: 7 batches ago.\n",
      "Input:\t torch.Size([500, 64])\n",
      "Labels:\t torch.Size([64, 500])\n",
      "Valid:\t tensor([288, 446, 400, 238, 310, 369, 290, 358, 364, 102, 139, 342,  85,  71,\n",
      "         99, 141, 379, 284, 283, 163, 330, 348,  65, 490, 319, 303, 187, 104,\n",
      "         66, 215, 323, 469, 375, 105, 348,  97, 322, 152, 214, 157, 142, 125,\n",
      "        158, 387, 370, 230, 346, 238, 385,  66, 332, 450, 381, 397, 202, 285,\n",
      "        199, 215, 301, 442, 332, 259, 262, 406], device='cuda:0')\n",
      "Output:\t torch.Size([17050, 23])\n",
      "Hidden:\t torch.Size([17050, 128])\n"
     ]
    },
    {
     "name": "stdout",
     "output_type": "stream",
     "text": [
      "\r",
      "Epoch: 3. Batch: 2. Min loss: 2.78047. Estimated time left: 1:14:56. Best: 8 batches ago."
     ]
    },
    {
     "name": "stdout",
     "output_type": "stream",
     "text": [
      "\r",
      "Epoch: 3. Batch: 3. Min loss: 2.78047. Estimated time left: 1:13:37. Best: 9 batches ago.\r",
      "Epoch: 3. Batch: 4. Min loss: 2.78047. Estimated time left: 1:02:34. Best: 10 batches ago."
     ]
    },
    {
     "name": "stdout",
     "output_type": "stream",
     "text": [
      "\r",
      "Epoch: 3. Batch: 5. Min loss: 2.78047. Estimated time left: 0:55:03. Best: 11 batches ago.\r",
      "Epoch: 3. Batch: 6. Min loss: 2.78047. Estimated time left: 0:56:49. Best: 12 batches ago."
     ]
    },
    {
     "name": "stdout",
     "output_type": "stream",
     "text": [
      "\r",
      "Epoch: 3. Batch: 7. Min loss: 2.78047. Estimated time left: 0:57:50. Best: 13 batches ago.\r",
      "Epoch: 3. Batch: 8. Min loss: 2.78047. Estimated time left: 1:07:41. Best: 14 batches ago."
     ]
    },
    {
     "name": "stdout",
     "output_type": "stream",
     "text": [
      "\r",
      "Epoch: 3. Batch: 9. Min loss: 2.78047. Estimated time left: 1:13:20. Best: 15 batches ago.\r",
      "Epoch: 3. Batch: 10. Min loss: 2.78047. Estimated time left: 1:06:11. Best: 16 batches ago."
     ]
    },
    {
     "name": "stdout",
     "output_type": "stream",
     "text": [
      "\r",
      "Epoch: 3. Batch: 11. Min loss: 2.78047. Estimated time left: 1:07:48. Best: 17 batches ago.\r",
      "Epoch: 3. Batch: 12. Min loss: 2.78047. Estimated time left: 1:06:13. Best: 18 batches ago."
     ]
    },
    {
     "name": "stdout",
     "output_type": "stream",
     "text": [
      "\r",
      "Epoch: 3. Batch: 13. Min loss: 2.78047. Estimated time left: 0:55:43. Best: 19 batches ago.\r",
      "Epoch: 3. Batch: 14. Min loss: 2.78047. Estimated time left: 0:51:33. Best: 20 batches ago."
     ]
    },
    {
     "name": "stdout",
     "output_type": "stream",
     "text": [
      "\r",
      "Epoch: 3. Batch: 15. Min loss: 2.78047. Estimated time left: 0:53:40. Best: 21 batches ago.\r",
      "Epoch: 3. Batch: 16. Min loss: 2.78047. Estimated time left: 0:59:24. Best: 22 batches ago."
     ]
    },
    {
     "name": "stdout",
     "output_type": "stream",
     "text": [
      "\r",
      "Epoch: 3. Batch: 17. Min loss: 2.78047. Estimated time left: 1:11:09. Best: 23 batches ago."
     ]
    },
    {
     "name": "stdout",
     "output_type": "stream",
     "text": [
      "\r",
      "Epoch: 3. Batch: 18. Min loss: 2.78047. Estimated time left: 1:12:06. Best: 24 batches ago.\r",
      "Epoch: 3. Batch: 19. Min loss: 2.78047. Estimated time left: 1:07:02. Best: 25 batches ago."
     ]
    },
    {
     "name": "stdout",
     "output_type": "stream",
     "text": [
      "\r",
      "Epoch: 3. Batch: 20. Min loss: 2.78047. Estimated time left: 1:12:23. Best: 26 batches ago.\r",
      "Epoch: 3. Batch: 21. Min loss: 2.78047. Estimated time left: 0:53:57. Best: 27 batches ago."
     ]
    },
    {
     "name": "stdout",
     "output_type": "stream",
     "text": [
      "\r",
      "Epoch: 3. Batch: 22. Min loss: 2.78047. Estimated time left: 0:55:42. Best: 28 batches ago.\r",
      "Epoch: 3. Batch: 23. Min loss: 2.78047. Estimated time left: 0:56:09. Best: 29 batches ago."
     ]
    },
    {
     "name": "stdout",
     "output_type": "stream",
     "text": [
      "\r",
      "Epoch: 3. Batch: 24. Min loss: 2.78047. Estimated time left: 1:03:43. Best: 30 batches ago."
     ]
    },
    {
     "name": "stdout",
     "output_type": "stream",
     "text": [
      "\r",
      "Epoch: 3. Batch: 25. Min loss: 2.78047. Estimated time left: 1:12:47. Best: 31 batches ago."
     ]
    },
    {
     "name": "stdout",
     "output_type": "stream",
     "text": [
      "\r",
      "Epoch: 3. Batch: 26. Min loss: 2.78047. Estimated time left: 1:11:06. Best: 32 batches ago.\r",
      "Epoch: 3. Batch: 27. Min loss: 2.78047. Estimated time left: 1:06:11. Best: 33 batches ago."
     ]
    },
    {
     "name": "stdout",
     "output_type": "stream",
     "text": [
      "\r",
      "Epoch: 3. Batch: 28. Min loss: 2.78047. Estimated time left: 1:08:01. Best: 34 batches ago.\r",
      "Epoch: 3. Batch: 29. Min loss: 2.78047. Estimated time left: 0:56:00. Best: 35 batches ago."
     ]
    },
    {
     "name": "stdout",
     "output_type": "stream",
     "text": [
      "\r",
      "Epoch: 3. Batch: 30. Min loss: 2.78047. Estimated time left: 0:55:00. Best: 36 batches ago.\r",
      "Epoch: 3. Batch: 31. Min loss: 2.78047. Estimated time left: 0:55:36. Best: 37 batches ago."
     ]
    },
    {
     "name": "stdout",
     "output_type": "stream",
     "text": [
      "\r",
      "Epoch: 3. Batch: 32. Min loss: 2.78047. Estimated time left: 0:56:19. Best: 38 batches ago."
     ]
    },
    {
     "name": "stdout",
     "output_type": "stream",
     "text": [
      "\r",
      "Epoch: 3. Batch: 33. Min loss: 2.78047. Estimated time left: 1:11:05. Best: 39 batches ago."
     ]
    },
    {
     "name": "stdout",
     "output_type": "stream",
     "text": [
      "\r",
      "Epoch: 3. Batch: 34. Min loss: 2.78047. Estimated time left: 1:08:54. Best: 40 batches ago."
     ]
    },
    {
     "name": "stdout",
     "output_type": "stream",
     "text": [
      "\r",
      "Epoch: 3. Batch: 35. Min loss: 2.78047. Estimated time left: 1:12:03. Best: 41 batches ago."
     ]
    },
    {
     "name": "stdout",
     "output_type": "stream",
     "text": [
      "\r",
      "Epoch: 3. Batch: 36. Min loss: 2.78047. Estimated time left: 1:12:07. Best: 42 batches ago.\r",
      "Epoch: 3. Batch: 37. Min loss: 2.78047. Estimated time left: 0:54:31. Best: 43 batches ago."
     ]
    },
    {
     "name": "stdout",
     "output_type": "stream",
     "text": [
      "\r",
      "Epoch: 3. Batch: 38. Min loss: 2.78047. Estimated time left: 0:55:43. Best: 44 batches ago.\r",
      "Epoch: 3. Batch: 39. Min loss: 2.78047. Estimated time left: 0:54:45. Best: 45 batches ago."
     ]
    },
    {
     "name": "stdout",
     "output_type": "stream",
     "text": [
      "\r",
      "Epoch: 3. Batch: 40. Min loss: 2.78047. Estimated time left: 0:55:00. Best: 46 batches ago.\r",
      "Epoch: 3. Batch: 41. Min loss: 2.78047. Estimated time left: 1:06:54. Best: 47 batches ago."
     ]
    },
    {
     "name": "stdout",
     "output_type": "stream",
     "text": [
      "\r",
      "Epoch: 3. Batch: 42. Min loss: 2.78047. Estimated time left: 1:09:33. Best: 48 batches ago."
     ]
    },
    {
     "name": "stdout",
     "output_type": "stream",
     "text": [
      "\r",
      "Epoch: 3. Batch: 43. Min loss: 2.78047. Estimated time left: 1:11:27. Best: 49 batches ago."
     ]
    },
    {
     "name": "stdout",
     "output_type": "stream",
     "text": [
      "\r",
      "Epoch: 3. Batch: 44. Min loss: 2.78047. Estimated time left: 1:08:39. Best: 50 batches ago.\r",
      "Epoch: 3. Batch: 45. Min loss: 2.78047. Estimated time left: 0:59:30. Best: 51 batches ago."
     ]
    },
    {
     "name": "stdout",
     "output_type": "stream",
     "text": [
      "\r",
      "Epoch: 3. Batch: 46. Min loss: 2.78047. Estimated time left: 0:53:35. Best: 52 batches ago.\r",
      "Epoch: 3. Batch: 47. Min loss: 2.78047. Estimated time left: 0:52:40. Best: 53 batches ago."
     ]
    },
    {
     "name": "stdout",
     "output_type": "stream",
     "text": [
      "\r",
      "Epoch: 3. Batch: 48. Min loss: 2.78047. Estimated time left: 0:52:36. Best: 54 batches ago.\r",
      "Epoch: 3. Batch: 49. Min loss: 2.78047. Estimated time left: 1:06:46. Best: 55 batches ago."
     ]
    },
    {
     "name": "stdout",
     "output_type": "stream",
     "text": [
      "\r",
      "Epoch: 3. Batch: 50. Min loss: 2.78047. Estimated time left: 1:12:23. Best: 56 batches ago."
     ]
    },
    {
     "name": "stdout",
     "output_type": "stream",
     "text": [
      "\r",
      "Epoch: 3. Batch: 51. Min loss: 2.78047. Estimated time left: 1:09:38. Best: 57 batches ago.\r",
      "Epoch: 3. Batch: 52. Min loss: 2.78047. Estimated time left: 1:08:00. Best: 58 batches ago."
     ]
    },
    {
     "name": "stdout",
     "output_type": "stream",
     "text": [
      "\r",
      "Epoch: 3. Batch: 53. Min loss: 2.78047. Estimated time left: 0:59:01. Best: 59 batches ago.\r",
      "Epoch: 3. Batch: 54. Min loss: 2.78047. Estimated time left: 0:53:13. Best: 60 batches ago."
     ]
    },
    {
     "name": "stdout",
     "output_type": "stream",
     "text": [
      "\r",
      "Epoch: 3. Batch: 55. Min loss: 2.78047. Estimated time left: 0:57:39. Best: 61 batches ago.\r",
      "Epoch: 3. Batch: 56. Min loss: 2.78047. Estimated time left: 0:56:54. Best: 62 batches ago."
     ]
    },
    {
     "name": "stdout",
     "output_type": "stream",
     "text": [
      "\r",
      "Epoch: 3. Batch: 57. Min loss: 2.78047. Estimated time left: 1:04:09. Best: 63 batches ago."
     ]
    },
    {
     "name": "stdout",
     "output_type": "stream",
     "text": [
      "\r",
      "Epoch: 3. Batch: 58. Min loss: 2.78047. Estimated time left: 1:10:54. Best: 64 batches ago.\r",
      "Epoch: 3. Batch: 59. Min loss: 2.78047. Estimated time left: 1:07:54. Best: 65 batches ago."
     ]
    },
    {
     "name": "stdout",
     "output_type": "stream",
     "text": [
      "\r",
      "Epoch: 3. Batch: 60. Min loss: 2.78047. Estimated time left: 1:15:18. Best: 66 batches ago.\r",
      "Epoch: 3. Batch: 61. Min loss: 2.78047. Estimated time left: 1:06:06. Best: 67 batches ago."
     ]
    },
    {
     "name": "stdout",
     "output_type": "stream",
     "text": [
      "\r",
      "Epoch: 3. Batch: 62. Min loss: 2.78047. Estimated time left: 0:55:16. Best: 68 batches ago.\r",
      "Epoch: 3. Batch: 63. Min loss: 2.78047. Estimated time left: 0:54:05. Best: 69 batches ago."
     ]
    },
    {
     "name": "stdout",
     "output_type": "stream",
     "text": [
      "\r",
      "Epoch: 3. Batch: 64. Min loss: 2.78047. Estimated time left: 0:51:40. Best: 70 batches ago.\r",
      "Epoch: 3. Batch: 65. Min loss: 2.78047. Estimated time left: 1:02:49. Best: 71 batches ago."
     ]
    },
    {
     "name": "stdout",
     "output_type": "stream",
     "text": [
      "\r",
      "Epoch: 3. Batch: 66. Min loss: 2.78047. Estimated time left: 1:07:36. Best: 72 batches ago.\r",
      "Epoch: 3. Batch: 67. Min loss: 2.78047. Estimated time left: 1:07:46. Best: 73 batches ago."
     ]
    },
    {
     "name": "stdout",
     "output_type": "stream",
     "text": [
      "\r",
      "Epoch: 3. Batch: 68. Min loss: 2.78047. Estimated time left: 1:10:01. Best: 74 batches ago.\r",
      "Epoch: 3. Batch: 69. Min loss: 2.78047. Estimated time left: 1:08:00. Best: 75 batches ago."
     ]
    },
    {
     "name": "stdout",
     "output_type": "stream",
     "text": [
      "\r",
      "Epoch: 3. Batch: 70. Min loss: 2.78047. Estimated time left: 0:53:22. Best: 76 batches ago.\r",
      "Epoch: 3. Batch: 71. Min loss: 2.78047. Estimated time left: 0:55:05. Best: 77 batches ago."
     ]
    },
    {
     "name": "stdout",
     "output_type": "stream",
     "text": [
      "\r",
      "Epoch: 3. Batch: 72. Min loss: 2.78047. Estimated time left: 0:54:53. Best: 78 batches ago.\r",
      "Epoch: 3. Batch: 73. Min loss: 2.78047. Estimated time left: 0:59:39. Best: 79 batches ago."
     ]
    },
    {
     "name": "stdout",
     "output_type": "stream",
     "text": [
      "\r",
      "Epoch: 3. Batch: 74. Min loss: 2.78047. Estimated time left: 1:10:09. Best: 80 batches ago.\r",
      "Epoch: 3. Batch: 75. Min loss: 2.78047. Estimated time left: 1:07:17. Best: 81 batches ago."
     ]
    },
    {
     "name": "stdout",
     "output_type": "stream",
     "text": [
      "\r",
      "Epoch: 3. Batch: 76. Min loss: 2.78047. Estimated time left: 1:09:16. Best: 82 batches ago."
     ]
    },
    {
     "name": "stdout",
     "output_type": "stream",
     "text": [
      "\r",
      "Epoch: 3. Batch: 77. Min loss: 2.78047. Estimated time left: 1:12:48. Best: 83 batches ago.\r",
      "Epoch: 3. Batch: 78. Min loss: 2.78047. Estimated time left: 0:52:31. Best: 84 batches ago."
     ]
    },
    {
     "name": "stdout",
     "output_type": "stream",
     "text": [
      "\r",
      "Epoch: 3. Batch: 79. Min loss: 2.78047. Estimated time left: 0:52:22. Best: 85 batches ago.\r",
      "Epoch: 3. Batch: 80. Min loss: 2.78047. Estimated time left: 0:52:00. Best: 86 batches ago."
     ]
    },
    {
     "name": "stdout",
     "output_type": "stream",
     "text": [
      "\r",
      "Epoch: 3. Batch: 81. Min loss: 2.78047. Estimated time left: 0:54:58. Best: 87 batches ago."
     ]
    },
    {
     "name": "stdout",
     "output_type": "stream",
     "text": [
      "\r",
      "Epoch: 3. Batch: 82. Min loss: 2.78047. Estimated time left: 1:10:40. Best: 88 batches ago."
     ]
    },
    {
     "name": "stdout",
     "output_type": "stream",
     "text": [
      "\r",
      "Epoch: 3. Batch: 83. Min loss: 2.78047. Estimated time left: 1:13:36. Best: 89 batches ago."
     ]
    },
    {
     "name": "stdout",
     "output_type": "stream",
     "text": [
      "\r",
      "Epoch: 3. Batch: 84. Min loss: 2.78047. Estimated time left: 1:08:29. Best: 90 batches ago."
     ]
    },
    {
     "name": "stdout",
     "output_type": "stream",
     "text": [
      "\r",
      "Epoch: 3. Batch: 85. Min loss: 2.78047. Estimated time left: 1:09:59. Best: 91 batches ago."
     ]
    },
    {
     "name": "stdout",
     "output_type": "stream",
     "text": [
      "\r",
      "Epoch: 3. Batch: 86. Min loss: 2.78047. Estimated time left: 1:13:43. Best: 92 batches ago."
     ]
    },
    {
     "name": "stdout",
     "output_type": "stream",
     "text": [
      "\r",
      "Epoch: 3. Batch: 87. Min loss: 2.78047. Estimated time left: 1:10:58. Best: 93 batches ago.\r",
      "Epoch: 3. Batch: 88. Min loss: 2.78047. Estimated time left: 0:55:22. Best: 94 batches ago."
     ]
    },
    {
     "name": "stdout",
     "output_type": "stream",
     "text": [
      "\r",
      "Epoch: 3. Batch: 89. Min loss: 2.78047. Estimated time left: 0:54:12. Best: 95 batches ago.\r",
      "Epoch: 3. Batch: 90. Min loss: 2.78047. Estimated time left: 0:53:31. Best: 96 batches ago."
     ]
    },
    {
     "name": "stdout",
     "output_type": "stream",
     "text": [
      "\r",
      "Epoch: 3. Batch: 91. Min loss: 2.78047. Estimated time left: 0:55:39. Best: 97 batches ago.\r",
      "Epoch: 3. Batch: 92. Min loss: 2.78047. Estimated time left: 0:51:45. Best: 98 batches ago."
     ]
    },
    {
     "name": "stdout",
     "output_type": "stream",
     "text": [
      "\r",
      "Epoch: 3. Batch: 93. Min loss: 2.78047. Estimated time left: 0:54:20. Best: 99 batches ago.\r",
      "Epoch: 3. Batch: 94. Min loss: 2.78047. Estimated time left: 0:56:56. Best: 100 batches ago."
     ]
    },
    {
     "name": "stdout",
     "output_type": "stream",
     "text": [
      "\r",
      "Epoch: 3. Batch: 95. Min loss: 2.78047. Estimated time left: 0:56:40. Best: 101 batches ago.\r",
      "Epoch: 3. Batch: 96. Min loss: 2.78047. Estimated time left: 0:53:34. Best: 102 batches ago."
     ]
    },
    {
     "name": "stdout",
     "output_type": "stream",
     "text": [
      "\r",
      "Epoch: 3. Batch: 97. Min loss: 2.78047. Estimated time left: 0:55:26. Best: 103 batches ago.\r",
      "Epoch: 3. Batch: 98. Min loss: 2.78047. Estimated time left: 0:53:49. Best: 104 batches ago."
     ]
    },
    {
     "name": "stdout",
     "output_type": "stream",
     "text": [
      "\r",
      "Epoch: 3. Batch: 99. Min loss: 2.78047. Estimated time left: 0:54:07. Best: 105 batches ago.\r",
      "Epoch: 3. Batch: 100. Min loss: 2.78047. Estimated time left: 0:53:24. Best: 106 batches ago."
     ]
    },
    {
     "name": "stdout",
     "output_type": "stream",
     "text": [
      "\r",
      "Epoch: 3. Batch: 101. Min loss: 2.78047. Estimated time left: 0:54:47. Best: 107 batches ago.\r",
      "Epoch: 3. Batch: 102. Min loss: 2.78047. Estimated time left: 0:48:13. Best: 108 batches ago."
     ]
    },
    {
     "name": "stdout",
     "output_type": "stream",
     "text": [
      "\r",
      "Epoch: 3. Batch: 103. Min loss: 2.78047. Estimated time left: 0:56:35. Best: 109 batches ago.\r",
      "Epoch: 3. Batch: 104. Min loss: 2.78047. Estimated time left: 0:53:45. Best: 110 batches ago."
     ]
    },
    {
     "name": "stdout",
     "output_type": "stream",
     "text": [
      "\r",
      "Epoch: 3. Batch: 105. Min loss: 2.78047. Estimated time left: 0:53:05. Best: 111 batches ago.\r",
      "Epoch: 3. Batch: 106. Min loss: 2.78047. Estimated time left: 0:56:20. Best: 112 batches ago."
     ]
    },
    {
     "name": "stdout",
     "output_type": "stream",
     "text": [
      "\r",
      "Epoch: 3. Batch: 107. Min loss: 2.78047. Estimated time left: 0:53:17. Best: 113 batches ago.\r",
      "Epoch: 3. Batch: 108. Min loss: 2.78047. Estimated time left: 0:52:11. Best: 114 batches ago."
     ]
    },
    {
     "name": "stdout",
     "output_type": "stream",
     "text": [
      "\r",
      "Epoch: 3. Batch: 109. Min loss: 2.78047. Estimated time left: 0:51:32. Best: 115 batches ago.\r",
      "Epoch: 3. Batch: 110. Min loss: 2.78047. Estimated time left: 0:51:48. Best: 116 batches ago."
     ]
    },
    {
     "name": "stdout",
     "output_type": "stream",
     "text": [
      "\r",
      "Epoch: 3. Batch: 111. Min loss: 2.78047. Estimated time left: 0:52:59. Best: 117 batches ago.\r",
      "Epoch: 3. Batch: 112. Min loss: 2.78047. Estimated time left: 0:55:48. Best: 118 batches ago."
     ]
    },
    {
     "name": "stdout",
     "output_type": "stream",
     "text": [
      "\r",
      "Epoch: 3. Batch: 113. Min loss: 2.78047. Estimated time left: 0:56:29. Best: 119 batches ago.\r",
      "Epoch: 3. Batch: 114. Min loss: 2.78047. Estimated time left: 0:55:10. Best: 120 batches ago."
     ]
    },
    {
     "name": "stdout",
     "output_type": "stream",
     "text": [
      "\r",
      "Epoch: 3. Batch: 115. Min loss: 2.78047. Estimated time left: 0:53:04. Best: 121 batches ago.\r",
      "Epoch: 3. Batch: 116. Min loss: 2.78047. Estimated time left: 0:51:35. Best: 122 batches ago."
     ]
    },
    {
     "name": "stdout",
     "output_type": "stream",
     "text": [
      "\r",
      "Epoch: 3. Batch: 117. Min loss: 2.78047. Estimated time left: 0:52:00. Best: 123 batches ago.\r",
      "Epoch: 3. Batch: 118. Min loss: 2.78047. Estimated time left: 0:52:29. Best: 124 batches ago."
     ]
    },
    {
     "name": "stdout",
     "output_type": "stream",
     "text": [
      "\r",
      "Epoch: 3. Batch: 119. Min loss: 2.78047. Estimated time left: 0:51:53. Best: 125 batches ago.\r",
      "Epoch: 3. Batch: 120. Min loss: 2.78047. Estimated time left: 0:56:31. Best: 126 batches ago."
     ]
    },
    {
     "name": "stdout",
     "output_type": "stream",
     "text": [
      "\r",
      "Epoch: 3. Batch: 121. Min loss: 2.78047. Estimated time left: 0:55:02. Best: 127 batches ago.\r",
      "Epoch: 3. Batch: 122. Min loss: 2.78047. Estimated time left: 0:54:04. Best: 128 batches ago."
     ]
    },
    {
     "name": "stdout",
     "output_type": "stream",
     "text": [
      "\r",
      "Epoch: 3. Batch: 123. Min loss: 2.78047. Estimated time left: 0:50:16. Best: 129 batches ago.\r",
      "Epoch: 3. Batch: 124. Min loss: 2.78047. Estimated time left: 0:54:56. Best: 130 batches ago."
     ]
    },
    {
     "name": "stdout",
     "output_type": "stream",
     "text": [
      "\r",
      "Epoch: 3. Batch: 125. Min loss: 2.78047. Estimated time left: 0:54:31. Best: 131 batches ago.\r",
      "Epoch: 3. Batch: 126. Min loss: 2.78047. Estimated time left: 0:55:23. Best: 132 batches ago."
     ]
    },
    {
     "name": "stdout",
     "output_type": "stream",
     "text": [
      "\r",
      "Epoch: 3. Batch: 127. Min loss: 2.78047. Estimated time left: 0:54:51. Best: 133 batches ago.\r",
      "Epoch: 3. Batch: 128. Min loss: 2.78047. Estimated time left: 0:52:27. Best: 134 batches ago."
     ]
    },
    {
     "name": "stdout",
     "output_type": "stream",
     "text": [
      "\r",
      "Epoch: 3. Batch: 129. Min loss: 2.78047. Estimated time left: 0:51:16. Best: 135 batches ago.\r",
      "Epoch: 3. Batch: 130. Min loss: 2.78047. Estimated time left: 0:50:57. Best: 136 batches ago."
     ]
    },
    {
     "name": "stdout",
     "output_type": "stream",
     "text": [
      "\r",
      "Epoch: 3. Batch: 131. Min loss: 2.78047. Estimated time left: 0:53:43. Best: 137 batches ago.\r",
      "Epoch: 3. Batch: 132. Min loss: 2.78047. Estimated time left: 0:55:22. Best: 138 batches ago."
     ]
    },
    {
     "name": "stdout",
     "output_type": "stream",
     "text": [
      "\r",
      "Epoch: 3. Batch: 133. Min loss: 2.78047. Estimated time left: 0:56:07. Best: 139 batches ago.\r",
      "Epoch: 3. Batch: 134. Min loss: 2.78047. Estimated time left: 0:49:08. Best: 140 batches ago."
     ]
    },
    {
     "name": "stdout",
     "output_type": "stream",
     "text": [
      "\r",
      "Epoch: 3. Batch: 135. Min loss: 2.78047. Estimated time left: 0:55:28. Best: 141 batches ago.\r",
      "Epoch: 3. Batch: 136. Min loss: 2.78047. Estimated time left: 0:54:24. Best: 142 batches ago."
     ]
    },
    {
     "name": "stdout",
     "output_type": "stream",
     "text": [
      "\r",
      "Epoch: 3. Batch: 137. Min loss: 2.78047. Estimated time left: 0:56:08. Best: 143 batches ago.\r",
      "Epoch: 3. Batch: 138. Min loss: 2.78047. Estimated time left: 0:52:12. Best: 144 batches ago."
     ]
    },
    {
     "name": "stdout",
     "output_type": "stream",
     "text": [
      "\r",
      "Epoch: 3. Batch: 139. Min loss: 2.78047. Estimated time left: 0:55:35. Best: 145 batches ago.\r",
      "Epoch: 3. Batch: 140. Min loss: 2.78047. Estimated time left: 0:54:08. Best: 146 batches ago."
     ]
    },
    {
     "name": "stdout",
     "output_type": "stream",
     "text": [
      "\r",
      "Epoch: 3. Batch: 141. Min loss: 2.78047. Estimated time left: 0:51:59. Best: 147 batches ago.\r",
      "Epoch: 3. Batch: 142. Min loss: 2.78047. Estimated time left: 0:52:34. Best: 148 batches ago."
     ]
    },
    {
     "name": "stdout",
     "output_type": "stream",
     "text": [
      "\r",
      "Epoch: 3. Batch: 143. Min loss: 2.78047. Estimated time left: 0:56:06. Best: 149 batches ago.\r",
      "Epoch: 3. Batch: 144. Min loss: 2.78047. Estimated time left: 0:53:31. Best: 150 batches ago."
     ]
    },
    {
     "name": "stdout",
     "output_type": "stream",
     "text": [
      "\r",
      "Epoch: 3. Batch: 145. Min loss: 2.78047. Estimated time left: 0:55:08. Best: 151 batches ago.\r",
      "Epoch: 3. Batch: 146. Min loss: 2.78047. Estimated time left: 0:51:52. Best: 152 batches ago."
     ]
    },
    {
     "name": "stdout",
     "output_type": "stream",
     "text": [
      "\r",
      "Epoch: 3. Batch: 147. Min loss: 2.78047. Estimated time left: 0:56:00. Best: 153 batches ago.\r",
      "Epoch: 3. Batch: 148. Min loss: 2.78047. Estimated time left: 0:54:10. Best: 154 batches ago."
     ]
    },
    {
     "name": "stdout",
     "output_type": "stream",
     "text": [
      "\r",
      "Epoch: 3. Batch: 149. Min loss: 2.78047. Estimated time left: 0:53:02. Best: 155 batches ago.\r",
      "Epoch: 3. Batch: 150. Min loss: 2.78047. Estimated time left: 0:58:21. Best: 156 batches ago."
     ]
    },
    {
     "name": "stdout",
     "output_type": "stream",
     "text": [
      "\r",
      "Epoch: 3. Batch: 151. Min loss: 2.78047. Estimated time left: 0:54:10. Best: 157 batches ago.\r",
      "Epoch: 3. Batch: 152. Min loss: 2.78047. Estimated time left: 0:55:43. Best: 158 batches ago."
     ]
    },
    {
     "name": "stdout",
     "output_type": "stream",
     "text": [
      "\r",
      "Epoch: 3. Batch: 153. Min loss: 2.78047. Estimated time left: 0:53:55. Best: 159 batches ago.\r",
      "Epoch: 3. Batch: 154. Min loss: 2.78047. Estimated time left: 0:54:48. Best: 160 batches ago."
     ]
    },
    {
     "name": "stdout",
     "output_type": "stream",
     "text": [
      "\r",
      "Epoch: 3. Batch: 155. Min loss: 2.78047. Estimated time left: 0:53:09. Best: 161 batches ago.\r",
      "Epoch: 3. Batch: 156. Min loss: 2.78047. Estimated time left: 0:52:03. Best: 162 batches ago."
     ]
    },
    {
     "name": "stdout",
     "output_type": "stream",
     "text": [
      "\r",
      "Epoch: 3. Batch: 157. Min loss: 2.78047. Estimated time left: 0:57:12. Best: 163 batches ago.\r",
      "Epoch: 3. Batch: 158. Min loss: 2.78047. Estimated time left: 0:55:34. Best: 164 batches ago."
     ]
    },
    {
     "name": "stdout",
     "output_type": "stream",
     "text": [
      "\r",
      "Epoch: 3. Batch: 159. Min loss: 2.78047. Estimated time left: 0:52:40. Best: 165 batches ago.\r",
      "Epoch: 3. Batch: 160. Min loss: 2.78047. Estimated time left: 0:51:51. Best: 166 batches ago."
     ]
    },
    {
     "name": "stdout",
     "output_type": "stream",
     "text": [
      "\r",
      "Epoch: 3. Batch: 161. Min loss: 2.78047. Estimated time left: 0:54:03. Best: 167 batches ago.\r",
      "Epoch: 3. Batch: 162. Min loss: 2.78047. Estimated time left: 0:56:40. Best: 168 batches ago."
     ]
    },
    {
     "name": "stdout",
     "output_type": "stream",
     "text": [
      "\r",
      "Epoch: 3. Batch: 163. Min loss: 2.78047. Estimated time left: 0:53:46. Best: 169 batches ago.\r",
      "Epoch: 3. Batch: 164. Min loss: 2.78047. Estimated time left: 0:55:03. Best: 170 batches ago."
     ]
    },
    {
     "name": "stdout",
     "output_type": "stream",
     "text": [
      "\r",
      "Epoch: 3. Batch: 165. Min loss: 2.78047. Estimated time left: 0:57:04. Best: 171 batches ago.\r",
      "Epoch: 3. Batch: 166. Min loss: 2.78047. Estimated time left: 0:52:42. Best: 172 batches ago."
     ]
    },
    {
     "name": "stdout",
     "output_type": "stream",
     "text": [
      "\r",
      "Epoch: 3. Batch: 167. Min loss: 2.78047. Estimated time left: 0:51:26. Best: 173 batches ago.\r",
      "Epoch: 3. Batch: 168. Min loss: 2.78047. Estimated time left: 0:52:07. Best: 174 batches ago."
     ]
    },
    {
     "name": "stdout",
     "output_type": "stream",
     "text": [
      "\r",
      "Epoch: 3. Batch: 169. Min loss: 2.78047. Estimated time left: 0:54:04. Best: 175 batches ago.\r",
      "Epoch: 3. Batch: 170. Min loss: 2.78047. Estimated time left: 0:52:43. Best: 176 batches ago."
     ]
    },
    {
     "name": "stdout",
     "output_type": "stream",
     "text": [
      "\r",
      "Epoch: 3. Batch: 171. Min loss: 2.78047. Estimated time left: 0:53:01. Best: 177 batches ago.\r",
      "Epoch: 3. Batch: 172. Min loss: 2.78047. Estimated time left: 0:55:15. Best: 178 batches ago."
     ]
    },
    {
     "name": "stdout",
     "output_type": "stream",
     "text": [
      "\r",
      "Epoch: 3. Batch: 173. Min loss: 2.78047. Estimated time left: 0:56:45. Best: 179 batches ago.\r",
      "Epoch: 3. Batch: 174. Min loss: 2.78047. Estimated time left: 0:53:26. Best: 180 batches ago."
     ]
    },
    {
     "name": "stdout",
     "output_type": "stream",
     "text": [
      "\r",
      "Epoch: 3. Batch: 175. Min loss: 2.78047. Estimated time left: 0:53:13. Best: 181 batches ago.\r",
      "Epoch: 3. Batch: 176. Min loss: 2.78047. Estimated time left: 0:52:30. Best: 182 batches ago."
     ]
    },
    {
     "name": "stdout",
     "output_type": "stream",
     "text": [
      "\r",
      "Epoch: 3. Batch: 177. Min loss: 2.78047. Estimated time left: 0:56:05. Best: 183 batches ago.\r",
      "Epoch: 3. Batch: 178. Min loss: 2.78047. Estimated time left: 0:53:29. Best: 184 batches ago."
     ]
    },
    {
     "name": "stdout",
     "output_type": "stream",
     "text": [
      "\r",
      "Epoch: 3. Batch: 179. Min loss: 2.78047. Estimated time left: 0:57:03. Best: 185 batches ago.\r",
      "Epoch: 3. Batch: 180. Min loss: 2.78047. Estimated time left: 0:54:42. Best: 186 batches ago."
     ]
    },
    {
     "name": "stdout",
     "output_type": "stream",
     "text": [
      "\r",
      "Epoch: 3. Batch: 181. Min loss: 2.78047. Estimated time left: 0:51:47. Best: 187 batches ago.\r",
      "Epoch: 3. Batch: 182. Min loss: 2.78047. Estimated time left: 0:55:34. Best: 188 batches ago."
     ]
    },
    {
     "name": "stdout",
     "output_type": "stream",
     "text": [
      "\r",
      "Epoch: 3. Batch: 183. Min loss: 2.78047. Estimated time left: 0:53:47. Best: 189 batches ago.\r",
      "Epoch: 3. Batch: 184. Min loss: 2.78047. Estimated time left: 0:54:45. Best: 190 batches ago."
     ]
    },
    {
     "name": "stdout",
     "output_type": "stream",
     "text": [
      "\r",
      "Epoch: 3. Batch: 185. Min loss: 2.78047. Estimated time left: 0:52:00. Best: 191 batches ago.\r",
      "Epoch: 3. Batch: 186. Min loss: 2.78047. Estimated time left: 0:51:30. Best: 192 batches ago."
     ]
    },
    {
     "name": "stdout",
     "output_type": "stream",
     "text": [
      "\r",
      "Epoch: 3. Batch: 187. Min loss: 2.78047. Estimated time left: 0:54:17. Best: 193 batches ago.\r",
      "Epoch: 3. Batch: 188. Min loss: 2.78047. Estimated time left: 0:55:03. Best: 194 batches ago."
     ]
    },
    {
     "name": "stdout",
     "output_type": "stream",
     "text": [
      "\r",
      "Epoch: 3. Batch: 189. Min loss: 2.78047. Estimated time left: 0:52:05. Best: 195 batches ago.\r",
      "Epoch: 3. Batch: 190. Min loss: 2.78047. Estimated time left: 0:55:19. Best: 196 batches ago."
     ]
    },
    {
     "name": "stdout",
     "output_type": "stream",
     "text": [
      "\r",
      "Epoch: 3. Batch: 191. Min loss: 2.78047. Estimated time left: 0:51:47. Best: 197 batches ago.\r",
      "Epoch: 3. Batch: 192. Min loss: 2.78047. Estimated time left: 0:51:43. Best: 198 batches ago."
     ]
    },
    {
     "name": "stdout",
     "output_type": "stream",
     "text": [
      "\r",
      "Epoch: 3. Batch: 193. Min loss: 2.78047. Estimated time left: 0:51:56. Best: 199 batches ago.\r",
      "Epoch: 3. Batch: 194. Min loss: 2.78047. Estimated time left: 0:51:58. Best: 200 batches ago."
     ]
    },
    {
     "name": "stdout",
     "output_type": "stream",
     "text": [
      "\r",
      "Epoch: 3. Batch: 195. Min loss: 2.78047. Estimated time left: 0:54:38. Best: 201 batches ago.\r",
      "Epoch: 3. Batch: 196. Min loss: 2.78047. Estimated time left: 0:54:56. Best: 202 batches ago."
     ]
    },
    {
     "name": "stdout",
     "output_type": "stream",
     "text": [
      "\r",
      "Epoch: 3. Batch: 197. Min loss: 2.78047. Estimated time left: 0:48:53. Best: 203 batches ago.\r",
      "Epoch: 3. Batch: 198. Min loss: 2.78047. Estimated time left: 0:53:58. Best: 204 batches ago."
     ]
    },
    {
     "name": "stdout",
     "output_type": "stream",
     "text": [
      "\r",
      "Epoch: 3. Batch: 199. Min loss: 2.78047. Estimated time left: 0:53:06. Best: 205 batches ago.\r",
      "Epoch: 3. Batch: 200. Min loss: 2.78047. Estimated time left: 0:52:17. Best: 206 batches ago."
     ]
    },
    {
     "name": "stdout",
     "output_type": "stream",
     "text": [
      "\r",
      "Epoch: 3. Batch: 201. Min loss: 2.78047. Estimated time left: 0:53:11. Best: 207 batches ago.\r",
      "Epoch: 3. Batch: 202. Min loss: 2.78047. Estimated time left: 0:51:54. Best: 208 batches ago."
     ]
    },
    {
     "name": "stdout",
     "output_type": "stream",
     "text": [
      "\r",
      "Epoch: 3. Batch: 203. Min loss: 2.78047. Estimated time left: 0:55:49. Best: 209 batches ago.\r",
      "Epoch: 3. Batch: 204. Min loss: 2.78047. Estimated time left: 0:53:16. Best: 210 batches ago."
     ]
    },
    {
     "name": "stdout",
     "output_type": "stream",
     "text": [
      "\r",
      "Epoch: 3. Batch: 205. Min loss: 2.78047. Estimated time left: 0:54:45. Best: 211 batches ago.\r",
      "Epoch: 3. Batch: 206. Min loss: 2.78047. Estimated time left: 0:54:24. Best: 212 batches ago."
     ]
    },
    {
     "name": "stdout",
     "output_type": "stream",
     "text": [
      "\r",
      "Epoch: 3. Batch: 207. Min loss: 2.78047. Estimated time left: 0:55:23. Best: 213 batches ago.\r",
      "Epoch: 3. Batch: 208. Min loss: 2.78047. Estimated time left: 0:52:10. Best: 214 batches ago."
     ]
    },
    {
     "name": "stdout",
     "output_type": "stream",
     "text": [
      "\r",
      "Epoch: 3. Batch: 209. Min loss: 2.78047. Estimated time left: 0:52:30. Best: 215 batches ago.\r",
      "Epoch: 3. Batch: 210. Min loss: 2.78047. Estimated time left: 0:52:15. Best: 216 batches ago."
     ]
    },
    {
     "name": "stdout",
     "output_type": "stream",
     "text": [
      "\r",
      "Epoch: 3. Batch: 211. Min loss: 2.78047. Estimated time left: 0:54:38. Best: 217 batches ago.\r",
      "Epoch: 3. Batch: 212. Min loss: 2.78047. Estimated time left: 0:54:07. Best: 218 batches ago."
     ]
    },
    {
     "name": "stdout",
     "output_type": "stream",
     "text": [
      "\r",
      "Epoch: 3. Batch: 213. Min loss: 2.78047. Estimated time left: 0:52:04. Best: 219 batches ago.\r",
      "Epoch: 3. Batch: 214. Min loss: 2.78047. Estimated time left: 0:52:51. Best: 220 batches ago."
     ]
    },
    {
     "name": "stdout",
     "output_type": "stream",
     "text": [
      "\r",
      "Epoch: 3. Batch: 215. Min loss: 2.78047. Estimated time left: 0:55:07. Best: 221 batches ago.\r",
      "Epoch: 3. Batch: 216. Min loss: 2.78047. Estimated time left: 0:52:09. Best: 222 batches ago."
     ]
    },
    {
     "name": "stdout",
     "output_type": "stream",
     "text": [
      "\r",
      "Epoch: 3. Batch: 217. Min loss: 2.78047. Estimated time left: 0:53:56. Best: 223 batches ago.\r",
      "Epoch: 3. Batch: 218. Min loss: 2.78047. Estimated time left: 0:52:38. Best: 224 batches ago."
     ]
    },
    {
     "name": "stdout",
     "output_type": "stream",
     "text": [
      "\r",
      "Epoch: 3. Batch: 219. Min loss: 2.78047. Estimated time left: 0:53:36. Best: 225 batches ago.\r",
      "Epoch: 3. Batch: 220. Min loss: 2.78047. Estimated time left: 0:54:39. Best: 226 batches ago."
     ]
    },
    {
     "name": "stdout",
     "output_type": "stream",
     "text": [
      "\r",
      "Epoch: 3. Batch: 221. Min loss: 2.78047. Estimated time left: 0:54:50. Best: 227 batches ago.\r",
      "Epoch: 3. Batch: 222. Min loss: 2.78047. Estimated time left: 0:52:04. Best: 228 batches ago."
     ]
    },
    {
     "name": "stdout",
     "output_type": "stream",
     "text": [
      "\r",
      "Epoch: 3. Batch: 223. Min loss: 2.78047. Estimated time left: 0:50:53. Best: 229 batches ago.\r",
      "Epoch: 3. Batch: 224. Min loss: 2.78047. Estimated time left: 0:50:47. Best: 230 batches ago."
     ]
    },
    {
     "name": "stdout",
     "output_type": "stream",
     "text": [
      "\r",
      "Epoch: 3. Batch: 225. Min loss: 2.78047. Estimated time left: 0:53:33. Best: 231 batches ago.\r",
      "Epoch: 3. Batch: 226. Min loss: 2.78047. Estimated time left: 0:55:48. Best: 232 batches ago."
     ]
    },
    {
     "name": "stdout",
     "output_type": "stream",
     "text": [
      "\r",
      "Epoch: 3. Batch: 227. Min loss: 2.78047. Estimated time left: 0:56:16. Best: 233 batches ago.\r",
      "Epoch: 3. Batch: 228. Min loss: 2.78047. Estimated time left: 0:54:31. Best: 234 batches ago."
     ]
    },
    {
     "name": "stdout",
     "output_type": "stream",
     "text": [
      "\r",
      "Epoch: 3. Batch: 229. Min loss: 2.78047. Estimated time left: 0:53:05. Best: 235 batches ago.\r",
      "Epoch: 3. Batch: 230. Min loss: 2.78047. Estimated time left: 0:51:43. Best: 236 batches ago."
     ]
    },
    {
     "name": "stdout",
     "output_type": "stream",
     "text": [
      "\r",
      "Epoch: 3. Batch: 231. Min loss: 2.78047. Estimated time left: 0:53:23. Best: 237 batches ago.\r",
      "Epoch: 3. Batch: 232. Min loss: 2.78047. Estimated time left: 0:55:17. Best: 238 batches ago."
     ]
    },
    {
     "name": "stdout",
     "output_type": "stream",
     "text": [
      "\r",
      "Epoch: 3. Batch: 233. Min loss: 2.78047. Estimated time left: 0:51:16. Best: 239 batches ago.\r",
      "Epoch: 3. Batch: 234. Min loss: 2.78047. Estimated time left: 0:52:52. Best: 240 batches ago."
     ]
    },
    {
     "name": "stdout",
     "output_type": "stream",
     "text": [
      "\r",
      "Epoch: 3. Batch: 235. Min loss: 2.78047. Estimated time left: 0:48:48. Best: 241 batches ago.\r",
      "Epoch: 3. Batch: 236. Min loss: 2.78047. Estimated time left: 0:50:43. Best: 242 batches ago."
     ]
    },
    {
     "name": "stdout",
     "output_type": "stream",
     "text": [
      "\r",
      "Epoch: 3. Batch: 237. Min loss: 2.78047. Estimated time left: 0:54:42. Best: 243 batches ago.\r",
      "Epoch: 3. Batch: 238. Min loss: 2.78047. Estimated time left: 0:51:30. Best: 244 batches ago."
     ]
    },
    {
     "name": "stdout",
     "output_type": "stream",
     "text": [
      "\r",
      "Epoch: 3. Batch: 239. Min loss: 2.78047. Estimated time left: 0:53:42. Best: 245 batches ago.\r",
      "Epoch: 3. Batch: 240. Min loss: 2.78047. Estimated time left: 0:55:35. Best: 246 batches ago."
     ]
    },
    {
     "name": "stdout",
     "output_type": "stream",
     "text": [
      "\r",
      "Epoch: 3. Batch: 241. Min loss: 2.78047. Estimated time left: 0:55:24. Best: 247 batches ago.\r",
      "Epoch: 3. Batch: 242. Min loss: 2.78047. Estimated time left: 0:54:12. Best: 248 batches ago."
     ]
    },
    {
     "name": "stdout",
     "output_type": "stream",
     "text": [
      "\r",
      "Epoch: 3. Batch: 243. Min loss: 2.78047. Estimated time left: 0:50:47. Best: 249 batches ago.\r",
      "Epoch: 3. Batch: 244. Min loss: 2.78047. Estimated time left: 0:48:30. Best: 250 batches ago."
     ]
    },
    {
     "name": "stdout",
     "output_type": "stream",
     "text": [
      "\r",
      "Epoch: 3. Batch: 245. Min loss: 2.78047. Estimated time left: 0:55:39. Best: 251 batches ago.\r",
      "Epoch: 3. Batch: 246. Min loss: 2.78047. Estimated time left: 0:54:44. Best: 252 batches ago."
     ]
    },
    {
     "name": "stdout",
     "output_type": "stream",
     "text": [
      "\r",
      "Epoch: 3. Batch: 247. Min loss: 2.78047. Estimated time left: 0:53:29. Best: 253 batches ago.\r",
      "Epoch: 3. Batch: 248. Min loss: 2.78047. Estimated time left: 0:53:00. Best: 254 batches ago."
     ]
    },
    {
     "name": "stdout",
     "output_type": "stream",
     "text": [
      "\r",
      "Epoch: 3. Batch: 249. Min loss: 2.78047. Estimated time left: 0:53:59. Best: 255 batches ago.\r",
      "Epoch: 3. Batch: 250. Min loss: 2.78047. Estimated time left: 0:51:34. Best: 256 batches ago."
     ]
    },
    {
     "name": "stdout",
     "output_type": "stream",
     "text": [
      "\r",
      "Epoch: 3. Batch: 251. Min loss: 2.78047. Estimated time left: 0:49:59. Best: 257 batches ago.\r",
      "Epoch: 3. Batch: 252. Min loss: 2.78047. Estimated time left: 0:53:07. Best: 258 batches ago."
     ]
    },
    {
     "name": "stdout",
     "output_type": "stream",
     "text": [
      "\r",
      "Epoch: 3. Batch: 253. Min loss: 2.78047. Estimated time left: 0:54:36. Best: 259 batches ago.\r",
      "Epoch: 3. Batch: 254. Min loss: 2.78047. Estimated time left: 0:54:29. Best: 260 batches ago."
     ]
    },
    {
     "name": "stdout",
     "output_type": "stream",
     "text": [
      "\r",
      "Epoch: 3. Batch: 255. Min loss: 2.78047. Estimated time left: 0:51:01. Best: 261 batches ago.\r",
      "Epoch: 3. Batch: 256. Min loss: 2.78047. Estimated time left: 0:50:33. Best: 262 batches ago."
     ]
    },
    {
     "name": "stdout",
     "output_type": "stream",
     "text": [
      "\r",
      "Epoch: 3. Batch: 257. Min loss: 2.78047. Estimated time left: 0:54:23. Best: 263 batches ago.\r",
      "Epoch: 3. Batch: 258. Min loss: 2.78047. Estimated time left: 0:53:56. Best: 264 batches ago."
     ]
    },
    {
     "name": "stdout",
     "output_type": "stream",
     "text": [
      "\r",
      "Epoch: 3. Batch: 259. Min loss: 2.78047. Estimated time left: 0:56:08. Best: 265 batches ago.\r",
      "Epoch: 3. Batch: 260. Min loss: 2.78047. Estimated time left: 0:55:11. Best: 266 batches ago."
     ]
    },
    {
     "name": "stdout",
     "output_type": "stream",
     "text": [
      "\r",
      "Epoch: 3. Batch: 261. Min loss: 2.78047. Estimated time left: 0:53:12. Best: 267 batches ago.\r",
      "Epoch: 3. Batch: 262. Min loss: 2.78047. Estimated time left: 0:53:48. Best: 268 batches ago."
     ]
    },
    {
     "name": "stdout",
     "output_type": "stream",
     "text": [
      "\r",
      "Epoch: 3. Batch: 263. Min loss: 2.78047. Estimated time left: 0:53:37. Best: 269 batches ago.\r",
      "Epoch: 3. Batch: 264. Min loss: 2.78047. Estimated time left: 0:54:10. Best: 270 batches ago."
     ]
    },
    {
     "name": "stdout",
     "output_type": "stream",
     "text": [
      "\r",
      "Epoch: 3. Batch: 265. Min loss: 2.78047. Estimated time left: 0:52:48. Best: 271 batches ago.\r",
      "Epoch: 3. Batch: 266. Min loss: 2.78047. Estimated time left: 0:51:29. Best: 272 batches ago."
     ]
    },
    {
     "name": "stdout",
     "output_type": "stream",
     "text": [
      "\r",
      "Epoch: 3. Batch: 267. Min loss: 2.78047. Estimated time left: 0:52:37. Best: 273 batches ago.\r",
      "Epoch: 3. Batch: 268. Min loss: 2.78047. Estimated time left: 0:54:06. Best: 274 batches ago."
     ]
    },
    {
     "name": "stdout",
     "output_type": "stream",
     "text": [
      "\r",
      "Epoch: 3. Batch: 269. Min loss: 2.78047. Estimated time left: 0:48:08. Best: 275 batches ago.\r",
      "Epoch: 3. Batch: 270. Min loss: 2.78047. Estimated time left: 0:49:55. Best: 276 batches ago."
     ]
    },
    {
     "name": "stdout",
     "output_type": "stream",
     "text": [
      "\r",
      "Epoch: 3. Batch: 271. Min loss: 2.78047. Estimated time left: 0:54:24. Best: 277 batches ago.\r",
      "Epoch: 3. Batch: 272. Min loss: 2.78047. Estimated time left: 0:57:18. Best: 278 batches ago."
     ]
    },
    {
     "name": "stdout",
     "output_type": "stream",
     "text": [
      "\r",
      "Epoch: 3. Batch: 273. Min loss: 2.78047. Estimated time left: 0:55:15. Best: 279 batches ago.\r",
      "Epoch: 3. Batch: 274. Min loss: 2.78047. Estimated time left: 0:50:40. Best: 280 batches ago."
     ]
    },
    {
     "name": "stdout",
     "output_type": "stream",
     "text": [
      "\r",
      "Epoch: 3. Batch: 275. Min loss: 2.78047. Estimated time left: 0:54:11. Best: 281 batches ago.\r",
      "Epoch: 3. Batch: 276. Min loss: 2.78047. Estimated time left: 0:52:54. Best: 282 batches ago."
     ]
    },
    {
     "name": "stdout",
     "output_type": "stream",
     "text": [
      "\r",
      "Epoch: 3. Batch: 277. Min loss: 2.78047. Estimated time left: 0:53:20. Best: 283 batches ago.\r",
      "Epoch: 3. Batch: 278. Min loss: 2.78047. Estimated time left: 0:55:47. Best: 284 batches ago."
     ]
    },
    {
     "name": "stdout",
     "output_type": "stream",
     "text": [
      "\r",
      "Epoch: 3. Batch: 279. Min loss: 2.78047. Estimated time left: 0:52:15. Best: 285 batches ago.\r",
      "Epoch: 3. Batch: 280. Min loss: 2.78047. Estimated time left: 0:55:39. Best: 286 batches ago."
     ]
    },
    {
     "name": "stdout",
     "output_type": "stream",
     "text": [
      "\r",
      "Epoch: 3. Batch: 281. Min loss: 2.78047. Estimated time left: 0:52:37. Best: 287 batches ago.\r",
      "Epoch: 3. Batch: 282. Min loss: 2.78047. Estimated time left: 0:52:08. Best: 288 batches ago."
     ]
    },
    {
     "name": "stdout",
     "output_type": "stream",
     "text": [
      "\r",
      "Epoch: 3. Batch: 283. Min loss: 2.78047. Estimated time left: 0:54:43. Best: 289 batches ago.\r",
      "Epoch: 3. Batch: 284. Min loss: 2.78047. Estimated time left: 0:53:42. Best: 290 batches ago."
     ]
    },
    {
     "name": "stdout",
     "output_type": "stream",
     "text": [
      "\r",
      "Epoch: 3. Batch: 285. Min loss: 2.78047. Estimated time left: 0:54:32. Best: 291 batches ago.\r",
      "Epoch: 3. Batch: 286. Min loss: 2.78047. Estimated time left: 0:53:47. Best: 292 batches ago."
     ]
    },
    {
     "name": "stdout",
     "output_type": "stream",
     "text": [
      "\r",
      "Epoch: 3. Batch: 287. Min loss: 2.78047. Estimated time left: 0:51:58. Best: 293 batches ago.\r",
      "Epoch: 3. Batch: 288. Min loss: 2.78047. Estimated time left: 0:50:51. Best: 294 batches ago."
     ]
    },
    {
     "name": "stdout",
     "output_type": "stream",
     "text": [
      "\r",
      "Epoch: 3. Batch: 289. Min loss: 2.78047. Estimated time left: 0:53:17. Best: 295 batches ago.\r",
      "Epoch: 3. Batch: 290. Min loss: 2.78047. Estimated time left: 0:52:25. Best: 296 batches ago."
     ]
    },
    {
     "name": "stdout",
     "output_type": "stream",
     "text": [
      "\r",
      "Epoch: 3. Batch: 291. Min loss: 2.78047. Estimated time left: 0:58:53. Best: 297 batches ago.\r",
      "Epoch: 3. Batch: 292. Min loss: 2.78047. Estimated time left: 0:54:31. Best: 298 batches ago."
     ]
    },
    {
     "name": "stdout",
     "output_type": "stream",
     "text": [
      "\r",
      "Epoch: 3. Batch: 293. Min loss: 2.78047. Estimated time left: 0:52:35. Best: 299 batches ago.\r",
      "Epoch: 3. Batch: 294. Min loss: 2.78047. Estimated time left: 0:52:09. Best: 300 batches ago."
     ]
    },
    {
     "name": "stdout",
     "output_type": "stream",
     "text": [
      "\r",
      "Epoch: 3. Batch: 295. Min loss: 2.78047. Estimated time left: 0:56:45. Best: 301 batches ago.\r",
      "Epoch: 3. Batch: 296. Min loss: 2.78047. Estimated time left: 0:51:19. Best: 302 batches ago."
     ]
    },
    {
     "name": "stdout",
     "output_type": "stream",
     "text": [
      "\r",
      "Epoch: 3. Batch: 297. Min loss: 2.78047. Estimated time left: 0:56:27. Best: 303 batches ago.\r",
      "Epoch: 3. Batch: 298. Min loss: 2.78047. Estimated time left: 0:52:40. Best: 304 batches ago."
     ]
    },
    {
     "name": "stdout",
     "output_type": "stream",
     "text": [
      "\r",
      "Epoch: 3. Batch: 299. Min loss: 2.78047. Estimated time left: 0:52:00. Best: 305 batches ago.\r",
      "Epoch: 3. Batch: 300. Min loss: 2.78047. Estimated time left: 0:50:41. Best: 306 batches ago."
     ]
    },
    {
     "name": "stdout",
     "output_type": "stream",
     "text": [
      "\r",
      "Epoch: 3. Batch: 301. Min loss: 2.78047. Estimated time left: 0:51:35. Best: 307 batches ago.\r",
      "Epoch: 3. Batch: 302. Min loss: 2.78047. Estimated time left: 0:52:41. Best: 308 batches ago."
     ]
    },
    {
     "name": "stdout",
     "output_type": "stream",
     "text": [
      "\r",
      "Epoch: 3. Batch: 303. Min loss: 2.78047. Estimated time left: 0:53:34. Best: 309 batches ago.\r",
      "Epoch: 3. Batch: 304. Min loss: 2.78047. Estimated time left: 0:54:21. Best: 310 batches ago."
     ]
    },
    {
     "name": "stdout",
     "output_type": "stream",
     "text": [
      "\r",
      "Epoch: 3. Batch: 305. Min loss: 2.78047. Estimated time left: 0:50:42. Best: 311 batches ago.\r",
      "Epoch: 3. Batch: 306. Min loss: 2.78047. Estimated time left: 0:55:32. Best: 312 batches ago."
     ]
    },
    {
     "name": "stdout",
     "output_type": "stream",
     "text": [
      "\r",
      "Epoch: 3. Batch: 307. Min loss: 2.78047. Estimated time left: 0:52:55. Best: 313 batches ago.\r",
      "Epoch: 3. Batch: 308. Min loss: 2.78047. Estimated time left: 0:53:50. Best: 314 batches ago."
     ]
    },
    {
     "name": "stdout",
     "output_type": "stream",
     "text": [
      "\r",
      "Epoch: 3. Batch: 309. Min loss: 2.78047. Estimated time left: 0:51:10. Best: 315 batches ago.\r",
      "Epoch: 3. Batch: 310. Min loss: 2.78047. Estimated time left: 0:54:27. Best: 316 batches ago."
     ]
    },
    {
     "name": "stdout",
     "output_type": "stream",
     "text": [
      "\r",
      "Epoch: 3. Batch: 311. Min loss: 2.78047. Estimated time left: 0:55:11. Best: 317 batches ago.\r",
      "Epoch: 3. Batch: 312. Min loss: 2.78047. Estimated time left: 0:53:14. Best: 318 batches ago."
     ]
    },
    {
     "name": "stdout",
     "output_type": "stream",
     "text": [
      "\r",
      "Epoch: 3. Batch: 313. Min loss: 2.78047. Estimated time left: 0:53:16. Best: 319 batches ago.\r",
      "Epoch: 3. Batch: 314. Min loss: 2.78047. Estimated time left: 0:55:10. Best: 320 batches ago."
     ]
    },
    {
     "name": "stdout",
     "output_type": "stream",
     "text": [
      "\r",
      "Epoch: 3. Batch: 315. Min loss: 2.78047. Estimated time left: 0:53:32. Best: 321 batches ago.\r",
      "Epoch: 3. Batch: 316. Min loss: 2.78047. Estimated time left: 0:52:56. Best: 322 batches ago."
     ]
    },
    {
     "name": "stdout",
     "output_type": "stream",
     "text": [
      "\r",
      "Epoch: 3. Batch: 317. Min loss: 2.78047. Estimated time left: 0:53:20. Best: 323 batches ago.\r",
      "Epoch: 3. Batch: 318. Min loss: 2.78047. Estimated time left: 0:53:45. Best: 324 batches ago."
     ]
    },
    {
     "name": "stdout",
     "output_type": "stream",
     "text": [
      "\r",
      "Epoch: 3. Batch: 319. Min loss: 2.78047. Estimated time left: 0:52:51. Best: 325 batches ago.\r",
      "Epoch: 3. Batch: 320. Min loss: 2.78047. Estimated time left: 0:53:00. Best: 326 batches ago."
     ]
    },
    {
     "name": "stdout",
     "output_type": "stream",
     "text": [
      "\r",
      "Epoch: 3. Batch: 321. Min loss: 2.78047. Estimated time left: 0:47:02. Best: 327 batches ago.\r",
      "Epoch: 3. Batch: 322. Min loss: 2.78047. Estimated time left: 0:52:34. Best: 328 batches ago."
     ]
    },
    {
     "name": "stdout",
     "output_type": "stream",
     "text": [
      "\r",
      "Epoch: 3. Batch: 323. Min loss: 2.78047. Estimated time left: 0:56:58. Best: 329 batches ago.\r",
      "Epoch: 3. Batch: 324. Min loss: 2.78047. Estimated time left: 0:52:38. Best: 330 batches ago."
     ]
    },
    {
     "name": "stdout",
     "output_type": "stream",
     "text": [
      "\r",
      "Epoch: 3. Batch: 325. Min loss: 2.78047. Estimated time left: 0:54:05. Best: 331 batches ago.\r",
      "Epoch: 3. Batch: 326. Min loss: 2.78047. Estimated time left: 0:53:50. Best: 332 batches ago."
     ]
    },
    {
     "name": "stdout",
     "output_type": "stream",
     "text": [
      "\r",
      "Epoch: 3. Batch: 327. Min loss: 2.78047. Estimated time left: 0:51:54. Best: 333 batches ago.\r",
      "Epoch: 3. Batch: 328. Min loss: 2.78047. Estimated time left: 0:49:59. Best: 334 batches ago."
     ]
    },
    {
     "name": "stdout",
     "output_type": "stream",
     "text": [
      "\r",
      "Epoch: 3. Batch: 329. Min loss: 2.78047. Estimated time left: 0:52:41. Best: 335 batches ago.\r",
      "Epoch: 3. Batch: 330. Min loss: 2.78047. Estimated time left: 0:51:44. Best: 336 batches ago."
     ]
    },
    {
     "name": "stdout",
     "output_type": "stream",
     "text": [
      "\r",
      "Epoch: 3. Batch: 331. Min loss: 2.78047. Estimated time left: 0:52:42. Best: 337 batches ago.\r",
      "Epoch: 3. Batch: 332. Min loss: 2.78047. Estimated time left: 0:51:36. Best: 338 batches ago."
     ]
    },
    {
     "name": "stdout",
     "output_type": "stream",
     "text": [
      "\r",
      "Epoch: 3. Batch: 333. Min loss: 2.78047. Estimated time left: 0:51:20. Best: 339 batches ago.\r",
      "Epoch: 3. Batch: 334. Min loss: 2.78047. Estimated time left: 0:50:29. Best: 340 batches ago."
     ]
    },
    {
     "name": "stdout",
     "output_type": "stream",
     "text": [
      "\r",
      "Epoch: 3. Batch: 335. Min loss: 2.78047. Estimated time left: 0:49:42. Best: 341 batches ago.\r",
      "Epoch: 3. Batch: 336. Min loss: 2.78047. Estimated time left: 0:56:10. Best: 342 batches ago."
     ]
    },
    {
     "name": "stdout",
     "output_type": "stream",
     "text": [
      "\r",
      "Epoch: 3. Batch: 337. Min loss: 2.78047. Estimated time left: 0:56:51. Best: 343 batches ago.\r",
      "Epoch: 3. Batch: 338. Min loss: 2.78047. Estimated time left: 0:51:39. Best: 344 batches ago."
     ]
    },
    {
     "name": "stdout",
     "output_type": "stream",
     "text": [
      "\r",
      "Epoch: 3. Batch: 339. Min loss: 2.78047. Estimated time left: 0:52:52. Best: 345 batches ago.\r",
      "Epoch: 3. Batch: 340. Min loss: 2.78047. Estimated time left: 0:53:46. Best: 346 batches ago."
     ]
    },
    {
     "name": "stdout",
     "output_type": "stream",
     "text": [
      "\r",
      "Epoch: 3. Batch: 341. Min loss: 2.78047. Estimated time left: 0:50:52. Best: 347 batches ago.\r",
      "Epoch: 3. Batch: 342. Min loss: 2.78047. Estimated time left: 0:54:39. Best: 348 batches ago."
     ]
    },
    {
     "name": "stdout",
     "output_type": "stream",
     "text": [
      "\r",
      "Epoch: 3. Batch: 343. Min loss: 2.78047. Estimated time left: 0:49:22. Best: 349 batches ago.\r",
      "Epoch: 3. Batch: 344. Min loss: 2.78047. Estimated time left: 0:52:07. Best: 350 batches ago."
     ]
    },
    {
     "name": "stdout",
     "output_type": "stream",
     "text": [
      "\r",
      "Epoch: 3. Batch: 345. Min loss: 2.78047. Estimated time left: 0:53:58. Best: 351 batches ago.\r",
      "Epoch: 3. Batch: 346. Min loss: 2.78047. Estimated time left: 0:50:01. Best: 352 batches ago."
     ]
    },
    {
     "name": "stdout",
     "output_type": "stream",
     "text": [
      "\r",
      "Epoch: 3. Batch: 347. Min loss: 2.78047. Estimated time left: 0:52:19. Best: 353 batches ago.\r",
      "Epoch: 3. Batch: 348. Min loss: 2.78047. Estimated time left: 0:54:20. Best: 354 batches ago."
     ]
    },
    {
     "name": "stdout",
     "output_type": "stream",
     "text": [
      "\r",
      "Epoch: 3. Batch: 349. Min loss: 2.78047. Estimated time left: 0:47:40. Best: 355 batches ago.\r",
      "Epoch: 3. Batch: 350. Min loss: 2.78047. Estimated time left: 0:48:43. Best: 356 batches ago."
     ]
    },
    {
     "name": "stdout",
     "output_type": "stream",
     "text": [
      "\r",
      "Epoch: 3. Batch: 351. Min loss: 2.78047. Estimated time left: 0:49:34. Best: 357 batches ago.\r",
      "Epoch: 3. Batch: 352. Min loss: 2.78047. Estimated time left: 0:55:07. Best: 358 batches ago."
     ]
    },
    {
     "name": "stdout",
     "output_type": "stream",
     "text": [
      "\r",
      "Epoch: 3. Batch: 353. Min loss: 2.78047. Estimated time left: 0:55:17. Best: 359 batches ago.\r",
      "Epoch: 3. Batch: 354. Min loss: 2.78047. Estimated time left: 0:51:45. Best: 360 batches ago."
     ]
    },
    {
     "name": "stdout",
     "output_type": "stream",
     "text": [
      "\r",
      "Epoch: 3. Batch: 355. Min loss: 2.78047. Estimated time left: 0:52:32. Best: 361 batches ago.\r",
      "Epoch: 3. Batch: 356. Min loss: 2.78047. Estimated time left: 0:55:56. Best: 362 batches ago."
     ]
    },
    {
     "name": "stdout",
     "output_type": "stream",
     "text": [
      "\r",
      "Epoch: 3. Batch: 357. Min loss: 2.78047. Estimated time left: 0:52:29. Best: 363 batches ago.\r",
      "Epoch: 3. Batch: 358. Min loss: 2.78047. Estimated time left: 0:49:38. Best: 364 batches ago."
     ]
    },
    {
     "name": "stdout",
     "output_type": "stream",
     "text": [
      "\r",
      "Epoch: 3. Batch: 359. Min loss: 2.78047. Estimated time left: 0:53:42. Best: 365 batches ago.\r",
      "Epoch: 3. Batch: 360. Min loss: 2.78047. Estimated time left: 0:54:04. Best: 366 batches ago."
     ]
    },
    {
     "name": "stdout",
     "output_type": "stream",
     "text": [
      "\r",
      "Epoch: 3. Batch: 361. Min loss: 2.78047. Estimated time left: 0:51:04. Best: 367 batches ago.\r",
      "Epoch: 3. Batch: 362. Min loss: 2.78047. Estimated time left: 0:54:05. Best: 368 batches ago."
     ]
    },
    {
     "name": "stdout",
     "output_type": "stream",
     "text": [
      "\r",
      "Epoch: 3. Batch: 363. Min loss: 2.78047. Estimated time left: 0:54:55. Best: 369 batches ago.\r",
      "Epoch: 3. Batch: 364. Min loss: 2.78047. Estimated time left: 0:54:37. Best: 370 batches ago."
     ]
    },
    {
     "name": "stdout",
     "output_type": "stream",
     "text": [
      "\r",
      "Epoch: 3. Batch: 365. Min loss: 2.78047. Estimated time left: 0:48:27. Best: 371 batches ago.\r",
      "Epoch: 3. Batch: 366. Min loss: 2.78047. Estimated time left: 0:54:07. Best: 372 batches ago."
     ]
    },
    {
     "name": "stdout",
     "output_type": "stream",
     "text": [
      "\r",
      "Epoch: 3. Batch: 367. Min loss: 2.78047. Estimated time left: 0:52:37. Best: 373 batches ago.\r",
      "Epoch: 3. Batch: 368. Min loss: 2.78047. Estimated time left: 0:50:46. Best: 374 batches ago."
     ]
    },
    {
     "name": "stdout",
     "output_type": "stream",
     "text": [
      "\r",
      "Epoch: 3. Batch: 369. Min loss: 2.78047. Estimated time left: 0:51:40. Best: 375 batches ago.\r",
      "Epoch: 3. Batch: 370. Min loss: 2.78047. Estimated time left: 0:51:07. Best: 376 batches ago."
     ]
    },
    {
     "name": "stdout",
     "output_type": "stream",
     "text": [
      "\r",
      "Epoch: 3. Batch: 371. Min loss: 2.78047. Estimated time left: 0:53:53. Best: 377 batches ago.\r",
      "Epoch: 3. Batch: 372. Min loss: 2.78047. Estimated time left: 0:52:35. Best: 378 batches ago."
     ]
    },
    {
     "name": "stdout",
     "output_type": "stream",
     "text": [
      "\r",
      "Epoch: 3. Batch: 373. Min loss: 2.78047. Estimated time left: 0:51:52. Best: 379 batches ago.\r",
      "Epoch: 3. Batch: 374. Min loss: 2.78047. Estimated time left: 0:55:15. Best: 380 batches ago."
     ]
    },
    {
     "name": "stdout",
     "output_type": "stream",
     "text": [
      "\r",
      "Epoch: 3. Batch: 375. Min loss: 2.78047. Estimated time left: 0:57:41. Best: 381 batches ago.\r",
      "Epoch: 3. Batch: 376. Min loss: 2.78047. Estimated time left: 0:52:08. Best: 382 batches ago."
     ]
    },
    {
     "name": "stdout",
     "output_type": "stream",
     "text": [
      "\r",
      "Epoch: 3. Batch: 377. Min loss: 2.78047. Estimated time left: 0:53:13. Best: 383 batches ago.\r",
      "Epoch: 3. Batch: 378. Min loss: 2.78047. Estimated time left: 0:54:55. Best: 384 batches ago."
     ]
    },
    {
     "name": "stdout",
     "output_type": "stream",
     "text": [
      "\r",
      "Epoch: 3. Batch: 379. Min loss: 2.78047. Estimated time left: 0:51:38. Best: 385 batches ago.\r",
      "Epoch: 3. Batch: 380. Min loss: 2.78047. Estimated time left: 0:52:39. Best: 386 batches ago."
     ]
    },
    {
     "name": "stdout",
     "output_type": "stream",
     "text": [
      "\r",
      "Epoch: 3. Batch: 381. Min loss: 2.78047. Estimated time left: 0:52:09. Best: 387 batches ago.\r",
      "Epoch: 3. Batch: 382. Min loss: 2.78047. Estimated time left: 0:51:53. Best: 388 batches ago."
     ]
    },
    {
     "name": "stdout",
     "output_type": "stream",
     "text": [
      "\r",
      "Epoch: 3. Batch: 383. Min loss: 2.78047. Estimated time left: 0:54:24. Best: 389 batches ago.\r",
      "Epoch: 3. Batch: 384. Min loss: 2.78047. Estimated time left: 0:55:13. Best: 390 batches ago."
     ]
    },
    {
     "name": "stdout",
     "output_type": "stream",
     "text": [
      "\r",
      "Epoch: 3. Batch: 385. Min loss: 2.78047. Estimated time left: 0:53:36. Best: 391 batches ago.\r",
      "Epoch: 3. Batch: 386. Min loss: 2.78047. Estimated time left: 0:55:16. Best: 392 batches ago."
     ]
    },
    {
     "name": "stdout",
     "output_type": "stream",
     "text": [
      "\r",
      "Epoch: 3. Batch: 387. Min loss: 2.78047. Estimated time left: 0:53:38. Best: 393 batches ago.\r",
      "Epoch: 3. Batch: 388. Min loss: 2.78047. Estimated time left: 0:49:31. Best: 394 batches ago."
     ]
    },
    {
     "name": "stdout",
     "output_type": "stream",
     "text": [
      "\r",
      "Epoch: 3. Batch: 389. Min loss: 2.78047. Estimated time left: 0:50:07. Best: 395 batches ago.\r",
      "Epoch: 3. Batch: 390. Min loss: 2.78047. Estimated time left: 0:54:59. Best: 396 batches ago."
     ]
    },
    {
     "name": "stdout",
     "output_type": "stream",
     "text": [
      "\r",
      "Epoch: 3. Batch: 391. Min loss: 2.78047. Estimated time left: 0:51:14. Best: 397 batches ago.\r",
      "Epoch: 3. Batch: 392. Min loss: 2.78047. Estimated time left: 0:54:51. Best: 398 batches ago."
     ]
    },
    {
     "name": "stdout",
     "output_type": "stream",
     "text": [
      "\r",
      "Epoch: 3. Batch: 393. Min loss: 2.78047. Estimated time left: 0:52:30. Best: 399 batches ago.\r",
      "Epoch: 3. Batch: 394. Min loss: 2.78047. Estimated time left: 0:51:17. Best: 400 batches ago."
     ]
    },
    {
     "name": "stdout",
     "output_type": "stream",
     "text": [
      "\r",
      "Epoch: 3. Batch: 395. Min loss: 2.78047. Estimated time left: 0:50:34. Best: 401 batches ago.\r",
      "Epoch: 3. Batch: 396. Min loss: 2.78047. Estimated time left: 0:50:35. Best: 402 batches ago."
     ]
    },
    {
     "name": "stdout",
     "output_type": "stream",
     "text": [
      "\r",
      "Epoch: 3. Batch: 397. Min loss: 2.78047. Estimated time left: 0:54:45. Best: 403 batches ago.\r",
      "Epoch: 3. Batch: 398. Min loss: 2.78047. Estimated time left: 0:54:17. Best: 404 batches ago."
     ]
    },
    {
     "name": "stdout",
     "output_type": "stream",
     "text": [
      "\r",
      "Epoch: 3. Batch: 399. Min loss: 2.78047. Estimated time left: 0:50:29. Best: 405 batches ago.\r",
      "Epoch: 3. Batch: 400. Min loss: 2.78047. Estimated time left: 0:52:13. Best: 406 batches ago."
     ]
    },
    {
     "name": "stdout",
     "output_type": "stream",
     "text": [
      "\r",
      "Epoch: 3. Batch: 401. Min loss: 2.78047. Estimated time left: 0:53:32. Best: 407 batches ago.\r",
      "Epoch: 3. Batch: 402. Min loss: 2.78047. Estimated time left: 0:56:41. Best: 408 batches ago."
     ]
    },
    {
     "name": "stdout",
     "output_type": "stream",
     "text": [
      "\r",
      "Epoch: 3. Batch: 403. Min loss: 2.78047. Estimated time left: 0:52:53. Best: 409 batches ago.\r",
      "Epoch: 3. Batch: 404. Min loss: 2.78047. Estimated time left: 0:55:02. Best: 410 batches ago."
     ]
    },
    {
     "name": "stdout",
     "output_type": "stream",
     "text": [
      "\r",
      "Epoch: 3. Batch: 405. Min loss: 2.78047. Estimated time left: 0:54:17. Best: 411 batches ago.\r",
      "Epoch: 3. Batch: 406. Min loss: 2.78047. Estimated time left: 0:51:23. Best: 412 batches ago."
     ]
    },
    {
     "name": "stdout",
     "output_type": "stream",
     "text": [
      "\r",
      "Epoch: 3. Batch: 407. Min loss: 2.78047. Estimated time left: 0:53:41. Best: 413 batches ago.\r",
      "Epoch: 3. Batch: 408. Min loss: 2.78047. Estimated time left: 0:51:10. Best: 414 batches ago."
     ]
    },
    {
     "name": "stdout",
     "output_type": "stream",
     "text": [
      "\r",
      "Epoch: 3. Batch: 409. Min loss: 2.78047. Estimated time left: 0:54:00. Best: 415 batches ago.\r",
      "Epoch: 3. Batch: 410. Min loss: 2.78047. Estimated time left: 0:51:33. Best: 416 batches ago."
     ]
    },
    {
     "name": "stdout",
     "output_type": "stream",
     "text": [
      "\r",
      "Epoch: 3. Batch: 411. Min loss: 2.78047. Estimated time left: 0:54:57. Best: 417 batches ago.\r",
      "Epoch: 3. Batch: 412. Min loss: 2.78047. Estimated time left: 0:55:57. Best: 418 batches ago."
     ]
    },
    {
     "name": "stdout",
     "output_type": "stream",
     "text": [
      "\r",
      "Epoch: 3. Batch: 413. Min loss: 2.78047. Estimated time left: 0:56:13. Best: 419 batches ago.\r",
      "Epoch: 3. Batch: 414. Min loss: 2.78047. Estimated time left: 0:50:55. Best: 420 batches ago."
     ]
    },
    {
     "name": "stdout",
     "output_type": "stream",
     "text": [
      "\r",
      "Epoch: 3. Batch: 415. Min loss: 2.78047. Estimated time left: 0:54:08. Best: 421 batches ago.\r",
      "Epoch: 3. Batch: 416. Min loss: 2.78047. Estimated time left: 0:53:04. Best: 422 batches ago."
     ]
    },
    {
     "name": "stdout",
     "output_type": "stream",
     "text": [
      "\r",
      "Epoch: 3. Batch: 417. Min loss: 2.78047. Estimated time left: 0:55:43. Best: 423 batches ago.\r",
      "Epoch: 3. Batch: 418. Min loss: 2.78047. Estimated time left: 0:53:11. Best: 424 batches ago."
     ]
    },
    {
     "name": "stdout",
     "output_type": "stream",
     "text": [
      "\r",
      "Epoch: 3. Batch: 419. Min loss: 2.78047. Estimated time left: 0:55:54. Best: 425 batches ago.\r",
      "Epoch: 3. Batch: 420. Min loss: 2.78047. Estimated time left: 0:53:15. Best: 426 batches ago."
     ]
    },
    {
     "name": "stdout",
     "output_type": "stream",
     "text": [
      "\r",
      "Epoch: 3. Batch: 421. Min loss: 2.78047. Estimated time left: 0:51:07. Best: 427 batches ago.\r",
      "Epoch: 3. Batch: 422. Min loss: 2.78047. Estimated time left: 0:52:57. Best: 428 batches ago."
     ]
    },
    {
     "name": "stdout",
     "output_type": "stream",
     "text": [
      "\r",
      "Epoch: 3. Batch: 423. Min loss: 2.78047. Estimated time left: 0:53:58. Best: 429 batches ago.\r",
      "Epoch: 3. Batch: 424. Min loss: 2.78047. Estimated time left: 0:51:15. Best: 430 batches ago."
     ]
    },
    {
     "name": "stdout",
     "output_type": "stream",
     "text": [
      "\r",
      "Epoch: 3. Batch: 425. Min loss: 2.78047. Estimated time left: 0:52:15. Best: 431 batches ago.\r",
      "Epoch: 3. Batch: 426. Min loss: 2.78047. Estimated time left: 0:51:28. Best: 432 batches ago."
     ]
    },
    {
     "name": "stdout",
     "output_type": "stream",
     "text": [
      "\r",
      "Epoch: 3. Batch: 427. Min loss: 2.78047. Estimated time left: 0:51:40. Best: 433 batches ago.\r",
      "Epoch: 3. Batch: 428. Min loss: 2.78047. Estimated time left: 0:54:57. Best: 434 batches ago."
     ]
    },
    {
     "name": "stdout",
     "output_type": "stream",
     "text": [
      "\r",
      "Epoch: 3. Batch: 429. Min loss: 2.78047. Estimated time left: 0:53:20. Best: 435 batches ago.\r",
      "Epoch: 3. Batch: 430. Min loss: 2.78047. Estimated time left: 0:52:23. Best: 436 batches ago."
     ]
    },
    {
     "name": "stdout",
     "output_type": "stream",
     "text": [
      "\r",
      "Epoch: 3. Batch: 431. Min loss: 2.78047. Estimated time left: 0:52:10. Best: 437 batches ago.\r",
      "Epoch: 3. Batch: 432. Min loss: 2.78047. Estimated time left: 0:50:00. Best: 438 batches ago."
     ]
    },
    {
     "name": "stdout",
     "output_type": "stream",
     "text": [
      "\r",
      "Epoch: 3. Batch: 433. Min loss: 2.78047. Estimated time left: 0:51:39. Best: 439 batches ago.\r",
      "Epoch: 3. Batch: 434. Min loss: 2.78047. Estimated time left: 0:49:59. Best: 440 batches ago."
     ]
    },
    {
     "name": "stdout",
     "output_type": "stream",
     "text": [
      "\r",
      "Epoch: 3. Batch: 435. Min loss: 2.78047. Estimated time left: 0:53:06. Best: 441 batches ago.\r",
      "Epoch: 3. Batch: 436. Min loss: 2.78047. Estimated time left: 0:52:09. Best: 442 batches ago."
     ]
    },
    {
     "name": "stdout",
     "output_type": "stream",
     "text": [
      "\r",
      "Epoch: 3. Batch: 437. Min loss: 2.78047. Estimated time left: 0:51:18. Best: 443 batches ago.\r",
      "Epoch: 3. Batch: 438. Min loss: 2.78047. Estimated time left: 0:52:59. Best: 444 batches ago."
     ]
    },
    {
     "name": "stdout",
     "output_type": "stream",
     "text": [
      "\r",
      "Epoch: 3. Batch: 439. Min loss: 2.78047. Estimated time left: 0:53:42. Best: 445 batches ago.\r",
      "Epoch: 3. Batch: 440. Min loss: 2.78047. Estimated time left: 0:53:45. Best: 446 batches ago."
     ]
    },
    {
     "name": "stdout",
     "output_type": "stream",
     "text": [
      "\r",
      "Epoch: 3. Batch: 441. Min loss: 2.78047. Estimated time left: 0:49:44. Best: 447 batches ago.\r",
      "Epoch: 3. Batch: 442. Min loss: 2.78047. Estimated time left: 0:50:43. Best: 448 batches ago."
     ]
    },
    {
     "name": "stdout",
     "output_type": "stream",
     "text": [
      "\r",
      "Epoch: 3. Batch: 443. Min loss: 2.78047. Estimated time left: 0:52:55. Best: 449 batches ago.\r",
      "Epoch: 3. Batch: 444. Min loss: 2.78047. Estimated time left: 0:53:10. Best: 450 batches ago."
     ]
    },
    {
     "name": "stdout",
     "output_type": "stream",
     "text": [
      "\r",
      "Epoch: 3. Batch: 445. Min loss: 2.78047. Estimated time left: 0:49:38. Best: 451 batches ago.\r",
      "Epoch: 3. Batch: 446. Min loss: 2.78047. Estimated time left: 0:52:33. Best: 452 batches ago."
     ]
    },
    {
     "name": "stdout",
     "output_type": "stream",
     "text": [
      "\r",
      "Epoch: 3. Batch: 447. Min loss: 2.78047. Estimated time left: 0:55:04. Best: 453 batches ago.\r",
      "Epoch: 3. Batch: 448. Min loss: 2.78047. Estimated time left: 0:53:49. Best: 454 batches ago."
     ]
    },
    {
     "name": "stdout",
     "output_type": "stream",
     "text": [
      "\r",
      "Epoch: 3. Batch: 449. Min loss: 2.78047. Estimated time left: 0:50:09. Best: 455 batches ago.\r",
      "Epoch: 3. Batch: 450. Min loss: 2.78047. Estimated time left: 0:53:21. Best: 456 batches ago."
     ]
    },
    {
     "name": "stdout",
     "output_type": "stream",
     "text": [
      "\r",
      "Epoch: 3. Batch: 451. Min loss: 2.78047. Estimated time left: 0:54:55. Best: 457 batches ago.\r",
      "Epoch: 3. Batch: 452. Min loss: 2.78047. Estimated time left: 0:50:01. Best: 458 batches ago."
     ]
    },
    {
     "name": "stdout",
     "output_type": "stream",
     "text": [
      "\r",
      "Epoch: 3. Batch: 453. Min loss: 2.78047. Estimated time left: 0:53:06. Best: 459 batches ago.\r",
      "Epoch: 3. Batch: 454. Min loss: 2.78047. Estimated time left: 0:51:16. Best: 460 batches ago."
     ]
    },
    {
     "name": "stdout",
     "output_type": "stream",
     "text": [
      "\r",
      "Epoch: 3. Batch: 455. Min loss: 2.78047. Estimated time left: 0:53:36. Best: 461 batches ago.\r",
      "Epoch: 3. Batch: 456. Min loss: 2.78047. Estimated time left: 0:49:38. Best: 462 batches ago."
     ]
    },
    {
     "name": "stdout",
     "output_type": "stream",
     "text": [
      "\r",
      "Epoch: 3. Batch: 457. Min loss: 2.78047. Estimated time left: 0:53:16. Best: 463 batches ago.\r",
      "Epoch: 3. Batch: 458. Min loss: 2.78047. Estimated time left: 0:54:01. Best: 464 batches ago."
     ]
    },
    {
     "name": "stdout",
     "output_type": "stream",
     "text": [
      "\r",
      "Epoch: 3. Batch: 459. Min loss: 2.78047. Estimated time left: 0:53:46. Best: 465 batches ago.\r",
      "Epoch: 3. Batch: 460. Min loss: 2.78047. Estimated time left: 0:53:22. Best: 466 batches ago."
     ]
    },
    {
     "name": "stdout",
     "output_type": "stream",
     "text": [
      "\r",
      "Epoch: 3. Batch: 461. Min loss: 2.78047. Estimated time left: 0:53:58. Best: 467 batches ago.\r",
      "Epoch: 3. Batch: 462. Min loss: 2.78047. Estimated time left: 0:46:50. Best: 468 batches ago."
     ]
    },
    {
     "name": "stdout",
     "output_type": "stream",
     "text": [
      "\r",
      "Epoch: 3. Batch: 463. Min loss: 2.78047. Estimated time left: 0:55:16. Best: 469 batches ago.\r",
      "Epoch: 3. Batch: 464. Min loss: 2.78047. Estimated time left: 0:50:53. Best: 470 batches ago."
     ]
    },
    {
     "name": "stdout",
     "output_type": "stream",
     "text": [
      "\r",
      "Epoch: 3. Batch: 465. Min loss: 2.78047. Estimated time left: 0:51:57. Best: 471 batches ago.\r",
      "Epoch: 3. Batch: 466. Min loss: 2.78047. Estimated time left: 0:51:42. Best: 472 batches ago."
     ]
    },
    {
     "name": "stdout",
     "output_type": "stream",
     "text": [
      "\r",
      "Epoch: 3. Batch: 467. Min loss: 2.78047. Estimated time left: 0:55:15. Best: 473 batches ago.\r",
      "Epoch: 3. Batch: 468. Min loss: 2.78047. Estimated time left: 0:58:25. Best: 474 batches ago."
     ]
    },
    {
     "name": "stdout",
     "output_type": "stream",
     "text": [
      "\r",
      "Epoch: 3. Batch: 469. Min loss: 2.78047. Estimated time left: 1:06:26. Best: 475 batches ago."
     ]
    },
    {
     "name": "stdout",
     "output_type": "stream",
     "text": [
      "\r",
      "Epoch: 3. Batch: 470. Min loss: 2.78047. Estimated time left: 1:08:23. Best: 476 batches ago.\r",
      "Epoch: 3. Batch: 471. Min loss: 2.78047. Estimated time left: 0:52:52. Best: 477 batches ago."
     ]
    },
    {
     "name": "stdout",
     "output_type": "stream",
     "text": [
      "\r",
      "Epoch: 3. Batch: 472. Min loss: 2.78047. Estimated time left: 1:09:06. Best: 478 batches ago.\r",
      "Epoch: 3. Batch: 473. Min loss: 2.78047. Estimated time left: 0:54:31. Best: 479 batches ago."
     ]
    },
    {
     "name": "stdout",
     "output_type": "stream",
     "text": [
      "\r",
      "Epoch: 3. Batch: 474. Min loss: 2.78047. Estimated time left: 0:52:22. Best: 480 batches ago.\r",
      "Epoch: 3. Batch: 475. Min loss: 2.78047. Estimated time left: 0:57:07. Best: 481 batches ago."
     ]
    },
    {
     "name": "stdout",
     "output_type": "stream",
     "text": [
      "\r",
      "Epoch: 3. Batch: 476. Min loss: 2.78047. Estimated time left: 0:48:51. Best: 482 batches ago.\r",
      "Epoch: 3. Batch: 477. Min loss: 2.78047. Estimated time left: 1:04:24. Best: 483 batches ago."
     ]
    },
    {
     "name": "stdout",
     "output_type": "stream",
     "text": [
      "\r",
      "Epoch: 3. Batch: 478. Min loss: 2.78047. Estimated time left: 1:09:53. Best: 484 batches ago.\r",
      "Epoch: 3. Batch: 479. Min loss: 2.78047. Estimated time left: 0:52:02. Best: 485 batches ago."
     ]
    },
    {
     "name": "stdout",
     "output_type": "stream",
     "text": [
      "\r",
      "Epoch: 3. Batch: 480. Min loss: 2.78047. Estimated time left: 0:53:23. Best: 486 batches ago.\r",
      "Epoch: 3. Batch: 481. Min loss: 2.78047. Estimated time left: 0:55:17. Best: 487 batches ago."
     ]
    },
    {
     "name": "stdout",
     "output_type": "stream",
     "text": [
      "\r",
      "Epoch: 3. Batch: 482. Min loss: 2.78047. Estimated time left: 0:53:11. Best: 488 batches ago.\r",
      "Epoch: 3. Batch: 483. Min loss: 2.78047. Estimated time left: 0:53:41. Best: 489 batches ago."
     ]
    },
    {
     "name": "stdout",
     "output_type": "stream",
     "text": [
      "\r",
      "Epoch: 3. Batch: 484. Min loss: 2.78047. Estimated time left: 0:53:21. Best: 490 batches ago.\r",
      "Epoch: 3. Batch: 485. Min loss: 2.78047. Estimated time left: 0:50:06. Best: 491 batches ago."
     ]
    },
    {
     "name": "stdout",
     "output_type": "stream",
     "text": [
      "\r",
      "Epoch: 3. Batch: 486. Min loss: 2.78047. Estimated time left: 0:53:36. Best: 492 batches ago.\r",
      "Epoch: 3. Batch: 487. Min loss: 2.78047. Estimated time left: 0:50:55. Best: 493 batches ago."
     ]
    },
    {
     "name": "stdout",
     "output_type": "stream",
     "text": [
      "\r",
      "Epoch: 3. Batch: 488. Min loss: 2.78047. Estimated time left: 0:53:43. Best: 494 batches ago.\r",
      "Epoch: 3. Batch: 489. Min loss: 2.78047. Estimated time left: 0:54:28. Best: 495 batches ago."
     ]
    },
    {
     "name": "stdout",
     "output_type": "stream",
     "text": [
      "\r",
      "Epoch: 3. Batch: 490. Min loss: 2.78047. Estimated time left: 0:55:42. Best: 496 batches ago.\r",
      "Epoch: 3. Batch: 491. Min loss: 2.78047. Estimated time left: 0:50:19. Best: 497 batches ago."
     ]
    },
    {
     "name": "stdout",
     "output_type": "stream",
     "text": [
      "\r",
      "Epoch: 3. Batch: 492. Min loss: 2.78047. Estimated time left: 0:52:14. Best: 498 batches ago.\r",
      "Epoch: 3. Batch: 493. Min loss: 2.78047. Estimated time left: 0:55:28. Best: 499 batches ago."
     ]
    },
    {
     "name": "stdout",
     "output_type": "stream",
     "text": [
      "\r",
      "Epoch: 3. Batch: 494. Min loss: 2.78047. Estimated time left: 1:04:41. Best: 500 batches ago.\r",
      "Epoch: 3. Batch: 495. Min loss: 2.78047. Estimated time left: 1:06:16. Best: 501 batches ago."
     ]
    },
    {
     "name": "stdout",
     "output_type": "stream",
     "text": [
      "\r",
      "Epoch: 3. Batch: 496. Min loss: 2.78047. Estimated time left: 0:56:11. Best: 502 batches ago.\r",
      "Epoch: 3. Batch: 497. Min loss: 2.78047. Estimated time left: 0:52:08. Best: 503 batches ago."
     ]
    },
    {
     "name": "stdout",
     "output_type": "stream",
     "text": [
      "\r",
      "Epoch: 3. Batch: 498. Min loss: 2.78047. Estimated time left: 0:55:18. Best: 504 batches ago.\r",
      "Epoch: 3. Batch: 499. Min loss: 2.78047. Estimated time left: 0:51:21. Best: 505 batches ago."
     ]
    },
    {
     "name": "stdout",
     "output_type": "stream",
     "text": [
      "\r",
      "Epoch: 3. Batch: 500. Min loss: 2.78047. Estimated time left: 0:55:11. Best: 506 batches ago.\r",
      "Epoch: 3. Batch: 501. Min loss: 2.78047. Estimated time left: 0:56:34. Best: 507 batches ago."
     ]
    },
    {
     "name": "stdout",
     "output_type": "stream",
     "text": [
      "\r",
      "Epoch: 3. Batch: 502. Min loss: 2.78047. Estimated time left: 0:55:30. Best: 508 batches ago.\r",
      "Epoch: 3. Batch: 503. Min loss: 2.78047. Estimated time left: 0:54:46. Best: 509 batches ago."
     ]
    },
    {
     "name": "stdout",
     "output_type": "stream",
     "text": [
      "\r",
      "Epoch: 3. Batch: 504. Min loss: 2.78047. Estimated time left: 0:55:53. Best: 510 batches ago.\r",
      "Epoch: 3. Batch: 505. Min loss: 2.78047. Estimated time left: 0:52:27. Best: 511 batches ago."
     ]
    },
    {
     "name": "stdout",
     "output_type": "stream",
     "text": [
      "\r",
      "Epoch: 3. Batch: 506. Min loss: 2.78047. Estimated time left: 0:53:27. Best: 512 batches ago.\r",
      "Epoch: 3. Batch: 507. Min loss: 2.78047. Estimated time left: 0:53:22. Best: 513 batches ago."
     ]
    },
    {
     "name": "stdout",
     "output_type": "stream",
     "text": [
      "\r",
      "Epoch: 3. Batch: 508. Min loss: 2.78047. Estimated time left: 0:53:21. Best: 514 batches ago.\r",
      "Epoch: 3. Batch: 509. Min loss: 2.78047. Estimated time left: 0:49:21. Best: 515 batches ago."
     ]
    },
    {
     "name": "stdout",
     "output_type": "stream",
     "text": [
      "\r",
      "Epoch: 3. Batch: 510. Min loss: 2.78047. Estimated time left: 0:54:55. Best: 516 batches ago.\r",
      "Epoch: 3. Batch: 511. Min loss: 2.78047. Estimated time left: 0:51:16. Best: 517 batches ago."
     ]
    },
    {
     "name": "stdout",
     "output_type": "stream",
     "text": [
      "\r",
      "Epoch: 3. Batch: 512. Min loss: 2.78047. Estimated time left: 0:53:45. Best: 518 batches ago.\r",
      "Epoch: 3. Batch: 513. Min loss: 2.78047. Estimated time left: 0:55:14. Best: 519 batches ago."
     ]
    },
    {
     "name": "stdout",
     "output_type": "stream",
     "text": [
      "\r",
      "Epoch: 3. Batch: 514. Min loss: 2.78047. Estimated time left: 0:52:19. Best: 520 batches ago.\r",
      "Epoch: 3. Batch: 515. Min loss: 2.78047. Estimated time left: 0:54:16. Best: 521 batches ago."
     ]
    },
    {
     "name": "stdout",
     "output_type": "stream",
     "text": [
      "\r",
      "Epoch: 3. Batch: 516. Min loss: 2.78047. Estimated time left: 0:53:09. Best: 522 batches ago.\r",
      "Epoch: 3. Batch: 517. Min loss: 2.78047. Estimated time left: 0:53:40. Best: 523 batches ago."
     ]
    }
   ],
   "source": [
    "# Initialising some variables for use in training\n",
    "batches = 5000 #float(\"inf\")\n",
    "time_diff = 0\n",
    "no_improv = 0\n",
    "min_loss = float(\"inf\")\n",
    "epochs = 20\n",
    "print_stuff = True\n",
    "\n",
    "# Main training loop\n",
    "for epoch in range(epochs):\n",
    "    for i, (batch, labels, valid_elems) in enumerate(base_generator):\n",
    "\n",
    "        # Keeping track of stuff\n",
    "        start_time = datetime.now()\n",
    "\n",
    "        est_time_left = str(time_diff*(min(batches, dataset.__len__()/batch_size) - i) + (time_diff*min(batches, dataset.__len__()/batch_size)) * (epochs - (epoch+1))).split(\".\")[0]\n",
    "        #est_time_left = str(time_diff*(min(batches, dataset.__len__()) - i)+time_diff*(epochs-(epoch+1))*min(batches, dataset.__len__()/batch_size)).split(\".\")[0]\n",
    "        sys.stdout.write(\"\\rEpoch: {0}. Batch: {1}. Min loss: {2:.5f}. Estimated time left: {3}. Best: {4} batches ago.\".format(epoch+1, i+1, min_loss, est_time_left, no_improv))\n",
    "\n",
    "        # Putting data on gpu\n",
    "        batch = batch.to(processor)\n",
    "        labels = labels.to(processor)\n",
    "        valid_elems = valid_elems.to(processor)\n",
    "\n",
    "        # Transposing from (batch x seq x feature_size) to (seq x batch x feature_size)\n",
    "        batch = batch.transpose(0, 1)\n",
    "\n",
    "        # Resetting gradients\n",
    "        model.train()\n",
    "        model.zero_grad()\n",
    "    \n",
    "        if i == 0 and print_stuff:\n",
    "            print(\"\\nInput:\\t\", batch.size())\n",
    "            print(\"Labels:\\t\", labels.size())\n",
    "            print(\"Valid:\\t\", valid_elems)\n",
    "\n",
    "        labels = rnn.pack_padded_sequence(labels, valid_elems, enforce_sorted=False, batch_first=True)\n",
    "\n",
    "        out, hidden = model(batch, valid_elems)\n",
    "        \n",
    "        out = rnn.pack_padded_sequence(out, valid_elems, enforce_sorted=False)\n",
    "        if i == 0 and print_stuff:\n",
    "            print(\"Output:\\t\", out.data.size())\n",
    "            print(\"Hidden:\\t\", hidden.data.size())\n",
    "\n",
    "\n",
    "        #print(out.data.size())\n",
    "        #print(labels.data.size())\n",
    "        loss = loss_function(out.data, labels.data)\n",
    "    \n",
    "        '''\n",
    "        # This bit is replaced by packing labels and the line above\n",
    "        # Backpropping only through the non-padded parts\n",
    "        loss = 0\n",
    "        for j in range(out.size()[1]):\n",
    "        #print(out.size())\n",
    "        #print(torch.narrow(out, 1, j, 1).squeeze(1).size())\n",
    "        \n",
    "        narrowed_out = torch.narrow(torch.narrow(out, 1, j, 1).squeeze(1), 0, 0, valid_elems[j])\n",
    "        narrowed_labels = torch.narrow(labels[j], 0, 0, valid_elems[j])\n",
    "\n",
    "        #print_seq(narrowed_out[0].view(1,2000,23))\n",
    "        \n",
    "        print(narrowed_out.size())\n",
    "        print(narrowed_labels.size())\n",
    "        loss += loss_function(narrowed_out, narrowed_labels)\n",
    "        '''\n",
    "        #loss /= out.size()[1]\n",
    "\n",
    "        loss_list.append(loss.item())\n",
    "        loss.backward()\n",
    "        optimiser.step()\n",
    "\n",
    "        if loss.item() < min_loss:\n",
    "            torch.save(model.state_dict(), \"model.pth\")\n",
    "            min_loss = loss.item()\n",
    "            no_improv = 0\n",
    "        else:\n",
    "            no_improv += 1\n",
    "        \n",
    "    \n",
    "    \n",
    "        # For tracking progress\n",
    "        end_time = datetime.now()\n",
    "        time_diff = end_time - start_time\n",
    "    \n",
    "        # Breaking when it's run through the given number of batches\n",
    "        if i+1 >= batches:\n",
    "            break"
   ]
  },
  {
   "cell_type": "code",
   "execution_count": null,
   "metadata": {
    "collapsed": false
   },
   "outputs": [],
   "source": [
    "# Plotting the loss through the epochs\n",
    "plt.plot(loss_list)\n",
    "#plt.scatter(range(len(loss_list)), loss_list)\n",
    "plt.title(\"Loss plotted through each batch\")\n",
    "plt.ylabel(\"Loss\")\n",
    "plt.xlabel(\"Batch number\")\n",
    "#plt.yscale(\"log\")\n",
    "#plt.xscale(\"log\")\n",
    "plt.savefig(\"loss_log.png\")"
   ]
  },
  {
   "cell_type": "code",
   "execution_count": null,
   "metadata": {
    "collapsed": false
   },
   "outputs": [],
   "source": [
    "# Predicting\n",
    "accuracies = []\n",
    "with torch.no_grad():\n",
    "    # Loading saved model from file\n",
    "    model.load_state_dict(torch.load(\"model.pth\"))\n",
    "    #model.eval()\n",
    "\n",
    "    # Initalising data generator\n",
    "    #dataset = Dataset(small_file, max_seq_len, acids=acids)\n",
    "    #base_generator = data.DataLoader(dataset, batch_size=32, shuffle=True, num_workers=8)\n",
    "\n",
    "    correct = 0\n",
    "    \n",
    "    # For loops is easiest way to get an element from\n",
    "    # the generator even though we only loop once\n",
    "    for i, (batch, labels, valid_elems) in enumerate(base_generator):\n",
    "        test = batch\n",
    "        batch = batch.to(processor)\n",
    "        labels = labels.to(processor)\n",
    "\n",
    "        # Transposing from (batch x seq x feature_size) to (seq x batch x feature_size)\n",
    "        batch = batch.transpose(0,1)\n",
    "        #labels = torch.transpose(labels, 0, 1)\n",
    "\n",
    "        #batch = rnn.pack_padded_sequence(batch, valid_elems, enforce_sorted=False)\n",
    "\n",
    "        out, hidden = model(batch, valid_elems)\n",
    "\n",
    "        out = out.transpose(0,1)\n",
    "\n",
    "        print(out.size())\n",
    "        print(valid_elems.size())\n",
    "        for j in range(batch_size):\n",
    "            preds = torch.argmax(out[j], dim=1)[:valid_elems[j]]\n",
    "            actual = labels[j][:valid_elems[j]]\n",
    "            truths = [1 if pred == truth else 0 for pred, truth in zip(preds, actual)]\n",
    "            correct += sum(truths)\n",
    "        accuracy = correct/(torch.sum(valid_elems).item())\n",
    "        break\n",
    "    \n",
    "print(\"Test Accuracy: {0:.3f}%\".format(accuracy*100))\n",
    "print(labels.size())\n",
    "\n",
    "#print(torch.argmax(out[0], dim=1))\n",
    "#print(torch.max(out[0,:10], dim=1))\n",
    "#print(torch.argmax(out[0,:10], dim=1))\n",
    "#print(out[0,:10])\n",
    "\n",
    "print(\"\\nPredictions\")\n",
    "print_seq(out[0].view(1,out.size()[1], out.size()[2]), valid_elems, acids)\n",
    "#print_seq(out, valid_elems, acids)\n",
    "print(\"\\nInput\")\n",
    "#print(test.size())\n",
    "print_test = \"\"\n",
    "for elem in test[0][:valid_elems[0]]:\n",
    "    print_test += acids[elem]\n",
    "print(print_test)\n",
    "#print_seq(test[0].view(1,test.size()[1], test.size()[2]), valid_elems, acids)\n",
    "\n",
    "print_labels = \"\"\n",
    "for elem in labels[0][:valid_elems[0]]:\n",
    "    print_labels += acids[elem]\n",
    "\n",
    "print(\"\\nLabels\")\n",
    "print(print_labels)\n",
    "\n",
    "#print_seq(out, valid_elems)\n"
   ]
  },
  {
   "cell_type": "code",
   "execution_count": null,
   "metadata": {
    "collapsed": false
   },
   "outputs": [],
   "source": []
  }
 ],
 "metadata": {
  "colab": {
   "collapsed_sections": null,
   "machine_shape": "hm",
   "name": "Copy of protein_stuff.ipynb",
   "provenance": null
  },
  "kernelspec": {
   "argv": [
    "/usr/bin/python3",
    "-m",
    "ipykernel_launcher",
    "-f",
    "{connection_file}"
   ],
   "display_name": "Python 3",
   "env": null,
   "interrupt_mode": "signal",
   "language": "python",
   "metadata": null,
   "name": "python3"
  },
  "language_info": {
   "codemirror_mode": {
    "name": "ipython",
    "version": 3
   },
   "file_extension": ".py",
   "mimetype": "text/x-python",
   "name": "python",
   "nbconvert_exporter": "python",
   "pygments_lexer": "ipython3",
   "version": "3.7.4"
  },
  "name": "protein_stuff.ipynb"
 },
 "nbformat": 4,
 "nbformat_minor": 1
}
