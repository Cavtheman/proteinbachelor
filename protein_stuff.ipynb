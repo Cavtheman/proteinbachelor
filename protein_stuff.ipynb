{
 "cells": [
  {
   "cell_type": "code",
   "execution_count": null,
   "metadata": {
    "colab": null,
    "colab_type": "code",
    "id": "pUVIpevFD2hz"
   },
   "outputs": [],
   "source": [
    "import torch\n",
    "import torch.nn as nn\n",
    "import torch.nn.functional as F\n",
    "import torch.optim as optim\n",
    "\n",
    "torch.manual_seed(1)\n",
    "\n",
    "import numpy as np\n",
    "import matplotlib.pyplot as plt\n",
    "import sys\n",
    "from Bio import SeqIO\n",
    "from data_generator import data_generator\n",
    "\n",
    "#from google.colab import drive"
   ]
  },
  {
   "cell_type": "code",
   "execution_count": null,
   "metadata": {},
   "outputs": [],
   "source": [
    "large_file = \"uniref50.fasta\"\n",
    "small_file = \"100k_rows.fasta\"\n",
    "\n",
    "data_gen = data_generator(large_file, 2000)\n",
    "data_gen.gen_data(1000)\n",
    "print(len(data_gen.data))"
   ]
  },
  {
   "cell_type": "code",
   "execution_count": null,
   "metadata": {
    "colab": null,
    "colab_type": "code",
    "id": "0fW6iTAJ0ovz"
   },
   "outputs": [],
   "source": [
    "class LSTM_model():\n",
    "    def __init__(self, input_size, hidden_layer_size, nr_hidden_layers, feature_size):\n",
    "        self.input_size = input_size\n",
    "        self.hidden_layer_size = hidden_layer_size\n",
    "        self.nr_hidden_layers = nr_hidden_layers\n",
    "        \n",
    "        self.embeddings = nn.Embedding(feature_size, input_size)\n",
    "        \n",
    "        self.model = nn.LSTM(input_size, hidden_layer_size, nr_hidden_layers)\n",
    "        \n",
    "        self.linear = nn.Linear(hidden_layer_size, feature_size)\n",
    "        \n",
    "    def forward(self, input_data):\n",
    "        embeds = self.embeddings(input_data)\n",
    "        lstm_out, _ = self.model(input_data)#embeds)#.view(len(input_data), 1, -1))\n",
    "        tag_space = self.linear(lstm_out)#.view(len(input_data), -1))\n",
    "        tag_scores = F.log_softmax(tag_space, dim=1)\n",
    "        return tag_scores"
   ]
  },
  {
   "cell_type": "code",
   "execution_count": null,
   "metadata": {
    "colab": {
     "base_uri": "https://localhost:8080/",
     "height": 392
    },
    "colab_type": "code",
    "id": "t-iqHWc70ov2",
    "outputId": "1b587ddf-d41b-4909-ad96-d14b5bd43df3"
   },
   "outputs": [],
   "source": [
    "test = LSTM_model(data_gen.max_seq_len,500,1,26)\n",
    "\n",
    "test_data = test.forward(data_gen.data)\n",
    "\n",
    "\n",
    "#output = test.forward(char_seqs)\n",
    "#output = output.detach().numpy()\n",
    "#argmax = np.argmax(output[0])\n",
    "#print(argmax)\n",
    "#print(output[0][argmax])"
   ]
  }
 ],
 "metadata": {
  "colab": {
   "collapsed_sections": null,
   "machine_shape": "hm",
   "name": "Copy of protein_stuff.ipynb",
   "provenance": null
  },
  "kernelspec": {
   "display_name": "Python 3",
   "language": "python",
   "name": "python3"
  },
  "language_info": {
   "codemirror_mode": {
    "name": "ipython",
    "version": 3
   },
   "file_extension": ".py",
   "mimetype": "text/x-python",
   "name": "python",
   "nbconvert_exporter": "python",
   "pygments_lexer": "ipython3",
   "version": "3.7.4"
  },
  "name": "protein_stuff.ipynb"
 },
 "nbformat": 4,
 "nbformat_minor": 1
}
