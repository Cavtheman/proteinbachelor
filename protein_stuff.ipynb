{
 "cells": [
  {
   "cell_type": "code",
   "execution_count": 1,
   "metadata": {},
   "outputs": [],
   "source": [
    "import torch\n",
    "import torch.nn as nn\n",
    "import torch.nn.functional as F\n",
    "import torch.optim as optim\n",
    "\n",
    "torch.manual_seed(1)\n",
    "\n",
    "import numpy as np\n",
    "import matplotlib.pyplot as plt\n",
    "import sys\n",
    "from Bio import SeqIO"
   ]
  },
  {
   "cell_type": "code",
   "execution_count": 2,
   "metadata": {},
   "outputs": [
    {
     "name": "stdout",
     "output_type": "stream",
     "text": [
      "Reading in data...<generator object FastaIterator at 0x124df81d0>\n"
     ]
    }
   ],
   "source": [
    "filename = \"100k_rows.fasta\"\n",
    "#aa1_to_index = {'A': 0, 'C': 1, 'D': 2, 'E': 3, 'F': 4, 'G': 5, 'H': 6,\n",
    "#                    'I': 7, 'K': 8, 'L': 9, 'M': 10, 'N': 11, 'P': 12,\n",
    "#                    'Q': 13, 'R': 14, 'S': 15, 'T': 16, 'V': 17, 'W': 18,\n",
    "#                    'Y': 19, 'X':20, 'NOSEQ':21, '-': 22}\n",
    "\n",
    "acid_dict = {}\n",
    "#aa1_to_index = {'A':0, 'B':1}\n",
    "\n",
    "#print(aa1_to_index['B'])\n",
    "print(\"Reading in data...\", end='')\n",
    "sys.stdout.flush()\n",
    "seqs = []\n",
    "char_seqs = []\n",
    "counter = 0\n",
    "count = 0\n",
    "max_seq_len = 0\n",
    "print(SeqIO.parse(filename, \"fasta\"))\n",
    "\n",
    "num_seq = 5000\n",
    "\n",
    "for record in SeqIO.parse(filename, \"fasta\"):\n",
    "\n",
    "    # Stupid way to generate the dictionary\n",
    "    for elem in str(record.seq).upper():\n",
    "        if not (elem in acid_dict):\n",
    "            temp_arr = np.zeros(26)\n",
    "            temp_arr[len(acid_dict)] = 1\n",
    "            acid_dict[elem] = temp_arr\n",
    "    max_seq_len = max(max_seq_len, len(record.seq))\n",
    "    #seqs.append(np.array([acid_dict[aa] for aa in str(record.seq).upper()]))\n",
    "    char_seqs.append(np.array([aa for aa in str(record.seq).upper()]))\n",
    "    if (count > num_seq - 2):\n",
    "        break\n",
    "    else:\n",
    "        count += 1\n"
   ]
  },
  {
   "cell_type": "code",
   "execution_count": 3,
   "metadata": {},
   "outputs": [],
   "source": [
    "append_val = np.array([0 if i != 25 else 1 for i in range(26)]).astype('float')\n",
    "\n",
    "acid_dict.update({'-': append_val})"
   ]
  },
  {
   "cell_type": "code",
   "execution_count": 4,
   "metadata": {},
   "outputs": [],
   "source": [
    "#print(acid_dict['-'])\n",
    "#print(len(seqs))\n",
    "#print(len(seqs[0]))\n",
    "#print(len(seqs[0][0]))\n",
    "\n",
    "for i in range(len(seqs)):\n",
    "    #temp_mat = np.full((max_seq_len-seqs[i].shape[0], len(acid_dict['-'])),acid_dict['-'])\n",
    "    #seqs[i] = np.concatenate((seqs[i],temp_mat), axis=0)\n",
    "    char_seqs[i] = np.pad(seqs[i],(0,(max_seq_len-seqs[i].shape[0])),'constant', constant_values=('-'))\n",
    "\n"
   ]
  },
  {
   "cell_type": "code",
   "execution_count": 6,
   "metadata": {},
   "outputs": [],
   "source": [
    "#batch_size = 250\n",
    "#train_samples = int(len(seqs) * 0.8)\n",
    "#train_data = torch.utils.data.TensorDataset(seqs[:train_samples])\n",
    "#train_loader = torch.utils.data.DataLoader(train_data, batch_size=batch_size,\n",
    "#                                               shuffle=True)\n",
    "#test_data = torch.utils.data.TensorDataset(seqs[train_samples:])\n",
    "#test_loader = torch.utils.data.DataLoader(test_data, batch_size=batch_size,\n",
    "#                                              shuffle=False)\n",
    "#print(dir(train_loader))\n",
    "#print(dir(train_loader.dataset))\n",
    "#print(len(train_loader.dataset.tensors[0][0]))\n"
   ]
  },
  {
   "cell_type": "code",
   "execution_count": 56,
   "metadata": {},
   "outputs": [],
   "source": [
    "class LSTM_model():\n",
    "    def __init__(self, input_size, hidden_layer_size, nr_hidden_layers, feature_size):\n",
    "        self.input_size = input_size\n",
    "        self.hidden_layer_size = hidden_layer_size\n",
    "        self.nr_hidden_layers = nr_hidden_layers\n",
    "        \n",
    "        self.word_embeddings = nn.Embedding(feature_size, input_size)\n",
    "        \n",
    "        self.model = nn.LSTM(input_size, hidden_layer_size, nr_hidden_layers)\n",
    "        \n",
    "        self.linear = nn.Linear(hidden_layer_size, feature_size)\n",
    "        \n",
    "    def forward(self, input_data):\n",
    "        embeds = self.word_embeddings(input_data)\n",
    "        lstm_out, _ = self.model(embeds.view(len(input_data), 1, -1))\n",
    "        tag_space = self.linear(lstm_out.view(len(input_data), -1))\n",
    "        tag_scores = F.log_softmax(tag_space, dim=1)\n",
    "        return tag_scores"
   ]
  },
  {
   "cell_type": "code",
   "execution_count": 63,
   "metadata": {},
   "outputs": [
    {
     "name": "stdout",
     "output_type": "stream",
     "text": [
      "9\n",
      "-2.8289971\n"
     ]
    }
   ],
   "source": [
    "test = LSTM_model(10287,500,1,26)\n",
    "\n",
    "output = test.forward(char_seqs)\n",
    "output = output.detach().numpy()\n",
    "argmax = np.argmax(output[0])\n",
    "print(argmax)\n",
    "print(output[0][argmax])"
   ]
  },
  {
   "cell_type": "code",
   "execution_count": null,
   "metadata": {},
   "outputs": [],
   "source": []
  },
  {
   "cell_type": "code",
   "execution_count": null,
   "metadata": {},
   "outputs": [],
   "source": []
  },
  {
   "cell_type": "code",
   "execution_count": null,
   "metadata": {},
   "outputs": [],
   "source": []
  },
  {
   "cell_type": "code",
   "execution_count": null,
   "metadata": {},
   "outputs": [],
   "source": []
  },
  {
   "cell_type": "code",
   "execution_count": null,
   "metadata": {},
   "outputs": [],
   "source": []
  },
  {
   "cell_type": "code",
   "execution_count": null,
   "metadata": {},
   "outputs": [],
   "source": []
  },
  {
   "cell_type": "code",
   "execution_count": null,
   "metadata": {},
   "outputs": [],
   "source": [
    "\n",
    "#seqs = np.random.choice(full_seqs, 100000, False)\n",
    "\n",
    "max_length = max([len(seq) for seq in seqs])\n",
    "\n",
    "data = torch.empty((len(seqs), max_length))\n",
    "for i, seq in enumerate(seqs):\n",
    "    #print(seq)\n",
    "    data[i, :] = torch.from_numpy(seq)\n",
    "print(\"done\")\n",
    "\n",
    "print(\"Data shape: \", data.shape)\n",
    "\n",
    "train_samples = int(len(data) * 0.8)\n",
    "train_data = torch.utils.data.TensorDataset(data[:train_samples])\n",
    "train_loader = torch.utils.data.DataLoader(train_data, batch_size=batch_size,\n",
    "                                               shuffle=True)\n",
    "test_data = torch.utils.data.TensorDataset(data[train_samples:])\n",
    "test_loader = torch.utils.data.DataLoader(test_data, batch_size=batch_size,\n",
    "                                              shuffle=False)"
   ]
  },
  {
   "cell_type": "code",
   "execution_count": null,
   "metadata": {},
   "outputs": [],
   "source": []
  }
 ],
 "metadata": {
  "kernelspec": {
   "display_name": "Python 3",
   "language": "python",
   "name": "python3"
  },
  "language_info": {
   "codemirror_mode": {
    "name": "ipython",
    "version": 3
   },
   "file_extension": ".py",
   "mimetype": "text/x-python",
   "name": "python",
   "nbconvert_exporter": "python",
   "pygments_lexer": "ipython3",
   "version": "3.7.4"
  },
  "name": "protein_stuff.ipynb"
 },
 "nbformat": 4,
 "nbformat_minor": 2
}
