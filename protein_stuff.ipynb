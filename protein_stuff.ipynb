{
 "cells": [
  {
   "cell_type": "code",
   "execution_count": null,
   "metadata": {
    "colab": {
     "base_uri": "https://localhost:8080/",
     "height": 139
    },
    "colab_type": "code",
    "id": "gsOGiCg10ovj",
    "outputId": "96fb02ad-54e7-4d15-bd04-42cdfa89337e"
   },
   "outputs": [],
   "source": [
    "!pip install biopython\n"
   ]
  },
  {
   "cell_type": "code",
   "execution_count": null,
   "metadata": {
    "colab": {},
    "colab_type": "code",
    "id": "pUVIpevFD2hz"
   },
   "outputs": [],
   "source": [
    "import torch\n",
    "import torch.nn as nn\n",
    "import torch.nn.functional as F\n",
    "import torch.optim as optim\n",
    "\n",
    "torch.manual_seed(1)\n",
    "\n",
    "import numpy as np\n",
    "import matplotlib.pyplot as plt\n",
    "import sys\n",
    "from Bio import SeqIO\n",
    "\n",
    "from google.colab import drive"
   ]
  },
  {
   "cell_type": "code",
   "execution_count": null,
   "metadata": {
    "colab": {
     "base_uri": "https://localhost:8080/",
     "height": 34
    },
    "colab_type": "code",
    "id": "uhOjVVf-0yjP",
    "outputId": "fa78a760-3f14-4e35-c166-94144305e0c1"
   },
   "outputs": [],
   "source": [
    "uploaded = drive.mount('drive_data')"
   ]
  },
  {
   "cell_type": "code",
   "execution_count": 2,
   "metadata": {},
   "outputs": [],
   "source": [
    "def __init__(self, filename, max_seq_length, acid_dict={}):\n",
    "    if (acid_dict == {}):\n",
    "        self.acid_dict = self.gen_acid_dict()\n",
    "    else:\n",
    "        self.acid_dict = acid_dict\n",
    "        self.data = []\n",
    "        self.max_seq_length = max_seq_length\n",
    "\n",
    "        self.__parser__ = SeqIO.parse(filename, \"fasta\")\n",
    "    \n",
    "        # If a sequence contains one of XBZJ it will be discarded,\n",
    "        # and if it is longer than the given max_seq_length\n",
    "        def __is_legal_seq__(self, seq):\n",
    "            len_val = not (len(seq) > self.max_seq_length)\n",
    "            cont_val = not(('X' in seq) or ('B' in seq) or ('Z' in seq) or ('J' in seq))\n",
    "            return len_val and cont_val\n",
    "    \n",
    "        # Generate a dictionary if none is supplied\\n\",\n",
    "        def gen_acid_dict(self):\n",
    "            num = 0\n",
    "            acid_dict = {}\n",
    "            for letter in ascii_uppercase:\n",
    "                acid_dict[str(letter)] = num\n",
    "                num += 1\n",
    "            acid_dict[\"NOSEQ\"] = num\n",
    "            self.acid_dict = acid_dict\n",
    "            return acid_dict\n",
    "            \n",
    "        # Read num_elems sequences from the given file\n",
    "        def gen_data(self, num_elems):\n",
    "            for i, record in enumerate(self.__parser__):\n",
    "                # [self.acid_dict[aa] for aa in str(record.seq).upper()]\n",
    "                if (i == num_elems):\n",
    "                    break\n",
    "                elif (not self.__is_legal_seq__(record.seq)):\n",
    "                    continue\n",
    "                else:\n",
    "                    self.data.append(str(record.seq).upper())\n",
    "\n",
    "                #raw_data.append([self.acid_dict[aa] for aa in str(record.seq).upper()])"
   ]
  },
  {
   "cell_type": "code",
   "execution_count": null,
   "metadata": {
    "colab": {
     "base_uri": "https://localhost:8080/",
     "height": 34
    },
    "colab_type": "code",
    "id": "CYs6s1E60ovo",
    "outputId": "194f6c63-ed5e-44c1-a0fa-0446b5e4c014"
   },
   "outputs": [],
   "source": [
    "filename = \"/content/drive_data/My Drive/proteinData/100k_rows.fasta\"\n",
    "#aa1_to_index = {'A': 0, 'C': 1, 'D': 2, 'E': 3, 'F': 4, 'G': 5, 'H': 6,\n",
    "#                    'I': 7, 'K': 8, 'L': 9, 'M': 10, 'N': 11, 'P': 12,\n",
    "#                    'Q': 13, 'R': 14, 'S': 15, 'T': 16, 'V': 17, 'W': 18,\n",
    "#                    'Y': 19, 'X':20, 'NOSEQ':21, '-': 22}\n",
    "\n",
    "acid_dict = {}\n",
    "#aa1_to_index = {'A':0, 'B':1}\n",
    "\n",
    "#print(aa1_to_index['B'])\n",
    "print(\"Reading in data...\", end='')\n",
    "sys.stdout.flush()\n",
    "seqs = []\n",
    "char_seqs = []\n",
    "counter = 0\n",
    "count = 0\n",
    "max_seq_len = 0\n",
    "print(SeqIO.parse(filename, \"fasta\"))\n",
    "\n",
    "num_seq = 5000\n",
    "\n",
    "for record in SeqIO.parse(filename, \"fasta\"):\n",
    "\n",
    "    # Stupid way to generate the dictionary\n",
    "    for elem in str(record.seq).upper():\n",
    "        if not (elem in acid_dict):\n",
    "            temp_arr = np.zeros(26)\n",
    "            temp_arr[len(acid_dict)] = 1\n",
    "            acid_dict[elem] = temp_arr\n",
    "    max_seq_len = max(max_seq_len, len(record.seq))\n",
    "    seqs.append(np.array([acid_dict[aa] for aa in str(record.seq).upper()]))\n",
    "    char_seqs.append(np.array([aa for aa in str(record.seq).upper()]))\n",
    "    if (count > num_seq - 2):\n",
    "        break\n",
    "    else:\n",
    "        count += 1\n",
    "append_val = np.array([0 if i != 25 else 1 for i in range(26)]).astype('float')\n",
    "\n",
    "acid_dict.update({'-': append_val})"
   ]
  },
  {
   "cell_type": "code",
   "execution_count": null,
   "metadata": {
    "colab": {
     "base_uri": "https://localhost:8080/",
     "height": 136
    },
    "colab_type": "code",
    "id": "BoQQih1c0ovr",
    "outputId": "4e8e49b8-65ee-41cd-bf51-a4f8e5656f6c"
   },
   "outputs": [],
   "source": [
    "print(seqs[0])"
   ]
  },
  {
   "cell_type": "code",
   "execution_count": null,
   "metadata": {
    "colab": {
     "base_uri": "https://localhost:8080/",
     "height": 34
    },
    "colab_type": "code",
    "id": "7OoZiwRk0ovu",
    "outputId": "d9779e1b-ddfb-4118-94fd-94568f68984f"
   },
   "outputs": [],
   "source": [
    "def prepare_seq(seq, dict_val, maxlen):\n",
    "    temp_mat = np.full((maxlen-seq.shape[0], len(acid_dict['-'])),acid_dict['-'])\n",
    "    ret_seq = np.concatenate((seq,temp_mat), axis=0)\n",
    "    return torch.tensor(ret_seq, dtype=torch.long)\n",
    "\n",
    "test_seqs = prepare_seq(seqs[0], acid_dict, max_seq_len)\n",
    "print(type(seqs[0]))\n",
    "#print(acid_dict['-'])\n",
    "#print(len(seqs))\n",
    "#print(len(seqs[0]))\n",
    "#print(len(seqs[0][0]))\n",
    "\n",
    "#for i in range(len(seqs)):\n",
    "#    temp_mat = np.full((max_seq_len-seqs[i].shape[0], len(acid_dict['-'])),acid_dict['-'])\n",
    "#    seqs[i] = np.concatenate((seqs[i],temp_mat), axis=0)\n",
    "#    char_seqs[i] = np.pad(seqs[i],(0,(max_seq_len-seqs[i].shape[0])),'constant', constant_values=('-'))\n",
    "\n",
    "#def prepare_seq(seq, dict_val, maxlen):\n",
    "#    ret_seq = np.full((maxlen, len(acid_dict['-'])),acid_dict['-'])\n",
    "#    for i, val in enumerate(seq):\n",
    "#      ret_seq[i] = acid_dict[val]\n",
    "\n",
    "#    return torch.tensor(ret_seq, dtype=torch.long)"
   ]
  },
  {
   "cell_type": "code",
   "execution_count": null,
   "metadata": {
    "colab": {},
    "colab_type": "code",
    "id": "4aGCNDxv0ovx"
   },
   "outputs": [],
   "source": [
    "#batch_size = 250\n",
    "#train_samples = int(len(seqs) * 0.8)\n",
    "#train_data = torch.utils.data.TensorDataset(seqs[:train_samples])\n",
    "#train_loader = torch.utils.data.DataLoader(train_data, batch_size=batch_size,\n",
    "#                                               shuffle=True)\n",
    "#test_data = torch.utils.data.TensorDataset(seqs[train_samples:])\n",
    "#test_loader = torch.utils.data.DataLoader(test_data, batch_size=batch_size,\n",
    "#                                              shuffle=False)\n",
    "#print(dir(train_loader))\n",
    "#print(dir(train_loader.dataset))\n",
    "#print(len(train_loader.dataset.tensors[0][0]))\n"
   ]
  },
  {
   "cell_type": "code",
   "execution_count": null,
   "metadata": {
    "colab": {},
    "colab_type": "code",
    "id": "0fW6iTAJ0ovz"
   },
   "outputs": [],
   "source": [
    "class LSTM_model():\n",
    "    def __init__(self, input_size, hidden_layer_size, nr_hidden_layers, feature_size):\n",
    "        self.input_size = input_size\n",
    "        self.hidden_layer_size = hidden_layer_size\n",
    "        self.nr_hidden_layers = nr_hidden_layers\n",
    "        \n",
    "        self.embeddings = nn.Embedding(feature_size, input_size)\n",
    "        \n",
    "        self.model = nn.LSTM(input_size, hidden_layer_size, nr_hidden_layers)\n",
    "        \n",
    "        self.linear = nn.Linear(hidden_layer_size, feature_size)\n",
    "        \n",
    "    def forward(self, input_data):\n",
    "        embeds = self.embeddings(input_data)\n",
    "        lstm_out, _ = self.model(input_data)#embeds)#.view(len(input_data), 1, -1))\n",
    "        tag_space = self.linear(lstm_out)#.view(len(input_data), -1))\n",
    "        tag_scores = F.log_softmax(tag_space, dim=1)\n",
    "        return tag_scores"
   ]
  },
  {
   "cell_type": "code",
   "execution_count": null,
   "metadata": {
    "colab": {
     "base_uri": "https://localhost:8080/",
     "height": 392
    },
    "colab_type": "code",
    "id": "t-iqHWc70ov2",
    "outputId": "1b587ddf-d41b-4909-ad96-d14b5bd43df3"
   },
   "outputs": [],
   "source": [
    "test = LSTM_model(max_seq_len,500,1,26)\n",
    "\n",
    "for seq in seqs:\n",
    "    seq_input = prepare_seq(seq, acid_dict, max_seq_len)\n",
    "    print(len(seq_input[0]))\n",
    "    tag_scores = test.forward(seq_input)\n",
    "    print(dir(tag_scores))\n",
    "    break\n",
    "\n",
    "\n",
    "#output = test.forward(char_seqs)\n",
    "#output = output.detach().numpy()\n",
    "#argmax = np.argmax(output[0])\n",
    "#print(argmax)\n",
    "#print(output[0][argmax])"
   ]
  },
  {
   "cell_type": "code",
   "execution_count": null,
   "metadata": {
    "colab": {},
    "colab_type": "code",
    "id": "SiFcFqPR0ov6"
   },
   "outputs": [],
   "source": []
  },
  {
   "cell_type": "code",
   "execution_count": null,
   "metadata": {
    "colab": {},
    "colab_type": "code",
    "id": "_14DqTVu0ov8"
   },
   "outputs": [],
   "source": []
  },
  {
   "cell_type": "code",
   "execution_count": null,
   "metadata": {
    "colab": {},
    "colab_type": "code",
    "id": "pXwLxefT0ov-"
   },
   "outputs": [],
   "source": []
  },
  {
   "cell_type": "code",
   "execution_count": null,
   "metadata": {
    "colab": {},
    "colab_type": "code",
    "id": "gElLxWuA0owB"
   },
   "outputs": [],
   "source": []
  },
  {
   "cell_type": "code",
   "execution_count": null,
   "metadata": {
    "colab": {},
    "colab_type": "code",
    "id": "Po3nHgVA0owD"
   },
   "outputs": [],
   "source": []
  },
  {
   "cell_type": "code",
   "execution_count": null,
   "metadata": {
    "colab": {},
    "colab_type": "code",
    "id": "8X8Xm_Wq0owF"
   },
   "outputs": [],
   "source": []
  },
  {
   "cell_type": "code",
   "execution_count": null,
   "metadata": {
    "colab": {},
    "colab_type": "code",
    "id": "xmUnkTVB0owJ"
   },
   "outputs": [],
   "source": [
    "\n",
    "#seqs = np.random.choice(full_seqs, 100000, False)\n",
    "\n",
    "max_length = max([len(seq) for seq in seqs])\n",
    "\n",
    "data = torch.empty((len(seqs), max_length))\n",
    "for i, seq in enumerate(seqs):\n",
    "    #print(seq)\n",
    "    data[i, :] = torch.from_numpy(seq)\n",
    "print(\"done\")\n",
    "\n",
    "print(\"Data shape: \", data.shape)\n",
    "\n",
    "train_samples = int(len(data) * 0.8)\n",
    "train_data = torch.utils.data.TensorDataset(data[:train_samples])\n",
    "train_loader = torch.utils.data.DataLoader(train_data, batch_size=batch_size,\n",
    "                                               shuffle=True)\n",
    "test_data = torch.utils.data.TensorDataset(data[train_samples:])\n",
    "test_loader = torch.utils.data.DataLoader(test_data, batch_size=batch_size,\n",
    "                                              shuffle=False)"
   ]
  },
  {
   "cell_type": "code",
   "execution_count": null,
   "metadata": {
    "colab": {},
    "colab_type": "code",
    "id": "jJp9eEy60owM"
   },
   "outputs": [],
   "source": []
  }
 ],
 "metadata": {
  "colab": {
   "collapsed_sections": [],
   "machine_shape": "hm",
   "name": "Copy of protein_stuff.ipynb",
   "provenance": []
  },
  "kernelspec": {
   "display_name": "Python 3",
   "language": "python",
   "name": "python3"
  },
  "language_info": {
   "codemirror_mode": {
    "name": "ipython",
    "version": 3
   },
   "file_extension": ".py",
   "mimetype": "text/x-python",
   "name": "python",
   "nbconvert_exporter": "python",
   "pygments_lexer": "ipython3",
   "version": "3.7.4"
  },
  "name": "protein_stuff.ipynb"
 },
 "nbformat": 4,
 "nbformat_minor": 1
}
