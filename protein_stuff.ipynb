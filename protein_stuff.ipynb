{
 "cells": [
  {
   "cell_type": "code",
   "execution_count": 2,
   "metadata": {
    "collapsed": false
   },
   "outputs": [],
   "source": [
    "import torch\n",
    "import torch.nn as nn\n",
    "import torch.nn.functional as F\n",
    "import torch.optim as optim\n",
    "\n",
    "torch.manual_seed(1)\n",
    "\n",
    "import numpy as np\n",
    "import matplotlib.pyplot as plt\n",
    "import sys\n",
    "from Bio import SeqIO"
   ]
  },
  {
   "cell_type": "code",
   "execution_count": 22,
   "metadata": {
    "collapsed": false
   },
   "outputs": [
    {
     "name": "stdout",
     "output_type": "stream",
     "text": [
      "Reading in data..."
     ]
    },
    {
     "name": "stdout",
     "output_type": "stream",
     "text": [
      "<generator object FastaIterator at 0x7f7cedf88bf8>\n"
     ]
    },
    {
     "name": "stdout",
     "output_type": "stream",
     "text": [
      "['A', 'B', 'C', 'D', 'E', 'F', 'G', 'H', 'I', 'K', 'L', 'M', 'N', 'O', 'P', 'Q', 'R', 'S', 'T', 'U', 'V', 'W', 'X', 'Y', 'Z']\n"
     ]
    },
    {
     "data": {
      "text/plain": [
       "'\\nmax_length = max([len(seq) for seq in seqs])\\n\\ndata = torch.empty((len(seqs), max_length))\\nfor i, seq in enumerate(seqs):\\n    #print(seq)\\n    data[i, :] = torch.from_numpy(seq)\\nprint(\"done\")\\n\\nprint(\"Data shape: \", data.shape)\\n\\ntrain_samples = int(len(data) * 0.8)\\ntrain_data = torch.utils.data.TensorDataset(data[:train_samples])\\ntrain_loader = torch.utils.data.DataLoader(train_data, batch_size=batch_size,\\n                                               shuffle=True)\\ntest_data = torch.utils.data.TensorDataset(data[train_samples:])\\ntest_loader = torch.utils.data.DataLoader(test_data, batch_size=batch_size,\\n                                              shuffle=False)\\n'"
      ]
     },
     "execution_count": 22,
     "metadata": {},
     "output_type": "execute_result"
    }
   ],
   "source": [
    "filename = \"uniref50.fasta\"\n",
    "#aa1_to_index = {'A': 0, 'C': 1, 'D': 2, 'E': 3, 'F': 4, 'G': 5, 'H': 6,\n",
    "#                    'I': 7, 'K': 8, 'L': 9, 'M': 10, 'N': 11, 'P': 12,\n",
    "#                    'Q': 13, 'R': 14, 'S': 15, 'T': 16, 'V': 17, 'W': 18,\n",
    "#                    'Y': 19, 'X':20, 'NOSEQ':21, '-': 22}\n",
    "\n",
    "temp_dict = {}\n",
    "#aa1_to_index = {'A':0, 'B':1}\n",
    "\n",
    "#print(aa1_to_index['B'])\n",
    "print(\"Reading in data...\", end='')\n",
    "sys.stdout.flush()\n",
    "seqs = []\n",
    "counter = 0\n",
    "count = 0\n",
    "print(SeqIO.parse(filename, \"fasta\"))\n",
    "\n",
    "num_seq = 100000\n",
    "\n",
    "for record in SeqIO.parse(filename, \"fasta\"):\n",
    "    #seqs.append(np.array([aa1_to_index[aa] for aa in str(record.seq).upper()]))\n",
    "    for elem in str(record.seq).upper():\n",
    "        if not (elem in temp_dict):\n",
    "            temp_arr = np.zeros(25)\n",
    "            temp_arr[len(temp_dict)] = 1\n",
    "            temp_dict[elem] = temp_arr\n",
    "    if (count > num_seq - 2):\n",
    "        break\n",
    "    else:\n",
    "        count += 1\n",
    "\n",
    "temp = []\n",
    "for i in temp_dict:\n",
    "    #print(i)\n",
    "    temp.append(i)\n",
    "\n",
    "temp.sort()\n",
    "print(temp)\n",
    "\n",
    "#seqs = np.random.choice(full_seqs, 100000, False)\n",
    "\n",
    "'''\n",
    "max_length = max([len(seq) for seq in seqs])\n",
    "\n",
    "data = torch.empty((len(seqs), max_length))\n",
    "for i, seq in enumerate(seqs):\n",
    "    #print(seq)\n",
    "    data[i, :] = torch.from_numpy(seq)\n",
    "print(\"done\")\n",
    "\n",
    "print(\"Data shape: \", data.shape)\n",
    "\n",
    "train_samples = int(len(data) * 0.8)\n",
    "train_data = torch.utils.data.TensorDataset(data[:train_samples])\n",
    "train_loader = torch.utils.data.DataLoader(train_data, batch_size=batch_size,\n",
    "                                               shuffle=True)\n",
    "test_data = torch.utils.data.TensorDataset(data[train_samples:])\n",
    "test_loader = torch.utils.data.DataLoader(test_data, batch_size=batch_size,\n",
    "                                              shuffle=False)\n",
    "'''"
   ]
  },
  {
   "cell_type": "code",
   "execution_count": null,
   "metadata": {
    "collapsed": false
   },
   "outputs": [],
   "source": []
  }
 ],
 "metadata": {
  "kernelspec": {
   "argv": [
    "/usr/bin/python3",
    "-m",
    "ipykernel_launcher",
    "-f",
    "{connection_file}"
   ],
   "display_name": "Python 3",
   "env": null,
   "interrupt_mode": "signal",
   "language": "python",
   "metadata": null,
   "name": "python3"
  },
  "name": "protein_stuff.ipynb"
 },
 "nbformat": 4,
 "nbformat_minor": 2
}
