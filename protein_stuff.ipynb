{
 "cells": [
  {
   "cell_type": "code",
   "execution_count": 5,
   "metadata": {
    "colab": null,
    "colab_type": "code",
    "id": "pUVIpevFD2hz"
   },
   "outputs": [],
   "source": [
    "import torch\n",
    "import torch.nn as nn\n",
    "import torch.nn.functional as F\n",
    "import torch.optim as optim\n",
    "\n",
    "torch.manual_seed(1)\n",
    "\n",
    "import numpy as np\n",
    "import matplotlib.pyplot as plt\n",
    "import sys\n",
    "from Bio import SeqIO\n",
    "from data_generator import data_generator\n",
    "\n",
    "#from google.colab import drive"
   ]
  },
  {
   "cell_type": "code",
   "execution_count": 19,
   "metadata": {},
   "outputs": [
    {
     "name": "stdout",
     "output_type": "stream",
     "text": [
      "1000\n"
     ]
    }
   ],
   "source": [
    "large_file = \"uniref50.fasta\"\n",
    "small_file = \"100k_rows.fasta\"\n",
    "\n",
    "data_gen = data_generator(large_file, 2000)\n",
    "data_gen.gen_data(1000)\n",
    "print(len(data_gen.data))"
   ]
  },
  {
   "cell_type": "code",
   "execution_count": 11,
   "metadata": {
    "colab": null,
    "colab_type": "code",
    "id": "0fW6iTAJ0ovz"
   },
   "outputs": [],
   "source": [
    "class LSTM_model():\n",
    "    def __init__(self, input_size, hidden_layer_size, nr_hidden_layers, feature_size):\n",
    "        self.input_size = input_size\n",
    "        self.hidden_layer_size = hidden_layer_size\n",
    "        self.nr_hidden_layers = nr_hidden_layers\n",
    "        \n",
    "        self.embeddings = nn.Embedding(feature_size, input_size)\n",
    "        \n",
    "        self.model = nn.LSTM(input_size, hidden_layer_size, nr_hidden_layers)\n",
    "        \n",
    "        self.linear = nn.Linear(hidden_layer_size, feature_size)\n",
    "        \n",
    "    def forward(self, input_data):\n",
    "        embeds = self.embeddings(input_data)\n",
    "        lstm_out, _ = self.model(input_data)#embeds)#.view(len(input_data), 1, -1))\n",
    "        tag_space = self.linear(lstm_out)#.view(len(input_data), -1))\n",
    "        tag_scores = F.log_softmax(tag_space, dim=1)\n",
    "        return tag_scores"
   ]
  },
  {
   "cell_type": "code",
   "execution_count": 27,
   "metadata": {
    "colab": {
     "base_uri": "https://localhost:8080/",
     "height": 392
    },
    "colab_type": "code",
    "id": "t-iqHWc70ov2",
    "outputId": "1b587ddf-d41b-4909-ad96-d14b5bd43df3"
   },
   "outputs": [
    {
     "ename": "ValueError",
     "evalue": "only one element tensors can be converted to Python scalars",
     "output_type": "error",
     "traceback": [
      "\u001b[0;31m---------------------------------------------------------------------------\u001b[0m",
      "\u001b[0;31mValueError\u001b[0m                                Traceback (most recent call last)",
      "\u001b[0;32m<ipython-input-27-6df42b968207>\u001b[0m in \u001b[0;36m<module>\u001b[0;34m\u001b[0m\n\u001b[1;32m      1\u001b[0m \u001b[0mtest\u001b[0m \u001b[0;34m=\u001b[0m \u001b[0mLSTM_model\u001b[0m\u001b[0;34m(\u001b[0m\u001b[0mdata_gen\u001b[0m\u001b[0;34m.\u001b[0m\u001b[0mmax_seq_len\u001b[0m\u001b[0;34m,\u001b[0m\u001b[0;36m500\u001b[0m\u001b[0;34m,\u001b[0m\u001b[0;36m1\u001b[0m\u001b[0;34m,\u001b[0m\u001b[0;36m26\u001b[0m\u001b[0;34m)\u001b[0m\u001b[0;34m\u001b[0m\u001b[0;34m\u001b[0m\u001b[0m\n\u001b[0;32m----> 2\u001b[0;31m \u001b[0mseqs\u001b[0m \u001b[0;34m=\u001b[0m \u001b[0mnp\u001b[0m\u001b[0;34m.\u001b[0m\u001b[0marray\u001b[0m\u001b[0;34m(\u001b[0m\u001b[0;34m(\u001b[0m\u001b[0mdata_gen\u001b[0m\u001b[0;34m.\u001b[0m\u001b[0mdata\u001b[0m\u001b[0;34m)\u001b[0m\u001b[0;34m)\u001b[0m\u001b[0;34m\u001b[0m\u001b[0;34m\u001b[0m\u001b[0m\n\u001b[0m\u001b[1;32m      3\u001b[0m \u001b[0mseqs\u001b[0m \u001b[0;34m=\u001b[0m \u001b[0mtorch\u001b[0m\u001b[0;34m.\u001b[0m\u001b[0mfrom_numpy\u001b[0m\u001b[0;34m(\u001b[0m\u001b[0;34m(\u001b[0m\u001b[0mseqs\u001b[0m\u001b[0;34m)\u001b[0m\u001b[0;34m,\u001b[0m \u001b[0mdtype\u001b[0m\u001b[0;34m=\u001b[0m\u001b[0mtorch\u001b[0m\u001b[0;34m.\u001b[0m\u001b[0mlong\u001b[0m\u001b[0;34m)\u001b[0m\u001b[0;34m\u001b[0m\u001b[0;34m\u001b[0m\u001b[0m\n\u001b[1;32m      4\u001b[0m \u001b[0;34m\u001b[0m\u001b[0m\n\u001b[1;32m      5\u001b[0m \u001b[0;32mfor\u001b[0m \u001b[0mseq\u001b[0m \u001b[0;32min\u001b[0m \u001b[0mseqs\u001b[0m\u001b[0;34m:\u001b[0m\u001b[0;34m\u001b[0m\u001b[0;34m\u001b[0m\u001b[0m\n",
      "\u001b[0;31mValueError\u001b[0m: only one element tensors can be converted to Python scalars"
     ]
    }
   ],
   "source": [
    "test = LSTM_model(data_gen.max_seq_len,500,1,26)\n",
    "\n",
    "for seq in seqs:\n",
    "    seq_input = prepare_seq(seq, acid_dict, max_seq_len)\n",
    "    print(len(seq_input[0]))\n",
    "    tag_scores = test.forward(seq_input)\n",
    "    print(dir(tag_scores))\n",
    "    break\n",
    "\n",
    "\n",
    "#output = test.forward(char_seqs)\n",
    "#output = output.detach().numpy()\n",
    "#argmax = np.argmax(output[0])\n",
    "#print(argmax)\n",
    "#print(output[0][argmax])"
   ]
  },
  {
   "cell_type": "code",
   "execution_count": null,
   "metadata": {
    "colab": null,
    "colab_type": "code",
    "id": "xmUnkTVB0owJ"
   },
   "outputs": [],
   "source": [
    "\n",
    "#seqs = np.random.choice(full_seqs, 100000, False)\n",
    "\n",
    "max_length = max([len(seq) for seq in seqs])\n",
    "\n",
    "data = torch.empty((len(seqs), max_length))\n",
    "for i, seq in enumerate(seqs):\n",
    "    #print(seq)\n",
    "    data[i, :] = torch.from_numpy(seq)\n",
    "print(\"done\")\n",
    "\n",
    "print(\"Data shape: \", data.shape)\n",
    "\n",
    "train_samples = int(len(data) * 0.8)\n",
    "train_data = torch.utils.data.TensorDataset(data[:train_samples])\n",
    "train_loader = torch.utils.data.DataLoader(train_data, batch_size=batch_size,\n",
    "                                               shuffle=True)\n",
    "test_data = torch.utils.data.TensorDataset(data[train_samples:])\n",
    "test_loader = torch.utils.data.DataLoader(test_data, batch_size=batch_size,\n",
    "                                              shuffle=False)"
   ]
  }
 ],
 "metadata": {
  "colab": {
   "collapsed_sections": null,
   "machine_shape": "hm",
   "name": "Copy of protein_stuff.ipynb",
   "provenance": null
  },
  "kernelspec": {
   "display_name": "Python 3",
   "language": "python",
   "name": "python3"
  },
  "language_info": {
   "codemirror_mode": {
    "name": "ipython",
    "version": 3
   },
   "file_extension": ".py",
   "mimetype": "text/x-python",
   "name": "python",
   "nbconvert_exporter": "python",
   "pygments_lexer": "ipython3",
   "version": "3.7.4"
  },
  "name": "protein_stuff.ipynb"
 },
 "nbformat": 4,
 "nbformat_minor": 1
}
